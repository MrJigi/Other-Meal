{
 "cells": [
  {
   "cell_type": "code",
   "execution_count": 37,
   "metadata": {
    "collapsed": true,
    "pycharm": {
     "name": "#%%\n"
    }
   },
   "outputs": [],
   "source": [
    "import pandas as pd"
   ]
  },
  {
   "cell_type": "code",
   "execution_count": 38,
   "outputs": [],
   "source": [
    "RAW_recipes = r\"C:\\Users\\evald\\Desktop\\Ai minor\\dataset\\Recipes\\archive\\RAW_recipes.csv\"\n",
    "\n",
    "df = pd.read_csv(RAW_recipes)"
   ],
   "metadata": {
    "collapsed": false,
    "pycharm": {
     "name": "#%%\n"
    }
   }
  },
  {
   "cell_type": "code",
   "execution_count": 39,
   "outputs": [
    {
     "data": {
      "text/plain": "                                                raw_ingr  raw_words  \\\n0      medium heads bibb or red leaf lettuce, washed,...         13   \n1                  mixed baby lettuces and spring greens          6   \n2                                   romaine lettuce leaf          3   \n3                                   iceberg lettuce leaf          3   \n4                                    red romaine lettuce          3   \n...                                                  ...        ...   \n11654                                           soybeans          1   \n11655                                              goose          1   \n11656                                             ajwain          1   \n11657                                           brinjals          1   \n11658                                              khoya          1   \n\n                                               processed  len_proc replaced  \\\n0      medium heads bibb or red leaf lettuce, washed,...        73  lettuce   \n1                   mixed baby lettuces and spring green        36  lettuce   \n2                                   romaine lettuce leaf        20  lettuce   \n3                                   iceberg lettuce leaf        20  lettuce   \n4                                    red romaine lettuce        19  lettuce   \n...                                                  ...       ...      ...   \n11654                                            soybean         7  soybean   \n11655                                              goose         5    goose   \n11656                                             ajwain         6   ajwain   \n11657                                            brinjal         7  brinjal   \n11658                                              khoya         5    khoya   \n\n       count    id  \n0       4507  4308  \n1       4507  4308  \n2       4507  4308  \n3       4507  4308  \n4       4507  4308  \n...      ...   ...  \n11654     31  6702  \n11655      8  3318  \n11656     13    47  \n11657      2   750  \n11658      6  4061  \n\n[11659 rows x 7 columns]",
      "text/html": "<div>\n<style scoped>\n    .dataframe tbody tr th:only-of-type {\n        vertical-align: middle;\n    }\n\n    .dataframe tbody tr th {\n        vertical-align: top;\n    }\n\n    .dataframe thead th {\n        text-align: right;\n    }\n</style>\n<table border=\"1\" class=\"dataframe\">\n  <thead>\n    <tr style=\"text-align: right;\">\n      <th></th>\n      <th>raw_ingr</th>\n      <th>raw_words</th>\n      <th>processed</th>\n      <th>len_proc</th>\n      <th>replaced</th>\n      <th>count</th>\n      <th>id</th>\n    </tr>\n  </thead>\n  <tbody>\n    <tr>\n      <th>0</th>\n      <td>medium heads bibb or red leaf lettuce, washed,...</td>\n      <td>13</td>\n      <td>medium heads bibb or red leaf lettuce, washed,...</td>\n      <td>73</td>\n      <td>lettuce</td>\n      <td>4507</td>\n      <td>4308</td>\n    </tr>\n    <tr>\n      <th>1</th>\n      <td>mixed baby lettuces and spring greens</td>\n      <td>6</td>\n      <td>mixed baby lettuces and spring green</td>\n      <td>36</td>\n      <td>lettuce</td>\n      <td>4507</td>\n      <td>4308</td>\n    </tr>\n    <tr>\n      <th>2</th>\n      <td>romaine lettuce leaf</td>\n      <td>3</td>\n      <td>romaine lettuce leaf</td>\n      <td>20</td>\n      <td>lettuce</td>\n      <td>4507</td>\n      <td>4308</td>\n    </tr>\n    <tr>\n      <th>3</th>\n      <td>iceberg lettuce leaf</td>\n      <td>3</td>\n      <td>iceberg lettuce leaf</td>\n      <td>20</td>\n      <td>lettuce</td>\n      <td>4507</td>\n      <td>4308</td>\n    </tr>\n    <tr>\n      <th>4</th>\n      <td>red romaine lettuce</td>\n      <td>3</td>\n      <td>red romaine lettuce</td>\n      <td>19</td>\n      <td>lettuce</td>\n      <td>4507</td>\n      <td>4308</td>\n    </tr>\n    <tr>\n      <th>...</th>\n      <td>...</td>\n      <td>...</td>\n      <td>...</td>\n      <td>...</td>\n      <td>...</td>\n      <td>...</td>\n      <td>...</td>\n    </tr>\n    <tr>\n      <th>11654</th>\n      <td>soybeans</td>\n      <td>1</td>\n      <td>soybean</td>\n      <td>7</td>\n      <td>soybean</td>\n      <td>31</td>\n      <td>6702</td>\n    </tr>\n    <tr>\n      <th>11655</th>\n      <td>goose</td>\n      <td>1</td>\n      <td>goose</td>\n      <td>5</td>\n      <td>goose</td>\n      <td>8</td>\n      <td>3318</td>\n    </tr>\n    <tr>\n      <th>11656</th>\n      <td>ajwain</td>\n      <td>1</td>\n      <td>ajwain</td>\n      <td>6</td>\n      <td>ajwain</td>\n      <td>13</td>\n      <td>47</td>\n    </tr>\n    <tr>\n      <th>11657</th>\n      <td>brinjals</td>\n      <td>1</td>\n      <td>brinjal</td>\n      <td>7</td>\n      <td>brinjal</td>\n      <td>2</td>\n      <td>750</td>\n    </tr>\n    <tr>\n      <th>11658</th>\n      <td>khoya</td>\n      <td>1</td>\n      <td>khoya</td>\n      <td>5</td>\n      <td>khoya</td>\n      <td>6</td>\n      <td>4061</td>\n    </tr>\n  </tbody>\n</table>\n<p>11659 rows × 7 columns</p>\n</div>"
     },
     "execution_count": 39,
     "metadata": {},
     "output_type": "execute_result"
    }
   ],
   "source": [
    "pkl_recipes = r\"C:\\Users\\evald\\Desktop\\Ai minor\\dataset\\Recipes\\archive\\ingr_map.pkl\"\n",
    "\n",
    "df_mapping = pd.read_pickle(pkl_recipes)\n",
    "df_mapping"
   ],
   "metadata": {
    "collapsed": false,
    "pycharm": {
     "name": "#%%\n"
    }
   }
  },
  {
   "cell_type": "code",
   "execution_count": 40,
   "outputs": [
    {
     "data": {
      "text/plain": "                 raw_ingr  raw_words            processed  len_proc  \\\n4713  winter squash puree          3  winter squash puree        19   \n7889        winter squash          2        winter squash        13   \n\n                 replaced  count    id  \n4713  winter squash puree      3  7934  \n7889        winter squash     48  7933  ",
      "text/html": "<div>\n<style scoped>\n    .dataframe tbody tr th:only-of-type {\n        vertical-align: middle;\n    }\n\n    .dataframe tbody tr th {\n        vertical-align: top;\n    }\n\n    .dataframe thead th {\n        text-align: right;\n    }\n</style>\n<table border=\"1\" class=\"dataframe\">\n  <thead>\n    <tr style=\"text-align: right;\">\n      <th></th>\n      <th>raw_ingr</th>\n      <th>raw_words</th>\n      <th>processed</th>\n      <th>len_proc</th>\n      <th>replaced</th>\n      <th>count</th>\n      <th>id</th>\n    </tr>\n  </thead>\n  <tbody>\n    <tr>\n      <th>4713</th>\n      <td>winter squash puree</td>\n      <td>3</td>\n      <td>winter squash puree</td>\n      <td>19</td>\n      <td>winter squash puree</td>\n      <td>3</td>\n      <td>7934</td>\n    </tr>\n    <tr>\n      <th>7889</th>\n      <td>winter squash</td>\n      <td>2</td>\n      <td>winter squash</td>\n      <td>13</td>\n      <td>winter squash</td>\n      <td>48</td>\n      <td>7933</td>\n    </tr>\n  </tbody>\n</table>\n</div>"
     },
     "execution_count": 40,
     "metadata": {},
     "output_type": "execute_result"
    }
   ],
   "source": [
    "df_mapping[df_mapping.processed.str.contains('winter squash')]"
   ],
   "metadata": {
    "collapsed": false,
    "pycharm": {
     "name": "#%%\n"
    }
   }
  },
  {
   "cell_type": "code",
   "execution_count": 41,
   "outputs": [
    {
     "name": "stderr",
     "output_type": "stream",
     "text": [
      "C:\\Users\\evald\\AppData\\Local\\Temp\\ipykernel_33988\\3589866021.py:1: FutureWarning: The default value of regex will change from True to False in a future version.\n",
      "  s_ingr = df.ingredients.str.replace('(\\[|\\])', '')\n"
     ]
    }
   ],
   "source": [
    "s_ingr = df.ingredients.str.replace('(\\[|\\])', '')"
   ],
   "metadata": {
    "collapsed": false,
    "pycharm": {
     "name": "#%%\n"
    }
   }
  },
  {
   "cell_type": "code",
   "execution_count": 42,
   "outputs": [
    {
     "name": "stderr",
     "output_type": "stream",
     "text": [
      "C:\\Users\\evald\\AppData\\Local\\Temp\\ipykernel_33988\\401213809.py:1: FutureWarning: The default value of regex will change from True to False in a future version.\n",
      "  s_ingr = s_ingr.str.replace('(\\')', '')\n"
     ]
    }
   ],
   "source": [
    "s_ingr = s_ingr.str.replace('(\\')', '')"
   ],
   "metadata": {
    "collapsed": false,
    "pycharm": {
     "name": "#%%\n"
    }
   }
  },
  {
   "cell_type": "code",
   "execution_count": 43,
   "outputs": [],
   "source": [
    "s_ing = s_ingr.apply(lambda x: x.split(','))"
   ],
   "metadata": {
    "collapsed": false,
    "pycharm": {
     "name": "#%%\n"
    }
   }
  },
  {
   "cell_type": "code",
   "execution_count": 44,
   "outputs": [],
   "source": [
    "def do(arr):\n",
    "    \"\"\"\n",
    "    docstring\n",
    "    \"\"\"\n",
    "    temp = []\n",
    "    for i in arr:\n",
    "        temp.append(i.strip())\n",
    "    return temp"
   ],
   "metadata": {
    "collapsed": false,
    "pycharm": {
     "name": "#%%\n"
    }
   }
  },
  {
   "cell_type": "code",
   "execution_count": 45,
   "outputs": [
    {
     "data": {
      "text/plain": "0         [winter squash, mexican seasoning, mixed spice...\n1         [prepared pizza crust, sausage patty, eggs, mi...\n2         [ground beef, yellow onions, diced tomatoes, t...\n3         [spreadable cheese with garlic and herbs, new ...\n4         [tomato juice, apple cider vinegar, sugar, sal...\n                                ...                        \n231632    [celery, onion, green sweet pepper, garlic clo...\n231633    [paprika, salt, garlic powder, onion powder, d...\n231634    [hard-cooked eggs, mayonnaise, dijon mustard, ...\n231635    [butter, eagle brand condensed milk, light bro...\n231636    [granulated sugar, shortening, eggs, flour, cr...\nName: ingredients, Length: 231637, dtype: object"
     },
     "execution_count": 45,
     "metadata": {},
     "output_type": "execute_result"
    }
   ],
   "source": [
    "s_ing = s_ing.apply(do)\n",
    "s_ing"
   ],
   "metadata": {
    "collapsed": false,
    "pycharm": {
     "name": "#%%\n"
    }
   }
  },
  {
   "cell_type": "code",
   "execution_count": 65,
   "outputs": [
    {
     "name": "stdout",
     "output_type": "stream",
     "text": [
      "                 replaced  count\n",
      "0     's baking chocolate      1\n",
      "1       's chocolate chip      1\n",
      "2       's hugs chocolate      1\n",
      "3                's sauce      1\n",
      "4           's sour cream      1\n",
      "...                   ...    ...\n",
      "8018           ziploc bag      2\n",
      "8019          ziti pastum      1\n",
      "8020         ziti rigatus      1\n",
      "8021             zucchini      2\n",
      "8022       zwieback toast      1\n",
      "\n",
      "[8023 rows x 2 columns]\n"
     ]
    }
   ],
   "source": [
    "# UniqueSet = df_mapping.groupby(by=['replaced'])['id'].count().sort_values(ascending=False)\n",
    "UniqueSet = df_mapping.groupby(['replaced'])['id'].agg(['count'])\n",
    "UniqueSet.reset_index(inplace=True)\n",
    "print(UniqueSet)\n"
   ],
   "metadata": {
    "collapsed": false,
    "pycharm": {
     "name": "#%%\n"
    }
   }
  },
  {
   "cell_type": "code",
   "execution_count": 66,
   "outputs": [
    {
     "data": {
      "text/plain": "          replaced  count\n912       cake mix   85.0\n1168       cheddar   84.0\n1316         chile   99.0\n1910  cream cheese   41.0\n2200      dressing  163.0\n4308       lettuce   42.0\n5365        pickle   79.0\n6324       sausage  154.0\n7258      tortilla   82.0",
      "text/html": "<div>\n<style scoped>\n    .dataframe tbody tr th:only-of-type {\n        vertical-align: middle;\n    }\n\n    .dataframe tbody tr th {\n        vertical-align: top;\n    }\n\n    .dataframe thead th {\n        text-align: right;\n    }\n</style>\n<table border=\"1\" class=\"dataframe\">\n  <thead>\n    <tr style=\"text-align: right;\">\n      <th></th>\n      <th>replaced</th>\n      <th>count</th>\n    </tr>\n  </thead>\n  <tbody>\n    <tr>\n      <th>912</th>\n      <td>cake mix</td>\n      <td>85.0</td>\n    </tr>\n    <tr>\n      <th>1168</th>\n      <td>cheddar</td>\n      <td>84.0</td>\n    </tr>\n    <tr>\n      <th>1316</th>\n      <td>chile</td>\n      <td>99.0</td>\n    </tr>\n    <tr>\n      <th>1910</th>\n      <td>cream cheese</td>\n      <td>41.0</td>\n    </tr>\n    <tr>\n      <th>2200</th>\n      <td>dressing</td>\n      <td>163.0</td>\n    </tr>\n    <tr>\n      <th>4308</th>\n      <td>lettuce</td>\n      <td>42.0</td>\n    </tr>\n    <tr>\n      <th>5365</th>\n      <td>pickle</td>\n      <td>79.0</td>\n    </tr>\n    <tr>\n      <th>6324</th>\n      <td>sausage</td>\n      <td>154.0</td>\n    </tr>\n    <tr>\n      <th>7258</th>\n      <td>tortilla</td>\n      <td>82.0</td>\n    </tr>\n  </tbody>\n</table>\n</div>"
     },
     "execution_count": 66,
     "metadata": {},
     "output_type": "execute_result"
    }
   ],
   "source": [
    "testCount = UniqueSet.where(UniqueSet['count'] > 40).dropna()\n",
    "testCount.head(10)"
   ],
   "metadata": {
    "collapsed": false,
    "pycharm": {
     "name": "#%%\n"
    }
   }
  },
  {
   "cell_type": "code",
   "execution_count": null,
   "outputs": [],
   "source": [
    "# box plots which ingredients show up more frequently in recipes\n"
   ],
   "metadata": {
    "collapsed": false,
    "pycharm": {
     "name": "#%%\n"
    }
   }
  },
  {
   "cell_type": "code",
   "execution_count": null,
   "outputs": [],
   "source": [
    "UniqueSet = food_df.groupby(['contributor_id'])['id'].agg(['count'])\n",
    "# UniqueSet.rename(index={0:\"IdCount\"})\n",
    "# UniqueSet.head(20)\n",
    "\n",
    "UniqueSet.reset_index(inplace=True)"
   ],
   "metadata": {
    "collapsed": false,
    "pycharm": {
     "name": "#%%\n"
    }
   }
  },
  {
   "cell_type": "code",
   "execution_count": 47,
   "outputs": [
    {
     "data": {
      "text/plain": "0         [winter squash, mexican seasoning, mixed spice...\n1         [prepared pizza crust, sausage patty, eggs, mi...\n2         [ground beef, yellow onions, diced tomatoes, t...\n3         [spreadable cheese with garlic and herbs, new ...\n4         [tomato juice, apple cider vinegar, sugar, sal...\n                                ...                        \n231632    [celery, onion, green sweet pepper, garlic clo...\n231633    [paprika, salt, garlic powder, onion powder, d...\n231634    [hard-cooked eggs, mayonnaise, dijon mustard, ...\n231635    [butter, eagle brand condensed milk, light bro...\n231636    [granulated sugar, shortening, eggs, flour, cr...\nLength: 231637, dtype: object"
     },
     "execution_count": 47,
     "metadata": {},
     "output_type": "execute_result"
    }
   ],
   "source": [
    "pd.Series(s_ing.values)"
   ],
   "metadata": {
    "collapsed": false,
    "pycharm": {
     "name": "#%%\n"
    }
   }
  },
  {
   "cell_type": "code",
   "execution_count": 47,
   "outputs": [],
   "source": [],
   "metadata": {
    "collapsed": false,
    "pycharm": {
     "name": "#%%\n"
    }
   }
  },
  {
   "cell_type": "code",
   "execution_count": 48,
   "outputs": [],
   "source": [
    "import numpy as np"
   ],
   "metadata": {
    "collapsed": false,
    "pycharm": {
     "name": "#%%\n"
    }
   }
  },
  {
   "cell_type": "code",
   "execution_count": 49,
   "outputs": [],
   "source": [
    "ar_Ingredients = pd.Series(np.concatenate(s_ing))\n"
   ],
   "metadata": {
    "collapsed": false,
    "pycharm": {
     "name": "#%%\n"
    }
   }
  },
  {
   "cell_type": "code",
   "execution_count": 50,
   "outputs": [],
   "source": [
    "TestDf_Ingredients = pd.DataFrame({'Ingredients' : ar_Ingredients})\n",
    "# TestDf_Ingredients\n",
    "# ar_Ingredients[ar_Ingredients.str.contains('chicken')]\n",
    "# df_mapping[df_mapping.processed.str.contains('winter squash')]\n",
    "\n",
    "# TestDf_Ingredients2 = pd.merge({'Ingredients':ar_Ingredients , 'IngredientId':df_mapping}, how=\"left\", on=[\"Ingredients\",\"processed\"])\n",
    "# TestDf_Ingredients2"
   ],
   "metadata": {
    "collapsed": false,
    "pycharm": {
     "name": "#%%\n"
    }
   }
  },
  {
   "cell_type": "code",
   "execution_count": 54,
   "outputs": [],
   "source": [
    "matchedIngredients = pd.concat([TestDf_Ingredients,df_mapping.processed ], keys=[\"id\"], axis=1).reindex(df_mapping.index)\n",
    "# matchedIngredients.reset_index(inplace=True)\n",
    "\n",
    "#Rename collums\n",
    "# matchedIngredients.rename(columns={'mean':'average_rating','count':'votes'},inplace=True)\n"
   ],
   "metadata": {
    "collapsed": false,
    "pycharm": {
     "name": "#%%\n"
    }
   }
  },
  {
   "cell_type": "code",
   "execution_count": 55,
   "outputs": [
    {
     "data": {
      "text/plain": "                     id\n            Ingredients\n0         winter squash\n1     mexican seasoning\n2           mixed spice\n3                 honey\n4                butter\n5             olive oil\n6                  salt\n7  prepared pizza crust\n8         sausage patty\n9                  eggs",
      "text/html": "<div>\n<style scoped>\n    .dataframe tbody tr th:only-of-type {\n        vertical-align: middle;\n    }\n\n    .dataframe tbody tr th {\n        vertical-align: top;\n    }\n\n    .dataframe thead tr th {\n        text-align: left;\n    }\n</style>\n<table border=\"1\" class=\"dataframe\">\n  <thead>\n    <tr>\n      <th></th>\n      <th>id</th>\n    </tr>\n    <tr>\n      <th></th>\n      <th>Ingredients</th>\n    </tr>\n  </thead>\n  <tbody>\n    <tr>\n      <th>0</th>\n      <td>winter squash</td>\n    </tr>\n    <tr>\n      <th>1</th>\n      <td>mexican seasoning</td>\n    </tr>\n    <tr>\n      <th>2</th>\n      <td>mixed spice</td>\n    </tr>\n    <tr>\n      <th>3</th>\n      <td>honey</td>\n    </tr>\n    <tr>\n      <th>4</th>\n      <td>butter</td>\n    </tr>\n    <tr>\n      <th>5</th>\n      <td>olive oil</td>\n    </tr>\n    <tr>\n      <th>6</th>\n      <td>salt</td>\n    </tr>\n    <tr>\n      <th>7</th>\n      <td>prepared pizza crust</td>\n    </tr>\n    <tr>\n      <th>8</th>\n      <td>sausage patty</td>\n    </tr>\n    <tr>\n      <th>9</th>\n      <td>eggs</td>\n    </tr>\n  </tbody>\n</table>\n</div>"
     },
     "execution_count": 55,
     "metadata": {},
     "output_type": "execute_result"
    }
   ],
   "source": [
    "matchedIngredients.head(10)"
   ],
   "metadata": {
    "collapsed": false,
    "pycharm": {
     "name": "#%%\n"
    }
   }
  }
 ],
 "metadata": {
  "kernelspec": {
   "display_name": "Python 3",
   "language": "python",
   "name": "python3"
  },
  "language_info": {
   "codemirror_mode": {
    "name": "ipython",
    "version": 2
   },
   "file_extension": ".py",
   "mimetype": "text/x-python",
   "name": "python",
   "nbconvert_exporter": "python",
   "pygments_lexer": "ipython2",
   "version": "2.7.6"
  }
 },
 "nbformat": 4,
 "nbformat_minor": 0
}