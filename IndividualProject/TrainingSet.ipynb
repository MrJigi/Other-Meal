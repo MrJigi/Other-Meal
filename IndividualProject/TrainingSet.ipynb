{
 "cells": [
  {
   "cell_type": "code",
   "execution_count": 50,
   "outputs": [
    {
     "name": "stdout",
     "output_type": "stream",
     "text": [
      "numpy version: 1.23.3\n",
      "pandas version: 1.5.0\n",
      "scikit-learn version: 1.1.2\n",
      "json version: 2.0.9\n",
      "matplotlib version: 3.6.0\n"
     ]
    }
   ],
   "source": [
    "import json.decoder\n",
    "\n",
    "import numpy as np\n",
    "import pandas as pd\n",
    "import sklearn as sk\n",
    "import json as json\n",
    "import matplotlib\n",
    "\n",
    "import pickle as pk\n",
    "import matplotlib.pyplot as plt\n",
    "from IPython.display import display\n",
    "\n",
    "\n",
    "\n",
    "print('numpy version:', np.__version__)\n",
    "print('pandas version:', pd.__version__)\n",
    "print('scikit-learn version:', sk.__version__)\n",
    "print('json version:', json.__version__)\n",
    "print('matplotlib version:', matplotlib.__version__)"
   ],
   "metadata": {
    "collapsed": false,
    "pycharm": {
     "name": "#%%\n"
    }
   }
  },
  {
   "cell_type": "markdown",
   "source": [
    "ExpectedRecipeModel : ['RecipeId','RecipeName','recipeBy','recipeDescribtion','recipePrepareTime','Servings?','recipeIngredients','recipeDirections','Nutritions', 'ImageLink','Rating']\n",
    "Get the data set and define how you will define the model\n",
    "Recipe Model : ['recipeId', 'recipeName', 'recipeIngredients', 'recipeDescription', 'recipeRating','recipeAuthor']\n",
    "RecipeRating : ['recipeId', 'recipeRating' , 'recipeComment']\n",
    "UserInput :\n",
    "https://www.youtube.com/watch?v=R64Lh1Qwl_0"
   ],
   "metadata": {
    "collapsed": false,
    "pycharm": {
     "name": "#%% md\n"
    }
   }
  },
  {
   "cell_type": "code",
   "execution_count": 94,
   "metadata": {
    "collapsed": true,
    "pycharm": {
     "name": "#%%\n"
    }
   },
   "outputs": [
    {
     "name": "stdout",
     "output_type": "stream",
     "text": [
      "<bound method DataFrame.info of             id                                        name_tokens  \\\n",
      "0       424415  [40480, 37229, 2911, 1019, 249, 6878, 6878, 28...   \n",
      "1       146223       [40480, 18376, 7056, 246, 1531, 2032, 40481]   \n",
      "2       312329     [40480, 21044, 16954, 8294, 556, 10837, 40481]   \n",
      "3        74301                       [40480, 10025, 31156, 40481]   \n",
      "4        76272  [40480, 17841, 252, 782, 2373, 1641, 2373, 252...   \n",
      "...        ...                                                ...   \n",
      "178260  323143  [40480, 6444, 1964, 9369, 486, 569, 17551, 40481]   \n",
      "178261  149114           [40480, 17027, 24715, 974, 11877, 40481]   \n",
      "178262   34200           [40480, 12187, 11434, 1738, 2627, 40481]   \n",
      "178263   30618  [40480, 870, 488, 1325, 519, 2220, 2417, 488, ...   \n",
      "178264  263840                 [40480, 30565, 12316, 1024, 40481]   \n",
      "\n",
      "                                        ingredient_tokens  \\\n",
      "0       [[2911, 1019, 249, 6878], [1353], [6953], [153...   \n",
      "1       [[17918], [25916], [2507, 6444], [8467, 1179],...   \n",
      "2       [[5867, 24176], [1353], [6953], [1301, 11332],...   \n",
      "3       [[1270, 1645, 28447], [21601], [27952, 29471, ...   \n",
      "4       [[1430, 11434], [1430, 17027], [1615, 23, 695,...   \n",
      "...                                                   ...   \n",
      "178260  [[8780], [11835, 1762, 4465, 31494], [6812], [...   \n",
      "178261  [[6812], [5940], [30645, 4785, 6821], [6953], ...   \n",
      "178262  [[6167, 20930, 510], [1353], [15022, 6953], [6...   \n",
      "178263  [[12395, 38308, 40118], [3137, 15022], [30878,...   \n",
      "178264  [[3151, 12486], [2507, 6444], [30565], [17918]...   \n",
      "\n",
      "                                             steps_tokens  \\\n",
      "0       [40480, 40482, 21662, 481, 6878, 500, 246, 161...   \n",
      "1       [40480, 40482, 729, 2525, 10906, 485, 43, 8393...   \n",
      "2       [40480, 40482, 8240, 481, 24176, 296, 1353, 66...   \n",
      "3       [40480, 40482, 5539, 21601, 1073, 903, 2324, 4...   \n",
      "4       [40480, 40482, 14046, 1430, 11434, 488, 17027,...   \n",
      "...                                                   ...   \n",
      "178260  [40480, 40482, 729, 2525, 715, 485, 26641, 404...   \n",
      "178261  [40480, 40482, 729, 2525, 10906, 485, 43, 8393...   \n",
      "178262  [40480, 40482, 500, 246, 1719, 5024, 240, 2366...   \n",
      "178263  [40480, 40482, 562, 481, 10734, 240, 23667, 58...   \n",
      "178264  [40480, 40482, 729, 2525, 10906, 485, 43, 2232...   \n",
      "\n",
      "                                           ingredient_ids  \n",
      "0                           [389, 7655, 6270, 1527, 3406]  \n",
      "1       [2683, 4969, 800, 5298, 840, 2499, 6632, 7022,...  \n",
      "2       [1257, 7655, 6270, 590, 5024, 1119, 4883, 6696...  \n",
      "3        [7940, 3609, 7060, 6265, 1170, 6654, 5003, 3561]  \n",
      "4                                 [3484, 6324, 7594, 243]  \n",
      "...                                                   ...  \n",
      "178260            [840, 208, 2499, 2683, 1925, 335, 1511]  \n",
      "178261               [2499, 4717, 1168, 6270, 6324, 7040]  \n",
      "178262  [2378, 7655, 3219, 2320, 5168, 5319, 4189, 268...  \n",
      "178263  [5627, 2807, 5412, 3399, 7979, 1093, 1257, 780...  \n",
      "178264  [6473, 800, 4807, 2683, 335, 1563, 1511, 3248,...  \n",
      "\n",
      "[178265 rows x 5 columns]>\n"
     ]
    },
    {
     "data": {
      "text/plain": "Index(['processed', 'replaced', 'id'], dtype='object')"
     },
     "execution_count": 94,
     "metadata": {},
     "output_type": "execute_result"
    }
   ],
   "source": [
    "pkl_recipes = r\"C:\\Users\\evald\\Desktop\\Ai minor\\dataset\\Recipes\\archive\\ingr_map.pkl\"\n",
    "pkl_recipeObj = pd.read_pickle(pkl_recipes)\n",
    "PP_recipes = r\"C:\\Users\\evald\\Desktop\\Ai minor\\dataset\\Recipes\\archive\\PP_recipes.csv\"\n",
    "csv_recipes = pd.read_csv(PP_recipes)\n",
    "\n",
    "# print(csv_recipes.info())\n",
    "# print(pkl_recipeObj.info())\n",
    "\n",
    "# Recipe dataSet set up\n",
    "recipeCollumnName = ['id', 'name_tokens', 'ingredient_tokens', 'steps_tokens', 'ingredient_ids']\n",
    "recipeDataSetFormated = csv_recipes[recipeCollumnName]\n",
    "recipeMealDF = pd.DataFrame(columns=['id', 'name_tokens', 'ingredient_tokens', 'steps_tokens', 'ingredient_ids'],index=['1','2','3','4','5'], data=recipeDataSetFormated)\n",
    "print(recipeDataSetFormated.info)\n",
    "\n",
    "# Recipe map dataSet set up\n",
    "# Possibly will need to refference both because an ingredient can have other type\n",
    "\n",
    "recipeMappingCollumnName = ['processed','replaced','id']\n",
    "recipeMapDataSetFormated = pkl_recipeObj[recipeMappingCollumnName]\n",
    "recipeIngredientsDF = pd.DataFrame(recipeMapDataSetFormated,columns=['processed','replaced','id'],index=['1','2','3'])\n",
    "# recipeMapColumns = {pkl_recipeObj.columns(recipeMappingCollumnName)}\n",
    "recipeMapColumns = recipeMapDataSetFormated.columns\n",
    "\n",
    "# decripting the tokenized values\n"
   ]
  },
  {
   "cell_type": "code",
   "execution_count": 95,
   "outputs": [
    {
     "name": "stdout",
     "output_type": "stream",
     "text": [
      "                                                raw_ingr  raw_words  \\\n",
      "0      medium heads bibb or red leaf lettuce, washed,...         13   \n",
      "1                  mixed baby lettuces and spring greens          6   \n",
      "2                                   romaine lettuce leaf          3   \n",
      "3                                   iceberg lettuce leaf          3   \n",
      "4                                    red romaine lettuce          3   \n",
      "...                                                  ...        ...   \n",
      "11654                                           soybeans          1   \n",
      "11655                                              goose          1   \n",
      "11656                                             ajwain          1   \n",
      "11657                                           brinjals          1   \n",
      "11658                                              khoya          1   \n",
      "\n",
      "                                               processed  len_proc replaced  \\\n",
      "0      medium heads bibb or red leaf lettuce, washed,...        73  lettuce   \n",
      "1                   mixed baby lettuces and spring green        36  lettuce   \n",
      "2                                   romaine lettuce leaf        20  lettuce   \n",
      "3                                   iceberg lettuce leaf        20  lettuce   \n",
      "4                                    red romaine lettuce        19  lettuce   \n",
      "...                                                  ...       ...      ...   \n",
      "11654                                            soybean         7  soybean   \n",
      "11655                                              goose         5    goose   \n",
      "11656                                             ajwain         6   ajwain   \n",
      "11657                                            brinjal         7  brinjal   \n",
      "11658                                              khoya         5    khoya   \n",
      "\n",
      "       count    id  \n",
      "0       4507  4308  \n",
      "1       4507  4308  \n",
      "2       4507  4308  \n",
      "3       4507  4308  \n",
      "4       4507  4308  \n",
      "...      ...   ...  \n",
      "11654     31  6702  \n",
      "11655      8  3318  \n",
      "11656     13    47  \n",
      "11657      2   750  \n",
      "11658      6  4061  \n",
      "\n",
      "[11659 rows x 7 columns]\n"
     ]
    }
   ],
   "source": [
    "print(pkl_recipeObj)"
   ],
   "metadata": {
    "collapsed": false,
    "pycharm": {
     "name": "#%%\n"
    }
   }
  },
  {
   "cell_type": "markdown",
   "source": [],
   "metadata": {
    "collapsed": false,
    "pycharm": {
     "name": "#%% md\n"
    }
   }
  },
  {
   "cell_type": "code",
   "execution_count": 52,
   "outputs": [],
   "source": [
    "#Decode Block\n",
    "\n",
    "from sklearn.base import BaseEstimator, TransformerMixin\n",
    "from sklearn.feature_extraction.text import CountVectorizer\n",
    "\n",
    "def strToList(list_l, splitSymbol):\n",
    "    list_l = list_l.split(splitSymbol)\n",
    "    temp = list()\n",
    "    for l in list_l:\n",
    "        l = l.replace(\"[\",'').replace(\"]\",'').replace(\"'\", '').replace(\" \", '')\n",
    "        temp.append(l)\n",
    "    return temp\n",
    "\n",
    "class ingredientsToList(BaseEstimator, TransformerMixin):\n",
    "    def __init__(self, columns = []):\n",
    "        self.columns = columns\n",
    "    def fit(self, X):\n",
    "        return self\n",
    "    def transform(self, X):\n",
    "      for column in self.columns:\n",
    "        X[column] = X[column].apply(lambda x : strToList(x, ','))\n",
    "      return X\n",
    "\n",
    "class ingredientsToOneHot(BaseEstimator, TransformerMixin):\n",
    "    def __init__(self, columns = []):\n",
    "        self.columns = columns\n",
    "    def fit(self, X):\n",
    "        return self\n",
    "    def transform(self, X):\n",
    "        cv = CountVectorizer(analyzer=lambda x: x)\n",
    "        for column in self.columns:\n",
    "            test = cv.fit_transform(X[column].to_list())\n",
    "            test_columns = [x for x in cv.get_feature_names()]\n",
    "            X = X.join(pd.DataFrame(test.toarray(), columns = test_columns, index = X.index))\n",
    "            #X = X.join(pd.DataFrame(test.toarray(), index = X.index))\n",
    "        return X\n",
    "\n",
    "class nutritionDataIntoCol(BaseEstimator, TransformerMixin):\n",
    "    def fit(self, X):\n",
    "        return self\n",
    "\n",
    "    def transform(self, X):\n",
    "      nutrition_X = pd.DataFrame(X['nutrition'].to_list(), columns = ['calories', 'total fat', 'sugar_nutrition', 'sodium', 'protein', 'saturated fat', 'carbohydrates'], index = X.index)\n",
    "\n",
    "      nutrition_X_col = nutrition_X.columns\n",
    "      for col in nutrition_X_col:\n",
    "        nutrition_X[col] = nutrition_X[col].apply(lambda x: float(x))\n",
    "\n",
    "      X = X.join(nutrition_X)\n",
    "      return X\n",
    "\n",
    "class getFeatureColumns(BaseEstimator, TransformerMixin):\n",
    "    def fit(self, X):\n",
    "        return self\n",
    "    def transform(self, X):\n",
    "        col = list(X.columns)\n",
    "        for c in ['ingredients', 'nutrition', 'n_steps', 'n_ingredients']:\n",
    "            col.remove(c)\n",
    "        return X[col]"
   ],
   "metadata": {
    "collapsed": false,
    "pycharm": {
     "name": "#%%\n"
    }
   }
  },
  {
   "cell_type": "code",
   "execution_count": 93,
   "outputs": [
    {
     "ename": "AttributeError",
     "evalue": "'float' object has no attribute 'replace'",
     "output_type": "error",
     "traceback": [
      "\u001B[1;31m---------------------------------------------------------------------------\u001B[0m",
      "\u001B[1;31mAttributeError\u001B[0m                            Traceback (most recent call last)",
      "Cell \u001B[1;32mIn [93], line 1\u001B[0m\n\u001B[1;32m----> 1\u001B[0m recipeDataSetFormated\u001B[38;5;241m.\u001B[39mingredient_tokens \u001B[38;5;241m=\u001B[39m recipeDataSetFormated[\u001B[38;5;124m'\u001B[39m\u001B[38;5;124mingredient_tokens\u001B[39m\u001B[38;5;124m'\u001B[39m]\u001B[38;5;241m.\u001B[39mapply(\u001B[38;5;28;01mlambda\u001B[39;00m x: x\u001B[38;5;241m.\u001B[39mreplace(\u001B[38;5;124m'\u001B[39m\u001B[38;5;124m[\u001B[39m\u001B[38;5;124m'\u001B[39m ,\u001B[38;5;124m'\u001B[39m\u001B[38;5;124m'\u001B[39m))\n\u001B[0;32m      3\u001B[0m \u001B[38;5;28;01mdef\u001B[39;00m \u001B[38;5;21mdefinedSet\u001B[39m():\n\u001B[0;32m      4\u001B[0m     listOfElm \u001B[38;5;241m=\u001B[39m []\n",
      "File \u001B[1;32m~\\PycharmProjects\\IndividualProject\\venv\\lib\\site-packages\\pandas\\core\\series.py:4774\u001B[0m, in \u001B[0;36mSeries.apply\u001B[1;34m(self, func, convert_dtype, args, **kwargs)\u001B[0m\n\u001B[0;32m   4664\u001B[0m \u001B[38;5;28;01mdef\u001B[39;00m \u001B[38;5;21mapply\u001B[39m(\n\u001B[0;32m   4665\u001B[0m     \u001B[38;5;28mself\u001B[39m,\n\u001B[0;32m   4666\u001B[0m     func: AggFuncType,\n\u001B[1;32m   (...)\u001B[0m\n\u001B[0;32m   4669\u001B[0m     \u001B[38;5;241m*\u001B[39m\u001B[38;5;241m*\u001B[39mkwargs,\n\u001B[0;32m   4670\u001B[0m ) \u001B[38;5;241m-\u001B[39m\u001B[38;5;241m>\u001B[39m DataFrame \u001B[38;5;241m|\u001B[39m Series:\n\u001B[0;32m   4671\u001B[0m     \u001B[38;5;124;03m\"\"\"\u001B[39;00m\n\u001B[0;32m   4672\u001B[0m \u001B[38;5;124;03m    Invoke function on values of Series.\u001B[39;00m\n\u001B[0;32m   4673\u001B[0m \n\u001B[1;32m   (...)\u001B[0m\n\u001B[0;32m   4772\u001B[0m \u001B[38;5;124;03m    dtype: float64\u001B[39;00m\n\u001B[0;32m   4773\u001B[0m \u001B[38;5;124;03m    \"\"\"\u001B[39;00m\n\u001B[1;32m-> 4774\u001B[0m     \u001B[38;5;28;01mreturn\u001B[39;00m \u001B[43mSeriesApply\u001B[49m\u001B[43m(\u001B[49m\u001B[38;5;28;43mself\u001B[39;49m\u001B[43m,\u001B[49m\u001B[43m \u001B[49m\u001B[43mfunc\u001B[49m\u001B[43m,\u001B[49m\u001B[43m \u001B[49m\u001B[43mconvert_dtype\u001B[49m\u001B[43m,\u001B[49m\u001B[43m \u001B[49m\u001B[43margs\u001B[49m\u001B[43m,\u001B[49m\u001B[43m \u001B[49m\u001B[43mkwargs\u001B[49m\u001B[43m)\u001B[49m\u001B[38;5;241;43m.\u001B[39;49m\u001B[43mapply\u001B[49m\u001B[43m(\u001B[49m\u001B[43m)\u001B[49m\n",
      "File \u001B[1;32m~\\PycharmProjects\\IndividualProject\\venv\\lib\\site-packages\\pandas\\core\\apply.py:1100\u001B[0m, in \u001B[0;36mSeriesApply.apply\u001B[1;34m(self)\u001B[0m\n\u001B[0;32m   1097\u001B[0m     \u001B[38;5;28;01mreturn\u001B[39;00m \u001B[38;5;28mself\u001B[39m\u001B[38;5;241m.\u001B[39mapply_str()\n\u001B[0;32m   1099\u001B[0m \u001B[38;5;66;03m# self.f is Callable\u001B[39;00m\n\u001B[1;32m-> 1100\u001B[0m \u001B[38;5;28;01mreturn\u001B[39;00m \u001B[38;5;28;43mself\u001B[39;49m\u001B[38;5;241;43m.\u001B[39;49m\u001B[43mapply_standard\u001B[49m\u001B[43m(\u001B[49m\u001B[43m)\u001B[49m\n",
      "File \u001B[1;32m~\\PycharmProjects\\IndividualProject\\venv\\lib\\site-packages\\pandas\\core\\apply.py:1151\u001B[0m, in \u001B[0;36mSeriesApply.apply_standard\u001B[1;34m(self)\u001B[0m\n\u001B[0;32m   1149\u001B[0m     \u001B[38;5;28;01melse\u001B[39;00m:\n\u001B[0;32m   1150\u001B[0m         values \u001B[38;5;241m=\u001B[39m obj\u001B[38;5;241m.\u001B[39mastype(\u001B[38;5;28mobject\u001B[39m)\u001B[38;5;241m.\u001B[39m_values\n\u001B[1;32m-> 1151\u001B[0m         mapped \u001B[38;5;241m=\u001B[39m \u001B[43mlib\u001B[49m\u001B[38;5;241;43m.\u001B[39;49m\u001B[43mmap_infer\u001B[49m\u001B[43m(\u001B[49m\n\u001B[0;32m   1152\u001B[0m \u001B[43m            \u001B[49m\u001B[43mvalues\u001B[49m\u001B[43m,\u001B[49m\n\u001B[0;32m   1153\u001B[0m \u001B[43m            \u001B[49m\u001B[43mf\u001B[49m\u001B[43m,\u001B[49m\n\u001B[0;32m   1154\u001B[0m \u001B[43m            \u001B[49m\u001B[43mconvert\u001B[49m\u001B[38;5;241;43m=\u001B[39;49m\u001B[38;5;28;43mself\u001B[39;49m\u001B[38;5;241;43m.\u001B[39;49m\u001B[43mconvert_dtype\u001B[49m\u001B[43m,\u001B[49m\n\u001B[0;32m   1155\u001B[0m \u001B[43m        \u001B[49m\u001B[43m)\u001B[49m\n\u001B[0;32m   1157\u001B[0m \u001B[38;5;28;01mif\u001B[39;00m \u001B[38;5;28mlen\u001B[39m(mapped) \u001B[38;5;129;01mand\u001B[39;00m \u001B[38;5;28misinstance\u001B[39m(mapped[\u001B[38;5;241m0\u001B[39m], ABCSeries):\n\u001B[0;32m   1158\u001B[0m     \u001B[38;5;66;03m# GH#43986 Need to do list(mapped) in order to get treated as nested\u001B[39;00m\n\u001B[0;32m   1159\u001B[0m     \u001B[38;5;66;03m#  See also GH#25959 regarding EA support\u001B[39;00m\n\u001B[0;32m   1160\u001B[0m     \u001B[38;5;28;01mreturn\u001B[39;00m obj\u001B[38;5;241m.\u001B[39m_constructor_expanddim(\u001B[38;5;28mlist\u001B[39m(mapped), index\u001B[38;5;241m=\u001B[39mobj\u001B[38;5;241m.\u001B[39mindex)\n",
      "File \u001B[1;32m~\\PycharmProjects\\IndividualProject\\venv\\lib\\site-packages\\pandas\\_libs\\lib.pyx:2919\u001B[0m, in \u001B[0;36mpandas._libs.lib.map_infer\u001B[1;34m()\u001B[0m\n",
      "Cell \u001B[1;32mIn [93], line 1\u001B[0m, in \u001B[0;36m<lambda>\u001B[1;34m(x)\u001B[0m\n\u001B[1;32m----> 1\u001B[0m recipeDataSetFormated\u001B[38;5;241m.\u001B[39mingredient_tokens \u001B[38;5;241m=\u001B[39m recipeDataSetFormated[\u001B[38;5;124m'\u001B[39m\u001B[38;5;124mingredient_tokens\u001B[39m\u001B[38;5;124m'\u001B[39m]\u001B[38;5;241m.\u001B[39mapply(\u001B[38;5;28;01mlambda\u001B[39;00m x: \u001B[43mx\u001B[49m\u001B[38;5;241;43m.\u001B[39;49m\u001B[43mreplace\u001B[49m(\u001B[38;5;124m'\u001B[39m\u001B[38;5;124m[\u001B[39m\u001B[38;5;124m'\u001B[39m ,\u001B[38;5;124m'\u001B[39m\u001B[38;5;124m'\u001B[39m))\n\u001B[0;32m      3\u001B[0m \u001B[38;5;28;01mdef\u001B[39;00m \u001B[38;5;21mdefinedSet\u001B[39m():\n\u001B[0;32m      4\u001B[0m     listOfElm \u001B[38;5;241m=\u001B[39m []\n",
      "\u001B[1;31mAttributeError\u001B[0m: 'float' object has no attribute 'replace'"
     ]
    }
   ],
   "source": [
    "recipeDataSetFormated.ingredient_tokens = recipeDataSetFormated['ingredient_tokens'].apply(lambda x: x.replace('[' ,''))\n",
    "\n",
    "def definedSet():\n",
    "    listOfElm = []\n",
    "\n",
    "    for element in recipeMealDF:\n",
    "        print(element)\n",
    "    # np.append(listOfElm,element,range.index())\n",
    "    # listOfElm.append(element)\n",
    "    # listOfElm.append(strToList(element,','))\n",
    "\n",
    "    return listOfElm\n",
    "\n",
    "# elemental = recipeMealDF.id\n",
    "\n",
    "print(recipeDataSetFormated)\n",
    "# np.append(listOfElm,element,range.index())\n",
    "# listOfElm.append(element)\n",
    "# listOfElm.append(strToList(element,','))\n",
    "\n",
    "\n"
   ],
   "metadata": {
    "collapsed": false,
    "pycharm": {
     "name": "#%%\n"
    }
   }
  },
  {
   "cell_type": "markdown",
   "source": [
    "Decoding for the tokens"
   ],
   "metadata": {
    "collapsed": false,
    "pycharm": {
     "name": "#%% md\n"
    }
   }
  },
  {
   "cell_type": "code",
   "execution_count": null,
   "outputs": [],
   "source": [
    "\n",
    "# def convert_bp_encoded_fields(value: str) -> List[int]:\n",
    "#   return [int(x.strip('[] ')) for x in value.split(',')]\n",
    "#\n",
    "# def get_pp_data(path: str) -> pd.DataFrame:\n",
    "#     tokenizer = OpenAIGPTTokenizer.from_pretrained('openai-gpt')\n",
    "#     pp_recipes_df = pd.read_csv(path,\n",
    "#       converters={\n",
    "#         \"name_tokens\" : convert_bp_encoded_fields,\n",
    "#         \"ingredient_tokens\" : convert_bp_encoded_fields,\n",
    "#         \"steps_tokens\" : convert_bp_encoded_fields,\n",
    "#          })\n",
    "#\n",
    "# tokenizer = OpenAIGPTTokenizer.from_pretrained('openai-gpt')\n",
    "# [tokenizer.decode(x) for x in pp_recipes_df['name_tokens'].iloc[:20].values]"
   ],
   "metadata": {
    "collapsed": false,
    "pycharm": {
     "name": "#%%\n"
    }
   }
  },
  {
   "cell_type": "markdown",
   "source": [
    "I need to make a model specifically for objects probably using the classes with innit that i could make refferences to wanted data set collums\n",
    "1. Make an outline ingredient model. ( Get unique ingredient count )\n",
    "2. Make an enumerator with most populat ingredients used in recipes. ( , check the most frequent ingredient names )\n",
    "3. Make a plot refferencing the most frequent ingredients used.\n",
    "4. Make a plot refferencing which recipes were used most by users.\n",
    "5. Merge the recipe id with Map dataset to unbind the tokens (customDataset = pd.merge(DataSet,PickleDataSetCollumnName,on='recipe_id')\n",
    "\n"
   ],
   "metadata": {
    "collapsed": false,
    "pycharm": {
     "name": "#%% md\n"
    }
   }
  },
  {
   "cell_type": "code",
   "execution_count": 97,
   "outputs": [
    {
     "name": "stdout",
     "output_type": "stream",
     "text": [
      "replaced\n",
      "dressing                163\n",
      "sausage                 154\n",
      "chile                    99\n",
      "cake mix                 85\n",
      "cheddar                  84\n",
      "tortilla                 82\n",
      "pickle                   79\n",
      "lettuce                  42\n",
      "cream cheese             41\n",
      "rum                      39\n",
      "yeast                    38\n",
      "chicken broth            37\n",
      "candy bar                37\n",
      "mozzarella               33\n",
      "mayonnaise               31\n",
      "olive oil                29\n",
      "diced tomato             27\n",
      "liver                    26\n",
      "seasoning mix            25\n",
      "chili sauce              24\n",
      "artificial sweetener     22\n",
      "soy sauce                21\n",
      "scallion                 20\n",
      "cheese spread            20\n",
      "tomato sauce             18\n",
      "Name: id, dtype: int64\n"
     ]
    },
    {
     "data": {
      "text/plain": "<Figure size 640x480 with 1 Axes>",
      "image/png": "[encoded data removed]"
     },
     "metadata": {},
     "output_type": "display_data"
    }
   ],
   "source": [
    "#Task 1 Complete ?\n",
    "# Get from data set unique ingredients count by getting it from pickle type data set recipeMapDataSetFormated[]\n",
    "\n",
    "# recipeUniqSet = recipeMapDataSetFormated.pivot_table(index='id',columns='replaced',values=\n",
    "CollumnNameRec = ['ingredientName','ingredientCount']\n",
    "\n",
    "recipeUniqSet = recipeMapDataSetFormated.groupby(by=['replaced'])['id'].count().sort_values(ascending=False)\n",
    "\n",
    "recipeUniqSet = recipeUniqSet.rename([])\n",
    "\n",
    "matplotlib.pyplot.plot(recipeUniqSet.head(5))\n",
    "matplotlib.pyplot.scatter(recipeUniqSet['replaced'])\n",
    "\n",
    "print(recipeUniqSet.head(25))"
   ],
   "metadata": {
    "collapsed": false,
    "pycharm": {
     "name": "#%%\n"
    }
   }
  },
  {
   "cell_type": "code",
   "execution_count": 4,
   "outputs": [
    {
     "name": "stdout",
     "output_type": "stream",
     "text": [
      "                                                           ingredientName  \\\n",
      "replaced                                                                    \n",
      "'s baking chocolate     <bound method IndexOpsMixin.nunique of 0      ...   \n",
      "'s chocolate chip       <bound method IndexOpsMixin.nunique of 0      ...   \n",
      "'s hugs chocolate       <bound method IndexOpsMixin.nunique of 0      ...   \n",
      "'s sauce                <bound method IndexOpsMixin.nunique of 0      ...   \n",
      "'s sour cream           <bound method IndexOpsMixin.nunique of 0      ...   \n",
      "'s spicy seasoning      <bound method IndexOpsMixin.nunique of 0      ...   \n",
      "'s syrup                <bound method IndexOpsMixin.nunique of 0      ...   \n",
      "'s teriyaki sauce       <bound method IndexOpsMixin.nunique of 0      ...   \n",
      "10 bean soup mix        <bound method IndexOpsMixin.nunique of 0      ...   \n",
      "10-minute success rice  <bound method IndexOpsMixin.nunique of 0      ...   \n",
      "100 proof vodka         <bound method IndexOpsMixin.nunique of 0      ...   \n",
      "15 bean mix             <bound method IndexOpsMixin.nunique of 0      ...   \n",
      "15 bean soup mix        <bound method IndexOpsMixin.nunique of 0      ...   \n",
      "3 bean mix              <bound method IndexOpsMixin.nunique of 0      ...   \n",
      "7-up                    <bound method IndexOpsMixin.nunique of 0      ...   \n",
      "7-up soda               <bound method IndexOpsMixin.nunique of 0      ...   \n",
      "a.1. sauce              <bound method IndexOpsMixin.nunique of 0      ...   \n",
      "absinthe                <bound method IndexOpsMixin.nunique of 0      ...   \n",
      "absolut citron vodka    <bound method IndexOpsMixin.nunique of 0      ...   \n",
      "absolut kurant vodka    <bound method IndexOpsMixin.nunique of 0      ...   \n",
      "\n",
      "                        ingredientCount  \n",
      "replaced                                 \n",
      "'s baking chocolate                   1  \n",
      "'s chocolate chip                     1  \n",
      "'s hugs chocolate                     1  \n",
      "'s sauce                              1  \n",
      "'s sour cream                         1  \n",
      "'s spicy seasoning                    1  \n",
      "'s syrup                              1  \n",
      "'s teriyaki sauce                     1  \n",
      "10 bean soup mix                      1  \n",
      "10-minute success rice                1  \n",
      "100 proof vodka                       1  \n",
      "15 bean mix                           1  \n",
      "15 bean soup mix                      1  \n",
      "3 bean mix                            1  \n",
      "7-up                                  2  \n",
      "7-up soda                             1  \n",
      "a.1. sauce                            1  \n",
      "absinthe                              1  \n",
      "absolut citron vodka                  1  \n",
      "absolut kurant vodka                  1  \n"
     ]
    }
   ],
   "source": [
    "#Task 2\n",
    "\n",
    "\n",
    "#\n",
    "# ingredients = pd.DataFrame({\n",
    "#             # 'replaced': recipeMapDataSetFormated.groupby('replaced')['id'].count().sort_values(ascending=False),\n",
    "#             'ingredientCount': recipeMapDataSetFormated.groupby('replaced')['id'].count().sort_values(ascending=False),\n",
    "#\n",
    "# })\n",
    "ingredientsDataSetTest = pd.DataFrame({\n",
    "            'ingredientName' : recipeMapDataSetFormated['replaced'].nunique,\n",
    "            'ingredientCount': recipeMapDataSetFormated.groupby('replaced')['id'].count(),\n",
    "\n",
    "})\n",
    "\n",
    "\n",
    "# recipeUniqSet = recipeMapDataSetFormated.groupby('replaced')['id'].count().sort_values(ascending=False)\n",
    "\n",
    "# print(ingredients.head(3))\n",
    "# ingredients = ingredients.rename_axis(\"replaced\")\n",
    "# ingredients = ingredients.rename_axis('replaced',axis=\"columns\")\n",
    "# ingredients = ingredients.index.rename()\n",
    "# print(ingredients.axes[1].rename(\"ingredientCount\"))\n",
    "print(ingredientsDataSetTest.head(20))\n",
    "\n",
    "# matplotlib.pyplot.plot(ingredients.head(5))\n",
    "\n",
    "# matplotlib.pyplot.scatter(x='replaced',y='ingredientCount')\n",
    "\n"
   ],
   "metadata": {
    "collapsed": false,
    "pycharm": {
     "name": "#%%\n"
    }
   }
  },
  {
   "cell_type": "markdown",
   "source": [],
   "metadata": {
    "collapsed": false,
    "pycharm": {
     "name": "#%% md\n"
    }
   }
  },
  {
   "cell_type": "code",
   "execution_count": 5,
   "outputs": [
    {
     "ename": "TypeError",
     "evalue": "'Series' object is not callable",
     "output_type": "error",
     "traceback": [
      "\u001B[1;31m---------------------------------------------------------------------------\u001B[0m",
      "\u001B[1;31mTypeError\u001B[0m                                 Traceback (most recent call last)",
      "Cell \u001B[1;32mIn [5], line 2\u001B[0m\n\u001B[0;32m      1\u001B[0m \u001B[38;5;66;03m#Task 3\u001B[39;00m\n\u001B[1;32m----> 2\u001B[0m plt\u001B[38;5;241m.\u001B[39mplot(recipeUniqSet,recipeUniqSet(\u001B[38;5;124m'\u001B[39m\u001B[38;5;124mreplaced\u001B[39m\u001B[38;5;124m'\u001B[39m)[\u001B[38;5;124m'\u001B[39m\u001B[38;5;124mingredientName\u001B[39m\u001B[38;5;124m'\u001B[39m],\u001B[38;5;124m'\u001B[39m\u001B[38;5;124mro\u001B[39m\u001B[38;5;124m'\u001B[39m)\n\u001B[0;32m      3\u001B[0m \u001B[38;5;66;03m# matplotlib.pyplot.axis([0,6,0,20])\u001B[39;00m\n\u001B[0;32m      4\u001B[0m plt\u001B[38;5;241m.\u001B[39mshow()\n",
      "\u001B[1;31mTypeError\u001B[0m: 'Series' object is not callable"
     ]
    }
   ],
   "source": [
    "#Task 3\n",
    "plt.plot(recipeUniqSet,recipeUniqSet('replaced')['ingredientName'],'ro')\n",
    "# matplotlib.pyplot.axis([0,6,0,20])\n",
    "plt.show()"
   ],
   "metadata": {
    "collapsed": false,
    "pycharm": {
     "name": "#%%\n"
    }
   }
  },
  {
   "cell_type": "markdown",
   "source": [],
   "metadata": {
    "collapsed": false,
    "pycharm": {
     "name": "#%% md\n"
    }
   }
  },
  {
   "cell_type": "code",
   "execution_count": 8,
   "outputs": [
    {
     "ename": "KeyError",
     "evalue": "'ingredient_tokens'",
     "output_type": "error",
     "traceback": [
      "\u001B[1;31m---------------------------------------------------------------------------\u001B[0m",
      "\u001B[1;31mKeyError\u001B[0m                                  Traceback (most recent call last)",
      "File \u001B[1;32m~\\PycharmProjects\\IndividualProject\\venv\\lib\\site-packages\\pandas\\core\\indexes\\base.py:3800\u001B[0m, in \u001B[0;36mIndex.get_loc\u001B[1;34m(self, key, method, tolerance)\u001B[0m\n\u001B[0;32m   3799\u001B[0m \u001B[38;5;28;01mtry\u001B[39;00m:\n\u001B[1;32m-> 3800\u001B[0m     \u001B[38;5;28;01mreturn\u001B[39;00m \u001B[38;5;28;43mself\u001B[39;49m\u001B[38;5;241;43m.\u001B[39;49m\u001B[43m_engine\u001B[49m\u001B[38;5;241;43m.\u001B[39;49m\u001B[43mget_loc\u001B[49m\u001B[43m(\u001B[49m\u001B[43mcasted_key\u001B[49m\u001B[43m)\u001B[49m\n\u001B[0;32m   3801\u001B[0m \u001B[38;5;28;01mexcept\u001B[39;00m \u001B[38;5;167;01mKeyError\u001B[39;00m \u001B[38;5;28;01mas\u001B[39;00m err:\n",
      "File \u001B[1;32m~\\PycharmProjects\\IndividualProject\\venv\\lib\\site-packages\\pandas\\_libs\\index.pyx:138\u001B[0m, in \u001B[0;36mpandas._libs.index.IndexEngine.get_loc\u001B[1;34m()\u001B[0m\n",
      "File \u001B[1;32m~\\PycharmProjects\\IndividualProject\\venv\\lib\\site-packages\\pandas\\_libs\\index.pyx:165\u001B[0m, in \u001B[0;36mpandas._libs.index.IndexEngine.get_loc\u001B[1;34m()\u001B[0m\n",
      "File \u001B[1;32mpandas\\_libs\\hashtable_class_helper.pxi:5745\u001B[0m, in \u001B[0;36mpandas._libs.hashtable.PyObjectHashTable.get_item\u001B[1;34m()\u001B[0m\n",
      "File \u001B[1;32mpandas\\_libs\\hashtable_class_helper.pxi:5753\u001B[0m, in \u001B[0;36mpandas._libs.hashtable.PyObjectHashTable.get_item\u001B[1;34m()\u001B[0m\n",
      "\u001B[1;31mKeyError\u001B[0m: 'ingredient_tokens'",
      "\nThe above exception was the direct cause of the following exception:\n",
      "\u001B[1;31mKeyError\u001B[0m                                  Traceback (most recent call last)",
      "Cell \u001B[1;32mIn [8], line 5\u001B[0m\n\u001B[0;32m      1\u001B[0m \u001B[38;5;66;03m#Test block\u001B[39;00m\n\u001B[0;32m      2\u001B[0m \u001B[38;5;66;03m# recipeCollumnName = ['id', 'name_tokens', 'ingredient_tokens', 'steps_tokens', 'ingredient_ids']\u001B[39;00m\n\u001B[0;32m      3\u001B[0m \u001B[38;5;66;03m# recipeDataSetFormated\u001B[39;00m\n\u001B[0;32m      4\u001B[0m \u001B[38;5;66;03m# recipeDataSetFormated.groupby(\u001B[39;00m\n\u001B[1;32m----> 5\u001B[0m testDataFrame \u001B[38;5;241m=\u001B[39m recipeMapDataSetFormated[\u001B[38;5;124m'\u001B[39m\u001B[38;5;124mingredient_tokens\u001B[39m\u001B[38;5;124m'\u001B[39m]\n",
      "File \u001B[1;32m~\\PycharmProjects\\IndividualProject\\venv\\lib\\site-packages\\pandas\\core\\frame.py:3805\u001B[0m, in \u001B[0;36mDataFrame.__getitem__\u001B[1;34m(self, key)\u001B[0m\n\u001B[0;32m   3803\u001B[0m \u001B[38;5;28;01mif\u001B[39;00m \u001B[38;5;28mself\u001B[39m\u001B[38;5;241m.\u001B[39mcolumns\u001B[38;5;241m.\u001B[39mnlevels \u001B[38;5;241m>\u001B[39m \u001B[38;5;241m1\u001B[39m:\n\u001B[0;32m   3804\u001B[0m     \u001B[38;5;28;01mreturn\u001B[39;00m \u001B[38;5;28mself\u001B[39m\u001B[38;5;241m.\u001B[39m_getitem_multilevel(key)\n\u001B[1;32m-> 3805\u001B[0m indexer \u001B[38;5;241m=\u001B[39m \u001B[38;5;28;43mself\u001B[39;49m\u001B[38;5;241;43m.\u001B[39;49m\u001B[43mcolumns\u001B[49m\u001B[38;5;241;43m.\u001B[39;49m\u001B[43mget_loc\u001B[49m\u001B[43m(\u001B[49m\u001B[43mkey\u001B[49m\u001B[43m)\u001B[49m\n\u001B[0;32m   3806\u001B[0m \u001B[38;5;28;01mif\u001B[39;00m is_integer(indexer):\n\u001B[0;32m   3807\u001B[0m     indexer \u001B[38;5;241m=\u001B[39m [indexer]\n",
      "File \u001B[1;32m~\\PycharmProjects\\IndividualProject\\venv\\lib\\site-packages\\pandas\\core\\indexes\\base.py:3802\u001B[0m, in \u001B[0;36mIndex.get_loc\u001B[1;34m(self, key, method, tolerance)\u001B[0m\n\u001B[0;32m   3800\u001B[0m     \u001B[38;5;28;01mreturn\u001B[39;00m \u001B[38;5;28mself\u001B[39m\u001B[38;5;241m.\u001B[39m_engine\u001B[38;5;241m.\u001B[39mget_loc(casted_key)\n\u001B[0;32m   3801\u001B[0m \u001B[38;5;28;01mexcept\u001B[39;00m \u001B[38;5;167;01mKeyError\u001B[39;00m \u001B[38;5;28;01mas\u001B[39;00m err:\n\u001B[1;32m-> 3802\u001B[0m     \u001B[38;5;28;01mraise\u001B[39;00m \u001B[38;5;167;01mKeyError\u001B[39;00m(key) \u001B[38;5;28;01mfrom\u001B[39;00m \u001B[38;5;21;01merr\u001B[39;00m\n\u001B[0;32m   3803\u001B[0m \u001B[38;5;28;01mexcept\u001B[39;00m \u001B[38;5;167;01mTypeError\u001B[39;00m:\n\u001B[0;32m   3804\u001B[0m     \u001B[38;5;66;03m# If we have a listlike key, _check_indexing_error will raise\u001B[39;00m\n\u001B[0;32m   3805\u001B[0m     \u001B[38;5;66;03m#  InvalidIndexError. Otherwise we fall through and re-raise\u001B[39;00m\n\u001B[0;32m   3806\u001B[0m     \u001B[38;5;66;03m#  the TypeError.\u001B[39;00m\n\u001B[0;32m   3807\u001B[0m     \u001B[38;5;28mself\u001B[39m\u001B[38;5;241m.\u001B[39m_check_indexing_error(key)\n",
      "\u001B[1;31mKeyError\u001B[0m: 'ingredient_tokens'"
     ]
    }
   ],
   "source": [
    "#Test block\n",
    "# recipeCollumnName = ['id', 'name_tokens', 'ingredient_tokens', 'steps_tokens', 'ingredient_ids']\n",
    "# recipeDataSetFormated\n",
    "# recipeDataSetFormated.groupby(\n",
    "testDataFrame = recipeMapDataSetFormated['ingredient_tokens']"
   ],
   "metadata": {
    "collapsed": false,
    "pycharm": {
     "name": "#%%\n"
    }
   }
  },
  {
   "cell_type": "code",
   "execution_count": 11,
   "outputs": [
    {
     "name": "stdout",
     "output_type": "stream",
     "text": [
      "('processed', 'replaced', 'id')\n"
     ]
    },
    {
     "ename": "TypeError",
     "evalue": "ufunc 'divide' not supported for the input types, and the inputs could not be safely coerced to any supported types according to the casting rule ''safe''",
     "output_type": "error",
     "traceback": [
      "\u001B[1;31m---------------------------------------------------------------------------\u001B[0m",
      "\u001B[1;31mTypeError\u001B[0m                                 Traceback (most recent call last)",
      "Cell \u001B[1;32mIn [11], line 6\u001B[0m\n\u001B[0;32m      3\u001B[0m iris_features \u001B[38;5;241m=\u001B[39m \u001B[38;5;28mtuple\u001B[39m(recipeMapDataSetFormated\u001B[38;5;241m.\u001B[39mcolumns[:\u001B[38;5;241m4\u001B[39m]\u001B[38;5;241m.\u001B[39mvalues)\n\u001B[0;32m      4\u001B[0m \u001B[38;5;28mprint\u001B[39m(iris_features)\n\u001B[1;32m----> 6\u001B[0m recipeMapDataSetFormated\u001B[38;5;241m.\u001B[39mboxplot(column\u001B[38;5;241m=\u001B[39miris_features, by\u001B[38;5;241m=\u001B[39m\u001B[38;5;124m'\u001B[39m\u001B[38;5;124mreplaced\u001B[39m\u001B[38;5;124m'\u001B[39m, figsize\u001B[38;5;241m=\u001B[39m(\u001B[38;5;241m15\u001B[39m,\u001B[38;5;241m8\u001B[39m), layout\u001B[38;5;241m=\u001B[39m(\u001B[38;5;241m1\u001B[39m,\u001B[38;5;241m4\u001B[39m))\n",
      "File \u001B[1;32m~\\PycharmProjects\\IndividualProject\\venv\\lib\\site-packages\\pandas\\plotting\\_core.py:517\u001B[0m, in \u001B[0;36mboxplot_frame\u001B[1;34m(self, column, by, ax, fontsize, rot, grid, figsize, layout, return_type, backend, **kwargs)\u001B[0m\n\u001B[0;32m    500\u001B[0m \u001B[38;5;129m@Substitution\u001B[39m(backend\u001B[38;5;241m=\u001B[39m_backend_doc)\n\u001B[0;32m    501\u001B[0m \u001B[38;5;129m@Appender\u001B[39m(_boxplot_doc)\n\u001B[0;32m    502\u001B[0m \u001B[38;5;28;01mdef\u001B[39;00m \u001B[38;5;21mboxplot_frame\u001B[39m(\n\u001B[1;32m   (...)\u001B[0m\n\u001B[0;32m    514\u001B[0m     \u001B[38;5;241m*\u001B[39m\u001B[38;5;241m*\u001B[39mkwargs,\n\u001B[0;32m    515\u001B[0m ):\n\u001B[0;32m    516\u001B[0m     plot_backend \u001B[38;5;241m=\u001B[39m _get_plot_backend(backend)\n\u001B[1;32m--> 517\u001B[0m     \u001B[38;5;28;01mreturn\u001B[39;00m plot_backend\u001B[38;5;241m.\u001B[39mboxplot_frame(\n\u001B[0;32m    518\u001B[0m         \u001B[38;5;28mself\u001B[39m,\n\u001B[0;32m    519\u001B[0m         column\u001B[38;5;241m=\u001B[39mcolumn,\n\u001B[0;32m    520\u001B[0m         by\u001B[38;5;241m=\u001B[39mby,\n\u001B[0;32m    521\u001B[0m         ax\u001B[38;5;241m=\u001B[39max,\n\u001B[0;32m    522\u001B[0m         fontsize\u001B[38;5;241m=\u001B[39mfontsize,\n\u001B[0;32m    523\u001B[0m         rot\u001B[38;5;241m=\u001B[39mrot,\n\u001B[0;32m    524\u001B[0m         grid\u001B[38;5;241m=\u001B[39mgrid,\n\u001B[0;32m    525\u001B[0m         figsize\u001B[38;5;241m=\u001B[39mfigsize,\n\u001B[0;32m    526\u001B[0m         layout\u001B[38;5;241m=\u001B[39mlayout,\n\u001B[0;32m    527\u001B[0m         return_type\u001B[38;5;241m=\u001B[39mreturn_type,\n\u001B[0;32m    528\u001B[0m         \u001B[38;5;241m*\u001B[39m\u001B[38;5;241m*\u001B[39mkwargs,\n\u001B[0;32m    529\u001B[0m     )\n",
      "File \u001B[1;32m~\\PycharmProjects\\IndividualProject\\venv\\lib\\site-packages\\pandas\\plotting\\_matplotlib\\boxplot.py:459\u001B[0m, in \u001B[0;36mboxplot_frame\u001B[1;34m(self, column, by, ax, fontsize, rot, grid, figsize, layout, return_type, **kwds)\u001B[0m\n\u001B[0;32m    444\u001B[0m \u001B[38;5;28;01mdef\u001B[39;00m \u001B[38;5;21mboxplot_frame\u001B[39m(\n\u001B[0;32m    445\u001B[0m     \u001B[38;5;28mself\u001B[39m,\n\u001B[0;32m    446\u001B[0m     column\u001B[38;5;241m=\u001B[39m\u001B[38;5;28;01mNone\u001B[39;00m,\n\u001B[1;32m   (...)\u001B[0m\n\u001B[0;32m    455\u001B[0m     \u001B[38;5;241m*\u001B[39m\u001B[38;5;241m*\u001B[39mkwds,\n\u001B[0;32m    456\u001B[0m ):\n\u001B[0;32m    457\u001B[0m     \u001B[38;5;28;01mimport\u001B[39;00m \u001B[38;5;21;01mmatplotlib\u001B[39;00m\u001B[38;5;21;01m.\u001B[39;00m\u001B[38;5;21;01mpyplot\u001B[39;00m \u001B[38;5;28;01mas\u001B[39;00m \u001B[38;5;21;01mplt\u001B[39;00m\n\u001B[1;32m--> 459\u001B[0m     ax \u001B[38;5;241m=\u001B[39m boxplot(\n\u001B[0;32m    460\u001B[0m         \u001B[38;5;28mself\u001B[39m,\n\u001B[0;32m    461\u001B[0m         column\u001B[38;5;241m=\u001B[39mcolumn,\n\u001B[0;32m    462\u001B[0m         by\u001B[38;5;241m=\u001B[39mby,\n\u001B[0;32m    463\u001B[0m         ax\u001B[38;5;241m=\u001B[39max,\n\u001B[0;32m    464\u001B[0m         fontsize\u001B[38;5;241m=\u001B[39mfontsize,\n\u001B[0;32m    465\u001B[0m         grid\u001B[38;5;241m=\u001B[39mgrid,\n\u001B[0;32m    466\u001B[0m         rot\u001B[38;5;241m=\u001B[39mrot,\n\u001B[0;32m    467\u001B[0m         figsize\u001B[38;5;241m=\u001B[39mfigsize,\n\u001B[0;32m    468\u001B[0m         layout\u001B[38;5;241m=\u001B[39mlayout,\n\u001B[0;32m    469\u001B[0m         return_type\u001B[38;5;241m=\u001B[39mreturn_type,\n\u001B[0;32m    470\u001B[0m         \u001B[38;5;241m*\u001B[39m\u001B[38;5;241m*\u001B[39mkwds,\n\u001B[0;32m    471\u001B[0m     )\n\u001B[0;32m    472\u001B[0m     plt\u001B[38;5;241m.\u001B[39mdraw_if_interactive()\n\u001B[0;32m    473\u001B[0m     \u001B[38;5;28;01mreturn\u001B[39;00m ax\n",
      "File \u001B[1;32m~\\PycharmProjects\\IndividualProject\\venv\\lib\\site-packages\\pandas\\plotting\\_matplotlib\\boxplot.py:405\u001B[0m, in \u001B[0;36mboxplot\u001B[1;34m(data, column, by, ax, fontsize, rot, grid, figsize, layout, return_type, **kwds)\u001B[0m\n\u001B[0;32m    400\u001B[0m         columns \u001B[38;5;241m=\u001B[39m [column]\n\u001B[0;32m    402\u001B[0m \u001B[38;5;28;01mif\u001B[39;00m by \u001B[38;5;129;01mis\u001B[39;00m \u001B[38;5;129;01mnot\u001B[39;00m \u001B[38;5;28;01mNone\u001B[39;00m:\n\u001B[0;32m    403\u001B[0m     \u001B[38;5;66;03m# Prefer array return type for 2-D plots to match the subplot layout\u001B[39;00m\n\u001B[0;32m    404\u001B[0m     \u001B[38;5;66;03m# https://github.com/pandas-dev/pandas/pull/12216#issuecomment-241175580\u001B[39;00m\n\u001B[1;32m--> 405\u001B[0m     result \u001B[38;5;241m=\u001B[39m _grouped_plot_by_column(\n\u001B[0;32m    406\u001B[0m         plot_group,\n\u001B[0;32m    407\u001B[0m         data,\n\u001B[0;32m    408\u001B[0m         columns\u001B[38;5;241m=\u001B[39mcolumns,\n\u001B[0;32m    409\u001B[0m         by\u001B[38;5;241m=\u001B[39mby,\n\u001B[0;32m    410\u001B[0m         grid\u001B[38;5;241m=\u001B[39mgrid,\n\u001B[0;32m    411\u001B[0m         figsize\u001B[38;5;241m=\u001B[39mfigsize,\n\u001B[0;32m    412\u001B[0m         ax\u001B[38;5;241m=\u001B[39max,\n\u001B[0;32m    413\u001B[0m         layout\u001B[38;5;241m=\u001B[39mlayout,\n\u001B[0;32m    414\u001B[0m         return_type\u001B[38;5;241m=\u001B[39mreturn_type,\n\u001B[0;32m    415\u001B[0m         \u001B[38;5;241m*\u001B[39m\u001B[38;5;241m*\u001B[39mkwds,\n\u001B[0;32m    416\u001B[0m     )\n\u001B[0;32m    417\u001B[0m \u001B[38;5;28;01melse\u001B[39;00m:\n\u001B[0;32m    418\u001B[0m     \u001B[38;5;28;01mif\u001B[39;00m return_type \u001B[38;5;129;01mis\u001B[39;00m \u001B[38;5;28;01mNone\u001B[39;00m:\n",
      "File \u001B[1;32m~\\PycharmProjects\\IndividualProject\\venv\\lib\\site-packages\\pandas\\plotting\\_matplotlib\\boxplot.py:275\u001B[0m, in \u001B[0;36m_grouped_plot_by_column\u001B[1;34m(plotf, data, columns, by, numeric_only, grid, figsize, ax, layout, return_type, **kwargs)\u001B[0m\n\u001B[0;32m    273\u001B[0m gp_col \u001B[38;5;241m=\u001B[39m grouped[col]\n\u001B[0;32m    274\u001B[0m keys, values \u001B[38;5;241m=\u001B[39m \u001B[38;5;28mzip\u001B[39m(\u001B[38;5;241m*\u001B[39mgp_col)\n\u001B[1;32m--> 275\u001B[0m re_plotf \u001B[38;5;241m=\u001B[39m plotf(keys, values, ax, xlabel\u001B[38;5;241m=\u001B[39mxlabel, ylabel\u001B[38;5;241m=\u001B[39mylabel, \u001B[38;5;241m*\u001B[39m\u001B[38;5;241m*\u001B[39mkwargs)\n\u001B[0;32m    276\u001B[0m ax\u001B[38;5;241m.\u001B[39mset_title(col)\n\u001B[0;32m    277\u001B[0m ax_values\u001B[38;5;241m.\u001B[39mappend(re_plotf)\n",
      "File \u001B[1;32m~\\PycharmProjects\\IndividualProject\\venv\\lib\\site-packages\\pandas\\plotting\\_matplotlib\\boxplot.py:368\u001B[0m, in \u001B[0;36mboxplot.<locals>.plot_group\u001B[1;34m(keys, values, ax, **kwds)\u001B[0m\n\u001B[0;32m    366\u001B[0m keys \u001B[38;5;241m=\u001B[39m [pprint_thing(x) \u001B[38;5;28;01mfor\u001B[39;00m x \u001B[38;5;129;01min\u001B[39;00m keys]\n\u001B[0;32m    367\u001B[0m values \u001B[38;5;241m=\u001B[39m [np\u001B[38;5;241m.\u001B[39masarray(remove_na_arraylike(v), dtype\u001B[38;5;241m=\u001B[39m\u001B[38;5;28mobject\u001B[39m) \u001B[38;5;28;01mfor\u001B[39;00m v \u001B[38;5;129;01min\u001B[39;00m values]\n\u001B[1;32m--> 368\u001B[0m bp \u001B[38;5;241m=\u001B[39m ax\u001B[38;5;241m.\u001B[39mboxplot(values, \u001B[38;5;241m*\u001B[39m\u001B[38;5;241m*\u001B[39mkwds)\n\u001B[0;32m    369\u001B[0m \u001B[38;5;28;01mif\u001B[39;00m fontsize \u001B[38;5;129;01mis\u001B[39;00m \u001B[38;5;129;01mnot\u001B[39;00m \u001B[38;5;28;01mNone\u001B[39;00m:\n\u001B[0;32m    370\u001B[0m     ax\u001B[38;5;241m.\u001B[39mtick_params(axis\u001B[38;5;241m=\u001B[39m\u001B[38;5;124m\"\u001B[39m\u001B[38;5;124mboth\u001B[39m\u001B[38;5;124m\"\u001B[39m, labelsize\u001B[38;5;241m=\u001B[39mfontsize)\n",
      "File \u001B[1;32m~\\PycharmProjects\\IndividualProject\\venv\\lib\\site-packages\\matplotlib\\__init__.py:1423\u001B[0m, in \u001B[0;36m_preprocess_data.<locals>.inner\u001B[1;34m(ax, data, *args, **kwargs)\u001B[0m\n\u001B[0;32m   1420\u001B[0m \u001B[38;5;129m@functools\u001B[39m\u001B[38;5;241m.\u001B[39mwraps(func)\n\u001B[0;32m   1421\u001B[0m \u001B[38;5;28;01mdef\u001B[39;00m \u001B[38;5;21minner\u001B[39m(ax, \u001B[38;5;241m*\u001B[39margs, data\u001B[38;5;241m=\u001B[39m\u001B[38;5;28;01mNone\u001B[39;00m, \u001B[38;5;241m*\u001B[39m\u001B[38;5;241m*\u001B[39mkwargs):\n\u001B[0;32m   1422\u001B[0m     \u001B[38;5;28;01mif\u001B[39;00m data \u001B[38;5;129;01mis\u001B[39;00m \u001B[38;5;28;01mNone\u001B[39;00m:\n\u001B[1;32m-> 1423\u001B[0m         \u001B[38;5;28;01mreturn\u001B[39;00m func(ax, \u001B[38;5;241m*\u001B[39m\u001B[38;5;28mmap\u001B[39m(sanitize_sequence, args), \u001B[38;5;241m*\u001B[39m\u001B[38;5;241m*\u001B[39mkwargs)\n\u001B[0;32m   1425\u001B[0m     bound \u001B[38;5;241m=\u001B[39m new_sig\u001B[38;5;241m.\u001B[39mbind(ax, \u001B[38;5;241m*\u001B[39margs, \u001B[38;5;241m*\u001B[39m\u001B[38;5;241m*\u001B[39mkwargs)\n\u001B[0;32m   1426\u001B[0m     auto_label \u001B[38;5;241m=\u001B[39m (bound\u001B[38;5;241m.\u001B[39marguments\u001B[38;5;241m.\u001B[39mget(label_namer)\n\u001B[0;32m   1427\u001B[0m                   \u001B[38;5;129;01mor\u001B[39;00m bound\u001B[38;5;241m.\u001B[39mkwargs\u001B[38;5;241m.\u001B[39mget(label_namer))\n",
      "File \u001B[1;32m~\\PycharmProjects\\IndividualProject\\venv\\lib\\site-packages\\matplotlib\\axes\\_axes.py:3842\u001B[0m, in \u001B[0;36mAxes.boxplot\u001B[1;34m(self, x, notch, sym, vert, whis, positions, widths, patch_artist, bootstrap, usermedians, conf_intervals, meanline, showmeans, showcaps, showbox, showfliers, boxprops, labels, flierprops, medianprops, meanprops, capprops, whiskerprops, manage_ticks, autorange, zorder, capwidths)\u001B[0m\n\u001B[0;32m   3839\u001B[0m \u001B[38;5;28;01mif\u001B[39;00m bootstrap \u001B[38;5;129;01mis\u001B[39;00m \u001B[38;5;28;01mNone\u001B[39;00m:\n\u001B[0;32m   3840\u001B[0m     bootstrap \u001B[38;5;241m=\u001B[39m mpl\u001B[38;5;241m.\u001B[39mrcParams[\u001B[38;5;124m'\u001B[39m\u001B[38;5;124mboxplot.bootstrap\u001B[39m\u001B[38;5;124m'\u001B[39m]\n\u001B[1;32m-> 3842\u001B[0m bxpstats \u001B[38;5;241m=\u001B[39m \u001B[43mcbook\u001B[49m\u001B[38;5;241;43m.\u001B[39;49m\u001B[43mboxplot_stats\u001B[49m\u001B[43m(\u001B[49m\u001B[43mx\u001B[49m\u001B[43m,\u001B[49m\u001B[43m \u001B[49m\u001B[43mwhis\u001B[49m\u001B[38;5;241;43m=\u001B[39;49m\u001B[43mwhis\u001B[49m\u001B[43m,\u001B[49m\u001B[43m \u001B[49m\u001B[43mbootstrap\u001B[49m\u001B[38;5;241;43m=\u001B[39;49m\u001B[43mbootstrap\u001B[49m\u001B[43m,\u001B[49m\n\u001B[0;32m   3843\u001B[0m \u001B[43m                               \u001B[49m\u001B[43mlabels\u001B[49m\u001B[38;5;241;43m=\u001B[39;49m\u001B[43mlabels\u001B[49m\u001B[43m,\u001B[49m\u001B[43m \u001B[49m\u001B[43mautorange\u001B[49m\u001B[38;5;241;43m=\u001B[39;49m\u001B[43mautorange\u001B[49m\u001B[43m)\u001B[49m\n\u001B[0;32m   3844\u001B[0m \u001B[38;5;28;01mif\u001B[39;00m notch \u001B[38;5;129;01mis\u001B[39;00m \u001B[38;5;28;01mNone\u001B[39;00m:\n\u001B[0;32m   3845\u001B[0m     notch \u001B[38;5;241m=\u001B[39m mpl\u001B[38;5;241m.\u001B[39mrcParams[\u001B[38;5;124m'\u001B[39m\u001B[38;5;124mboxplot.notch\u001B[39m\u001B[38;5;124m'\u001B[39m]\n",
      "File \u001B[1;32m~\\PycharmProjects\\IndividualProject\\venv\\lib\\site-packages\\matplotlib\\cbook\\__init__.py:1266\u001B[0m, in \u001B[0;36mboxplot_stats\u001B[1;34m(X, whis, bootstrap, labels, autorange)\u001B[0m\n\u001B[0;32m   1263\u001B[0m x \u001B[38;5;241m=\u001B[39m np\u001B[38;5;241m.\u001B[39masarray(x)\n\u001B[0;32m   1265\u001B[0m \u001B[38;5;66;03m# arithmetic mean\u001B[39;00m\n\u001B[1;32m-> 1266\u001B[0m stats[\u001B[38;5;124m'\u001B[39m\u001B[38;5;124mmean\u001B[39m\u001B[38;5;124m'\u001B[39m] \u001B[38;5;241m=\u001B[39m \u001B[43mnp\u001B[49m\u001B[38;5;241;43m.\u001B[39;49m\u001B[43mmean\u001B[49m\u001B[43m(\u001B[49m\u001B[43mx\u001B[49m\u001B[43m)\u001B[49m\n\u001B[0;32m   1268\u001B[0m \u001B[38;5;66;03m# medians and quartiles\u001B[39;00m\n\u001B[0;32m   1269\u001B[0m q1, med, q3 \u001B[38;5;241m=\u001B[39m np\u001B[38;5;241m.\u001B[39mpercentile(x, [\u001B[38;5;241m25\u001B[39m, \u001B[38;5;241m50\u001B[39m, \u001B[38;5;241m75\u001B[39m])\n",
      "File \u001B[1;32m<__array_function__ internals>:180\u001B[0m, in \u001B[0;36mmean\u001B[1;34m(*args, **kwargs)\u001B[0m\n",
      "File \u001B[1;32m~\\PycharmProjects\\IndividualProject\\venv\\lib\\site-packages\\numpy\\core\\fromnumeric.py:3432\u001B[0m, in \u001B[0;36mmean\u001B[1;34m(a, axis, dtype, out, keepdims, where)\u001B[0m\n\u001B[0;32m   3429\u001B[0m     \u001B[38;5;28;01melse\u001B[39;00m:\n\u001B[0;32m   3430\u001B[0m         \u001B[38;5;28;01mreturn\u001B[39;00m mean(axis\u001B[38;5;241m=\u001B[39maxis, dtype\u001B[38;5;241m=\u001B[39mdtype, out\u001B[38;5;241m=\u001B[39mout, \u001B[38;5;241m*\u001B[39m\u001B[38;5;241m*\u001B[39mkwargs)\n\u001B[1;32m-> 3432\u001B[0m \u001B[38;5;28;01mreturn\u001B[39;00m _methods\u001B[38;5;241m.\u001B[39m_mean(a, axis\u001B[38;5;241m=\u001B[39maxis, dtype\u001B[38;5;241m=\u001B[39mdtype,\n\u001B[0;32m   3433\u001B[0m                       out\u001B[38;5;241m=\u001B[39mout, \u001B[38;5;241m*\u001B[39m\u001B[38;5;241m*\u001B[39mkwargs)\n",
      "File \u001B[1;32m~\\PycharmProjects\\IndividualProject\\venv\\lib\\site-packages\\numpy\\core\\_methods.py:192\u001B[0m, in \u001B[0;36m_mean\u001B[1;34m(a, axis, dtype, out, keepdims, where)\u001B[0m\n\u001B[0;32m    190\u001B[0m         ret \u001B[38;5;241m=\u001B[39m ret\u001B[38;5;241m.\u001B[39mdtype\u001B[38;5;241m.\u001B[39mtype(ret \u001B[38;5;241m/\u001B[39m rcount)\n\u001B[0;32m    191\u001B[0m \u001B[38;5;28;01melse\u001B[39;00m:\n\u001B[1;32m--> 192\u001B[0m     ret \u001B[38;5;241m=\u001B[39m \u001B[43mret\u001B[49m\u001B[43m \u001B[49m\u001B[38;5;241;43m/\u001B[39;49m\u001B[43m \u001B[49m\u001B[43mrcount\u001B[49m\n\u001B[0;32m    194\u001B[0m \u001B[38;5;28;01mreturn\u001B[39;00m ret\n",
      "\u001B[1;31mTypeError\u001B[0m: ufunc 'divide' not supported for the input types, and the inputs could not be safely coerced to any supported types according to the casting rule ''safe''"
     ]
    },
    {
     "data": {
      "text/plain": "<Figure size 1500x800 with 4 Axes>",
      "image/png": "[encoded data removed]"
     },
     "metadata": {},
     "output_type": "display_data"
    }
   ],
   "source": [
    "#Box plot\n",
    "iris_features = tuple(recipeMapDataSetFormated.columns[:4].values)\n",
    "print(iris_features)\n",
    "\n",
    "#recipeMapDataSetFormated.boxplot(column=iris_features, by='replaced', figsize=(15,8), layout=(1,4));"
   ],
   "metadata": {
    "collapsed": false,
    "pycharm": {
     "name": "#%%\n"
    }
   }
  },
  {
   "cell_type": "code",
   "execution_count": 14,
   "outputs": [
    {
     "name": "stderr",
     "output_type": "stream",
     "text": [
      "C:\\Users\\evald\\AppData\\Local\\Temp\\ipykernel_5976\\3141944241.py:3: SettingWithCopyWarning: \n",
      "A value is trying to be set on a copy of a slice from a DataFrame\n",
      "\n",
      "See the caveats in the documentation: https://pandas.pydata.org/pandas-docs/stable/user_guide/indexing.html#returning-a-view-versus-a-copy\n",
      "  recipeDataSetFormated.loc['ingredient_tokens'] =  recipeDataSetFormated['ingredient_tokens'].apply(lambda x: x.replace('[',''))\n"
     ]
    },
    {
     "ename": "AttributeError",
     "evalue": "'float' object has no attribute 'replace'",
     "output_type": "error",
     "traceback": [
      "\u001B[1;31m---------------------------------------------------------------------------\u001B[0m",
      "\u001B[1;31mAttributeError\u001B[0m                            Traceback (most recent call last)",
      "Cell \u001B[1;32mIn [14], line 5\u001B[0m\n\u001B[0;32m      1\u001B[0m \u001B[38;5;66;03m#Remove brackets\u001B[39;00m\n\u001B[0;32m      3\u001B[0m recipeDataSetFormated\u001B[38;5;241m.\u001B[39mloc[\u001B[38;5;124m'\u001B[39m\u001B[38;5;124mingredient_tokens\u001B[39m\u001B[38;5;124m'\u001B[39m] \u001B[38;5;241m=\u001B[39m  recipeDataSetFormated[\u001B[38;5;124m'\u001B[39m\u001B[38;5;124mingredient_tokens\u001B[39m\u001B[38;5;124m'\u001B[39m]\u001B[38;5;241m.\u001B[39mapply(\u001B[38;5;28;01mlambda\u001B[39;00m x: x\u001B[38;5;241m.\u001B[39mreplace(\u001B[38;5;124m'\u001B[39m\u001B[38;5;124m[\u001B[39m\u001B[38;5;124m'\u001B[39m,\u001B[38;5;124m'\u001B[39m\u001B[38;5;124m'\u001B[39m))\n\u001B[1;32m----> 5\u001B[0m recipeDataSetFormated\u001B[38;5;241m.\u001B[39mloc[\u001B[38;5;124m'\u001B[39m\u001B[38;5;124mingredient_tokens\u001B[39m\u001B[38;5;124m'\u001B[39m] \u001B[38;5;241m=\u001B[39m  recipeDataSetFormated[\u001B[38;5;124m'\u001B[39m\u001B[38;5;124mingredient_tokens\u001B[39m\u001B[38;5;124m'\u001B[39m]\u001B[38;5;241m.\u001B[39mapply(\u001B[38;5;28;01mlambda\u001B[39;00m x: x\u001B[38;5;241m.\u001B[39mreplace(\u001B[38;5;124m'\u001B[39m\u001B[38;5;124m]\u001B[39m\u001B[38;5;124m'\u001B[39m,\u001B[38;5;124m'\u001B[39m\u001B[38;5;124m'\u001B[39m))\n",
      "File \u001B[1;32m~\\PycharmProjects\\IndividualProject\\venv\\lib\\site-packages\\pandas\\core\\series.py:4774\u001B[0m, in \u001B[0;36mSeries.apply\u001B[1;34m(self, func, convert_dtype, args, **kwargs)\u001B[0m\n\u001B[0;32m   4664\u001B[0m \u001B[38;5;28;01mdef\u001B[39;00m \u001B[38;5;21mapply\u001B[39m(\n\u001B[0;32m   4665\u001B[0m     \u001B[38;5;28mself\u001B[39m,\n\u001B[0;32m   4666\u001B[0m     func: AggFuncType,\n\u001B[1;32m   (...)\u001B[0m\n\u001B[0;32m   4669\u001B[0m     \u001B[38;5;241m*\u001B[39m\u001B[38;5;241m*\u001B[39mkwargs,\n\u001B[0;32m   4670\u001B[0m ) \u001B[38;5;241m-\u001B[39m\u001B[38;5;241m>\u001B[39m DataFrame \u001B[38;5;241m|\u001B[39m Series:\n\u001B[0;32m   4671\u001B[0m     \u001B[38;5;124;03m\"\"\"\u001B[39;00m\n\u001B[0;32m   4672\u001B[0m \u001B[38;5;124;03m    Invoke function on values of Series.\u001B[39;00m\n\u001B[0;32m   4673\u001B[0m \n\u001B[1;32m   (...)\u001B[0m\n\u001B[0;32m   4772\u001B[0m \u001B[38;5;124;03m    dtype: float64\u001B[39;00m\n\u001B[0;32m   4773\u001B[0m \u001B[38;5;124;03m    \"\"\"\u001B[39;00m\n\u001B[1;32m-> 4774\u001B[0m     \u001B[38;5;28;01mreturn\u001B[39;00m \u001B[43mSeriesApply\u001B[49m\u001B[43m(\u001B[49m\u001B[38;5;28;43mself\u001B[39;49m\u001B[43m,\u001B[49m\u001B[43m \u001B[49m\u001B[43mfunc\u001B[49m\u001B[43m,\u001B[49m\u001B[43m \u001B[49m\u001B[43mconvert_dtype\u001B[49m\u001B[43m,\u001B[49m\u001B[43m \u001B[49m\u001B[43margs\u001B[49m\u001B[43m,\u001B[49m\u001B[43m \u001B[49m\u001B[43mkwargs\u001B[49m\u001B[43m)\u001B[49m\u001B[38;5;241;43m.\u001B[39;49m\u001B[43mapply\u001B[49m\u001B[43m(\u001B[49m\u001B[43m)\u001B[49m\n",
      "File \u001B[1;32m~\\PycharmProjects\\IndividualProject\\venv\\lib\\site-packages\\pandas\\core\\apply.py:1100\u001B[0m, in \u001B[0;36mSeriesApply.apply\u001B[1;34m(self)\u001B[0m\n\u001B[0;32m   1097\u001B[0m     \u001B[38;5;28;01mreturn\u001B[39;00m \u001B[38;5;28mself\u001B[39m\u001B[38;5;241m.\u001B[39mapply_str()\n\u001B[0;32m   1099\u001B[0m \u001B[38;5;66;03m# self.f is Callable\u001B[39;00m\n\u001B[1;32m-> 1100\u001B[0m \u001B[38;5;28;01mreturn\u001B[39;00m \u001B[38;5;28;43mself\u001B[39;49m\u001B[38;5;241;43m.\u001B[39;49m\u001B[43mapply_standard\u001B[49m\u001B[43m(\u001B[49m\u001B[43m)\u001B[49m\n",
      "File \u001B[1;32m~\\PycharmProjects\\IndividualProject\\venv\\lib\\site-packages\\pandas\\core\\apply.py:1151\u001B[0m, in \u001B[0;36mSeriesApply.apply_standard\u001B[1;34m(self)\u001B[0m\n\u001B[0;32m   1149\u001B[0m     \u001B[38;5;28;01melse\u001B[39;00m:\n\u001B[0;32m   1150\u001B[0m         values \u001B[38;5;241m=\u001B[39m obj\u001B[38;5;241m.\u001B[39mastype(\u001B[38;5;28mobject\u001B[39m)\u001B[38;5;241m.\u001B[39m_values\n\u001B[1;32m-> 1151\u001B[0m         mapped \u001B[38;5;241m=\u001B[39m \u001B[43mlib\u001B[49m\u001B[38;5;241;43m.\u001B[39;49m\u001B[43mmap_infer\u001B[49m\u001B[43m(\u001B[49m\n\u001B[0;32m   1152\u001B[0m \u001B[43m            \u001B[49m\u001B[43mvalues\u001B[49m\u001B[43m,\u001B[49m\n\u001B[0;32m   1153\u001B[0m \u001B[43m            \u001B[49m\u001B[43mf\u001B[49m\u001B[43m,\u001B[49m\n\u001B[0;32m   1154\u001B[0m \u001B[43m            \u001B[49m\u001B[43mconvert\u001B[49m\u001B[38;5;241;43m=\u001B[39;49m\u001B[38;5;28;43mself\u001B[39;49m\u001B[38;5;241;43m.\u001B[39;49m\u001B[43mconvert_dtype\u001B[49m\u001B[43m,\u001B[49m\n\u001B[0;32m   1155\u001B[0m \u001B[43m        \u001B[49m\u001B[43m)\u001B[49m\n\u001B[0;32m   1157\u001B[0m \u001B[38;5;28;01mif\u001B[39;00m \u001B[38;5;28mlen\u001B[39m(mapped) \u001B[38;5;129;01mand\u001B[39;00m \u001B[38;5;28misinstance\u001B[39m(mapped[\u001B[38;5;241m0\u001B[39m], ABCSeries):\n\u001B[0;32m   1158\u001B[0m     \u001B[38;5;66;03m# GH#43986 Need to do list(mapped) in order to get treated as nested\u001B[39;00m\n\u001B[0;32m   1159\u001B[0m     \u001B[38;5;66;03m#  See also GH#25959 regarding EA support\u001B[39;00m\n\u001B[0;32m   1160\u001B[0m     \u001B[38;5;28;01mreturn\u001B[39;00m obj\u001B[38;5;241m.\u001B[39m_constructor_expanddim(\u001B[38;5;28mlist\u001B[39m(mapped), index\u001B[38;5;241m=\u001B[39mobj\u001B[38;5;241m.\u001B[39mindex)\n",
      "File \u001B[1;32m~\\PycharmProjects\\IndividualProject\\venv\\lib\\site-packages\\pandas\\_libs\\lib.pyx:2919\u001B[0m, in \u001B[0;36mpandas._libs.lib.map_infer\u001B[1;34m()\u001B[0m\n",
      "Cell \u001B[1;32mIn [14], line 5\u001B[0m, in \u001B[0;36m<lambda>\u001B[1;34m(x)\u001B[0m\n\u001B[0;32m      1\u001B[0m \u001B[38;5;66;03m#Remove brackets\u001B[39;00m\n\u001B[0;32m      3\u001B[0m recipeDataSetFormated\u001B[38;5;241m.\u001B[39mloc[\u001B[38;5;124m'\u001B[39m\u001B[38;5;124mingredient_tokens\u001B[39m\u001B[38;5;124m'\u001B[39m] \u001B[38;5;241m=\u001B[39m  recipeDataSetFormated[\u001B[38;5;124m'\u001B[39m\u001B[38;5;124mingredient_tokens\u001B[39m\u001B[38;5;124m'\u001B[39m]\u001B[38;5;241m.\u001B[39mapply(\u001B[38;5;28;01mlambda\u001B[39;00m x: x\u001B[38;5;241m.\u001B[39mreplace(\u001B[38;5;124m'\u001B[39m\u001B[38;5;124m[\u001B[39m\u001B[38;5;124m'\u001B[39m,\u001B[38;5;124m'\u001B[39m\u001B[38;5;124m'\u001B[39m))\n\u001B[1;32m----> 5\u001B[0m recipeDataSetFormated\u001B[38;5;241m.\u001B[39mloc[\u001B[38;5;124m'\u001B[39m\u001B[38;5;124mingredient_tokens\u001B[39m\u001B[38;5;124m'\u001B[39m] \u001B[38;5;241m=\u001B[39m  recipeDataSetFormated[\u001B[38;5;124m'\u001B[39m\u001B[38;5;124mingredient_tokens\u001B[39m\u001B[38;5;124m'\u001B[39m]\u001B[38;5;241m.\u001B[39mapply(\u001B[38;5;28;01mlambda\u001B[39;00m x: \u001B[43mx\u001B[49m\u001B[38;5;241;43m.\u001B[39;49m\u001B[43mreplace\u001B[49m(\u001B[38;5;124m'\u001B[39m\u001B[38;5;124m]\u001B[39m\u001B[38;5;124m'\u001B[39m,\u001B[38;5;124m'\u001B[39m\u001B[38;5;124m'\u001B[39m))\n",
      "\u001B[1;31mAttributeError\u001B[0m: 'float' object has no attribute 'replace'"
     ]
    }
   ],
   "source": [
    "#Remove brackets\n",
    "\n",
    "recipeDataSetFormated.loc['ingredient_tokens'] =  recipeDataSetFormated['ingredient_tokens'].apply(lambda x: x.replace('[',''))\n",
    "\n",
    "recipeDataSetFormated.loc['ingredient_tokens'] =  recipeDataSetFormated['ingredient_tokens'].apply(lambda x: x.replace(']',''))\n",
    "\n",
    "\n"
   ],
   "metadata": {
    "collapsed": false,
    "pycharm": {
     "name": "#%%\n"
    }
   }
  },
  {
   "cell_type": "code",
   "execution_count": null,
   "outputs": [],
   "source": [],
   "metadata": {
    "collapsed": false,
    "pycharm": {
     "name": "#%%\n"
    }
   }
  },
  {
   "cell_type": "markdown",
   "source": [],
   "metadata": {
    "collapsed": false,
    "pycharm": {
     "name": "#%% md\n"
    }
   }
  }
 ],
 "metadata": {
  "kernelspec": {
   "display_name": "Python 3",
   "language": "python",
   "name": "python3"
  },
  "language_info": {
   "codemirror_mode": {
    "name": "ipython",
    "version": 2
   },
   "file_extension": ".py",
   "mimetype": "text/x-python",
   "name": "python",
   "nbconvert_exporter": "python",
   "pygments_lexer": "ipython2",
   "version": "2.7.6"
  }
 },
 "nbformat": 4,
 "nbformat_minor": 0
}