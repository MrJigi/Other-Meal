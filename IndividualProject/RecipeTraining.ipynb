{
 "cells": [
  {
   "cell_type": "markdown",
   "source": [
    "# Loading"
   ],
   "metadata": {
    "collapsed": false,
    "pycharm": {
     "name": "#%% md\n"
    }
   }
  },
  {
   "cell_type": "code",
   "execution_count": 158,
   "outputs": [
    {
     "name": "stdout",
     "output_type": "stream",
     "text": [
      "numpy version: 1.23.3\n",
      "pandas version: 1.5.0\n",
      "scikit-learn version: 1.1.2\n",
      "json version: 2.0.9\n",
      "matplotlib version: 3.6.0\n"
     ]
    }
   ],
   "source": [
    "import json.decoder\n",
    "\n",
    "import numpy as np\n",
    "import pandas as pd\n",
    "import sklearn as sk\n",
    "import json as json\n",
    "# import seaborn as sns\n",
    "import matplotlib\n",
    "import pickle as pk\n",
    "import matplotlib.pyplot as plt\n",
    "from IPython.display import display\n",
    "import seaborn as sns\n",
    "\n",
    "from sklearn.base import BaseEstimator, TransformerMixin\n",
    "from sklearn.feature_extraction.text import CountVectorizer\n",
    "\n",
    "print('numpy version:', np.__version__)\n",
    "print('pandas version:', pd.__version__)\n",
    "print('scikit-learn version:', sk.__version__)\n",
    "print('json version:', json.__version__)\n",
    "print('matplotlib version:', matplotlib.__version__)"
   ],
   "metadata": {
    "collapsed": false,
    "pycharm": {
     "name": "#%%\n"
    }
   }
  },
  {
   "cell_type": "code",
   "execution_count": 159,
   "outputs": [],
   "source": [
    "#DataSets\n",
    "\n",
    "# df = pd.read_csv('/kaggle/input/food-com-recipes-and-user-interactions/RAW_recipes.csv')\n",
    "RAW_recipes = pd.read_csv(r\"C:\\Users\\evald\\Desktop\\Ai minor\\dataset\\Recipes\\archive\\RAW_recipes.csv\")\n",
    "RAW_interactions = pd.read_csv(r\"C:\\Users\\evald\\Desktop\\Ai minor\\dataset\\Recipes\\archive\\RAW_interactions.csv\")\n",
    "pkl_recipes = pd.read_pickle(r\"C:\\Users\\evald\\Desktop\\Ai minor\\dataset\\Recipes\\archive\\ingr_map.pkl\")\n",
    "\n",
    "pp_recipes = pd.read_csv(r\"C:\\Users\\evald\\Desktop\\Ai minor\\dataset\\Recipes\\archive\\PP_recipes.csv\")\n",
    "pp_users = pd.read_csv(r\"C:\\Users\\evald\\Desktop\\Ai minor\\dataset\\Recipes\\archive\\PP_users.csv\")\n",
    "\n",
    "final_ingredients_Raw = pd.read_csv(r\"C:\\Users\\evald\\PycharmProjects\\IndividualProject\\set\\results.csv\")"
   ],
   "metadata": {
    "collapsed": false,
    "pycharm": {
     "name": "#%%\n"
    }
   }
  },
  {
   "cell_type": "code",
   "execution_count": 160,
   "outputs": [],
   "source": [
    "final_ingredients = final_ingredients_Raw[:8000]"
   ],
   "metadata": {
    "collapsed": false,
    "pycharm": {
     "name": "#%%\n"
    }
   }
  },
  {
   "cell_type": "markdown",
   "source": [
    "Setting data"
   ],
   "metadata": {
    "collapsed": false,
    "pycharm": {
     "name": "#%% md\n"
    }
   }
  },
  {
   "cell_type": "code",
   "execution_count": 161,
   "outputs": [
    {
     "name": "stdout",
     "output_type": "stream",
     "text": [
      "               mean  count\n",
      "recipe_id                 \n",
      "38         4.250000      4\n",
      "39         3.000000      1\n",
      "40         4.333333      9\n",
      "41         4.500000      2\n",
      "43         1.000000      1\n",
      "45         2.666667      3\n",
      "46         5.000000      2\n",
      "48         1.000000      2\n",
      "49         4.350000     20\n",
      "50         4.500000      2\n"
     ]
    }
   ],
   "source": [
    "#Store average rating of meals\n",
    "AvgInteractions = RAW_interactions['rating'].mean()\n",
    "\n",
    "#Group seperate meal ratings together and get average meal score equally prevent recipe_id from being an index\n",
    "newRatingSet = RAW_interactions.groupby(['recipe_id'])['rating'].agg(['mean', 'count'])\n",
    "print(newRatingSet.head(10))\n",
    "newRatingSet.reset_index(inplace=True)\n",
    "\n",
    "#Rename columns\n",
    "newRatingSet.rename(columns={'mean': 'average_rating', 'count': 'votes'}, inplace=True)\n",
    "newRatingSet.head(10)\n",
    "#Merge ratings dataframe with recipe Dataframe\n",
    "food_df = pd.merge(RAW_recipes, newRatingSet, left_on='id', right_on='recipe_id')"
   ],
   "metadata": {
    "collapsed": false,
    "pycharm": {
     "name": "#%%\n"
    }
   }
  },
  {
   "cell_type": "markdown",
   "source": [
    "# Machine learning"
   ],
   "metadata": {
    "collapsed": false,
    "pycharm": {
     "name": "#%% md\n"
    }
   }
  },
  {
   "cell_type": "markdown",
   "source": [
    "## Load libraries"
   ],
   "metadata": {
    "collapsed": false,
    "pycharm": {
     "name": "#%% md\n"
    }
   }
  },
  {
   "cell_type": "code",
   "execution_count": 162,
   "outputs": [],
   "source": [
    "from sklearn import preprocessing,metrics,neighbors,model_selection\n",
    "from sklearn.compose import ColumnTransformer\n",
    "from sklearn.feature_extraction import FeatureHasher\n",
    "from sklearn.feature_extraction.text import CountVectorizer\n",
    "from sklearn.model_selection import train_test_split\n",
    "from sklearn.preprocessing import MinMaxScaler, OneHotEncoder,LabelEncoder,StandardScaler\n",
    "from sklearn.feature_extraction.text import TfidfVectorizer\n",
    "from sklearn.metrics.pairwise import cosine_similarity, linear_kernel\n",
    "from sklearn.neighbors import NearestNeighbors,KNeighborsClassifier\n",
    "from scipy.sparse import csr_matrix\n",
    "\n",
    "from sklearn.preprocessing import Normalizer"
   ],
   "metadata": {
    "collapsed": false,
    "pycharm": {
     "name": "#%%\n"
    }
   }
  },
  {
   "cell_type": "code",
   "execution_count": 162,
   "outputs": [],
   "source": [],
   "metadata": {
    "collapsed": false,
    "pycharm": {
     "name": "#%%\n"
    }
   }
  },
  {
   "cell_type": "markdown",
   "source": [
    "## Hot Encoding"
   ],
   "metadata": {
    "collapsed": false,
    "pycharm": {
     "name": "#%% md\n"
    }
   }
  },
  {
   "cell_type": "code",
   "execution_count": 163,
   "outputs": [
    {
     "data": {
      "text/plain": "          id                                    name  \\\n0     424415      aromatic basmati rice  rice cooker   \n1     146223                   pumpkin pie a la easy   \n2     312329        cheesy tomato soup with potatoes   \n3      74301                              mini tacos   \n4      76272                rosemary s hanky panky s   \n...      ...                                     ...   \n7995  210151                        deviled sausages   \n7996  413579  butternut squash pesto pizza flatbread   \n7997   93183                 strawberry tossed salad   \n7998  135158        byessar  moroccan broad bean dip   \n7999  391856          roasted parsnips with shallots   \n\n                                            ingredients  \n0     basmati rice, water, salt, cinnamon stick, gre...  \n1     flour, oats, brown sugar, pecans, butter, eggs...  \n2     chicken broth, water, salt, black pepper, onio...  \n3     wonton wrappers, hamburger, taco seasoning, sa...  \n4     ground beef, ground sausage, velveeta cheese, ...  \n...                                                 ...  \n7995  white wine, soy sauce, malt vinegar, worcester...  \n7996  butternut squash, onion, brown sugar, sea salt...  \n7997  vegetable oil, sugar, cider vinegar, garlic, s...  \n7998  broad bean, lemon rind, garlic cloves, ras el ...  \n7999  parsnips, garlic cloves, shallots, olive oil, ...  \n\n[8000 rows x 3 columns]",
      "text/html": "<div>\n<style scoped>\n    .dataframe tbody tr th:only-of-type {\n        vertical-align: middle;\n    }\n\n    .dataframe tbody tr th {\n        vertical-align: top;\n    }\n\n    .dataframe thead th {\n        text-align: right;\n    }\n</style>\n<table border=\"1\" class=\"dataframe\">\n  <thead>\n    <tr style=\"text-align: right;\">\n      <th></th>\n      <th>id</th>\n      <th>name</th>\n      <th>ingredients</th>\n    </tr>\n  </thead>\n  <tbody>\n    <tr>\n      <th>0</th>\n      <td>424415</td>\n      <td>aromatic basmati rice  rice cooker</td>\n      <td>basmati rice, water, salt, cinnamon stick, gre...</td>\n    </tr>\n    <tr>\n      <th>1</th>\n      <td>146223</td>\n      <td>pumpkin pie a la easy</td>\n      <td>flour, oats, brown sugar, pecans, butter, eggs...</td>\n    </tr>\n    <tr>\n      <th>2</th>\n      <td>312329</td>\n      <td>cheesy tomato soup with potatoes</td>\n      <td>chicken broth, water, salt, black pepper, onio...</td>\n    </tr>\n    <tr>\n      <th>3</th>\n      <td>74301</td>\n      <td>mini tacos</td>\n      <td>wonton wrappers, hamburger, taco seasoning, sa...</td>\n    </tr>\n    <tr>\n      <th>4</th>\n      <td>76272</td>\n      <td>rosemary s hanky panky s</td>\n      <td>ground beef, ground sausage, velveeta cheese, ...</td>\n    </tr>\n    <tr>\n      <th>...</th>\n      <td>...</td>\n      <td>...</td>\n      <td>...</td>\n    </tr>\n    <tr>\n      <th>7995</th>\n      <td>210151</td>\n      <td>deviled sausages</td>\n      <td>white wine, soy sauce, malt vinegar, worcester...</td>\n    </tr>\n    <tr>\n      <th>7996</th>\n      <td>413579</td>\n      <td>butternut squash pesto pizza flatbread</td>\n      <td>butternut squash, onion, brown sugar, sea salt...</td>\n    </tr>\n    <tr>\n      <th>7997</th>\n      <td>93183</td>\n      <td>strawberry tossed salad</td>\n      <td>vegetable oil, sugar, cider vinegar, garlic, s...</td>\n    </tr>\n    <tr>\n      <th>7998</th>\n      <td>135158</td>\n      <td>byessar  moroccan broad bean dip</td>\n      <td>broad bean, lemon rind, garlic cloves, ras el ...</td>\n    </tr>\n    <tr>\n      <th>7999</th>\n      <td>391856</td>\n      <td>roasted parsnips with shallots</td>\n      <td>parsnips, garlic cloves, shallots, olive oil, ...</td>\n    </tr>\n  </tbody>\n</table>\n<p>8000 rows × 3 columns</p>\n</div>"
     },
     "execution_count": 163,
     "metadata": {},
     "output_type": "execute_result"
    }
   ],
   "source": [
    "IngredientEncoding = final_ingredients[['id','name','ingredients']].__deepcopy__()\n",
    "IngredientEncoding"
   ],
   "metadata": {
    "collapsed": false,
    "pycharm": {
     "name": "#%%\n"
    }
   }
  },
  {
   "cell_type": "code",
   "execution_count": 163,
   "outputs": [],
   "source": [],
   "metadata": {
    "collapsed": false,
    "pycharm": {
     "name": "#%%\n"
    }
   }
  },
  {
   "cell_type": "code",
   "execution_count": 164,
   "outputs": [],
   "source": [
    "IngredientEncoding_recipe =  final_ingredients[['id','name','description','ingredients']].__deepcopy__()\n",
    "favorite_ingredients = ['dressing', 'sausage', 'chile', 'cake mix', 'cheddar', 'tortilla','pickle', 'lettuce', 'cream cheese', 'rum']\n",
    "\n",
    "IngredientEncoding_recipe[['dressing', 'sausage', 'chile', 'cake mix', 'cheddar', 'tortilla','pickle', 'lettuce', 'cream cheese', 'rum']] = 0"
   ],
   "metadata": {
    "collapsed": false,
    "pycharm": {
     "name": "#%%\n"
    }
   }
  },
  {
   "cell_type": "code",
   "execution_count": 164,
   "outputs": [],
   "source": [],
   "metadata": {
    "collapsed": false,
    "pycharm": {
     "name": "#%%\n"
    }
   }
  },
  {
   "cell_type": "markdown",
   "source": [
    "## Tokenization"
   ],
   "metadata": {
    "collapsed": false,
    "pycharm": {
     "name": "#%% md\n"
    }
   }
  },
  {
   "cell_type": "code",
   "execution_count": 165,
   "outputs": [
    {
     "data": {
      "text/plain": "(8000, 1955)"
     },
     "execution_count": 165,
     "metadata": {},
     "output_type": "execute_result"
    }
   ],
   "source": [
    "# Create a TfidfVectorizer and Remove stopwords\n",
    "tfidf = TfidfVectorizer(stop_words='english')\n",
    "# Fit and transform the data to a tfidf matrix\n",
    "tfidf_matrix = tfidf.fit_transform(IngredientEncoding['ingredients'])\n",
    "# Print the shape of the tfidf_matrix\n",
    "tfidf_matrix.shape"
   ],
   "metadata": {
    "collapsed": false,
    "pycharm": {
     "name": "#%%\n"
    }
   }
  },
  {
   "cell_type": "markdown",
   "source": [
    "## Cosine similarity"
   ],
   "metadata": {
    "collapsed": false,
    "pycharm": {
     "name": "#%% md\n"
    }
   }
  },
  {
   "cell_type": "code",
   "execution_count": 166,
   "outputs": [],
   "source": [
    "# Compute the cosine similarity between each movie description\n",
    "cosine_sim = linear_kernel(tfidf_matrix, tfidf_matrix)"
   ],
   "metadata": {
    "collapsed": false,
    "pycharm": {
     "name": "#%%\n"
    }
   }
  },
  {
   "cell_type": "code",
   "execution_count": 174,
   "outputs": [],
   "source": [
    "indices = pd.Series(IngredientEncoding.index, index=IngredientEncoding['ingredients']).drop_duplicates()"
   ],
   "metadata": {
    "collapsed": false,
    "pycharm": {
     "name": "#%%\n"
    }
   }
  },
  {
   "cell_type": "code",
   "execution_count": 179,
   "outputs": [
    {
     "data": {
      "text/plain": "          id                                    name  \\\n0     424415      aromatic basmati rice  rice cooker   \n1     146223                   pumpkin pie a la easy   \n2     312329        cheesy tomato soup with potatoes   \n3      74301                              mini tacos   \n4      76272                rosemary s hanky panky s   \n...      ...                                     ...   \n7995  210151                        deviled sausages   \n7996  413579  butternut squash pesto pizza flatbread   \n7997   93183                 strawberry tossed salad   \n7998  135158        byessar  moroccan broad bean dip   \n7999  391856          roasted parsnips with shallots   \n\n                                            ingredients  \n0     basmati rice, water, salt, cinnamon stick, gre...  \n1     flour, oats, brown sugar, pecans, butter, eggs...  \n2     chicken broth, water, salt, black pepper, onio...  \n3     wonton wrappers, hamburger, taco seasoning, sa...  \n4     ground beef, ground sausage, velveeta cheese, ...  \n...                                                 ...  \n7995  white wine, soy sauce, malt vinegar, worcester...  \n7996  butternut squash, onion, brown sugar, sea salt...  \n7997  vegetable oil, sugar, cider vinegar, garlic, s...  \n7998  broad bean, lemon rind, garlic cloves, ras el ...  \n7999  parsnips, garlic cloves, shallots, olive oil, ...  \n\n[8000 rows x 3 columns]",
      "text/html": "<div>\n<style scoped>\n    .dataframe tbody tr th:only-of-type {\n        vertical-align: middle;\n    }\n\n    .dataframe tbody tr th {\n        vertical-align: top;\n    }\n\n    .dataframe thead th {\n        text-align: right;\n    }\n</style>\n<table border=\"1\" class=\"dataframe\">\n  <thead>\n    <tr style=\"text-align: right;\">\n      <th></th>\n      <th>id</th>\n      <th>name</th>\n      <th>ingredients</th>\n    </tr>\n  </thead>\n  <tbody>\n    <tr>\n      <th>0</th>\n      <td>424415</td>\n      <td>aromatic basmati rice  rice cooker</td>\n      <td>basmati rice, water, salt, cinnamon stick, gre...</td>\n    </tr>\n    <tr>\n      <th>1</th>\n      <td>146223</td>\n      <td>pumpkin pie a la easy</td>\n      <td>flour, oats, brown sugar, pecans, butter, eggs...</td>\n    </tr>\n    <tr>\n      <th>2</th>\n      <td>312329</td>\n      <td>cheesy tomato soup with potatoes</td>\n      <td>chicken broth, water, salt, black pepper, onio...</td>\n    </tr>\n    <tr>\n      <th>3</th>\n      <td>74301</td>\n      <td>mini tacos</td>\n      <td>wonton wrappers, hamburger, taco seasoning, sa...</td>\n    </tr>\n    <tr>\n      <th>4</th>\n      <td>76272</td>\n      <td>rosemary s hanky panky s</td>\n      <td>ground beef, ground sausage, velveeta cheese, ...</td>\n    </tr>\n    <tr>\n      <th>...</th>\n      <td>...</td>\n      <td>...</td>\n      <td>...</td>\n    </tr>\n    <tr>\n      <th>7995</th>\n      <td>210151</td>\n      <td>deviled sausages</td>\n      <td>white wine, soy sauce, malt vinegar, worcester...</td>\n    </tr>\n    <tr>\n      <th>7996</th>\n      <td>413579</td>\n      <td>butternut squash pesto pizza flatbread</td>\n      <td>butternut squash, onion, brown sugar, sea salt...</td>\n    </tr>\n    <tr>\n      <th>7997</th>\n      <td>93183</td>\n      <td>strawberry tossed salad</td>\n      <td>vegetable oil, sugar, cider vinegar, garlic, s...</td>\n    </tr>\n    <tr>\n      <th>7998</th>\n      <td>135158</td>\n      <td>byessar  moroccan broad bean dip</td>\n      <td>broad bean, lemon rind, garlic cloves, ras el ...</td>\n    </tr>\n    <tr>\n      <th>7999</th>\n      <td>391856</td>\n      <td>roasted parsnips with shallots</td>\n      <td>parsnips, garlic cloves, shallots, olive oil, ...</td>\n    </tr>\n  </tbody>\n</table>\n<p>8000 rows × 3 columns</p>\n</div>"
     },
     "execution_count": 179,
     "metadata": {},
     "output_type": "execute_result"
    }
   ],
   "source": [
    "IngredientEncoding"
   ],
   "metadata": {
    "collapsed": false,
    "pycharm": {
     "name": "#%%\n"
    }
   }
  },
  {
   "cell_type": "code",
   "execution_count": 175,
   "outputs": [],
   "source": [
    "def get_recommendations(title, cosine_sim=cosine_sim, num_recommend = 10):\n",
    "    idx = indices[title]# Get the pairwsie similarity scores of all movies with that movie\n",
    "    sim_scores = list(enumerate(cosine_sim[idx]))# Sort the movies based on the similarity scores\n",
    "    sim_scores = sorted(sim_scores, key=lambda x: x[1], reverse=True)# Get the scores of the 10 most similar movies\n",
    "    top_similar = sim_scores[1:num_recommend+1]# Get the movie indices\n",
    "    movie_indices = [i[0] for i in top_similar]# Return the top 10 most similar movies\n",
    "    return IngredientEncoding['ingredients'].iloc[movie_indices]"
   ],
   "metadata": {
    "collapsed": false,
    "pycharm": {
     "name": "#%%\n"
    }
   }
  },
  {
   "cell_type": "code",
   "execution_count": 178,
   "outputs": [
    {
     "ename": "KeyError",
     "evalue": "'Chicken'",
     "output_type": "error",
     "traceback": [
      "\u001B[1;31m---------------------------------------------------------------------------\u001B[0m",
      "\u001B[1;31mKeyError\u001B[0m                                  Traceback (most recent call last)",
      "File \u001B[1;32m~\\PycharmProjects\\IndividualProject\\venv\\lib\\site-packages\\pandas\\core\\indexes\\base.py:3800\u001B[0m, in \u001B[0;36mIndex.get_loc\u001B[1;34m(self, key, method, tolerance)\u001B[0m\n\u001B[0;32m   3799\u001B[0m \u001B[38;5;28;01mtry\u001B[39;00m:\n\u001B[1;32m-> 3800\u001B[0m     \u001B[38;5;28;01mreturn\u001B[39;00m \u001B[38;5;28;43mself\u001B[39;49m\u001B[38;5;241;43m.\u001B[39;49m\u001B[43m_engine\u001B[49m\u001B[38;5;241;43m.\u001B[39;49m\u001B[43mget_loc\u001B[49m\u001B[43m(\u001B[49m\u001B[43mcasted_key\u001B[49m\u001B[43m)\u001B[49m\n\u001B[0;32m   3801\u001B[0m \u001B[38;5;28;01mexcept\u001B[39;00m \u001B[38;5;167;01mKeyError\u001B[39;00m \u001B[38;5;28;01mas\u001B[39;00m err:\n",
      "File \u001B[1;32m~\\PycharmProjects\\IndividualProject\\venv\\lib\\site-packages\\pandas\\_libs\\index.pyx:138\u001B[0m, in \u001B[0;36mpandas._libs.index.IndexEngine.get_loc\u001B[1;34m()\u001B[0m\n",
      "File \u001B[1;32m~\\PycharmProjects\\IndividualProject\\venv\\lib\\site-packages\\pandas\\_libs\\index.pyx:162\u001B[0m, in \u001B[0;36mpandas._libs.index.IndexEngine.get_loc\u001B[1;34m()\u001B[0m\n",
      "File \u001B[1;32m~\\PycharmProjects\\IndividualProject\\venv\\lib\\site-packages\\pandas\\_libs\\index.pyx:203\u001B[0m, in \u001B[0;36mpandas._libs.index.IndexEngine._get_loc_duplicates\u001B[1;34m()\u001B[0m\n",
      "File \u001B[1;32m~\\PycharmProjects\\IndividualProject\\venv\\lib\\site-packages\\pandas\\_libs\\index.pyx:211\u001B[0m, in \u001B[0;36mpandas._libs.index.IndexEngine._maybe_get_bool_indexer\u001B[1;34m()\u001B[0m\n",
      "File \u001B[1;32m~\\PycharmProjects\\IndividualProject\\venv\\lib\\site-packages\\pandas\\_libs\\index.pyx:107\u001B[0m, in \u001B[0;36mpandas._libs.index._unpack_bool_indexer\u001B[1;34m()\u001B[0m\n",
      "\u001B[1;31mKeyError\u001B[0m: 'Chicken'",
      "\nThe above exception was the direct cause of the following exception:\n",
      "\u001B[1;31mKeyError\u001B[0m                                  Traceback (most recent call last)",
      "Cell \u001B[1;32mIn [178], line 1\u001B[0m\n\u001B[1;32m----> 1\u001B[0m get_recommendations(\u001B[38;5;124m'\u001B[39m\u001B[38;5;124mChicken\u001B[39m\u001B[38;5;124m'\u001B[39m, num_recommend \u001B[38;5;241m=\u001B[39m \u001B[38;5;241m20\u001B[39m)\n",
      "Cell \u001B[1;32mIn [175], line 2\u001B[0m, in \u001B[0;36mget_recommendations\u001B[1;34m(title, cosine_sim, num_recommend)\u001B[0m\n\u001B[0;32m      1\u001B[0m \u001B[38;5;28;01mdef\u001B[39;00m \u001B[38;5;21mget_recommendations\u001B[39m(title, cosine_sim\u001B[38;5;241m=\u001B[39mcosine_sim, num_recommend \u001B[38;5;241m=\u001B[39m \u001B[38;5;241m10\u001B[39m):\n\u001B[1;32m----> 2\u001B[0m     idx \u001B[38;5;241m=\u001B[39m \u001B[43mindices\u001B[49m\u001B[43m[\u001B[49m\u001B[43mtitle\u001B[49m\u001B[43m]\u001B[49m\u001B[38;5;66;03m# Get the pairwsie similarity scores of all movies with that movie\u001B[39;00m\n\u001B[0;32m      3\u001B[0m     sim_scores \u001B[38;5;241m=\u001B[39m \u001B[38;5;28mlist\u001B[39m(\u001B[38;5;28menumerate\u001B[39m(cosine_sim[idx]))\u001B[38;5;66;03m# Sort the movies based on the similarity scores\u001B[39;00m\n\u001B[0;32m      4\u001B[0m     sim_scores \u001B[38;5;241m=\u001B[39m \u001B[38;5;28msorted\u001B[39m(sim_scores, key\u001B[38;5;241m=\u001B[39m\u001B[38;5;28;01mlambda\u001B[39;00m x: x[\u001B[38;5;241m1\u001B[39m], reverse\u001B[38;5;241m=\u001B[39m\u001B[38;5;28;01mTrue\u001B[39;00m)\u001B[38;5;66;03m# Get the scores of the 10 most similar movies\u001B[39;00m\n",
      "File \u001B[1;32m~\\PycharmProjects\\IndividualProject\\venv\\lib\\site-packages\\pandas\\core\\series.py:982\u001B[0m, in \u001B[0;36mSeries.__getitem__\u001B[1;34m(self, key)\u001B[0m\n\u001B[0;32m    979\u001B[0m     \u001B[38;5;28;01mreturn\u001B[39;00m \u001B[38;5;28mself\u001B[39m\u001B[38;5;241m.\u001B[39m_values[key]\n\u001B[0;32m    981\u001B[0m \u001B[38;5;28;01melif\u001B[39;00m key_is_scalar:\n\u001B[1;32m--> 982\u001B[0m     \u001B[38;5;28;01mreturn\u001B[39;00m \u001B[38;5;28;43mself\u001B[39;49m\u001B[38;5;241;43m.\u001B[39;49m\u001B[43m_get_value\u001B[49m\u001B[43m(\u001B[49m\u001B[43mkey\u001B[49m\u001B[43m)\u001B[49m\n\u001B[0;32m    984\u001B[0m \u001B[38;5;28;01mif\u001B[39;00m is_hashable(key):\n\u001B[0;32m    985\u001B[0m     \u001B[38;5;66;03m# Otherwise index.get_value will raise InvalidIndexError\u001B[39;00m\n\u001B[0;32m    986\u001B[0m     \u001B[38;5;28;01mtry\u001B[39;00m:\n\u001B[0;32m    987\u001B[0m         \u001B[38;5;66;03m# For labels that don't resolve as scalars like tuples and frozensets\u001B[39;00m\n",
      "File \u001B[1;32m~\\PycharmProjects\\IndividualProject\\venv\\lib\\site-packages\\pandas\\core\\series.py:1092\u001B[0m, in \u001B[0;36mSeries._get_value\u001B[1;34m(self, label, takeable)\u001B[0m\n\u001B[0;32m   1089\u001B[0m     \u001B[38;5;28;01mreturn\u001B[39;00m \u001B[38;5;28mself\u001B[39m\u001B[38;5;241m.\u001B[39m_values[label]\n\u001B[0;32m   1091\u001B[0m \u001B[38;5;66;03m# Similar to Index.get_value, but we do not fall back to positional\u001B[39;00m\n\u001B[1;32m-> 1092\u001B[0m loc \u001B[38;5;241m=\u001B[39m \u001B[38;5;28;43mself\u001B[39;49m\u001B[38;5;241;43m.\u001B[39;49m\u001B[43mindex\u001B[49m\u001B[38;5;241;43m.\u001B[39;49m\u001B[43mget_loc\u001B[49m\u001B[43m(\u001B[49m\u001B[43mlabel\u001B[49m\u001B[43m)\u001B[49m\n\u001B[0;32m   1093\u001B[0m \u001B[38;5;28;01mreturn\u001B[39;00m \u001B[38;5;28mself\u001B[39m\u001B[38;5;241m.\u001B[39mindex\u001B[38;5;241m.\u001B[39m_get_values_for_loc(\u001B[38;5;28mself\u001B[39m, loc, label)\n",
      "File \u001B[1;32m~\\PycharmProjects\\IndividualProject\\venv\\lib\\site-packages\\pandas\\core\\indexes\\base.py:3802\u001B[0m, in \u001B[0;36mIndex.get_loc\u001B[1;34m(self, key, method, tolerance)\u001B[0m\n\u001B[0;32m   3800\u001B[0m     \u001B[38;5;28;01mreturn\u001B[39;00m \u001B[38;5;28mself\u001B[39m\u001B[38;5;241m.\u001B[39m_engine\u001B[38;5;241m.\u001B[39mget_loc(casted_key)\n\u001B[0;32m   3801\u001B[0m \u001B[38;5;28;01mexcept\u001B[39;00m \u001B[38;5;167;01mKeyError\u001B[39;00m \u001B[38;5;28;01mas\u001B[39;00m err:\n\u001B[1;32m-> 3802\u001B[0m     \u001B[38;5;28;01mraise\u001B[39;00m \u001B[38;5;167;01mKeyError\u001B[39;00m(key) \u001B[38;5;28;01mfrom\u001B[39;00m \u001B[38;5;21;01merr\u001B[39;00m\n\u001B[0;32m   3803\u001B[0m \u001B[38;5;28;01mexcept\u001B[39;00m \u001B[38;5;167;01mTypeError\u001B[39;00m:\n\u001B[0;32m   3804\u001B[0m     \u001B[38;5;66;03m# If we have a listlike key, _check_indexing_error will raise\u001B[39;00m\n\u001B[0;32m   3805\u001B[0m     \u001B[38;5;66;03m#  InvalidIndexError. Otherwise we fall through and re-raise\u001B[39;00m\n\u001B[0;32m   3806\u001B[0m     \u001B[38;5;66;03m#  the TypeError.\u001B[39;00m\n\u001B[0;32m   3807\u001B[0m     \u001B[38;5;28mself\u001B[39m\u001B[38;5;241m.\u001B[39m_check_indexing_error(key)\n",
      "\u001B[1;31mKeyError\u001B[0m: 'Chicken'"
     ]
    }
   ],
   "source": [
    "get_recommendations('Chicken', num_recommend = 20)"
   ],
   "metadata": {
    "collapsed": false,
    "pycharm": {
     "name": "#%%\n"
    }
   }
  },
  {
   "cell_type": "markdown",
   "source": [
    "# Crosstabulation"
   ],
   "metadata": {
    "collapsed": false,
    "pycharm": {
     "name": "#%% md\n"
    }
   }
  },
  {
   "cell_type": "code",
   "execution_count": null,
   "outputs": [],
   "source": [
    "# crossTab = pd.crosstab(RAW_recipes[\"replaced\"],final_ingredients[\"ingredients\"]).sample(1000)"
   ],
   "metadata": {
    "collapsed": false,
    "pycharm": {
     "name": "#%%\n"
    }
   }
  },
  {
   "cell_type": "code",
   "execution_count": null,
   "outputs": [],
   "source": [],
   "metadata": {
    "collapsed": false,
    "pycharm": {
     "name": "#%%\n"
    }
   }
  },
  {
   "cell_type": "markdown",
   "source": [
    "## Numerical collumns only"
   ],
   "metadata": {
    "collapsed": false,
    "pycharm": {
     "name": "#%% md\n"
    }
   }
  },
  {
   "cell_type": "code",
   "execution_count": null,
   "outputs": [],
   "source": [
    "Recipe_prep = final_ingredients[[\"id\",\"minutes\",\"n_steps\",\"n_ingredients\",\"average_rating\",\"votes\",\"like\"]]"
   ],
   "metadata": {
    "collapsed": false,
    "pycharm": {
     "name": "#%%\n"
    }
   }
  },
  {
   "cell_type": "code",
   "execution_count": null,
   "outputs": [],
   "source": [
    "Recipe_prep"
   ],
   "metadata": {
    "collapsed": false,
    "pycharm": {
     "name": "#%%\n"
    }
   }
  },
  {
   "cell_type": "markdown",
   "source": [],
   "metadata": {
    "collapsed": false,
    "pycharm": {
     "name": "#%% md\n"
    }
   }
  },
  {
   "cell_type": "code",
   "execution_count": null,
   "outputs": [],
   "source": [],
   "metadata": {
    "collapsed": false,
    "pycharm": {
     "name": "#%%\n"
    }
   }
  },
  {
   "cell_type": "markdown",
   "source": [
    "## Merging important feature tags"
   ],
   "metadata": {
    "collapsed": false,
    "pycharm": {
     "name": "#%% md\n"
    }
   }
  },
  {
   "cell_type": "code",
   "execution_count": null,
   "outputs": [],
   "source": [
    "\n",
    "def import_feature_tags():\n",
    "    data = IngredientEncoding[:4000]\n",
    "    data['ingredients']= data['ingredients'].str.replace(']', '',regex=False)\n",
    "    data['ingredients']= data['ingredients'].str.replace('[', '',regex=False)\n",
    "    for i in range(0,data.shape[0]):\n",
    "        data[\"ift\"] = data[\"name\"]+' '+ data[\"ingredients\"]\n",
    "    return data"
   ],
   "metadata": {
    "collapsed": false,
    "pycharm": {
     "name": "#%%\n"
    }
   }
  },
  {
   "cell_type": "code",
   "execution_count": null,
   "outputs": [],
   "source": [
    "data = import_feature_tags()"
   ],
   "metadata": {
    "collapsed": false,
    "pycharm": {
     "name": "#%%\n"
    }
   }
  },
  {
   "cell_type": "code",
   "execution_count": null,
   "outputs": [],
   "source": [
    "data.head()"
   ],
   "metadata": {
    "collapsed": false,
    "pycharm": {
     "name": "#%%\n"
    }
   }
  },
  {
   "cell_type": "markdown",
   "source": [
    "## Vectorization"
   ],
   "metadata": {
    "collapsed": false,
    "pycharm": {
     "name": "#%% md\n"
    }
   }
  },
  {
   "cell_type": "code",
   "execution_count": null,
   "outputs": [],
   "source": [
    "countVec = CountVectorizer"
   ],
   "metadata": {
    "collapsed": false,
    "pycharm": {
     "name": "#%%\n"
    }
   }
  },
  {
   "cell_type": "markdown",
   "source": [
    "TfidVec"
   ],
   "metadata": {
    "collapsed": false,
    "pycharm": {
     "name": "#%% md\n"
    }
   }
  },
  {
   "cell_type": "code",
   "execution_count": null,
   "outputs": [],
   "source": [
    "vector = TfidfVectorizer()\n",
    "vectors = vector.fit_transform(data[\"ift\"].apply(lambda x: np.str_(x)))"
   ],
   "metadata": {
    "collapsed": false,
    "pycharm": {
     "name": "#%%\n"
    }
   }
  },
  {
   "cell_type": "code",
   "execution_count": null,
   "outputs": [],
   "source": [
    "vectors.shape"
   ],
   "metadata": {
    "collapsed": false,
    "pycharm": {
     "name": "#%%\n"
    }
   }
  },
  {
   "cell_type": "code",
   "execution_count": null,
   "outputs": [],
   "source": [
    "similarity = cosine_similarity(vectors)"
   ],
   "metadata": {
    "collapsed": false,
    "pycharm": {
     "name": "#%%\n"
    }
   }
  },
  {
   "cell_type": "code",
   "execution_count": null,
   "outputs": [],
   "source": [
    "similarity.shape"
   ],
   "metadata": {
    "collapsed": false,
    "pycharm": {
     "name": "#%%\n"
    }
   }
  },
  {
   "cell_type": "code",
   "execution_count": null,
   "outputs": [],
   "source": [
    "similarity.shape\n",
    "# Collums represent ids\n",
    "similarity[8][8]"
   ],
   "metadata": {
    "collapsed": false,
    "pycharm": {
     "name": "#%%\n"
    }
   }
  },
  {
   "cell_type": "code",
   "execution_count": null,
   "outputs": [],
   "source": [
    "data['ingredients'][2]"
   ],
   "metadata": {
    "collapsed": false,
    "pycharm": {
     "name": "#%%\n"
    }
   }
  },
  {
   "cell_type": "code",
   "execution_count": null,
   "outputs": [],
   "source": [
    "scoresTemp = []\n",
    "def recommend(name):\n",
    "    recipie_id=data[data['ingredients'].str.contains(name)][\"id\"].values[0]\n",
    "    scores = list(enumerate(similarity[recipie_id]))\n",
    "    sorted_scores = sorted(scores,key=lambda x:x[1],reverse=True)\n",
    "    sorted_scores=sorted_scores[1:]\n",
    "    scoresTemp.append(sorted_scores)\n",
    "    # print(sorted_scores +\" \" + \" scores\")\n",
    "    # print(recipie_id)\n",
    "    recipes = [data[recipes[0]==data['id']]['name'].values[0] for recipes in sorted_scores]\n",
    "    # recipes = [data[recipes[0]==data['ids'] , \" \" , recipes[1]]['name'].values[0] for recipes in sorted_scores]\n",
    "    # print(recipes)\n",
    "    return recipes"
   ],
   "metadata": {
    "collapsed": false,
    "pycharm": {
     "name": "#%%\n"
    }
   }
  },
  {
   "cell_type": "code",
   "execution_count": null,
   "outputs": [],
   "source": [
    "def recomend_ten(recipe_list):\n",
    "    ten=[]\n",
    "    count=0\n",
    "    print(\"----\" * 8)\n",
    "    print(\"Top 10 recipes\")\n",
    "    print(\"----\" * 8)\n",
    "    for recipe in recipe_list:\n",
    "        if count > 9:\n",
    "            break\n",
    "        count +=1\n",
    "        print(recipe, \":\" )\n",
    "        ten.append(recipe)\n",
    "    return ten"
   ],
   "metadata": {
    "collapsed": false,
    "pycharm": {
     "name": "#%%\n"
    }
   }
  },
  {
   "cell_type": "code",
   "execution_count": null,
   "outputs": [],
   "source": [
    "r_list = recommend('flour')"
   ],
   "metadata": {
    "collapsed": false,
    "pycharm": {
     "name": "#%%\n"
    }
   }
  },
  {
   "cell_type": "code",
   "execution_count": null,
   "outputs": [],
   "source": [
    "re = recomend_ten(r_list)"
   ],
   "metadata": {
    "collapsed": false,
    "pycharm": {
     "name": "#%%\n"
    }
   }
  },
  {
   "cell_type": "code",
   "execution_count": null,
   "outputs": [],
   "source": [
    "scoresTemp"
   ],
   "metadata": {
    "collapsed": false,
    "pycharm": {
     "name": "#%%\n"
    }
   }
  },
  {
   "cell_type": "code",
   "execution_count": null,
   "outputs": [],
   "source": [
    "re"
   ],
   "metadata": {
    "collapsed": false,
    "pycharm": {
     "name": "#%%\n"
    }
   }
  },
  {
   "cell_type": "markdown",
   "source": [
    "# KNN algorithm\n"
   ],
   "metadata": {
    "collapsed": false,
    "pycharm": {
     "name": "#%% md\n"
    }
   }
  },
  {
   "cell_type": "code",
   "execution_count": null,
   "outputs": [],
   "source": [
    "popularity_threshold = 30\n",
    "rating_popular_recipe=final_ingredients.where(final_ingredients.votes >= popularity_threshold).dropna()\n",
    "rating_popular_recipe.head(10)"
   ],
   "metadata": {
    "collapsed": false,
    "pycharm": {
     "name": "#%%\n"
    }
   }
  },
  {
   "cell_type": "code",
   "execution_count": null,
   "outputs": [],
   "source": [
    "rating_popular_recipe.shape"
   ],
   "metadata": {
    "collapsed": false,
    "pycharm": {
     "name": "#%%\n"
    }
   }
  },
  {
   "cell_type": "code",
   "execution_count": null,
   "outputs": [],
   "source": [
    "recipePrepSet = Recipe_prep[:3765]\n",
    "recipePrepSet"
   ],
   "metadata": {
    "collapsed": false,
    "pycharm": {
     "name": "#%%\n"
    }
   }
  },
  {
   "cell_type": "code",
   "execution_count": null,
   "outputs": [],
   "source": [
    "recipe_like_features_df = rating_popular_recipe.pivot_table(index='name',columns='ingredient_ids',values='like').fillna(0)\n",
    "recipe_like_features_df.head()"
   ],
   "metadata": {
    "collapsed": false,
    "pycharm": {
     "name": "#%%\n"
    }
   }
  },
  {
   "cell_type": "code",
   "execution_count": null,
   "outputs": [],
   "source": [
    "recipe_features_df = rating_popular_recipe.pivot_table(index='name',columns='id',values='average_rating').fillna(0)\n",
    "recipe_features_df.head()"
   ],
   "metadata": {
    "collapsed": false,
    "pycharm": {
     "name": "#%%\n"
    }
   }
  },
  {
   "cell_type": "code",
   "execution_count": null,
   "outputs": [],
   "source": [
    "recipe_features_df_matrix = csr_matrix(recipe_features_df.values)\n",
    "\n",
    "model_knn = NearestNeighbors(metric='cosine', algorithm='brute')\n",
    "model_knn.fit(recipe_features_df_matrix)"
   ],
   "metadata": {
    "collapsed": false,
    "pycharm": {
     "name": "#%%\n"
    }
   }
  },
  {
   "cell_type": "code",
   "execution_count": null,
   "outputs": [],
   "source": [
    "recipe_features_df.shape"
   ],
   "metadata": {
    "collapsed": false,
    "pycharm": {
     "name": "#%%\n"
    }
   }
  },
  {
   "cell_type": "markdown",
   "source": [
    "Selecting random index"
   ],
   "metadata": {
    "collapsed": false,
    "pycharm": {
     "name": "#%% md\n"
    }
   }
  },
  {
   "cell_type": "code",
   "execution_count": null,
   "outputs": [],
   "source": [
    "query_index = np.random.choice(recipe_features_df.shape[0])\n",
    "# query_index = recipe_features_df.shape[4]\n",
    "print(query_index)\n",
    "distances, indices = model_knn.kneighbors(recipe_features_df.iloc[query_index,:].values.reshape(1,-1), n_neighbors= 5)"
   ],
   "metadata": {
    "collapsed": false,
    "pycharm": {
     "name": "#%%\n"
    }
   }
  },
  {
   "cell_type": "code",
   "execution_count": null,
   "outputs": [],
   "source": [
    "recipe_features_df.head(10)"
   ],
   "metadata": {
    "collapsed": false,
    "pycharm": {
     "name": "#%%\n"
    }
   }
  },
  {
   "cell_type": "code",
   "execution_count": null,
   "outputs": [],
   "source": [
    "indices.flatten()"
   ],
   "metadata": {
    "collapsed": false,
    "pycharm": {
     "name": "#%%\n"
    }
   }
  },
  {
   "cell_type": "code",
   "execution_count": null,
   "outputs": [],
   "source": [
    "distances.flatten()"
   ],
   "metadata": {
    "collapsed": false,
    "pycharm": {
     "name": "#%%\n"
    }
   }
  },
  {
   "cell_type": "code",
   "execution_count": null,
   "outputs": [],
   "source": [
    "for i in range(0, len(distances.flatten())):\n",
    "    if i == 0:\n",
    "        print('Recommendations for {0}:\\n'.format(recipe_features_df.index[query_index]))\n",
    "    else:\n",
    "        print('{0}: {1}:, with distance of {1}:\\n'.format(i, recipe_features_df.index[indices.flatten()[i]], distances.flatten()[i]))"
   ],
   "metadata": {
    "collapsed": false,
    "pycharm": {
     "name": "#%%\n"
    }
   }
  },
  {
   "cell_type": "markdown",
   "source": [
    "# Decission tree"
   ],
   "metadata": {
    "collapsed": false,
    "pycharm": {
     "name": "#%% md\n"
    }
   }
  },
  {
   "cell_type": "markdown",
   "source": [
    "Plot the knn"
   ],
   "metadata": {
    "collapsed": false,
    "pycharm": {
     "name": "#%% md\n"
    }
   }
  },
  {
   "cell_type": "code",
   "execution_count": null,
   "outputs": [],
   "source": [
    "from sklearn.model_selection import train_test_split\n",
    "X = Recipe_prep[['average_rating']]\n",
    "y = Recipe_prep[['like']]\n",
    "\n",
    "X_train, X_test, y_train, y_test = train_test_split(X, y, test_size=0.2, random_state=12345)"
   ],
   "metadata": {
    "collapsed": false,
    "pycharm": {
     "name": "#%%\n"
    }
   }
  },
  {
   "cell_type": "code",
   "execution_count": null,
   "outputs": [],
   "source": [
    "from sklearn.model_selection import cross_validate,cross_val_score\n",
    "from sklearn.linear_model import LinearRegression\n",
    "\n",
    "multiReg = LinearRegression()"
   ],
   "metadata": {
    "collapsed": false,
    "pycharm": {
     "name": "#%%\n"
    }
   }
  },
  {
   "cell_type": "code",
   "execution_count": null,
   "outputs": [],
   "source": [
    "lin_score = cross_val_score(multiReg,X_train,y_train,cv=5,scoring='neg_mean_absolute_error')"
   ],
   "metadata": {
    "collapsed": false,
    "pycharm": {
     "name": "#%%\n"
    }
   }
  },
  {
   "cell_type": "code",
   "execution_count": null,
   "outputs": [],
   "source": [
    "lin_score_n = -lin_score\n",
    "lin_score_n"
   ],
   "metadata": {
    "collapsed": false,
    "pycharm": {
     "name": "#%%\n"
    }
   }
  },
  {
   "cell_type": "code",
   "execution_count": null,
   "outputs": [],
   "source": [
    "np.mean(lin_score_n)"
   ],
   "metadata": {
    "collapsed": false,
    "pycharm": {
     "name": "#%%\n"
    }
   }
  },
  {
   "cell_type": "markdown",
   "source": [
    "Decission tree Classifier"
   ],
   "metadata": {
    "collapsed": false,
    "pycharm": {
     "name": "#%% md\n"
    }
   }
  },
  {
   "cell_type": "code",
   "execution_count": null,
   "outputs": [],
   "source": [
    "from sklearn import tree\n",
    "from sklearn.tree import DecisionTreeClassifier"
   ],
   "metadata": {
    "collapsed": false,
    "pycharm": {
     "name": "#%%\n"
    }
   }
  },
  {
   "cell_type": "code",
   "execution_count": null,
   "outputs": [],
   "source": [
    "tree_clf = DecisionTreeClassifier(criterion='entropy', max_depth=2, min_samples_split=2, random_state = 42)\n",
    "tree_clf.fit(X_train,y_train)"
   ],
   "metadata": {
    "collapsed": false,
    "pycharm": {
     "name": "#%%\n"
    }
   }
  },
  {
   "cell_type": "code",
   "execution_count": null,
   "outputs": [],
   "source": [
    "y_predict = tree_clf.predict(X_test)"
   ],
   "metadata": {
    "collapsed": false,
    "pycharm": {
     "name": "#%%\n"
    }
   }
  },
  {
   "cell_type": "code",
   "execution_count": null,
   "outputs": [],
   "source": [
    "from sklearn.metrics import classification_report, confusion_matrix\n",
    "print(confusion_matrix(y_test,y_predict))\n",
    "print(classification_report(y_test,y_predict))"
   ],
   "metadata": {
    "collapsed": false,
    "pycharm": {
     "name": "#%%\n"
    }
   }
  },
  {
   "cell_type": "code",
   "execution_count": null,
   "outputs": [],
   "source": [
    "tree.plot_tree(tree_clf)"
   ],
   "metadata": {
    "collapsed": false,
    "pycharm": {
     "name": "#%%\n"
    }
   }
  },
  {
   "cell_type": "markdown",
   "source": [
    "### Metrics error score"
   ],
   "metadata": {
    "collapsed": false,
    "pycharm": {
     "name": "#%% md\n"
    }
   }
  },
  {
   "cell_type": "code",
   "execution_count": null,
   "outputs": [],
   "source": [
    "from sklearn import metrics\n",
    "print('Mean Absolute Error:', metrics.mean_absolute_error(y_test, y_predict))\n",
    "print('Mean Squared Error:', metrics.mean_squared_error(y_test, y_predict))\n",
    "print('Root Mean Squared Error:', np.sqrt(metrics.mean_squared_error(y_test, y_predict)))"
   ],
   "metadata": {
    "collapsed": false,
    "pycharm": {
     "name": "#%%\n"
    }
   }
  },
  {
   "cell_type": "markdown",
   "source": [],
   "metadata": {
    "collapsed": false,
    "pycharm": {
     "name": "#%% md\n"
    }
   }
  },
  {
   "cell_type": "code",
   "execution_count": null,
   "outputs": [],
   "source": [
    "# def knn_comparison(data, k):\n",
    "#     x = data[[‘X’,’Y’]].values\n",
    "#     y = data[‘class’].astype(int).values\n",
    "#     clf = neighbors.KNeighborsClassifier(n_neighbors=k)\n",
    "#     clf.fit(x, y)\n",
    "#     # Plotting decision region\n",
    "#     plot_decision_regions(x, y, clf=clf, legend=2)\n",
    "#     # Adding axes annotations\n",
    "#     plt.xlabel(‘X’)\n",
    "#     plt.ylabel(‘Y’)\n",
    "#     plt.title(‘Knn with K=’+ str(k))\n",
    "#     plt.show()"
   ],
   "metadata": {
    "collapsed": false,
    "pycharm": {
     "name": "#%%\n"
    }
   }
  },
  {
   "cell_type": "code",
   "execution_count": null,
   "outputs": [],
   "source": [
    "# data1 = final_ingredients\n",
    "# for i in [1,5,20,30,40,80]:\n",
    "#     knn_comparison(data1, i)"
   ],
   "metadata": {
    "collapsed": false,
    "pycharm": {
     "name": "#%%\n"
    }
   }
  },
  {
   "cell_type": "markdown",
   "source": [
    "### Train knn"
   ],
   "metadata": {
    "collapsed": false,
    "pycharm": {
     "name": "#%% md\n"
    }
   }
  },
  {
   "cell_type": "code",
   "execution_count": null,
   "outputs": [],
   "source": [
    "knn_classifier = KNeighborsClassifier(n_neighbors=5)"
   ],
   "metadata": {
    "collapsed": false,
    "pycharm": {
     "name": "#%%\n"
    }
   }
  },
  {
   "cell_type": "code",
   "execution_count": null,
   "outputs": [],
   "source": [
    "knn_classifier.fit(X_train,y_train)"
   ],
   "metadata": {
    "collapsed": false,
    "pycharm": {
     "name": "#%%\n"
    }
   }
  },
  {
   "cell_type": "code",
   "execution_count": null,
   "outputs": [],
   "source": [
    "y_pred = knn_classifier.predict(X_test)"
   ],
   "metadata": {
    "collapsed": false,
    "pycharm": {
     "name": "#%%\n"
    }
   }
  },
  {
   "cell_type": "code",
   "execution_count": null,
   "outputs": [],
   "source": [
    "from sklearn import metrics\n",
    "# Model Accuracy, how often is the classifier correct?\n",
    "print(\"Accuracy:\",metrics.accuracy_score(y_test, y_pred))"
   ],
   "metadata": {
    "collapsed": false,
    "pycharm": {
     "name": "#%%\n"
    }
   }
  },
  {
   "cell_type": "markdown",
   "source": [
    "Plotting knn"
   ],
   "metadata": {
    "collapsed": false,
    "pycharm": {
     "name": "#%% md\n"
    }
   }
  },
  {
   "cell_type": "code",
   "execution_count": null,
   "outputs": [],
   "source": [
    "xChoice = Recipe_prep.__deepcopy__()\n",
    "xChoice = xChoice.where(Recipe_prep['average_rating'] > 3)\n",
    "# xChoice = recipesLikesDislikes[['average_rating']]\n",
    "yChoice = Recipe_prep.__deepcopy__()\n",
    "yChoice = Recipe_prep[(Recipe_prep['like'] == 1)]\n",
    "\n",
    "xChoice.shape\n",
    "\n",
    "\n"
   ],
   "metadata": {
    "collapsed": false,
    "pycharm": {
     "name": "#%%\n"
    }
   }
  },
  {
   "cell_type": "code",
   "execution_count": null,
   "outputs": [],
   "source": [
    "yChoice.shape"
   ],
   "metadata": {
    "collapsed": false,
    "pycharm": {
     "name": "#%%\n"
    }
   }
  },
  {
   "cell_type": "code",
   "execution_count": null,
   "outputs": [],
   "source": [
    "xChoice.dropna()"
   ],
   "metadata": {
    "collapsed": false,
    "pycharm": {
     "name": "#%%\n"
    }
   }
  },
  {
   "cell_type": "code",
   "execution_count": null,
   "outputs": [],
   "source": [
    "empty_count = xChoice.isnull().sum()\n",
    "empty_count"
   ],
   "metadata": {
    "collapsed": false,
    "pycharm": {
     "name": "#%%\n"
    }
   }
  },
  {
   "cell_type": "code",
   "execution_count": null,
   "outputs": [],
   "source": [
    "yChoice.dropna()"
   ],
   "metadata": {
    "collapsed": false,
    "pycharm": {
     "name": "#%%\n"
    }
   }
  },
  {
   "cell_type": "code",
   "execution_count": null,
   "outputs": [],
   "source": [
    "tree_clf = DecisionTreeClassifier(criterion='entropy', max_depth=2, min_samples_split=2, random_state = 42)\n",
    "tree_clf.fit(xChoice,yChoice)\n",
    "\n",
    "tree.plot_tree(tree_clf);"
   ],
   "metadata": {
    "collapsed": false,
    "pycharm": {
     "name": "#%%\n"
    }
   }
  }
 ],
 "metadata": {
  "kernelspec": {
   "display_name": "Python 3",
   "language": "python",
   "name": "python3"
  },
  "language_info": {
   "codemirror_mode": {
    "name": "ipython",
    "version": 2
   },
   "file_extension": ".py",
   "mimetype": "text/x-python",
   "name": "python",
   "nbconvert_exporter": "python",
   "pygments_lexer": "ipython2",
   "version": "2.7.6"
  }
 },
 "nbformat": 4,
 "nbformat_minor": 0
}