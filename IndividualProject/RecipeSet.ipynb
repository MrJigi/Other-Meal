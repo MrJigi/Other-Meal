{
 "cells": [
  {
   "cell_type": "code",
   "execution_count": 2,
   "metadata": {
    "collapsed": true,
    "pycharm": {
     "name": "#%%\n"
    }
   },
   "outputs": [
    {
     "name": "stdout",
     "output_type": "stream",
     "text": [
      "numpy version: 1.23.3\n",
      "pandas version: 1.5.0\n",
      "scikit-learn version: 1.1.2\n",
      "json version: 2.0.9\n",
      "matplotlib version: 3.6.0\n"
     ]
    }
   ],
   "source": [
    "import json.decoder\n",
    "\n",
    "import numpy as np\n",
    "import pandas as pd\n",
    "import sklearn as sk\n",
    "import json as json\n",
    "import matplotlib\n",
    "import pickle as pk\n",
    "import matplotlib.pyplot as plt\n",
    "from IPython.display import display\n",
    "\n",
    "print('numpy version:', np.__version__)\n",
    "print('pandas version:', pd.__version__)\n",
    "print('scikit-learn version:', sk.__version__)\n",
    "print('json version:', json.__version__)\n",
    "print('matplotlib version:', matplotlib.__version__)\n",
    "\n"
   ]
  },
  {
   "cell_type": "markdown",
   "source": [
    "This is to import only the datasets\n"
   ],
   "metadata": {
    "collapsed": false,
    "pycharm": {
     "name": "#%% md\n"
    }
   }
  },
  {
   "cell_type": "code",
   "execution_count": 3,
   "outputs": [],
   "source": [
    "datasetLocations = r\"C:\\Users\\evald\\Desktop\\Ai minor\\dataset\\Recipes\\archive\"\n",
    "\n",
    "\n",
    "JsonRecipe_Test = r\"C:\\Users\\evald\\Desktop\\AI Minor\\dataset\\JsonRecipes\\archive\\full_format_recipes.json\"\n",
    "JsonRecipe_Test_obj = pd.read_json(JsonRecipe_Test)\n",
    "\n",
    "interactions_test = r\"C:\\Users\\evald\\Desktop\\Ai minor\\dataset\\Recipes\\archive\\interactions_test.csv\"\n",
    "interactions_train = r\"C:\\Users\\evald\\Desktop\\Ai minor\\dataset\\Recipes\\archive\\interactions_train.csv\"\n",
    "interactions_validation = r\"C:\\Users\\evald\\Desktop\\Ai minor\\dataset\\Recipes\\archive\\interactions_validation.csv\"\n",
    "PP_recipes = r\"C:\\Users\\evald\\Desktop\\Ai minor\\dataset\\Recipes\\archive\\PP_recipes.csv\"\n",
    "pkl_recipes = r\"C:\\Users\\evald\\Desktop\\Ai minor\\dataset\\Recipes\\archive\\ingr_map.pkl\"\n",
    "PP_users = r\"C:\\Users\\evald\\Desktop\\Ai minor\\dataset\\Recipes\\archive\\PP_users.csv\"\n",
    "RAW_interactions = r\"C:\\Users\\evald\\Desktop\\Ai minor\\dataset\\Recipes\\archive\\RAW_interactions.csv\"\n",
    "RAW_recipes = r\"C:\\Users\\evald\\Desktop\\Ai minor\\dataset\\Recipes\\archive\\RAW_recipes.csv\"\n",
    "\n",
    "nutritionalPath = r\"C:\\Users\\evald\\Desktop\\Ai minor\\dataset\\Epicurious - Recipes with Rating and Nutrition\\archive\\epi_r.csv\"\n",
    "\n",
    "interactions_test_obj = pd.read_csv(interactions_test)\n",
    "interactions_train_obj = pd.read_csv(interactions_train)\n",
    "interactions_validation_obj = pd.read_csv(interactions_validation)\n",
    "PP_recipes_obj = pd.read_csv(PP_recipes)\n",
    "PP_users_obj = pd.read_csv(PP_users)\n",
    "RAW_interactions_obj = pd.read_csv(RAW_interactions)\n",
    "RAW_recipes_obj = pd.read_csv(RAW_recipes)\n",
    "\n",
    "\n",
    "# make it abstract that it could check all of em instead individually one\n",
    "# if interactions_test_obj.isnull != True:\n",
    "#     print('the nutritionalCsv is not null')\n",
    "# else:\n",
    "#     print('the nutritionalValue is null')\n",
    "# if interactions_train_obj.isnull != True:\n",
    "#     print('the interactions_test is not null')\n",
    "# else:\n",
    "#     print('the nutritionalValue is null')\n",
    "# if interactions_validation_obj.isnull != True:\n",
    "#     print('the interactions_validation is not null')\n",
    "# else:\n",
    "#     print('the nutritionalValue is null')\n",
    "# if PP_recipes_obj.isnull != True:\n",
    "#     print('the PP_recipes is not null')\n",
    "# else:\n",
    "#     print('the nutritionalValue is null')\n",
    "# if PP_users_obj.isnull != True:\n",
    "#     print('the PP_users is not null')\n",
    "# else:\n",
    "#     print('the nutritionalValue is null')\n",
    "# if RAW_interactions_obj.isnull != True:\n",
    "#     print('the RAW_interactions is not null')\n",
    "# else:\n",
    "#     print('the RAW_interactions is null')\n",
    "# if RAW_recipes_obj.isnull != True:\n",
    "#     print('the RAW_recipes is not null')\n",
    "# else:\n",
    "#     print('the RAW_recipes is null')\n",
    "\n",
    "# print(nutritionalValue != None)\n",
    "# print(recipeJson != None)"
   ],
   "metadata": {
    "collapsed": false,
    "pycharm": {
     "name": "#%%\n"
    }
   }
  },
  {
   "cell_type": "markdown",
   "source": [
    "Unpacking recipes map"
   ],
   "metadata": {
    "collapsed": false,
    "pycharm": {
     "name": "#%% md\n"
    }
   }
  },
  {
   "cell_type": "code",
   "execution_count": 4,
   "outputs": [
    {
     "name": "stdout",
     "output_type": "stream",
     "text": [
      "<class 'pandas.core.frame.DataFrame'>\n",
      "Int64Index: 11659 entries, 0 to 11658\n",
      "Data columns (total 7 columns):\n",
      " #   Column     Non-Null Count  Dtype \n",
      "---  ------     --------------  ----- \n",
      " 0   raw_ingr   11659 non-null  object\n",
      " 1   raw_words  11659 non-null  int64 \n",
      " 2   processed  11659 non-null  object\n",
      " 3   len_proc   11659 non-null  int64 \n",
      " 4   replaced   11659 non-null  object\n",
      " 5   count      11659 non-null  int64 \n",
      " 6   id         11659 non-null  int16 \n",
      "dtypes: int16(1), int64(3), object(3)\n",
      "memory usage: 660.4+ KB\n",
      "None\n",
      "                                             raw_ingr  raw_words  \\\n",
      "0   medium heads bibb or red leaf lettuce, washed,...         13   \n",
      "1               mixed baby lettuces and spring greens          6   \n",
      "2                                romaine lettuce leaf          3   \n",
      "3                                iceberg lettuce leaf          3   \n",
      "4                                 red romaine lettuce          3   \n",
      "5                                head romaine lettuce          3   \n",
      "6                                curly endive lettuce          3   \n",
      "7                              romaine lettuce hearts          3   \n",
      "8                                   baby leaf lettuce          3   \n",
      "9                                     head of lettuce          3   \n",
      "10                               head iceberg lettuce          3   \n",
      "11                                boston lettuce leaf          3   \n",
      "12                                   heads of lettuce          3   \n",
      "13                                 green leaf lettuce          3   \n",
      "14                             romaine lettuce leaves          3   \n",
      "15                             iceberg lettuce leaves          3   \n",
      "16                                butter lettuce leaf          3   \n",
      "17                              boston lettuce leaves          3   \n",
      "18                                   red leaf lettuce          3   \n",
      "19                              butter lettuce leaves          3   \n",
      "\n",
      "                                            processed  len_proc replaced  \\\n",
      "0   medium heads bibb or red leaf lettuce, washed,...        73  lettuce   \n",
      "1                mixed baby lettuces and spring green        36  lettuce   \n",
      "2                                romaine lettuce leaf        20  lettuce   \n",
      "3                                iceberg lettuce leaf        20  lettuce   \n",
      "4                                 red romaine lettuce        19  lettuce   \n",
      "5                                head romaine lettuce        20  lettuce   \n",
      "6                                curly endive lettuce        20  lettuce   \n",
      "7                               romaine lettuce heart        21  lettuce   \n",
      "8                                   baby leaf lettuce        17  lettuce   \n",
      "9                                     head of lettuce        15  lettuce   \n",
      "10                               head iceberg lettuce        20  lettuce   \n",
      "11                                       lettuce leaf        12  lettuce   \n",
      "12                                   heads of lettuce        16  lettuce   \n",
      "13                                 green leaf lettuce        18  lettuce   \n",
      "14                               romaine lettuce leaf        20  lettuce   \n",
      "15                               iceberg lettuce leaf        20  lettuce   \n",
      "16                                butter lettuce leaf        19  lettuce   \n",
      "17                                       lettuce leaf        12  lettuce   \n",
      "18                                   red leaf lettuce        16  lettuce   \n",
      "19                                butter lettuce leaf        19  lettuce   \n",
      "\n",
      "    count    id  \n",
      "0    4507  4308  \n",
      "1    4507  4308  \n",
      "2    4507  4308  \n",
      "3    4507  4308  \n",
      "4    4507  4308  \n",
      "5    4507  4308  \n",
      "6    4507  4308  \n",
      "7    4507  4308  \n",
      "8    4507  4308  \n",
      "9    4507  4308  \n",
      "10   4507  4308  \n",
      "11   4507  4308  \n",
      "12   4507  4308  \n",
      "13   4507  4308  \n",
      "14   4507  4308  \n",
      "15   4507  4308  \n",
      "16   4507  4308  \n",
      "17   4507  4308  \n",
      "18   4507  4308  \n",
      "19   4507  4308  \n"
     ]
    }
   ],
   "source": [
    "pk_ingredients_column = ['raw_ingr','processed','raw_words','id']\n",
    "with open(pkl_recipes,'rb') as recipe:\n",
    "    data = pk.load(recipe)\n",
    "print(data.info())\n",
    "# print(data.head(10)[pk_ingredients_column])\n",
    "print(data.head(20))"
   ],
   "metadata": {
    "collapsed": false,
    "pycharm": {
     "name": "#%%\n"
    }
   }
  },
  {
   "cell_type": "markdown",
   "source": [
    "List of collumns"
   ],
   "metadata": {
    "collapsed": false,
    "pycharm": {
     "name": "#%% md\n"
    }
   }
  },
  {
   "cell_type": "code",
   "execution_count": 5,
   "outputs": [
    {
     "name": "stdout",
     "output_type": "stream",
     "text": [
      "        id   count replaced\n",
      "0   4308.0  4507.0  lettuce\n",
      "1   4308.0  4507.0  lettuce\n",
      "2   4308.0  4507.0  lettuce\n",
      "3   4308.0  4507.0  lettuce\n",
      "4   4308.0  4507.0  lettuce\n",
      "5   4308.0  4507.0  lettuce\n",
      "6   4308.0  4507.0  lettuce\n",
      "7   4308.0  4507.0  lettuce\n",
      "8   4308.0  4507.0  lettuce\n",
      "9   4308.0  4507.0  lettuce\n",
      "10  4308.0  4507.0  lettuce\n",
      "11  4308.0  4507.0  lettuce\n",
      "12  4308.0  4507.0  lettuce\n",
      "13  4308.0  4507.0  lettuce\n",
      "14  4308.0  4507.0  lettuce\n",
      "15  4308.0  4507.0  lettuce\n",
      "16  4308.0  4507.0  lettuce\n",
      "17  4308.0  4507.0  lettuce\n",
      "18  4308.0  4507.0  lettuce\n",
      "19  4308.0  4507.0  lettuce\n",
      "20  4308.0  4507.0  lettuce\n",
      "21  4308.0  4507.0  lettuce\n",
      "22  4308.0  4507.0  lettuce\n",
      "23  4308.0  4507.0  lettuce\n",
      "24  4308.0  4507.0  lettuce\n",
      "25  4308.0  4507.0  lettuce\n",
      "26  4308.0  4507.0  lettuce\n",
      "27  4308.0  4507.0  lettuce\n",
      "28  4308.0  4507.0  lettuce\n",
      "29  4308.0  4507.0  lettuce\n",
      "30  4308.0  4507.0  lettuce\n",
      "31  4308.0  4507.0  lettuce\n",
      "32  4308.0  4507.0  lettuce\n",
      "33  4308.0  4507.0  lettuce\n",
      "34  4308.0  4507.0  lettuce\n",
      "35  4308.0  4507.0  lettuce\n",
      "36  4308.0  4507.0  lettuce\n",
      "37  4308.0  4507.0  lettuce\n",
      "38  4308.0  4507.0  lettuce\n",
      "39  4308.0  4507.0  lettuce\n",
      "40  4308.0  4507.0  lettuce\n",
      "41  4308.0  4507.0  lettuce\n"
     ]
    }
   ],
   "source": [
    "# # find ingredient name based on ingredient token\n",
    "# ingredient_name = \"\"\n",
    "# # def find_by_ingredient_id(raw_ingredient_id):\n",
    "raw_ingredient_id = 4308\n",
    "# for x in data['id']:\n",
    "#     if raw_ingredient_id == x:\n",
    "#         print(\"ingredient num \" )\n",
    "\n",
    "    # if raw_ingredient_id == x:\n",
    "    #     ingredient_name = x\n",
    "    #     print(\"name :\" + ingredient_name)\n",
    "    # else:\n",
    "    #     print('none')\n",
    "\n",
    "ingredient_model_toSet = pd.read_pickle(pkl_recipes)\n",
    "ingredient_model_set = pd.DataFrame(data,columns=['id', 'count','replaced'])\n",
    "def returnIngredientName(id):\n",
    "    productName = ingredient_model_set['replaced'].where(ingredient_model_set['id'] == id)\n",
    "    return productName\n",
    "\n",
    "\n",
    "\n",
    "# recipeSet = pd.read_pickle(pkl_recipes)\n",
    "print(ingredient_model_set.where(ingredient_model_set['id'] == raw_ingredient_id).dropna())\n",
    "\n",
    "\n",
    "# for values in range (len(ingredient_model_set['id'])) :\n",
    "#     if(ingredient_model_set[values] == raw_ingredient_id):{\n",
    "#         print(ingredient_model_set['replaced'])\n",
    "# }\n",
    "# print(ingredient_model_set['replaced'].where(ingredient_model_set['id'] == raw_ingredient_id))\n",
    "\n",
    "\n"
   ],
   "metadata": {
    "collapsed": false,
    "pycharm": {
     "name": "#%%\n"
    }
   }
  },
  {
   "cell_type": "code",
   "execution_count": 18,
   "outputs": [],
   "source": [
    "# ingredients = PP_recipes['ingredient_tokens']\n",
    "# for x in ingredients:\n",
    "ingredient_column = ['recipe_strings']\n",
    "columns = ['ingredient_tokens']\n",
    "# PP_recipes_obj['recipe_strings'] =\n",
    "# ingredient_tokens = PP_recipes_obj[columns]\n",
    "#\n",
    "# Ingredients =\n",
    "\n",
    "requestedRecipeId = 3847\n",
    "\n",
    "for x in PP_recipes_obj['id']:\n",
    "    print(x)\n",
    "    if(x == requestedRecipeId):\n",
    "        print(\" This is the requested id \" + x)\n",
    "     # for element in x:\n",
    "     #    print(element.index(x))\n",
    "    else:\n",
    "\n",
    "        continue\n",
    "\n",
    "        # find_by_ingredient_id(element)\n",
    "        # print(find_by_ingredient_id(element))\n",
    "\n",
    "# Need to get both ingredient\n",
    "\n",
    "\n",
    "\n"
   ],
   "metadata": {
    "collapsed": false,
    "pycharm": {
     "name": "#%%\n"
    }
   }
  },
  {
   "cell_type": "markdown",
   "source": [
    "Here i will get the recipe data from kaggle\n",
    "With nutritional values - https://www.kaggle.com/datasets/hugodarwood/epirecipes\n",
    "\n",
    "\n",
    "*Get required data from the data-sets collumns."
   ],
   "metadata": {
    "collapsed": false,
    "pycharm": {
     "name": "#%% md\n"
    }
   }
  },
  {
   "cell_type": "code",
   "execution_count": null,
   "outputs": [],
   "source": [
    "columns = ['user_id','recipe_id','date','rating','u','i']\n",
    "\n",
    "interactions_train_obj[columns].head(10)"
   ],
   "metadata": {
    "collapsed": false,
    "pycharm": {
     "name": "#%%\n"
    }
   }
  },
  {
   "cell_type": "markdown",
   "source": [
    "*Check if there is any missing values"
   ],
   "metadata": {
    "collapsed": false,
    "pycharm": {
     "name": "#%% md\n"
    }
   }
  },
  {
   "cell_type": "code",
   "execution_count": null,
   "outputs": [],
   "source": [
    "interactions_train_obj[columns].isnull().values.any()"
   ],
   "metadata": {
    "collapsed": false,
    "pycharm": {
     "name": "#%%\n"
    }
   }
  },
  {
   "cell_type": "code",
   "execution_count": 1,
   "outputs": [],
   "source": [
    "#Create a function to combine the calues of the important columns into a single string\n",
    "\n",
    "def get_important_features(data):\n",
    "    important_features = []\n",
    "    for i in range(0,interactions_train_obj.shape[0]):\n",
    "        important_features.append(data['user_id'][i]+' '+data['recipe_id'][i]+' '+data['date'][i]+' '+data['rating'][i])\n",
    "\n",
    "    return important_features"
   ],
   "metadata": {
    "collapsed": false,
    "pycharm": {
     "name": "#%%\n"
    }
   }
  },
  {
   "cell_type": "markdown",
   "source": [
    "Create a column to hold the combined strings"
   ],
   "metadata": {
    "collapsed": false,
    "pycharm": {
     "name": "#%% md\n"
    }
   }
  },
  {
   "cell_type": "code",
   "execution_count": 2,
   "outputs": [
    {
     "ename": "TypeError",
     "evalue": "get_important_features() missing 1 required positional argument: 'data'",
     "output_type": "error",
     "traceback": [
      "\u001B[1;31m---------------------------------------------------------------------------\u001B[0m",
      "\u001B[1;31mTypeError\u001B[0m                                 Traceback (most recent call last)",
      "Cell \u001B[1;32mIn [2], line 1\u001B[0m\n\u001B[1;32m----> 1\u001B[0m interactions_train_obj[\u001B[38;5;124m'\u001B[39m\u001B[38;5;124mimportant_features\u001B[39m\u001B[38;5;124m'\u001B[39m] \u001B[38;5;241m=\u001B[39m get_important_features()\n",
      "\u001B[1;31mTypeError\u001B[0m: get_important_features() missing 1 required positional argument: 'data'"
     ]
    }
   ],
   "source": [
    "interactions_train_obj['important_features'] = get_important_features()"
   ],
   "metadata": {
    "collapsed": false,
    "pycharm": {
     "name": "#%%\n"
    }
   }
  },
  {
   "cell_type": "markdown",
   "source": [
    "These are the plots that provides how frequently ingredients are used based on ingredients and"
   ],
   "metadata": {
    "collapsed": false,
    "pycharm": {
     "name": "#%% md\n"
    }
   }
  },
  {
   "cell_type": "code",
   "execution_count": null,
   "outputs": [],
   "source": [
    "\n",
    "# make the data\n",
    "np.random.seed(3)\n",
    "x = 4 + np.random.normal(0, 2, 24)\n",
    "y = 4 + np.random.normal(0, 2, len(x))\n",
    "\n",
    "# size and color:\n",
    "sizes = np.random.uniform(15, 80, len(x))\n",
    "colors = np.random.uniform(15, 80, len(x))\n",
    "\n",
    "# plot\n",
    "fig, ax = plt.subplots()\n",
    "\n",
    "ax.scatter(x, y, s=sizes, c=colors, vmin=0, vmax=100)\n",
    "\n",
    "ax.set(xlim=(0, 8), xticks=np.arange(1, 8),\n",
    "       ylim=(0, 8), yticks=np.arange(1, 8))\n",
    "\n",
    "plt.show()\n",
    "\n",
    "\n"
   ],
   "metadata": {
    "collapsed": false,
    "pycharm": {
     "name": "#%%\n"
    }
   }
  },
  {
   "cell_type": "markdown",
   "source": [
    "What ratings are on the recipes"
   ],
   "metadata": {
    "collapsed": false,
    "pycharm": {
     "name": "#%% md\n"
    }
   }
  },
  {
   "cell_type": "code",
   "execution_count": null,
   "outputs": [],
   "source": [
    "#Before I make it I need a data set with Rating / Rating count/\n",
    "import matplotlib.pyplot as plt\n",
    "import numpy as np\n",
    "plt.style.use('_mpl-gallery')\n",
    "\n",
    "pd.Series\n",
    "# make data:\n",
    "np.random.seed(3)\n",
    "x = 0.5 + np.arange(8)\n",
    "y = np.random.uniform(2, 7, len(x))\n",
    "\n",
    "# plot\n",
    "fig, ax = plt.subplots()\n",
    "\n",
    "ax.bar(x, y, width=1, edgecolor=\"white\", linewidth=0.7)\n",
    "\n",
    "ax.set(xlim=(0, 8), xticks=np.arange(1, 8),\n",
    "       ylim=(0, 8), yticks=np.arange(1, 8))\n",
    "\n",
    "plt.show()"
   ],
   "metadata": {
    "collapsed": false,
    "pycharm": {
     "name": "#%%\n"
    }
   }
  },
  {
   "cell_type": "markdown",
   "source": [],
   "metadata": {
    "collapsed": false,
    "pycharm": {
     "name": "#%% md\n"
    }
   }
  },
  {
   "cell_type": "markdown",
   "source": [
    "Step 2 Analysing and visualising the data & cleaning the data\n",
    "In this process the features should be stored in a 2D NxM array (matrix) variable separate from the label which should be stored in a 1D array (or vector) of size N. N (# rows) represents the number of data points or entries, M (# columns) represents the number of features."
   ],
   "metadata": {
    "collapsed": false,
    "pycharm": {
     "name": "#%% md\n"
    }
   }
  },
  {
   "cell_type": "code",
   "execution_count": null,
   "outputs": [],
   "source": [
    "# df_iris['Address'] = df_iris['City'].map({'Iris-setosa': 0, 'Iris-versicolor': 1, 'Iris-virginica': 2})\n",
    "# df_iris.sample(10)"
   ],
   "metadata": {
    "collapsed": false,
    "pycharm": {
     "name": "#%%\n"
    }
   }
  },
  {
   "cell_type": "code",
   "execution_count": null,
   "outputs": [],
   "source": [
    "#Get columns names\n",
    "# iris_features = tuple(df_iris.columns[:4].values)\n",
    "# print(iris_features)\n",
    "#\n",
    "# df_iris.boxplot(column=iris_features, by='Species-id', figsize=(15,8), layout=(1,4));"
   ],
   "metadata": {
    "collapsed": false,
    "pycharm": {
     "name": "#%%\n"
    }
   }
  }
 ],
 "metadata": {
  "kernelspec": {
   "display_name": "Python 3",
   "language": "python",
   "name": "python3"
  },
  "language_info": {
   "codemirror_mode": {
    "name": "ipython",
    "version": 2
   },
   "file_extension": ".py",
   "mimetype": "text/x-python",
   "name": "python",
   "nbconvert_exporter": "python",
   "pygments_lexer": "ipython2",
   "version": "2.7.6"
  }
 },
 "nbformat": 4,
 "nbformat_minor": 0
}