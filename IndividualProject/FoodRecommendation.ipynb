{
 "cells": [
  {
   "cell_type": "markdown",
   "source": [
    "## Loading libraries"
   ],
   "metadata": {
    "collapsed": false,
    "pycharm": {
     "name": "#%% md\n"
    }
   }
  },
  {
   "cell_type": "code",
   "execution_count": 149,
   "metadata": {
    "collapsed": true,
    "pycharm": {
     "name": "#%%\n"
    }
   },
   "outputs": [
    {
     "name": "stdout",
     "output_type": "stream",
     "text": [
      "numpy version: 1.23.3\n",
      "pandas version: 1.5.0\n",
      "scikit-learn version: 1.1.2\n",
      "json version: 2.0.9\n",
      "matplotlib version: 3.6.0\n"
     ]
    }
   ],
   "source": [
    "import json.decoder\n",
    "\n",
    "import numpy as np\n",
    "import pandas as pd\n",
    "import sklearn as sk\n",
    "import json as json\n",
    "# import seaborn as sns\n",
    "import matplotlib\n",
    "import pickle as pk\n",
    "import matplotlib.pyplot as plt\n",
    "from IPython.display import display\n",
    "import seaborn as sns\n",
    "\n",
    "from sklearn.base import BaseEstimator, TransformerMixin\n",
    "from sklearn.feature_extraction.text import CountVectorizer\n",
    "\n",
    "print('numpy version:', np.__version__)\n",
    "print('pandas version:', pd.__version__)\n",
    "print('scikit-learn version:', sk.__version__)\n",
    "print('json version:', json.__version__)\n",
    "print('matplotlib version:', matplotlib.__version__)"
   ]
  },
  {
   "cell_type": "markdown",
   "source": [
    "## Loading data"
   ],
   "metadata": {
    "collapsed": false,
    "pycharm": {
     "name": "#%% md\n"
    }
   }
  },
  {
   "cell_type": "code",
   "execution_count": 232,
   "outputs": [],
   "source": [
    "#DataSets\n",
    "# df = pd.read_csv('/kaggle/input/food-com-recipes-and-user-interactions/RAW_recipes.csv')\n",
    "RAW_recipes = pd.read_csv(r\"C:\\Users\\evald\\Desktop\\Ai minor\\dataset\\Recipes\\archive\\RAW_recipes.csv\")\n",
    "RAW_interactions = pd.read_csv(r\"C:\\Users\\evald\\Desktop\\Ai minor\\dataset\\Recipes\\archive\\RAW_interactions.csv\")\n",
    "pkl_recipes = pd.read_pickle(r\"C:\\Users\\evald\\Desktop\\Ai minor\\dataset\\Recipes\\archive\\ingr_map.pkl\")\n",
    "\n",
    "pp_recipes = pd.read_csv(r\"C:\\Users\\evald\\Desktop\\Ai minor\\dataset\\Recipes\\archive\\PP_recipes.csv\")\n",
    "pp_users = pd.read_csv(r\"C:\\Users\\evald\\Desktop\\Ai minor\\dataset\\Recipes\\archive\\PP_users.csv\")\n",
    "\n",
    "\n",
    "# df2=pd.read_csv('/kaggle/input/food-com-recipes-and-user-interactions/RAW_interactions.csv')\n"
   ],
   "metadata": {
    "collapsed": false,
    "pycharm": {
     "name": "#%%\n"
    }
   }
  },
  {
   "cell_type": "code",
   "execution_count": 233,
   "outputs": [
    {
     "data": {
      "text/plain": "            user_id  recipe_id        date  rating  \\\n0             38094      40893  2003-02-17       4   \n1           1293707      40893  2011-12-21       5   \n2              8937      44394  2002-12-01       4   \n3            126440      85009  2010-02-27       5   \n4             57222      85009  2011-10-01       5   \n...             ...        ...         ...     ...   \n1132362      116593      72730  2003-12-09       0   \n1132363      583662     386618  2009-09-29       5   \n1132364      157126      78003  2008-06-23       5   \n1132365       53932      78003  2009-01-11       4   \n1132366  2001868099      78003  2017-12-18       5   \n\n                                                    review  \n0        Great with a salad. Cooked on top of stove for...  \n1        So simple, so delicious! Great for chilly fall...  \n2        This worked very well and is EASY.  I used not...  \n3        I made the Mexican topping and took it to bunk...  \n4        Made the cheddar bacon topping, adding a sprin...  \n...                                                    ...  \n1132362  Another approach is to start making sauce with...  \n1132363  These were so delicious!  My husband and I tru...  \n1132364  WOW!  Sometimes I don't take the time to rate ...  \n1132365  Very good!  I used regular port as well.  The ...  \n1132366  I am so glad I googled and found this here. Th...  \n\n[1132367 rows x 5 columns]",
      "text/html": "<div>\n<style scoped>\n    .dataframe tbody tr th:only-of-type {\n        vertical-align: middle;\n    }\n\n    .dataframe tbody tr th {\n        vertical-align: top;\n    }\n\n    .dataframe thead th {\n        text-align: right;\n    }\n</style>\n<table border=\"1\" class=\"dataframe\">\n  <thead>\n    <tr style=\"text-align: right;\">\n      <th></th>\n      <th>user_id</th>\n      <th>recipe_id</th>\n      <th>date</th>\n      <th>rating</th>\n      <th>review</th>\n    </tr>\n  </thead>\n  <tbody>\n    <tr>\n      <th>0</th>\n      <td>38094</td>\n      <td>40893</td>\n      <td>2003-02-17</td>\n      <td>4</td>\n      <td>Great with a salad. Cooked on top of stove for...</td>\n    </tr>\n    <tr>\n      <th>1</th>\n      <td>1293707</td>\n      <td>40893</td>\n      <td>2011-12-21</td>\n      <td>5</td>\n      <td>So simple, so delicious! Great for chilly fall...</td>\n    </tr>\n    <tr>\n      <th>2</th>\n      <td>8937</td>\n      <td>44394</td>\n      <td>2002-12-01</td>\n      <td>4</td>\n      <td>This worked very well and is EASY.  I used not...</td>\n    </tr>\n    <tr>\n      <th>3</th>\n      <td>126440</td>\n      <td>85009</td>\n      <td>2010-02-27</td>\n      <td>5</td>\n      <td>I made the Mexican topping and took it to bunk...</td>\n    </tr>\n    <tr>\n      <th>4</th>\n      <td>57222</td>\n      <td>85009</td>\n      <td>2011-10-01</td>\n      <td>5</td>\n      <td>Made the cheddar bacon topping, adding a sprin...</td>\n    </tr>\n    <tr>\n      <th>...</th>\n      <td>...</td>\n      <td>...</td>\n      <td>...</td>\n      <td>...</td>\n      <td>...</td>\n    </tr>\n    <tr>\n      <th>1132362</th>\n      <td>116593</td>\n      <td>72730</td>\n      <td>2003-12-09</td>\n      <td>0</td>\n      <td>Another approach is to start making sauce with...</td>\n    </tr>\n    <tr>\n      <th>1132363</th>\n      <td>583662</td>\n      <td>386618</td>\n      <td>2009-09-29</td>\n      <td>5</td>\n      <td>These were so delicious!  My husband and I tru...</td>\n    </tr>\n    <tr>\n      <th>1132364</th>\n      <td>157126</td>\n      <td>78003</td>\n      <td>2008-06-23</td>\n      <td>5</td>\n      <td>WOW!  Sometimes I don't take the time to rate ...</td>\n    </tr>\n    <tr>\n      <th>1132365</th>\n      <td>53932</td>\n      <td>78003</td>\n      <td>2009-01-11</td>\n      <td>4</td>\n      <td>Very good!  I used regular port as well.  The ...</td>\n    </tr>\n    <tr>\n      <th>1132366</th>\n      <td>2001868099</td>\n      <td>78003</td>\n      <td>2017-12-18</td>\n      <td>5</td>\n      <td>I am so glad I googled and found this here. Th...</td>\n    </tr>\n  </tbody>\n</table>\n<p>1132367 rows × 5 columns</p>\n</div>"
     },
     "execution_count": 233,
     "metadata": {},
     "output_type": "execute_result"
    }
   ],
   "source": [
    "RAW_interactions"
   ],
   "metadata": {
    "collapsed": false,
    "pycharm": {
     "name": "#%%\n"
    }
   }
  },
  {
   "cell_type": "code",
   "execution_count": 151,
   "outputs": [
    {
     "data": {
      "text/plain": "                                                name      id  minutes  \\\n0         arriba   baked winter squash mexican style  137739       55   \n1                   a bit different  breakfast pizza   31490       30   \n2                          all in the kitchen  chili  112140      130   \n3                                 alouette  potatoes   59389       45   \n4                 amish  tomato ketchup  for canning   44061      190   \n...                                              ...     ...      ...   \n231632                                   zydeco soup  486161       60   \n231633                              zydeco spice mix  493372        5   \n231634                     zydeco ya ya deviled eggs  308080       40   \n231635        cookies by design   cookies on a stick  298512       29   \n231636  cookies by design   sugar shortbread cookies  298509       20   \n\n        contributor_id   submitted  \\\n0                47892  2005-09-16   \n1                26278  2002-06-17   \n2               196586  2005-02-25   \n3                68585  2003-04-14   \n4                41706  2002-10-25   \n...                ...         ...   \n231632          227978  2012-08-29   \n231633         1500678  2013-01-09   \n231634           37779  2008-06-07   \n231635          506822  2008-04-15   \n231636          506822  2008-04-15   \n\n                                                     tags  \\\n0       ['60-minutes-or-less', 'time-to-make', 'course...   \n1       ['30-minutes-or-less', 'time-to-make', 'course...   \n2       ['time-to-make', 'course', 'preparation', 'mai...   \n3       ['60-minutes-or-less', 'time-to-make', 'course...   \n4       ['weeknight', 'time-to-make', 'course', 'main-...   \n...                                                   ...   \n231632  ['ham', '60-minutes-or-less', 'time-to-make', ...   \n231633  ['15-minutes-or-less', 'time-to-make', 'course...   \n231634  ['60-minutes-or-less', 'time-to-make', 'course...   \n231635  ['30-minutes-or-less', 'time-to-make', 'course...   \n231636  ['30-minutes-or-less', 'time-to-make', 'course...   \n\n                                          nutrition  n_steps  \\\n0             [51.5, 0.0, 13.0, 0.0, 2.0, 0.0, 4.0]       11   \n1         [173.4, 18.0, 0.0, 17.0, 22.0, 35.0, 1.0]        9   \n2        [269.8, 22.0, 32.0, 48.0, 39.0, 27.0, 5.0]        6   \n3         [368.1, 17.0, 10.0, 2.0, 14.0, 8.0, 20.0]       11   \n4         [352.9, 1.0, 337.0, 23.0, 3.0, 0.0, 28.0]        5   \n...                                             ...      ...   \n231632  [415.2, 26.0, 34.0, 26.0, 44.0, 21.0, 15.0]        7   \n231633        [14.8, 0.0, 2.0, 58.0, 1.0, 0.0, 1.0]        1   \n231634         [59.2, 6.0, 2.0, 3.0, 6.0, 5.0, 0.0]        7   \n231635    [188.0, 11.0, 57.0, 11.0, 7.0, 21.0, 9.0]        9   \n231636     [174.9, 14.0, 33.0, 4.0, 4.0, 11.0, 6.0]        5   \n\n                                                    steps  \\\n0       ['make a choice and proceed with recipe', 'dep...   \n1       ['preheat oven to 425 degrees f', 'press dough...   \n2       ['brown ground beef in large pot', 'add choppe...   \n3       ['place potatoes in a large pot of lightly sal...   \n4       ['mix all ingredients& boil for 2 1 / 2 hours ...   \n...                                                   ...   \n231632  ['heat oil in a 4-quart dutch oven', 'add cele...   \n231633        ['mix all ingredients together thoroughly']   \n231634  ['in a bowl , combine the mashed yolks and may...   \n231635  ['place melted butter in a large mixing bowl a...   \n231636  ['whip sugar and shortening in a large bowl , ...   \n\n                                              description  \\\n0       autumn is my favorite time of year to cook! th...   \n1       this recipe calls for the crust to be prebaked...   \n2       this modified version of 'mom's' chili was a h...   \n3       this is a super easy, great tasting, make ahea...   \n4       my dh's amish mother raised him on this recipe...   \n...                                                   ...   \n231632  this is a delicious soup that i originally fou...   \n231633    this spice mix will make your taste buds dance!   \n231634                          deviled eggs, cajun-style   \n231635  i've heard of the 'cookies by design' company,...   \n231636  i've heard of the 'cookies by design' company,...   \n\n                                              ingredients  n_ingredients  \n0       ['winter squash', 'mexican seasoning', 'mixed ...              7  \n1       ['prepared pizza crust', 'sausage patty', 'egg...              6  \n2       ['ground beef', 'yellow onions', 'diced tomato...             13  \n3       ['spreadable cheese with garlic and herbs', 'n...             11  \n4       ['tomato juice', 'apple cider vinegar', 'sugar...              8  \n...                                                   ...            ...  \n231632  ['celery', 'onion', 'green sweet pepper', 'gar...             22  \n231633  ['paprika', 'salt', 'garlic powder', 'onion po...             13  \n231634  ['hard-cooked eggs', 'mayonnaise', 'dijon must...              8  \n231635  ['butter', 'eagle brand condensed milk', 'ligh...             10  \n231636  ['granulated sugar', 'shortening', 'eggs', 'fl...              7  \n\n[231637 rows x 12 columns]",
      "text/html": "<div>\n<style scoped>\n    .dataframe tbody tr th:only-of-type {\n        vertical-align: middle;\n    }\n\n    .dataframe tbody tr th {\n        vertical-align: top;\n    }\n\n    .dataframe thead th {\n        text-align: right;\n    }\n</style>\n<table border=\"1\" class=\"dataframe\">\n  <thead>\n    <tr style=\"text-align: right;\">\n      <th></th>\n      <th>name</th>\n      <th>id</th>\n      <th>minutes</th>\n      <th>contributor_id</th>\n      <th>submitted</th>\n      <th>tags</th>\n      <th>nutrition</th>\n      <th>n_steps</th>\n      <th>steps</th>\n      <th>description</th>\n      <th>ingredients</th>\n      <th>n_ingredients</th>\n    </tr>\n  </thead>\n  <tbody>\n    <tr>\n      <th>0</th>\n      <td>arriba   baked winter squash mexican style</td>\n      <td>137739</td>\n      <td>55</td>\n      <td>47892</td>\n      <td>2005-09-16</td>\n      <td>['60-minutes-or-less', 'time-to-make', 'course...</td>\n      <td>[51.5, 0.0, 13.0, 0.0, 2.0, 0.0, 4.0]</td>\n      <td>11</td>\n      <td>['make a choice and proceed with recipe', 'dep...</td>\n      <td>autumn is my favorite time of year to cook! th...</td>\n      <td>['winter squash', 'mexican seasoning', 'mixed ...</td>\n      <td>7</td>\n    </tr>\n    <tr>\n      <th>1</th>\n      <td>a bit different  breakfast pizza</td>\n      <td>31490</td>\n      <td>30</td>\n      <td>26278</td>\n      <td>2002-06-17</td>\n      <td>['30-minutes-or-less', 'time-to-make', 'course...</td>\n      <td>[173.4, 18.0, 0.0, 17.0, 22.0, 35.0, 1.0]</td>\n      <td>9</td>\n      <td>['preheat oven to 425 degrees f', 'press dough...</td>\n      <td>this recipe calls for the crust to be prebaked...</td>\n      <td>['prepared pizza crust', 'sausage patty', 'egg...</td>\n      <td>6</td>\n    </tr>\n    <tr>\n      <th>2</th>\n      <td>all in the kitchen  chili</td>\n      <td>112140</td>\n      <td>130</td>\n      <td>196586</td>\n      <td>2005-02-25</td>\n      <td>['time-to-make', 'course', 'preparation', 'mai...</td>\n      <td>[269.8, 22.0, 32.0, 48.0, 39.0, 27.0, 5.0]</td>\n      <td>6</td>\n      <td>['brown ground beef in large pot', 'add choppe...</td>\n      <td>this modified version of 'mom's' chili was a h...</td>\n      <td>['ground beef', 'yellow onions', 'diced tomato...</td>\n      <td>13</td>\n    </tr>\n    <tr>\n      <th>3</th>\n      <td>alouette  potatoes</td>\n      <td>59389</td>\n      <td>45</td>\n      <td>68585</td>\n      <td>2003-04-14</td>\n      <td>['60-minutes-or-less', 'time-to-make', 'course...</td>\n      <td>[368.1, 17.0, 10.0, 2.0, 14.0, 8.0, 20.0]</td>\n      <td>11</td>\n      <td>['place potatoes in a large pot of lightly sal...</td>\n      <td>this is a super easy, great tasting, make ahea...</td>\n      <td>['spreadable cheese with garlic and herbs', 'n...</td>\n      <td>11</td>\n    </tr>\n    <tr>\n      <th>4</th>\n      <td>amish  tomato ketchup  for canning</td>\n      <td>44061</td>\n      <td>190</td>\n      <td>41706</td>\n      <td>2002-10-25</td>\n      <td>['weeknight', 'time-to-make', 'course', 'main-...</td>\n      <td>[352.9, 1.0, 337.0, 23.0, 3.0, 0.0, 28.0]</td>\n      <td>5</td>\n      <td>['mix all ingredients&amp; boil for 2 1 / 2 hours ...</td>\n      <td>my dh's amish mother raised him on this recipe...</td>\n      <td>['tomato juice', 'apple cider vinegar', 'sugar...</td>\n      <td>8</td>\n    </tr>\n    <tr>\n      <th>...</th>\n      <td>...</td>\n      <td>...</td>\n      <td>...</td>\n      <td>...</td>\n      <td>...</td>\n      <td>...</td>\n      <td>...</td>\n      <td>...</td>\n      <td>...</td>\n      <td>...</td>\n      <td>...</td>\n      <td>...</td>\n    </tr>\n    <tr>\n      <th>231632</th>\n      <td>zydeco soup</td>\n      <td>486161</td>\n      <td>60</td>\n      <td>227978</td>\n      <td>2012-08-29</td>\n      <td>['ham', '60-minutes-or-less', 'time-to-make', ...</td>\n      <td>[415.2, 26.0, 34.0, 26.0, 44.0, 21.0, 15.0]</td>\n      <td>7</td>\n      <td>['heat oil in a 4-quart dutch oven', 'add cele...</td>\n      <td>this is a delicious soup that i originally fou...</td>\n      <td>['celery', 'onion', 'green sweet pepper', 'gar...</td>\n      <td>22</td>\n    </tr>\n    <tr>\n      <th>231633</th>\n      <td>zydeco spice mix</td>\n      <td>493372</td>\n      <td>5</td>\n      <td>1500678</td>\n      <td>2013-01-09</td>\n      <td>['15-minutes-or-less', 'time-to-make', 'course...</td>\n      <td>[14.8, 0.0, 2.0, 58.0, 1.0, 0.0, 1.0]</td>\n      <td>1</td>\n      <td>['mix all ingredients together thoroughly']</td>\n      <td>this spice mix will make your taste buds dance!</td>\n      <td>['paprika', 'salt', 'garlic powder', 'onion po...</td>\n      <td>13</td>\n    </tr>\n    <tr>\n      <th>231634</th>\n      <td>zydeco ya ya deviled eggs</td>\n      <td>308080</td>\n      <td>40</td>\n      <td>37779</td>\n      <td>2008-06-07</td>\n      <td>['60-minutes-or-less', 'time-to-make', 'course...</td>\n      <td>[59.2, 6.0, 2.0, 3.0, 6.0, 5.0, 0.0]</td>\n      <td>7</td>\n      <td>['in a bowl , combine the mashed yolks and may...</td>\n      <td>deviled eggs, cajun-style</td>\n      <td>['hard-cooked eggs', 'mayonnaise', 'dijon must...</td>\n      <td>8</td>\n    </tr>\n    <tr>\n      <th>231635</th>\n      <td>cookies by design   cookies on a stick</td>\n      <td>298512</td>\n      <td>29</td>\n      <td>506822</td>\n      <td>2008-04-15</td>\n      <td>['30-minutes-or-less', 'time-to-make', 'course...</td>\n      <td>[188.0, 11.0, 57.0, 11.0, 7.0, 21.0, 9.0]</td>\n      <td>9</td>\n      <td>['place melted butter in a large mixing bowl a...</td>\n      <td>i've heard of the 'cookies by design' company,...</td>\n      <td>['butter', 'eagle brand condensed milk', 'ligh...</td>\n      <td>10</td>\n    </tr>\n    <tr>\n      <th>231636</th>\n      <td>cookies by design   sugar shortbread cookies</td>\n      <td>298509</td>\n      <td>20</td>\n      <td>506822</td>\n      <td>2008-04-15</td>\n      <td>['30-minutes-or-less', 'time-to-make', 'course...</td>\n      <td>[174.9, 14.0, 33.0, 4.0, 4.0, 11.0, 6.0]</td>\n      <td>5</td>\n      <td>['whip sugar and shortening in a large bowl , ...</td>\n      <td>i've heard of the 'cookies by design' company,...</td>\n      <td>['granulated sugar', 'shortening', 'eggs', 'fl...</td>\n      <td>7</td>\n    </tr>\n  </tbody>\n</table>\n<p>231637 rows × 12 columns</p>\n</div>"
     },
     "execution_count": 151,
     "metadata": {},
     "output_type": "execute_result"
    }
   ],
   "source": [
    "\n",
    "# RAW_recipes.columns = ['name', 'id', 'minutes', 'contributor_id', 'submitted','n_steps', 'steps', 'description', 'ingredients', 'n_ingredients']\n",
    "RAW_recipes"
   ],
   "metadata": {
    "collapsed": false,
    "pycharm": {
     "name": "#%%\n"
    }
   }
  },
  {
   "cell_type": "code",
   "execution_count": 152,
   "outputs": [
    {
     "data": {
      "text/plain": "            id       i                                        name_tokens  \\\n0       424415      23  [40480, 37229, 2911, 1019, 249, 6878, 6878, 28...   \n1       146223   96900       [40480, 18376, 7056, 246, 1531, 2032, 40481]   \n2       312329  120056     [40480, 21044, 16954, 8294, 556, 10837, 40481]   \n3        74301  168258                       [40480, 10025, 31156, 40481]   \n4        76272  109030  [40480, 17841, 252, 782, 2373, 1641, 2373, 252...   \n...        ...     ...                                                ...   \n178260  323143   76862  [40480, 6444, 1964, 9369, 486, 569, 17551, 40481]   \n178261  149114  145962           [40480, 17027, 24715, 974, 11877, 40481]   \n178262   34200   65066           [40480, 12187, 11434, 1738, 2627, 40481]   \n178263   30618   77358  [40480, 870, 488, 1325, 519, 2220, 2417, 488, ...   \n178264  263840  137160                 [40480, 30565, 12316, 1024, 40481]   \n\n                                        ingredient_tokens  \\\n0       [[2911, 1019, 249, 6878], [1353], [6953], [153...   \n1       [[17918], [25916], [2507, 6444], [8467, 1179],...   \n2       [[5867, 24176], [1353], [6953], [1301, 11332],...   \n3       [[1270, 1645, 28447], [21601], [27952, 29471, ...   \n4       [[1430, 11434], [1430, 17027], [1615, 23, 695,...   \n...                                                   ...   \n178260  [[8780], [11835, 1762, 4465, 31494], [6812], [...   \n178261  [[6812], [5940], [30645, 4785, 6821], [6953], ...   \n178262  [[6167, 20930, 510], [1353], [15022, 6953], [6...   \n178263  [[12395, 38308, 40118], [3137, 15022], [30878,...   \n178264  [[3151, 12486], [2507, 6444], [30565], [17918]...   \n\n                                             steps_tokens  \\\n0       [40480, 40482, 21662, 481, 6878, 500, 246, 161...   \n1       [40480, 40482, 729, 2525, 10906, 485, 43, 8393...   \n2       [40480, 40482, 8240, 481, 24176, 296, 1353, 66...   \n3       [40480, 40482, 5539, 21601, 1073, 903, 2324, 4...   \n4       [40480, 40482, 14046, 1430, 11434, 488, 17027,...   \n...                                                   ...   \n178260  [40480, 40482, 729, 2525, 715, 485, 26641, 404...   \n178261  [40480, 40482, 729, 2525, 10906, 485, 43, 8393...   \n178262  [40480, 40482, 500, 246, 1719, 5024, 240, 2366...   \n178263  [40480, 40482, 562, 481, 10734, 240, 23667, 58...   \n178264  [40480, 40482, 729, 2525, 10906, 485, 43, 2232...   \n\n                                               techniques  calorie_level  \\\n0       [0, 0, 0, 0, 0, 0, 0, 0, 0, 1, 0, 0, 0, 0, 0, ...              0   \n1       [1, 0, 0, 0, 0, 0, 0, 0, 0, 1, 0, 0, 0, 0, 0, ...              0   \n2       [0, 0, 0, 0, 1, 0, 0, 0, 0, 0, 0, 1, 0, 0, 0, ...              1   \n3       [1, 0, 0, 0, 0, 0, 0, 0, 0, 0, 0, 0, 0, 0, 0, ...              0   \n4       [0, 0, 0, 0, 0, 0, 0, 0, 0, 1, 0, 0, 0, 0, 0, ...              0   \n...                                                   ...            ...   \n178260  [1, 0, 0, 0, 0, 0, 0, 0, 0, 0, 0, 0, 0, 0, 0, ...              1   \n178261  [1, 0, 0, 0, 0, 0, 0, 0, 0, 0, 0, 0, 0, 0, 0, ...              0   \n178262  [1, 0, 0, 0, 0, 0, 0, 0, 0, 1, 0, 0, 0, 0, 0, ...              2   \n178263  [0, 0, 0, 0, 1, 0, 0, 0, 0, 1, 0, 0, 0, 0, 0, ...              0   \n178264  [1, 0, 0, 1, 0, 0, 0, 0, 0, 0, 0, 0, 0, 0, 0, ...              0   \n\n                                           ingredient_ids  \n0                           [389, 7655, 6270, 1527, 3406]  \n1       [2683, 4969, 800, 5298, 840, 2499, 6632, 7022,...  \n2       [1257, 7655, 6270, 590, 5024, 1119, 4883, 6696...  \n3        [7940, 3609, 7060, 6265, 1170, 6654, 5003, 3561]  \n4                                 [3484, 6324, 7594, 243]  \n...                                                   ...  \n178260            [840, 208, 2499, 2683, 1925, 335, 1511]  \n178261               [2499, 4717, 1168, 6270, 6324, 7040]  \n178262  [2378, 7655, 3219, 2320, 5168, 5319, 4189, 268...  \n178263  [5627, 2807, 5412, 3399, 7979, 1093, 1257, 780...  \n178264  [6473, 800, 4807, 2683, 335, 1563, 1511, 3248,...  \n\n[178265 rows x 8 columns]",
      "text/html": "<div>\n<style scoped>\n    .dataframe tbody tr th:only-of-type {\n        vertical-align: middle;\n    }\n\n    .dataframe tbody tr th {\n        vertical-align: top;\n    }\n\n    .dataframe thead th {\n        text-align: right;\n    }\n</style>\n<table border=\"1\" class=\"dataframe\">\n  <thead>\n    <tr style=\"text-align: right;\">\n      <th></th>\n      <th>id</th>\n      <th>i</th>\n      <th>name_tokens</th>\n      <th>ingredient_tokens</th>\n      <th>steps_tokens</th>\n      <th>techniques</th>\n      <th>calorie_level</th>\n      <th>ingredient_ids</th>\n    </tr>\n  </thead>\n  <tbody>\n    <tr>\n      <th>0</th>\n      <td>424415</td>\n      <td>23</td>\n      <td>[40480, 37229, 2911, 1019, 249, 6878, 6878, 28...</td>\n      <td>[[2911, 1019, 249, 6878], [1353], [6953], [153...</td>\n      <td>[40480, 40482, 21662, 481, 6878, 500, 246, 161...</td>\n      <td>[0, 0, 0, 0, 0, 0, 0, 0, 0, 1, 0, 0, 0, 0, 0, ...</td>\n      <td>0</td>\n      <td>[389, 7655, 6270, 1527, 3406]</td>\n    </tr>\n    <tr>\n      <th>1</th>\n      <td>146223</td>\n      <td>96900</td>\n      <td>[40480, 18376, 7056, 246, 1531, 2032, 40481]</td>\n      <td>[[17918], [25916], [2507, 6444], [8467, 1179],...</td>\n      <td>[40480, 40482, 729, 2525, 10906, 485, 43, 8393...</td>\n      <td>[1, 0, 0, 0, 0, 0, 0, 0, 0, 1, 0, 0, 0, 0, 0, ...</td>\n      <td>0</td>\n      <td>[2683, 4969, 800, 5298, 840, 2499, 6632, 7022,...</td>\n    </tr>\n    <tr>\n      <th>2</th>\n      <td>312329</td>\n      <td>120056</td>\n      <td>[40480, 21044, 16954, 8294, 556, 10837, 40481]</td>\n      <td>[[5867, 24176], [1353], [6953], [1301, 11332],...</td>\n      <td>[40480, 40482, 8240, 481, 24176, 296, 1353, 66...</td>\n      <td>[0, 0, 0, 0, 1, 0, 0, 0, 0, 0, 0, 1, 0, 0, 0, ...</td>\n      <td>1</td>\n      <td>[1257, 7655, 6270, 590, 5024, 1119, 4883, 6696...</td>\n    </tr>\n    <tr>\n      <th>3</th>\n      <td>74301</td>\n      <td>168258</td>\n      <td>[40480, 10025, 31156, 40481]</td>\n      <td>[[1270, 1645, 28447], [21601], [27952, 29471, ...</td>\n      <td>[40480, 40482, 5539, 21601, 1073, 903, 2324, 4...</td>\n      <td>[1, 0, 0, 0, 0, 0, 0, 0, 0, 0, 0, 0, 0, 0, 0, ...</td>\n      <td>0</td>\n      <td>[7940, 3609, 7060, 6265, 1170, 6654, 5003, 3561]</td>\n    </tr>\n    <tr>\n      <th>4</th>\n      <td>76272</td>\n      <td>109030</td>\n      <td>[40480, 17841, 252, 782, 2373, 1641, 2373, 252...</td>\n      <td>[[1430, 11434], [1430, 17027], [1615, 23, 695,...</td>\n      <td>[40480, 40482, 14046, 1430, 11434, 488, 17027,...</td>\n      <td>[0, 0, 0, 0, 0, 0, 0, 0, 0, 1, 0, 0, 0, 0, 0, ...</td>\n      <td>0</td>\n      <td>[3484, 6324, 7594, 243]</td>\n    </tr>\n    <tr>\n      <th>...</th>\n      <td>...</td>\n      <td>...</td>\n      <td>...</td>\n      <td>...</td>\n      <td>...</td>\n      <td>...</td>\n      <td>...</td>\n      <td>...</td>\n    </tr>\n    <tr>\n      <th>178260</th>\n      <td>323143</td>\n      <td>76862</td>\n      <td>[40480, 6444, 1964, 9369, 486, 569, 17551, 40481]</td>\n      <td>[[8780], [11835, 1762, 4465, 31494], [6812], [...</td>\n      <td>[40480, 40482, 729, 2525, 715, 485, 26641, 404...</td>\n      <td>[1, 0, 0, 0, 0, 0, 0, 0, 0, 0, 0, 0, 0, 0, 0, ...</td>\n      <td>1</td>\n      <td>[840, 208, 2499, 2683, 1925, 335, 1511]</td>\n    </tr>\n    <tr>\n      <th>178261</th>\n      <td>149114</td>\n      <td>145962</td>\n      <td>[40480, 17027, 24715, 974, 11877, 40481]</td>\n      <td>[[6812], [5940], [30645, 4785, 6821], [6953], ...</td>\n      <td>[40480, 40482, 729, 2525, 10906, 485, 43, 8393...</td>\n      <td>[1, 0, 0, 0, 0, 0, 0, 0, 0, 0, 0, 0, 0, 0, 0, ...</td>\n      <td>0</td>\n      <td>[2499, 4717, 1168, 6270, 6324, 7040]</td>\n    </tr>\n    <tr>\n      <th>178262</th>\n      <td>34200</td>\n      <td>65066</td>\n      <td>[40480, 12187, 11434, 1738, 2627, 40481]</td>\n      <td>[[6167, 20930, 510], [1353], [15022, 6953], [6...</td>\n      <td>[40480, 40482, 500, 246, 1719, 5024, 240, 2366...</td>\n      <td>[1, 0, 0, 0, 0, 0, 0, 0, 0, 1, 0, 0, 0, 0, 0, ...</td>\n      <td>2</td>\n      <td>[2378, 7655, 3219, 2320, 5168, 5319, 4189, 268...</td>\n    </tr>\n    <tr>\n      <th>178263</th>\n      <td>30618</td>\n      <td>77358</td>\n      <td>[40480, 870, 488, 1325, 519, 2220, 2417, 488, ...</td>\n      <td>[[12395, 38308, 40118], [3137, 15022], [30878,...</td>\n      <td>[40480, 40482, 562, 481, 10734, 240, 23667, 58...</td>\n      <td>[0, 0, 0, 0, 1, 0, 0, 0, 0, 1, 0, 0, 0, 0, 0, ...</td>\n      <td>0</td>\n      <td>[5627, 2807, 5412, 3399, 7979, 1093, 1257, 780...</td>\n    </tr>\n    <tr>\n      <th>178264</th>\n      <td>263840</td>\n      <td>137160</td>\n      <td>[40480, 30565, 12316, 1024, 40481]</td>\n      <td>[[3151, 12486], [2507, 6444], [30565], [17918]...</td>\n      <td>[40480, 40482, 729, 2525, 10906, 485, 43, 2232...</td>\n      <td>[1, 0, 0, 1, 0, 0, 0, 0, 0, 0, 0, 0, 0, 0, 0, ...</td>\n      <td>0</td>\n      <td>[6473, 800, 4807, 2683, 335, 1563, 1511, 3248,...</td>\n    </tr>\n  </tbody>\n</table>\n<p>178265 rows × 8 columns</p>\n</div>"
     },
     "execution_count": 152,
     "metadata": {},
     "output_type": "execute_result"
    }
   ],
   "source": [
    "pp_recipes"
   ],
   "metadata": {
    "collapsed": false,
    "pycharm": {
     "name": "#%%\n"
    }
   }
  },
  {
   "cell_type": "markdown",
   "source": [
    "# Cleaning data"
   ],
   "metadata": {
    "collapsed": false,
    "pycharm": {
     "name": "#%% md\n"
    }
   }
  },
  {
   "cell_type": "markdown",
   "source": [
    "## Getting important data from datatables"
   ],
   "metadata": {
    "collapsed": false,
    "pycharm": {
     "name": "#%% md\n"
    }
   }
  },
  {
   "cell_type": "code",
   "execution_count": 153,
   "outputs": [
    {
     "data": {
      "text/plain": "   recipe_id                                     ingredient_ids\n0     424415                      [389, 7655, 6270, 1527, 3406]\n1     146223  [2683, 4969, 800, 5298, 840, 2499, 6632, 7022,...\n2     312329  [1257, 7655, 6270, 590, 5024, 1119, 4883, 6696...\n3      74301   [7940, 3609, 7060, 6265, 1170, 6654, 5003, 3561]\n4      76272                            [3484, 6324, 7594, 243]",
      "text/html": "<div>\n<style scoped>\n    .dataframe tbody tr th:only-of-type {\n        vertical-align: middle;\n    }\n\n    .dataframe tbody tr th {\n        vertical-align: top;\n    }\n\n    .dataframe thead th {\n        text-align: right;\n    }\n</style>\n<table border=\"1\" class=\"dataframe\">\n  <thead>\n    <tr style=\"text-align: right;\">\n      <th></th>\n      <th>recipe_id</th>\n      <th>ingredient_ids</th>\n    </tr>\n  </thead>\n  <tbody>\n    <tr>\n      <th>0</th>\n      <td>424415</td>\n      <td>[389, 7655, 6270, 1527, 3406]</td>\n    </tr>\n    <tr>\n      <th>1</th>\n      <td>146223</td>\n      <td>[2683, 4969, 800, 5298, 840, 2499, 6632, 7022,...</td>\n    </tr>\n    <tr>\n      <th>2</th>\n      <td>312329</td>\n      <td>[1257, 7655, 6270, 590, 5024, 1119, 4883, 6696...</td>\n    </tr>\n    <tr>\n      <th>3</th>\n      <td>74301</td>\n      <td>[7940, 3609, 7060, 6265, 1170, 6654, 5003, 3561]</td>\n    </tr>\n    <tr>\n      <th>4</th>\n      <td>76272</td>\n      <td>[3484, 6324, 7594, 243]</td>\n    </tr>\n  </tbody>\n</table>\n</div>"
     },
     "execution_count": 153,
     "metadata": {},
     "output_type": "execute_result"
    }
   ],
   "source": [
    "\n",
    "recipesKG = pp_recipes.merge(right=RAW_recipes, left_on=\"id\", right_on=\"id\")\n",
    "\n",
    "# recipesKG = recipesKG[[\"id\", \"name\", \"submitted\", \"ingredient_ids\", \"ingredients\", \"n_ingredients\"]]\n",
    "recipesKG = recipesKG[[\"id\", \"ingredient_ids\"]]\n",
    "recipesKG = recipesKG.rename({\"id\":\"recipe_id\"}, axis=\"columns\")\n",
    "recipesKG.head()"
   ],
   "metadata": {
    "collapsed": false,
    "pycharm": {
     "name": "#%%\n"
    }
   }
  },
  {
   "cell_type": "code",
   "execution_count": 154,
   "outputs": [
    {
     "data": {
      "text/plain": "   ingredient_id                             ingredient_name\n0           4308                                     lettuce\n1           2744  french vanilla pudding and pie filling mix\n2           6843                      stove top stuffing mix\n3           1910                                cream cheese\n4           1168                                     cheddar\n5           5811                                   radicchio\n6           5205                                 pasta sauce\n7           7233                                tomato sauce\n8           6482                       shredded three cheese\n9           4836                                  mozzarella",
      "text/html": "<div>\n<style scoped>\n    .dataframe tbody tr th:only-of-type {\n        vertical-align: middle;\n    }\n\n    .dataframe tbody tr th {\n        vertical-align: top;\n    }\n\n    .dataframe thead th {\n        text-align: right;\n    }\n</style>\n<table border=\"1\" class=\"dataframe\">\n  <thead>\n    <tr style=\"text-align: right;\">\n      <th></th>\n      <th>ingredient_id</th>\n      <th>ingredient_name</th>\n    </tr>\n  </thead>\n  <tbody>\n    <tr>\n      <th>0</th>\n      <td>4308</td>\n      <td>lettuce</td>\n    </tr>\n    <tr>\n      <th>1</th>\n      <td>2744</td>\n      <td>french vanilla pudding and pie filling mix</td>\n    </tr>\n    <tr>\n      <th>2</th>\n      <td>6843</td>\n      <td>stove top stuffing mix</td>\n    </tr>\n    <tr>\n      <th>3</th>\n      <td>1910</td>\n      <td>cream cheese</td>\n    </tr>\n    <tr>\n      <th>4</th>\n      <td>1168</td>\n      <td>cheddar</td>\n    </tr>\n    <tr>\n      <th>5</th>\n      <td>5811</td>\n      <td>radicchio</td>\n    </tr>\n    <tr>\n      <th>6</th>\n      <td>5205</td>\n      <td>pasta sauce</td>\n    </tr>\n    <tr>\n      <th>7</th>\n      <td>7233</td>\n      <td>tomato sauce</td>\n    </tr>\n    <tr>\n      <th>8</th>\n      <td>6482</td>\n      <td>shredded three cheese</td>\n    </tr>\n    <tr>\n      <th>9</th>\n      <td>4836</td>\n      <td>mozzarella</td>\n    </tr>\n  </tbody>\n</table>\n</div>"
     },
     "execution_count": 154,
     "metadata": {},
     "output_type": "execute_result"
    }
   ],
   "source": [
    "# Get ingredients id with uniques ingredient name, no duplicates\n",
    "ingredient_df = pkl_recipes.copy(deep=True)\n",
    "ingredient_df = ingredient_df.rename({\"id\":\"ingredient_id\",\"replaced\":\"ingredient_name\"}, axis=\"columns\")\n",
    "ingredient_df = ingredient_df[[\"ingredient_id\", \"ingredient_name\"]]\n",
    "ingredient_df = ingredient_df.drop_duplicates(ignore_index=True)\n",
    "ingredient_df.head(10)\n",
    "\n"
   ],
   "metadata": {
    "collapsed": false,
    "pycharm": {
     "name": "#%%\n"
    }
   }
  },
  {
   "cell_type": "markdown",
   "source": [
    "## unique ingredient count"
   ],
   "metadata": {
    "collapsed": false,
    "pycharm": {
     "name": "#%% md\n"
    }
   }
  },
  {
   "cell_type": "code",
   "execution_count": 155,
   "outputs": [
    {
     "data": {
      "text/plain": "                    frequency_count\nreplaced                           \ndressing                        163\nsausage                         154\nchile                            99\ncake mix                         85\ncheddar                          84\n...                             ...\nfrozen english pea                1\nfrozen edamame                    1\nfrozen dough roll                 1\nfrozen dinner roll                1\nzwieback toast                    1\n\n[8023 rows x 1 columns]",
      "text/html": "<div>\n<style scoped>\n    .dataframe tbody tr th:only-of-type {\n        vertical-align: middle;\n    }\n\n    .dataframe tbody tr th {\n        vertical-align: top;\n    }\n\n    .dataframe thead th {\n        text-align: right;\n    }\n</style>\n<table border=\"1\" class=\"dataframe\">\n  <thead>\n    <tr style=\"text-align: right;\">\n      <th></th>\n      <th>frequency_count</th>\n    </tr>\n    <tr>\n      <th>replaced</th>\n      <th></th>\n    </tr>\n  </thead>\n  <tbody>\n    <tr>\n      <th>dressing</th>\n      <td>163</td>\n    </tr>\n    <tr>\n      <th>sausage</th>\n      <td>154</td>\n    </tr>\n    <tr>\n      <th>chile</th>\n      <td>99</td>\n    </tr>\n    <tr>\n      <th>cake mix</th>\n      <td>85</td>\n    </tr>\n    <tr>\n      <th>cheddar</th>\n      <td>84</td>\n    </tr>\n    <tr>\n      <th>...</th>\n      <td>...</td>\n    </tr>\n    <tr>\n      <th>frozen english pea</th>\n      <td>1</td>\n    </tr>\n    <tr>\n      <th>frozen edamame</th>\n      <td>1</td>\n    </tr>\n    <tr>\n      <th>frozen dough roll</th>\n      <td>1</td>\n    </tr>\n    <tr>\n      <th>frozen dinner roll</th>\n      <td>1</td>\n    </tr>\n    <tr>\n      <th>zwieback toast</th>\n      <td>1</td>\n    </tr>\n  </tbody>\n</table>\n<p>8023 rows × 1 columns</p>\n</div>"
     },
     "execution_count": 155,
     "metadata": {},
     "output_type": "execute_result"
    }
   ],
   "source": [
    "uniqueIngredients = pkl_recipes.groupby(by=['replaced'])['id'].count().sort_values(ascending=False)\n",
    "uniqueIngredientsDF = pd.DataFrame(uniqueIngredients)\n",
    "uniqueIngredientsDF.rename(columns={'replaced':'ingredient_name','id':'frequency_count'},inplace=True)\n",
    "# uniqueIngredients.rename(columns={'replaced':'ingredient_name','id':'ingredient_id','id':'frequency_count'},inplace=True)\n",
    "# uniqueIngredients = uniqueIngredients.rename[[\"0:\"]]\n",
    "# uniqueIngredients[['ingredient_name','ingredient_id',\"ingredient_frequency\"]]\n",
    "uniqueIngredientsDF"
   ],
   "metadata": {
    "collapsed": false,
    "pycharm": {
     "name": "#%%\n"
    }
   }
  },
  {
   "cell_type": "code",
   "execution_count": 234,
   "outputs": [
    {
     "data": {
      "text/plain": "               frequency_count\nreplaced                      \ndressing                   163\nsausage                    154\nchile                       99\ncake mix                    85\ncheddar                     84\ntortilla                    82\npickle                      79\nlettuce                     42\ncream cheese                41\nrum                         39\nyeast                       38\nchicken broth               37\ncandy bar                   37\nmozzarella                  33\nmayonnaise                  31",
      "text/html": "<div>\n<style scoped>\n    .dataframe tbody tr th:only-of-type {\n        vertical-align: middle;\n    }\n\n    .dataframe tbody tr th {\n        vertical-align: top;\n    }\n\n    .dataframe thead th {\n        text-align: right;\n    }\n</style>\n<table border=\"1\" class=\"dataframe\">\n  <thead>\n    <tr style=\"text-align: right;\">\n      <th></th>\n      <th>frequency_count</th>\n    </tr>\n    <tr>\n      <th>replaced</th>\n      <th></th>\n    </tr>\n  </thead>\n  <tbody>\n    <tr>\n      <th>dressing</th>\n      <td>163</td>\n    </tr>\n    <tr>\n      <th>sausage</th>\n      <td>154</td>\n    </tr>\n    <tr>\n      <th>chile</th>\n      <td>99</td>\n    </tr>\n    <tr>\n      <th>cake mix</th>\n      <td>85</td>\n    </tr>\n    <tr>\n      <th>cheddar</th>\n      <td>84</td>\n    </tr>\n    <tr>\n      <th>tortilla</th>\n      <td>82</td>\n    </tr>\n    <tr>\n      <th>pickle</th>\n      <td>79</td>\n    </tr>\n    <tr>\n      <th>lettuce</th>\n      <td>42</td>\n    </tr>\n    <tr>\n      <th>cream cheese</th>\n      <td>41</td>\n    </tr>\n    <tr>\n      <th>rum</th>\n      <td>39</td>\n    </tr>\n    <tr>\n      <th>yeast</th>\n      <td>38</td>\n    </tr>\n    <tr>\n      <th>chicken broth</th>\n      <td>37</td>\n    </tr>\n    <tr>\n      <th>candy bar</th>\n      <td>37</td>\n    </tr>\n    <tr>\n      <th>mozzarella</th>\n      <td>33</td>\n    </tr>\n    <tr>\n      <th>mayonnaise</th>\n      <td>31</td>\n    </tr>\n  </tbody>\n</table>\n</div>"
     },
     "execution_count": 234,
     "metadata": {},
     "output_type": "execute_result"
    }
   ],
   "source": [
    "uniqueIngredientsDF.head(15)"
   ],
   "metadata": {
    "collapsed": false,
    "pycharm": {
     "name": "#%%\n"
    }
   }
  },
  {
   "cell_type": "code",
   "execution_count": 156,
   "outputs": [
    {
     "data": {
      "text/plain": "Index(['dressing', 'sausage', 'chile', 'cake mix', 'cheddar', 'tortilla',\n       'pickle', 'lettuce', 'cream cheese', 'rum',\n       ...\n       'frozen fruit', 'frozen french-cut green bean', 'frozen french toast',\n       'frozen french fry', 'frozen fish stick', 'frozen english pea',\n       'frozen edamame', 'frozen dough roll', 'frozen dinner roll',\n       'zwieback toast'],\n      dtype='object', name='replaced', length=8023)"
     },
     "execution_count": 156,
     "metadata": {},
     "output_type": "execute_result"
    }
   ],
   "source": [
    "uniqueIngredientsDF.index"
   ],
   "metadata": {
    "collapsed": false,
    "pycharm": {
     "name": "#%%\n"
    }
   }
  },
  {
   "cell_type": "code",
   "execution_count": 157,
   "outputs": [
    {
     "data": {
      "text/plain": "   recipe_id  rating\n0      40893       4\n1      40893       5\n2      44394       4\n3      85009       5\n4      85009       5",
      "text/html": "<div>\n<style scoped>\n    .dataframe tbody tr th:only-of-type {\n        vertical-align: middle;\n    }\n\n    .dataframe tbody tr th {\n        vertical-align: top;\n    }\n\n    .dataframe thead th {\n        text-align: right;\n    }\n</style>\n<table border=\"1\" class=\"dataframe\">\n  <thead>\n    <tr style=\"text-align: right;\">\n      <th></th>\n      <th>recipe_id</th>\n      <th>rating</th>\n    </tr>\n  </thead>\n  <tbody>\n    <tr>\n      <th>0</th>\n      <td>40893</td>\n      <td>4</td>\n    </tr>\n    <tr>\n      <th>1</th>\n      <td>40893</td>\n      <td>5</td>\n    </tr>\n    <tr>\n      <th>2</th>\n      <td>44394</td>\n      <td>4</td>\n    </tr>\n    <tr>\n      <th>3</th>\n      <td>85009</td>\n      <td>5</td>\n    </tr>\n    <tr>\n      <th>4</th>\n      <td>85009</td>\n      <td>5</td>\n    </tr>\n  </tbody>\n</table>\n</div>"
     },
     "execution_count": 157,
     "metadata": {},
     "output_type": "execute_result"
    }
   ],
   "source": [
    "RAW_interactions=RAW_interactions.drop(['user_id','date','review'],axis=1)\n",
    "RAW_interactions.head()"
   ],
   "metadata": {
    "collapsed": false,
    "pycharm": {
     "name": "#%%\n"
    }
   }
  },
  {
   "cell_type": "markdown",
   "source": [
    "# Getting average ratings and votes from users"
   ],
   "metadata": {
    "collapsed": false,
    "pycharm": {
     "name": "#%% md\n"
    }
   }
  },
  {
   "cell_type": "code",
   "execution_count": 158,
   "outputs": [
    {
     "name": "stdout",
     "output_type": "stream",
     "text": [
      "               mean  count\n",
      "recipe_id                 \n",
      "38         4.250000      4\n",
      "39         3.000000      1\n",
      "40         4.333333      9\n",
      "41         4.500000      2\n",
      "43         1.000000      1\n",
      "45         2.666667      3\n",
      "46         5.000000      2\n",
      "48         1.000000      2\n",
      "49         4.350000     20\n",
      "50         4.500000      2\n"
     ]
    },
    {
     "data": {
      "text/plain": "   recipe_id  average_rating  votes\n0         38        4.250000      4\n1         39        3.000000      1\n2         40        4.333333      9\n3         41        4.500000      2\n4         43        1.000000      1\n5         45        2.666667      3\n6         46        5.000000      2\n7         48        1.000000      2\n8         49        4.350000     20\n9         50        4.500000      2",
      "text/html": "<div>\n<style scoped>\n    .dataframe tbody tr th:only-of-type {\n        vertical-align: middle;\n    }\n\n    .dataframe tbody tr th {\n        vertical-align: top;\n    }\n\n    .dataframe thead th {\n        text-align: right;\n    }\n</style>\n<table border=\"1\" class=\"dataframe\">\n  <thead>\n    <tr style=\"text-align: right;\">\n      <th></th>\n      <th>recipe_id</th>\n      <th>average_rating</th>\n      <th>votes</th>\n    </tr>\n  </thead>\n  <tbody>\n    <tr>\n      <th>0</th>\n      <td>38</td>\n      <td>4.250000</td>\n      <td>4</td>\n    </tr>\n    <tr>\n      <th>1</th>\n      <td>39</td>\n      <td>3.000000</td>\n      <td>1</td>\n    </tr>\n    <tr>\n      <th>2</th>\n      <td>40</td>\n      <td>4.333333</td>\n      <td>9</td>\n    </tr>\n    <tr>\n      <th>3</th>\n      <td>41</td>\n      <td>4.500000</td>\n      <td>2</td>\n    </tr>\n    <tr>\n      <th>4</th>\n      <td>43</td>\n      <td>1.000000</td>\n      <td>1</td>\n    </tr>\n    <tr>\n      <th>5</th>\n      <td>45</td>\n      <td>2.666667</td>\n      <td>3</td>\n    </tr>\n    <tr>\n      <th>6</th>\n      <td>46</td>\n      <td>5.000000</td>\n      <td>2</td>\n    </tr>\n    <tr>\n      <th>7</th>\n      <td>48</td>\n      <td>1.000000</td>\n      <td>2</td>\n    </tr>\n    <tr>\n      <th>8</th>\n      <td>49</td>\n      <td>4.350000</td>\n      <td>20</td>\n    </tr>\n    <tr>\n      <th>9</th>\n      <td>50</td>\n      <td>4.500000</td>\n      <td>2</td>\n    </tr>\n  </tbody>\n</table>\n</div>"
     },
     "execution_count": 158,
     "metadata": {},
     "output_type": "execute_result"
    }
   ],
   "source": [
    "#Store average rating of meals\n",
    "AvgInteractions = RAW_interactions['rating'].mean()\n",
    "\n",
    "#Group seperate meal ratings together and get average meal score equally prevent recipe_id from being an index\n",
    "newRatingSet=RAW_interactions.groupby(['recipe_id'])['rating'].agg(['mean','count'])\n",
    "print(newRatingSet.head(10))\n",
    "newRatingSet.reset_index(inplace=True)\n",
    "\n",
    "\n",
    "#Rename columns\n",
    "newRatingSet.rename(columns={'mean':'average_rating','count':'votes'},inplace=True)\n",
    "newRatingSet.head(10)"
   ],
   "metadata": {
    "collapsed": false,
    "pycharm": {
     "name": "#%%\n"
    }
   }
  },
  {
   "cell_type": "code",
   "execution_count": 159,
   "outputs": [],
   "source": [
    "#Merge ratings dataframe with recipe Dataframe\n",
    "food_df = pd.merge(RAW_recipes, newRatingSet, left_on='id',right_on='recipe_id')"
   ],
   "metadata": {
    "collapsed": false,
    "pycharm": {
     "name": "#%%\n"
    }
   }
  },
  {
   "cell_type": "code",
   "execution_count": 160,
   "outputs": [],
   "source": [
    "# food_df['ingredient_ids'] = recipesKG['ingredient_ids']\n",
    "\n",
    "food_df = pd.merge(food_df, recipesKG, on='recipe_id', how='right')\n",
    "# food_df = food_df[['ingredient_ids','id','name', 'recipe_id', 'minutes', 'contributor_id', 'submitted', 'tags',\n",
    "#        'nutrition', 'n_steps', 'steps', 'description', 'ingredients',\n",
    "#        'n_ingredients', 'average_rating', 'votes']]\n",
    "# food_df = food_df[['ingredient_ids']]\n",
    "# food_df = food_df.drop_duplicates(ignore_index=True)"
   ],
   "metadata": {
    "collapsed": false,
    "pycharm": {
     "name": "#%%\n"
    }
   }
  },
  {
   "cell_type": "code",
   "execution_count": 161,
   "outputs": [
    {
     "data": {
      "text/plain": "                                         name      id  minutes  \\\n0          aromatic basmati rice  rice cooker  424415       61   \n1                       pumpkin pie a la easy  146223       55   \n2            cheesy tomato soup with potatoes  312329       25   \n3                                  mini tacos   74301       15   \n4                    rosemary s hanky panky s   76272       20   \n...                                       ...     ...      ...   \n178260              sugar free snickerdoodles  323143       23   \n178261               sausage   pancake strata  149114       70   \n178262                     baked beef patties   34200       55   \n178263  good and garlicky sweet and sour pork   30618       40   \n178264                      molasses crinkles  263840       37   \n\n        contributor_id   submitted  \\\n0               496803  2010-05-10   \n1               229619  2005-11-25   \n2               621626  2008-07-07   \n3                60989  2003-10-29   \n4                93444  2003-11-12   \n...                ...         ...   \n178260           57042  2008-09-04   \n178261          191220  2005-12-22   \n178262           37779  2002-07-15   \n178263           31499  2002-06-10   \n178264           68526  2007-11-07   \n\n                                                     tags  \\\n0       ['weeknight', 'time-to-make', 'course', 'main-...   \n1       ['60-minutes-or-less', 'time-to-make', 'course...   \n2       ['30-minutes-or-less', 'time-to-make', 'course...   \n3       ['15-minutes-or-less', 'time-to-make', 'course...   \n4       ['30-minutes-or-less', 'time-to-make', 'course...   \n...                                                   ...   \n178260  ['30-minutes-or-less', 'time-to-make', 'course...   \n178261  ['time-to-make', 'course', 'main-ingredient', ...   \n178262  ['60-minutes-or-less', 'time-to-make', 'course...   \n178263  ['60-minutes-or-less', 'time-to-make', 'main-i...   \n178264  ['60-minutes-or-less', 'time-to-make', 'course...   \n\n                                         nutrition  n_steps  \\\n0           [228.2, 2.0, 2.0, 8.0, 9.0, 1.0, 15.0]        6   \n1       [249.4, 16.0, 92.0, 8.0, 11.0, 27.0, 11.0]       10   \n2       [351.3, 34.0, 15.0, 50.0, 25.0, 70.0, 8.0]        6   \n3           [79.7, 5.0, 2.0, 11.0, 11.0, 7.0, 2.0]        8   \n4        [240.7, 29.0, 9.0, 28.0, 27.0, 42.0, 0.0]        5   \n...                                            ...      ...   \n178260   [304.1, 30.0, 0.0, 11.0, 10.0, 60.0, 8.0]        6   \n178261   [235.9, 26.0, 3.0, 19.0, 35.0, 37.0, 0.0]       14   \n178262  [577.5, 51.0, 26.0, 38.0, 84.0, 83.0, 8.0]       15   \n178263   [240.1, 5.0, 96.0, 12.0, 41.0, 5.0, 10.0]       13   \n178264       [98.1, 6.0, 28.0, 3.0, 1.0, 5.0, 4.0]       12   \n\n                                                    steps  \\\n0       ['rinse the rice in a fine strainer , then dra...   \n1       ['preheat oven to 350', 'combine flour , oats ...   \n2       ['pour the broth & water into a large pot', 'a...   \n3       ['cook hamburger until browned', 'drain the fa...   \n4       ['fry ground beef and sausage until browned', ...   \n...                                                   ...   \n178260  ['preheat over to 400', 'mix together butter a...   \n178261  ['preheat oven to 350', 'coat a 11 x 7 baking ...   \n178262  ['in a large bowl , combine 1 / 2 t', 'dried t...   \n178263  ['for the sauce , combine all the sauce ingred...   \n178264  ['preheat oven to 375', 'cream shortening', 'a...   \n\n                                              description  \\\n0       from the ultimate rice cooker cookbook.  the a...   \n1       this is a pampered chef recipe for their stone...   \n2       after modifying another recipe i came up with ...   \n3       these can be a easy appetizer or a light dinne...   \n4       my girlfriend rosemary gave me this wonderfull...   \n...                                                   ...   \n178260  i have not tried this recipe. i got this recip...   \n178261  my sister gave me this recipe just yesterday. ...   \n178262                    taste of home; family favorite.   \n178263  the flavors of this dish mix really well toget...   \n178264  great anytime, but especially fun to include i...   \n\n                                              ingredients  n_ingredients  \\\n0       ['basmati rice', 'water', 'salt', 'cinnamon st...              5   \n1       ['flour', 'oats', 'brown sugar', 'pecans', 'bu...             12   \n2       ['chicken broth', 'water', 'salt', 'black pepp...             15   \n3       ['wonton wrappers', 'hamburger', 'taco seasoni...              8   \n4       ['ground beef', 'ground sausage', 'velveeta ch...              4   \n...                                                   ...            ...   \n178260  ['butter', 'splenda granular', 'eggs', 'flour'...              7   \n178261  ['eggs', 'milk', 'cheddar cheese', 'salt', 'fr...              7   \n178262  ['dried thyme', 'water', 'garlic salt', 'dried...             14   \n178263  ['pork tenderloin', 'fresh garlic', 'pineapple...             12   \n178264  ['shortening', 'brown sugar', 'molasses', 'flo...              9   \n\n        recipe_id  average_rating  votes  \\\n0          424415        4.833333      6   \n1          146223        5.000000      4   \n2          312329        4.000000      1   \n3           74301        4.766129    124   \n4           76272        5.000000      3   \n...           ...             ...    ...   \n178260     323143        2.000000      4   \n178261     149114        4.333333      3   \n178262      34200        4.500000      2   \n178263      30618        4.612903     31   \n178264     263840        5.000000      1   \n\n                                           ingredient_ids  \n0                           [389, 7655, 6270, 1527, 3406]  \n1       [2683, 4969, 800, 5298, 840, 2499, 6632, 7022,...  \n2       [1257, 7655, 6270, 590, 5024, 1119, 4883, 6696...  \n3        [7940, 3609, 7060, 6265, 1170, 6654, 5003, 3561]  \n4                                 [3484, 6324, 7594, 243]  \n...                                                   ...  \n178260            [840, 208, 2499, 2683, 1925, 335, 1511]  \n178261               [2499, 4717, 1168, 6270, 6324, 7040]  \n178262  [2378, 7655, 3219, 2320, 5168, 5319, 4189, 268...  \n178263  [5627, 2807, 5412, 3399, 7979, 1093, 1257, 780...  \n178264  [6473, 800, 4807, 2683, 335, 1563, 1511, 3248,...  \n\n[178265 rows x 16 columns]",
      "text/html": "<div>\n<style scoped>\n    .dataframe tbody tr th:only-of-type {\n        vertical-align: middle;\n    }\n\n    .dataframe tbody tr th {\n        vertical-align: top;\n    }\n\n    .dataframe thead th {\n        text-align: right;\n    }\n</style>\n<table border=\"1\" class=\"dataframe\">\n  <thead>\n    <tr style=\"text-align: right;\">\n      <th></th>\n      <th>name</th>\n      <th>id</th>\n      <th>minutes</th>\n      <th>contributor_id</th>\n      <th>submitted</th>\n      <th>tags</th>\n      <th>nutrition</th>\n      <th>n_steps</th>\n      <th>steps</th>\n      <th>description</th>\n      <th>ingredients</th>\n      <th>n_ingredients</th>\n      <th>recipe_id</th>\n      <th>average_rating</th>\n      <th>votes</th>\n      <th>ingredient_ids</th>\n    </tr>\n  </thead>\n  <tbody>\n    <tr>\n      <th>0</th>\n      <td>aromatic basmati rice  rice cooker</td>\n      <td>424415</td>\n      <td>61</td>\n      <td>496803</td>\n      <td>2010-05-10</td>\n      <td>['weeknight', 'time-to-make', 'course', 'main-...</td>\n      <td>[228.2, 2.0, 2.0, 8.0, 9.0, 1.0, 15.0]</td>\n      <td>6</td>\n      <td>['rinse the rice in a fine strainer , then dra...</td>\n      <td>from the ultimate rice cooker cookbook.  the a...</td>\n      <td>['basmati rice', 'water', 'salt', 'cinnamon st...</td>\n      <td>5</td>\n      <td>424415</td>\n      <td>4.833333</td>\n      <td>6</td>\n      <td>[389, 7655, 6270, 1527, 3406]</td>\n    </tr>\n    <tr>\n      <th>1</th>\n      <td>pumpkin pie a la easy</td>\n      <td>146223</td>\n      <td>55</td>\n      <td>229619</td>\n      <td>2005-11-25</td>\n      <td>['60-minutes-or-less', 'time-to-make', 'course...</td>\n      <td>[249.4, 16.0, 92.0, 8.0, 11.0, 27.0, 11.0]</td>\n      <td>10</td>\n      <td>['preheat oven to 350', 'combine flour , oats ...</td>\n      <td>this is a pampered chef recipe for their stone...</td>\n      <td>['flour', 'oats', 'brown sugar', 'pecans', 'bu...</td>\n      <td>12</td>\n      <td>146223</td>\n      <td>5.000000</td>\n      <td>4</td>\n      <td>[2683, 4969, 800, 5298, 840, 2499, 6632, 7022,...</td>\n    </tr>\n    <tr>\n      <th>2</th>\n      <td>cheesy tomato soup with potatoes</td>\n      <td>312329</td>\n      <td>25</td>\n      <td>621626</td>\n      <td>2008-07-07</td>\n      <td>['30-minutes-or-less', 'time-to-make', 'course...</td>\n      <td>[351.3, 34.0, 15.0, 50.0, 25.0, 70.0, 8.0]</td>\n      <td>6</td>\n      <td>['pour the broth &amp; water into a large pot', 'a...</td>\n      <td>after modifying another recipe i came up with ...</td>\n      <td>['chicken broth', 'water', 'salt', 'black pepp...</td>\n      <td>15</td>\n      <td>312329</td>\n      <td>4.000000</td>\n      <td>1</td>\n      <td>[1257, 7655, 6270, 590, 5024, 1119, 4883, 6696...</td>\n    </tr>\n    <tr>\n      <th>3</th>\n      <td>mini tacos</td>\n      <td>74301</td>\n      <td>15</td>\n      <td>60989</td>\n      <td>2003-10-29</td>\n      <td>['15-minutes-or-less', 'time-to-make', 'course...</td>\n      <td>[79.7, 5.0, 2.0, 11.0, 11.0, 7.0, 2.0]</td>\n      <td>8</td>\n      <td>['cook hamburger until browned', 'drain the fa...</td>\n      <td>these can be a easy appetizer or a light dinne...</td>\n      <td>['wonton wrappers', 'hamburger', 'taco seasoni...</td>\n      <td>8</td>\n      <td>74301</td>\n      <td>4.766129</td>\n      <td>124</td>\n      <td>[7940, 3609, 7060, 6265, 1170, 6654, 5003, 3561]</td>\n    </tr>\n    <tr>\n      <th>4</th>\n      <td>rosemary s hanky panky s</td>\n      <td>76272</td>\n      <td>20</td>\n      <td>93444</td>\n      <td>2003-11-12</td>\n      <td>['30-minutes-or-less', 'time-to-make', 'course...</td>\n      <td>[240.7, 29.0, 9.0, 28.0, 27.0, 42.0, 0.0]</td>\n      <td>5</td>\n      <td>['fry ground beef and sausage until browned', ...</td>\n      <td>my girlfriend rosemary gave me this wonderfull...</td>\n      <td>['ground beef', 'ground sausage', 'velveeta ch...</td>\n      <td>4</td>\n      <td>76272</td>\n      <td>5.000000</td>\n      <td>3</td>\n      <td>[3484, 6324, 7594, 243]</td>\n    </tr>\n    <tr>\n      <th>...</th>\n      <td>...</td>\n      <td>...</td>\n      <td>...</td>\n      <td>...</td>\n      <td>...</td>\n      <td>...</td>\n      <td>...</td>\n      <td>...</td>\n      <td>...</td>\n      <td>...</td>\n      <td>...</td>\n      <td>...</td>\n      <td>...</td>\n      <td>...</td>\n      <td>...</td>\n      <td>...</td>\n    </tr>\n    <tr>\n      <th>178260</th>\n      <td>sugar free snickerdoodles</td>\n      <td>323143</td>\n      <td>23</td>\n      <td>57042</td>\n      <td>2008-09-04</td>\n      <td>['30-minutes-or-less', 'time-to-make', 'course...</td>\n      <td>[304.1, 30.0, 0.0, 11.0, 10.0, 60.0, 8.0]</td>\n      <td>6</td>\n      <td>['preheat over to 400', 'mix together butter a...</td>\n      <td>i have not tried this recipe. i got this recip...</td>\n      <td>['butter', 'splenda granular', 'eggs', 'flour'...</td>\n      <td>7</td>\n      <td>323143</td>\n      <td>2.000000</td>\n      <td>4</td>\n      <td>[840, 208, 2499, 2683, 1925, 335, 1511]</td>\n    </tr>\n    <tr>\n      <th>178261</th>\n      <td>sausage   pancake strata</td>\n      <td>149114</td>\n      <td>70</td>\n      <td>191220</td>\n      <td>2005-12-22</td>\n      <td>['time-to-make', 'course', 'main-ingredient', ...</td>\n      <td>[235.9, 26.0, 3.0, 19.0, 35.0, 37.0, 0.0]</td>\n      <td>14</td>\n      <td>['preheat oven to 350', 'coat a 11 x 7 baking ...</td>\n      <td>my sister gave me this recipe just yesterday. ...</td>\n      <td>['eggs', 'milk', 'cheddar cheese', 'salt', 'fr...</td>\n      <td>7</td>\n      <td>149114</td>\n      <td>4.333333</td>\n      <td>3</td>\n      <td>[2499, 4717, 1168, 6270, 6324, 7040]</td>\n    </tr>\n    <tr>\n      <th>178262</th>\n      <td>baked beef patties</td>\n      <td>34200</td>\n      <td>55</td>\n      <td>37779</td>\n      <td>2002-07-15</td>\n      <td>['60-minutes-or-less', 'time-to-make', 'course...</td>\n      <td>[577.5, 51.0, 26.0, 38.0, 84.0, 83.0, 8.0]</td>\n      <td>15</td>\n      <td>['in a large bowl , combine 1 / 2 t', 'dried t...</td>\n      <td>taste of home; family favorite.</td>\n      <td>['dried thyme', 'water', 'garlic salt', 'dried...</td>\n      <td>14</td>\n      <td>34200</td>\n      <td>4.500000</td>\n      <td>2</td>\n      <td>[2378, 7655, 3219, 2320, 5168, 5319, 4189, 268...</td>\n    </tr>\n    <tr>\n      <th>178263</th>\n      <td>good and garlicky sweet and sour pork</td>\n      <td>30618</td>\n      <td>40</td>\n      <td>31499</td>\n      <td>2002-06-10</td>\n      <td>['60-minutes-or-less', 'time-to-make', 'main-i...</td>\n      <td>[240.1, 5.0, 96.0, 12.0, 41.0, 5.0, 10.0]</td>\n      <td>13</td>\n      <td>['for the sauce , combine all the sauce ingred...</td>\n      <td>the flavors of this dish mix really well toget...</td>\n      <td>['pork tenderloin', 'fresh garlic', 'pineapple...</td>\n      <td>12</td>\n      <td>30618</td>\n      <td>4.612903</td>\n      <td>31</td>\n      <td>[5627, 2807, 5412, 3399, 7979, 1093, 1257, 780...</td>\n    </tr>\n    <tr>\n      <th>178264</th>\n      <td>molasses crinkles</td>\n      <td>263840</td>\n      <td>37</td>\n      <td>68526</td>\n      <td>2007-11-07</td>\n      <td>['60-minutes-or-less', 'time-to-make', 'course...</td>\n      <td>[98.1, 6.0, 28.0, 3.0, 1.0, 5.0, 4.0]</td>\n      <td>12</td>\n      <td>['preheat oven to 375', 'cream shortening', 'a...</td>\n      <td>great anytime, but especially fun to include i...</td>\n      <td>['shortening', 'brown sugar', 'molasses', 'flo...</td>\n      <td>9</td>\n      <td>263840</td>\n      <td>5.000000</td>\n      <td>1</td>\n      <td>[6473, 800, 4807, 2683, 335, 1563, 1511, 3248,...</td>\n    </tr>\n  </tbody>\n</table>\n<p>178265 rows × 16 columns</p>\n</div>"
     },
     "execution_count": 161,
     "metadata": {},
     "output_type": "execute_result"
    }
   ],
   "source": [
    "food_df"
   ],
   "metadata": {
    "collapsed": false,
    "pycharm": {
     "name": "#%%\n"
    }
   }
  },
  {
   "cell_type": "code",
   "execution_count": 162,
   "outputs": [
    {
     "data": {
      "text/plain": "     ingredient_id ingredient_name\n120         6270.0            salt",
      "text/html": "<div>\n<style scoped>\n    .dataframe tbody tr th:only-of-type {\n        vertical-align: middle;\n    }\n\n    .dataframe tbody tr th {\n        vertical-align: top;\n    }\n\n    .dataframe thead th {\n        text-align: right;\n    }\n</style>\n<table border=\"1\" class=\"dataframe\">\n  <thead>\n    <tr style=\"text-align: right;\">\n      <th></th>\n      <th>ingredient_id</th>\n      <th>ingredient_name</th>\n    </tr>\n  </thead>\n  <tbody>\n    <tr>\n      <th>120</th>\n      <td>6270.0</td>\n      <td>salt</td>\n    </tr>\n  </tbody>\n</table>\n</div>"
     },
     "execution_count": 162,
     "metadata": {},
     "output_type": "execute_result"
    }
   ],
   "source": [
    "findIngredient = ingredient_df.where(ingredient_df['ingredient_id'] == 6270).dropna()\n",
    "findIngredient"
   ],
   "metadata": {
    "collapsed": false,
    "pycharm": {
     "name": "#%%\n"
    }
   }
  },
  {
   "cell_type": "code",
   "execution_count": 163,
   "outputs": [
    {
     "data": {
      "text/plain": "      ingredient_id ingredient_name\n6914         5561.0            pork",
      "text/html": "<div>\n<style scoped>\n    .dataframe tbody tr th:only-of-type {\n        vertical-align: middle;\n    }\n\n    .dataframe tbody tr th {\n        vertical-align: top;\n    }\n\n    .dataframe thead th {\n        text-align: right;\n    }\n</style>\n<table border=\"1\" class=\"dataframe\">\n  <thead>\n    <tr style=\"text-align: right;\">\n      <th></th>\n      <th>ingredient_id</th>\n      <th>ingredient_name</th>\n    </tr>\n  </thead>\n  <tbody>\n    <tr>\n      <th>6914</th>\n      <td>5561.0</td>\n      <td>pork</td>\n    </tr>\n  </tbody>\n</table>\n</div>"
     },
     "execution_count": 163,
     "metadata": {},
     "output_type": "execute_result"
    }
   ],
   "source": [
    "findIngredient = ingredient_df.where(ingredient_df['ingredient_name'] == \"pork\").dropna()\n",
    "findIngredient"
   ],
   "metadata": {
    "collapsed": false,
    "pycharm": {
     "name": "#%%\n"
    }
   }
  },
  {
   "cell_type": "code",
   "execution_count": 164,
   "outputs": [
    {
     "data": {
      "text/plain": "                              name       id  minutes  contributor_id  \\\n153731  zwiebelfleisch  onion beef  86005.0     55.0         64642.0   \n\n         submitted                                               tags  \\\n153731  2004-03-07  ['60-minutes-or-less', 'time-to-make', 'course...   \n\n                                        nutrition  n_steps  \\\n153731  [629.0, 58.0, 28.0, 9.0, 99.0, 88.0, 6.0]      7.0   \n\n                                                    steps  \\\n153731  ['cut the meat into thin strips', 'heat butter...   \n\n                                              description  \\\n153731  a hearty, rib-sticking german dish posted in r...   \n\n                                              ingredients  n_ingredients  \\\n153731  ['round steaks', 'butter', 'onions', 'marjoram...           11.0   \n\n        recipe_id  average_rating  votes  \\\n153731    86005.0             4.0    2.0   \n\n                                           ingredient_ids  \n153731  [6201, 840, 5010, 4585, 3203, 7620, 7655, 2683...  ",
      "text/html": "<div>\n<style scoped>\n    .dataframe tbody tr th:only-of-type {\n        vertical-align: middle;\n    }\n\n    .dataframe tbody tr th {\n        vertical-align: top;\n    }\n\n    .dataframe thead th {\n        text-align: right;\n    }\n</style>\n<table border=\"1\" class=\"dataframe\">\n  <thead>\n    <tr style=\"text-align: right;\">\n      <th></th>\n      <th>name</th>\n      <th>id</th>\n      <th>minutes</th>\n      <th>contributor_id</th>\n      <th>submitted</th>\n      <th>tags</th>\n      <th>nutrition</th>\n      <th>n_steps</th>\n      <th>steps</th>\n      <th>description</th>\n      <th>ingredients</th>\n      <th>n_ingredients</th>\n      <th>recipe_id</th>\n      <th>average_rating</th>\n      <th>votes</th>\n      <th>ingredient_ids</th>\n    </tr>\n  </thead>\n  <tbody>\n    <tr>\n      <th>153731</th>\n      <td>zwiebelfleisch  onion beef</td>\n      <td>86005.0</td>\n      <td>55.0</td>\n      <td>64642.0</td>\n      <td>2004-03-07</td>\n      <td>['60-minutes-or-less', 'time-to-make', 'course...</td>\n      <td>[629.0, 58.0, 28.0, 9.0, 99.0, 88.0, 6.0]</td>\n      <td>7.0</td>\n      <td>['cut the meat into thin strips', 'heat butter...</td>\n      <td>a hearty, rib-sticking german dish posted in r...</td>\n      <td>['round steaks', 'butter', 'onions', 'marjoram...</td>\n      <td>11.0</td>\n      <td>86005.0</td>\n      <td>4.0</td>\n      <td>2.0</td>\n      <td>[6201, 840, 5010, 4585, 3203, 7620, 7655, 2683...</td>\n    </tr>\n  </tbody>\n</table>\n</div>"
     },
     "execution_count": 164,
     "metadata": {},
     "output_type": "execute_result"
    }
   ],
   "source": [
    "findItem = food_df.where(food_df['id'] == 86005).dropna()\n",
    "findItem\n"
   ],
   "metadata": {
    "collapsed": false,
    "pycharm": {
     "name": "#%%\n"
    }
   }
  },
  {
   "cell_type": "markdown",
   "source": [],
   "metadata": {
    "collapsed": false,
    "pycharm": {
     "name": "#%% md\n"
    }
   }
  },
  {
   "cell_type": "markdown",
   "source": [
    "start of test for making the ingredient encoding"
   ],
   "metadata": {
    "collapsed": false,
    "pycharm": {
     "name": "#%% md\n"
    }
   }
  },
  {
   "cell_type": "code",
   "execution_count": 164,
   "outputs": [],
   "source": [],
   "metadata": {
    "collapsed": false,
    "pycharm": {
     "name": "#%%\n"
    }
   }
  },
  {
   "cell_type": "code",
   "execution_count": 165,
   "outputs": [],
   "source": [
    "# compressionToOutputCsv()"
   ],
   "metadata": {
    "collapsed": false,
    "pycharm": {
     "name": "#%%\n"
    }
   }
  },
  {
   "cell_type": "code",
   "execution_count": 166,
   "outputs": [
    {
     "name": "stdout",
     "output_type": "stream",
     "text": [
      "9.0\n"
     ]
    }
   ],
   "source": [
    "#Show the number of votes possesed by the top 10% meals, based on number of votes\n",
    "q=newRatingSet['votes'].quantile(0.9)\n",
    "print(q)"
   ],
   "metadata": {
    "collapsed": false,
    "pycharm": {
     "name": "#%%\n"
    }
   }
  },
  {
   "cell_type": "markdown",
   "source": [
    "# Recommend a recipe based on what user likes and dislikes"
   ],
   "metadata": {
    "collapsed": false,
    "pycharm": {
     "name": "#%% md\n"
    }
   }
  },
  {
   "cell_type": "code",
   "execution_count": 167,
   "outputs": [],
   "source": [
    "recipesLikesDislikes = food_df\n",
    "\n",
    "# let's define some polarising ingredients\n",
    "liked_ingredients = [\"cheese\", \"pizza\", \"avocado\", \"chicken\"]\n",
    "hated_ingredients = [\"spinach\", \"mushroom\", \"olive\", \"beef\", \"truffle\", \"blue cheese\"]\n",
    "\n",
    "\n",
    "# let's add a \"like\" property\n",
    "recipesLikesDislikes[\"like\"] = 0\n",
    "\n",
    "# and populate our data\n",
    "recipesLikesDislikes.loc[recipesLikesDislikes.ingredients.str.lower().str.contains(\"|\".join(hated_ingredients)), \"like\"] = -1\n",
    "recipesLikesDislikes.loc[recipesLikesDislikes.ingredients.str.lower().str.contains(\"|\".join(liked_ingredients)), \"like\"] = +1"
   ],
   "metadata": {
    "collapsed": false,
    "pycharm": {
     "name": "#%%\n"
    }
   }
  },
  {
   "cell_type": "code",
   "execution_count": 168,
   "outputs": [],
   "source": [
    "# ingredientLikes = uniqueIngredientsDF\n",
    "# ingredientLikesd = pd.Series(ingredientLikes)\n",
    "# ingredientLikesd"
   ],
   "metadata": {
    "collapsed": false,
    "pycharm": {
     "name": "#%%\n"
    }
   }
  },
  {
   "cell_type": "code",
   "execution_count": 169,
   "outputs": [],
   "source": [
    "# ingredientLikes = uniqueIngredientsDF\n",
    "#\n",
    "# # let's define some polarising ingredients\n",
    "# liked_ingredients = [\"cheese\", \"pizza\", \"avocado\", \"chicken\"]\n",
    "# hated_ingredients = [\"spinach\", \"mushroom\", \"olive\", \"beef\", \"truffle\", \"blue cheese\"]\n",
    "#\n",
    "#\n",
    "# # let's add a \"like\" property\n",
    "# ingredientLikes[\"like\"] = 0\n",
    "#\n",
    "# # and populate our data\n",
    "# ingredientLikes.loc[ingredientLikes['replaced'].str.lower().str.contains(\"|\".join(hated_ingredients)), \"like\"] = -1\n",
    "# ingredientLikes.loc[ingredientLikes['replaced'].str.lower().str.contains(\"|\".join(liked_ingredients)), \"like\"] = +1"
   ],
   "metadata": {
    "collapsed": false,
    "pycharm": {
     "name": "#%%\n"
    }
   }
  },
  {
   "cell_type": "code",
   "execution_count": 170,
   "outputs": [
    {
     "data": {
      "text/plain": "                                           name      id  minutes  \\\n0            aromatic basmati rice  rice cooker  424415       61   \n1                         pumpkin pie a la easy  146223       55   \n2              cheesy tomato soup with potatoes  312329       25   \n3                                    mini tacos   74301       15   \n4                      rosemary s hanky panky s   76272       20   \n5  pink bavarian crown strawberry dream supreme  465171      250   \n6           tom and kelly s chicken fried steak  163861       18   \n7                     chocolate oat cookie bars  186383       40   \n8                     tropical lemon cream bars  116395       50   \n9             jeera on cubes  barbecue marinade  303460       30   \n\n   contributor_id   submitted  \\\n0          496803  2010-05-10   \n1          229619  2005-11-25   \n2          621626  2008-07-07   \n3           60989  2003-10-29   \n4           93444  2003-11-12   \n5          107135  2011-09-29   \n6          113941  2006-04-11   \n7          225997  2006-09-15   \n8          115658  2005-04-12   \n9          779526  2008-05-13   \n\n                                                tags  \\\n0  ['weeknight', 'time-to-make', 'course', 'main-...   \n1  ['60-minutes-or-less', 'time-to-make', 'course...   \n2  ['30-minutes-or-less', 'time-to-make', 'course...   \n3  ['15-minutes-or-less', 'time-to-make', 'course...   \n4  ['30-minutes-or-less', 'time-to-make', 'course...   \n5                  ['course', 'gelatin', 'desserts']   \n6  ['30-minutes-or-less', 'time-to-make', 'course...   \n7  ['60-minutes-or-less', 'time-to-make', 'course...   \n8  ['60-minutes-or-less', 'time-to-make', 'course...   \n9  ['30-minutes-or-less', 'time-to-make', 'course...   \n\n                                      nutrition  n_steps  \\\n0        [228.2, 2.0, 2.0, 8.0, 9.0, 1.0, 15.0]        6   \n1    [249.4, 16.0, 92.0, 8.0, 11.0, 27.0, 11.0]       10   \n2    [351.3, 34.0, 15.0, 50.0, 25.0, 70.0, 8.0]        6   \n3        [79.7, 5.0, 2.0, 11.0, 11.0, 7.0, 2.0]        8   \n4     [240.7, 29.0, 9.0, 28.0, 27.0, 42.0, 0.0]        5   \n5  [548.9, 20.0, 282.0, 25.0, 16.0, 52.0, 34.0]       15   \n6     [781.6, 82.0, 6.0, 12.0, 94.0, 95.0, 8.0]       11   \n7      [198.7, 13.0, 62.0, 2.0, 5.0, 11.0, 9.0]        8   \n8   [413.9, 32.0, 138.0, 8.0, 16.0, 53.0, 16.0]       16   \n9      [142.3, 16.0, 19.0, 27.0, 4.0, 9.0, 3.0]        7   \n\n                                               steps  \\\n0  ['rinse the rice in a fine strainer , then dra...   \n1  ['preheat oven to 350', 'combine flour , oats ...   \n2  ['pour the broth & water into a large pot', 'a...   \n3  ['cook hamburger until browned', 'drain the fa...   \n4  ['fry ground beef and sausage until browned', ...   \n5  ['mix strawberry jell-o with boiling water the...   \n6  ['have your butcher \"cube\" 2 lean boneless por...   \n7  ['preheat oven to 350 degrees', 'whisk togethe...   \n8  ['crust:', 'combine flour , confectioners suga...   \n9  ['roast coriander and cumin and ground afterwa...   \n\n                                         description  \\\n0  from the ultimate rice cooker cookbook.  the a...   \n1  this is a pampered chef recipe for their stone...   \n2  after modifying another recipe i came up with ...   \n3  these can be a easy appetizer or a light dinne...   \n4  my girlfriend rosemary gave me this wonderfull...   \n5  made with dream whip, strawberry jell-o and an...   \n6  you'll need your butcher's help with this, but...   \n7  these are made with oil instead of butter/marg...   \n8  a unique blend of ingredients makes this a won...   \n9  if you love jeera (cumin) you will love this o...   \n\n                                         ingredients  n_ingredients  \\\n0  ['basmati rice', 'water', 'salt', 'cinnamon st...              5   \n1  ['flour', 'oats', 'brown sugar', 'pecans', 'bu...             12   \n2  ['chicken broth', 'water', 'salt', 'black pepp...             15   \n3  ['wonton wrappers', 'hamburger', 'taco seasoni...              8   \n4  ['ground beef', 'ground sausage', 'velveeta ch...              4   \n5  ['strawberry jell-o gelatin dessert', 'water',...             10   \n6  ['boneless pork chops', 'flour', 'salt', 'pepp...              9   \n7  ['flour', 'oats', 'baking powder', 'baking sod...             10   \n8  ['flour', \"confectioners' sugar\", 'powdered mi...             13   \n9  ['sesame oil', 'yoghurt', 'fruit vinegar', 'ho...              9   \n\n   recipe_id  average_rating  votes  \\\n0     424415        4.833333      6   \n1     146223        5.000000      4   \n2     312329        4.000000      1   \n3      74301        4.766129    124   \n4      76272        5.000000      3   \n5     465171        4.000000      1   \n6     163861        5.000000      3   \n7     186383        4.666667      9   \n8     116395        4.500000      2   \n9     303460        5.000000      1   \n\n                                      ingredient_ids  like  \n0                      [389, 7655, 6270, 1527, 3406]     0  \n1  [2683, 4969, 800, 5298, 840, 2499, 6632, 7022,...     0  \n2  [1257, 7655, 6270, 590, 5024, 1119, 4883, 6696...     1  \n3   [7940, 3609, 7060, 6265, 1170, 6654, 5003, 3561]     1  \n4                            [3484, 6324, 7594, 243]     1  \n5  [6861, 7655, 6846, 6906, 1789, 131, 6863, 1833...     0  \n6  [5574, 2683, 6270, 5319, 2499, 869, 1278, 4987...     1  \n7  [2683, 4969, 332, 335, 6270, 800, 4987, 7470, ...     0  \n8  [2683, 1689, 5687, 1098, 840, 7782, 7011, 1910...     1  \n9  [6413, 7997, 3148, 3710, 1799, 2007, 3203, 265...     0  ",
      "text/html": "<div>\n<style scoped>\n    .dataframe tbody tr th:only-of-type {\n        vertical-align: middle;\n    }\n\n    .dataframe tbody tr th {\n        vertical-align: top;\n    }\n\n    .dataframe thead th {\n        text-align: right;\n    }\n</style>\n<table border=\"1\" class=\"dataframe\">\n  <thead>\n    <tr style=\"text-align: right;\">\n      <th></th>\n      <th>name</th>\n      <th>id</th>\n      <th>minutes</th>\n      <th>contributor_id</th>\n      <th>submitted</th>\n      <th>tags</th>\n      <th>nutrition</th>\n      <th>n_steps</th>\n      <th>steps</th>\n      <th>description</th>\n      <th>ingredients</th>\n      <th>n_ingredients</th>\n      <th>recipe_id</th>\n      <th>average_rating</th>\n      <th>votes</th>\n      <th>ingredient_ids</th>\n      <th>like</th>\n    </tr>\n  </thead>\n  <tbody>\n    <tr>\n      <th>0</th>\n      <td>aromatic basmati rice  rice cooker</td>\n      <td>424415</td>\n      <td>61</td>\n      <td>496803</td>\n      <td>2010-05-10</td>\n      <td>['weeknight', 'time-to-make', 'course', 'main-...</td>\n      <td>[228.2, 2.0, 2.0, 8.0, 9.0, 1.0, 15.0]</td>\n      <td>6</td>\n      <td>['rinse the rice in a fine strainer , then dra...</td>\n      <td>from the ultimate rice cooker cookbook.  the a...</td>\n      <td>['basmati rice', 'water', 'salt', 'cinnamon st...</td>\n      <td>5</td>\n      <td>424415</td>\n      <td>4.833333</td>\n      <td>6</td>\n      <td>[389, 7655, 6270, 1527, 3406]</td>\n      <td>0</td>\n    </tr>\n    <tr>\n      <th>1</th>\n      <td>pumpkin pie a la easy</td>\n      <td>146223</td>\n      <td>55</td>\n      <td>229619</td>\n      <td>2005-11-25</td>\n      <td>['60-minutes-or-less', 'time-to-make', 'course...</td>\n      <td>[249.4, 16.0, 92.0, 8.0, 11.0, 27.0, 11.0]</td>\n      <td>10</td>\n      <td>['preheat oven to 350', 'combine flour , oats ...</td>\n      <td>this is a pampered chef recipe for their stone...</td>\n      <td>['flour', 'oats', 'brown sugar', 'pecans', 'bu...</td>\n      <td>12</td>\n      <td>146223</td>\n      <td>5.000000</td>\n      <td>4</td>\n      <td>[2683, 4969, 800, 5298, 840, 2499, 6632, 7022,...</td>\n      <td>0</td>\n    </tr>\n    <tr>\n      <th>2</th>\n      <td>cheesy tomato soup with potatoes</td>\n      <td>312329</td>\n      <td>25</td>\n      <td>621626</td>\n      <td>2008-07-07</td>\n      <td>['30-minutes-or-less', 'time-to-make', 'course...</td>\n      <td>[351.3, 34.0, 15.0, 50.0, 25.0, 70.0, 8.0]</td>\n      <td>6</td>\n      <td>['pour the broth &amp; water into a large pot', 'a...</td>\n      <td>after modifying another recipe i came up with ...</td>\n      <td>['chicken broth', 'water', 'salt', 'black pepp...</td>\n      <td>15</td>\n      <td>312329</td>\n      <td>4.000000</td>\n      <td>1</td>\n      <td>[1257, 7655, 6270, 590, 5024, 1119, 4883, 6696...</td>\n      <td>1</td>\n    </tr>\n    <tr>\n      <th>3</th>\n      <td>mini tacos</td>\n      <td>74301</td>\n      <td>15</td>\n      <td>60989</td>\n      <td>2003-10-29</td>\n      <td>['15-minutes-or-less', 'time-to-make', 'course...</td>\n      <td>[79.7, 5.0, 2.0, 11.0, 11.0, 7.0, 2.0]</td>\n      <td>8</td>\n      <td>['cook hamburger until browned', 'drain the fa...</td>\n      <td>these can be a easy appetizer or a light dinne...</td>\n      <td>['wonton wrappers', 'hamburger', 'taco seasoni...</td>\n      <td>8</td>\n      <td>74301</td>\n      <td>4.766129</td>\n      <td>124</td>\n      <td>[7940, 3609, 7060, 6265, 1170, 6654, 5003, 3561]</td>\n      <td>1</td>\n    </tr>\n    <tr>\n      <th>4</th>\n      <td>rosemary s hanky panky s</td>\n      <td>76272</td>\n      <td>20</td>\n      <td>93444</td>\n      <td>2003-11-12</td>\n      <td>['30-minutes-or-less', 'time-to-make', 'course...</td>\n      <td>[240.7, 29.0, 9.0, 28.0, 27.0, 42.0, 0.0]</td>\n      <td>5</td>\n      <td>['fry ground beef and sausage until browned', ...</td>\n      <td>my girlfriend rosemary gave me this wonderfull...</td>\n      <td>['ground beef', 'ground sausage', 'velveeta ch...</td>\n      <td>4</td>\n      <td>76272</td>\n      <td>5.000000</td>\n      <td>3</td>\n      <td>[3484, 6324, 7594, 243]</td>\n      <td>1</td>\n    </tr>\n    <tr>\n      <th>5</th>\n      <td>pink bavarian crown strawberry dream supreme</td>\n      <td>465171</td>\n      <td>250</td>\n      <td>107135</td>\n      <td>2011-09-29</td>\n      <td>['course', 'gelatin', 'desserts']</td>\n      <td>[548.9, 20.0, 282.0, 25.0, 16.0, 52.0, 34.0]</td>\n      <td>15</td>\n      <td>['mix strawberry jell-o with boiling water the...</td>\n      <td>made with dream whip, strawberry jell-o and an...</td>\n      <td>['strawberry jell-o gelatin dessert', 'water',...</td>\n      <td>10</td>\n      <td>465171</td>\n      <td>4.000000</td>\n      <td>1</td>\n      <td>[6861, 7655, 6846, 6906, 1789, 131, 6863, 1833...</td>\n      <td>0</td>\n    </tr>\n    <tr>\n      <th>6</th>\n      <td>tom and kelly s chicken fried steak</td>\n      <td>163861</td>\n      <td>18</td>\n      <td>113941</td>\n      <td>2006-04-11</td>\n      <td>['30-minutes-or-less', 'time-to-make', 'course...</td>\n      <td>[781.6, 82.0, 6.0, 12.0, 94.0, 95.0, 8.0]</td>\n      <td>11</td>\n      <td>['have your butcher \"cube\" 2 lean boneless por...</td>\n      <td>you'll need your butcher's help with this, but...</td>\n      <td>['boneless pork chops', 'flour', 'salt', 'pepp...</td>\n      <td>9</td>\n      <td>163861</td>\n      <td>5.000000</td>\n      <td>3</td>\n      <td>[5574, 2683, 6270, 5319, 2499, 869, 1278, 4987...</td>\n      <td>1</td>\n    </tr>\n    <tr>\n      <th>7</th>\n      <td>chocolate oat cookie bars</td>\n      <td>186383</td>\n      <td>40</td>\n      <td>225997</td>\n      <td>2006-09-15</td>\n      <td>['60-minutes-or-less', 'time-to-make', 'course...</td>\n      <td>[198.7, 13.0, 62.0, 2.0, 5.0, 11.0, 9.0]</td>\n      <td>8</td>\n      <td>['preheat oven to 350 degrees', 'whisk togethe...</td>\n      <td>these are made with oil instead of butter/marg...</td>\n      <td>['flour', 'oats', 'baking powder', 'baking sod...</td>\n      <td>10</td>\n      <td>186383</td>\n      <td>4.666667</td>\n      <td>9</td>\n      <td>[2683, 4969, 332, 335, 6270, 800, 4987, 7470, ...</td>\n      <td>0</td>\n    </tr>\n    <tr>\n      <th>8</th>\n      <td>tropical lemon cream bars</td>\n      <td>116395</td>\n      <td>50</td>\n      <td>115658</td>\n      <td>2005-04-12</td>\n      <td>['60-minutes-or-less', 'time-to-make', 'course...</td>\n      <td>[413.9, 32.0, 138.0, 8.0, 16.0, 53.0, 16.0]</td>\n      <td>16</td>\n      <td>['crust:', 'combine flour , confectioners suga...</td>\n      <td>a unique blend of ingredients makes this a won...</td>\n      <td>['flour', \"confectioners' sugar\", 'powdered mi...</td>\n      <td>13</td>\n      <td>116395</td>\n      <td>4.500000</td>\n      <td>2</td>\n      <td>[2683, 1689, 5687, 1098, 840, 7782, 7011, 1910...</td>\n      <td>1</td>\n    </tr>\n    <tr>\n      <th>9</th>\n      <td>jeera on cubes  barbecue marinade</td>\n      <td>303460</td>\n      <td>30</td>\n      <td>779526</td>\n      <td>2008-05-13</td>\n      <td>['30-minutes-or-less', 'time-to-make', 'course...</td>\n      <td>[142.3, 16.0, 19.0, 27.0, 4.0, 9.0, 3.0]</td>\n      <td>7</td>\n      <td>['roast coriander and cumin and ground afterwa...</td>\n      <td>if you love jeera (cumin) you will love this o...</td>\n      <td>['sesame oil', 'yoghurt', 'fruit vinegar', 'ho...</td>\n      <td>9</td>\n      <td>303460</td>\n      <td>5.000000</td>\n      <td>1</td>\n      <td>[6413, 7997, 3148, 3710, 1799, 2007, 3203, 265...</td>\n      <td>0</td>\n    </tr>\n  </tbody>\n</table>\n</div>"
     },
     "execution_count": 170,
     "metadata": {},
     "output_type": "execute_result"
    }
   ],
   "source": [
    "recipesLikesDislikes.head(10)"
   ],
   "metadata": {
    "collapsed": false,
    "pycharm": {
     "name": "#%%\n"
    }
   }
  },
  {
   "cell_type": "markdown",
   "source": [
    "### Alergens"
   ],
   "metadata": {
    "collapsed": false,
    "pycharm": {
     "name": "#%% md\n"
    }
   }
  },
  {
   "cell_type": "code",
   "execution_count": 171,
   "outputs": [],
   "source": [
    "foodIntollerance = [\n",
    "    \"peanuts\",\n",
    "    \"nuts\",\n",
    "    \"Fish\",\n",
    "    \"Shellfish\",\n",
    "    \"Milk\",\n",
    "    \"Eggs\",\n",
    "    \"Soy\",\n",
    "    \"Wheat\"]"
   ],
   "metadata": {
    "collapsed": false,
    "pycharm": {
     "name": "#%%\n"
    }
   }
  },
  {
   "cell_type": "markdown",
   "source": [
    "# Quality on DataFrame status"
   ],
   "metadata": {
    "collapsed": false,
    "pycharm": {
     "name": "#%% md\n"
    }
   }
  },
  {
   "cell_type": "code",
   "execution_count": 172,
   "outputs": [
    {
     "data": {
      "text/plain": "name                 0\nid                   0\nminutes              0\ncontributor_id       0\nsubmitted            0\ntags                 0\nnutrition            0\nn_steps              0\nsteps                0\ndescription       3954\ningredients          0\nn_ingredients        0\nrecipe_id            0\naverage_rating       0\nvotes                0\ningredient_ids       0\nlike                 0\ndtype: int64"
     },
     "execution_count": 172,
     "metadata": {},
     "output_type": "execute_result"
    }
   ],
   "source": [
    "howManyMissing = recipesLikesDislikes.isnull().sum()\n",
    "howManyMissing"
   ],
   "metadata": {
    "collapsed": false,
    "pycharm": {
     "name": "#%%\n"
    }
   }
  },
  {
   "cell_type": "code",
   "execution_count": 173,
   "outputs": [
    {
     "data": {
      "text/plain": "name              False\nid                False\nminutes           False\ncontributor_id    False\nsubmitted         False\ntags              False\nnutrition         False\nn_steps           False\nsteps             False\ndescription        True\ningredients       False\nn_ingredients     False\nrecipe_id         False\naverage_rating    False\nvotes             False\ningredient_ids    False\nlike              False\ndtype: bool"
     },
     "execution_count": 173,
     "metadata": {},
     "output_type": "execute_result"
    }
   ],
   "source": [
    "unknown = recipesLikesDislikes[recipesLikesDislikes['name'] == 'none']\n",
    "index = unknown.index\n",
    "fixed_model = recipesLikesDislikes.drop(index)\n",
    "dropValue = recipesLikesDislikes.isna().any()\n",
    "dropValue"
   ],
   "metadata": {
    "collapsed": false,
    "pycharm": {
     "name": "#%%\n"
    }
   }
  },
  {
   "cell_type": "code",
   "execution_count": 174,
   "outputs": [
    {
     "data": {
      "text/plain": "name              False\nid                False\nminutes           False\ncontributor_id    False\nsubmitted         False\ntags              False\nnutrition         False\nn_steps           False\nsteps             False\ndescription        True\ningredients       False\nn_ingredients     False\nrecipe_id         False\naverage_rating    False\nvotes             False\ningredient_ids    False\nlike              False\ndtype: bool"
     },
     "execution_count": 174,
     "metadata": {},
     "output_type": "execute_result"
    }
   ],
   "source": [
    "unknown = recipesLikesDislikes[recipesLikesDislikes['description'] == 'none']\n",
    "index = unknown.index\n",
    "fixed_model = recipesLikesDislikes.drop(index)\n",
    "dropValue = recipesLikesDislikes.isna().any()\n",
    "dropValue"
   ],
   "metadata": {
    "collapsed": false,
    "pycharm": {
     "name": "#%%\n"
    }
   }
  },
  {
   "cell_type": "code",
   "execution_count": 175,
   "outputs": [],
   "source": [
    "recipesLikesDislikes['description'].fillna(\"not inserted\",inplace=True)"
   ],
   "metadata": {
    "collapsed": false,
    "pycharm": {
     "name": "#%%\n"
    }
   }
  },
  {
   "cell_type": "markdown",
   "source": [
    "## Amount of missing info after clean up"
   ],
   "metadata": {
    "collapsed": false,
    "pycharm": {
     "name": "#%% md\n"
    }
   }
  },
  {
   "cell_type": "code",
   "execution_count": 176,
   "outputs": [
    {
     "data": {
      "text/plain": "name              0\nid                0\nminutes           0\ncontributor_id    0\nsubmitted         0\ntags              0\nnutrition         0\nn_steps           0\nsteps             0\ndescription       0\ningredients       0\nn_ingredients     0\nrecipe_id         0\naverage_rating    0\nvotes             0\ningredient_ids    0\nlike              0\ndtype: int64"
     },
     "execution_count": 176,
     "metadata": {},
     "output_type": "execute_result"
    }
   ],
   "source": [
    "howManyMissing = recipesLikesDislikes.isnull().sum()\n",
    "howManyMissing"
   ],
   "metadata": {
    "collapsed": false,
    "pycharm": {
     "name": "#%%\n"
    }
   }
  },
  {
   "cell_type": "code",
   "execution_count": 177,
   "outputs": [],
   "source": [
    "# recipesLikesDislikes['name'].fillna(\"NaN\",inplace=True)"
   ],
   "metadata": {
    "collapsed": false,
    "pycharm": {
     "name": "#%%\n"
    }
   }
  },
  {
   "cell_type": "code",
   "execution_count": 178,
   "outputs": [],
   "source": [
    "# remove spacing in all the rows\n",
    "\n",
    "# recipesLikesDislikes['name'] = recipesLikesDislikes['name'].apply(lambda x:[i.replace(\" \",\"\") for i in x])\n",
    "# recipesLikesDislikes['name'] = recipesLikesDislikes['name'].apply(lambda x:[i.replace(\" \",\"\") for i in x])"
   ],
   "metadata": {
    "collapsed": false,
    "pycharm": {
     "name": "#%%\n"
    }
   }
  },
  {
   "cell_type": "code",
   "execution_count": 179,
   "outputs": [
    {
     "data": {
      "text/plain": "                                         name      id  minutes  \\\n0          aromatic basmati rice  rice cooker  424415       61   \n1                       pumpkin pie a la easy  146223       55   \n2            cheesy tomato soup with potatoes  312329       25   \n3                                  mini tacos   74301       15   \n4                    rosemary s hanky panky s   76272       20   \n...                                       ...     ...      ...   \n178260              sugar free snickerdoodles  323143       23   \n178261               sausage   pancake strata  149114       70   \n178262                     baked beef patties   34200       55   \n178263  good and garlicky sweet and sour pork   30618       40   \n178264                      molasses crinkles  263840       37   \n\n        contributor_id   submitted  \\\n0               496803  2010-05-10   \n1               229619  2005-11-25   \n2               621626  2008-07-07   \n3                60989  2003-10-29   \n4                93444  2003-11-12   \n...                ...         ...   \n178260           57042  2008-09-04   \n178261          191220  2005-12-22   \n178262           37779  2002-07-15   \n178263           31499  2002-06-10   \n178264           68526  2007-11-07   \n\n                                                     tags  \\\n0       ['weeknight', 'time-to-make', 'course', 'main-...   \n1       ['60-minutes-or-less', 'time-to-make', 'course...   \n2       ['30-minutes-or-less', 'time-to-make', 'course...   \n3       ['15-minutes-or-less', 'time-to-make', 'course...   \n4       ['30-minutes-or-less', 'time-to-make', 'course...   \n...                                                   ...   \n178260  ['30-minutes-or-less', 'time-to-make', 'course...   \n178261  ['time-to-make', 'course', 'main-ingredient', ...   \n178262  ['60-minutes-or-less', 'time-to-make', 'course...   \n178263  ['60-minutes-or-less', 'time-to-make', 'main-i...   \n178264  ['60-minutes-or-less', 'time-to-make', 'course...   \n\n                                         nutrition  n_steps  \\\n0           [228.2, 2.0, 2.0, 8.0, 9.0, 1.0, 15.0]        6   \n1       [249.4, 16.0, 92.0, 8.0, 11.0, 27.0, 11.0]       10   \n2       [351.3, 34.0, 15.0, 50.0, 25.0, 70.0, 8.0]        6   \n3           [79.7, 5.0, 2.0, 11.0, 11.0, 7.0, 2.0]        8   \n4        [240.7, 29.0, 9.0, 28.0, 27.0, 42.0, 0.0]        5   \n...                                            ...      ...   \n178260   [304.1, 30.0, 0.0, 11.0, 10.0, 60.0, 8.0]        6   \n178261   [235.9, 26.0, 3.0, 19.0, 35.0, 37.0, 0.0]       14   \n178262  [577.5, 51.0, 26.0, 38.0, 84.0, 83.0, 8.0]       15   \n178263   [240.1, 5.0, 96.0, 12.0, 41.0, 5.0, 10.0]       13   \n178264       [98.1, 6.0, 28.0, 3.0, 1.0, 5.0, 4.0]       12   \n\n                                                    steps  \\\n0       ['rinse the rice in a fine strainer , then dra...   \n1       ['preheat oven to 350', 'combine flour , oats ...   \n2       ['pour the broth & water into a large pot', 'a...   \n3       ['cook hamburger until browned', 'drain the fa...   \n4       ['fry ground beef and sausage until browned', ...   \n...                                                   ...   \n178260  ['preheat over to 400', 'mix together butter a...   \n178261  ['preheat oven to 350', 'coat a 11 x 7 baking ...   \n178262  ['in a large bowl , combine 1 / 2 t', 'dried t...   \n178263  ['for the sauce , combine all the sauce ingred...   \n178264  ['preheat oven to 375', 'cream shortening', 'a...   \n\n                                              description  \\\n0       from the ultimate rice cooker cookbook.  the a...   \n1       this is a pampered chef recipe for their stone...   \n2       after modifying another recipe i came up with ...   \n3       these can be a easy appetizer or a light dinne...   \n4       my girlfriend rosemary gave me this wonderfull...   \n...                                                   ...   \n178260  i have not tried this recipe. i got this recip...   \n178261  my sister gave me this recipe just yesterday. ...   \n178262                    taste of home; family favorite.   \n178263  the flavors of this dish mix really well toget...   \n178264  great anytime, but especially fun to include i...   \n\n                                              ingredients  n_ingredients  \\\n0       ['basmati rice', 'water', 'salt', 'cinnamon st...              5   \n1       ['flour', 'oats', 'brown sugar', 'pecans', 'bu...             12   \n2       ['chicken broth', 'water', 'salt', 'black pepp...             15   \n3       ['wonton wrappers', 'hamburger', 'taco seasoni...              8   \n4       ['ground beef', 'ground sausage', 'velveeta ch...              4   \n...                                                   ...            ...   \n178260  ['butter', 'splenda granular', 'eggs', 'flour'...              7   \n178261  ['eggs', 'milk', 'cheddar cheese', 'salt', 'fr...              7   \n178262  ['dried thyme', 'water', 'garlic salt', 'dried...             14   \n178263  ['pork tenderloin', 'fresh garlic', 'pineapple...             12   \n178264  ['shortening', 'brown sugar', 'molasses', 'flo...              9   \n\n        recipe_id  average_rating  votes  \\\n0          424415        4.833333      6   \n1          146223        5.000000      4   \n2          312329        4.000000      1   \n3           74301        4.766129    124   \n4           76272        5.000000      3   \n...           ...             ...    ...   \n178260     323143        2.000000      4   \n178261     149114        4.333333      3   \n178262      34200        4.500000      2   \n178263      30618        4.612903     31   \n178264     263840        5.000000      1   \n\n                                           ingredient_ids  like  \n0                           [389, 7655, 6270, 1527, 3406]     0  \n1       [2683, 4969, 800, 5298, 840, 2499, 6632, 7022,...     0  \n2       [1257, 7655, 6270, 590, 5024, 1119, 4883, 6696...     1  \n3        [7940, 3609, 7060, 6265, 1170, 6654, 5003, 3561]     1  \n4                                 [3484, 6324, 7594, 243]     1  \n...                                                   ...   ...  \n178260            [840, 208, 2499, 2683, 1925, 335, 1511]     0  \n178261               [2499, 4717, 1168, 6270, 6324, 7040]     1  \n178262  [2378, 7655, 3219, 2320, 5168, 5319, 4189, 268...     1  \n178263  [5627, 2807, 5412, 3399, 7979, 1093, 1257, 780...     1  \n178264  [6473, 800, 4807, 2683, 335, 1563, 1511, 3248,...     0  \n\n[178265 rows x 17 columns]",
      "text/html": "<div>\n<style scoped>\n    .dataframe tbody tr th:only-of-type {\n        vertical-align: middle;\n    }\n\n    .dataframe tbody tr th {\n        vertical-align: top;\n    }\n\n    .dataframe thead th {\n        text-align: right;\n    }\n</style>\n<table border=\"1\" class=\"dataframe\">\n  <thead>\n    <tr style=\"text-align: right;\">\n      <th></th>\n      <th>name</th>\n      <th>id</th>\n      <th>minutes</th>\n      <th>contributor_id</th>\n      <th>submitted</th>\n      <th>tags</th>\n      <th>nutrition</th>\n      <th>n_steps</th>\n      <th>steps</th>\n      <th>description</th>\n      <th>ingredients</th>\n      <th>n_ingredients</th>\n      <th>recipe_id</th>\n      <th>average_rating</th>\n      <th>votes</th>\n      <th>ingredient_ids</th>\n      <th>like</th>\n    </tr>\n  </thead>\n  <tbody>\n    <tr>\n      <th>0</th>\n      <td>aromatic basmati rice  rice cooker</td>\n      <td>424415</td>\n      <td>61</td>\n      <td>496803</td>\n      <td>2010-05-10</td>\n      <td>['weeknight', 'time-to-make', 'course', 'main-...</td>\n      <td>[228.2, 2.0, 2.0, 8.0, 9.0, 1.0, 15.0]</td>\n      <td>6</td>\n      <td>['rinse the rice in a fine strainer , then dra...</td>\n      <td>from the ultimate rice cooker cookbook.  the a...</td>\n      <td>['basmati rice', 'water', 'salt', 'cinnamon st...</td>\n      <td>5</td>\n      <td>424415</td>\n      <td>4.833333</td>\n      <td>6</td>\n      <td>[389, 7655, 6270, 1527, 3406]</td>\n      <td>0</td>\n    </tr>\n    <tr>\n      <th>1</th>\n      <td>pumpkin pie a la easy</td>\n      <td>146223</td>\n      <td>55</td>\n      <td>229619</td>\n      <td>2005-11-25</td>\n      <td>['60-minutes-or-less', 'time-to-make', 'course...</td>\n      <td>[249.4, 16.0, 92.0, 8.0, 11.0, 27.0, 11.0]</td>\n      <td>10</td>\n      <td>['preheat oven to 350', 'combine flour , oats ...</td>\n      <td>this is a pampered chef recipe for their stone...</td>\n      <td>['flour', 'oats', 'brown sugar', 'pecans', 'bu...</td>\n      <td>12</td>\n      <td>146223</td>\n      <td>5.000000</td>\n      <td>4</td>\n      <td>[2683, 4969, 800, 5298, 840, 2499, 6632, 7022,...</td>\n      <td>0</td>\n    </tr>\n    <tr>\n      <th>2</th>\n      <td>cheesy tomato soup with potatoes</td>\n      <td>312329</td>\n      <td>25</td>\n      <td>621626</td>\n      <td>2008-07-07</td>\n      <td>['30-minutes-or-less', 'time-to-make', 'course...</td>\n      <td>[351.3, 34.0, 15.0, 50.0, 25.0, 70.0, 8.0]</td>\n      <td>6</td>\n      <td>['pour the broth &amp; water into a large pot', 'a...</td>\n      <td>after modifying another recipe i came up with ...</td>\n      <td>['chicken broth', 'water', 'salt', 'black pepp...</td>\n      <td>15</td>\n      <td>312329</td>\n      <td>4.000000</td>\n      <td>1</td>\n      <td>[1257, 7655, 6270, 590, 5024, 1119, 4883, 6696...</td>\n      <td>1</td>\n    </tr>\n    <tr>\n      <th>3</th>\n      <td>mini tacos</td>\n      <td>74301</td>\n      <td>15</td>\n      <td>60989</td>\n      <td>2003-10-29</td>\n      <td>['15-minutes-or-less', 'time-to-make', 'course...</td>\n      <td>[79.7, 5.0, 2.0, 11.0, 11.0, 7.0, 2.0]</td>\n      <td>8</td>\n      <td>['cook hamburger until browned', 'drain the fa...</td>\n      <td>these can be a easy appetizer or a light dinne...</td>\n      <td>['wonton wrappers', 'hamburger', 'taco seasoni...</td>\n      <td>8</td>\n      <td>74301</td>\n      <td>4.766129</td>\n      <td>124</td>\n      <td>[7940, 3609, 7060, 6265, 1170, 6654, 5003, 3561]</td>\n      <td>1</td>\n    </tr>\n    <tr>\n      <th>4</th>\n      <td>rosemary s hanky panky s</td>\n      <td>76272</td>\n      <td>20</td>\n      <td>93444</td>\n      <td>2003-11-12</td>\n      <td>['30-minutes-or-less', 'time-to-make', 'course...</td>\n      <td>[240.7, 29.0, 9.0, 28.0, 27.0, 42.0, 0.0]</td>\n      <td>5</td>\n      <td>['fry ground beef and sausage until browned', ...</td>\n      <td>my girlfriend rosemary gave me this wonderfull...</td>\n      <td>['ground beef', 'ground sausage', 'velveeta ch...</td>\n      <td>4</td>\n      <td>76272</td>\n      <td>5.000000</td>\n      <td>3</td>\n      <td>[3484, 6324, 7594, 243]</td>\n      <td>1</td>\n    </tr>\n    <tr>\n      <th>...</th>\n      <td>...</td>\n      <td>...</td>\n      <td>...</td>\n      <td>...</td>\n      <td>...</td>\n      <td>...</td>\n      <td>...</td>\n      <td>...</td>\n      <td>...</td>\n      <td>...</td>\n      <td>...</td>\n      <td>...</td>\n      <td>...</td>\n      <td>...</td>\n      <td>...</td>\n      <td>...</td>\n      <td>...</td>\n    </tr>\n    <tr>\n      <th>178260</th>\n      <td>sugar free snickerdoodles</td>\n      <td>323143</td>\n      <td>23</td>\n      <td>57042</td>\n      <td>2008-09-04</td>\n      <td>['30-minutes-or-less', 'time-to-make', 'course...</td>\n      <td>[304.1, 30.0, 0.0, 11.0, 10.0, 60.0, 8.0]</td>\n      <td>6</td>\n      <td>['preheat over to 400', 'mix together butter a...</td>\n      <td>i have not tried this recipe. i got this recip...</td>\n      <td>['butter', 'splenda granular', 'eggs', 'flour'...</td>\n      <td>7</td>\n      <td>323143</td>\n      <td>2.000000</td>\n      <td>4</td>\n      <td>[840, 208, 2499, 2683, 1925, 335, 1511]</td>\n      <td>0</td>\n    </tr>\n    <tr>\n      <th>178261</th>\n      <td>sausage   pancake strata</td>\n      <td>149114</td>\n      <td>70</td>\n      <td>191220</td>\n      <td>2005-12-22</td>\n      <td>['time-to-make', 'course', 'main-ingredient', ...</td>\n      <td>[235.9, 26.0, 3.0, 19.0, 35.0, 37.0, 0.0]</td>\n      <td>14</td>\n      <td>['preheat oven to 350', 'coat a 11 x 7 baking ...</td>\n      <td>my sister gave me this recipe just yesterday. ...</td>\n      <td>['eggs', 'milk', 'cheddar cheese', 'salt', 'fr...</td>\n      <td>7</td>\n      <td>149114</td>\n      <td>4.333333</td>\n      <td>3</td>\n      <td>[2499, 4717, 1168, 6270, 6324, 7040]</td>\n      <td>1</td>\n    </tr>\n    <tr>\n      <th>178262</th>\n      <td>baked beef patties</td>\n      <td>34200</td>\n      <td>55</td>\n      <td>37779</td>\n      <td>2002-07-15</td>\n      <td>['60-minutes-or-less', 'time-to-make', 'course...</td>\n      <td>[577.5, 51.0, 26.0, 38.0, 84.0, 83.0, 8.0]</td>\n      <td>15</td>\n      <td>['in a large bowl , combine 1 / 2 t', 'dried t...</td>\n      <td>taste of home; family favorite.</td>\n      <td>['dried thyme', 'water', 'garlic salt', 'dried...</td>\n      <td>14</td>\n      <td>34200</td>\n      <td>4.500000</td>\n      <td>2</td>\n      <td>[2378, 7655, 3219, 2320, 5168, 5319, 4189, 268...</td>\n      <td>1</td>\n    </tr>\n    <tr>\n      <th>178263</th>\n      <td>good and garlicky sweet and sour pork</td>\n      <td>30618</td>\n      <td>40</td>\n      <td>31499</td>\n      <td>2002-06-10</td>\n      <td>['60-minutes-or-less', 'time-to-make', 'main-i...</td>\n      <td>[240.1, 5.0, 96.0, 12.0, 41.0, 5.0, 10.0]</td>\n      <td>13</td>\n      <td>['for the sauce , combine all the sauce ingred...</td>\n      <td>the flavors of this dish mix really well toget...</td>\n      <td>['pork tenderloin', 'fresh garlic', 'pineapple...</td>\n      <td>12</td>\n      <td>30618</td>\n      <td>4.612903</td>\n      <td>31</td>\n      <td>[5627, 2807, 5412, 3399, 7979, 1093, 1257, 780...</td>\n      <td>1</td>\n    </tr>\n    <tr>\n      <th>178264</th>\n      <td>molasses crinkles</td>\n      <td>263840</td>\n      <td>37</td>\n      <td>68526</td>\n      <td>2007-11-07</td>\n      <td>['60-minutes-or-less', 'time-to-make', 'course...</td>\n      <td>[98.1, 6.0, 28.0, 3.0, 1.0, 5.0, 4.0]</td>\n      <td>12</td>\n      <td>['preheat oven to 375', 'cream shortening', 'a...</td>\n      <td>great anytime, but especially fun to include i...</td>\n      <td>['shortening', 'brown sugar', 'molasses', 'flo...</td>\n      <td>9</td>\n      <td>263840</td>\n      <td>5.000000</td>\n      <td>1</td>\n      <td>[6473, 800, 4807, 2683, 335, 1563, 1511, 3248,...</td>\n      <td>0</td>\n    </tr>\n  </tbody>\n</table>\n<p>178265 rows × 17 columns</p>\n</div>"
     },
     "execution_count": 179,
     "metadata": {},
     "output_type": "execute_result"
    }
   ],
   "source": [
    "recipesLikesDislikes"
   ],
   "metadata": {
    "collapsed": false,
    "pycharm": {
     "name": "#%%\n"
    }
   }
  },
  {
   "cell_type": "markdown",
   "source": [
    "# Data clean up for any symbols"
   ],
   "metadata": {
    "collapsed": false,
    "pycharm": {
     "name": "#%% md\n"
    }
   }
  },
  {
   "cell_type": "markdown",
   "source": [
    "With the data right now we can see possible dishes that the person would like and dislike.\n",
    "But we stil have a lot of undefined prefference for this we can use simillarity vectors K\n",
    "to search for similarities"
   ],
   "metadata": {
    "collapsed": false,
    "pycharm": {
     "name": "#%% md\n"
    }
   }
  },
  {
   "cell_type": "code",
   "execution_count": 180,
   "outputs": [
    {
     "name": "stderr",
     "output_type": "stream",
     "text": [
      "C:\\Users\\evald\\AppData\\Local\\Temp\\ipykernel_21980\\983604293.py:3: FutureWarning: The default value of regex will change from True to False in a future version.\n",
      "  recipesLikesDislikes['ingredients'] = recipesLikesDislikes['ingredients'].str.replace('(\\[|\\])', '')\n",
      "C:\\Users\\evald\\AppData\\Local\\Temp\\ipykernel_21980\\983604293.py:4: FutureWarning: The default value of regex will change from True to False in a future version.\n",
      "  recipesLikesDislikes['ingredients'] = recipesLikesDislikes['ingredients'].str.replace('(\\')', '')\n",
      "C:\\Users\\evald\\AppData\\Local\\Temp\\ipykernel_21980\\983604293.py:5: FutureWarning: The default value of regex will change from True to False in a future version.\n",
      "  recipesLikesDislikes['steps'] = recipesLikesDislikes['steps'].str.replace('(\\[|\\])', '')\n",
      "C:\\Users\\evald\\AppData\\Local\\Temp\\ipykernel_21980\\983604293.py:6: FutureWarning: The default value of regex will change from True to False in a future version.\n",
      "  recipesLikesDislikes['steps'] = recipesLikesDislikes['steps'].str.replace('(\\')', '')\n"
     ]
    }
   ],
   "source": [
    "# recipesLikesDislikes.nunique()\n",
    "ingredient_df['ingredient_name'] = ingredient_df['ingredient_name'].str.replace('\\'s', '')\n",
    "recipesLikesDislikes['ingredients'] = recipesLikesDislikes['ingredients'].str.replace('(\\[|\\])', '')\n",
    "recipesLikesDislikes['ingredients'] = recipesLikesDislikes['ingredients'].str.replace('(\\')', '')\n",
    "recipesLikesDislikes['steps'] = recipesLikesDislikes['steps'].str.replace('(\\[|\\])', '')\n",
    "recipesLikesDislikes['steps'] = recipesLikesDislikes['steps'].str.replace('(\\')', '')\n",
    "\n"
   ],
   "metadata": {
    "collapsed": false,
    "pycharm": {
     "name": "#%%\n"
    }
   }
  },
  {
   "cell_type": "code",
   "execution_count": 181,
   "outputs": [
    {
     "data": {
      "text/plain": "                                         name      id  minutes  \\\n0          aromatic basmati rice  rice cooker  424415       61   \n1                       pumpkin pie a la easy  146223       55   \n2            cheesy tomato soup with potatoes  312329       25   \n3                                  mini tacos   74301       15   \n4                    rosemary s hanky panky s   76272       20   \n...                                       ...     ...      ...   \n178260              sugar free snickerdoodles  323143       23   \n178261               sausage   pancake strata  149114       70   \n178262                     baked beef patties   34200       55   \n178263  good and garlicky sweet and sour pork   30618       40   \n178264                      molasses crinkles  263840       37   \n\n        contributor_id   submitted  \\\n0               496803  2010-05-10   \n1               229619  2005-11-25   \n2               621626  2008-07-07   \n3                60989  2003-10-29   \n4                93444  2003-11-12   \n...                ...         ...   \n178260           57042  2008-09-04   \n178261          191220  2005-12-22   \n178262           37779  2002-07-15   \n178263           31499  2002-06-10   \n178264           68526  2007-11-07   \n\n                                                     tags  \\\n0       ['weeknight', 'time-to-make', 'course', 'main-...   \n1       ['60-minutes-or-less', 'time-to-make', 'course...   \n2       ['30-minutes-or-less', 'time-to-make', 'course...   \n3       ['15-minutes-or-less', 'time-to-make', 'course...   \n4       ['30-minutes-or-less', 'time-to-make', 'course...   \n...                                                   ...   \n178260  ['30-minutes-or-less', 'time-to-make', 'course...   \n178261  ['time-to-make', 'course', 'main-ingredient', ...   \n178262  ['60-minutes-or-less', 'time-to-make', 'course...   \n178263  ['60-minutes-or-less', 'time-to-make', 'main-i...   \n178264  ['60-minutes-or-less', 'time-to-make', 'course...   \n\n                                         nutrition  n_steps  \\\n0           [228.2, 2.0, 2.0, 8.0, 9.0, 1.0, 15.0]        6   \n1       [249.4, 16.0, 92.0, 8.0, 11.0, 27.0, 11.0]       10   \n2       [351.3, 34.0, 15.0, 50.0, 25.0, 70.0, 8.0]        6   \n3           [79.7, 5.0, 2.0, 11.0, 11.0, 7.0, 2.0]        8   \n4        [240.7, 29.0, 9.0, 28.0, 27.0, 42.0, 0.0]        5   \n...                                            ...      ...   \n178260   [304.1, 30.0, 0.0, 11.0, 10.0, 60.0, 8.0]        6   \n178261   [235.9, 26.0, 3.0, 19.0, 35.0, 37.0, 0.0]       14   \n178262  [577.5, 51.0, 26.0, 38.0, 84.0, 83.0, 8.0]       15   \n178263   [240.1, 5.0, 96.0, 12.0, 41.0, 5.0, 10.0]       13   \n178264       [98.1, 6.0, 28.0, 3.0, 1.0, 5.0, 4.0]       12   \n\n                                                    steps  \\\n0       rinse the rice in a fine strainer , then drain...   \n1       preheat oven to 350, combine flour , oats , br...   \n2       pour the broth & water into a large pot, add t...   \n3       cook hamburger until browned, drain the fat an...   \n4       fry ground beef and sausage until browned, dra...   \n...                                                   ...   \n178260  preheat over to 400, mix together butter and s...   \n178261  preheat oven to 350, coat a 11 x 7 baking pan ...   \n178262  in a large bowl , combine 1 / 2 t, dried thyme...   \n178263  for the sauce , combine all the sauce ingredie...   \n178264  preheat oven to 375, cream shortening, add sug...   \n\n                                              description  \\\n0       from the ultimate rice cooker cookbook.  the a...   \n1       this is a pampered chef recipe for their stone...   \n2       after modifying another recipe i came up with ...   \n3       these can be a easy appetizer or a light dinne...   \n4       my girlfriend rosemary gave me this wonderfull...   \n...                                                   ...   \n178260  i have not tried this recipe. i got this recip...   \n178261  my sister gave me this recipe just yesterday. ...   \n178262                    taste of home; family favorite.   \n178263  the flavors of this dish mix really well toget...   \n178264  great anytime, but especially fun to include i...   \n\n                                              ingredients  n_ingredients  \\\n0       basmati rice, water, salt, cinnamon stick, gre...              5   \n1       flour, oats, brown sugar, pecans, butter, eggs...             12   \n2       chicken broth, water, salt, black pepper, onio...             15   \n3       wonton wrappers, hamburger, taco seasoning, sa...              8   \n4       ground beef, ground sausage, velveeta cheese, ...              4   \n...                                                   ...            ...   \n178260  butter, splenda granular, eggs, flour, cream o...              7   \n178261  eggs, milk, cheddar cheese, salt, frozen panca...              7   \n178262  dried thyme, water, garlic salt, dried oregano...             14   \n178263  pork tenderloin, fresh garlic, pineapple chunk...             12   \n178264  shortening, brown sugar, molasses, flour, baki...              9   \n\n        recipe_id  average_rating  votes  \\\n0          424415        4.833333      6   \n1          146223        5.000000      4   \n2          312329        4.000000      1   \n3           74301        4.766129    124   \n4           76272        5.000000      3   \n...           ...             ...    ...   \n178260     323143        2.000000      4   \n178261     149114        4.333333      3   \n178262      34200        4.500000      2   \n178263      30618        4.612903     31   \n178264     263840        5.000000      1   \n\n                                           ingredient_ids  like  \n0                           [389, 7655, 6270, 1527, 3406]     0  \n1       [2683, 4969, 800, 5298, 840, 2499, 6632, 7022,...     0  \n2       [1257, 7655, 6270, 590, 5024, 1119, 4883, 6696...     1  \n3        [7940, 3609, 7060, 6265, 1170, 6654, 5003, 3561]     1  \n4                                 [3484, 6324, 7594, 243]     1  \n...                                                   ...   ...  \n178260            [840, 208, 2499, 2683, 1925, 335, 1511]     0  \n178261               [2499, 4717, 1168, 6270, 6324, 7040]     1  \n178262  [2378, 7655, 3219, 2320, 5168, 5319, 4189, 268...     1  \n178263  [5627, 2807, 5412, 3399, 7979, 1093, 1257, 780...     1  \n178264  [6473, 800, 4807, 2683, 335, 1563, 1511, 3248,...     0  \n\n[178265 rows x 17 columns]",
      "text/html": "<div>\n<style scoped>\n    .dataframe tbody tr th:only-of-type {\n        vertical-align: middle;\n    }\n\n    .dataframe tbody tr th {\n        vertical-align: top;\n    }\n\n    .dataframe thead th {\n        text-align: right;\n    }\n</style>\n<table border=\"1\" class=\"dataframe\">\n  <thead>\n    <tr style=\"text-align: right;\">\n      <th></th>\n      <th>name</th>\n      <th>id</th>\n      <th>minutes</th>\n      <th>contributor_id</th>\n      <th>submitted</th>\n      <th>tags</th>\n      <th>nutrition</th>\n      <th>n_steps</th>\n      <th>steps</th>\n      <th>description</th>\n      <th>ingredients</th>\n      <th>n_ingredients</th>\n      <th>recipe_id</th>\n      <th>average_rating</th>\n      <th>votes</th>\n      <th>ingredient_ids</th>\n      <th>like</th>\n    </tr>\n  </thead>\n  <tbody>\n    <tr>\n      <th>0</th>\n      <td>aromatic basmati rice  rice cooker</td>\n      <td>424415</td>\n      <td>61</td>\n      <td>496803</td>\n      <td>2010-05-10</td>\n      <td>['weeknight', 'time-to-make', 'course', 'main-...</td>\n      <td>[228.2, 2.0, 2.0, 8.0, 9.0, 1.0, 15.0]</td>\n      <td>6</td>\n      <td>rinse the rice in a fine strainer , then drain...</td>\n      <td>from the ultimate rice cooker cookbook.  the a...</td>\n      <td>basmati rice, water, salt, cinnamon stick, gre...</td>\n      <td>5</td>\n      <td>424415</td>\n      <td>4.833333</td>\n      <td>6</td>\n      <td>[389, 7655, 6270, 1527, 3406]</td>\n      <td>0</td>\n    </tr>\n    <tr>\n      <th>1</th>\n      <td>pumpkin pie a la easy</td>\n      <td>146223</td>\n      <td>55</td>\n      <td>229619</td>\n      <td>2005-11-25</td>\n      <td>['60-minutes-or-less', 'time-to-make', 'course...</td>\n      <td>[249.4, 16.0, 92.0, 8.0, 11.0, 27.0, 11.0]</td>\n      <td>10</td>\n      <td>preheat oven to 350, combine flour , oats , br...</td>\n      <td>this is a pampered chef recipe for their stone...</td>\n      <td>flour, oats, brown sugar, pecans, butter, eggs...</td>\n      <td>12</td>\n      <td>146223</td>\n      <td>5.000000</td>\n      <td>4</td>\n      <td>[2683, 4969, 800, 5298, 840, 2499, 6632, 7022,...</td>\n      <td>0</td>\n    </tr>\n    <tr>\n      <th>2</th>\n      <td>cheesy tomato soup with potatoes</td>\n      <td>312329</td>\n      <td>25</td>\n      <td>621626</td>\n      <td>2008-07-07</td>\n      <td>['30-minutes-or-less', 'time-to-make', 'course...</td>\n      <td>[351.3, 34.0, 15.0, 50.0, 25.0, 70.0, 8.0]</td>\n      <td>6</td>\n      <td>pour the broth &amp; water into a large pot, add t...</td>\n      <td>after modifying another recipe i came up with ...</td>\n      <td>chicken broth, water, salt, black pepper, onio...</td>\n      <td>15</td>\n      <td>312329</td>\n      <td>4.000000</td>\n      <td>1</td>\n      <td>[1257, 7655, 6270, 590, 5024, 1119, 4883, 6696...</td>\n      <td>1</td>\n    </tr>\n    <tr>\n      <th>3</th>\n      <td>mini tacos</td>\n      <td>74301</td>\n      <td>15</td>\n      <td>60989</td>\n      <td>2003-10-29</td>\n      <td>['15-minutes-or-less', 'time-to-make', 'course...</td>\n      <td>[79.7, 5.0, 2.0, 11.0, 11.0, 7.0, 2.0]</td>\n      <td>8</td>\n      <td>cook hamburger until browned, drain the fat an...</td>\n      <td>these can be a easy appetizer or a light dinne...</td>\n      <td>wonton wrappers, hamburger, taco seasoning, sa...</td>\n      <td>8</td>\n      <td>74301</td>\n      <td>4.766129</td>\n      <td>124</td>\n      <td>[7940, 3609, 7060, 6265, 1170, 6654, 5003, 3561]</td>\n      <td>1</td>\n    </tr>\n    <tr>\n      <th>4</th>\n      <td>rosemary s hanky panky s</td>\n      <td>76272</td>\n      <td>20</td>\n      <td>93444</td>\n      <td>2003-11-12</td>\n      <td>['30-minutes-or-less', 'time-to-make', 'course...</td>\n      <td>[240.7, 29.0, 9.0, 28.0, 27.0, 42.0, 0.0]</td>\n      <td>5</td>\n      <td>fry ground beef and sausage until browned, dra...</td>\n      <td>my girlfriend rosemary gave me this wonderfull...</td>\n      <td>ground beef, ground sausage, velveeta cheese, ...</td>\n      <td>4</td>\n      <td>76272</td>\n      <td>5.000000</td>\n      <td>3</td>\n      <td>[3484, 6324, 7594, 243]</td>\n      <td>1</td>\n    </tr>\n    <tr>\n      <th>...</th>\n      <td>...</td>\n      <td>...</td>\n      <td>...</td>\n      <td>...</td>\n      <td>...</td>\n      <td>...</td>\n      <td>...</td>\n      <td>...</td>\n      <td>...</td>\n      <td>...</td>\n      <td>...</td>\n      <td>...</td>\n      <td>...</td>\n      <td>...</td>\n      <td>...</td>\n      <td>...</td>\n      <td>...</td>\n    </tr>\n    <tr>\n      <th>178260</th>\n      <td>sugar free snickerdoodles</td>\n      <td>323143</td>\n      <td>23</td>\n      <td>57042</td>\n      <td>2008-09-04</td>\n      <td>['30-minutes-or-less', 'time-to-make', 'course...</td>\n      <td>[304.1, 30.0, 0.0, 11.0, 10.0, 60.0, 8.0]</td>\n      <td>6</td>\n      <td>preheat over to 400, mix together butter and s...</td>\n      <td>i have not tried this recipe. i got this recip...</td>\n      <td>butter, splenda granular, eggs, flour, cream o...</td>\n      <td>7</td>\n      <td>323143</td>\n      <td>2.000000</td>\n      <td>4</td>\n      <td>[840, 208, 2499, 2683, 1925, 335, 1511]</td>\n      <td>0</td>\n    </tr>\n    <tr>\n      <th>178261</th>\n      <td>sausage   pancake strata</td>\n      <td>149114</td>\n      <td>70</td>\n      <td>191220</td>\n      <td>2005-12-22</td>\n      <td>['time-to-make', 'course', 'main-ingredient', ...</td>\n      <td>[235.9, 26.0, 3.0, 19.0, 35.0, 37.0, 0.0]</td>\n      <td>14</td>\n      <td>preheat oven to 350, coat a 11 x 7 baking pan ...</td>\n      <td>my sister gave me this recipe just yesterday. ...</td>\n      <td>eggs, milk, cheddar cheese, salt, frozen panca...</td>\n      <td>7</td>\n      <td>149114</td>\n      <td>4.333333</td>\n      <td>3</td>\n      <td>[2499, 4717, 1168, 6270, 6324, 7040]</td>\n      <td>1</td>\n    </tr>\n    <tr>\n      <th>178262</th>\n      <td>baked beef patties</td>\n      <td>34200</td>\n      <td>55</td>\n      <td>37779</td>\n      <td>2002-07-15</td>\n      <td>['60-minutes-or-less', 'time-to-make', 'course...</td>\n      <td>[577.5, 51.0, 26.0, 38.0, 84.0, 83.0, 8.0]</td>\n      <td>15</td>\n      <td>in a large bowl , combine 1 / 2 t, dried thyme...</td>\n      <td>taste of home; family favorite.</td>\n      <td>dried thyme, water, garlic salt, dried oregano...</td>\n      <td>14</td>\n      <td>34200</td>\n      <td>4.500000</td>\n      <td>2</td>\n      <td>[2378, 7655, 3219, 2320, 5168, 5319, 4189, 268...</td>\n      <td>1</td>\n    </tr>\n    <tr>\n      <th>178263</th>\n      <td>good and garlicky sweet and sour pork</td>\n      <td>30618</td>\n      <td>40</td>\n      <td>31499</td>\n      <td>2002-06-10</td>\n      <td>['60-minutes-or-less', 'time-to-make', 'main-i...</td>\n      <td>[240.1, 5.0, 96.0, 12.0, 41.0, 5.0, 10.0]</td>\n      <td>13</td>\n      <td>for the sauce , combine all the sauce ingredie...</td>\n      <td>the flavors of this dish mix really well toget...</td>\n      <td>pork tenderloin, fresh garlic, pineapple chunk...</td>\n      <td>12</td>\n      <td>30618</td>\n      <td>4.612903</td>\n      <td>31</td>\n      <td>[5627, 2807, 5412, 3399, 7979, 1093, 1257, 780...</td>\n      <td>1</td>\n    </tr>\n    <tr>\n      <th>178264</th>\n      <td>molasses crinkles</td>\n      <td>263840</td>\n      <td>37</td>\n      <td>68526</td>\n      <td>2007-11-07</td>\n      <td>['60-minutes-or-less', 'time-to-make', 'course...</td>\n      <td>[98.1, 6.0, 28.0, 3.0, 1.0, 5.0, 4.0]</td>\n      <td>12</td>\n      <td>preheat oven to 375, cream shortening, add sug...</td>\n      <td>great anytime, but especially fun to include i...</td>\n      <td>shortening, brown sugar, molasses, flour, baki...</td>\n      <td>9</td>\n      <td>263840</td>\n      <td>5.000000</td>\n      <td>1</td>\n      <td>[6473, 800, 4807, 2683, 335, 1563, 1511, 3248,...</td>\n      <td>0</td>\n    </tr>\n  </tbody>\n</table>\n<p>178265 rows × 17 columns</p>\n</div>"
     },
     "execution_count": 181,
     "metadata": {},
     "output_type": "execute_result"
    }
   ],
   "source": [
    "recipesLikesDislikes"
   ],
   "metadata": {
    "collapsed": false,
    "pycharm": {
     "name": "#%%\n"
    }
   }
  },
  {
   "cell_type": "code",
   "execution_count": 182,
   "outputs": [],
   "source": [
    "from numpy import asarray\n",
    "from sklearn.preprocessing import StandardScaler\n",
    "#\n",
    "# newArr = np.array(recipesLikesDislikes.ingredients)\n",
    "# # newArrs = np.split(newArr,[1,3])\n",
    "# newArrs = pd.Series(newArr)\n",
    "# newArrs = newArrs.str.replace('(\\[|\\])', '')\n",
    "# # newArrs = newArrs.str.replace('(())', '')\n",
    "# newArrs = newArrs.str.replace('(\\')', '')\n",
    "#\n",
    "# def doSplit():\n",
    "#     temp = []\n",
    "#     for i in newArrs:\n",
    "#         for u in str(i).split(','):\n",
    "#             temp.append(u)\n",
    "#     temp = pd.DataFrame(temp)\n",
    "#     return temp\n",
    "# individualIngredients = doSplit()\n",
    "# individualIngredients.head(10)\n",
    "# tempScaling = recipesLikesDislikes.average_rating\n",
    "# tempScaling.average_rating.array.reshape(-1,1)\n",
    "#\n",
    "# scaler = StandardScaler()\n",
    "# scaled = scaler.fit_transform(tempScaling.average_rating)\n"
   ],
   "metadata": {
    "collapsed": false,
    "pycharm": {
     "name": "#%%\n"
    }
   }
  },
  {
   "cell_type": "code",
   "execution_count": 182,
   "outputs": [],
   "source": [],
   "metadata": {
    "collapsed": false,
    "pycharm": {
     "name": "#%%\n"
    }
   }
  },
  {
   "cell_type": "code",
   "execution_count": 183,
   "outputs": [],
   "source": [
    "# map_dict = dict(zip(ingredient_df.ingredient_id,ingredient_df.ingredient_name))\n",
    "# recipesLikesDislikes['ingredients_encoded'] = 0\n",
    "# recipesLikesDislikes['ingredients_encoded'] = recipesLikesDislikes['ingredients']\n",
    "# recipesLikesDislikes['ingredients_encoded'] = recipesLikesDislikes['ingredients_encoded'].explode().map(map_dict).groupby(level=-1).agg(list)"
   ],
   "metadata": {
    "collapsed": false,
    "pycharm": {
     "name": "#%%\n"
    }
   }
  },
  {
   "cell_type": "code",
   "execution_count": 183,
   "outputs": [],
   "source": [],
   "metadata": {
    "collapsed": false,
    "pycharm": {
     "name": "#%%\n"
    }
   }
  },
  {
   "cell_type": "code",
   "execution_count": 184,
   "outputs": [
    {
     "data": {
      "text/plain": "                                         name      id  minutes  \\\n0          aromatic basmati rice  rice cooker  424415       61   \n1                       pumpkin pie a la easy  146223       55   \n2            cheesy tomato soup with potatoes  312329       25   \n3                                  mini tacos   74301       15   \n4                    rosemary s hanky panky s   76272       20   \n...                                       ...     ...      ...   \n178260              sugar free snickerdoodles  323143       23   \n178261               sausage   pancake strata  149114       70   \n178262                     baked beef patties   34200       55   \n178263  good and garlicky sweet and sour pork   30618       40   \n178264                      molasses crinkles  263840       37   \n\n        contributor_id   submitted  \\\n0               496803  2010-05-10   \n1               229619  2005-11-25   \n2               621626  2008-07-07   \n3                60989  2003-10-29   \n4                93444  2003-11-12   \n...                ...         ...   \n178260           57042  2008-09-04   \n178261          191220  2005-12-22   \n178262           37779  2002-07-15   \n178263           31499  2002-06-10   \n178264           68526  2007-11-07   \n\n                                                     tags  \\\n0       ['weeknight', 'time-to-make', 'course', 'main-...   \n1       ['60-minutes-or-less', 'time-to-make', 'course...   \n2       ['30-minutes-or-less', 'time-to-make', 'course...   \n3       ['15-minutes-or-less', 'time-to-make', 'course...   \n4       ['30-minutes-or-less', 'time-to-make', 'course...   \n...                                                   ...   \n178260  ['30-minutes-or-less', 'time-to-make', 'course...   \n178261  ['time-to-make', 'course', 'main-ingredient', ...   \n178262  ['60-minutes-or-less', 'time-to-make', 'course...   \n178263  ['60-minutes-or-less', 'time-to-make', 'main-i...   \n178264  ['60-minutes-or-less', 'time-to-make', 'course...   \n\n                                         nutrition  n_steps  \\\n0           [228.2, 2.0, 2.0, 8.0, 9.0, 1.0, 15.0]        6   \n1       [249.4, 16.0, 92.0, 8.0, 11.0, 27.0, 11.0]       10   \n2       [351.3, 34.0, 15.0, 50.0, 25.0, 70.0, 8.0]        6   \n3           [79.7, 5.0, 2.0, 11.0, 11.0, 7.0, 2.0]        8   \n4        [240.7, 29.0, 9.0, 28.0, 27.0, 42.0, 0.0]        5   \n...                                            ...      ...   \n178260   [304.1, 30.0, 0.0, 11.0, 10.0, 60.0, 8.0]        6   \n178261   [235.9, 26.0, 3.0, 19.0, 35.0, 37.0, 0.0]       14   \n178262  [577.5, 51.0, 26.0, 38.0, 84.0, 83.0, 8.0]       15   \n178263   [240.1, 5.0, 96.0, 12.0, 41.0, 5.0, 10.0]       13   \n178264       [98.1, 6.0, 28.0, 3.0, 1.0, 5.0, 4.0]       12   \n\n                                                    steps  \\\n0       rinse the rice in a fine strainer , then drain...   \n1       preheat oven to 350, combine flour , oats , br...   \n2       pour the broth & water into a large pot, add t...   \n3       cook hamburger until browned, drain the fat an...   \n4       fry ground beef and sausage until browned, dra...   \n...                                                   ...   \n178260  preheat over to 400, mix together butter and s...   \n178261  preheat oven to 350, coat a 11 x 7 baking pan ...   \n178262  in a large bowl , combine 1 / 2 t, dried thyme...   \n178263  for the sauce , combine all the sauce ingredie...   \n178264  preheat oven to 375, cream shortening, add sug...   \n\n                                              description  \\\n0       from the ultimate rice cooker cookbook.  the a...   \n1       this is a pampered chef recipe for their stone...   \n2       after modifying another recipe i came up with ...   \n3       these can be a easy appetizer or a light dinne...   \n4       my girlfriend rosemary gave me this wonderfull...   \n...                                                   ...   \n178260  i have not tried this recipe. i got this recip...   \n178261  my sister gave me this recipe just yesterday. ...   \n178262                    taste of home; family favorite.   \n178263  the flavors of this dish mix really well toget...   \n178264  great anytime, but especially fun to include i...   \n\n                                              ingredients  n_ingredients  \\\n0       basmati rice, water, salt, cinnamon stick, gre...              5   \n1       flour, oats, brown sugar, pecans, butter, eggs...             12   \n2       chicken broth, water, salt, black pepper, onio...             15   \n3       wonton wrappers, hamburger, taco seasoning, sa...              8   \n4       ground beef, ground sausage, velveeta cheese, ...              4   \n...                                                   ...            ...   \n178260  butter, splenda granular, eggs, flour, cream o...              7   \n178261  eggs, milk, cheddar cheese, salt, frozen panca...              7   \n178262  dried thyme, water, garlic salt, dried oregano...             14   \n178263  pork tenderloin, fresh garlic, pineapple chunk...             12   \n178264  shortening, brown sugar, molasses, flour, baki...              9   \n\n        recipe_id  average_rating  votes  \\\n0          424415        4.833333      6   \n1          146223        5.000000      4   \n2          312329        4.000000      1   \n3           74301        4.766129    124   \n4           76272        5.000000      3   \n...           ...             ...    ...   \n178260     323143        2.000000      4   \n178261     149114        4.333333      3   \n178262      34200        4.500000      2   \n178263      30618        4.612903     31   \n178264     263840        5.000000      1   \n\n                                           ingredient_ids  like  \n0                           [389, 7655, 6270, 1527, 3406]     0  \n1       [2683, 4969, 800, 5298, 840, 2499, 6632, 7022,...     0  \n2       [1257, 7655, 6270, 590, 5024, 1119, 4883, 6696...     1  \n3        [7940, 3609, 7060, 6265, 1170, 6654, 5003, 3561]     1  \n4                                 [3484, 6324, 7594, 243]     1  \n...                                                   ...   ...  \n178260            [840, 208, 2499, 2683, 1925, 335, 1511]     0  \n178261               [2499, 4717, 1168, 6270, 6324, 7040]     1  \n178262  [2378, 7655, 3219, 2320, 5168, 5319, 4189, 268...     1  \n178263  [5627, 2807, 5412, 3399, 7979, 1093, 1257, 780...     1  \n178264  [6473, 800, 4807, 2683, 335, 1563, 1511, 3248,...     0  \n\n[178265 rows x 17 columns]",
      "text/html": "<div>\n<style scoped>\n    .dataframe tbody tr th:only-of-type {\n        vertical-align: middle;\n    }\n\n    .dataframe tbody tr th {\n        vertical-align: top;\n    }\n\n    .dataframe thead th {\n        text-align: right;\n    }\n</style>\n<table border=\"1\" class=\"dataframe\">\n  <thead>\n    <tr style=\"text-align: right;\">\n      <th></th>\n      <th>name</th>\n      <th>id</th>\n      <th>minutes</th>\n      <th>contributor_id</th>\n      <th>submitted</th>\n      <th>tags</th>\n      <th>nutrition</th>\n      <th>n_steps</th>\n      <th>steps</th>\n      <th>description</th>\n      <th>ingredients</th>\n      <th>n_ingredients</th>\n      <th>recipe_id</th>\n      <th>average_rating</th>\n      <th>votes</th>\n      <th>ingredient_ids</th>\n      <th>like</th>\n    </tr>\n  </thead>\n  <tbody>\n    <tr>\n      <th>0</th>\n      <td>aromatic basmati rice  rice cooker</td>\n      <td>424415</td>\n      <td>61</td>\n      <td>496803</td>\n      <td>2010-05-10</td>\n      <td>['weeknight', 'time-to-make', 'course', 'main-...</td>\n      <td>[228.2, 2.0, 2.0, 8.0, 9.0, 1.0, 15.0]</td>\n      <td>6</td>\n      <td>rinse the rice in a fine strainer , then drain...</td>\n      <td>from the ultimate rice cooker cookbook.  the a...</td>\n      <td>basmati rice, water, salt, cinnamon stick, gre...</td>\n      <td>5</td>\n      <td>424415</td>\n      <td>4.833333</td>\n      <td>6</td>\n      <td>[389, 7655, 6270, 1527, 3406]</td>\n      <td>0</td>\n    </tr>\n    <tr>\n      <th>1</th>\n      <td>pumpkin pie a la easy</td>\n      <td>146223</td>\n      <td>55</td>\n      <td>229619</td>\n      <td>2005-11-25</td>\n      <td>['60-minutes-or-less', 'time-to-make', 'course...</td>\n      <td>[249.4, 16.0, 92.0, 8.0, 11.0, 27.0, 11.0]</td>\n      <td>10</td>\n      <td>preheat oven to 350, combine flour , oats , br...</td>\n      <td>this is a pampered chef recipe for their stone...</td>\n      <td>flour, oats, brown sugar, pecans, butter, eggs...</td>\n      <td>12</td>\n      <td>146223</td>\n      <td>5.000000</td>\n      <td>4</td>\n      <td>[2683, 4969, 800, 5298, 840, 2499, 6632, 7022,...</td>\n      <td>0</td>\n    </tr>\n    <tr>\n      <th>2</th>\n      <td>cheesy tomato soup with potatoes</td>\n      <td>312329</td>\n      <td>25</td>\n      <td>621626</td>\n      <td>2008-07-07</td>\n      <td>['30-minutes-or-less', 'time-to-make', 'course...</td>\n      <td>[351.3, 34.0, 15.0, 50.0, 25.0, 70.0, 8.0]</td>\n      <td>6</td>\n      <td>pour the broth &amp; water into a large pot, add t...</td>\n      <td>after modifying another recipe i came up with ...</td>\n      <td>chicken broth, water, salt, black pepper, onio...</td>\n      <td>15</td>\n      <td>312329</td>\n      <td>4.000000</td>\n      <td>1</td>\n      <td>[1257, 7655, 6270, 590, 5024, 1119, 4883, 6696...</td>\n      <td>1</td>\n    </tr>\n    <tr>\n      <th>3</th>\n      <td>mini tacos</td>\n      <td>74301</td>\n      <td>15</td>\n      <td>60989</td>\n      <td>2003-10-29</td>\n      <td>['15-minutes-or-less', 'time-to-make', 'course...</td>\n      <td>[79.7, 5.0, 2.0, 11.0, 11.0, 7.0, 2.0]</td>\n      <td>8</td>\n      <td>cook hamburger until browned, drain the fat an...</td>\n      <td>these can be a easy appetizer or a light dinne...</td>\n      <td>wonton wrappers, hamburger, taco seasoning, sa...</td>\n      <td>8</td>\n      <td>74301</td>\n      <td>4.766129</td>\n      <td>124</td>\n      <td>[7940, 3609, 7060, 6265, 1170, 6654, 5003, 3561]</td>\n      <td>1</td>\n    </tr>\n    <tr>\n      <th>4</th>\n      <td>rosemary s hanky panky s</td>\n      <td>76272</td>\n      <td>20</td>\n      <td>93444</td>\n      <td>2003-11-12</td>\n      <td>['30-minutes-or-less', 'time-to-make', 'course...</td>\n      <td>[240.7, 29.0, 9.0, 28.0, 27.0, 42.0, 0.0]</td>\n      <td>5</td>\n      <td>fry ground beef and sausage until browned, dra...</td>\n      <td>my girlfriend rosemary gave me this wonderfull...</td>\n      <td>ground beef, ground sausage, velveeta cheese, ...</td>\n      <td>4</td>\n      <td>76272</td>\n      <td>5.000000</td>\n      <td>3</td>\n      <td>[3484, 6324, 7594, 243]</td>\n      <td>1</td>\n    </tr>\n    <tr>\n      <th>...</th>\n      <td>...</td>\n      <td>...</td>\n      <td>...</td>\n      <td>...</td>\n      <td>...</td>\n      <td>...</td>\n      <td>...</td>\n      <td>...</td>\n      <td>...</td>\n      <td>...</td>\n      <td>...</td>\n      <td>...</td>\n      <td>...</td>\n      <td>...</td>\n      <td>...</td>\n      <td>...</td>\n      <td>...</td>\n    </tr>\n    <tr>\n      <th>178260</th>\n      <td>sugar free snickerdoodles</td>\n      <td>323143</td>\n      <td>23</td>\n      <td>57042</td>\n      <td>2008-09-04</td>\n      <td>['30-minutes-or-less', 'time-to-make', 'course...</td>\n      <td>[304.1, 30.0, 0.0, 11.0, 10.0, 60.0, 8.0]</td>\n      <td>6</td>\n      <td>preheat over to 400, mix together butter and s...</td>\n      <td>i have not tried this recipe. i got this recip...</td>\n      <td>butter, splenda granular, eggs, flour, cream o...</td>\n      <td>7</td>\n      <td>323143</td>\n      <td>2.000000</td>\n      <td>4</td>\n      <td>[840, 208, 2499, 2683, 1925, 335, 1511]</td>\n      <td>0</td>\n    </tr>\n    <tr>\n      <th>178261</th>\n      <td>sausage   pancake strata</td>\n      <td>149114</td>\n      <td>70</td>\n      <td>191220</td>\n      <td>2005-12-22</td>\n      <td>['time-to-make', 'course', 'main-ingredient', ...</td>\n      <td>[235.9, 26.0, 3.0, 19.0, 35.0, 37.0, 0.0]</td>\n      <td>14</td>\n      <td>preheat oven to 350, coat a 11 x 7 baking pan ...</td>\n      <td>my sister gave me this recipe just yesterday. ...</td>\n      <td>eggs, milk, cheddar cheese, salt, frozen panca...</td>\n      <td>7</td>\n      <td>149114</td>\n      <td>4.333333</td>\n      <td>3</td>\n      <td>[2499, 4717, 1168, 6270, 6324, 7040]</td>\n      <td>1</td>\n    </tr>\n    <tr>\n      <th>178262</th>\n      <td>baked beef patties</td>\n      <td>34200</td>\n      <td>55</td>\n      <td>37779</td>\n      <td>2002-07-15</td>\n      <td>['60-minutes-or-less', 'time-to-make', 'course...</td>\n      <td>[577.5, 51.0, 26.0, 38.0, 84.0, 83.0, 8.0]</td>\n      <td>15</td>\n      <td>in a large bowl , combine 1 / 2 t, dried thyme...</td>\n      <td>taste of home; family favorite.</td>\n      <td>dried thyme, water, garlic salt, dried oregano...</td>\n      <td>14</td>\n      <td>34200</td>\n      <td>4.500000</td>\n      <td>2</td>\n      <td>[2378, 7655, 3219, 2320, 5168, 5319, 4189, 268...</td>\n      <td>1</td>\n    </tr>\n    <tr>\n      <th>178263</th>\n      <td>good and garlicky sweet and sour pork</td>\n      <td>30618</td>\n      <td>40</td>\n      <td>31499</td>\n      <td>2002-06-10</td>\n      <td>['60-minutes-or-less', 'time-to-make', 'main-i...</td>\n      <td>[240.1, 5.0, 96.0, 12.0, 41.0, 5.0, 10.0]</td>\n      <td>13</td>\n      <td>for the sauce , combine all the sauce ingredie...</td>\n      <td>the flavors of this dish mix really well toget...</td>\n      <td>pork tenderloin, fresh garlic, pineapple chunk...</td>\n      <td>12</td>\n      <td>30618</td>\n      <td>4.612903</td>\n      <td>31</td>\n      <td>[5627, 2807, 5412, 3399, 7979, 1093, 1257, 780...</td>\n      <td>1</td>\n    </tr>\n    <tr>\n      <th>178264</th>\n      <td>molasses crinkles</td>\n      <td>263840</td>\n      <td>37</td>\n      <td>68526</td>\n      <td>2007-11-07</td>\n      <td>['60-minutes-or-less', 'time-to-make', 'course...</td>\n      <td>[98.1, 6.0, 28.0, 3.0, 1.0, 5.0, 4.0]</td>\n      <td>12</td>\n      <td>preheat oven to 375, cream shortening, add sug...</td>\n      <td>great anytime, but especially fun to include i...</td>\n      <td>shortening, brown sugar, molasses, flour, baki...</td>\n      <td>9</td>\n      <td>263840</td>\n      <td>5.000000</td>\n      <td>1</td>\n      <td>[6473, 800, 4807, 2683, 335, 1563, 1511, 3248,...</td>\n      <td>0</td>\n    </tr>\n  </tbody>\n</table>\n<p>178265 rows × 17 columns</p>\n</div>"
     },
     "execution_count": 184,
     "metadata": {},
     "output_type": "execute_result"
    }
   ],
   "source": [
    "recipesLikesDislikes"
   ],
   "metadata": {
    "collapsed": false,
    "pycharm": {
     "name": "#%%\n"
    }
   }
  },
  {
   "cell_type": "code",
   "execution_count": 185,
   "outputs": [],
   "source": [
    "# sentence_list = [str(text) for text in recipesLikesDislikes['like']]\n",
    "# sentence_list"
   ],
   "metadata": {
    "collapsed": false,
    "pycharm": {
     "name": "#%%\n"
    }
   }
  },
  {
   "cell_type": "markdown",
   "source": [
    "## 3. Machine Learning"
   ],
   "metadata": {
    "collapsed": false,
    "pycharm": {
     "name": "#%% md\n"
    }
   }
  },
  {
   "cell_type": "code",
   "execution_count": 186,
   "outputs": [],
   "source": [
    "TestTempArr = []\n",
    "for i in recipesLikesDislikes['ingredients'].str.split(','):\n",
    "    for u in i:\n",
    "        TestTempArr.append(i)"
   ],
   "metadata": {
    "collapsed": false,
    "pycharm": {
     "name": "#%%\n"
    }
   }
  },
  {
   "cell_type": "code",
   "execution_count": 187,
   "outputs": [
    {
     "data": {
      "text/plain": "[['basmati rice',\n  ' water',\n  ' salt',\n  ' cinnamon stick',\n  ' green cardamom pods'],\n ['basmati rice',\n  ' water',\n  ' salt',\n  ' cinnamon stick',\n  ' green cardamom pods'],\n ['basmati rice',\n  ' water',\n  ' salt',\n  ' cinnamon stick',\n  ' green cardamom pods'],\n ['basmati rice',\n  ' water',\n  ' salt',\n  ' cinnamon stick',\n  ' green cardamom pods'],\n ['basmati rice',\n  ' water',\n  ' salt',\n  ' cinnamon stick',\n  ' green cardamom pods'],\n ['flour',\n  ' oats',\n  ' brown sugar',\n  ' pecans',\n  ' butter',\n  ' eggs',\n  ' solid pack pumpkin',\n  ' sweetened condensed milk',\n  ' cinnamon',\n  ' ginger',\n  ' nutmeg',\n  ' salt'],\n ['flour',\n  ' oats',\n  ' brown sugar',\n  ' pecans',\n  ' butter',\n  ' eggs',\n  ' solid pack pumpkin',\n  ' sweetened condensed milk',\n  ' cinnamon',\n  ' ginger',\n  ' nutmeg',\n  ' salt'],\n ['flour',\n  ' oats',\n  ' brown sugar',\n  ' pecans',\n  ' butter',\n  ' eggs',\n  ' solid pack pumpkin',\n  ' sweetened condensed milk',\n  ' cinnamon',\n  ' ginger',\n  ' nutmeg',\n  ' salt'],\n ['flour',\n  ' oats',\n  ' brown sugar',\n  ' pecans',\n  ' butter',\n  ' eggs',\n  ' solid pack pumpkin',\n  ' sweetened condensed milk',\n  ' cinnamon',\n  ' ginger',\n  ' nutmeg',\n  ' salt'],\n ['flour',\n  ' oats',\n  ' brown sugar',\n  ' pecans',\n  ' butter',\n  ' eggs',\n  ' solid pack pumpkin',\n  ' sweetened condensed milk',\n  ' cinnamon',\n  ' ginger',\n  ' nutmeg',\n  ' salt'],\n ['flour',\n  ' oats',\n  ' brown sugar',\n  ' pecans',\n  ' butter',\n  ' eggs',\n  ' solid pack pumpkin',\n  ' sweetened condensed milk',\n  ' cinnamon',\n  ' ginger',\n  ' nutmeg',\n  ' salt'],\n ['flour',\n  ' oats',\n  ' brown sugar',\n  ' pecans',\n  ' butter',\n  ' eggs',\n  ' solid pack pumpkin',\n  ' sweetened condensed milk',\n  ' cinnamon',\n  ' ginger',\n  ' nutmeg',\n  ' salt'],\n ['flour',\n  ' oats',\n  ' brown sugar',\n  ' pecans',\n  ' butter',\n  ' eggs',\n  ' solid pack pumpkin',\n  ' sweetened condensed milk',\n  ' cinnamon',\n  ' ginger',\n  ' nutmeg',\n  ' salt'],\n ['flour',\n  ' oats',\n  ' brown sugar',\n  ' pecans',\n  ' butter',\n  ' eggs',\n  ' solid pack pumpkin',\n  ' sweetened condensed milk',\n  ' cinnamon',\n  ' ginger',\n  ' nutmeg',\n  ' salt'],\n ['flour',\n  ' oats',\n  ' brown sugar',\n  ' pecans',\n  ' butter',\n  ' eggs',\n  ' solid pack pumpkin',\n  ' sweetened condensed milk',\n  ' cinnamon',\n  ' ginger',\n  ' nutmeg',\n  ' salt'],\n ['flour',\n  ' oats',\n  ' brown sugar',\n  ' pecans',\n  ' butter',\n  ' eggs',\n  ' solid pack pumpkin',\n  ' sweetened condensed milk',\n  ' cinnamon',\n  ' ginger',\n  ' nutmeg',\n  ' salt'],\n ['flour',\n  ' oats',\n  ' brown sugar',\n  ' pecans',\n  ' butter',\n  ' eggs',\n  ' solid pack pumpkin',\n  ' sweetened condensed milk',\n  ' cinnamon',\n  ' ginger',\n  ' nutmeg',\n  ' salt'],\n ['chicken broth',\n  ' water',\n  ' salt',\n  ' black pepper',\n  ' onion powder',\n  ' cayenne pepper',\n  ' mustard powder',\n  ' soy sauce',\n  ' worcestershire sauce',\n  ' potatoes',\n  ' tomatoes seasoned with basil garlic & oregano',\n  ' whipping cream',\n  ' velveeta cheese',\n  ' sharp cheddar cheese',\n  ' flour'],\n ['chicken broth',\n  ' water',\n  ' salt',\n  ' black pepper',\n  ' onion powder',\n  ' cayenne pepper',\n  ' mustard powder',\n  ' soy sauce',\n  ' worcestershire sauce',\n  ' potatoes',\n  ' tomatoes seasoned with basil garlic & oregano',\n  ' whipping cream',\n  ' velveeta cheese',\n  ' sharp cheddar cheese',\n  ' flour'],\n ['chicken broth',\n  ' water',\n  ' salt',\n  ' black pepper',\n  ' onion powder',\n  ' cayenne pepper',\n  ' mustard powder',\n  ' soy sauce',\n  ' worcestershire sauce',\n  ' potatoes',\n  ' tomatoes seasoned with basil garlic & oregano',\n  ' whipping cream',\n  ' velveeta cheese',\n  ' sharp cheddar cheese',\n  ' flour'],\n ['chicken broth',\n  ' water',\n  ' salt',\n  ' black pepper',\n  ' onion powder',\n  ' cayenne pepper',\n  ' mustard powder',\n  ' soy sauce',\n  ' worcestershire sauce',\n  ' potatoes',\n  ' tomatoes seasoned with basil garlic & oregano',\n  ' whipping cream',\n  ' velveeta cheese',\n  ' sharp cheddar cheese',\n  ' flour'],\n ['chicken broth',\n  ' water',\n  ' salt',\n  ' black pepper',\n  ' onion powder',\n  ' cayenne pepper',\n  ' mustard powder',\n  ' soy sauce',\n  ' worcestershire sauce',\n  ' potatoes',\n  ' tomatoes seasoned with basil garlic & oregano',\n  ' whipping cream',\n  ' velveeta cheese',\n  ' sharp cheddar cheese',\n  ' flour'],\n ['chicken broth',\n  ' water',\n  ' salt',\n  ' black pepper',\n  ' onion powder',\n  ' cayenne pepper',\n  ' mustard powder',\n  ' soy sauce',\n  ' worcestershire sauce',\n  ' potatoes',\n  ' tomatoes seasoned with basil garlic & oregano',\n  ' whipping cream',\n  ' velveeta cheese',\n  ' sharp cheddar cheese',\n  ' flour'],\n ['chicken broth',\n  ' water',\n  ' salt',\n  ' black pepper',\n  ' onion powder',\n  ' cayenne pepper',\n  ' mustard powder',\n  ' soy sauce',\n  ' worcestershire sauce',\n  ' potatoes',\n  ' tomatoes seasoned with basil garlic & oregano',\n  ' whipping cream',\n  ' velveeta cheese',\n  ' sharp cheddar cheese',\n  ' flour'],\n ['chicken broth',\n  ' water',\n  ' salt',\n  ' black pepper',\n  ' onion powder',\n  ' cayenne pepper',\n  ' mustard powder',\n  ' soy sauce',\n  ' worcestershire sauce',\n  ' potatoes',\n  ' tomatoes seasoned with basil garlic & oregano',\n  ' whipping cream',\n  ' velveeta cheese',\n  ' sharp cheddar cheese',\n  ' flour'],\n ['chicken broth',\n  ' water',\n  ' salt',\n  ' black pepper',\n  ' onion powder',\n  ' cayenne pepper',\n  ' mustard powder',\n  ' soy sauce',\n  ' worcestershire sauce',\n  ' potatoes',\n  ' tomatoes seasoned with basil garlic & oregano',\n  ' whipping cream',\n  ' velveeta cheese',\n  ' sharp cheddar cheese',\n  ' flour'],\n ['chicken broth',\n  ' water',\n  ' salt',\n  ' black pepper',\n  ' onion powder',\n  ' cayenne pepper',\n  ' mustard powder',\n  ' soy sauce',\n  ' worcestershire sauce',\n  ' potatoes',\n  ' tomatoes seasoned with basil garlic & oregano',\n  ' whipping cream',\n  ' velveeta cheese',\n  ' sharp cheddar cheese',\n  ' flour'],\n ['chicken broth',\n  ' water',\n  ' salt',\n  ' black pepper',\n  ' onion powder',\n  ' cayenne pepper',\n  ' mustard powder',\n  ' soy sauce',\n  ' worcestershire sauce',\n  ' potatoes',\n  ' tomatoes seasoned with basil garlic & oregano',\n  ' whipping cream',\n  ' velveeta cheese',\n  ' sharp cheddar cheese',\n  ' flour'],\n ['chicken broth',\n  ' water',\n  ' salt',\n  ' black pepper',\n  ' onion powder',\n  ' cayenne pepper',\n  ' mustard powder',\n  ' soy sauce',\n  ' worcestershire sauce',\n  ' potatoes',\n  ' tomatoes seasoned with basil garlic & oregano',\n  ' whipping cream',\n  ' velveeta cheese',\n  ' sharp cheddar cheese',\n  ' flour'],\n ['chicken broth',\n  ' water',\n  ' salt',\n  ' black pepper',\n  ' onion powder',\n  ' cayenne pepper',\n  ' mustard powder',\n  ' soy sauce',\n  ' worcestershire sauce',\n  ' potatoes',\n  ' tomatoes seasoned with basil garlic & oregano',\n  ' whipping cream',\n  ' velveeta cheese',\n  ' sharp cheddar cheese',\n  ' flour'],\n ['chicken broth',\n  ' water',\n  ' salt',\n  ' black pepper',\n  ' onion powder',\n  ' cayenne pepper',\n  ' mustard powder',\n  ' soy sauce',\n  ' worcestershire sauce',\n  ' potatoes',\n  ' tomatoes seasoned with basil garlic & oregano',\n  ' whipping cream',\n  ' velveeta cheese',\n  ' sharp cheddar cheese',\n  ' flour'],\n ['chicken broth',\n  ' water',\n  ' salt',\n  ' black pepper',\n  ' onion powder',\n  ' cayenne pepper',\n  ' mustard powder',\n  ' soy sauce',\n  ' worcestershire sauce',\n  ' potatoes',\n  ' tomatoes seasoned with basil garlic & oregano',\n  ' whipping cream',\n  ' velveeta cheese',\n  ' sharp cheddar cheese',\n  ' flour'],\n ['wonton wrappers',\n  ' hamburger',\n  ' taco seasoning',\n  ' salsa',\n  ' cheese',\n  ' sour cream',\n  ' olive',\n  ' guacamole'],\n ['wonton wrappers',\n  ' hamburger',\n  ' taco seasoning',\n  ' salsa',\n  ' cheese',\n  ' sour cream',\n  ' olive',\n  ' guacamole'],\n ['wonton wrappers',\n  ' hamburger',\n  ' taco seasoning',\n  ' salsa',\n  ' cheese',\n  ' sour cream',\n  ' olive',\n  ' guacamole'],\n ['wonton wrappers',\n  ' hamburger',\n  ' taco seasoning',\n  ' salsa',\n  ' cheese',\n  ' sour cream',\n  ' olive',\n  ' guacamole'],\n ['wonton wrappers',\n  ' hamburger',\n  ' taco seasoning',\n  ' salsa',\n  ' cheese',\n  ' sour cream',\n  ' olive',\n  ' guacamole'],\n ['wonton wrappers',\n  ' hamburger',\n  ' taco seasoning',\n  ' salsa',\n  ' cheese',\n  ' sour cream',\n  ' olive',\n  ' guacamole'],\n ['wonton wrappers',\n  ' hamburger',\n  ' taco seasoning',\n  ' salsa',\n  ' cheese',\n  ' sour cream',\n  ' olive',\n  ' guacamole'],\n ['wonton wrappers',\n  ' hamburger',\n  ' taco seasoning',\n  ' salsa',\n  ' cheese',\n  ' sour cream',\n  ' olive',\n  ' guacamole'],\n ['ground beef',\n  ' ground sausage',\n  ' velveeta cheese',\n  ' miniature party rye rounds'],\n ['ground beef',\n  ' ground sausage',\n  ' velveeta cheese',\n  ' miniature party rye rounds'],\n ['ground beef',\n  ' ground sausage',\n  ' velveeta cheese',\n  ' miniature party rye rounds'],\n ['ground beef',\n  ' ground sausage',\n  ' velveeta cheese',\n  ' miniature party rye rounds'],\n ['strawberry jell-o gelatin dessert',\n  ' water',\n  ' strawberries',\n  ' sugar',\n  ' cool whip',\n  ' angel food cake',\n  ' strawberry juice',\n  ' cornstarch',\n  ' butter',\n  ' cream'],\n ['strawberry jell-o gelatin dessert',\n  ' water',\n  ' strawberries',\n  ' sugar',\n  ' cool whip',\n  ' angel food cake',\n  ' strawberry juice',\n  ' cornstarch',\n  ' butter',\n  ' cream'],\n ['strawberry jell-o gelatin dessert',\n  ' water',\n  ' strawberries',\n  ' sugar',\n  ' cool whip',\n  ' angel food cake',\n  ' strawberry juice',\n  ' cornstarch',\n  ' butter',\n  ' cream'],\n ['strawberry jell-o gelatin dessert',\n  ' water',\n  ' strawberries',\n  ' sugar',\n  ' cool whip',\n  ' angel food cake',\n  ' strawberry juice',\n  ' cornstarch',\n  ' butter',\n  ' cream'],\n ['strawberry jell-o gelatin dessert',\n  ' water',\n  ' strawberries',\n  ' sugar',\n  ' cool whip',\n  ' angel food cake',\n  ' strawberry juice',\n  ' cornstarch',\n  ' butter',\n  ' cream'],\n ['strawberry jell-o gelatin dessert',\n  ' water',\n  ' strawberries',\n  ' sugar',\n  ' cool whip',\n  ' angel food cake',\n  ' strawberry juice',\n  ' cornstarch',\n  ' butter',\n  ' cream'],\n ['strawberry jell-o gelatin dessert',\n  ' water',\n  ' strawberries',\n  ' sugar',\n  ' cool whip',\n  ' angel food cake',\n  ' strawberry juice',\n  ' cornstarch',\n  ' butter',\n  ' cream'],\n ['strawberry jell-o gelatin dessert',\n  ' water',\n  ' strawberries',\n  ' sugar',\n  ' cool whip',\n  ' angel food cake',\n  ' strawberry juice',\n  ' cornstarch',\n  ' butter',\n  ' cream'],\n ['strawberry jell-o gelatin dessert',\n  ' water',\n  ' strawberries',\n  ' sugar',\n  ' cool whip',\n  ' angel food cake',\n  ' strawberry juice',\n  ' cornstarch',\n  ' butter',\n  ' cream'],\n ['strawberry jell-o gelatin dessert',\n  ' water',\n  ' strawberries',\n  ' sugar',\n  ' cool whip',\n  ' angel food cake',\n  ' strawberry juice',\n  ' cornstarch',\n  ' butter',\n  ' cream'],\n ['boneless pork chops',\n  ' flour',\n  ' salt',\n  ' pepper',\n  ' egg',\n  ' buttermilk',\n  ' chicken in a biscuit crackers',\n  ' oil',\n  ' butter'],\n ['boneless pork chops',\n  ' flour',\n  ' salt',\n  ' pepper',\n  ' egg',\n  ' buttermilk',\n  ' chicken in a biscuit crackers',\n  ' oil',\n  ' butter'],\n ['boneless pork chops',\n  ' flour',\n  ' salt',\n  ' pepper',\n  ' egg',\n  ' buttermilk',\n  ' chicken in a biscuit crackers',\n  ' oil',\n  ' butter'],\n ['boneless pork chops',\n  ' flour',\n  ' salt',\n  ' pepper',\n  ' egg',\n  ' buttermilk',\n  ' chicken in a biscuit crackers',\n  ' oil',\n  ' butter'],\n ['boneless pork chops',\n  ' flour',\n  ' salt',\n  ' pepper',\n  ' egg',\n  ' buttermilk',\n  ' chicken in a biscuit crackers',\n  ' oil',\n  ' butter'],\n ['boneless pork chops',\n  ' flour',\n  ' salt',\n  ' pepper',\n  ' egg',\n  ' buttermilk',\n  ' chicken in a biscuit crackers',\n  ' oil',\n  ' butter'],\n ['boneless pork chops',\n  ' flour',\n  ' salt',\n  ' pepper',\n  ' egg',\n  ' buttermilk',\n  ' chicken in a biscuit crackers',\n  ' oil',\n  ' butter'],\n ['boneless pork chops',\n  ' flour',\n  ' salt',\n  ' pepper',\n  ' egg',\n  ' buttermilk',\n  ' chicken in a biscuit crackers',\n  ' oil',\n  ' butter'],\n ['boneless pork chops',\n  ' flour',\n  ' salt',\n  ' pepper',\n  ' egg',\n  ' buttermilk',\n  ' chicken in a biscuit crackers',\n  ' oil',\n  ' butter'],\n ['flour',\n  ' oats',\n  ' baking powder',\n  ' baking soda',\n  ' salt',\n  ' brown sugar',\n  ' oil',\n  ' vanilla extract',\n  ' soymilk',\n  ' chocolate chips'],\n ['flour',\n  ' oats',\n  ' baking powder',\n  ' baking soda',\n  ' salt',\n  ' brown sugar',\n  ' oil',\n  ' vanilla extract',\n  ' soymilk',\n  ' chocolate chips'],\n ['flour',\n  ' oats',\n  ' baking powder',\n  ' baking soda',\n  ' salt',\n  ' brown sugar',\n  ' oil',\n  ' vanilla extract',\n  ' soymilk',\n  ' chocolate chips'],\n ['flour',\n  ' oats',\n  ' baking powder',\n  ' baking soda',\n  ' salt',\n  ' brown sugar',\n  ' oil',\n  ' vanilla extract',\n  ' soymilk',\n  ' chocolate chips'],\n ['flour',\n  ' oats',\n  ' baking powder',\n  ' baking soda',\n  ' salt',\n  ' brown sugar',\n  ' oil',\n  ' vanilla extract',\n  ' soymilk',\n  ' chocolate chips'],\n ['flour',\n  ' oats',\n  ' baking powder',\n  ' baking soda',\n  ' salt',\n  ' brown sugar',\n  ' oil',\n  ' vanilla extract',\n  ' soymilk',\n  ' chocolate chips'],\n ['flour',\n  ' oats',\n  ' baking powder',\n  ' baking soda',\n  ' salt',\n  ' brown sugar',\n  ' oil',\n  ' vanilla extract',\n  ' soymilk',\n  ' chocolate chips'],\n ['flour',\n  ' oats',\n  ' baking powder',\n  ' baking soda',\n  ' salt',\n  ' brown sugar',\n  ' oil',\n  ' vanilla extract',\n  ' soymilk',\n  ' chocolate chips'],\n ['flour',\n  ' oats',\n  ' baking powder',\n  ' baking soda',\n  ' salt',\n  ' brown sugar',\n  ' oil',\n  ' vanilla extract',\n  ' soymilk',\n  ' chocolate chips'],\n ['flour',\n  ' oats',\n  ' baking powder',\n  ' baking soda',\n  ' salt',\n  ' brown sugar',\n  ' oil',\n  ' vanilla extract',\n  ' soymilk',\n  ' chocolate chips'],\n ['flour',\n  ' \"confectioners sugar\"',\n  ' powdered milk',\n  ' cashews',\n  ' butter',\n  ' white raisins',\n  ' sweet white wine',\n  ' cream cheese',\n  ' egg',\n  ' vanilla',\n  ' lemon juice',\n  ' sugar',\n  ' eggs'],\n ['flour',\n  ' \"confectioners sugar\"',\n  ' powdered milk',\n  ' cashews',\n  ' butter',\n  ' white raisins',\n  ' sweet white wine',\n  ' cream cheese',\n  ' egg',\n  ' vanilla',\n  ' lemon juice',\n  ' sugar',\n  ' eggs'],\n ['flour',\n  ' \"confectioners sugar\"',\n  ' powdered milk',\n  ' cashews',\n  ' butter',\n  ' white raisins',\n  ' sweet white wine',\n  ' cream cheese',\n  ' egg',\n  ' vanilla',\n  ' lemon juice',\n  ' sugar',\n  ' eggs'],\n ['flour',\n  ' \"confectioners sugar\"',\n  ' powdered milk',\n  ' cashews',\n  ' butter',\n  ' white raisins',\n  ' sweet white wine',\n  ' cream cheese',\n  ' egg',\n  ' vanilla',\n  ' lemon juice',\n  ' sugar',\n  ' eggs'],\n ['flour',\n  ' \"confectioners sugar\"',\n  ' powdered milk',\n  ' cashews',\n  ' butter',\n  ' white raisins',\n  ' sweet white wine',\n  ' cream cheese',\n  ' egg',\n  ' vanilla',\n  ' lemon juice',\n  ' sugar',\n  ' eggs'],\n ['flour',\n  ' \"confectioners sugar\"',\n  ' powdered milk',\n  ' cashews',\n  ' butter',\n  ' white raisins',\n  ' sweet white wine',\n  ' cream cheese',\n  ' egg',\n  ' vanilla',\n  ' lemon juice',\n  ' sugar',\n  ' eggs'],\n ['flour',\n  ' \"confectioners sugar\"',\n  ' powdered milk',\n  ' cashews',\n  ' butter',\n  ' white raisins',\n  ' sweet white wine',\n  ' cream cheese',\n  ' egg',\n  ' vanilla',\n  ' lemon juice',\n  ' sugar',\n  ' eggs'],\n ['flour',\n  ' \"confectioners sugar\"',\n  ' powdered milk',\n  ' cashews',\n  ' butter',\n  ' white raisins',\n  ' sweet white wine',\n  ' cream cheese',\n  ' egg',\n  ' vanilla',\n  ' lemon juice',\n  ' sugar',\n  ' eggs'],\n ['flour',\n  ' \"confectioners sugar\"',\n  ' powdered milk',\n  ' cashews',\n  ' butter',\n  ' white raisins',\n  ' sweet white wine',\n  ' cream cheese',\n  ' egg',\n  ' vanilla',\n  ' lemon juice',\n  ' sugar',\n  ' eggs'],\n ['flour',\n  ' \"confectioners sugar\"',\n  ' powdered milk',\n  ' cashews',\n  ' butter',\n  ' white raisins',\n  ' sweet white wine',\n  ' cream cheese',\n  ' egg',\n  ' vanilla',\n  ' lemon juice',\n  ' sugar',\n  ' eggs'],\n ['flour',\n  ' \"confectioners sugar\"',\n  ' powdered milk',\n  ' cashews',\n  ' butter',\n  ' white raisins',\n  ' sweet white wine',\n  ' cream cheese',\n  ' egg',\n  ' vanilla',\n  ' lemon juice',\n  ' sugar',\n  ' eggs'],\n ['flour',\n  ' \"confectioners sugar\"',\n  ' powdered milk',\n  ' cashews',\n  ' butter',\n  ' white raisins',\n  ' sweet white wine',\n  ' cream cheese',\n  ' egg',\n  ' vanilla',\n  ' lemon juice',\n  ' sugar',\n  ' eggs'],\n ['flour',\n  ' \"confectioners sugar\"',\n  ' powdered milk',\n  ' cashews',\n  ' butter',\n  ' white raisins',\n  ' sweet white wine',\n  ' cream cheese',\n  ' egg',\n  ' vanilla',\n  ' lemon juice',\n  ' sugar',\n  ' eggs'],\n ['sesame oil',\n  ' yoghurt',\n  ' fruit vinegar',\n  ' hoisin sauce',\n  ' coriander seed',\n  ' cumin',\n  ' garlic cloves',\n  ' fish sauce',\n  ' red chile'],\n ['sesame oil',\n  ' yoghurt',\n  ' fruit vinegar',\n  ' hoisin sauce',\n  ' coriander seed',\n  ' cumin',\n  ' garlic cloves',\n  ' fish sauce',\n  ' red chile'],\n ['sesame oil',\n  ' yoghurt',\n  ' fruit vinegar',\n  ' hoisin sauce',\n  ' coriander seed',\n  ' cumin',\n  ' garlic cloves',\n  ' fish sauce',\n  ' red chile'],\n ['sesame oil',\n  ' yoghurt',\n  ' fruit vinegar',\n  ' hoisin sauce',\n  ' coriander seed',\n  ' cumin',\n  ' garlic cloves',\n  ' fish sauce',\n  ' red chile'],\n ['sesame oil',\n  ' yoghurt',\n  ' fruit vinegar',\n  ' hoisin sauce',\n  ' coriander seed',\n  ' cumin',\n  ' garlic cloves',\n  ' fish sauce',\n  ' red chile'],\n ['sesame oil',\n  ' yoghurt',\n  ' fruit vinegar',\n  ' hoisin sauce',\n  ' coriander seed',\n  ' cumin',\n  ' garlic cloves',\n  ' fish sauce',\n  ' red chile'],\n ['sesame oil',\n  ' yoghurt',\n  ' fruit vinegar',\n  ' hoisin sauce',\n  ' coriander seed',\n  ' cumin',\n  ' garlic cloves',\n  ' fish sauce',\n  ' red chile'],\n ['sesame oil',\n  ' yoghurt',\n  ' fruit vinegar',\n  ' hoisin sauce',\n  ' coriander seed',\n  ' cumin',\n  ' garlic cloves',\n  ' fish sauce',\n  ' red chile'],\n ['sesame oil',\n  ' yoghurt',\n  ' fruit vinegar',\n  ' hoisin sauce',\n  ' coriander seed',\n  ' cumin',\n  ' garlic cloves',\n  ' fish sauce',\n  ' red chile'],\n ['cranberries',\n  ' shallots',\n  ' jalapeno peppers',\n  ' minced garlic cloves',\n  ' brown sugar',\n  ' sugar',\n  ' red wine vinegar',\n  ' fresh ginger',\n  ' whole mustard seeds',\n  ' orange zest',\n  ' lemon zest',\n  ' salt'],\n ['cranberries',\n  ' shallots',\n  ' jalapeno peppers',\n  ' minced garlic cloves',\n  ' brown sugar',\n  ' sugar',\n  ' red wine vinegar',\n  ' fresh ginger',\n  ' whole mustard seeds',\n  ' orange zest',\n  ' lemon zest',\n  ' salt'],\n ['cranberries',\n  ' shallots',\n  ' jalapeno peppers',\n  ' minced garlic cloves',\n  ' brown sugar',\n  ' sugar',\n  ' red wine vinegar',\n  ' fresh ginger',\n  ' whole mustard seeds',\n  ' orange zest',\n  ' lemon zest',\n  ' salt'],\n ['cranberries',\n  ' shallots',\n  ' jalapeno peppers',\n  ' minced garlic cloves',\n  ' brown sugar',\n  ' sugar',\n  ' red wine vinegar',\n  ' fresh ginger',\n  ' whole mustard seeds',\n  ' orange zest',\n  ' lemon zest',\n  ' salt'],\n ['cranberries',\n  ' shallots',\n  ' jalapeno peppers',\n  ' minced garlic cloves',\n  ' brown sugar',\n  ' sugar',\n  ' red wine vinegar',\n  ' fresh ginger',\n  ' whole mustard seeds',\n  ' orange zest',\n  ' lemon zest',\n  ' salt'],\n ['cranberries',\n  ' shallots',\n  ' jalapeno peppers',\n  ' minced garlic cloves',\n  ' brown sugar',\n  ' sugar',\n  ' red wine vinegar',\n  ' fresh ginger',\n  ' whole mustard seeds',\n  ' orange zest',\n  ' lemon zest',\n  ' salt'],\n ['cranberries',\n  ' shallots',\n  ' jalapeno peppers',\n  ' minced garlic cloves',\n  ' brown sugar',\n  ' sugar',\n  ' red wine vinegar',\n  ' fresh ginger',\n  ' whole mustard seeds',\n  ' orange zest',\n  ' lemon zest',\n  ' salt'],\n ['cranberries',\n  ' shallots',\n  ' jalapeno peppers',\n  ' minced garlic cloves',\n  ' brown sugar',\n  ' sugar',\n  ' red wine vinegar',\n  ' fresh ginger',\n  ' whole mustard seeds',\n  ' orange zest',\n  ' lemon zest',\n  ' salt'],\n ['cranberries',\n  ' shallots',\n  ' jalapeno peppers',\n  ' minced garlic cloves',\n  ' brown sugar',\n  ' sugar',\n  ' red wine vinegar',\n  ' fresh ginger',\n  ' whole mustard seeds',\n  ' orange zest',\n  ' lemon zest',\n  ' salt'],\n ['cranberries',\n  ' shallots',\n  ' jalapeno peppers',\n  ' minced garlic cloves',\n  ' brown sugar',\n  ' sugar',\n  ' red wine vinegar',\n  ' fresh ginger',\n  ' whole mustard seeds',\n  ' orange zest',\n  ' lemon zest',\n  ' salt'],\n ['cranberries',\n  ' shallots',\n  ' jalapeno peppers',\n  ' minced garlic cloves',\n  ' brown sugar',\n  ' sugar',\n  ' red wine vinegar',\n  ' fresh ginger',\n  ' whole mustard seeds',\n  ' orange zest',\n  ' lemon zest',\n  ' salt'],\n ['cranberries',\n  ' shallots',\n  ' jalapeno peppers',\n  ' minced garlic cloves',\n  ' brown sugar',\n  ' sugar',\n  ' red wine vinegar',\n  ' fresh ginger',\n  ' whole mustard seeds',\n  ' orange zest',\n  ' lemon zest',\n  ' salt'],\n ['dried lentils',\n  ' reduced-sodium fat-free chicken broth',\n  ' onion',\n  ' garlic cloves',\n  ' cider vinegar',\n  ' olive oil',\n  ' salt & freshly ground black pepper',\n  ' tomatoes'],\n ['dried lentils',\n  ' reduced-sodium fat-free chicken broth',\n  ' onion',\n  ' garlic cloves',\n  ' cider vinegar',\n  ' olive oil',\n  ' salt & freshly ground black pepper',\n  ' tomatoes'],\n ['dried lentils',\n  ' reduced-sodium fat-free chicken broth',\n  ' onion',\n  ' garlic cloves',\n  ' cider vinegar',\n  ' olive oil',\n  ' salt & freshly ground black pepper',\n  ' tomatoes'],\n ['dried lentils',\n  ' reduced-sodium fat-free chicken broth',\n  ' onion',\n  ' garlic cloves',\n  ' cider vinegar',\n  ' olive oil',\n  ' salt & freshly ground black pepper',\n  ' tomatoes'],\n ['dried lentils',\n  ' reduced-sodium fat-free chicken broth',\n  ' onion',\n  ' garlic cloves',\n  ' cider vinegar',\n  ' olive oil',\n  ' salt & freshly ground black pepper',\n  ' tomatoes'],\n ['dried lentils',\n  ' reduced-sodium fat-free chicken broth',\n  ' onion',\n  ' garlic cloves',\n  ' cider vinegar',\n  ' olive oil',\n  ' salt & freshly ground black pepper',\n  ' tomatoes'],\n ['dried lentils',\n  ' reduced-sodium fat-free chicken broth',\n  ' onion',\n  ' garlic cloves',\n  ' cider vinegar',\n  ' olive oil',\n  ' salt & freshly ground black pepper',\n  ' tomatoes'],\n ['dried lentils',\n  ' reduced-sodium fat-free chicken broth',\n  ' onion',\n  ' garlic cloves',\n  ' cider vinegar',\n  ' olive oil',\n  ' salt & freshly ground black pepper',\n  ' tomatoes'],\n ['yellow cake mix with pudding',\n  ' eggs',\n  ' milk',\n  ' orange',\n  ' juice of',\n  ' vegetable oil',\n  ' mashed sweet potato',\n  ' apple pie spice'],\n ['yellow cake mix with pudding',\n  ' eggs',\n  ' milk',\n  ' orange',\n  ' juice of',\n  ' vegetable oil',\n  ' mashed sweet potato',\n  ' apple pie spice'],\n ['yellow cake mix with pudding',\n  ' eggs',\n  ' milk',\n  ' orange',\n  ' juice of',\n  ' vegetable oil',\n  ' mashed sweet potato',\n  ' apple pie spice'],\n ['yellow cake mix with pudding',\n  ' eggs',\n  ' milk',\n  ' orange',\n  ' juice of',\n  ' vegetable oil',\n  ' mashed sweet potato',\n  ' apple pie spice'],\n ['yellow cake mix with pudding',\n  ' eggs',\n  ' milk',\n  ' orange',\n  ' juice of',\n  ' vegetable oil',\n  ' mashed sweet potato',\n  ' apple pie spice'],\n ['yellow cake mix with pudding',\n  ' eggs',\n  ' milk',\n  ' orange',\n  ' juice of',\n  ' vegetable oil',\n  ' mashed sweet potato',\n  ' apple pie spice'],\n ['yellow cake mix with pudding',\n  ' eggs',\n  ' milk',\n  ' orange',\n  ' juice of',\n  ' vegetable oil',\n  ' mashed sweet potato',\n  ' apple pie spice'],\n ['yellow cake mix with pudding',\n  ' eggs',\n  ' milk',\n  ' orange',\n  ' juice of',\n  ' vegetable oil',\n  ' mashed sweet potato',\n  ' apple pie spice'],\n ['chicken breast',\n  ' spaghetti sauce',\n  ' garlic',\n  ' olive oil',\n  ' water',\n  ' salt',\n  ' spaghetti'],\n ['chicken breast',\n  ' spaghetti sauce',\n  ' garlic',\n  ' olive oil',\n  ' water',\n  ' salt',\n  ' spaghetti'],\n ['chicken breast',\n  ' spaghetti sauce',\n  ' garlic',\n  ' olive oil',\n  ' water',\n  ' salt',\n  ' spaghetti'],\n ['chicken breast',\n  ' spaghetti sauce',\n  ' garlic',\n  ' olive oil',\n  ' water',\n  ' salt',\n  ' spaghetti'],\n ['chicken breast',\n  ' spaghetti sauce',\n  ' garlic',\n  ' olive oil',\n  ' water',\n  ' salt',\n  ' spaghetti'],\n ['chicken breast',\n  ' spaghetti sauce',\n  ' garlic',\n  ' olive oil',\n  ' water',\n  ' salt',\n  ' spaghetti'],\n ['chicken breast',\n  ' spaghetti sauce',\n  ' garlic',\n  ' olive oil',\n  ' water',\n  ' salt',\n  ' spaghetti'],\n ['semisweet chocolate',\n  ' cocoa powder',\n  ' sugar',\n  ' double cream',\n  ' full-cream milk',\n  ' cinnamon stick'],\n ['semisweet chocolate',\n  ' cocoa powder',\n  ' sugar',\n  ' double cream',\n  ' full-cream milk',\n  ' cinnamon stick'],\n ['semisweet chocolate',\n  ' cocoa powder',\n  ' sugar',\n  ' double cream',\n  ' full-cream milk',\n  ' cinnamon stick'],\n ['semisweet chocolate',\n  ' cocoa powder',\n  ' sugar',\n  ' double cream',\n  ' full-cream milk',\n  ' cinnamon stick'],\n ['semisweet chocolate',\n  ' cocoa powder',\n  ' sugar',\n  ' double cream',\n  ' full-cream milk',\n  ' cinnamon stick'],\n ['semisweet chocolate',\n  ' cocoa powder',\n  ' sugar',\n  ' double cream',\n  ' full-cream milk',\n  ' cinnamon stick'],\n ['bread',\n  ' butter',\n  ' onion',\n  ' tomatoes',\n  ' potato',\n  ' green chili',\n  ' corn',\n  ' cheese',\n  ' salt',\n  ' pepper',\n  ' tomato ketchup',\n  ' hot sauce',\n  ' white sauce',\n  ' milk',\n  ' white flour'],\n ['bread',\n  ' butter',\n  ' onion',\n  ' tomatoes',\n  ' potato',\n  ' green chili',\n  ' corn',\n  ' cheese',\n  ' salt',\n  ' pepper',\n  ' tomato ketchup',\n  ' hot sauce',\n  ' white sauce',\n  ' milk',\n  ' white flour'],\n ['bread',\n  ' butter',\n  ' onion',\n  ' tomatoes',\n  ' potato',\n  ' green chili',\n  ' corn',\n  ' cheese',\n  ' salt',\n  ' pepper',\n  ' tomato ketchup',\n  ' hot sauce',\n  ' white sauce',\n  ' milk',\n  ' white flour'],\n ['bread',\n  ' butter',\n  ' onion',\n  ' tomatoes',\n  ' potato',\n  ' green chili',\n  ' corn',\n  ' cheese',\n  ' salt',\n  ' pepper',\n  ' tomato ketchup',\n  ' hot sauce',\n  ' white sauce',\n  ' milk',\n  ' white flour'],\n ['bread',\n  ' butter',\n  ' onion',\n  ' tomatoes',\n  ' potato',\n  ' green chili',\n  ' corn',\n  ' cheese',\n  ' salt',\n  ' pepper',\n  ' tomato ketchup',\n  ' hot sauce',\n  ' white sauce',\n  ' milk',\n  ' white flour'],\n ['bread',\n  ' butter',\n  ' onion',\n  ' tomatoes',\n  ' potato',\n  ' green chili',\n  ' corn',\n  ' cheese',\n  ' salt',\n  ' pepper',\n  ' tomato ketchup',\n  ' hot sauce',\n  ' white sauce',\n  ' milk',\n  ' white flour'],\n ['bread',\n  ' butter',\n  ' onion',\n  ' tomatoes',\n  ' potato',\n  ' green chili',\n  ' corn',\n  ' cheese',\n  ' salt',\n  ' pepper',\n  ' tomato ketchup',\n  ' hot sauce',\n  ' white sauce',\n  ' milk',\n  ' white flour'],\n ['bread',\n  ' butter',\n  ' onion',\n  ' tomatoes',\n  ' potato',\n  ' green chili',\n  ' corn',\n  ' cheese',\n  ' salt',\n  ' pepper',\n  ' tomato ketchup',\n  ' hot sauce',\n  ' white sauce',\n  ' milk',\n  ' white flour'],\n ['bread',\n  ' butter',\n  ' onion',\n  ' tomatoes',\n  ' potato',\n  ' green chili',\n  ' corn',\n  ' cheese',\n  ' salt',\n  ' pepper',\n  ' tomato ketchup',\n  ' hot sauce',\n  ' white sauce',\n  ' milk',\n  ' white flour'],\n ['bread',\n  ' butter',\n  ' onion',\n  ' tomatoes',\n  ' potato',\n  ' green chili',\n  ' corn',\n  ' cheese',\n  ' salt',\n  ' pepper',\n  ' tomato ketchup',\n  ' hot sauce',\n  ' white sauce',\n  ' milk',\n  ' white flour'],\n ['bread',\n  ' butter',\n  ' onion',\n  ' tomatoes',\n  ' potato',\n  ' green chili',\n  ' corn',\n  ' cheese',\n  ' salt',\n  ' pepper',\n  ' tomato ketchup',\n  ' hot sauce',\n  ' white sauce',\n  ' milk',\n  ' white flour'],\n ['bread',\n  ' butter',\n  ' onion',\n  ' tomatoes',\n  ' potato',\n  ' green chili',\n  ' corn',\n  ' cheese',\n  ' salt',\n  ' pepper',\n  ' tomato ketchup',\n  ' hot sauce',\n  ' white sauce',\n  ' milk',\n  ' white flour'],\n ['bread',\n  ' butter',\n  ' onion',\n  ' tomatoes',\n  ' potato',\n  ' green chili',\n  ' corn',\n  ' cheese',\n  ' salt',\n  ' pepper',\n  ' tomato ketchup',\n  ' hot sauce',\n  ' white sauce',\n  ' milk',\n  ' white flour'],\n ['bread',\n  ' butter',\n  ' onion',\n  ' tomatoes',\n  ' potato',\n  ' green chili',\n  ' corn',\n  ' cheese',\n  ' salt',\n  ' pepper',\n  ' tomato ketchup',\n  ' hot sauce',\n  ' white sauce',\n  ' milk',\n  ' white flour'],\n ['bread',\n  ' butter',\n  ' onion',\n  ' tomatoes',\n  ' potato',\n  ' green chili',\n  ' corn',\n  ' cheese',\n  ' salt',\n  ' pepper',\n  ' tomato ketchup',\n  ' hot sauce',\n  ' white sauce',\n  ' milk',\n  ' white flour'],\n ['white rice',\n  ' cream of chicken soup',\n  ' cream of celery soup',\n  ' cream of mushroom soup',\n  ' sherry wine',\n  ' slivered almonds',\n  ' chicken breasts',\n  ' butter',\n  ' salt',\n  ' parmesan cheese',\n  ' paprika'],\n ['white rice',\n  ' cream of chicken soup',\n  ' cream of celery soup',\n  ' cream of mushroom soup',\n  ' sherry wine',\n  ' slivered almonds',\n  ' chicken breasts',\n  ' butter',\n  ' salt',\n  ' parmesan cheese',\n  ' paprika'],\n ['white rice',\n  ' cream of chicken soup',\n  ' cream of celery soup',\n  ' cream of mushroom soup',\n  ' sherry wine',\n  ' slivered almonds',\n  ' chicken breasts',\n  ' butter',\n  ' salt',\n  ' parmesan cheese',\n  ' paprika'],\n ['white rice',\n  ' cream of chicken soup',\n  ' cream of celery soup',\n  ' cream of mushroom soup',\n  ' sherry wine',\n  ' slivered almonds',\n  ' chicken breasts',\n  ' butter',\n  ' salt',\n  ' parmesan cheese',\n  ' paprika'],\n ['white rice',\n  ' cream of chicken soup',\n  ' cream of celery soup',\n  ' cream of mushroom soup',\n  ' sherry wine',\n  ' slivered almonds',\n  ' chicken breasts',\n  ' butter',\n  ' salt',\n  ' parmesan cheese',\n  ' paprika'],\n ['white rice',\n  ' cream of chicken soup',\n  ' cream of celery soup',\n  ' cream of mushroom soup',\n  ' sherry wine',\n  ' slivered almonds',\n  ' chicken breasts',\n  ' butter',\n  ' salt',\n  ' parmesan cheese',\n  ' paprika'],\n ['white rice',\n  ' cream of chicken soup',\n  ' cream of celery soup',\n  ' cream of mushroom soup',\n  ' sherry wine',\n  ' slivered almonds',\n  ' chicken breasts',\n  ' butter',\n  ' salt',\n  ' parmesan cheese',\n  ' paprika'],\n ['white rice',\n  ' cream of chicken soup',\n  ' cream of celery soup',\n  ' cream of mushroom soup',\n  ' sherry wine',\n  ' slivered almonds',\n  ' chicken breasts',\n  ' butter',\n  ' salt',\n  ' parmesan cheese',\n  ' paprika'],\n ['white rice',\n  ' cream of chicken soup',\n  ' cream of celery soup',\n  ' cream of mushroom soup',\n  ' sherry wine',\n  ' slivered almonds',\n  ' chicken breasts',\n  ' butter',\n  ' salt',\n  ' parmesan cheese',\n  ' paprika'],\n ['white rice',\n  ' cream of chicken soup',\n  ' cream of celery soup',\n  ' cream of mushroom soup',\n  ' sherry wine',\n  ' slivered almonds',\n  ' chicken breasts',\n  ' butter',\n  ' salt',\n  ' parmesan cheese',\n  ' paprika'],\n ['white rice',\n  ' cream of chicken soup',\n  ' cream of celery soup',\n  ' cream of mushroom soup',\n  ' sherry wine',\n  ' slivered almonds',\n  ' chicken breasts',\n  ' butter',\n  ' salt',\n  ' parmesan cheese',\n  ' paprika'],\n ['semi-sweet chocolate chips',\n  ' canola oil',\n  ' brown sugar',\n  ' egg whites',\n  ' light corn syrup',\n  ' water',\n  ' vanilla extract',\n  ' all-purpose flour',\n  ' \"confectioners sugar\"',\n  ' baking cocoa',\n  ' baking powder',\n  ' salt'],\n ['semi-sweet chocolate chips',\n  ' canola oil',\n  ' brown sugar',\n  ' egg whites',\n  ' light corn syrup',\n  ' water',\n  ' vanilla extract',\n  ' all-purpose flour',\n  ' \"confectioners sugar\"',\n  ' baking cocoa',\n  ' baking powder',\n  ' salt'],\n ['semi-sweet chocolate chips',\n  ' canola oil',\n  ' brown sugar',\n  ' egg whites',\n  ' light corn syrup',\n  ' water',\n  ' vanilla extract',\n  ' all-purpose flour',\n  ' \"confectioners sugar\"',\n  ' baking cocoa',\n  ' baking powder',\n  ' salt'],\n ['semi-sweet chocolate chips',\n  ' canola oil',\n  ' brown sugar',\n  ' egg whites',\n  ' light corn syrup',\n  ' water',\n  ' vanilla extract',\n  ' all-purpose flour',\n  ' \"confectioners sugar\"',\n  ' baking cocoa',\n  ' baking powder',\n  ' salt'],\n ['semi-sweet chocolate chips',\n  ' canola oil',\n  ' brown sugar',\n  ' egg whites',\n  ' light corn syrup',\n  ' water',\n  ' vanilla extract',\n  ' all-purpose flour',\n  ' \"confectioners sugar\"',\n  ' baking cocoa',\n  ' baking powder',\n  ' salt'],\n ['semi-sweet chocolate chips',\n  ' canola oil',\n  ' brown sugar',\n  ' egg whites',\n  ' light corn syrup',\n  ' water',\n  ' vanilla extract',\n  ' all-purpose flour',\n  ' \"confectioners sugar\"',\n  ' baking cocoa',\n  ' baking powder',\n  ' salt'],\n ['semi-sweet chocolate chips',\n  ' canola oil',\n  ' brown sugar',\n  ' egg whites',\n  ' light corn syrup',\n  ' water',\n  ' vanilla extract',\n  ' all-purpose flour',\n  ' \"confectioners sugar\"',\n  ' baking cocoa',\n  ' baking powder',\n  ' salt'],\n ['semi-sweet chocolate chips',\n  ' canola oil',\n  ' brown sugar',\n  ' egg whites',\n  ' light corn syrup',\n  ' water',\n  ' vanilla extract',\n  ' all-purpose flour',\n  ' \"confectioners sugar\"',\n  ' baking cocoa',\n  ' baking powder',\n  ' salt'],\n ['semi-sweet chocolate chips',\n  ' canola oil',\n  ' brown sugar',\n  ' egg whites',\n  ' light corn syrup',\n  ' water',\n  ' vanilla extract',\n  ' all-purpose flour',\n  ' \"confectioners sugar\"',\n  ' baking cocoa',\n  ' baking powder',\n  ' salt'],\n ['semi-sweet chocolate chips',\n  ' canola oil',\n  ' brown sugar',\n  ' egg whites',\n  ' light corn syrup',\n  ' water',\n  ' vanilla extract',\n  ' all-purpose flour',\n  ' \"confectioners sugar\"',\n  ' baking cocoa',\n  ' baking powder',\n  ' salt'],\n ['semi-sweet chocolate chips',\n  ' canola oil',\n  ' brown sugar',\n  ' egg whites',\n  ' light corn syrup',\n  ' water',\n  ' vanilla extract',\n  ' all-purpose flour',\n  ' \"confectioners sugar\"',\n  ' baking cocoa',\n  ' baking powder',\n  ' salt'],\n ['semi-sweet chocolate chips',\n  ' canola oil',\n  ' brown sugar',\n  ' egg whites',\n  ' light corn syrup',\n  ' water',\n  ' vanilla extract',\n  ' all-purpose flour',\n  ' \"confectioners sugar\"',\n  ' baking cocoa',\n  ' baking powder',\n  ' salt'],\n ['dried basil',\n  ' dried rosemary',\n  ' dried oregano',\n  ' crushed red pepper flakes',\n  ' anise seed',\n  ' pineapple chunks',\n  ' cornstarch',\n  ' olive oil',\n  ' garlic cloves',\n  ' halibut fillets'],\n ['dried basil',\n  ' dried rosemary',\n  ' dried oregano',\n  ' crushed red pepper flakes',\n  ' anise seed',\n  ' pineapple chunks',\n  ' cornstarch',\n  ' olive oil',\n  ' garlic cloves',\n  ' halibut fillets'],\n ['dried basil',\n  ' dried rosemary',\n  ' dried oregano',\n  ' crushed red pepper flakes',\n  ' anise seed',\n  ' pineapple chunks',\n  ' cornstarch',\n  ' olive oil',\n  ' garlic cloves',\n  ' halibut fillets'],\n ['dried basil',\n  ' dried rosemary',\n  ' dried oregano',\n  ' crushed red pepper flakes',\n  ' anise seed',\n  ' pineapple chunks',\n  ' cornstarch',\n  ' olive oil',\n  ' garlic cloves',\n  ' halibut fillets'],\n ['dried basil',\n  ' dried rosemary',\n  ' dried oregano',\n  ' crushed red pepper flakes',\n  ' anise seed',\n  ' pineapple chunks',\n  ' cornstarch',\n  ' olive oil',\n  ' garlic cloves',\n  ' halibut fillets'],\n ['dried basil',\n  ' dried rosemary',\n  ' dried oregano',\n  ' crushed red pepper flakes',\n  ' anise seed',\n  ' pineapple chunks',\n  ' cornstarch',\n  ' olive oil',\n  ' garlic cloves',\n  ' halibut fillets'],\n ['dried basil',\n  ' dried rosemary',\n  ' dried oregano',\n  ' crushed red pepper flakes',\n  ' anise seed',\n  ' pineapple chunks',\n  ' cornstarch',\n  ' olive oil',\n  ' garlic cloves',\n  ' halibut fillets'],\n ['dried basil',\n  ' dried rosemary',\n  ' dried oregano',\n  ' crushed red pepper flakes',\n  ' anise seed',\n  ' pineapple chunks',\n  ' cornstarch',\n  ' olive oil',\n  ' garlic cloves',\n  ' halibut fillets'],\n ['dried basil',\n  ' dried rosemary',\n  ' dried oregano',\n  ' crushed red pepper flakes',\n  ' anise seed',\n  ' pineapple chunks',\n  ' cornstarch',\n  ' olive oil',\n  ' garlic cloves',\n  ' halibut fillets'],\n ['dried basil',\n  ' dried rosemary',\n  ' dried oregano',\n  ' crushed red pepper flakes',\n  ' anise seed',\n  ' pineapple chunks',\n  ' cornstarch',\n  ' olive oil',\n  ' garlic cloves',\n  ' halibut fillets'],\n ['white cake mix',\n  ' vanilla instant pudding mix',\n  ' eggs',\n  ' whole milk',\n  ' oil',\n  ' vanilla',\n  ' cream cheese',\n  ' butter',\n  ' sugar',\n  ' powdered sugar',\n  ' cool whip',\n  ' fresh strawberries'],\n ['white cake mix',\n  ' vanilla instant pudding mix',\n  ' eggs',\n  ' whole milk',\n  ' oil',\n  ' vanilla',\n  ' cream cheese',\n  ' butter',\n  ' sugar',\n  ' powdered sugar',\n  ' cool whip',\n  ' fresh strawberries'],\n ['white cake mix',\n  ' vanilla instant pudding mix',\n  ' eggs',\n  ' whole milk',\n  ' oil',\n  ' vanilla',\n  ' cream cheese',\n  ' butter',\n  ' sugar',\n  ' powdered sugar',\n  ' cool whip',\n  ' fresh strawberries'],\n ['white cake mix',\n  ' vanilla instant pudding mix',\n  ' eggs',\n  ' whole milk',\n  ' oil',\n  ' vanilla',\n  ' cream cheese',\n  ' butter',\n  ' sugar',\n  ' powdered sugar',\n  ' cool whip',\n  ' fresh strawberries'],\n ['white cake mix',\n  ' vanilla instant pudding mix',\n  ' eggs',\n  ' whole milk',\n  ' oil',\n  ' vanilla',\n  ' cream cheese',\n  ' butter',\n  ' sugar',\n  ' powdered sugar',\n  ' cool whip',\n  ' fresh strawberries'],\n ['white cake mix',\n  ' vanilla instant pudding mix',\n  ' eggs',\n  ' whole milk',\n  ' oil',\n  ' vanilla',\n  ' cream cheese',\n  ' butter',\n  ' sugar',\n  ' powdered sugar',\n  ' cool whip',\n  ' fresh strawberries'],\n ['white cake mix',\n  ' vanilla instant pudding mix',\n  ' eggs',\n  ' whole milk',\n  ' oil',\n  ' vanilla',\n  ' cream cheese',\n  ' butter',\n  ' sugar',\n  ' powdered sugar',\n  ' cool whip',\n  ' fresh strawberries'],\n ['white cake mix',\n  ' vanilla instant pudding mix',\n  ' eggs',\n  ' whole milk',\n  ' oil',\n  ' vanilla',\n  ' cream cheese',\n  ' butter',\n  ' sugar',\n  ' powdered sugar',\n  ' cool whip',\n  ' fresh strawberries'],\n ['white cake mix',\n  ' vanilla instant pudding mix',\n  ' eggs',\n  ' whole milk',\n  ' oil',\n  ' vanilla',\n  ' cream cheese',\n  ' butter',\n  ' sugar',\n  ' powdered sugar',\n  ' cool whip',\n  ' fresh strawberries'],\n ['white cake mix',\n  ' vanilla instant pudding mix',\n  ' eggs',\n  ' whole milk',\n  ' oil',\n  ' vanilla',\n  ' cream cheese',\n  ' butter',\n  ' sugar',\n  ' powdered sugar',\n  ' cool whip',\n  ' fresh strawberries'],\n ['white cake mix',\n  ' vanilla instant pudding mix',\n  ' eggs',\n  ' whole milk',\n  ' oil',\n  ' vanilla',\n  ' cream cheese',\n  ' butter',\n  ' sugar',\n  ' powdered sugar',\n  ' cool whip',\n  ' fresh strawberries'],\n ['white cake mix',\n  ' vanilla instant pudding mix',\n  ' eggs',\n  ' whole milk',\n  ' oil',\n  ' vanilla',\n  ' cream cheese',\n  ' butter',\n  ' sugar',\n  ' powdered sugar',\n  ' cool whip',\n  ' fresh strawberries'],\n ['flour',\n  ' instant yeast',\n  ' butter',\n  ' milk',\n  ' eggs',\n  ' vanilla extract',\n  ' sugar',\n  ' salt'],\n ['flour',\n  ' instant yeast',\n  ' butter',\n  ' milk',\n  ' eggs',\n  ' vanilla extract',\n  ' sugar',\n  ' salt'],\n ['flour',\n  ' instant yeast',\n  ' butter',\n  ' milk',\n  ' eggs',\n  ' vanilla extract',\n  ' sugar',\n  ' salt'],\n ['flour',\n  ' instant yeast',\n  ' butter',\n  ' milk',\n  ' eggs',\n  ' vanilla extract',\n  ' sugar',\n  ' salt'],\n ['flour',\n  ' instant yeast',\n  ' butter',\n  ' milk',\n  ' eggs',\n  ' vanilla extract',\n  ' sugar',\n  ' salt'],\n ['flour',\n  ' instant yeast',\n  ' butter',\n  ' milk',\n  ' eggs',\n  ' vanilla extract',\n  ' sugar',\n  ' salt'],\n ['flour',\n  ' instant yeast',\n  ' butter',\n  ' milk',\n  ' eggs',\n  ' vanilla extract',\n  ' sugar',\n  ' salt'],\n ['flour',\n  ' instant yeast',\n  ' butter',\n  ' milk',\n  ' eggs',\n  ' vanilla extract',\n  ' sugar',\n  ' salt'],\n ['bacon',\n  ' potatoes',\n  ' onion',\n  ' mayonnaise',\n  ' garlic powder',\n  ' bacon drippings',\n  ' vinegar',\n  ' white sugar',\n  ' dried parsley',\n  ' seasoning salt',\n  ' coarse ground pepper'],\n ['bacon',\n  ' potatoes',\n  ' onion',\n  ' mayonnaise',\n  ' garlic powder',\n  ' bacon drippings',\n  ' vinegar',\n  ' white sugar',\n  ' dried parsley',\n  ' seasoning salt',\n  ' coarse ground pepper'],\n ['bacon',\n  ' potatoes',\n  ' onion',\n  ' mayonnaise',\n  ' garlic powder',\n  ' bacon drippings',\n  ' vinegar',\n  ' white sugar',\n  ' dried parsley',\n  ' seasoning salt',\n  ' coarse ground pepper'],\n ['bacon',\n  ' potatoes',\n  ' onion',\n  ' mayonnaise',\n  ' garlic powder',\n  ' bacon drippings',\n  ' vinegar',\n  ' white sugar',\n  ' dried parsley',\n  ' seasoning salt',\n  ' coarse ground pepper'],\n ['bacon',\n  ' potatoes',\n  ' onion',\n  ' mayonnaise',\n  ' garlic powder',\n  ' bacon drippings',\n  ' vinegar',\n  ' white sugar',\n  ' dried parsley',\n  ' seasoning salt',\n  ' coarse ground pepper'],\n ['bacon',\n  ' potatoes',\n  ' onion',\n  ' mayonnaise',\n  ' garlic powder',\n  ' bacon drippings',\n  ' vinegar',\n  ' white sugar',\n  ' dried parsley',\n  ' seasoning salt',\n  ' coarse ground pepper'],\n ['bacon',\n  ' potatoes',\n  ' onion',\n  ' mayonnaise',\n  ' garlic powder',\n  ' bacon drippings',\n  ' vinegar',\n  ' white sugar',\n  ' dried parsley',\n  ' seasoning salt',\n  ' coarse ground pepper'],\n ['bacon',\n  ' potatoes',\n  ' onion',\n  ' mayonnaise',\n  ' garlic powder',\n  ' bacon drippings',\n  ' vinegar',\n  ' white sugar',\n  ' dried parsley',\n  ' seasoning salt',\n  ' coarse ground pepper'],\n ['bacon',\n  ' potatoes',\n  ' onion',\n  ' mayonnaise',\n  ' garlic powder',\n  ' bacon drippings',\n  ' vinegar',\n  ' white sugar',\n  ' dried parsley',\n  ' seasoning salt',\n  ' coarse ground pepper'],\n ['bacon',\n  ' potatoes',\n  ' onion',\n  ' mayonnaise',\n  ' garlic powder',\n  ' bacon drippings',\n  ' vinegar',\n  ' white sugar',\n  ' dried parsley',\n  ' seasoning salt',\n  ' coarse ground pepper'],\n ['bacon',\n  ' potatoes',\n  ' onion',\n  ' mayonnaise',\n  ' garlic powder',\n  ' bacon drippings',\n  ' vinegar',\n  ' white sugar',\n  ' dried parsley',\n  ' seasoning salt',\n  ' coarse ground pepper'],\n ['all-purpose flour',\n  ' whole wheat flour',\n  ' baking powder',\n  ' baking soda',\n  ' salt',\n  ' eggs',\n  ' low-fat buttermilk',\n  ' nonfat milk',\n  ' honey',\n  ' vanilla',\n  ' \"confectioners sugar\"',\n  ' strawberries',\n  ' lemon juice',\n  ' maple syrup'],\n ['all-purpose flour',\n  ' whole wheat flour',\n  ' baking powder',\n  ' baking soda',\n  ' salt',\n  ' eggs',\n  ' low-fat buttermilk',\n  ' nonfat milk',\n  ' honey',\n  ' vanilla',\n  ' \"confectioners sugar\"',\n  ' strawberries',\n  ' lemon juice',\n  ' maple syrup'],\n ['all-purpose flour',\n  ' whole wheat flour',\n  ' baking powder',\n  ' baking soda',\n  ' salt',\n  ' eggs',\n  ' low-fat buttermilk',\n  ' nonfat milk',\n  ' honey',\n  ' vanilla',\n  ' \"confectioners sugar\"',\n  ' strawberries',\n  ' lemon juice',\n  ' maple syrup'],\n ['all-purpose flour',\n  ' whole wheat flour',\n  ' baking powder',\n  ' baking soda',\n  ' salt',\n  ' eggs',\n  ' low-fat buttermilk',\n  ' nonfat milk',\n  ' honey',\n  ' vanilla',\n  ' \"confectioners sugar\"',\n  ' strawberries',\n  ' lemon juice',\n  ' maple syrup'],\n ['all-purpose flour',\n  ' whole wheat flour',\n  ' baking powder',\n  ' baking soda',\n  ' salt',\n  ' eggs',\n  ' low-fat buttermilk',\n  ' nonfat milk',\n  ' honey',\n  ' vanilla',\n  ' \"confectioners sugar\"',\n  ' strawberries',\n  ' lemon juice',\n  ' maple syrup'],\n ['all-purpose flour',\n  ' whole wheat flour',\n  ' baking powder',\n  ' baking soda',\n  ' salt',\n  ' eggs',\n  ' low-fat buttermilk',\n  ' nonfat milk',\n  ' honey',\n  ' vanilla',\n  ' \"confectioners sugar\"',\n  ' strawberries',\n  ' lemon juice',\n  ' maple syrup'],\n ['all-purpose flour',\n  ' whole wheat flour',\n  ' baking powder',\n  ' baking soda',\n  ' salt',\n  ' eggs',\n  ' low-fat buttermilk',\n  ' nonfat milk',\n  ' honey',\n  ' vanilla',\n  ' \"confectioners sugar\"',\n  ' strawberries',\n  ' lemon juice',\n  ' maple syrup'],\n ['all-purpose flour',\n  ' whole wheat flour',\n  ' baking powder',\n  ' baking soda',\n  ' salt',\n  ' eggs',\n  ' low-fat buttermilk',\n  ' nonfat milk',\n  ' honey',\n  ' vanilla',\n  ' \"confectioners sugar\"',\n  ' strawberries',\n  ' lemon juice',\n  ' maple syrup'],\n ['all-purpose flour',\n  ' whole wheat flour',\n  ' baking powder',\n  ' baking soda',\n  ' salt',\n  ' eggs',\n  ' low-fat buttermilk',\n  ' nonfat milk',\n  ' honey',\n  ' vanilla',\n  ' \"confectioners sugar\"',\n  ' strawberries',\n  ' lemon juice',\n  ' maple syrup'],\n ['all-purpose flour',\n  ' whole wheat flour',\n  ' baking powder',\n  ' baking soda',\n  ' salt',\n  ' eggs',\n  ' low-fat buttermilk',\n  ' nonfat milk',\n  ' honey',\n  ' vanilla',\n  ' \"confectioners sugar\"',\n  ' strawberries',\n  ' lemon juice',\n  ' maple syrup'],\n ['all-purpose flour',\n  ' whole wheat flour',\n  ' baking powder',\n  ' baking soda',\n  ' salt',\n  ' eggs',\n  ' low-fat buttermilk',\n  ' nonfat milk',\n  ' honey',\n  ' vanilla',\n  ' \"confectioners sugar\"',\n  ' strawberries',\n  ' lemon juice',\n  ' maple syrup'],\n ['all-purpose flour',\n  ' whole wheat flour',\n  ' baking powder',\n  ' baking soda',\n  ' salt',\n  ' eggs',\n  ' low-fat buttermilk',\n  ' nonfat milk',\n  ' honey',\n  ' vanilla',\n  ' \"confectioners sugar\"',\n  ' strawberries',\n  ' lemon juice',\n  ' maple syrup'],\n ['all-purpose flour',\n  ' whole wheat flour',\n  ' baking powder',\n  ' baking soda',\n  ' salt',\n  ' eggs',\n  ' low-fat buttermilk',\n  ' nonfat milk',\n  ' honey',\n  ' vanilla',\n  ' \"confectioners sugar\"',\n  ' strawberries',\n  ' lemon juice',\n  ' maple syrup'],\n ['all-purpose flour',\n  ' whole wheat flour',\n  ' baking powder',\n  ' baking soda',\n  ' salt',\n  ' eggs',\n  ' low-fat buttermilk',\n  ' nonfat milk',\n  ' honey',\n  ' vanilla',\n  ' \"confectioners sugar\"',\n  ' strawberries',\n  ' lemon juice',\n  ' maple syrup'],\n ['pork chops',\n  ' onions',\n  ' instant chicken bouillon granules',\n  ' beer',\n  ' thyme leaves',\n  ' cold water',\n  ' flour',\n  ' salt and pepper'],\n ['pork chops',\n  ' onions',\n  ' instant chicken bouillon granules',\n  ' beer',\n  ' thyme leaves',\n  ' cold water',\n  ' flour',\n  ' salt and pepper'],\n ['pork chops',\n  ' onions',\n  ' instant chicken bouillon granules',\n  ' beer',\n  ' thyme leaves',\n  ' cold water',\n  ' flour',\n  ' salt and pepper'],\n ['pork chops',\n  ' onions',\n  ' instant chicken bouillon granules',\n  ' beer',\n  ' thyme leaves',\n  ' cold water',\n  ' flour',\n  ' salt and pepper'],\n ['pork chops',\n  ' onions',\n  ' instant chicken bouillon granules',\n  ' beer',\n  ' thyme leaves',\n  ' cold water',\n  ' flour',\n  ' salt and pepper'],\n ['pork chops',\n  ' onions',\n  ' instant chicken bouillon granules',\n  ' beer',\n  ' thyme leaves',\n  ' cold water',\n  ' flour',\n  ' salt and pepper'],\n ['pork chops',\n  ' onions',\n  ' instant chicken bouillon granules',\n  ' beer',\n  ' thyme leaves',\n  ' cold water',\n  ' flour',\n  ' salt and pepper'],\n ['pork chops',\n  ' onions',\n  ' instant chicken bouillon granules',\n  ' beer',\n  ' thyme leaves',\n  ' cold water',\n  ' flour',\n  ' salt and pepper'],\n ['roasting chickens',\n  ' vegetable oil',\n  ' celery',\n  ' bell pepper',\n  ' pineapple chunks',\n  ' pineapple juice',\n  ' brown sugar',\n  ' vinegar',\n  ' soy sauce',\n  ' ketchup',\n  ' worcestershire sauce',\n  ' ground ginger',\n  ' cornstarch',\n  ' cold water'],\n ['roasting chickens',\n  ' vegetable oil',\n  ' celery',\n  ' bell pepper',\n  ' pineapple chunks',\n  ' pineapple juice',\n  ' brown sugar',\n  ' vinegar',\n  ' soy sauce',\n  ' ketchup',\n  ' worcestershire sauce',\n  ' ground ginger',\n  ' cornstarch',\n  ' cold water'],\n ['roasting chickens',\n  ' vegetable oil',\n  ' celery',\n  ' bell pepper',\n  ' pineapple chunks',\n  ' pineapple juice',\n  ' brown sugar',\n  ' vinegar',\n  ' soy sauce',\n  ' ketchup',\n  ' worcestershire sauce',\n  ' ground ginger',\n  ' cornstarch',\n  ' cold water'],\n ['roasting chickens',\n  ' vegetable oil',\n  ' celery',\n  ' bell pepper',\n  ' pineapple chunks',\n  ' pineapple juice',\n  ' brown sugar',\n  ' vinegar',\n  ' soy sauce',\n  ' ketchup',\n  ' worcestershire sauce',\n  ' ground ginger',\n  ' cornstarch',\n  ' cold water'],\n ['roasting chickens',\n  ' vegetable oil',\n  ' celery',\n  ' bell pepper',\n  ' pineapple chunks',\n  ' pineapple juice',\n  ' brown sugar',\n  ' vinegar',\n  ' soy sauce',\n  ' ketchup',\n  ' worcestershire sauce',\n  ' ground ginger',\n  ' cornstarch',\n  ' cold water'],\n ['roasting chickens',\n  ' vegetable oil',\n  ' celery',\n  ' bell pepper',\n  ' pineapple chunks',\n  ' pineapple juice',\n  ' brown sugar',\n  ' vinegar',\n  ' soy sauce',\n  ' ketchup',\n  ' worcestershire sauce',\n  ' ground ginger',\n  ' cornstarch',\n  ' cold water'],\n ['roasting chickens',\n  ' vegetable oil',\n  ' celery',\n  ' bell pepper',\n  ' pineapple chunks',\n  ' pineapple juice',\n  ' brown sugar',\n  ' vinegar',\n  ' soy sauce',\n  ' ketchup',\n  ' worcestershire sauce',\n  ' ground ginger',\n  ' cornstarch',\n  ' cold water'],\n ['roasting chickens',\n  ' vegetable oil',\n  ' celery',\n  ' bell pepper',\n  ' pineapple chunks',\n  ' pineapple juice',\n  ' brown sugar',\n  ' vinegar',\n  ' soy sauce',\n  ' ketchup',\n  ' worcestershire sauce',\n  ' ground ginger',\n  ' cornstarch',\n  ' cold water'],\n ['roasting chickens',\n  ' vegetable oil',\n  ' celery',\n  ' bell pepper',\n  ' pineapple chunks',\n  ' pineapple juice',\n  ' brown sugar',\n  ' vinegar',\n  ' soy sauce',\n  ' ketchup',\n  ' worcestershire sauce',\n  ' ground ginger',\n  ' cornstarch',\n  ' cold water'],\n ['roasting chickens',\n  ' vegetable oil',\n  ' celery',\n  ' bell pepper',\n  ' pineapple chunks',\n  ' pineapple juice',\n  ' brown sugar',\n  ' vinegar',\n  ' soy sauce',\n  ' ketchup',\n  ' worcestershire sauce',\n  ' ground ginger',\n  ' cornstarch',\n  ' cold water'],\n ['roasting chickens',\n  ' vegetable oil',\n  ' celery',\n  ' bell pepper',\n  ' pineapple chunks',\n  ' pineapple juice',\n  ' brown sugar',\n  ' vinegar',\n  ' soy sauce',\n  ' ketchup',\n  ' worcestershire sauce',\n  ' ground ginger',\n  ' cornstarch',\n  ' cold water'],\n ['roasting chickens',\n  ' vegetable oil',\n  ' celery',\n  ' bell pepper',\n  ' pineapple chunks',\n  ' pineapple juice',\n  ' brown sugar',\n  ' vinegar',\n  ' soy sauce',\n  ' ketchup',\n  ' worcestershire sauce',\n  ' ground ginger',\n  ' cornstarch',\n  ' cold water'],\n ['roasting chickens',\n  ' vegetable oil',\n  ' celery',\n  ' bell pepper',\n  ' pineapple chunks',\n  ' pineapple juice',\n  ' brown sugar',\n  ' vinegar',\n  ' soy sauce',\n  ' ketchup',\n  ' worcestershire sauce',\n  ' ground ginger',\n  ' cornstarch',\n  ' cold water'],\n ['roasting chickens',\n  ' vegetable oil',\n  ' celery',\n  ' bell pepper',\n  ' pineapple chunks',\n  ' pineapple juice',\n  ' brown sugar',\n  ' vinegar',\n  ' soy sauce',\n  ' ketchup',\n  ' worcestershire sauce',\n  ' ground ginger',\n  ' cornstarch',\n  ' cold water'],\n ['lime zest',\n  ' lime juice',\n  ' vegetable oil',\n  ' liquid honey',\n  ' salt',\n  ' fresh black pepper',\n  ' fresh coriander',\n  ' chili pepper',\n  ' garlic clove',\n  ' ground cumin',\n  ' ground coriander',\n  ' chicken cutlet',\n  ' peaches',\n  ' mixed greens'],\n ['lime zest',\n  ' lime juice',\n  ' vegetable oil',\n  ' liquid honey',\n  ' salt',\n  ' fresh black pepper',\n  ' fresh coriander',\n  ' chili pepper',\n  ' garlic clove',\n  ' ground cumin',\n  ' ground coriander',\n  ' chicken cutlet',\n  ' peaches',\n  ' mixed greens'],\n ['lime zest',\n  ' lime juice',\n  ' vegetable oil',\n  ' liquid honey',\n  ' salt',\n  ' fresh black pepper',\n  ' fresh coriander',\n  ' chili pepper',\n  ' garlic clove',\n  ' ground cumin',\n  ' ground coriander',\n  ' chicken cutlet',\n  ' peaches',\n  ' mixed greens'],\n ['lime zest',\n  ' lime juice',\n  ' vegetable oil',\n  ' liquid honey',\n  ' salt',\n  ' fresh black pepper',\n  ' fresh coriander',\n  ' chili pepper',\n  ' garlic clove',\n  ' ground cumin',\n  ' ground coriander',\n  ' chicken cutlet',\n  ' peaches',\n  ' mixed greens'],\n ['lime zest',\n  ' lime juice',\n  ' vegetable oil',\n  ' liquid honey',\n  ' salt',\n  ' fresh black pepper',\n  ' fresh coriander',\n  ' chili pepper',\n  ' garlic clove',\n  ' ground cumin',\n  ' ground coriander',\n  ' chicken cutlet',\n  ' peaches',\n  ' mixed greens'],\n ['lime zest',\n  ' lime juice',\n  ' vegetable oil',\n  ' liquid honey',\n  ' salt',\n  ' fresh black pepper',\n  ' fresh coriander',\n  ' chili pepper',\n  ' garlic clove',\n  ' ground cumin',\n  ' ground coriander',\n  ' chicken cutlet',\n  ' peaches',\n  ' mixed greens'],\n ['lime zest',\n  ' lime juice',\n  ' vegetable oil',\n  ' liquid honey',\n  ' salt',\n  ' fresh black pepper',\n  ' fresh coriander',\n  ' chili pepper',\n  ' garlic clove',\n  ' ground cumin',\n  ' ground coriander',\n  ' chicken cutlet',\n  ' peaches',\n  ' mixed greens'],\n ['lime zest',\n  ' lime juice',\n  ' vegetable oil',\n  ' liquid honey',\n  ' salt',\n  ' fresh black pepper',\n  ' fresh coriander',\n  ' chili pepper',\n  ' garlic clove',\n  ' ground cumin',\n  ' ground coriander',\n  ' chicken cutlet',\n  ' peaches',\n  ' mixed greens'],\n ['lime zest',\n  ' lime juice',\n  ' vegetable oil',\n  ' liquid honey',\n  ' salt',\n  ' fresh black pepper',\n  ' fresh coriander',\n  ' chili pepper',\n  ' garlic clove',\n  ' ground cumin',\n  ' ground coriander',\n  ' chicken cutlet',\n  ' peaches',\n  ' mixed greens'],\n ['lime zest',\n  ' lime juice',\n  ' vegetable oil',\n  ' liquid honey',\n  ' salt',\n  ' fresh black pepper',\n  ' fresh coriander',\n  ' chili pepper',\n  ' garlic clove',\n  ' ground cumin',\n  ' ground coriander',\n  ' chicken cutlet',\n  ' peaches',\n  ' mixed greens'],\n ['lime zest',\n  ' lime juice',\n  ' vegetable oil',\n  ' liquid honey',\n  ' salt',\n  ' fresh black pepper',\n  ' fresh coriander',\n  ' chili pepper',\n  ' garlic clove',\n  ' ground cumin',\n  ' ground coriander',\n  ' chicken cutlet',\n  ' peaches',\n  ' mixed greens'],\n ['lime zest',\n  ' lime juice',\n  ' vegetable oil',\n  ' liquid honey',\n  ' salt',\n  ' fresh black pepper',\n  ' fresh coriander',\n  ' chili pepper',\n  ' garlic clove',\n  ' ground cumin',\n  ' ground coriander',\n  ' chicken cutlet',\n  ' peaches',\n  ' mixed greens'],\n ['lime zest',\n  ' lime juice',\n  ' vegetable oil',\n  ' liquid honey',\n  ' salt',\n  ' fresh black pepper',\n  ' fresh coriander',\n  ' chili pepper',\n  ' garlic clove',\n  ' ground cumin',\n  ' ground coriander',\n  ' chicken cutlet',\n  ' peaches',\n  ' mixed greens'],\n ['lime zest',\n  ' lime juice',\n  ' vegetable oil',\n  ' liquid honey',\n  ' salt',\n  ' fresh black pepper',\n  ' fresh coriander',\n  ' chili pepper',\n  ' garlic clove',\n  ' ground cumin',\n  ' ground coriander',\n  ' chicken cutlet',\n  ' peaches',\n  ' mixed greens'],\n ['water',\n  ' butter',\n  ' sugar',\n  ' salt',\n  ' bread flour',\n  ' dry yeast',\n  ' cranberries',\n  ' cinnamon'],\n ['water',\n  ' butter',\n  ' sugar',\n  ' salt',\n  ' bread flour',\n  ' dry yeast',\n  ' cranberries',\n  ' cinnamon'],\n ['water',\n  ' butter',\n  ' sugar',\n  ' salt',\n  ' bread flour',\n  ' dry yeast',\n  ' cranberries',\n  ' cinnamon'],\n ['water',\n  ' butter',\n  ' sugar',\n  ' salt',\n  ' bread flour',\n  ' dry yeast',\n  ' cranberries',\n  ' cinnamon'],\n ['water',\n  ' butter',\n  ' sugar',\n  ' salt',\n  ' bread flour',\n  ' dry yeast',\n  ' cranberries',\n  ' cinnamon'],\n ['water',\n  ' butter',\n  ' sugar',\n  ' salt',\n  ' bread flour',\n  ' dry yeast',\n  ' cranberries',\n  ' cinnamon'],\n ['water',\n  ' butter',\n  ' sugar',\n  ' salt',\n  ' bread flour',\n  ' dry yeast',\n  ' cranberries',\n  ' cinnamon'],\n ['water',\n  ' butter',\n  ' sugar',\n  ' salt',\n  ' bread flour',\n  ' dry yeast',\n  ' cranberries',\n  ' cinnamon'],\n ['beef stew meat',\n  ' onions',\n  ' all-purpose flour',\n  ' beef broth',\n  ' red wine vinegar',\n  ' dry thyme leaves',\n  ' dried rosemary',\n  ' pepper',\n  ' carrots',\n  ' salt'],\n ['beef stew meat',\n  ' onions',\n  ' all-purpose flour',\n  ' beef broth',\n  ' red wine vinegar',\n  ' dry thyme leaves',\n  ' dried rosemary',\n  ' pepper',\n  ' carrots',\n  ' salt'],\n ['beef stew meat',\n  ' onions',\n  ' all-purpose flour',\n  ' beef broth',\n  ' red wine vinegar',\n  ' dry thyme leaves',\n  ' dried rosemary',\n  ' pepper',\n  ' carrots',\n  ' salt'],\n ['beef stew meat',\n  ' onions',\n  ' all-purpose flour',\n  ' beef broth',\n  ' red wine vinegar',\n  ' dry thyme leaves',\n  ' dried rosemary',\n  ' pepper',\n  ' carrots',\n  ' salt'],\n ['beef stew meat',\n  ' onions',\n  ' all-purpose flour',\n  ' beef broth',\n  ' red wine vinegar',\n  ' dry thyme leaves',\n  ' dried rosemary',\n  ' pepper',\n  ' carrots',\n  ' salt'],\n ['beef stew meat',\n  ' onions',\n  ' all-purpose flour',\n  ' beef broth',\n  ' red wine vinegar',\n  ' dry thyme leaves',\n  ' dried rosemary',\n  ' pepper',\n  ' carrots',\n  ' salt'],\n ['beef stew meat',\n  ' onions',\n  ' all-purpose flour',\n  ' beef broth',\n  ' red wine vinegar',\n  ' dry thyme leaves',\n  ' dried rosemary',\n  ' pepper',\n  ' carrots',\n  ' salt'],\n ['beef stew meat',\n  ' onions',\n  ' all-purpose flour',\n  ' beef broth',\n  ' red wine vinegar',\n  ' dry thyme leaves',\n  ' dried rosemary',\n  ' pepper',\n  ' carrots',\n  ' salt'],\n ['beef stew meat',\n  ' onions',\n  ' all-purpose flour',\n  ' beef broth',\n  ' red wine vinegar',\n  ' dry thyme leaves',\n  ' dried rosemary',\n  ' pepper',\n  ' carrots',\n  ' salt'],\n ['beef stew meat',\n  ' onions',\n  ' all-purpose flour',\n  ' beef broth',\n  ' red wine vinegar',\n  ' dry thyme leaves',\n  ' dried rosemary',\n  ' pepper',\n  ' carrots',\n  ' salt'],\n ['chili sauce',\n  ' brown sugar',\n  ' lime juice',\n  ' hot pepper sauce',\n  ' ground allspice',\n  ' ground ginger',\n  ' chicken'],\n ['chili sauce',\n  ' brown sugar',\n  ' lime juice',\n  ' hot pepper sauce',\n  ' ground allspice',\n  ' ground ginger',\n  ' chicken'],\n ['chili sauce',\n  ' brown sugar',\n  ' lime juice',\n  ' hot pepper sauce',\n  ' ground allspice',\n  ' ground ginger',\n  ' chicken'],\n ['chili sauce',\n  ' brown sugar',\n  ' lime juice',\n  ' hot pepper sauce',\n  ' ground allspice',\n  ' ground ginger',\n  ' chicken'],\n ['chili sauce',\n  ' brown sugar',\n  ' lime juice',\n  ' hot pepper sauce',\n  ' ground allspice',\n  ' ground ginger',\n  ' chicken'],\n ['chili sauce',\n  ' brown sugar',\n  ' lime juice',\n  ' hot pepper sauce',\n  ' ground allspice',\n  ' ground ginger',\n  ' chicken'],\n ['chili sauce',\n  ' brown sugar',\n  ' lime juice',\n  ' hot pepper sauce',\n  ' ground allspice',\n  ' ground ginger',\n  ' chicken'],\n ['stock',\n  ' onion',\n  ' ground caraway',\n  ' cumin seed',\n  ' garlic clove',\n  ' lemon juice',\n  ' lime juice',\n  ' carrot'],\n ['stock',\n  ' onion',\n  ' ground caraway',\n  ' cumin seed',\n  ' garlic clove',\n  ' lemon juice',\n  ' lime juice',\n  ' carrot'],\n ['stock',\n  ' onion',\n  ' ground caraway',\n  ' cumin seed',\n  ' garlic clove',\n  ' lemon juice',\n  ' lime juice',\n  ' carrot'],\n ['stock',\n  ' onion',\n  ' ground caraway',\n  ' cumin seed',\n  ' garlic clove',\n  ' lemon juice',\n  ' lime juice',\n  ' carrot'],\n ['stock',\n  ' onion',\n  ' ground caraway',\n  ' cumin seed',\n  ' garlic clove',\n  ' lemon juice',\n  ' lime juice',\n  ' carrot'],\n ['stock',\n  ' onion',\n  ' ground caraway',\n  ' cumin seed',\n  ' garlic clove',\n  ' lemon juice',\n  ' lime juice',\n  ' carrot'],\n ['stock',\n  ' onion',\n  ' ground caraway',\n  ' cumin seed',\n  ' garlic clove',\n  ' lemon juice',\n  ' lime juice',\n  ' carrot'],\n ['stock',\n  ' onion',\n  ' ground caraway',\n  ' cumin seed',\n  ' garlic clove',\n  ' lemon juice',\n  ' lime juice',\n  ' carrot'],\n ['butter',\n  ' brown sugar',\n  ' sugar',\n  ' egg whites',\n  ' buttermilk',\n  ' flour',\n  ' baking soda',\n  ' baking powder',\n  ' salt',\n  ' cinnamon',\n  ' dark brown sugar'],\n ['butter',\n  ' brown sugar',\n  ' sugar',\n  ' egg whites',\n  ' buttermilk',\n  ' flour',\n  ' baking soda',\n  ' baking powder',\n  ' salt',\n  ' cinnamon',\n  ' dark brown sugar'],\n ['butter',\n  ' brown sugar',\n  ' sugar',\n  ' egg whites',\n  ' buttermilk',\n  ' flour',\n  ' baking soda',\n  ' baking powder',\n  ' salt',\n  ' cinnamon',\n  ' dark brown sugar'],\n ['butter',\n  ' brown sugar',\n  ' sugar',\n  ' egg whites',\n  ' buttermilk',\n  ' flour',\n  ' baking soda',\n  ' baking powder',\n  ' salt',\n  ' cinnamon',\n  ' dark brown sugar'],\n ['butter',\n  ' brown sugar',\n  ' sugar',\n  ' egg whites',\n  ' buttermilk',\n  ' flour',\n  ' baking soda',\n  ' baking powder',\n  ' salt',\n  ' cinnamon',\n  ' dark brown sugar'],\n ['butter',\n  ' brown sugar',\n  ' sugar',\n  ' egg whites',\n  ' buttermilk',\n  ' flour',\n  ' baking soda',\n  ' baking powder',\n  ' salt',\n  ' cinnamon',\n  ' dark brown sugar'],\n ['butter',\n  ' brown sugar',\n  ' sugar',\n  ' egg whites',\n  ' buttermilk',\n  ' flour',\n  ' baking soda',\n  ' baking powder',\n  ' salt',\n  ' cinnamon',\n  ' dark brown sugar'],\n ['butter',\n  ' brown sugar',\n  ' sugar',\n  ' egg whites',\n  ' buttermilk',\n  ' flour',\n  ' baking soda',\n  ' baking powder',\n  ' salt',\n  ' cinnamon',\n  ' dark brown sugar'],\n ['butter',\n  ' brown sugar',\n  ' sugar',\n  ' egg whites',\n  ' buttermilk',\n  ' flour',\n  ' baking soda',\n  ' baking powder',\n  ' salt',\n  ' cinnamon',\n  ' dark brown sugar'],\n ['butter',\n  ' brown sugar',\n  ' sugar',\n  ' egg whites',\n  ' buttermilk',\n  ' flour',\n  ' baking soda',\n  ' baking powder',\n  ' salt',\n  ' cinnamon',\n  ' dark brown sugar'],\n ['butter',\n  ' brown sugar',\n  ' sugar',\n  ' egg whites',\n  ' buttermilk',\n  ' flour',\n  ' baking soda',\n  ' baking powder',\n  ' salt',\n  ' cinnamon',\n  ' dark brown sugar'],\n ['onion',\n  ' green onion',\n  ' ground coriander',\n  ' ground cumin',\n  ' canola oil',\n  ' fresh cilantro',\n  ' black beans',\n  ' water',\n  ' lime juice',\n  ' adobo sauce',\n  ' salt',\n  ' whole wheat tortillas',\n  ' cooked chicken',\n  ' romaine lettuce',\n  ' salsa'],\n ['onion',\n  ' green onion',\n  ' ground coriander',\n  ' ground cumin',\n  ' canola oil',\n  ' fresh cilantro',\n  ' black beans',\n  ' water',\n  ' lime juice',\n  ' adobo sauce',\n  ' salt',\n  ' whole wheat tortillas',\n  ' cooked chicken',\n  ' romaine lettuce',\n  ' salsa'],\n ['onion',\n  ' green onion',\n  ' ground coriander',\n  ' ground cumin',\n  ' canola oil',\n  ' fresh cilantro',\n  ' black beans',\n  ' water',\n  ' lime juice',\n  ' adobo sauce',\n  ' salt',\n  ' whole wheat tortillas',\n  ' cooked chicken',\n  ' romaine lettuce',\n  ' salsa'],\n ['onion',\n  ' green onion',\n  ' ground coriander',\n  ' ground cumin',\n  ' canola oil',\n  ' fresh cilantro',\n  ' black beans',\n  ' water',\n  ' lime juice',\n  ' adobo sauce',\n  ' salt',\n  ' whole wheat tortillas',\n  ' cooked chicken',\n  ' romaine lettuce',\n  ' salsa'],\n ['onion',\n  ' green onion',\n  ' ground coriander',\n  ' ground cumin',\n  ' canola oil',\n  ' fresh cilantro',\n  ' black beans',\n  ' water',\n  ' lime juice',\n  ' adobo sauce',\n  ' salt',\n  ' whole wheat tortillas',\n  ' cooked chicken',\n  ' romaine lettuce',\n  ' salsa'],\n ['onion',\n  ' green onion',\n  ' ground coriander',\n  ' ground cumin',\n  ' canola oil',\n  ' fresh cilantro',\n  ' black beans',\n  ' water',\n  ' lime juice',\n  ' adobo sauce',\n  ' salt',\n  ' whole wheat tortillas',\n  ' cooked chicken',\n  ' romaine lettuce',\n  ' salsa'],\n ['onion',\n  ' green onion',\n  ' ground coriander',\n  ' ground cumin',\n  ' canola oil',\n  ' fresh cilantro',\n  ' black beans',\n  ' water',\n  ' lime juice',\n  ' adobo sauce',\n  ' salt',\n  ' whole wheat tortillas',\n  ' cooked chicken',\n  ' romaine lettuce',\n  ' salsa'],\n ['onion',\n  ' green onion',\n  ' ground coriander',\n  ' ground cumin',\n  ' canola oil',\n  ' fresh cilantro',\n  ' black beans',\n  ' water',\n  ' lime juice',\n  ' adobo sauce',\n  ' salt',\n  ' whole wheat tortillas',\n  ' cooked chicken',\n  ' romaine lettuce',\n  ' salsa'],\n ['onion',\n  ' green onion',\n  ' ground coriander',\n  ' ground cumin',\n  ' canola oil',\n  ' fresh cilantro',\n  ' black beans',\n  ' water',\n  ' lime juice',\n  ' adobo sauce',\n  ' salt',\n  ' whole wheat tortillas',\n  ' cooked chicken',\n  ' romaine lettuce',\n  ' salsa'],\n ['onion',\n  ' green onion',\n  ' ground coriander',\n  ' ground cumin',\n  ' canola oil',\n  ' fresh cilantro',\n  ' black beans',\n  ' water',\n  ' lime juice',\n  ' adobo sauce',\n  ' salt',\n  ' whole wheat tortillas',\n  ' cooked chicken',\n  ' romaine lettuce',\n  ' salsa'],\n ['onion',\n  ' green onion',\n  ' ground coriander',\n  ' ground cumin',\n  ' canola oil',\n  ' fresh cilantro',\n  ' black beans',\n  ' water',\n  ' lime juice',\n  ' adobo sauce',\n  ' salt',\n  ' whole wheat tortillas',\n  ' cooked chicken',\n  ' romaine lettuce',\n  ' salsa'],\n ['onion',\n  ' green onion',\n  ' ground coriander',\n  ' ground cumin',\n  ' canola oil',\n  ' fresh cilantro',\n  ' black beans',\n  ' water',\n  ' lime juice',\n  ' adobo sauce',\n  ' salt',\n  ' whole wheat tortillas',\n  ' cooked chicken',\n  ' romaine lettuce',\n  ' salsa'],\n ['onion',\n  ' green onion',\n  ' ground coriander',\n  ' ground cumin',\n  ' canola oil',\n  ' fresh cilantro',\n  ' black beans',\n  ' water',\n  ' lime juice',\n  ' adobo sauce',\n  ' salt',\n  ' whole wheat tortillas',\n  ' cooked chicken',\n  ' romaine lettuce',\n  ' salsa'],\n ['onion',\n  ' green onion',\n  ' ground coriander',\n  ' ground cumin',\n  ' canola oil',\n  ' fresh cilantro',\n  ' black beans',\n  ' water',\n  ' lime juice',\n  ' adobo sauce',\n  ' salt',\n  ' whole wheat tortillas',\n  ' cooked chicken',\n  ' romaine lettuce',\n  ' salsa'],\n ['onion',\n  ' green onion',\n  ' ground coriander',\n  ' ground cumin',\n  ' canola oil',\n  ' fresh cilantro',\n  ' black beans',\n  ' water',\n  ' lime juice',\n  ' adobo sauce',\n  ' salt',\n  ' whole wheat tortillas',\n  ' cooked chicken',\n  ' romaine lettuce',\n  ' salsa'],\n ['butter',\n  ' light brown sugar',\n  ' egg',\n  ' all-purpose flour',\n  ' baking powder',\n  ' vanilla extract',\n  ' pecans',\n  ' \"confectioners sugar\"'],\n ['butter',\n  ' light brown sugar',\n  ' egg',\n  ' all-purpose flour',\n  ' baking powder',\n  ' vanilla extract',\n  ' pecans',\n  ' \"confectioners sugar\"'],\n ['butter',\n  ' light brown sugar',\n  ' egg',\n  ' all-purpose flour',\n  ' baking powder',\n  ' vanilla extract',\n  ' pecans',\n  ' \"confectioners sugar\"'],\n ['butter',\n  ' light brown sugar',\n  ' egg',\n  ' all-purpose flour',\n  ' baking powder',\n  ' vanilla extract',\n  ' pecans',\n  ' \"confectioners sugar\"'],\n ['butter',\n  ' light brown sugar',\n  ' egg',\n  ' all-purpose flour',\n  ' baking powder',\n  ' vanilla extract',\n  ' pecans',\n  ' \"confectioners sugar\"'],\n ['butter',\n  ' light brown sugar',\n  ' egg',\n  ' all-purpose flour',\n  ' baking powder',\n  ' vanilla extract',\n  ' pecans',\n  ' \"confectioners sugar\"'],\n ['butter',\n  ' light brown sugar',\n  ' egg',\n  ' all-purpose flour',\n  ' baking powder',\n  ' vanilla extract',\n  ' pecans',\n  ' \"confectioners sugar\"'],\n ['butter',\n  ' light brown sugar',\n  ' egg',\n  ' all-purpose flour',\n  ' baking powder',\n  ' vanilla extract',\n  ' pecans',\n  ' \"confectioners sugar\"'],\n ['ground beef',\n  ' egg',\n  ' chili sauce',\n  ' salt',\n  ' pepper',\n  ' prepared mustard',\n  ' prepared horseradish',\n  ' onions',\n  ' worcestershire sauce'],\n ['ground beef',\n  ' egg',\n  ' chili sauce',\n  ' salt',\n  ' pepper',\n  ' prepared mustard',\n  ' prepared horseradish',\n  ' onions',\n  ' worcestershire sauce'],\n ['ground beef',\n  ' egg',\n  ' chili sauce',\n  ' salt',\n  ' pepper',\n  ' prepared mustard',\n  ' prepared horseradish',\n  ' onions',\n  ' worcestershire sauce'],\n ['ground beef',\n  ' egg',\n  ' chili sauce',\n  ' salt',\n  ' pepper',\n  ' prepared mustard',\n  ' prepared horseradish',\n  ' onions',\n  ' worcestershire sauce'],\n ['ground beef',\n  ' egg',\n  ' chili sauce',\n  ' salt',\n  ' pepper',\n  ' prepared mustard',\n  ' prepared horseradish',\n  ' onions',\n  ' worcestershire sauce'],\n ['ground beef',\n  ' egg',\n  ' chili sauce',\n  ' salt',\n  ' pepper',\n  ' prepared mustard',\n  ' prepared horseradish',\n  ' onions',\n  ' worcestershire sauce'],\n ['ground beef',\n  ' egg',\n  ' chili sauce',\n  ' salt',\n  ' pepper',\n  ' prepared mustard',\n  ' prepared horseradish',\n  ' onions',\n  ' worcestershire sauce'],\n ['ground beef',\n  ' egg',\n  ' chili sauce',\n  ' salt',\n  ' pepper',\n  ' prepared mustard',\n  ' prepared horseradish',\n  ' onions',\n  ' worcestershire sauce'],\n ['ground beef',\n  ' egg',\n  ' chili sauce',\n  ' salt',\n  ' pepper',\n  ' prepared mustard',\n  ' prepared horseradish',\n  ' onions',\n  ' worcestershire sauce'],\n ['bacon',\n  ' olive oil',\n  ' onion',\n  ' garlic',\n  ' spinach leaves',\n  ' salt',\n  ' black pepper',\n  ' parmesan cheese'],\n ['bacon',\n  ' olive oil',\n  ' onion',\n  ' garlic',\n  ' spinach leaves',\n  ' salt',\n  ' black pepper',\n  ' parmesan cheese'],\n ['bacon',\n  ' olive oil',\n  ' onion',\n  ' garlic',\n  ' spinach leaves',\n  ' salt',\n  ' black pepper',\n  ' parmesan cheese'],\n ['bacon',\n  ' olive oil',\n  ' onion',\n  ' garlic',\n  ' spinach leaves',\n  ' salt',\n  ' black pepper',\n  ' parmesan cheese'],\n ['bacon',\n  ' olive oil',\n  ' onion',\n  ' garlic',\n  ' spinach leaves',\n  ' salt',\n  ' black pepper',\n  ' parmesan cheese'],\n ['bacon',\n  ' olive oil',\n  ' onion',\n  ' garlic',\n  ' spinach leaves',\n  ' salt',\n  ' black pepper',\n  ' parmesan cheese'],\n ['bacon',\n  ' olive oil',\n  ' onion',\n  ' garlic',\n  ' spinach leaves',\n  ' salt',\n  ' black pepper',\n  ' parmesan cheese'],\n ['bacon',\n  ' olive oil',\n  ' onion',\n  ' garlic',\n  ' spinach leaves',\n  ' salt',\n  ' black pepper',\n  ' parmesan cheese'],\n ['grape tomatoes',\n  ' bell pepper',\n  ' roasted red pepper',\n  ' extra virgin olive oil',\n  ' white wine vinegar',\n  ' ground cumin',\n  ' salt',\n  ' pepper'],\n ['grape tomatoes',\n  ' bell pepper',\n  ' roasted red pepper',\n  ' extra virgin olive oil',\n  ' white wine vinegar',\n  ' ground cumin',\n  ' salt',\n  ' pepper'],\n ['grape tomatoes',\n  ' bell pepper',\n  ' roasted red pepper',\n  ' extra virgin olive oil',\n  ' white wine vinegar',\n  ' ground cumin',\n  ' salt',\n  ' pepper'],\n ['grape tomatoes',\n  ' bell pepper',\n  ' roasted red pepper',\n  ' extra virgin olive oil',\n  ' white wine vinegar',\n  ' ground cumin',\n  ' salt',\n  ' pepper'],\n ['grape tomatoes',\n  ' bell pepper',\n  ' roasted red pepper',\n  ' extra virgin olive oil',\n  ' white wine vinegar',\n  ' ground cumin',\n  ' salt',\n  ' pepper'],\n ['grape tomatoes',\n  ' bell pepper',\n  ' roasted red pepper',\n  ' extra virgin olive oil',\n  ' white wine vinegar',\n  ' ground cumin',\n  ' salt',\n  ' pepper'],\n ['grape tomatoes',\n  ' bell pepper',\n  ' roasted red pepper',\n  ' extra virgin olive oil',\n  ' white wine vinegar',\n  ' ground cumin',\n  ' salt',\n  ' pepper'],\n ['grape tomatoes',\n  ' bell pepper',\n  ' roasted red pepper',\n  ' extra virgin olive oil',\n  ' white wine vinegar',\n  ' ground cumin',\n  ' salt',\n  ' pepper'],\n ['water',\n  ' chicken broth',\n  ' half-and-half',\n  ' salt',\n  ' grits',\n  ' cheddar cheese',\n  ' parmesan cheese',\n  ' butter',\n  ' tabasco sauce',\n  ' white pepper',\n  ' bacon',\n  ' medium shrimp',\n  ' black pepper',\n  ' flour',\n  ' sliced mushrooms',\n  ' green onion',\n  ' garlic',\n  ' fat-free low-sodium chicken broth',\n  ' fresh lemon juice',\n  ' lemon wedge'],\n ['water',\n  ' chicken broth',\n  ' half-and-half',\n  ' salt',\n  ' grits',\n  ' cheddar cheese',\n  ' parmesan cheese',\n  ' butter',\n  ' tabasco sauce',\n  ' white pepper',\n  ' bacon',\n  ' medium shrimp',\n  ' black pepper',\n  ' flour',\n  ' sliced mushrooms',\n  ' green onion',\n  ' garlic',\n  ' fat-free low-sodium chicken broth',\n  ' fresh lemon juice',\n  ' lemon wedge'],\n ['water',\n  ' chicken broth',\n  ' half-and-half',\n  ' salt',\n  ' grits',\n  ' cheddar cheese',\n  ' parmesan cheese',\n  ' butter',\n  ' tabasco sauce',\n  ' white pepper',\n  ' bacon',\n  ' medium shrimp',\n  ' black pepper',\n  ' flour',\n  ' sliced mushrooms',\n  ' green onion',\n  ' garlic',\n  ' fat-free low-sodium chicken broth',\n  ' fresh lemon juice',\n  ' lemon wedge'],\n ['water',\n  ' chicken broth',\n  ' half-and-half',\n  ' salt',\n  ' grits',\n  ' cheddar cheese',\n  ' parmesan cheese',\n  ' butter',\n  ' tabasco sauce',\n  ' white pepper',\n  ' bacon',\n  ' medium shrimp',\n  ' black pepper',\n  ' flour',\n  ' sliced mushrooms',\n  ' green onion',\n  ' garlic',\n  ' fat-free low-sodium chicken broth',\n  ' fresh lemon juice',\n  ' lemon wedge'],\n ['water',\n  ' chicken broth',\n  ' half-and-half',\n  ' salt',\n  ' grits',\n  ' cheddar cheese',\n  ' parmesan cheese',\n  ' butter',\n  ' tabasco sauce',\n  ' white pepper',\n  ' bacon',\n  ' medium shrimp',\n  ' black pepper',\n  ' flour',\n  ' sliced mushrooms',\n  ' green onion',\n  ' garlic',\n  ' fat-free low-sodium chicken broth',\n  ' fresh lemon juice',\n  ' lemon wedge'],\n ['water',\n  ' chicken broth',\n  ' half-and-half',\n  ' salt',\n  ' grits',\n  ' cheddar cheese',\n  ' parmesan cheese',\n  ' butter',\n  ' tabasco sauce',\n  ' white pepper',\n  ' bacon',\n  ' medium shrimp',\n  ' black pepper',\n  ' flour',\n  ' sliced mushrooms',\n  ' green onion',\n  ' garlic',\n  ' fat-free low-sodium chicken broth',\n  ' fresh lemon juice',\n  ' lemon wedge'],\n ['water',\n  ' chicken broth',\n  ' half-and-half',\n  ' salt',\n  ' grits',\n  ' cheddar cheese',\n  ' parmesan cheese',\n  ' butter',\n  ' tabasco sauce',\n  ' white pepper',\n  ' bacon',\n  ' medium shrimp',\n  ' black pepper',\n  ' flour',\n  ' sliced mushrooms',\n  ' green onion',\n  ' garlic',\n  ' fat-free low-sodium chicken broth',\n  ' fresh lemon juice',\n  ' lemon wedge'],\n ['water',\n  ' chicken broth',\n  ' half-and-half',\n  ' salt',\n  ' grits',\n  ' cheddar cheese',\n  ' parmesan cheese',\n  ' butter',\n  ' tabasco sauce',\n  ' white pepper',\n  ' bacon',\n  ' medium shrimp',\n  ' black pepper',\n  ' flour',\n  ' sliced mushrooms',\n  ' green onion',\n  ' garlic',\n  ' fat-free low-sodium chicken broth',\n  ' fresh lemon juice',\n  ' lemon wedge'],\n ['water',\n  ' chicken broth',\n  ' half-and-half',\n  ' salt',\n  ' grits',\n  ' cheddar cheese',\n  ' parmesan cheese',\n  ' butter',\n  ' tabasco sauce',\n  ' white pepper',\n  ' bacon',\n  ' medium shrimp',\n  ' black pepper',\n  ' flour',\n  ' sliced mushrooms',\n  ' green onion',\n  ' garlic',\n  ' fat-free low-sodium chicken broth',\n  ' fresh lemon juice',\n  ' lemon wedge'],\n ['water',\n  ' chicken broth',\n  ' half-and-half',\n  ' salt',\n  ' grits',\n  ' cheddar cheese',\n  ' parmesan cheese',\n  ' butter',\n  ' tabasco sauce',\n  ' white pepper',\n  ' bacon',\n  ' medium shrimp',\n  ' black pepper',\n  ' flour',\n  ' sliced mushrooms',\n  ' green onion',\n  ' garlic',\n  ' fat-free low-sodium chicken broth',\n  ' fresh lemon juice',\n  ' lemon wedge'],\n ['water',\n  ' chicken broth',\n  ' half-and-half',\n  ' salt',\n  ' grits',\n  ' cheddar cheese',\n  ' parmesan cheese',\n  ' butter',\n  ' tabasco sauce',\n  ' white pepper',\n  ' bacon',\n  ' medium shrimp',\n  ' black pepper',\n  ' flour',\n  ' sliced mushrooms',\n  ' green onion',\n  ' garlic',\n  ' fat-free low-sodium chicken broth',\n  ' fresh lemon juice',\n  ' lemon wedge'],\n ['water',\n  ' chicken broth',\n  ' half-and-half',\n  ' salt',\n  ' grits',\n  ' cheddar cheese',\n  ' parmesan cheese',\n  ' butter',\n  ' tabasco sauce',\n  ' white pepper',\n  ' bacon',\n  ' medium shrimp',\n  ' black pepper',\n  ' flour',\n  ' sliced mushrooms',\n  ' green onion',\n  ' garlic',\n  ' fat-free low-sodium chicken broth',\n  ' fresh lemon juice',\n  ' lemon wedge'],\n ['water',\n  ' chicken broth',\n  ' half-and-half',\n  ' salt',\n  ' grits',\n  ' cheddar cheese',\n  ' parmesan cheese',\n  ' butter',\n  ' tabasco sauce',\n  ' white pepper',\n  ' bacon',\n  ' medium shrimp',\n  ' black pepper',\n  ' flour',\n  ' sliced mushrooms',\n  ' green onion',\n  ' garlic',\n  ' fat-free low-sodium chicken broth',\n  ' fresh lemon juice',\n  ' lemon wedge'],\n ['water',\n  ' chicken broth',\n  ' half-and-half',\n  ' salt',\n  ' grits',\n  ' cheddar cheese',\n  ' parmesan cheese',\n  ' butter',\n  ' tabasco sauce',\n  ' white pepper',\n  ' bacon',\n  ' medium shrimp',\n  ' black pepper',\n  ' flour',\n  ' sliced mushrooms',\n  ' green onion',\n  ' garlic',\n  ' fat-free low-sodium chicken broth',\n  ' fresh lemon juice',\n  ' lemon wedge'],\n ['water',\n  ' chicken broth',\n  ' half-and-half',\n  ' salt',\n  ' grits',\n  ' cheddar cheese',\n  ' parmesan cheese',\n  ' butter',\n  ' tabasco sauce',\n  ' white pepper',\n  ' bacon',\n  ' medium shrimp',\n  ' black pepper',\n  ' flour',\n  ' sliced mushrooms',\n  ' green onion',\n  ' garlic',\n  ' fat-free low-sodium chicken broth',\n  ' fresh lemon juice',\n  ' lemon wedge'],\n ['water',\n  ' chicken broth',\n  ' half-and-half',\n  ' salt',\n  ' grits',\n  ' cheddar cheese',\n  ' parmesan cheese',\n  ' butter',\n  ' tabasco sauce',\n  ' white pepper',\n  ' bacon',\n  ' medium shrimp',\n  ' black pepper',\n  ' flour',\n  ' sliced mushrooms',\n  ' green onion',\n  ' garlic',\n  ' fat-free low-sodium chicken broth',\n  ' fresh lemon juice',\n  ' lemon wedge'],\n ['water',\n  ' chicken broth',\n  ' half-and-half',\n  ' salt',\n  ' grits',\n  ' cheddar cheese',\n  ' parmesan cheese',\n  ' butter',\n  ' tabasco sauce',\n  ' white pepper',\n  ' bacon',\n  ' medium shrimp',\n  ' black pepper',\n  ' flour',\n  ' sliced mushrooms',\n  ' green onion',\n  ' garlic',\n  ' fat-free low-sodium chicken broth',\n  ' fresh lemon juice',\n  ' lemon wedge'],\n ['water',\n  ' chicken broth',\n  ' half-and-half',\n  ' salt',\n  ' grits',\n  ' cheddar cheese',\n  ' parmesan cheese',\n  ' butter',\n  ' tabasco sauce',\n  ' white pepper',\n  ' bacon',\n  ' medium shrimp',\n  ' black pepper',\n  ' flour',\n  ' sliced mushrooms',\n  ' green onion',\n  ' garlic',\n  ' fat-free low-sodium chicken broth',\n  ' fresh lemon juice',\n  ' lemon wedge'],\n ['water',\n  ' chicken broth',\n  ' half-and-half',\n  ' salt',\n  ' grits',\n  ' cheddar cheese',\n  ' parmesan cheese',\n  ' butter',\n  ' tabasco sauce',\n  ' white pepper',\n  ' bacon',\n  ' medium shrimp',\n  ' black pepper',\n  ' flour',\n  ' sliced mushrooms',\n  ' green onion',\n  ' garlic',\n  ' fat-free low-sodium chicken broth',\n  ' fresh lemon juice',\n  ' lemon wedge'],\n ['water',\n  ' chicken broth',\n  ' half-and-half',\n  ' salt',\n  ' grits',\n  ' cheddar cheese',\n  ' parmesan cheese',\n  ' butter',\n  ' tabasco sauce',\n  ' white pepper',\n  ' bacon',\n  ' medium shrimp',\n  ' black pepper',\n  ' flour',\n  ' sliced mushrooms',\n  ' green onion',\n  ' garlic',\n  ' fat-free low-sodium chicken broth',\n  ' fresh lemon juice',\n  ' lemon wedge'],\n ['sweet cherries',\n  ' sugar',\n  ' cornstarch',\n  ' fresh lemon juice',\n  ' almond extract',\n  ' brown sugar',\n  ' flour',\n  ' granola cereal',\n  ' butter',\n  ' cinnamon',\n  ' ground nutmeg'],\n ['sweet cherries',\n  ' sugar',\n  ' cornstarch',\n  ' fresh lemon juice',\n  ' almond extract',\n  ' brown sugar',\n  ' flour',\n  ' granola cereal',\n  ' butter',\n  ' cinnamon',\n  ' ground nutmeg'],\n ['sweet cherries',\n  ' sugar',\n  ' cornstarch',\n  ' fresh lemon juice',\n  ' almond extract',\n  ' brown sugar',\n  ' flour',\n  ' granola cereal',\n  ' butter',\n  ' cinnamon',\n  ' ground nutmeg'],\n ['sweet cherries',\n  ' sugar',\n  ' cornstarch',\n  ' fresh lemon juice',\n  ' almond extract',\n  ' brown sugar',\n  ' flour',\n  ' granola cereal',\n  ' butter',\n  ' cinnamon',\n  ' ground nutmeg'],\n ['sweet cherries',\n  ' sugar',\n  ' cornstarch',\n  ' fresh lemon juice',\n  ' almond extract',\n  ' brown sugar',\n  ' flour',\n  ' granola cereal',\n  ' butter',\n  ' cinnamon',\n  ' ground nutmeg'],\n ['sweet cherries',\n  ' sugar',\n  ' cornstarch',\n  ' fresh lemon juice',\n  ' almond extract',\n  ' brown sugar',\n  ' flour',\n  ' granola cereal',\n  ' butter',\n  ' cinnamon',\n  ' ground nutmeg'],\n ['sweet cherries',\n  ' sugar',\n  ' cornstarch',\n  ' fresh lemon juice',\n  ' almond extract',\n  ' brown sugar',\n  ' flour',\n  ' granola cereal',\n  ' butter',\n  ' cinnamon',\n  ' ground nutmeg'],\n ['sweet cherries',\n  ' sugar',\n  ' cornstarch',\n  ' fresh lemon juice',\n  ' almond extract',\n  ' brown sugar',\n  ' flour',\n  ' granola cereal',\n  ' butter',\n  ' cinnamon',\n  ' ground nutmeg'],\n ['sweet cherries',\n  ' sugar',\n  ' cornstarch',\n  ' fresh lemon juice',\n  ' almond extract',\n  ' brown sugar',\n  ' flour',\n  ' granola cereal',\n  ' butter',\n  ' cinnamon',\n  ' ground nutmeg'],\n ['sweet cherries',\n  ' sugar',\n  ' cornstarch',\n  ' fresh lemon juice',\n  ' almond extract',\n  ' brown sugar',\n  ' flour',\n  ' granola cereal',\n  ' butter',\n  ' cinnamon',\n  ' ground nutmeg'],\n ['sweet cherries',\n  ' sugar',\n  ' cornstarch',\n  ' fresh lemon juice',\n  ' almond extract',\n  ' brown sugar',\n  ' flour',\n  ' granola cereal',\n  ' butter',\n  ' cinnamon',\n  ' ground nutmeg'],\n ['sugar', ' water', ' champagne', ' fresh lemon juice', ' egg white'],\n ['sugar', ' water', ' champagne', ' fresh lemon juice', ' egg white'],\n ['sugar', ' water', ' champagne', ' fresh lemon juice', ' egg white'],\n ['sugar', ' water', ' champagne', ' fresh lemon juice', ' egg white'],\n ['sugar', ' water', ' champagne', ' fresh lemon juice', ' egg white'],\n ['ground beef',\n  ' stewed tomatoes',\n  ' pinto beans',\n  ' hominy',\n  ' taco seasoning',\n  ' dry ranch dressing mix'],\n ['ground beef',\n  ' stewed tomatoes',\n  ' pinto beans',\n  ' hominy',\n  ' taco seasoning',\n  ' dry ranch dressing mix'],\n ['ground beef',\n  ' stewed tomatoes',\n  ' pinto beans',\n  ' hominy',\n  ' taco seasoning',\n  ' dry ranch dressing mix'],\n ['ground beef',\n  ' stewed tomatoes',\n  ' pinto beans',\n  ' hominy',\n  ' taco seasoning',\n  ' dry ranch dressing mix'],\n ['ground beef',\n  ' stewed tomatoes',\n  ' pinto beans',\n  ' hominy',\n  ' taco seasoning',\n  ' dry ranch dressing mix'],\n ['ground beef',\n  ' stewed tomatoes',\n  ' pinto beans',\n  ' hominy',\n  ' taco seasoning',\n  ' dry ranch dressing mix'],\n ['plain yogurt',\n  ' raisins',\n  ' walnuts',\n  ' pure vanilla extract',\n  ' honey',\n  ' orange',\n  ' zest of',\n  ' orange juice',\n  ' orange',\n  ' orange zest'],\n ['plain yogurt',\n  ' raisins',\n  ' walnuts',\n  ' pure vanilla extract',\n  ' honey',\n  ' orange',\n  ' zest of',\n  ' orange juice',\n  ' orange',\n  ' orange zest'],\n ['plain yogurt',\n  ' raisins',\n  ' walnuts',\n  ' pure vanilla extract',\n  ' honey',\n  ' orange',\n  ' zest of',\n  ' orange juice',\n  ' orange',\n  ' orange zest'],\n ['plain yogurt',\n  ' raisins',\n  ' walnuts',\n  ' pure vanilla extract',\n  ' honey',\n  ' orange',\n  ' zest of',\n  ' orange juice',\n  ' orange',\n  ' orange zest'],\n ['plain yogurt',\n  ' raisins',\n  ' walnuts',\n  ' pure vanilla extract',\n  ' honey',\n  ' orange',\n  ' zest of',\n  ' orange juice',\n  ' orange',\n  ' orange zest'],\n ['plain yogurt',\n  ' raisins',\n  ' walnuts',\n  ' pure vanilla extract',\n  ' honey',\n  ' orange',\n  ' zest of',\n  ' orange juice',\n  ' orange',\n  ' orange zest'],\n ['plain yogurt',\n  ' raisins',\n  ' walnuts',\n  ' pure vanilla extract',\n  ' honey',\n  ' orange',\n  ' zest of',\n  ' orange juice',\n  ' orange',\n  ' orange zest'],\n ['plain yogurt',\n  ' raisins',\n  ' walnuts',\n  ' pure vanilla extract',\n  ' honey',\n  ' orange',\n  ' zest of',\n  ' orange juice',\n  ' orange',\n  ' orange zest'],\n ['plain yogurt',\n  ' raisins',\n  ' walnuts',\n  ' pure vanilla extract',\n  ' honey',\n  ' orange',\n  ' zest of',\n  ' orange juice',\n  ' orange',\n  ' orange zest'],\n ['plain yogurt',\n  ' raisins',\n  ' walnuts',\n  ' pure vanilla extract',\n  ' honey',\n  ' orange',\n  ' zest of',\n  ' orange juice',\n  ' orange',\n  ' orange zest'],\n ['butter',\n  ' olive oil',\n  ' onions',\n  ' coarse salt',\n  ' chicken stock',\n  ' parmigiano',\n  ' black peppercorns',\n  ' white peppercorns',\n  ' coriander seeds',\n  ' nutmeg',\n  ' garlic',\n  ' crusty bread'],\n ['butter',\n  ' olive oil',\n  ' onions',\n  ' coarse salt',\n  ' chicken stock',\n  ' parmigiano',\n  ' black peppercorns',\n  ' white peppercorns',\n  ' coriander seeds',\n  ' nutmeg',\n  ' garlic',\n  ' crusty bread'],\n ['butter',\n  ' olive oil',\n  ' onions',\n  ' coarse salt',\n  ' chicken stock',\n  ' parmigiano',\n  ' black peppercorns',\n  ' white peppercorns',\n  ' coriander seeds',\n  ' nutmeg',\n  ' garlic',\n  ' crusty bread'],\n ['butter',\n  ' olive oil',\n  ' onions',\n  ' coarse salt',\n  ' chicken stock',\n  ' parmigiano',\n  ' black peppercorns',\n  ' white peppercorns',\n  ' coriander seeds',\n  ' nutmeg',\n  ' garlic',\n  ' crusty bread'],\n ['butter',\n  ' olive oil',\n  ' onions',\n  ' coarse salt',\n  ' chicken stock',\n  ' parmigiano',\n  ' black peppercorns',\n  ' white peppercorns',\n  ' coriander seeds',\n  ' nutmeg',\n  ' garlic',\n  ' crusty bread'],\n ['butter',\n  ' olive oil',\n  ' onions',\n  ' coarse salt',\n  ' chicken stock',\n  ' parmigiano',\n  ' black peppercorns',\n  ' white peppercorns',\n  ' coriander seeds',\n  ' nutmeg',\n  ' garlic',\n  ' crusty bread'],\n ['butter',\n  ' olive oil',\n  ' onions',\n  ' coarse salt',\n  ' chicken stock',\n  ' parmigiano',\n  ' black peppercorns',\n  ' white peppercorns',\n  ' coriander seeds',\n  ' nutmeg',\n  ' garlic',\n  ' crusty bread'],\n ['butter',\n  ' olive oil',\n  ' onions',\n  ' coarse salt',\n  ' chicken stock',\n  ' parmigiano',\n  ' black peppercorns',\n  ' white peppercorns',\n  ' coriander seeds',\n  ' nutmeg',\n  ' garlic',\n  ' crusty bread'],\n ['butter',\n  ' olive oil',\n  ' onions',\n  ' coarse salt',\n  ' chicken stock',\n  ' parmigiano',\n  ' black peppercorns',\n  ' white peppercorns',\n  ' coriander seeds',\n  ' nutmeg',\n  ' garlic',\n  ' crusty bread'],\n ['butter',\n  ' olive oil',\n  ' onions',\n  ' coarse salt',\n  ' chicken stock',\n  ' parmigiano',\n  ' black peppercorns',\n  ' white peppercorns',\n  ' coriander seeds',\n  ' nutmeg',\n  ' garlic',\n  ' crusty bread'],\n ['butter',\n  ' olive oil',\n  ' onions',\n  ' coarse salt',\n  ' chicken stock',\n  ' parmigiano',\n  ' black peppercorns',\n  ' white peppercorns',\n  ' coriander seeds',\n  ' nutmeg',\n  ' garlic',\n  ' crusty bread'],\n ['butter',\n  ' olive oil',\n  ' onions',\n  ' coarse salt',\n  ' chicken stock',\n  ' parmigiano',\n  ' black peppercorns',\n  ' white peppercorns',\n  ' coriander seeds',\n  ' nutmeg',\n  ' garlic',\n  ' crusty bread'],\n ['orecchiette',\n  ' bacon',\n  ' onion',\n  ' frozen peas',\n  ' garbanzo beans',\n  ' of fresh mint',\n  ' parmesan cheese',\n  ' extra virgin olive oil'],\n ['orecchiette',\n  ' bacon',\n  ' onion',\n  ' frozen peas',\n  ' garbanzo beans',\n  ' of fresh mint',\n  ' parmesan cheese',\n  ' extra virgin olive oil'],\n ['orecchiette',\n  ' bacon',\n  ' onion',\n  ' frozen peas',\n  ' garbanzo beans',\n  ' of fresh mint',\n  ' parmesan cheese',\n  ' extra virgin olive oil'],\n ['orecchiette',\n  ' bacon',\n  ' onion',\n  ' frozen peas',\n  ' garbanzo beans',\n  ' of fresh mint',\n  ' parmesan cheese',\n  ' extra virgin olive oil'],\n ['orecchiette',\n  ' bacon',\n  ' onion',\n  ' frozen peas',\n  ' garbanzo beans',\n  ' of fresh mint',\n  ' parmesan cheese',\n  ' extra virgin olive oil'],\n ['orecchiette',\n  ' bacon',\n  ' onion',\n  ' frozen peas',\n  ' garbanzo beans',\n  ' of fresh mint',\n  ' parmesan cheese',\n  ' extra virgin olive oil'],\n ['orecchiette',\n  ' bacon',\n  ' onion',\n  ' frozen peas',\n  ' garbanzo beans',\n  ' of fresh mint',\n  ' parmesan cheese',\n  ' extra virgin olive oil'],\n ['orecchiette',\n  ' bacon',\n  ' onion',\n  ' frozen peas',\n  ' garbanzo beans',\n  ' of fresh mint',\n  ' parmesan cheese',\n  ' extra virgin olive oil'],\n ['flour',\n  ' baking soda',\n  ' salt',\n  ' butter',\n  ' sugar',\n  ' eggs',\n  ' buttermilk',\n  ' banana',\n  ' vanilla extract',\n  ' banana extract',\n  ' walnuts'],\n ['flour',\n  ' baking soda',\n  ' salt',\n  ' butter',\n  ' sugar',\n  ' eggs',\n  ' buttermilk',\n  ' banana',\n  ' vanilla extract',\n  ' banana extract',\n  ' walnuts'],\n ['flour',\n  ' baking soda',\n  ' salt',\n  ' butter',\n  ' sugar',\n  ' eggs',\n  ' buttermilk',\n  ' banana',\n  ' vanilla extract',\n  ' banana extract',\n  ' walnuts'],\n ['flour',\n  ' baking soda',\n  ' salt',\n  ' butter',\n  ' sugar',\n  ' eggs',\n  ' buttermilk',\n  ' banana',\n  ' vanilla extract',\n  ' banana extract',\n  ' walnuts'],\n ['flour',\n  ' baking soda',\n  ' salt',\n  ' butter',\n  ' sugar',\n  ' eggs',\n  ' buttermilk',\n  ' banana',\n  ' vanilla extract',\n  ' banana extract',\n  ' walnuts'],\n ['flour',\n  ' baking soda',\n  ' salt',\n  ' butter',\n  ' sugar',\n  ' eggs',\n  ' buttermilk',\n  ' banana',\n  ' vanilla extract',\n  ' banana extract',\n  ' walnuts'],\n ['flour',\n  ' baking soda',\n  ' salt',\n  ' butter',\n  ' sugar',\n  ' eggs',\n  ' buttermilk',\n  ' banana',\n  ' vanilla extract',\n  ' banana extract',\n  ' walnuts'],\n ['flour',\n  ' baking soda',\n  ' salt',\n  ' butter',\n  ' sugar',\n  ' eggs',\n  ' buttermilk',\n  ' banana',\n  ' vanilla extract',\n  ' banana extract',\n  ' walnuts'],\n ['flour',\n  ' baking soda',\n  ' salt',\n  ' butter',\n  ' sugar',\n  ' eggs',\n  ' buttermilk',\n  ' banana',\n  ' vanilla extract',\n  ' banana extract',\n  ' walnuts'],\n ['flour',\n  ' baking soda',\n  ' salt',\n  ' butter',\n  ' sugar',\n  ' eggs',\n  ' buttermilk',\n  ' banana',\n  ' vanilla extract',\n  ' banana extract',\n  ' walnuts'],\n ['flour',\n  ' baking soda',\n  ' salt',\n  ' butter',\n  ' sugar',\n  ' eggs',\n  ' buttermilk',\n  ' banana',\n  ' vanilla extract',\n  ' banana extract',\n  ' walnuts'],\n ['linguine',\n  ' olive oil',\n  ' dry white wine',\n  ' button mushrooms',\n  ' fresh shiitake mushrooms',\n  ' oyster mushrooms',\n  ' garlic',\n  ' low-fat milk',\n  ' fresh parsley',\n  ' dijon mustard',\n  ' dried thyme',\n  ' white pepper',\n  ' salt',\n  ' cornstarch',\n  ' water'],\n ['linguine',\n  ' olive oil',\n  ' dry white wine',\n  ' button mushrooms',\n  ' fresh shiitake mushrooms',\n  ' oyster mushrooms',\n  ' garlic',\n  ' low-fat milk',\n  ' fresh parsley',\n  ' dijon mustard',\n  ' dried thyme',\n  ' white pepper',\n  ' salt',\n  ' cornstarch',\n  ' water'],\n ['linguine',\n  ' olive oil',\n  ' dry white wine',\n  ' button mushrooms',\n  ' fresh shiitake mushrooms',\n  ' oyster mushrooms',\n  ' garlic',\n  ' low-fat milk',\n  ' fresh parsley',\n  ' dijon mustard',\n  ' dried thyme',\n  ' white pepper',\n  ' salt',\n  ' cornstarch',\n  ' water'],\n ['linguine',\n  ' olive oil',\n  ' dry white wine',\n  ' button mushrooms',\n  ' fresh shiitake mushrooms',\n  ' oyster mushrooms',\n  ' garlic',\n  ' low-fat milk',\n  ' fresh parsley',\n  ' dijon mustard',\n  ' dried thyme',\n  ' white pepper',\n  ' salt',\n  ' cornstarch',\n  ' water'],\n ['linguine',\n  ' olive oil',\n  ' dry white wine',\n  ' button mushrooms',\n  ' fresh shiitake mushrooms',\n  ' oyster mushrooms',\n  ' garlic',\n  ' low-fat milk',\n  ' fresh parsley',\n  ' dijon mustard',\n  ' dried thyme',\n  ' white pepper',\n  ' salt',\n  ' cornstarch',\n  ' water'],\n ['linguine',\n  ' olive oil',\n  ' dry white wine',\n  ' button mushrooms',\n  ' fresh shiitake mushrooms',\n  ' oyster mushrooms',\n  ' garlic',\n  ' low-fat milk',\n  ' fresh parsley',\n  ' dijon mustard',\n  ' dried thyme',\n  ' white pepper',\n  ' salt',\n  ' cornstarch',\n  ' water'],\n ['linguine',\n  ' olive oil',\n  ' dry white wine',\n  ' button mushrooms',\n  ' fresh shiitake mushrooms',\n  ' oyster mushrooms',\n  ' garlic',\n  ' low-fat milk',\n  ' fresh parsley',\n  ' dijon mustard',\n  ' dried thyme',\n  ' white pepper',\n  ' salt',\n  ' cornstarch',\n  ' water'],\n ['linguine',\n  ' olive oil',\n  ' dry white wine',\n  ' button mushrooms',\n  ' fresh shiitake mushrooms',\n  ' oyster mushrooms',\n  ' garlic',\n  ' low-fat milk',\n  ' fresh parsley',\n  ' dijon mustard',\n  ' dried thyme',\n  ' white pepper',\n  ' salt',\n  ' cornstarch',\n  ' water'],\n ['linguine',\n  ' olive oil',\n  ' dry white wine',\n  ' button mushrooms',\n  ' fresh shiitake mushrooms',\n  ' oyster mushrooms',\n  ' garlic',\n  ' low-fat milk',\n  ' fresh parsley',\n  ' dijon mustard',\n  ' dried thyme',\n  ' white pepper',\n  ' salt',\n  ' cornstarch',\n  ' water'],\n ['linguine',\n  ' olive oil',\n  ' dry white wine',\n  ' button mushrooms',\n  ' fresh shiitake mushrooms',\n  ' oyster mushrooms',\n  ' garlic',\n  ' low-fat milk',\n  ' fresh parsley',\n  ' dijon mustard',\n  ' dried thyme',\n  ' white pepper',\n  ' salt',\n  ' cornstarch',\n  ' water'],\n ['linguine',\n  ' olive oil',\n  ' dry white wine',\n  ' button mushrooms',\n  ' fresh shiitake mushrooms',\n  ' oyster mushrooms',\n  ' garlic',\n  ' low-fat milk',\n  ' fresh parsley',\n  ' dijon mustard',\n  ' dried thyme',\n  ' white pepper',\n  ' salt',\n  ' cornstarch',\n  ' water'],\n ['linguine',\n  ' olive oil',\n  ' dry white wine',\n  ' button mushrooms',\n  ' fresh shiitake mushrooms',\n  ' oyster mushrooms',\n  ' garlic',\n  ' low-fat milk',\n  ' fresh parsley',\n  ' dijon mustard',\n  ' dried thyme',\n  ' white pepper',\n  ' salt',\n  ' cornstarch',\n  ' water'],\n ['linguine',\n  ' olive oil',\n  ' dry white wine',\n  ' button mushrooms',\n  ' fresh shiitake mushrooms',\n  ' oyster mushrooms',\n  ' garlic',\n  ' low-fat milk',\n  ' fresh parsley',\n  ' dijon mustard',\n  ' dried thyme',\n  ' white pepper',\n  ' salt',\n  ' cornstarch',\n  ' water'],\n ['linguine',\n  ' olive oil',\n  ' dry white wine',\n  ' button mushrooms',\n  ' fresh shiitake mushrooms',\n  ' oyster mushrooms',\n  ' garlic',\n  ' low-fat milk',\n  ' fresh parsley',\n  ' dijon mustard',\n  ' dried thyme',\n  ' white pepper',\n  ' salt',\n  ' cornstarch',\n  ' water'],\n ['linguine',\n  ' olive oil',\n  ' dry white wine',\n  ' button mushrooms',\n  ' fresh shiitake mushrooms',\n  ' oyster mushrooms',\n  ' garlic',\n  ' low-fat milk',\n  ' fresh parsley',\n  ' dijon mustard',\n  ' dried thyme',\n  ' white pepper',\n  ' salt',\n  ' cornstarch',\n  ' water'],\n ['\"confectioners sugar\"',\n  ' butter',\n  ' egg',\n  ' vanilla',\n  ' all-purpose flour',\n  ' oat flour',\n  ' baking soda',\n  ' powdered sugar',\n  ' milk'],\n ['\"confectioners sugar\"',\n  ' butter',\n  ' egg',\n  ' vanilla',\n  ' all-purpose flour',\n  ' oat flour',\n  ' baking soda',\n  ' powdered sugar',\n  ' milk'],\n ['\"confectioners sugar\"',\n  ' butter',\n  ' egg',\n  ' vanilla',\n  ' all-purpose flour',\n  ' oat flour',\n  ' baking soda',\n  ' powdered sugar',\n  ' milk'],\n ['\"confectioners sugar\"',\n  ' butter',\n  ' egg',\n  ' vanilla',\n  ' all-purpose flour',\n  ' oat flour',\n  ' baking soda',\n  ' powdered sugar',\n  ' milk'],\n ['\"confectioners sugar\"',\n  ' butter',\n  ' egg',\n  ' vanilla',\n  ' all-purpose flour',\n  ' oat flour',\n  ' baking soda',\n  ' powdered sugar',\n  ' milk'],\n ['\"confectioners sugar\"',\n  ' butter',\n  ' egg',\n  ' vanilla',\n  ' all-purpose flour',\n  ' oat flour',\n  ' baking soda',\n  ' powdered sugar',\n  ' milk'],\n ['\"confectioners sugar\"',\n  ' butter',\n  ' egg',\n  ' vanilla',\n  ' all-purpose flour',\n  ' oat flour',\n  ' baking soda',\n  ' powdered sugar',\n  ' milk'],\n ['\"confectioners sugar\"',\n  ' butter',\n  ' egg',\n  ' vanilla',\n  ' all-purpose flour',\n  ' oat flour',\n  ' baking soda',\n  ' powdered sugar',\n  ' milk'],\n ['\"confectioners sugar\"',\n  ' butter',\n  ' egg',\n  ' vanilla',\n  ' all-purpose flour',\n  ' oat flour',\n  ' baking soda',\n  ' powdered sugar',\n  ' milk'],\n ['cooked pork',\n  ' vegetable oil',\n  ' garlic cloves',\n  ' onion',\n  ' soy sauce',\n  ' fish sauce',\n  ' cabbage',\n  ' carrots',\n  ' celery',\n  ' shiitake mushrooms',\n  ' chicken broth',\n  ' rice noodles',\n  ' green onion',\n  ' limes'],\n ['cooked pork',\n  ' vegetable oil',\n  ' garlic cloves',\n  ' onion',\n  ' soy sauce',\n  ' fish sauce',\n  ' cabbage',\n  ' carrots',\n  ' celery',\n  ' shiitake mushrooms',\n  ' chicken broth',\n  ' rice noodles',\n  ' green onion',\n  ' limes'],\n ['cooked pork',\n  ' vegetable oil',\n  ' garlic cloves',\n  ' onion',\n  ' soy sauce',\n  ' fish sauce',\n  ' cabbage',\n  ' carrots',\n  ' celery',\n  ' shiitake mushrooms',\n  ' chicken broth',\n  ' rice noodles',\n  ' green onion',\n  ' limes'],\n ['cooked pork',\n  ' vegetable oil',\n  ' garlic cloves',\n  ' onion',\n  ' soy sauce',\n  ' fish sauce',\n  ' cabbage',\n  ' carrots',\n  ' celery',\n  ' shiitake mushrooms',\n  ' chicken broth',\n  ' rice noodles',\n  ' green onion',\n  ' limes'],\n ['cooked pork',\n  ' vegetable oil',\n  ' garlic cloves',\n  ' onion',\n  ' soy sauce',\n  ' fish sauce',\n  ' cabbage',\n  ' carrots',\n  ' celery',\n  ' shiitake mushrooms',\n  ' chicken broth',\n  ' rice noodles',\n  ' green onion',\n  ' limes'],\n ['cooked pork',\n  ' vegetable oil',\n  ' garlic cloves',\n  ' onion',\n  ' soy sauce',\n  ' fish sauce',\n  ' cabbage',\n  ' carrots',\n  ' celery',\n  ' shiitake mushrooms',\n  ' chicken broth',\n  ' rice noodles',\n  ' green onion',\n  ' limes'],\n ['cooked pork',\n  ' vegetable oil',\n  ' garlic cloves',\n  ' onion',\n  ' soy sauce',\n  ' fish sauce',\n  ' cabbage',\n  ' carrots',\n  ' celery',\n  ' shiitake mushrooms',\n  ' chicken broth',\n  ' rice noodles',\n  ' green onion',\n  ' limes'],\n ['cooked pork',\n  ' vegetable oil',\n  ' garlic cloves',\n  ' onion',\n  ' soy sauce',\n  ' fish sauce',\n  ' cabbage',\n  ' carrots',\n  ' celery',\n  ' shiitake mushrooms',\n  ' chicken broth',\n  ' rice noodles',\n  ' green onion',\n  ' limes'],\n ['cooked pork',\n  ' vegetable oil',\n  ' garlic cloves',\n  ' onion',\n  ' soy sauce',\n  ' fish sauce',\n  ' cabbage',\n  ' carrots',\n  ' celery',\n  ' shiitake mushrooms',\n  ' chicken broth',\n  ' rice noodles',\n  ' green onion',\n  ' limes'],\n ['cooked pork',\n  ' vegetable oil',\n  ' garlic cloves',\n  ' onion',\n  ' soy sauce',\n  ' fish sauce',\n  ' cabbage',\n  ' carrots',\n  ' celery',\n  ' shiitake mushrooms',\n  ' chicken broth',\n  ' rice noodles',\n  ' green onion',\n  ' limes'],\n ['cooked pork',\n  ' vegetable oil',\n  ' garlic cloves',\n  ' onion',\n  ' soy sauce',\n  ' fish sauce',\n  ' cabbage',\n  ' carrots',\n  ' celery',\n  ' shiitake mushrooms',\n  ' chicken broth',\n  ' rice noodles',\n  ' green onion',\n  ' limes'],\n ['cooked pork',\n  ' vegetable oil',\n  ' garlic cloves',\n  ' onion',\n  ' soy sauce',\n  ' fish sauce',\n  ' cabbage',\n  ' carrots',\n  ' celery',\n  ' shiitake mushrooms',\n  ' chicken broth',\n  ' rice noodles',\n  ' green onion',\n  ' limes'],\n ['cooked pork',\n  ' vegetable oil',\n  ' garlic cloves',\n  ' onion',\n  ' soy sauce',\n  ' fish sauce',\n  ' cabbage',\n  ' carrots',\n  ' celery',\n  ' shiitake mushrooms',\n  ' chicken broth',\n  ' rice noodles',\n  ' green onion',\n  ' limes'],\n ['cooked pork',\n  ' vegetable oil',\n  ' garlic cloves',\n  ' onion',\n  ' soy sauce',\n  ' fish sauce',\n  ' cabbage',\n  ' carrots',\n  ' celery',\n  ' shiitake mushrooms',\n  ' chicken broth',\n  ' rice noodles',\n  ' green onion',\n  ' limes'],\n ['all-purpose flour',\n  ' onion',\n  ' celery',\n  ' tomato paste',\n  ' cream-style corn',\n  ' vegetable oil',\n  ' bell pepper',\n  ' hot water',\n  ' shrimp',\n  ' tabasco sauce'],\n ['all-purpose flour',\n  ' onion',\n  ' celery',\n  ' tomato paste',\n  ' cream-style corn',\n  ' vegetable oil',\n  ' bell pepper',\n  ' hot water',\n  ' shrimp',\n  ' tabasco sauce'],\n ['all-purpose flour',\n  ' onion',\n  ' celery',\n  ' tomato paste',\n  ' cream-style corn',\n  ' vegetable oil',\n  ' bell pepper',\n  ' hot water',\n  ' shrimp',\n  ' tabasco sauce'],\n ['all-purpose flour',\n  ' onion',\n  ' celery',\n  ' tomato paste',\n  ' cream-style corn',\n  ' vegetable oil',\n  ' bell pepper',\n  ' hot water',\n  ' shrimp',\n  ' tabasco sauce'],\n ['all-purpose flour',\n  ' onion',\n  ' celery',\n  ' tomato paste',\n  ' cream-style corn',\n  ' vegetable oil',\n  ' bell pepper',\n  ' hot water',\n  ' shrimp',\n  ' tabasco sauce'],\n ['all-purpose flour',\n  ' onion',\n  ' celery',\n  ' tomato paste',\n  ' cream-style corn',\n  ' vegetable oil',\n  ' bell pepper',\n  ' hot water',\n  ' shrimp',\n  ' tabasco sauce'],\n ['all-purpose flour',\n  ' onion',\n  ' celery',\n  ' tomato paste',\n  ' cream-style corn',\n  ' vegetable oil',\n  ' bell pepper',\n  ' hot water',\n  ' shrimp',\n  ' tabasco sauce'],\n ['all-purpose flour',\n  ' onion',\n  ' celery',\n  ' tomato paste',\n  ' cream-style corn',\n  ' vegetable oil',\n  ' bell pepper',\n  ' hot water',\n  ' shrimp',\n  ' tabasco sauce'],\n ['all-purpose flour',\n  ' onion',\n  ' celery',\n  ' tomato paste',\n  ' cream-style corn',\n  ' vegetable oil',\n  ' bell pepper',\n  ' hot water',\n  ' shrimp',\n  ' tabasco sauce'],\n ['all-purpose flour',\n  ' onion',\n  ' celery',\n  ' tomato paste',\n  ' cream-style corn',\n  ' vegetable oil',\n  ' bell pepper',\n  ' hot water',\n  ' shrimp',\n  ' tabasco sauce'],\n ['apples',\n  ' almonds',\n  ' bananas',\n  ' eggs',\n  ' vanilla extract',\n  ' cinnamon',\n  ' whipping cream'],\n ['apples',\n  ' almonds',\n  ' bananas',\n  ' eggs',\n  ' vanilla extract',\n  ' cinnamon',\n  ' whipping cream'],\n ['apples',\n  ' almonds',\n  ' bananas',\n  ' eggs',\n  ' vanilla extract',\n  ' cinnamon',\n  ' whipping cream'],\n ['apples',\n  ' almonds',\n  ' bananas',\n  ' eggs',\n  ' vanilla extract',\n  ' cinnamon',\n  ' whipping cream'],\n ['apples',\n  ' almonds',\n  ' bananas',\n  ' eggs',\n  ' vanilla extract',\n  ' cinnamon',\n  ' whipping cream'],\n ['apples',\n  ' almonds',\n  ' bananas',\n  ' eggs',\n  ' vanilla extract',\n  ' cinnamon',\n  ' whipping cream'],\n ['apples',\n  ' almonds',\n  ' bananas',\n  ' eggs',\n  ' vanilla extract',\n  ' cinnamon',\n  ' whipping cream'],\n ['chicken breasts',\n  ' bell peppers',\n  ' mushroom',\n  ' tomato bruschetta topping',\n  ' chicken stock',\n  ' angel hair pasta'],\n ['chicken breasts',\n  ' bell peppers',\n  ' mushroom',\n  ' tomato bruschetta topping',\n  ' chicken stock',\n  ' angel hair pasta'],\n ['chicken breasts',\n  ' bell peppers',\n  ' mushroom',\n  ' tomato bruschetta topping',\n  ' chicken stock',\n  ' angel hair pasta'],\n ['chicken breasts',\n  ' bell peppers',\n  ' mushroom',\n  ' tomato bruschetta topping',\n  ' chicken stock',\n  ' angel hair pasta'],\n ['chicken breasts',\n  ' bell peppers',\n  ' mushroom',\n  ' tomato bruschetta topping',\n  ' chicken stock',\n  ' angel hair pasta'],\n ['chicken breasts',\n  ' bell peppers',\n  ' mushroom',\n  ' tomato bruschetta topping',\n  ' chicken stock',\n  ' angel hair pasta'],\n ['praline syrup',\n  ' hazelnut syrup',\n  ' maple syrup',\n  ' lemon syrup',\n  ' honey',\n  ' espresso',\n  ' milk',\n  ' cinnamon',\n  ' cinnamon stick'],\n ['praline syrup',\n  ' hazelnut syrup',\n  ' maple syrup',\n  ' lemon syrup',\n  ' honey',\n  ' espresso',\n  ' milk',\n  ' cinnamon',\n  ' cinnamon stick'],\n ['praline syrup',\n  ' hazelnut syrup',\n  ' maple syrup',\n  ' lemon syrup',\n  ' honey',\n  ' espresso',\n  ' milk',\n  ' cinnamon',\n  ' cinnamon stick'],\n ['praline syrup',\n  ' hazelnut syrup',\n  ' maple syrup',\n  ' lemon syrup',\n  ' honey',\n  ' espresso',\n  ' milk',\n  ' cinnamon',\n  ' cinnamon stick'],\n ['praline syrup',\n  ' hazelnut syrup',\n  ' maple syrup',\n  ' lemon syrup',\n  ' honey',\n  ' espresso',\n  ' milk',\n  ' cinnamon',\n  ' cinnamon stick'],\n ['praline syrup',\n  ' hazelnut syrup',\n  ' maple syrup',\n  ' lemon syrup',\n  ' honey',\n  ' espresso',\n  ' milk',\n  ' cinnamon',\n  ' cinnamon stick'],\n ['praline syrup',\n  ' hazelnut syrup',\n  ' maple syrup',\n  ' lemon syrup',\n  ' honey',\n  ' espresso',\n  ' milk',\n  ' cinnamon',\n  ' cinnamon stick'],\n ['praline syrup',\n  ' hazelnut syrup',\n  ' maple syrup',\n  ' lemon syrup',\n  ' honey',\n  ' espresso',\n  ' milk',\n  ' cinnamon',\n  ' cinnamon stick'],\n ['praline syrup',\n  ' hazelnut syrup',\n  ' maple syrup',\n  ' lemon syrup',\n  ' honey',\n  ' espresso',\n  ' milk',\n  ' cinnamon',\n  ' cinnamon stick'],\n ['fresh cilantro',\n  ' slivered almonds',\n  ' jalapeno pepper',\n  ' salt',\n  ' black pepper',\n  ' garlic clove',\n  ' plain yogurt',\n  ' fresh lime juice',\n  ' flank steak'],\n ['fresh cilantro',\n  ' slivered almonds',\n  ' jalapeno pepper',\n  ' salt',\n  ' black pepper',\n  ' garlic clove',\n  ' plain yogurt',\n  ' fresh lime juice',\n  ' flank steak'],\n ['fresh cilantro',\n  ' slivered almonds',\n  ' jalapeno pepper',\n  ' salt',\n  ' black pepper',\n  ' garlic clove',\n  ' plain yogurt',\n  ' fresh lime juice',\n  ' flank steak'],\n ['fresh cilantro',\n  ' slivered almonds',\n  ' jalapeno pepper',\n  ' salt',\n  ' black pepper',\n  ' garlic clove',\n  ' plain yogurt',\n  ' fresh lime juice',\n  ' flank steak'],\n ['fresh cilantro',\n  ' slivered almonds',\n  ' jalapeno pepper',\n  ' salt',\n  ' black pepper',\n  ' garlic clove',\n  ' plain yogurt',\n  ' fresh lime juice',\n  ' flank steak'],\n ['fresh cilantro',\n  ' slivered almonds',\n  ' jalapeno pepper',\n  ' salt',\n  ' black pepper',\n  ' garlic clove',\n  ' plain yogurt',\n  ' fresh lime juice',\n  ' flank steak'],\n ['fresh cilantro',\n  ' slivered almonds',\n  ' jalapeno pepper',\n  ' salt',\n  ' black pepper',\n  ' garlic clove',\n  ' plain yogurt',\n  ' fresh lime juice',\n  ' flank steak'],\n ['fresh cilantro',\n  ' slivered almonds',\n  ' jalapeno pepper',\n  ' salt',\n  ' black pepper',\n  ' garlic clove',\n  ' plain yogurt',\n  ' fresh lime juice',\n  ' flank steak'],\n ['fresh cilantro',\n  ' slivered almonds',\n  ' jalapeno pepper',\n  ' salt',\n  ' black pepper',\n  ' garlic clove',\n  ' plain yogurt',\n  ' fresh lime juice',\n  ' flank steak'],\n ['yellow onions',\n  ' green onions',\n  ' bell pepper',\n  ' celery',\n  ' fresh parsley',\n  ' butter',\n  ' flour',\n  ' crawfish',\n  ' jalapeno relish',\n  ' velveeta cheese',\n  ' half-and-half',\n  ' fettuccine pasta',\n  ' parmesan cheese'],\n ['yellow onions',\n  ' green onions',\n  ' bell pepper',\n  ' celery',\n  ' fresh parsley',\n  ' butter',\n  ' flour',\n  ' crawfish',\n  ' jalapeno relish',\n  ' velveeta cheese',\n  ' half-and-half',\n  ' fettuccine pasta',\n  ' parmesan cheese'],\n ['yellow onions',\n  ' green onions',\n  ' bell pepper',\n  ' celery',\n  ' fresh parsley',\n  ' butter',\n  ' flour',\n  ' crawfish',\n  ' jalapeno relish',\n  ' velveeta cheese',\n  ' half-and-half',\n  ' fettuccine pasta',\n  ' parmesan cheese'],\n ['yellow onions',\n  ' green onions',\n  ' bell pepper',\n  ' celery',\n  ' fresh parsley',\n  ' butter',\n  ' flour',\n  ' crawfish',\n  ' jalapeno relish',\n  ' velveeta cheese',\n  ' half-and-half',\n  ' fettuccine pasta',\n  ' parmesan cheese'],\n ['yellow onions',\n  ' green onions',\n  ' bell pepper',\n  ' celery',\n  ' fresh parsley',\n  ' butter',\n  ' flour',\n  ' crawfish',\n  ' jalapeno relish',\n  ' velveeta cheese',\n  ' half-and-half',\n  ' fettuccine pasta',\n  ' parmesan cheese'],\n ['yellow onions',\n  ' green onions',\n  ' bell pepper',\n  ' celery',\n  ' fresh parsley',\n  ' butter',\n  ' flour',\n  ' crawfish',\n  ' jalapeno relish',\n  ' velveeta cheese',\n  ' half-and-half',\n  ' fettuccine pasta',\n  ' parmesan cheese'],\n ['yellow onions',\n  ' green onions',\n  ' bell pepper',\n  ' celery',\n  ' fresh parsley',\n  ' butter',\n  ' flour',\n  ' crawfish',\n  ' jalapeno relish',\n  ' velveeta cheese',\n  ' half-and-half',\n  ' fettuccine pasta',\n  ' parmesan cheese'],\n ['yellow onions',\n  ' green onions',\n  ' bell pepper',\n  ' celery',\n  ' fresh parsley',\n  ' butter',\n  ' flour',\n  ' crawfish',\n  ' jalapeno relish',\n  ' velveeta cheese',\n  ' half-and-half',\n  ' fettuccine pasta',\n  ' parmesan cheese'],\n ['yellow onions',\n  ' green onions',\n  ' bell pepper',\n  ' celery',\n  ' fresh parsley',\n  ' butter',\n  ' flour',\n  ' crawfish',\n  ' jalapeno relish',\n  ' velveeta cheese',\n  ' half-and-half',\n  ' fettuccine pasta',\n  ' parmesan cheese'],\n ['yellow onions',\n  ' green onions',\n  ' bell pepper',\n  ' celery',\n  ' fresh parsley',\n  ' butter',\n  ' flour',\n  ' crawfish',\n  ' jalapeno relish',\n  ' velveeta cheese',\n  ' half-and-half',\n  ' fettuccine pasta',\n  ' parmesan cheese'],\n ['yellow onions',\n  ' green onions',\n  ' bell pepper',\n  ' celery',\n  ' fresh parsley',\n  ' butter',\n  ' flour',\n  ' crawfish',\n  ' jalapeno relish',\n  ' velveeta cheese',\n  ' half-and-half',\n  ' fettuccine pasta',\n  ' parmesan cheese'],\n ['yellow onions',\n  ' green onions',\n  ' bell pepper',\n  ' celery',\n  ' fresh parsley',\n  ' butter',\n  ' flour',\n  ' crawfish',\n  ' jalapeno relish',\n  ' velveeta cheese',\n  ' half-and-half',\n  ' fettuccine pasta',\n  ' parmesan cheese'],\n ['yellow onions',\n  ' green onions',\n  ' bell pepper',\n  ' celery',\n  ' fresh parsley',\n  ' butter',\n  ' flour',\n  ' crawfish',\n  ' jalapeno relish',\n  ' velveeta cheese',\n  ' half-and-half',\n  ' fettuccine pasta',\n  ' parmesan cheese'],\n ['egg',\n  ' sugar',\n  ' salt',\n  ' half-and-half cream',\n  ' semi-sweet chocolate chips',\n  ' vanilla extract',\n  ' whipped cream'],\n ['egg',\n  ' sugar',\n  ' salt',\n  ' half-and-half cream',\n  ' semi-sweet chocolate chips',\n  ' vanilla extract',\n  ' whipped cream'],\n ['egg',\n  ' sugar',\n  ' salt',\n  ' half-and-half cream',\n  ' semi-sweet chocolate chips',\n  ' vanilla extract',\n  ' whipped cream'],\n ['egg',\n  ' sugar',\n  ' salt',\n  ' half-and-half cream',\n  ' semi-sweet chocolate chips',\n  ' vanilla extract',\n  ' whipped cream'],\n ['egg',\n  ' sugar',\n  ' salt',\n  ' half-and-half cream',\n  ' semi-sweet chocolate chips',\n  ' vanilla extract',\n  ' whipped cream'],\n ['egg',\n  ' sugar',\n  ' salt',\n  ' half-and-half cream',\n  ' semi-sweet chocolate chips',\n  ' vanilla extract',\n  ' whipped cream'],\n ['egg',\n  ' sugar',\n  ' salt',\n  ' half-and-half cream',\n  ' semi-sweet chocolate chips',\n  ' vanilla extract',\n  ' whipped cream'],\n ['ground beef',\n  ' rigatoni pasta',\n  ' pasta sauce',\n  ' cheese',\n  ' parmesan cheese',\n  ' chili pepper',\n  ' garlic salt',\n  ' onion salt',\n  ' italian seasoning'],\n ['ground beef',\n  ' rigatoni pasta',\n  ' pasta sauce',\n  ' cheese',\n  ' parmesan cheese',\n  ' chili pepper',\n  ' garlic salt',\n  ' onion salt',\n  ' italian seasoning'],\n ['ground beef',\n  ' rigatoni pasta',\n  ' pasta sauce',\n  ' cheese',\n  ' parmesan cheese',\n  ' chili pepper',\n  ' garlic salt',\n  ' onion salt',\n  ' italian seasoning'],\n ['ground beef',\n  ' rigatoni pasta',\n  ' pasta sauce',\n  ' cheese',\n  ' parmesan cheese',\n  ' chili pepper',\n  ' garlic salt',\n  ' onion salt',\n  ' italian seasoning'],\n ['ground beef',\n  ' rigatoni pasta',\n  ' pasta sauce',\n  ' cheese',\n  ' parmesan cheese',\n  ' chili pepper',\n  ' garlic salt',\n  ' onion salt',\n  ' italian seasoning'],\n ['ground beef',\n  ' rigatoni pasta',\n  ' pasta sauce',\n  ' cheese',\n  ' parmesan cheese',\n  ' chili pepper',\n  ' garlic salt',\n  ' onion salt',\n  ' italian seasoning'],\n ['ground beef',\n  ' rigatoni pasta',\n  ' pasta sauce',\n  ' cheese',\n  ' parmesan cheese',\n  ' chili pepper',\n  ' garlic salt',\n  ' onion salt',\n  ' italian seasoning'],\n ['ground beef',\n  ' rigatoni pasta',\n  ' pasta sauce',\n  ' cheese',\n  ' parmesan cheese',\n  ' chili pepper',\n  ' garlic salt',\n  ' onion salt',\n  ' italian seasoning'],\n ['ground beef',\n  ' rigatoni pasta',\n  ' pasta sauce',\n  ' cheese',\n  ' parmesan cheese',\n  ' chili pepper',\n  ' garlic salt',\n  ' onion salt',\n  ' italian seasoning'],\n ['chicken breasts',\n  ' red onion',\n  ' pineapple',\n  ' teriyaki sauce',\n  ' sesame oil'],\n ['chicken breasts',\n  ' red onion',\n  ' pineapple',\n  ' teriyaki sauce',\n  ' sesame oil'],\n ['chicken breasts',\n  ' red onion',\n  ' pineapple',\n  ' teriyaki sauce',\n  ' sesame oil'],\n ['chicken breasts',\n  ' red onion',\n  ' pineapple',\n  ' teriyaki sauce',\n  ' sesame oil'],\n ['chicken breasts',\n  ' red onion',\n  ' pineapple',\n  ' teriyaki sauce',\n  ' sesame oil'],\n ['apples', ' cinnamon', ' nutmeg', ' water', ' lemon slices', ' salt'],\n ['apples', ' cinnamon', ' nutmeg', ' water', ' lemon slices', ' salt'],\n ['apples', ' cinnamon', ' nutmeg', ' water', ' lemon slices', ' salt'],\n ['apples', ' cinnamon', ' nutmeg', ' water', ' lemon slices', ' salt'],\n ['apples', ' cinnamon', ' nutmeg', ' water', ' lemon slices', ' salt'],\n ['apples', ' cinnamon', ' nutmeg', ' water', ' lemon slices', ' salt'],\n ['9\" unbaked pie shell',\n  ' unbleached flour',\n  ' sugar',\n  ' brown sugar',\n  ' cinnamon',\n  ' butter',\n  ' cooking apples',\n  ' lemon juice',\n  ' cheddar cheese',\n  ' nutmeg'],\n ['9\" unbaked pie shell',\n  ' unbleached flour',\n  ' sugar',\n  ' brown sugar',\n  ' cinnamon',\n  ' butter',\n  ' cooking apples',\n  ' lemon juice',\n  ' cheddar cheese',\n  ' nutmeg'],\n ['9\" unbaked pie shell',\n  ' unbleached flour',\n  ' sugar',\n  ' brown sugar',\n  ' cinnamon',\n  ' butter',\n  ' cooking apples',\n  ' lemon juice',\n  ' cheddar cheese',\n  ' nutmeg'],\n ['9\" unbaked pie shell',\n  ' unbleached flour',\n  ' sugar',\n  ' brown sugar',\n  ' cinnamon',\n  ' butter',\n  ' cooking apples',\n  ' lemon juice',\n  ' cheddar cheese',\n  ' nutmeg'],\n ['9\" unbaked pie shell',\n  ' unbleached flour',\n  ' sugar',\n  ' brown sugar',\n  ' cinnamon',\n  ' butter',\n  ' cooking apples',\n  ' lemon juice',\n  ' cheddar cheese',\n  ' nutmeg'],\n ['9\" unbaked pie shell',\n  ' unbleached flour',\n  ' sugar',\n  ' brown sugar',\n  ' cinnamon',\n  ' butter',\n  ' cooking apples',\n  ' lemon juice',\n  ' cheddar cheese',\n  ' nutmeg'],\n ['9\" unbaked pie shell',\n  ' unbleached flour',\n  ' sugar',\n  ' brown sugar',\n  ' cinnamon',\n  ' butter',\n  ' cooking apples',\n  ' lemon juice',\n  ' cheddar cheese',\n  ' nutmeg'],\n ['9\" unbaked pie shell',\n  ' unbleached flour',\n  ' sugar',\n  ' brown sugar',\n  ' cinnamon',\n  ' butter',\n  ' cooking apples',\n  ' lemon juice',\n  ' cheddar cheese',\n  ' nutmeg'],\n ['9\" unbaked pie shell',\n  ' unbleached flour',\n  ' sugar',\n  ' brown sugar',\n  ' cinnamon',\n  ' butter',\n  ' cooking apples',\n  ' lemon juice',\n  ' cheddar cheese',\n  ' nutmeg'],\n ['9\" unbaked pie shell',\n  ' unbleached flour',\n  ' sugar',\n  ' brown sugar',\n  ' cinnamon',\n  ' butter',\n  ' cooking apples',\n  ' lemon juice',\n  ' cheddar cheese',\n  ' nutmeg'],\n ['cola',\n  ' worcestershire sauce',\n  ' vinegar',\n  ' garlic cloves',\n  ' beef bouillon',\n  ' dried mustard',\n  ' chili powder',\n  ' boneless chuck roast',\n  ' onion',\n  ' ketchup',\n  ' margarine'],\n ['cola',\n  ' worcestershire sauce',\n  ' vinegar',\n  ' garlic cloves',\n  ' beef bouillon',\n  ' dried mustard',\n  ' chili powder',\n  ' boneless chuck roast',\n  ' onion',\n  ' ketchup',\n  ' margarine'],\n ['cola',\n  ' worcestershire sauce',\n  ' vinegar',\n  ' garlic cloves',\n  ' beef bouillon',\n  ' dried mustard',\n  ' chili powder',\n  ' boneless chuck roast',\n  ' onion',\n  ' ketchup',\n  ' margarine'],\n ['cola',\n  ' worcestershire sauce',\n  ' vinegar',\n  ' garlic cloves',\n  ' beef bouillon',\n  ' dried mustard',\n  ' chili powder',\n  ' boneless chuck roast',\n  ' onion',\n  ' ketchup',\n  ' margarine'],\n ['cola',\n  ' worcestershire sauce',\n  ' vinegar',\n  ' garlic cloves',\n  ' beef bouillon',\n  ' dried mustard',\n  ' chili powder',\n  ' boneless chuck roast',\n  ' onion',\n  ' ketchup',\n  ' margarine'],\n ['cola',\n  ' worcestershire sauce',\n  ' vinegar',\n  ' garlic cloves',\n  ' beef bouillon',\n  ' dried mustard',\n  ' chili powder',\n  ' boneless chuck roast',\n  ' onion',\n  ' ketchup',\n  ' margarine'],\n ['cola',\n  ' worcestershire sauce',\n  ' vinegar',\n  ' garlic cloves',\n  ' beef bouillon',\n  ' dried mustard',\n  ' chili powder',\n  ' boneless chuck roast',\n  ' onion',\n  ' ketchup',\n  ' margarine'],\n ['cola',\n  ' worcestershire sauce',\n  ' vinegar',\n  ' garlic cloves',\n  ' beef bouillon',\n  ' dried mustard',\n  ' chili powder',\n  ' boneless chuck roast',\n  ' onion',\n  ' ketchup',\n  ' margarine'],\n ['cola',\n  ' worcestershire sauce',\n  ' vinegar',\n  ' garlic cloves',\n  ' beef bouillon',\n  ' dried mustard',\n  ' chili powder',\n  ' boneless chuck roast',\n  ' onion',\n  ' ketchup',\n  ' margarine'],\n ['cola',\n  ' worcestershire sauce',\n  ' vinegar',\n  ' garlic cloves',\n  ' beef bouillon',\n  ' dried mustard',\n  ' chili powder',\n  ' boneless chuck roast',\n  ' onion',\n  ' ketchup',\n  ' margarine'],\n ['cola',\n  ' worcestershire sauce',\n  ' vinegar',\n  ' garlic cloves',\n  ' beef bouillon',\n  ' dried mustard',\n  ' chili powder',\n  ' boneless chuck roast',\n  ' onion',\n  ' ketchup',\n  ' margarine'],\n ['green beans', ' pecans', ' unsalted butter', ' salt', ' fresh parsley'],\n ['green beans', ' pecans', ' unsalted butter', ' salt', ' fresh parsley'],\n ['green beans', ' pecans', ' unsalted butter', ' salt', ' fresh parsley'],\n ['green beans', ' pecans', ' unsalted butter', ' salt', ' fresh parsley'],\n ['green beans', ' pecans', ' unsalted butter', ' salt', ' fresh parsley'],\n ['aluminum foil',\n  ' chicken breast halves',\n  ' barbecue sauce',\n  ' frozen whole kernel corn',\n  ' green bell pepper'],\n ['aluminum foil',\n  ' chicken breast halves',\n  ' barbecue sauce',\n  ' frozen whole kernel corn',\n  ' green bell pepper'],\n ['aluminum foil',\n  ' chicken breast halves',\n  ' barbecue sauce',\n  ' frozen whole kernel corn',\n  ' green bell pepper'],\n ['aluminum foil',\n  ' chicken breast halves',\n  ' barbecue sauce',\n  ' frozen whole kernel corn',\n  ' green bell pepper'],\n ['aluminum foil',\n  ' chicken breast halves',\n  ' barbecue sauce',\n  ' frozen whole kernel corn',\n  ' green bell pepper'],\n ['miniature marshmallows',\n  ' sour cream',\n  ' mandarin oranges',\n  ' pineapple tidbits',\n  ' maraschino cherries'],\n ['miniature marshmallows',\n  ' sour cream',\n  ' mandarin oranges',\n  ' pineapple tidbits',\n  ' maraschino cherries'],\n ['miniature marshmallows',\n  ' sour cream',\n  ' mandarin oranges',\n  ' pineapple tidbits',\n  ' maraschino cherries'],\n ['miniature marshmallows',\n  ' sour cream',\n  ' mandarin oranges',\n  ' pineapple tidbits',\n  ' maraschino cherries'],\n ['miniature marshmallows',\n  ' sour cream',\n  ' mandarin oranges',\n  ' pineapple tidbits',\n  ' maraschino cherries'],\n ['endive',\n  ' tomatoes',\n  ' onion',\n  ' flat leaf parsley',\n  ' fresh chives',\n  ' fresh basil',\n  ' olive oil',\n  ' red wine vinegar',\n  ' sugar',\n  ' salt',\n  ' pepper',\n  ' parmesan cheese'],\n ['endive',\n  ' tomatoes',\n  ' onion',\n  ' flat leaf parsley',\n  ' fresh chives',\n  ' fresh basil',\n  ' olive oil',\n  ' red wine vinegar',\n  ' sugar',\n  ' salt',\n  ' pepper',\n  ' parmesan cheese'],\n ['endive',\n  ' tomatoes',\n  ' onion',\n  ' flat leaf parsley',\n  ' fresh chives',\n  ' fresh basil',\n  ' olive oil',\n  ' red wine vinegar',\n  ' sugar',\n  ' salt',\n  ' pepper',\n  ' parmesan cheese'],\n ['endive',\n  ' tomatoes',\n  ' onion',\n  ' flat leaf parsley',\n  ' fresh chives',\n  ' fresh basil',\n  ' olive oil',\n  ' red wine vinegar',\n  ' sugar',\n  ' salt',\n  ' pepper',\n  ' parmesan cheese'],\n ['endive',\n  ' tomatoes',\n  ' onion',\n  ' flat leaf parsley',\n  ' fresh chives',\n  ' fresh basil',\n  ' olive oil',\n  ' red wine vinegar',\n  ' sugar',\n  ' salt',\n  ' pepper',\n  ' parmesan cheese'],\n ['endive',\n  ' tomatoes',\n  ' onion',\n  ' flat leaf parsley',\n  ' fresh chives',\n  ' fresh basil',\n  ' olive oil',\n  ' red wine vinegar',\n  ' sugar',\n  ' salt',\n  ' pepper',\n  ' parmesan cheese'],\n ['endive',\n  ' tomatoes',\n  ' onion',\n  ' flat leaf parsley',\n  ' fresh chives',\n  ' fresh basil',\n  ' olive oil',\n  ' red wine vinegar',\n  ' sugar',\n  ' salt',\n  ' pepper',\n  ' parmesan cheese'],\n ['endive',\n  ' tomatoes',\n  ' onion',\n  ' flat leaf parsley',\n  ' fresh chives',\n  ' fresh basil',\n  ' olive oil',\n  ' red wine vinegar',\n  ' sugar',\n  ' salt',\n  ' pepper',\n  ' parmesan cheese'],\n ['endive',\n  ' tomatoes',\n  ' onion',\n  ' flat leaf parsley',\n  ' fresh chives',\n  ' fresh basil',\n  ' olive oil',\n  ' red wine vinegar',\n  ' sugar',\n  ' salt',\n  ' pepper',\n  ' parmesan cheese'],\n ['endive',\n  ' tomatoes',\n  ' onion',\n  ' flat leaf parsley',\n  ' fresh chives',\n  ' fresh basil',\n  ' olive oil',\n  ' red wine vinegar',\n  ' sugar',\n  ' salt',\n  ' pepper',\n  ' parmesan cheese'],\n ['endive',\n  ' tomatoes',\n  ' onion',\n  ' flat leaf parsley',\n  ' fresh chives',\n  ' fresh basil',\n  ' olive oil',\n  ' red wine vinegar',\n  ' sugar',\n  ' salt',\n  ' pepper',\n  ' parmesan cheese'],\n ['endive',\n  ' tomatoes',\n  ' onion',\n  ' flat leaf parsley',\n  ' fresh chives',\n  ' fresh basil',\n  ' olive oil',\n  ' red wine vinegar',\n  ' sugar',\n  ' salt',\n  ' pepper',\n  ' parmesan cheese'],\n ['lean ground beef',\n  ' onion',\n  ' worcestershire sauce',\n  ' pepper',\n  ' butter',\n  ' garlic cloves',\n  ' mushrooms',\n  ' beef broth',\n  ' carrots',\n  ' salt',\n  ' dried thyme',\n  ' red bell pepper',\n  ' dry red wine',\n  ' cornstarch',\n  ' fresh parsley',\n  ' egg noodles'],\n ['lean ground beef',\n  ' onion',\n  ' worcestershire sauce',\n  ' pepper',\n  ' butter',\n  ' garlic cloves',\n  ' mushrooms',\n  ' beef broth',\n  ' carrots',\n  ' salt',\n  ' dried thyme',\n  ' red bell pepper',\n  ' dry red wine',\n  ' cornstarch',\n  ' fresh parsley',\n  ' egg noodles'],\n ['lean ground beef',\n  ' onion',\n  ' worcestershire sauce',\n  ' pepper',\n  ' butter',\n  ' garlic cloves',\n  ' mushrooms',\n  ' beef broth',\n  ' carrots',\n  ' salt',\n  ' dried thyme',\n  ' red bell pepper',\n  ' dry red wine',\n  ' cornstarch',\n  ' fresh parsley',\n  ' egg noodles'],\n ['lean ground beef',\n  ' onion',\n  ' worcestershire sauce',\n  ' pepper',\n  ' butter',\n  ' garlic cloves',\n  ' mushrooms',\n  ' beef broth',\n  ' carrots',\n  ' salt',\n  ' dried thyme',\n  ' red bell pepper',\n  ' dry red wine',\n  ' cornstarch',\n  ' fresh parsley',\n  ' egg noodles'],\n ['lean ground beef',\n  ' onion',\n  ' worcestershire sauce',\n  ' pepper',\n  ' butter',\n  ' garlic cloves',\n  ' mushrooms',\n  ' beef broth',\n  ' carrots',\n  ' salt',\n  ' dried thyme',\n  ' red bell pepper',\n  ' dry red wine',\n  ' cornstarch',\n  ' fresh parsley',\n  ' egg noodles'],\n ['lean ground beef',\n  ' onion',\n  ' worcestershire sauce',\n  ' pepper',\n  ' butter',\n  ' garlic cloves',\n  ' mushrooms',\n  ' beef broth',\n  ' carrots',\n  ' salt',\n  ' dried thyme',\n  ' red bell pepper',\n  ' dry red wine',\n  ' cornstarch',\n  ' fresh parsley',\n  ' egg noodles'],\n ['lean ground beef',\n  ' onion',\n  ' worcestershire sauce',\n  ' pepper',\n  ' butter',\n  ' garlic cloves',\n  ' mushrooms',\n  ' beef broth',\n  ' carrots',\n  ' salt',\n  ' dried thyme',\n  ' red bell pepper',\n  ' dry red wine',\n  ' cornstarch',\n  ' fresh parsley',\n  ' egg noodles'],\n ['lean ground beef',\n  ' onion',\n  ' worcestershire sauce',\n  ' pepper',\n  ' butter',\n  ' garlic cloves',\n  ' mushrooms',\n  ' beef broth',\n  ' carrots',\n  ' salt',\n  ' dried thyme',\n  ' red bell pepper',\n  ' dry red wine',\n  ' cornstarch',\n  ' fresh parsley',\n  ' egg noodles'],\n ['lean ground beef',\n  ' onion',\n  ' worcestershire sauce',\n  ' pepper',\n  ' butter',\n  ' garlic cloves',\n  ' mushrooms',\n  ' beef broth',\n  ' carrots',\n  ' salt',\n  ' dried thyme',\n  ' red bell pepper',\n  ' dry red wine',\n  ' cornstarch',\n  ' fresh parsley',\n  ' egg noodles'],\n ['lean ground beef',\n  ' onion',\n  ' worcestershire sauce',\n  ' pepper',\n  ' butter',\n  ' garlic cloves',\n  ' mushrooms',\n  ' beef broth',\n  ' carrots',\n  ' salt',\n  ' dried thyme',\n  ' red bell pepper',\n  ' dry red wine',\n  ' cornstarch',\n  ' fresh parsley',\n  ' egg noodles'],\n ['lean ground beef',\n  ' onion',\n  ' worcestershire sauce',\n  ' pepper',\n  ' butter',\n  ' garlic cloves',\n  ' mushrooms',\n  ' beef broth',\n  ' carrots',\n  ' salt',\n  ' dried thyme',\n  ' red bell pepper',\n  ' dry red wine',\n  ' cornstarch',\n  ' fresh parsley',\n  ' egg noodles'],\n ['lean ground beef',\n  ' onion',\n  ' worcestershire sauce',\n  ' pepper',\n  ' butter',\n  ' garlic cloves',\n  ' mushrooms',\n  ' beef broth',\n  ' carrots',\n  ' salt',\n  ' dried thyme',\n  ' red bell pepper',\n  ' dry red wine',\n  ' cornstarch',\n  ' fresh parsley',\n  ' egg noodles'],\n ['lean ground beef',\n  ' onion',\n  ' worcestershire sauce',\n  ' pepper',\n  ' butter',\n  ' garlic cloves',\n  ' mushrooms',\n  ' beef broth',\n  ' carrots',\n  ' salt',\n  ' dried thyme',\n  ' red bell pepper',\n  ' dry red wine',\n  ' cornstarch',\n  ' fresh parsley',\n  ' egg noodles'],\n ['lean ground beef',\n  ' onion',\n  ' worcestershire sauce',\n  ' pepper',\n  ' butter',\n  ' garlic cloves',\n  ' mushrooms',\n  ' beef broth',\n  ' carrots',\n  ' salt',\n  ' dried thyme',\n  ' red bell pepper',\n  ' dry red wine',\n  ' cornstarch',\n  ' fresh parsley',\n  ' egg noodles'],\n ['lean ground beef',\n  ' onion',\n  ' worcestershire sauce',\n  ' pepper',\n  ' butter',\n  ' garlic cloves',\n  ' mushrooms',\n  ' beef broth',\n  ' carrots',\n  ' salt',\n  ' dried thyme',\n  ' red bell pepper',\n  ' dry red wine',\n  ' cornstarch',\n  ' fresh parsley',\n  ' egg noodles'],\n ['lean ground beef',\n  ' onion',\n  ' worcestershire sauce',\n  ' pepper',\n  ' butter',\n  ' garlic cloves',\n  ' mushrooms',\n  ' beef broth',\n  ' carrots',\n  ' salt',\n  ' dried thyme',\n  ' red bell pepper',\n  ' dry red wine',\n  ' cornstarch',\n  ' fresh parsley',\n  ' egg noodles'],\n ['pork sausage',\n  ' potatoes',\n  ' apples',\n  ' sugar',\n  ' flour',\n  ' cinnamon',\n  ' salt',\n  ' water'],\n ['pork sausage',\n  ' potatoes',\n  ' apples',\n  ' sugar',\n  ' flour',\n  ' cinnamon',\n  ' salt',\n  ' water'],\n ['pork sausage',\n  ' potatoes',\n  ' apples',\n  ' sugar',\n  ' flour',\n  ' cinnamon',\n  ' salt',\n  ' water'],\n ['pork sausage',\n  ' potatoes',\n  ' apples',\n  ' sugar',\n  ' flour',\n  ' cinnamon',\n  ' salt',\n  ' water'],\n ['pork sausage',\n  ' potatoes',\n  ' apples',\n  ' sugar',\n  ' flour',\n  ' cinnamon',\n  ' salt',\n  ' water'],\n ['pork sausage',\n  ' potatoes',\n  ' apples',\n  ' sugar',\n  ' flour',\n  ' cinnamon',\n  ' salt',\n  ' water'],\n ['pork sausage',\n  ' potatoes',\n  ' apples',\n  ' sugar',\n  ' flour',\n  ' cinnamon',\n  ' salt',\n  ' water'],\n ['pork sausage',\n  ' potatoes',\n  ' apples',\n  ' sugar',\n  ' flour',\n  ' cinnamon',\n  ' salt',\n  ' water'],\n ['garlic cloves',\n  ' white potatoes',\n  ' cream cheese',\n  ' sour cream',\n  ' milk',\n  ' diced green chilies',\n  ' salt',\n  ' butter'],\n ['garlic cloves',\n  ' white potatoes',\n  ' cream cheese',\n  ' sour cream',\n  ' milk',\n  ' diced green chilies',\n  ' salt',\n  ' butter'],\n ['garlic cloves',\n  ' white potatoes',\n  ' cream cheese',\n  ' sour cream',\n  ' milk',\n  ' diced green chilies',\n  ' salt',\n  ' butter'],\n ['garlic cloves',\n  ' white potatoes',\n  ' cream cheese',\n  ' sour cream',\n  ' milk',\n  ' diced green chilies',\n  ' salt',\n  ' butter'],\n ['garlic cloves',\n  ' white potatoes',\n  ' cream cheese',\n  ' sour cream',\n  ' milk',\n  ' diced green chilies',\n  ' salt',\n  ' butter'],\n ['garlic cloves',\n  ' white potatoes',\n  ' cream cheese',\n  ' sour cream',\n  ' milk',\n  ' diced green chilies',\n  ' salt',\n  ' butter'],\n ['garlic cloves',\n  ' white potatoes',\n  ' cream cheese',\n  ' sour cream',\n  ' milk',\n  ' diced green chilies',\n  ' salt',\n  ' butter'],\n ['garlic cloves',\n  ' white potatoes',\n  ' cream cheese',\n  ' sour cream',\n  ' milk',\n  ' diced green chilies',\n  ' salt',\n  ' butter'],\n ['boiling water',\n  ' ground coffee',\n  ' heavy cream',\n  ' ground cardamom',\n  ' ground mace',\n  ' sugar',\n  ' vanilla extract'],\n ['boiling water',\n  ' ground coffee',\n  ' heavy cream',\n  ' ground cardamom',\n  ' ground mace',\n  ' sugar',\n  ' vanilla extract'],\n ['boiling water',\n  ' ground coffee',\n  ' heavy cream',\n  ' ground cardamom',\n  ' ground mace',\n  ' sugar',\n  ' vanilla extract'],\n ['boiling water',\n  ' ground coffee',\n  ' heavy cream',\n  ' ground cardamom',\n  ' ground mace',\n  ' sugar',\n  ' vanilla extract'],\n ['boiling water',\n  ' ground coffee',\n  ' heavy cream',\n  ' ground cardamom',\n  ' ground mace',\n  ' sugar',\n  ' vanilla extract'],\n ['boiling water',\n  ' ground coffee',\n  ' heavy cream',\n  ' ground cardamom',\n  ' ground mace',\n  ' sugar',\n  ' vanilla extract'],\n ['boiling water',\n  ' ground coffee',\n  ' heavy cream',\n  ' ground cardamom',\n  ' ground mace',\n  ' sugar',\n  ' vanilla extract'],\n ['flour', ' almonds', ' walnuts', ' honey', ' eggs', ' sesame'],\n ['flour', ' almonds', ' walnuts', ' honey', ' eggs', ' sesame'],\n ['flour', ' almonds', ' walnuts', ' honey', ' eggs', ' sesame'],\n ['flour', ' almonds', ' walnuts', ' honey', ' eggs', ' sesame'],\n ['flour', ' almonds', ' walnuts', ' honey', ' eggs', ' sesame'],\n ['flour', ' almonds', ' walnuts', ' honey', ' eggs', ' sesame'],\n ['light cream cheese',\n  ' granulated sugar',\n  ' low-fat milk',\n  ' vanilla extract',\n  ' brown sugar',\n  ' low-fat sour cream',\n  ' vegetable oil',\n  ' egg',\n  ' egg white',\n  ' all-purpose flour',\n  ' unsweetened cocoa powder',\n  ' baking powder'],\n ['light cream cheese',\n  ' granulated sugar',\n  ' low-fat milk',\n  ' vanilla extract',\n  ' brown sugar',\n  ' low-fat sour cream',\n  ' vegetable oil',\n  ' egg',\n  ' egg white',\n  ' all-purpose flour',\n  ' unsweetened cocoa powder',\n  ' baking powder'],\n ['light cream cheese',\n  ' granulated sugar',\n  ' low-fat milk',\n  ' vanilla extract',\n  ' brown sugar',\n  ' low-fat sour cream',\n  ' vegetable oil',\n  ' egg',\n  ' egg white',\n  ' all-purpose flour',\n  ' unsweetened cocoa powder',\n  ' baking powder'],\n ['light cream cheese',\n  ' granulated sugar',\n  ' low-fat milk',\n  ' vanilla extract',\n  ' brown sugar',\n  ' low-fat sour cream',\n  ' vegetable oil',\n  ' egg',\n  ' egg white',\n  ' all-purpose flour',\n  ' unsweetened cocoa powder',\n  ' baking powder'],\n ['light cream cheese',\n  ' granulated sugar',\n  ' low-fat milk',\n  ' vanilla extract',\n  ' brown sugar',\n  ' low-fat sour cream',\n  ' vegetable oil',\n  ' egg',\n  ' egg white',\n  ' all-purpose flour',\n  ' unsweetened cocoa powder',\n  ' baking powder'],\n ['light cream cheese',\n  ' granulated sugar',\n  ' low-fat milk',\n  ' vanilla extract',\n  ' brown sugar',\n  ' low-fat sour cream',\n  ' vegetable oil',\n  ' egg',\n  ' egg white',\n  ' all-purpose flour',\n  ' unsweetened cocoa powder',\n  ' baking powder'],\n ['light cream cheese',\n  ' granulated sugar',\n  ' low-fat milk',\n  ' vanilla extract',\n  ' brown sugar',\n  ' low-fat sour cream',\n  ' vegetable oil',\n  ' egg',\n  ' egg white',\n  ' all-purpose flour',\n  ' unsweetened cocoa powder',\n  ' baking powder'],\n ['light cream cheese',\n  ' granulated sugar',\n  ' low-fat milk',\n  ' vanilla extract',\n  ' brown sugar',\n  ' low-fat sour cream',\n  ' vegetable oil',\n  ' egg',\n  ' egg white',\n  ' all-purpose flour',\n  ' unsweetened cocoa powder',\n  ' baking powder'],\n ['light cream cheese',\n  ' granulated sugar',\n  ' low-fat milk',\n  ' vanilla extract',\n  ' brown sugar',\n  ' low-fat sour cream',\n  ' vegetable oil',\n  ' egg',\n  ' egg white',\n  ' all-purpose flour',\n  ' unsweetened cocoa powder',\n  ' baking powder'],\n ['light cream cheese',\n  ' granulated sugar',\n  ' low-fat milk',\n  ' vanilla extract',\n  ' brown sugar',\n  ' low-fat sour cream',\n  ' vegetable oil',\n  ' egg',\n  ' egg white',\n  ' all-purpose flour',\n  ' unsweetened cocoa powder',\n  ' baking powder'],\n ['light cream cheese',\n  ' granulated sugar',\n  ' low-fat milk',\n  ' vanilla extract',\n  ' brown sugar',\n  ' low-fat sour cream',\n  ' vegetable oil',\n  ' egg',\n  ' egg white',\n  ' all-purpose flour',\n  ' unsweetened cocoa powder',\n  ' baking powder'],\n ['light cream cheese',\n  ' granulated sugar',\n  ' low-fat milk',\n  ' vanilla extract',\n  ' brown sugar',\n  ' low-fat sour cream',\n  ' vegetable oil',\n  ' egg',\n  ' egg white',\n  ' all-purpose flour',\n  ' unsweetened cocoa powder',\n  ' baking powder'],\n ['butter',\n  ' vegetable oil',\n  ' sugar',\n  ' brown sugar',\n  ' egg',\n  ' vanilla',\n  ' baking soda',\n  ' cream of tartar',\n  ' coconut extract',\n  ' flour',\n  ' oatmeal',\n  ' rice krispies',\n  ' nuts',\n  ' semi-sweet chocolate chips',\n  ' coconut'],\n ['butter',\n  ' vegetable oil',\n  ' sugar',\n  ' brown sugar',\n  ' egg',\n  ' vanilla',\n  ' baking soda',\n  ' cream of tartar',\n  ' coconut extract',\n  ' flour',\n  ' oatmeal',\n  ' rice krispies',\n  ' nuts',\n  ' semi-sweet chocolate chips',\n  ' coconut'],\n ['butter',\n  ' vegetable oil',\n  ' sugar',\n  ' brown sugar',\n  ' egg',\n  ' vanilla',\n  ' baking soda',\n  ' cream of tartar',\n  ' coconut extract',\n  ' flour',\n  ' oatmeal',\n  ' rice krispies',\n  ' nuts',\n  ' semi-sweet chocolate chips',\n  ' coconut'],\n ['butter',\n  ' vegetable oil',\n  ' sugar',\n  ' brown sugar',\n  ' egg',\n  ' vanilla',\n  ' baking soda',\n  ' cream of tartar',\n  ' coconut extract',\n  ' flour',\n  ' oatmeal',\n  ' rice krispies',\n  ' nuts',\n  ' semi-sweet chocolate chips',\n  ' coconut'],\n ['butter',\n  ' vegetable oil',\n  ' sugar',\n  ' brown sugar',\n  ' egg',\n  ' vanilla',\n  ' baking soda',\n  ' cream of tartar',\n  ' coconut extract',\n  ' flour',\n  ' oatmeal',\n  ' rice krispies',\n  ' nuts',\n  ' semi-sweet chocolate chips',\n  ' coconut'],\n ['butter',\n  ' vegetable oil',\n  ' sugar',\n  ' brown sugar',\n  ' egg',\n  ' vanilla',\n  ' baking soda',\n  ' cream of tartar',\n  ' coconut extract',\n  ' flour',\n  ' oatmeal',\n  ' rice krispies',\n  ' nuts',\n  ' semi-sweet chocolate chips',\n  ' coconut'],\n ['butter',\n  ' vegetable oil',\n  ' sugar',\n  ' brown sugar',\n  ' egg',\n  ' vanilla',\n  ' baking soda',\n  ' cream of tartar',\n  ' coconut extract',\n  ' flour',\n  ' oatmeal',\n  ' rice krispies',\n  ' nuts',\n  ' semi-sweet chocolate chips',\n  ' coconut'],\n ['butter',\n  ' vegetable oil',\n  ' sugar',\n  ' brown sugar',\n  ' egg',\n  ' vanilla',\n  ' baking soda',\n  ' cream of tartar',\n  ' coconut extract',\n  ' flour',\n  ' oatmeal',\n  ' rice krispies',\n  ' nuts',\n  ' semi-sweet chocolate chips',\n  ' coconut'],\n ['butter',\n  ' vegetable oil',\n  ' sugar',\n  ' brown sugar',\n  ' egg',\n  ' vanilla',\n  ' baking soda',\n  ' cream of tartar',\n  ' coconut extract',\n  ' flour',\n  ' oatmeal',\n  ' rice krispies',\n  ' nuts',\n  ' semi-sweet chocolate chips',\n  ' coconut'],\n ['butter',\n  ' vegetable oil',\n  ' sugar',\n  ' brown sugar',\n  ' egg',\n  ' vanilla',\n  ' baking soda',\n  ' cream of tartar',\n  ' coconut extract',\n  ' flour',\n  ' oatmeal',\n  ' rice krispies',\n  ' nuts',\n  ' semi-sweet chocolate chips',\n  ' coconut'],\n ['butter',\n  ' vegetable oil',\n  ' sugar',\n  ' brown sugar',\n  ' egg',\n  ' vanilla',\n  ' baking soda',\n  ' cream of tartar',\n  ' coconut extract',\n  ' flour',\n  ' oatmeal',\n  ' rice krispies',\n  ' nuts',\n  ' semi-sweet chocolate chips',\n  ' coconut'],\n ['butter',\n  ' vegetable oil',\n  ' sugar',\n  ' brown sugar',\n  ' egg',\n  ' vanilla',\n  ' baking soda',\n  ' cream of tartar',\n  ' coconut extract',\n  ' flour',\n  ' oatmeal',\n  ' rice krispies',\n  ' nuts',\n  ' semi-sweet chocolate chips',\n  ' coconut'],\n ['butter',\n  ' vegetable oil',\n  ' sugar',\n  ' brown sugar',\n  ' egg',\n  ' vanilla',\n  ' baking soda',\n  ' cream of tartar',\n  ' coconut extract',\n  ' flour',\n  ' oatmeal',\n  ' rice krispies',\n  ' nuts',\n  ' semi-sweet chocolate chips',\n  ' coconut'],\n ['butter',\n  ' vegetable oil',\n  ' sugar',\n  ' brown sugar',\n  ' egg',\n  ' vanilla',\n  ' baking soda',\n  ' cream of tartar',\n  ' coconut extract',\n  ' flour',\n  ' oatmeal',\n  ' rice krispies',\n  ' nuts',\n  ' semi-sweet chocolate chips',\n  ' coconut'],\n ['butter',\n  ' vegetable oil',\n  ' sugar',\n  ' brown sugar',\n  ' egg',\n  ' vanilla',\n  ' baking soda',\n  ' cream of tartar',\n  ' coconut extract',\n  ' flour',\n  ' oatmeal',\n  ' rice krispies',\n  ' nuts',\n  ' semi-sweet chocolate chips',\n  ' coconut'],\n ['beetroot',\n  ' garlic',\n  ' ground coriander',\n  ' ground cumin',\n  ' fresh lemon juice',\n  ' extra virgin olive oil'],\n ['beetroot',\n  ' garlic',\n  ' ground coriander',\n  ' ground cumin',\n  ' fresh lemon juice',\n  ' extra virgin olive oil'],\n ['beetroot',\n  ' garlic',\n  ' ground coriander',\n  ' ground cumin',\n  ' fresh lemon juice',\n  ' extra virgin olive oil'],\n ['beetroot',\n  ' garlic',\n  ' ground coriander',\n  ' ground cumin',\n  ' fresh lemon juice',\n  ' extra virgin olive oil'],\n ['beetroot',\n  ' garlic',\n  ' ground coriander',\n  ' ground cumin',\n  ' fresh lemon juice',\n  ' extra virgin olive oil'],\n ['beetroot',\n  ' garlic',\n  ' ground coriander',\n  ' ground cumin',\n  ' fresh lemon juice',\n  ' extra virgin olive oil'],\n ['raw rice', ' chicken broth', ' cherry tomatoes', ' butter', ' sugar'],\n ['raw rice', ' chicken broth', ' cherry tomatoes', ' butter', ' sugar'],\n ['raw rice', ' chicken broth', ' cherry tomatoes', ' butter', ' sugar'],\n ['raw rice', ' chicken broth', ' cherry tomatoes', ' butter', ' sugar'],\n ['raw rice', ' chicken broth', ' cherry tomatoes', ' butter', ' sugar'],\n ['butter',\n  ' sugar',\n  ' molasses',\n  ' eggs',\n  ' flour',\n  ' ginger',\n  ' baking soda',\n  ' salt',\n  ' cinnamon',\n  ' nutmeg',\n  ' clove'],\n ['butter',\n  ' sugar',\n  ' molasses',\n  ' eggs',\n  ' flour',\n  ' ginger',\n  ' baking soda',\n  ' salt',\n  ' cinnamon',\n  ' nutmeg',\n  ' clove'],\n ['butter',\n  ' sugar',\n  ' molasses',\n  ' eggs',\n  ' flour',\n  ' ginger',\n  ' baking soda',\n  ' salt',\n  ' cinnamon',\n  ' nutmeg',\n  ' clove'],\n ['butter',\n  ' sugar',\n  ' molasses',\n  ' eggs',\n  ' flour',\n  ' ginger',\n  ' baking soda',\n  ' salt',\n  ' cinnamon',\n  ' nutmeg',\n  ' clove'],\n ['butter',\n  ' sugar',\n  ' molasses',\n  ' eggs',\n  ' flour',\n  ' ginger',\n  ' baking soda',\n  ' salt',\n  ' cinnamon',\n  ' nutmeg',\n  ' clove'],\n ['butter',\n  ' sugar',\n  ' molasses',\n  ' eggs',\n  ' flour',\n  ' ginger',\n  ' baking soda',\n  ' salt',\n  ' cinnamon',\n  ' nutmeg',\n  ' clove'],\n ['butter',\n  ' sugar',\n  ' molasses',\n  ' eggs',\n  ' flour',\n  ' ginger',\n  ' baking soda',\n  ' salt',\n  ' cinnamon',\n  ' nutmeg',\n  ' clove'],\n ['butter',\n  ' sugar',\n  ' molasses',\n  ' eggs',\n  ' flour',\n  ' ginger',\n  ' baking soda',\n  ' salt',\n  ' cinnamon',\n  ' nutmeg',\n  ' clove'],\n ['butter',\n  ' sugar',\n  ' molasses',\n  ' eggs',\n  ' flour',\n  ' ginger',\n  ' baking soda',\n  ' salt',\n  ' cinnamon',\n  ' nutmeg',\n  ' clove'],\n ['butter',\n  ' sugar',\n  ' molasses',\n  ' eggs',\n  ' flour',\n  ' ginger',\n  ' baking soda',\n  ' salt',\n  ' cinnamon',\n  ' nutmeg',\n  ' clove'],\n ['butter',\n  ' sugar',\n  ' molasses',\n  ' eggs',\n  ' flour',\n  ' ginger',\n  ' baking soda',\n  ' salt',\n  ' cinnamon',\n  ' nutmeg',\n  ' clove'],\n ['butter',\n  ' sugar',\n  ' cream cheese',\n  ' egg',\n  ' vanilla',\n  ' flour',\n  ' semi-sweet chocolate chips',\n  ' shortening'],\n ['butter',\n  ' sugar',\n  ' cream cheese',\n  ' egg',\n  ' vanilla',\n  ' flour',\n  ' semi-sweet chocolate chips',\n  ' shortening'],\n ['butter',\n  ' sugar',\n  ' cream cheese',\n  ' egg',\n  ' vanilla',\n  ' flour',\n  ' semi-sweet chocolate chips',\n  ' shortening'],\n ['butter',\n  ' sugar',\n  ' cream cheese',\n  ' egg',\n  ' vanilla',\n  ' flour',\n  ' semi-sweet chocolate chips',\n  ' shortening'],\n ['butter',\n  ' sugar',\n  ' cream cheese',\n  ' egg',\n  ' vanilla',\n  ' flour',\n  ' semi-sweet chocolate chips',\n  ' shortening'],\n ['butter',\n  ' sugar',\n  ' cream cheese',\n  ' egg',\n  ' vanilla',\n  ' flour',\n  ' semi-sweet chocolate chips',\n  ' shortening'],\n ['butter',\n  ' sugar',\n  ' cream cheese',\n  ' egg',\n  ' vanilla',\n  ' flour',\n  ' semi-sweet chocolate chips',\n  ' shortening'],\n ['butter',\n  ' sugar',\n  ' cream cheese',\n  ' egg',\n  ' vanilla',\n  ' flour',\n  ' semi-sweet chocolate chips',\n  ' shortening'],\n ['oil',\n  ' anise extract',\n  ' lemon juice',\n  ' shallots',\n  ' fennel seed',\n  ' lemon peel',\n  ' pepper',\n  ' salt',\n  ' pork'],\n ['oil',\n  ' anise extract',\n  ' lemon juice',\n  ' shallots',\n  ' fennel seed',\n  ' lemon peel',\n  ' pepper',\n  ' salt',\n  ' pork'],\n ['oil',\n  ' anise extract',\n  ' lemon juice',\n  ' shallots',\n  ' fennel seed',\n  ' lemon peel',\n  ' pepper',\n  ' salt',\n  ' pork'],\n ['oil',\n  ' anise extract',\n  ' lemon juice',\n  ' shallots',\n  ' fennel seed',\n  ' lemon peel',\n  ' pepper',\n  ' salt',\n  ' pork'],\n ['oil',\n  ' anise extract',\n  ' lemon juice',\n  ' shallots',\n  ' fennel seed',\n  ' lemon peel',\n  ' pepper',\n  ' salt',\n  ' pork'],\n ['oil',\n  ' anise extract',\n  ' lemon juice',\n  ' shallots',\n  ' fennel seed',\n  ' lemon peel',\n  ' pepper',\n  ' salt',\n  ' pork'],\n ['oil',\n  ' anise extract',\n  ' lemon juice',\n  ' shallots',\n  ' fennel seed',\n  ' lemon peel',\n  ' pepper',\n  ' salt',\n  ' pork'],\n ['oil',\n  ' anise extract',\n  ' lemon juice',\n  ' shallots',\n  ' fennel seed',\n  ' lemon peel',\n  ' pepper',\n  ' salt',\n  ' pork'],\n ['oil',\n  ' anise extract',\n  ' lemon juice',\n  ' shallots',\n  ' fennel seed',\n  ' lemon peel',\n  ' pepper',\n  ' salt',\n  ' pork'],\n ['chicken breasts',\n  ' salt and pepper',\n  ' butter',\n  ' smoked bacon',\n  ' garlic cloves',\n  ' lemon',\n  ' dry white wine',\n  ' chicken stock',\n  ' olives',\n  ' tarragon leaf'],\n ['chicken breasts',\n  ' salt and pepper',\n  ' butter',\n  ' smoked bacon',\n  ' garlic cloves',\n  ' lemon',\n  ' dry white wine',\n  ' chicken stock',\n  ' olives',\n  ' tarragon leaf'],\n ['chicken breasts',\n  ' salt and pepper',\n  ' butter',\n  ' smoked bacon',\n  ' garlic cloves',\n  ' lemon',\n  ' dry white wine',\n  ' chicken stock',\n  ' olives',\n  ' tarragon leaf'],\n ['chicken breasts',\n  ' salt and pepper',\n  ' butter',\n  ' smoked bacon',\n  ' garlic cloves',\n  ' lemon',\n  ' dry white wine',\n  ' chicken stock',\n  ' olives',\n  ' tarragon leaf'],\n ['chicken breasts',\n  ' salt and pepper',\n  ' butter',\n  ' smoked bacon',\n  ' garlic cloves',\n  ' lemon',\n  ' dry white wine',\n  ' chicken stock',\n  ' olives',\n  ' tarragon leaf'],\n ['chicken breasts',\n  ' salt and pepper',\n  ' butter',\n  ' smoked bacon',\n  ' garlic cloves',\n  ' lemon',\n  ' dry white wine',\n  ' chicken stock',\n  ' olives',\n  ' tarragon leaf'],\n ['chicken breasts',\n  ' salt and pepper',\n  ' butter',\n  ' smoked bacon',\n  ' garlic cloves',\n  ' lemon',\n  ' dry white wine',\n  ' chicken stock',\n  ' olives',\n  ' tarragon leaf'],\n ['chicken breasts',\n  ' salt and pepper',\n  ' butter',\n  ' smoked bacon',\n  ' garlic cloves',\n  ' lemon',\n  ' dry white wine',\n  ' chicken stock',\n  ' olives',\n  ' tarragon leaf'],\n ['chicken breasts',\n  ' salt and pepper',\n  ' butter',\n  ' smoked bacon',\n  ' garlic cloves',\n  ' lemon',\n  ' dry white wine',\n  ' chicken stock',\n  ' olives',\n  ' tarragon leaf'],\n ['chicken breasts',\n  ' salt and pepper',\n  ' butter',\n  ' smoked bacon',\n  ' garlic cloves',\n  ' lemon',\n  ' dry white wine',\n  ' chicken stock',\n  ' olives',\n  ' tarragon leaf'],\n ['pork tenderloin',\n  ' onion',\n  ' root beer',\n  ' barbecue sauce',\n  ' kaiser rolls'],\n ['pork tenderloin',\n  ' onion',\n  ' root beer',\n  ' barbecue sauce',\n  ' kaiser rolls'],\n ['pork tenderloin',\n  ' onion',\n  ' root beer',\n  ' barbecue sauce',\n  ' kaiser rolls'],\n ['pork tenderloin',\n  ' onion',\n  ' root beer',\n  ' barbecue sauce',\n  ' kaiser rolls'],\n ['pork tenderloin',\n  ' onion',\n  ' root beer',\n  ' barbecue sauce',\n  ' kaiser rolls'],\n ['cake flour',\n  ' salt',\n  ' mixed spice',\n  ' butter',\n  ' sugar',\n  ' mixed dried fruit',\n  ' oranges',\n  ' egg',\n  ' milk',\n  ' water'],\n ['cake flour',\n  ' salt',\n  ' mixed spice',\n  ' butter',\n  ' sugar',\n  ' mixed dried fruit',\n  ' oranges',\n  ' egg',\n  ' milk',\n  ' water'],\n ['cake flour',\n  ' salt',\n  ' mixed spice',\n  ' butter',\n  ' sugar',\n  ' mixed dried fruit',\n  ' oranges',\n  ' egg',\n  ' milk',\n  ' water'],\n ['cake flour',\n  ' salt',\n  ' mixed spice',\n  ' butter',\n  ' sugar',\n  ' mixed dried fruit',\n  ' oranges',\n  ' egg',\n  ' milk',\n  ' water'],\n ['cake flour',\n  ' salt',\n  ' mixed spice',\n  ' butter',\n  ' sugar',\n  ' mixed dried fruit',\n  ' oranges',\n  ' egg',\n  ' milk',\n  ' water'],\n ['cake flour',\n  ' salt',\n  ' mixed spice',\n  ' butter',\n  ' sugar',\n  ' mixed dried fruit',\n  ' oranges',\n  ' egg',\n  ' milk',\n  ' water'],\n ['cake flour',\n  ' salt',\n  ' mixed spice',\n  ' butter',\n  ' sugar',\n  ' mixed dried fruit',\n  ' oranges',\n  ' egg',\n  ' milk',\n  ' water'],\n ['cake flour',\n  ' salt',\n  ' mixed spice',\n  ' butter',\n  ' sugar',\n  ' mixed dried fruit',\n  ' oranges',\n  ' egg',\n  ' milk',\n  ' water'],\n ['cake flour',\n  ' salt',\n  ' mixed spice',\n  ' butter',\n  ' sugar',\n  ' mixed dried fruit',\n  ' oranges',\n  ' egg',\n  ' milk',\n  ' water'],\n ['cake flour',\n  ' salt',\n  ' mixed spice',\n  ' butter',\n  ' sugar',\n  ' mixed dried fruit',\n  ' oranges',\n  ' egg',\n  ' milk',\n  ' water'],\n ['cabbage',\n  ' scallions',\n  ' red onions',\n  ' serrano peppers',\n  ' tomatoes',\n  ' cilantro',\n  ' red wine vinegar',\n  ' pepper'],\n ['cabbage',\n  ' scallions',\n  ' red onions',\n  ' serrano peppers',\n  ' tomatoes',\n  ' cilantro',\n  ' red wine vinegar',\n  ' pepper'],\n ['cabbage',\n  ' scallions',\n  ' red onions',\n  ' serrano peppers',\n  ' tomatoes',\n  ' cilantro',\n  ' red wine vinegar',\n  ' pepper'],\n ['cabbage',\n  ' scallions',\n  ' red onions',\n  ' serrano peppers',\n  ' tomatoes',\n  ' cilantro',\n  ' red wine vinegar',\n  ' pepper'],\n ['cabbage',\n  ' scallions',\n  ' red onions',\n  ' serrano peppers',\n  ' tomatoes',\n  ' cilantro',\n  ' red wine vinegar',\n  ' pepper'],\n ['cabbage',\n  ' scallions',\n  ' red onions',\n  ' serrano peppers',\n  ' tomatoes',\n  ' cilantro',\n  ' red wine vinegar',\n  ' pepper'],\n ['cabbage',\n  ' scallions',\n  ' red onions',\n  ' serrano peppers',\n  ' tomatoes',\n  ' cilantro',\n  ' red wine vinegar',\n  ' pepper'],\n ['cabbage',\n  ' scallions',\n  ' red onions',\n  ' serrano peppers',\n  ' tomatoes',\n  ' cilantro',\n  ' red wine vinegar',\n  ' pepper'],\n ['prime rib roast',\n  ' garlic cloves',\n  ' salt',\n  ' black pepper',\n  ' garlic powder'],\n ['prime rib roast',\n  ' garlic cloves',\n  ' salt',\n  ' black pepper',\n  ' garlic powder'],\n ['prime rib roast',\n  ' garlic cloves',\n  ' salt',\n  ' black pepper',\n  ' garlic powder'],\n ['prime rib roast',\n  ' garlic cloves',\n  ' salt',\n  ' black pepper',\n  ' garlic powder'],\n ['prime rib roast',\n  ' garlic cloves',\n  ' salt',\n  ' black pepper',\n  ' garlic powder'],\n ['manicotti',\n  ' ground beef',\n  ' spaghetti sauce',\n  ' mozzarella cheese',\n  ' ricotta cheese',\n  ' dried basil',\n  ' parmesan cheese'],\n ['manicotti',\n  ' ground beef',\n  ' spaghetti sauce',\n  ' mozzarella cheese',\n  ' ricotta cheese',\n  ' dried basil',\n  ' parmesan cheese'],\n ['manicotti',\n  ' ground beef',\n  ' spaghetti sauce',\n  ' mozzarella cheese',\n  ' ricotta cheese',\n  ' dried basil',\n  ' parmesan cheese'],\n ['manicotti',\n  ' ground beef',\n  ' spaghetti sauce',\n  ' mozzarella cheese',\n  ' ricotta cheese',\n  ' dried basil',\n  ' parmesan cheese'],\n ['manicotti',\n  ' ground beef',\n  ' spaghetti sauce',\n  ' mozzarella cheese',\n  ' ricotta cheese',\n  ' dried basil',\n  ' parmesan cheese'],\n ['manicotti',\n  ' ground beef',\n  ' spaghetti sauce',\n  ' mozzarella cheese',\n  ' ricotta cheese',\n  ' dried basil',\n  ' parmesan cheese'],\n ['manicotti',\n  ' ground beef',\n  ' spaghetti sauce',\n  ' mozzarella cheese',\n  ' ricotta cheese',\n  ' dried basil',\n  ' parmesan cheese'],\n ['frosting', ' chocolate', ' dipping chocolate', ' candy sprinkles'],\n ['frosting', ' chocolate', ' dipping chocolate', ' candy sprinkles'],\n ['frosting', ' chocolate', ' dipping chocolate', ' candy sprinkles'],\n ['frosting', ' chocolate', ' dipping chocolate', ' candy sprinkles'],\n ['fettuccine',\n  ' oil',\n  ' butter',\n  ' garlic cloves',\n  ' shrimp',\n  ' fresh parsley',\n  ' fresh mushrooms',\n  ' green onion',\n  ' cayenne pepper',\n  ' flour',\n  ' dry white wine',\n  ' heavy cream',\n  ' parmesan cheese',\n  ' salt'],\n ['fettuccine',\n  ' oil',\n  ' butter',\n  ' garlic cloves',\n  ' shrimp',\n  ' fresh parsley',\n  ' fresh mushrooms',\n  ' green onion',\n  ' cayenne pepper',\n  ' flour',\n  ' dry white wine',\n  ' heavy cream',\n  ' parmesan cheese',\n  ' salt'],\n ['fettuccine',\n  ' oil',\n  ' butter',\n  ' garlic cloves',\n  ' shrimp',\n  ' fresh parsley',\n  ' fresh mushrooms',\n  ' green onion',\n  ' cayenne pepper',\n  ' flour',\n  ' dry white wine',\n  ' heavy cream',\n  ' parmesan cheese',\n  ' salt'],\n ['fettuccine',\n  ' oil',\n  ' butter',\n  ' garlic cloves',\n  ' shrimp',\n  ' fresh parsley',\n  ' fresh mushrooms',\n  ' green onion',\n  ' cayenne pepper',\n  ' flour',\n  ' dry white wine',\n  ' heavy cream',\n  ' parmesan cheese',\n  ' salt'],\n ['fettuccine',\n  ' oil',\n  ' butter',\n  ' garlic cloves',\n  ' shrimp',\n  ' fresh parsley',\n  ' fresh mushrooms',\n  ' green onion',\n  ' cayenne pepper',\n  ' flour',\n  ' dry white wine',\n  ' heavy cream',\n  ' parmesan cheese',\n  ' salt'],\n ['fettuccine',\n  ' oil',\n  ' butter',\n  ' garlic cloves',\n  ' shrimp',\n  ' fresh parsley',\n  ' fresh mushrooms',\n  ' green onion',\n  ' cayenne pepper',\n  ' flour',\n  ' dry white wine',\n  ' heavy cream',\n  ' parmesan cheese',\n  ' salt'],\n ['fettuccine',\n  ' oil',\n  ' butter',\n  ' garlic cloves',\n  ' shrimp',\n  ' fresh parsley',\n  ' fresh mushrooms',\n  ' green onion',\n  ' cayenne pepper',\n  ' flour',\n  ' dry white wine',\n  ' heavy cream',\n  ' parmesan cheese',\n  ' salt'],\n ['fettuccine',\n  ' oil',\n  ' butter',\n  ' garlic cloves',\n  ' shrimp',\n  ' fresh parsley',\n  ' fresh mushrooms',\n  ' green onion',\n  ' cayenne pepper',\n  ' flour',\n  ' dry white wine',\n  ' heavy cream',\n  ' parmesan cheese',\n  ' salt'],\n ['fettuccine',\n  ' oil',\n  ' butter',\n  ' garlic cloves',\n  ' shrimp',\n  ' fresh parsley',\n  ' fresh mushrooms',\n  ' green onion',\n  ' cayenne pepper',\n  ' flour',\n  ' dry white wine',\n  ' heavy cream',\n  ' parmesan cheese',\n  ' salt'],\n ['fettuccine',\n  ' oil',\n  ' butter',\n  ' garlic cloves',\n  ' shrimp',\n  ' fresh parsley',\n  ' fresh mushrooms',\n  ' green onion',\n  ' cayenne pepper',\n  ' flour',\n  ' dry white wine',\n  ' heavy cream',\n  ' parmesan cheese',\n  ' salt'],\n ['fettuccine',\n  ' oil',\n  ' butter',\n  ' garlic cloves',\n  ' shrimp',\n  ' fresh parsley',\n  ' fresh mushrooms',\n  ' green onion',\n  ' cayenne pepper',\n  ' flour',\n  ' dry white wine',\n  ' heavy cream',\n  ' parmesan cheese',\n  ' salt'],\n ['fettuccine',\n  ' oil',\n  ' butter',\n  ' garlic cloves',\n  ' shrimp',\n  ' fresh parsley',\n  ' fresh mushrooms',\n  ' green onion',\n  ' cayenne pepper',\n  ' flour',\n  ' dry white wine',\n  ' heavy cream',\n  ' parmesan cheese',\n  ' salt'],\n ['fettuccine',\n  ' oil',\n  ' butter',\n  ' garlic cloves',\n  ' shrimp',\n  ' fresh parsley',\n  ' fresh mushrooms',\n  ' green onion',\n  ' cayenne pepper',\n  ' flour',\n  ' dry white wine',\n  ' heavy cream',\n  ' parmesan cheese',\n  ' salt'],\n ['fettuccine',\n  ' oil',\n  ' butter',\n  ' garlic cloves',\n  ' shrimp',\n  ' fresh parsley',\n  ' fresh mushrooms',\n  ' green onion',\n  ' cayenne pepper',\n  ' flour',\n  ' dry white wine',\n  ' heavy cream',\n  ' parmesan cheese',\n  ' salt'],\n ['flour',\n  ' baking powder',\n  ' baking soda',\n  ' ground cardamom',\n  ' salt',\n  ' margarine',\n  ' brown sugar',\n  ' eggs',\n  ' vanilla',\n  ' sour cream',\n  ' apple',\n  ' walnuts'],\n ['flour',\n  ' baking powder',\n  ' baking soda',\n  ' ground cardamom',\n  ' salt',\n  ' margarine',\n  ' brown sugar',\n  ' eggs',\n  ' vanilla',\n  ' sour cream',\n  ' apple',\n  ' walnuts'],\n ['flour',\n  ' baking powder',\n  ' baking soda',\n  ' ground cardamom',\n  ' salt',\n  ' margarine',\n  ' brown sugar',\n  ' eggs',\n  ' vanilla',\n  ' sour cream',\n  ' apple',\n  ' walnuts'],\n ['flour',\n  ' baking powder',\n  ' baking soda',\n  ' ground cardamom',\n  ' salt',\n  ' margarine',\n  ' brown sugar',\n  ' eggs',\n  ' vanilla',\n  ' sour cream',\n  ' apple',\n  ' walnuts'],\n ['flour',\n  ' baking powder',\n  ' baking soda',\n  ' ground cardamom',\n  ' salt',\n  ' margarine',\n  ' brown sugar',\n  ' eggs',\n  ' vanilla',\n  ' sour cream',\n  ' apple',\n  ' walnuts'],\n ['flour',\n  ' baking powder',\n  ' baking soda',\n  ' ground cardamom',\n  ' salt',\n  ' margarine',\n  ' brown sugar',\n  ' eggs',\n  ' vanilla',\n  ' sour cream',\n  ' apple',\n  ' walnuts'],\n ['flour',\n  ' baking powder',\n  ' baking soda',\n  ' ground cardamom',\n  ' salt',\n  ' margarine',\n  ' brown sugar',\n  ' eggs',\n  ' vanilla',\n  ' sour cream',\n  ' apple',\n  ' walnuts'],\n ['flour',\n  ' baking powder',\n  ' baking soda',\n  ' ground cardamom',\n  ' salt',\n  ' margarine',\n  ' brown sugar',\n  ' eggs',\n  ' vanilla',\n  ' sour cream',\n  ' apple',\n  ' walnuts'],\n ['flour',\n  ' baking powder',\n  ' baking soda',\n  ' ground cardamom',\n  ' salt',\n  ' margarine',\n  ' brown sugar',\n  ' eggs',\n  ' vanilla',\n  ' sour cream',\n  ' apple',\n  ' walnuts'],\n ['flour',\n  ' baking powder',\n  ' baking soda',\n  ' ground cardamom',\n  ' salt',\n  ' margarine',\n  ' brown sugar',\n  ' eggs',\n  ' vanilla',\n  ' sour cream',\n  ' apple',\n  ' walnuts'],\n ['flour',\n  ' baking powder',\n  ' baking soda',\n  ' ground cardamom',\n  ' salt',\n  ' margarine',\n  ' brown sugar',\n  ' eggs',\n  ' vanilla',\n  ' sour cream',\n  ' apple',\n  ' walnuts'],\n ['flour',\n  ' baking powder',\n  ' baking soda',\n  ' ground cardamom',\n  ' salt',\n  ' margarine',\n  ' brown sugar',\n  ' eggs',\n  ' vanilla',\n  ' sour cream',\n  ' apple',\n  ' walnuts'],\n ['water',\n  ' saffron thread',\n  ' smoked paprika',\n  ' hot paprika',\n  ' mayonnaise',\n  ' extra virgin olive oil',\n  ' fresh lemon juice',\n  ' garlic clove',\n  ' fingerling potatoes',\n  ' fleur de sel',\n  ' fresh cilantro'],\n ['water',\n  ' saffron thread',\n  ' smoked paprika',\n  ' hot paprika',\n  ' mayonnaise',\n  ' extra virgin olive oil',\n  ' fresh lemon juice',\n  ' garlic clove',\n  ' fingerling potatoes',\n  ' fleur de sel',\n  ' fresh cilantro'],\n ['water',\n  ' saffron thread',\n  ' smoked paprika',\n  ' hot paprika',\n  ' mayonnaise',\n  ' extra virgin olive oil',\n  ' fresh lemon juice',\n  ' garlic clove',\n  ' fingerling potatoes',\n  ' fleur de sel',\n  ' fresh cilantro'],\n ['water',\n  ' saffron thread',\n  ' smoked paprika',\n  ' hot paprika',\n  ' mayonnaise',\n  ' extra virgin olive oil',\n  ' fresh lemon juice',\n  ' garlic clove',\n  ' fingerling potatoes',\n  ' fleur de sel',\n  ' fresh cilantro'],\n ['water',\n  ' saffron thread',\n  ' smoked paprika',\n  ' hot paprika',\n  ' mayonnaise',\n  ' extra virgin olive oil',\n  ' fresh lemon juice',\n  ' garlic clove',\n  ' fingerling potatoes',\n  ' fleur de sel',\n  ' fresh cilantro'],\n ['water',\n  ' saffron thread',\n  ' smoked paprika',\n  ' hot paprika',\n  ' mayonnaise',\n  ' extra virgin olive oil',\n  ' fresh lemon juice',\n  ' garlic clove',\n  ' fingerling potatoes',\n  ' fleur de sel',\n  ' fresh cilantro'],\n ['water',\n  ' saffron thread',\n  ' smoked paprika',\n  ' hot paprika',\n  ' mayonnaise',\n  ' extra virgin olive oil',\n  ' fresh lemon juice',\n  ' garlic clove',\n  ' fingerling potatoes',\n  ' fleur de sel',\n  ' fresh cilantro'],\n ['water',\n  ' saffron thread',\n  ' smoked paprika',\n  ' hot paprika',\n  ' mayonnaise',\n  ' extra virgin olive oil',\n  ' fresh lemon juice',\n  ' garlic clove',\n  ' fingerling potatoes',\n  ' fleur de sel',\n  ' fresh cilantro'],\n ['water',\n  ' saffron thread',\n  ' smoked paprika',\n  ' hot paprika',\n  ' mayonnaise',\n  ' extra virgin olive oil',\n  ' fresh lemon juice',\n  ' garlic clove',\n  ' fingerling potatoes',\n  ' fleur de sel',\n  ' fresh cilantro'],\n ['water',\n  ' saffron thread',\n  ' smoked paprika',\n  ' hot paprika',\n  ' mayonnaise',\n  ' extra virgin olive oil',\n  ' fresh lemon juice',\n  ' garlic clove',\n  ' fingerling potatoes',\n  ' fleur de sel',\n  ' fresh cilantro'],\n ['water',\n  ' saffron thread',\n  ' smoked paprika',\n  ' hot paprika',\n  ' mayonnaise',\n  ' extra virgin olive oil',\n  ' fresh lemon juice',\n  ' garlic clove',\n  ' fingerling potatoes',\n  ' fleur de sel',\n  ' fresh cilantro'],\n ['flour',\n  ' sugar',\n  ' cocoa',\n  ' baking powder',\n  ' baking soda',\n  ' salt',\n  ' applesauce',\n  ' plain soymilk',\n  ' canola oil',\n  ' dried sweetened cranberries',\n  ' walnuts',\n  ' cooking spray',\n  ' powdered sugar'],\n ['flour',\n  ' sugar',\n  ' cocoa',\n  ' baking powder',\n  ' baking soda',\n  ' salt',\n  ' applesauce',\n  ' plain soymilk',\n  ' canola oil',\n  ' dried sweetened cranberries',\n  ' walnuts',\n  ' cooking spray',\n  ' powdered sugar'],\n ['flour',\n  ' sugar',\n  ' cocoa',\n  ' baking powder',\n  ' baking soda',\n  ' salt',\n  ' applesauce',\n  ' plain soymilk',\n  ' canola oil',\n  ' dried sweetened cranberries',\n  ' walnuts',\n  ' cooking spray',\n  ' powdered sugar'],\n ['flour',\n  ' sugar',\n  ' cocoa',\n  ' baking powder',\n  ' baking soda',\n  ' salt',\n  ' applesauce',\n  ' plain soymilk',\n  ' canola oil',\n  ' dried sweetened cranberries',\n  ' walnuts',\n  ' cooking spray',\n  ' powdered sugar'],\n ['flour',\n  ' sugar',\n  ' cocoa',\n  ' baking powder',\n  ' baking soda',\n  ' salt',\n  ' applesauce',\n  ' plain soymilk',\n  ' canola oil',\n  ' dried sweetened cranberries',\n  ' walnuts',\n  ' cooking spray',\n  ' powdered sugar'],\n ['flour',\n  ' sugar',\n  ' cocoa',\n  ' baking powder',\n  ' baking soda',\n  ' salt',\n  ' applesauce',\n  ' plain soymilk',\n  ' canola oil',\n  ' dried sweetened cranberries',\n  ' walnuts',\n  ' cooking spray',\n  ' powdered sugar'],\n ['flour',\n  ' sugar',\n  ' cocoa',\n  ' baking powder',\n  ' baking soda',\n  ' salt',\n  ' applesauce',\n  ' plain soymilk',\n  ' canola oil',\n  ' dried sweetened cranberries',\n  ' walnuts',\n  ' cooking spray',\n  ' powdered sugar'],\n ['flour',\n  ' sugar',\n  ' cocoa',\n  ' baking powder',\n  ' baking soda',\n  ' salt',\n  ' applesauce',\n  ' plain soymilk',\n  ' canola oil',\n  ' dried sweetened cranberries',\n  ' walnuts',\n  ' cooking spray',\n  ' powdered sugar'],\n ['flour',\n  ' sugar',\n  ' cocoa',\n  ' baking powder',\n  ' baking soda',\n  ' salt',\n  ' applesauce',\n  ' plain soymilk',\n  ' canola oil',\n  ' dried sweetened cranberries',\n  ' walnuts',\n  ' cooking spray',\n  ' powdered sugar'],\n ['flour',\n  ' sugar',\n  ' cocoa',\n  ' baking powder',\n  ' baking soda',\n  ' salt',\n  ' applesauce',\n  ' plain soymilk',\n  ' canola oil',\n  ' dried sweetened cranberries',\n  ' walnuts',\n  ' cooking spray',\n  ' powdered sugar'],\n ['flour',\n  ' sugar',\n  ' cocoa',\n  ' baking powder',\n  ' baking soda',\n  ' salt',\n  ' applesauce',\n  ' plain soymilk',\n  ' canola oil',\n  ' dried sweetened cranberries',\n  ' walnuts',\n  ' cooking spray',\n  ' powdered sugar'],\n ['flour',\n  ' sugar',\n  ' cocoa',\n  ' baking powder',\n  ' baking soda',\n  ' salt',\n  ' applesauce',\n  ' plain soymilk',\n  ' canola oil',\n  ' dried sweetened cranberries',\n  ' walnuts',\n  ' cooking spray',\n  ' powdered sugar'],\n ['flour',\n  ' sugar',\n  ' cocoa',\n  ' baking powder',\n  ' baking soda',\n  ' salt',\n  ' applesauce',\n  ' plain soymilk',\n  ' canola oil',\n  ' dried sweetened cranberries',\n  ' walnuts',\n  ' cooking spray',\n  ' powdered sugar'],\n ['peanut butter',\n  ' honey',\n  ' brownie mix',\n  ' vegetable oil',\n  ' water',\n  ' egg',\n  ' semi-sweet chocolate chips',\n  ' margarine'],\n ['peanut butter',\n  ' honey',\n  ' brownie mix',\n  ' vegetable oil',\n  ' water',\n  ' egg',\n  ' semi-sweet chocolate chips',\n  ' margarine'],\n ['peanut butter',\n  ' honey',\n  ' brownie mix',\n  ' vegetable oil',\n  ' water',\n  ' egg',\n  ' semi-sweet chocolate chips',\n  ' margarine'],\n ['peanut butter',\n  ' honey',\n  ' brownie mix',\n  ' vegetable oil',\n  ' water',\n  ' egg',\n  ' semi-sweet chocolate chips',\n  ' margarine'],\n ['peanut butter',\n  ' honey',\n  ' brownie mix',\n  ' vegetable oil',\n  ' water',\n  ' egg',\n  ' semi-sweet chocolate chips',\n  ' margarine'],\n ['peanut butter',\n  ' honey',\n  ' brownie mix',\n  ' vegetable oil',\n  ' water',\n  ' egg',\n  ' semi-sweet chocolate chips',\n  ' margarine'],\n ['peanut butter',\n  ' honey',\n  ' brownie mix',\n  ' vegetable oil',\n  ' water',\n  ' egg',\n  ' semi-sweet chocolate chips',\n  ' margarine'],\n ['peanut butter',\n  ' honey',\n  ' brownie mix',\n  ' vegetable oil',\n  ' water',\n  ' egg',\n  ' semi-sweet chocolate chips',\n  ' margarine'],\n ['cabbage',\n  ' onions',\n  ' sugar',\n  ' salt',\n  ' white vinegar',\n  ' vegetable oil',\n  ' yellow mustard',\n  ' celery seed'],\n ['cabbage',\n  ' onions',\n  ' sugar',\n  ' salt',\n  ' white vinegar',\n  ' vegetable oil',\n  ' yellow mustard',\n  ' celery seed'],\n ['cabbage',\n  ' onions',\n  ' sugar',\n  ' salt',\n  ' white vinegar',\n  ' vegetable oil',\n  ' yellow mustard',\n  ' celery seed'],\n ['cabbage',\n  ' onions',\n  ' sugar',\n  ' salt',\n  ' white vinegar',\n  ' vegetable oil',\n  ' yellow mustard',\n  ' celery seed'],\n ['cabbage',\n  ' onions',\n  ' sugar',\n  ' salt',\n  ' white vinegar',\n  ' vegetable oil',\n  ' yellow mustard',\n  ' celery seed'],\n ['cabbage',\n  ' onions',\n  ' sugar',\n  ' salt',\n  ' white vinegar',\n  ' vegetable oil',\n  ' yellow mustard',\n  ' celery seed'],\n ['cabbage',\n  ' onions',\n  ' sugar',\n  ' salt',\n  ' white vinegar',\n  ' vegetable oil',\n  ' yellow mustard',\n  ' celery seed'],\n ['cabbage',\n  ' onions',\n  ' sugar',\n  ' salt',\n  ' white vinegar',\n  ' vegetable oil',\n  ' yellow mustard',\n  ' celery seed'],\n ['chicken parts',\n  ' flour',\n  ' sesame seeds',\n  ' salt',\n  ' pepper',\n  ' peanut oil',\n  ' onion',\n  ' dry white wine',\n  ' chicken bouillon granule',\n  ' cornstarch',\n  ' water',\n  ' orange juice',\n  ' granulated sugar',\n  ' hot chinese chili paste',\n  ' ground ginger',\n  ' soy sauce',\n  ' orange',\n  ' toasted sliced almonds',\n  ' low-fat sour cream'],\n ['chicken parts',\n  ' flour',\n  ' sesame seeds',\n  ' salt',\n  ' pepper',\n  ' peanut oil',\n  ' onion',\n  ' dry white wine',\n  ' chicken bouillon granule',\n  ' cornstarch',\n  ' water',\n  ' orange juice',\n  ' granulated sugar',\n  ' hot chinese chili paste',\n  ' ground ginger',\n  ' soy sauce',\n  ' orange',\n  ' toasted sliced almonds',\n  ' low-fat sour cream'],\n ['chicken parts',\n  ' flour',\n  ' sesame seeds',\n  ' salt',\n  ' pepper',\n  ' peanut oil',\n  ' onion',\n  ' dry white wine',\n  ' chicken bouillon granule',\n  ' cornstarch',\n  ' water',\n  ' orange juice',\n  ' granulated sugar',\n  ' hot chinese chili paste',\n  ' ground ginger',\n  ' soy sauce',\n  ' orange',\n  ' toasted sliced almonds',\n  ' low-fat sour cream'],\n ['chicken parts',\n  ' flour',\n  ' sesame seeds',\n  ' salt',\n  ' pepper',\n  ' peanut oil',\n  ' onion',\n  ' dry white wine',\n  ' chicken bouillon granule',\n  ' cornstarch',\n  ' water',\n  ' orange juice',\n  ' granulated sugar',\n  ' hot chinese chili paste',\n  ' ground ginger',\n  ' soy sauce',\n  ' orange',\n  ' toasted sliced almonds',\n  ' low-fat sour cream'],\n ['chicken parts',\n  ' flour',\n  ' sesame seeds',\n  ' salt',\n  ' pepper',\n  ' peanut oil',\n  ' onion',\n  ' dry white wine',\n  ' chicken bouillon granule',\n  ' cornstarch',\n  ' water',\n  ' orange juice',\n  ' granulated sugar',\n  ' hot chinese chili paste',\n  ' ground ginger',\n  ' soy sauce',\n  ' orange',\n  ' toasted sliced almonds',\n  ' low-fat sour cream'],\n ['chicken parts',\n  ' flour',\n  ' sesame seeds',\n  ' salt',\n  ' pepper',\n  ' peanut oil',\n  ' onion',\n  ' dry white wine',\n  ' chicken bouillon granule',\n  ' cornstarch',\n  ' water',\n  ' orange juice',\n  ' granulated sugar',\n  ' hot chinese chili paste',\n  ' ground ginger',\n  ' soy sauce',\n  ' orange',\n  ' toasted sliced almonds',\n  ' low-fat sour cream'],\n ['chicken parts',\n  ' flour',\n  ' sesame seeds',\n  ' salt',\n  ' pepper',\n  ' peanut oil',\n  ' onion',\n  ' dry white wine',\n  ' chicken bouillon granule',\n  ' cornstarch',\n  ' water',\n  ' orange juice',\n  ' granulated sugar',\n  ' hot chinese chili paste',\n  ' ground ginger',\n  ' soy sauce',\n  ' orange',\n  ' toasted sliced almonds',\n  ' low-fat sour cream'],\n ['chicken parts',\n  ' flour',\n  ' sesame seeds',\n  ' salt',\n  ' pepper',\n  ' peanut oil',\n  ' onion',\n  ' dry white wine',\n  ' chicken bouillon granule',\n  ' cornstarch',\n  ' water',\n  ' orange juice',\n  ' granulated sugar',\n  ' hot chinese chili paste',\n  ' ground ginger',\n  ' soy sauce',\n  ' orange',\n  ' toasted sliced almonds',\n  ' low-fat sour cream'],\n ['chicken parts',\n  ' flour',\n  ' sesame seeds',\n  ' salt',\n  ' pepper',\n  ' peanut oil',\n  ' onion',\n  ' dry white wine',\n  ' chicken bouillon granule',\n  ' cornstarch',\n  ' water',\n  ' orange juice',\n  ' granulated sugar',\n  ' hot chinese chili paste',\n  ' ground ginger',\n  ' soy sauce',\n  ' orange',\n  ' toasted sliced almonds',\n  ' low-fat sour cream'],\n ['chicken parts',\n  ' flour',\n  ' sesame seeds',\n  ' salt',\n  ' pepper',\n  ' peanut oil',\n  ' onion',\n  ' dry white wine',\n  ' chicken bouillon granule',\n  ' cornstarch',\n  ' water',\n  ' orange juice',\n  ' granulated sugar',\n  ' hot chinese chili paste',\n  ' ground ginger',\n  ' soy sauce',\n  ' orange',\n  ' toasted sliced almonds',\n  ' low-fat sour cream'],\n ['chicken parts',\n  ' flour',\n  ' sesame seeds',\n  ' salt',\n  ' pepper',\n  ' peanut oil',\n  ' onion',\n  ' dry white wine',\n  ' chicken bouillon granule',\n  ' cornstarch',\n  ' water',\n  ' orange juice',\n  ' granulated sugar',\n  ' hot chinese chili paste',\n  ' ground ginger',\n  ' soy sauce',\n  ' orange',\n  ' toasted sliced almonds',\n  ' low-fat sour cream'],\n ['chicken parts',\n  ' flour',\n  ' sesame seeds',\n  ' salt',\n  ' pepper',\n  ' peanut oil',\n  ' onion',\n  ' dry white wine',\n  ' chicken bouillon granule',\n  ' cornstarch',\n  ' water',\n  ' orange juice',\n  ' granulated sugar',\n  ' hot chinese chili paste',\n  ' ground ginger',\n  ' soy sauce',\n  ' orange',\n  ' toasted sliced almonds',\n  ' low-fat sour cream'],\n ['chicken parts',\n  ' flour',\n  ' sesame seeds',\n  ' salt',\n  ' pepper',\n  ' peanut oil',\n  ' onion',\n  ' dry white wine',\n  ' chicken bouillon granule',\n  ' cornstarch',\n  ' water',\n  ' orange juice',\n  ' granulated sugar',\n  ' hot chinese chili paste',\n  ' ground ginger',\n  ' soy sauce',\n  ' orange',\n  ' toasted sliced almonds',\n  ' low-fat sour cream'],\n ['chicken parts',\n  ' flour',\n  ' sesame seeds',\n  ' salt',\n  ' pepper',\n  ' peanut oil',\n  ' onion',\n  ' dry white wine',\n  ' chicken bouillon granule',\n  ' cornstarch',\n  ' water',\n  ' orange juice',\n  ' granulated sugar',\n  ' hot chinese chili paste',\n  ' ground ginger',\n  ' soy sauce',\n  ' orange',\n  ' toasted sliced almonds',\n  ' low-fat sour cream'],\n ['chicken parts',\n  ' flour',\n  ' sesame seeds',\n  ' salt',\n  ' pepper',\n  ' peanut oil',\n  ' onion',\n  ' dry white wine',\n  ' chicken bouillon granule',\n  ' cornstarch',\n  ' water',\n  ' orange juice',\n  ' granulated sugar',\n  ' hot chinese chili paste',\n  ' ground ginger',\n  ' soy sauce',\n  ' orange',\n  ' toasted sliced almonds',\n  ' low-fat sour cream'],\n ['chicken parts',\n  ' flour',\n  ' sesame seeds',\n  ' salt',\n  ' pepper',\n  ' peanut oil',\n  ' onion',\n  ' dry white wine',\n  ' chicken bouillon granule',\n  ' cornstarch',\n  ' water',\n  ' orange juice',\n  ' granulated sugar',\n  ' hot chinese chili paste',\n  ' ground ginger',\n  ' soy sauce',\n  ' orange',\n  ' toasted sliced almonds',\n  ' low-fat sour cream'],\n ['chicken parts',\n  ' flour',\n  ' sesame seeds',\n  ' salt',\n  ' pepper',\n  ' peanut oil',\n  ' onion',\n  ' dry white wine',\n  ' chicken bouillon granule',\n  ' cornstarch',\n  ' water',\n  ' orange juice',\n  ' granulated sugar',\n  ' hot chinese chili paste',\n  ' ground ginger',\n  ' soy sauce',\n  ' orange',\n  ' toasted sliced almonds',\n  ' low-fat sour cream'],\n ['chicken parts',\n  ' flour',\n  ' sesame seeds',\n  ' salt',\n  ' pepper',\n  ' peanut oil',\n  ' onion',\n  ' dry white wine',\n  ' chicken bouillon granule',\n  ' cornstarch',\n  ' water',\n  ' orange juice',\n  ' granulated sugar',\n  ' hot chinese chili paste',\n  ' ground ginger',\n  ' soy sauce',\n  ' orange',\n  ' toasted sliced almonds',\n  ' low-fat sour cream'],\n ['chicken parts',\n  ' flour',\n  ' sesame seeds',\n  ' salt',\n  ' pepper',\n  ' peanut oil',\n  ' onion',\n  ' dry white wine',\n  ' chicken bouillon granule',\n  ' cornstarch',\n  ' water',\n  ' orange juice',\n  ' granulated sugar',\n  ' hot chinese chili paste',\n  ' ground ginger',\n  ' soy sauce',\n  ' orange',\n  ' toasted sliced almonds',\n  ' low-fat sour cream'],\n ['butter',\n  ' flour',\n  ' brown sugar',\n  ' egg',\n  ' baking powder',\n  ' ground cinnamon',\n  ' salt',\n  ' ground nutmeg',\n  ' ground cloves',\n  ' blanched almond'],\n ['butter',\n  ' flour',\n  ' brown sugar',\n  ' egg',\n  ' baking powder',\n  ' ground cinnamon',\n  ' salt',\n  ' ground nutmeg',\n  ' ground cloves',\n  ' blanched almond'],\n ['butter',\n  ' flour',\n  ' brown sugar',\n  ' egg',\n  ' baking powder',\n  ' ground cinnamon',\n  ' salt',\n  ' ground nutmeg',\n  ' ground cloves',\n  ' blanched almond'],\n ['butter',\n  ' flour',\n  ' brown sugar',\n  ' egg',\n  ' baking powder',\n  ' ground cinnamon',\n  ' salt',\n  ' ground nutmeg',\n  ' ground cloves',\n  ' blanched almond'],\n ['butter',\n  ' flour',\n  ' brown sugar',\n  ' egg',\n  ' baking powder',\n  ' ground cinnamon',\n  ' salt',\n  ' ground nutmeg',\n  ' ground cloves',\n  ' blanched almond'],\n ['butter',\n  ' flour',\n  ' brown sugar',\n  ' egg',\n  ' baking powder',\n  ' ground cinnamon',\n  ' salt',\n  ' ground nutmeg',\n  ' ground cloves',\n  ' blanched almond'],\n ['butter',\n  ' flour',\n  ' brown sugar',\n  ' egg',\n  ' baking powder',\n  ' ground cinnamon',\n  ' salt',\n  ' ground nutmeg',\n  ' ground cloves',\n  ' blanched almond'],\n ['butter',\n  ' flour',\n  ' brown sugar',\n  ' egg',\n  ' baking powder',\n  ' ground cinnamon',\n  ' salt',\n  ' ground nutmeg',\n  ' ground cloves',\n  ' blanched almond'],\n ['butter',\n  ' flour',\n  ' brown sugar',\n  ' egg',\n  ' baking powder',\n  ' ground cinnamon',\n  ' salt',\n  ' ground nutmeg',\n  ' ground cloves',\n  ' blanched almond'],\n ['butter',\n  ' flour',\n  ' brown sugar',\n  ' egg',\n  ' baking powder',\n  ' ground cinnamon',\n  ' salt',\n  ' ground nutmeg',\n  ' ground cloves',\n  ' blanched almond'],\n ['ketchup',\n  ' balsamic vinegar',\n  ' dark brown sugar',\n  ' granulated garlic',\n  ' worcestershire sauce',\n  ' tabasco sauce',\n  ' dijon mustard',\n  ' paprika',\n  ' lemon juice',\n  ' extra virgin olive oil',\n  ' chicken wings'],\n ['ketchup',\n  ' balsamic vinegar',\n  ' dark brown sugar',\n  ' granulated garlic',\n  ' worcestershire sauce',\n  ' tabasco sauce',\n  ' dijon mustard',\n  ' paprika',\n  ' lemon juice',\n  ' extra virgin olive oil',\n  ' chicken wings'],\n ['ketchup',\n  ' balsamic vinegar',\n  ' dark brown sugar',\n  ' granulated garlic',\n  ' worcestershire sauce',\n  ' tabasco sauce',\n  ' dijon mustard',\n  ' paprika',\n  ' lemon juice',\n  ' extra virgin olive oil',\n  ' chicken wings'],\n ['ketchup',\n  ' balsamic vinegar',\n  ' dark brown sugar',\n  ' granulated garlic',\n  ' worcestershire sauce',\n  ' tabasco sauce',\n  ' dijon mustard',\n  ' paprika',\n  ' lemon juice',\n  ' extra virgin olive oil',\n  ' chicken wings'],\n ['ketchup',\n  ' balsamic vinegar',\n  ' dark brown sugar',\n  ' granulated garlic',\n  ' worcestershire sauce',\n  ' tabasco sauce',\n  ' dijon mustard',\n  ' paprika',\n  ' lemon juice',\n  ' extra virgin olive oil',\n  ' chicken wings'],\n ['ketchup',\n  ' balsamic vinegar',\n  ' dark brown sugar',\n  ' granulated garlic',\n  ' worcestershire sauce',\n  ' tabasco sauce',\n  ' dijon mustard',\n  ' paprika',\n  ' lemon juice',\n  ' extra virgin olive oil',\n  ' chicken wings'],\n ['ketchup',\n  ' balsamic vinegar',\n  ' dark brown sugar',\n  ' granulated garlic',\n  ' worcestershire sauce',\n  ' tabasco sauce',\n  ' dijon mustard',\n  ' paprika',\n  ' lemon juice',\n  ' extra virgin olive oil',\n  ' chicken wings'],\n ['ketchup',\n  ' balsamic vinegar',\n  ' dark brown sugar',\n  ' granulated garlic',\n  ' worcestershire sauce',\n  ' tabasco sauce',\n  ' dijon mustard',\n  ' paprika',\n  ' lemon juice',\n  ' extra virgin olive oil',\n  ' chicken wings'],\n ['ketchup',\n  ' balsamic vinegar',\n  ' dark brown sugar',\n  ' granulated garlic',\n  ' worcestershire sauce',\n  ' tabasco sauce',\n  ' dijon mustard',\n  ' paprika',\n  ' lemon juice',\n  ' extra virgin olive oil',\n  ' chicken wings'],\n ['ketchup',\n  ' balsamic vinegar',\n  ' dark brown sugar',\n  ' granulated garlic',\n  ' worcestershire sauce',\n  ' tabasco sauce',\n  ' dijon mustard',\n  ' paprika',\n  ' lemon juice',\n  ' extra virgin olive oil',\n  ' chicken wings'],\n ['ketchup',\n  ' balsamic vinegar',\n  ' dark brown sugar',\n  ' granulated garlic',\n  ' worcestershire sauce',\n  ' tabasco sauce',\n  ' dijon mustard',\n  ' paprika',\n  ' lemon juice',\n  ' extra virgin olive oil',\n  ' chicken wings'],\n ['flour',\n  ' baking powder',\n  ' sugar',\n  ' salt',\n  ' egg',\n  ' milk',\n  ' vegetable oil',\n  ' water'],\n ['flour',\n  ' baking powder',\n  ' sugar',\n  ' salt',\n  ' egg',\n  ' milk',\n  ' vegetable oil',\n  ' water'],\n ['flour',\n  ' baking powder',\n  ' sugar',\n  ' salt',\n  ' egg',\n  ' milk',\n  ' vegetable oil',\n  ' water'],\n ['flour',\n  ' baking powder',\n  ' sugar',\n  ' salt',\n  ' egg',\n  ' milk',\n  ' vegetable oil',\n  ' water'],\n ['flour',\n  ' baking powder',\n  ' sugar',\n  ' salt',\n  ' egg',\n  ' milk',\n  ' vegetable oil',\n  ' water'],\n ['flour',\n  ' baking powder',\n  ' sugar',\n  ' salt',\n  ' egg',\n  ' milk',\n  ' vegetable oil',\n  ' water'],\n ['flour',\n  ' baking powder',\n  ' sugar',\n  ' salt',\n  ' egg',\n  ' milk',\n  ' vegetable oil',\n  ' water'],\n ['flour',\n  ' baking powder',\n  ' sugar',\n  ' salt',\n  ' egg',\n  ' milk',\n  ' vegetable oil',\n  ' water'],\n ['cabbage',\n  ' vegetable oil',\n  ' mustard seeds',\n  ' urad dal',\n  ' water',\n  ' salt',\n  ' turmeric powder'],\n ['cabbage',\n  ' vegetable oil',\n  ' mustard seeds',\n  ' urad dal',\n  ' water',\n  ' salt',\n  ' turmeric powder'],\n ['cabbage',\n  ' vegetable oil',\n  ' mustard seeds',\n  ' urad dal',\n  ' water',\n  ' salt',\n  ' turmeric powder'],\n ['cabbage',\n  ' vegetable oil',\n  ' mustard seeds',\n  ' urad dal',\n  ' water',\n  ' salt',\n  ' turmeric powder'],\n ['cabbage',\n  ' vegetable oil',\n  ' mustard seeds',\n  ' urad dal',\n  ' water',\n  ' salt',\n  ' turmeric powder'],\n ['cabbage',\n  ' vegetable oil',\n  ' mustard seeds',\n  ' urad dal',\n  ' water',\n  ' salt',\n  ' turmeric powder'],\n ['cabbage',\n  ' vegetable oil',\n  ' mustard seeds',\n  ' urad dal',\n  ' water',\n  ' salt',\n  ' turmeric powder'],\n ['fresh broccoli florets',\n  ' cauliflower florets',\n  ' frozen peas',\n  ' red onion',\n  ' radish',\n  ' reduced-fat sour cream',\n  ' mayonnaise',\n  ' prepared horseradish',\n  ' salt',\n  ' garlic powder',\n  ' pepper',\n  ' sugar'],\n ['fresh broccoli florets',\n  ' cauliflower florets',\n  ' frozen peas',\n  ' red onion',\n  ' radish',\n  ' reduced-fat sour cream',\n  ' mayonnaise',\n  ' prepared horseradish',\n  ' salt',\n  ' garlic powder',\n  ' pepper',\n  ' sugar'],\n ['fresh broccoli florets',\n  ' cauliflower florets',\n  ' frozen peas',\n  ' red onion',\n  ' radish',\n  ' reduced-fat sour cream',\n  ' mayonnaise',\n  ' prepared horseradish',\n  ' salt',\n  ' garlic powder',\n  ' pepper',\n  ' sugar'],\n ['fresh broccoli florets',\n  ' cauliflower florets',\n  ' frozen peas',\n  ' red onion',\n  ' radish',\n  ' reduced-fat sour cream',\n  ' mayonnaise',\n  ' prepared horseradish',\n  ' salt',\n  ' garlic powder',\n  ' pepper',\n  ' sugar'],\n ['fresh broccoli florets',\n  ' cauliflower florets',\n  ' frozen peas',\n  ' red onion',\n  ' radish',\n  ' reduced-fat sour cream',\n  ' mayonnaise',\n  ' prepared horseradish',\n  ' salt',\n  ' garlic powder',\n  ' pepper',\n  ' sugar'],\n ['fresh broccoli florets',\n  ' cauliflower florets',\n  ' frozen peas',\n  ' red onion',\n  ' radish',\n  ' reduced-fat sour cream',\n  ' mayonnaise',\n  ' prepared horseradish',\n  ' salt',\n  ' garlic powder',\n  ' pepper',\n  ' sugar'],\n ['fresh broccoli florets',\n  ' cauliflower florets',\n  ' frozen peas',\n  ' red onion',\n  ' radish',\n  ' reduced-fat sour cream',\n  ' mayonnaise',\n  ' prepared horseradish',\n  ' salt',\n  ' garlic powder',\n  ' pepper',\n  ' sugar'],\n ['fresh broccoli florets',\n  ' cauliflower florets',\n  ' frozen peas',\n  ' red onion',\n  ' radish',\n  ' reduced-fat sour cream',\n  ' mayonnaise',\n  ' prepared horseradish',\n  ' salt',\n  ' garlic powder',\n  ' pepper',\n  ' sugar'],\n ['fresh broccoli florets',\n  ' cauliflower florets',\n  ' frozen peas',\n  ' red onion',\n  ' radish',\n  ' reduced-fat sour cream',\n  ' mayonnaise',\n  ' prepared horseradish',\n  ' salt',\n  ' garlic powder',\n  ' pepper',\n  ' sugar'],\n ['fresh broccoli florets',\n  ' cauliflower florets',\n  ' frozen peas',\n  ' red onion',\n  ' radish',\n  ' reduced-fat sour cream',\n  ' mayonnaise',\n  ' prepared horseradish',\n  ' salt',\n  ' garlic powder',\n  ' pepper',\n  ' sugar'],\n ['fresh broccoli florets',\n  ' cauliflower florets',\n  ' frozen peas',\n  ' red onion',\n  ' radish',\n  ' reduced-fat sour cream',\n  ' mayonnaise',\n  ' prepared horseradish',\n  ' salt',\n  ' garlic powder',\n  ' pepper',\n  ' sugar'],\n ['fresh broccoli florets',\n  ' cauliflower florets',\n  ' frozen peas',\n  ' red onion',\n  ' radish',\n  ' reduced-fat sour cream',\n  ' mayonnaise',\n  ' prepared horseradish',\n  ' salt',\n  ' garlic powder',\n  ' pepper',\n  ' sugar'],\n ['mashed potatoes',\n  ' butter',\n  ' cooked chicken',\n  ' cooked ham',\n  ' mixed herbs',\n  ' eggs',\n  ' salt and pepper',\n  ' milk',\n  ' fresh breadcrumbs',\n  ' oil',\n  ' corn',\n  ' cheese'],\n ['mashed potatoes',\n  ' butter',\n  ' cooked chicken',\n  ' cooked ham',\n  ' mixed herbs',\n  ' eggs',\n  ' salt and pepper',\n  ' milk',\n  ' fresh breadcrumbs',\n  ' oil',\n  ' corn',\n  ' cheese'],\n ['mashed potatoes',\n  ' butter',\n  ' cooked chicken',\n  ' cooked ham',\n  ' mixed herbs',\n  ' eggs',\n  ' salt and pepper',\n  ' milk',\n  ' fresh breadcrumbs',\n  ' oil',\n  ' corn',\n  ' cheese'],\n ['mashed potatoes',\n  ' butter',\n  ' cooked chicken',\n  ' cooked ham',\n  ' mixed herbs',\n  ' eggs',\n  ' salt and pepper',\n  ' milk',\n  ' fresh breadcrumbs',\n  ' oil',\n  ' corn',\n  ' cheese'],\n ['mashed potatoes',\n  ' butter',\n  ' cooked chicken',\n  ' cooked ham',\n  ' mixed herbs',\n  ' eggs',\n  ' salt and pepper',\n  ' milk',\n  ' fresh breadcrumbs',\n  ' oil',\n  ' corn',\n  ' cheese'],\n ['mashed potatoes',\n  ' butter',\n  ' cooked chicken',\n  ' cooked ham',\n  ' mixed herbs',\n  ' eggs',\n  ' salt and pepper',\n  ' milk',\n  ' fresh breadcrumbs',\n  ' oil',\n  ' corn',\n  ' cheese'],\n ['mashed potatoes',\n  ' butter',\n  ' cooked chicken',\n  ' cooked ham',\n  ' mixed herbs',\n  ' eggs',\n  ' salt and pepper',\n  ' milk',\n  ' fresh breadcrumbs',\n  ' oil',\n  ' corn',\n  ' cheese'],\n ['mashed potatoes',\n  ' butter',\n  ' cooked chicken',\n  ' cooked ham',\n  ' mixed herbs',\n  ' eggs',\n  ' salt and pepper',\n  ' milk',\n  ' fresh breadcrumbs',\n  ' oil',\n  ' corn',\n  ' cheese'],\n ['mashed potatoes',\n  ' butter',\n  ' cooked chicken',\n  ' cooked ham',\n  ' mixed herbs',\n  ' eggs',\n  ' salt and pepper',\n  ' milk',\n  ' fresh breadcrumbs',\n  ' oil',\n  ' corn',\n  ' cheese'],\n ['mashed potatoes',\n  ' butter',\n  ' cooked chicken',\n  ' cooked ham',\n  ' mixed herbs',\n  ' eggs',\n  ' salt and pepper',\n  ' milk',\n  ' fresh breadcrumbs',\n  ' oil',\n  ' corn',\n  ' cheese'],\n ['mashed potatoes',\n  ' butter',\n  ' cooked chicken',\n  ' cooked ham',\n  ' mixed herbs',\n  ' eggs',\n  ' salt and pepper',\n  ' milk',\n  ' fresh breadcrumbs',\n  ' oil',\n  ' corn',\n  ' cheese'],\n ['mashed potatoes',\n  ' butter',\n  ' cooked chicken',\n  ' cooked ham',\n  ' mixed herbs',\n  ' eggs',\n  ' salt and pepper',\n  ' milk',\n  ' fresh breadcrumbs',\n  ' oil',\n  ' corn',\n  ' cheese'],\n ['\"devils food cake mix\"',\n  ' oil',\n  ' water',\n  ' eggs',\n  ' maraschino cherries',\n  ' cherry pie filling',\n  ' buttercream frosting',\n  ' chocolate curls'],\n ['\"devils food cake mix\"',\n  ' oil',\n  ' water',\n  ' eggs',\n  ' maraschino cherries',\n  ' cherry pie filling',\n  ' buttercream frosting',\n  ' chocolate curls'],\n ['\"devils food cake mix\"',\n  ' oil',\n  ' water',\n  ' eggs',\n  ' maraschino cherries',\n  ' cherry pie filling',\n  ' buttercream frosting',\n  ' chocolate curls'],\n ['\"devils food cake mix\"',\n  ' oil',\n  ' water',\n  ' eggs',\n  ' maraschino cherries',\n  ' cherry pie filling',\n  ' buttercream frosting',\n  ' chocolate curls'],\n ['\"devils food cake mix\"',\n  ' oil',\n  ' water',\n  ' eggs',\n  ' maraschino cherries',\n  ' cherry pie filling',\n  ' buttercream frosting',\n  ' chocolate curls'],\n ['\"devils food cake mix\"',\n  ' oil',\n  ' water',\n  ' eggs',\n  ' maraschino cherries',\n  ' cherry pie filling',\n  ' buttercream frosting',\n  ' chocolate curls'],\n ['\"devils food cake mix\"',\n  ' oil',\n  ' water',\n  ' eggs',\n  ' maraschino cherries',\n  ' cherry pie filling',\n  ' buttercream frosting',\n  ' chocolate curls'],\n ['\"devils food cake mix\"',\n  ' oil',\n  ' water',\n  ' eggs',\n  ' maraschino cherries',\n  ' cherry pie filling',\n  ' buttercream frosting',\n  ' chocolate curls'],\n ['teriyaki sauce',\n  ' sugar',\n  ' whole chicken breasts',\n  ' water',\n  ' cornstarch',\n  ' oil',\n  ' sesame seeds'],\n ['teriyaki sauce',\n  ' sugar',\n  ' whole chicken breasts',\n  ' water',\n  ' cornstarch',\n  ' oil',\n  ' sesame seeds'],\n ['teriyaki sauce',\n  ' sugar',\n  ' whole chicken breasts',\n  ' water',\n  ' cornstarch',\n  ' oil',\n  ' sesame seeds'],\n ['teriyaki sauce',\n  ' sugar',\n  ' whole chicken breasts',\n  ' water',\n  ' cornstarch',\n  ' oil',\n  ' sesame seeds'],\n ['teriyaki sauce',\n  ' sugar',\n  ' whole chicken breasts',\n  ' water',\n  ' cornstarch',\n  ' oil',\n  ' sesame seeds'],\n ['teriyaki sauce',\n  ' sugar',\n  ' whole chicken breasts',\n  ' water',\n  ' cornstarch',\n  ' oil',\n  ' sesame seeds'],\n ['teriyaki sauce',\n  ' sugar',\n  ' whole chicken breasts',\n  ' water',\n  ' cornstarch',\n  ' oil',\n  ' sesame seeds'],\n ['fried rice', ' egg', ' flour', ' oil'],\n ['fried rice', ' egg', ' flour', ' oil'],\n ['fried rice', ' egg', ' flour', ' oil'],\n ['fried rice', ' egg', ' flour', ' oil'],\n ['refrigerated crescent dinner rolls',\n  ' chili without beans',\n  ' corn chips',\n  ' parmesan cheese'],\n ['refrigerated crescent dinner rolls',\n  ' chili without beans',\n  ' corn chips',\n  ' parmesan cheese'],\n ['refrigerated crescent dinner rolls',\n  ' chili without beans',\n  ' corn chips',\n  ' parmesan cheese'],\n ['refrigerated crescent dinner rolls',\n  ' chili without beans',\n  ' corn chips',\n  ' parmesan cheese'],\n ['semi-sweet chocolate chips',\n  ' cream cheese',\n  ' milk',\n  ' \"confectioners sugar\"',\n  ' vanilla extract',\n  ' salt',\n  ' pecans'],\n ['semi-sweet chocolate chips',\n  ' cream cheese',\n  ' milk',\n  ' \"confectioners sugar\"',\n  ' vanilla extract',\n  ' salt',\n  ' pecans'],\n ['semi-sweet chocolate chips',\n  ' cream cheese',\n  ' milk',\n  ' \"confectioners sugar\"',\n  ' vanilla extract',\n  ' salt',\n  ' pecans'],\n ['semi-sweet chocolate chips',\n  ' cream cheese',\n  ' milk',\n  ' \"confectioners sugar\"',\n  ' vanilla extract',\n  ' salt',\n  ' pecans'],\n ['semi-sweet chocolate chips',\n  ' cream cheese',\n  ' milk',\n  ' \"confectioners sugar\"',\n  ' vanilla extract',\n  ' salt',\n  ' pecans'],\n ['semi-sweet chocolate chips',\n  ' cream cheese',\n  ' milk',\n  ' \"confectioners sugar\"',\n  ' vanilla extract',\n  ' salt',\n  ' pecans'],\n ['semi-sweet chocolate chips',\n  ' cream cheese',\n  ' milk',\n  ' \"confectioners sugar\"',\n  ' vanilla extract',\n  ' salt',\n  ' pecans'],\n ['apples',\n  ' lemon',\n  ' juice of',\n  ' arrowroot',\n  ' cinnamon',\n  ' nutmeg',\n  ' allspice',\n  ' clove',\n  ' pure maple syrup',\n  ' rolled oats',\n  ' all-purpose flour',\n  ' salt',\n  ' canola oil',\n  ' vanilla'],\n ['apples',\n  ' lemon',\n  ' juice of',\n  ' arrowroot',\n  ' cinnamon',\n  ' nutmeg',\n  ' allspice',\n  ' clove',\n  ' pure maple syrup',\n  ' rolled oats',\n  ' all-purpose flour',\n  ' salt',\n  ' canola oil',\n  ' vanilla'],\n ['apples',\n  ' lemon',\n  ' juice of',\n  ' arrowroot',\n  ' cinnamon',\n  ' nutmeg',\n  ' allspice',\n  ' clove',\n  ' pure maple syrup',\n  ' rolled oats',\n  ' all-purpose flour',\n  ' salt',\n  ' canola oil',\n  ' vanilla'],\n ['apples',\n  ' lemon',\n  ' juice of',\n  ' arrowroot',\n  ' cinnamon',\n  ' nutmeg',\n  ' allspice',\n  ' clove',\n  ' pure maple syrup',\n  ' rolled oats',\n  ' all-purpose flour',\n  ' salt',\n  ' canola oil',\n  ' vanilla'],\n ['apples',\n  ' lemon',\n  ' juice of',\n  ' arrowroot',\n  ' cinnamon',\n  ' nutmeg',\n  ' allspice',\n  ' clove',\n  ' pure maple syrup',\n  ' rolled oats',\n  ' all-purpose flour',\n  ' salt',\n  ' canola oil',\n  ' vanilla'],\n ['apples',\n  ' lemon',\n  ' juice of',\n  ' arrowroot',\n  ' cinnamon',\n  ' nutmeg',\n  ' allspice',\n  ' clove',\n  ' pure maple syrup',\n  ' rolled oats',\n  ' all-purpose flour',\n  ' salt',\n  ' canola oil',\n  ' vanilla'],\n ['apples',\n  ' lemon',\n  ' juice of',\n  ' arrowroot',\n  ' cinnamon',\n  ' nutmeg',\n  ' allspice',\n  ' clove',\n  ' pure maple syrup',\n  ' rolled oats',\n  ' all-purpose flour',\n  ' salt',\n  ' canola oil',\n  ' vanilla'],\n ['apples',\n  ' lemon',\n  ' juice of',\n  ' arrowroot',\n  ' cinnamon',\n  ' nutmeg',\n  ' allspice',\n  ' clove',\n  ' pure maple syrup',\n  ' rolled oats',\n  ' all-purpose flour',\n  ' salt',\n  ' canola oil',\n  ' vanilla'],\n ['apples',\n  ' lemon',\n  ' juice of',\n  ' arrowroot',\n  ' cinnamon',\n  ' nutmeg',\n  ' allspice',\n  ' clove',\n  ' pure maple syrup',\n  ' rolled oats',\n  ' all-purpose flour',\n  ' salt',\n  ' canola oil',\n  ' vanilla'],\n ['apples',\n  ' lemon',\n  ' juice of',\n  ' arrowroot',\n  ' cinnamon',\n  ' nutmeg',\n  ' allspice',\n  ' clove',\n  ' pure maple syrup',\n  ' rolled oats',\n  ' all-purpose flour',\n  ' salt',\n  ' canola oil',\n  ' vanilla'],\n ['apples',\n  ' lemon',\n  ' juice of',\n  ' arrowroot',\n  ' cinnamon',\n  ' nutmeg',\n  ' allspice',\n  ' clove',\n  ' pure maple syrup',\n  ' rolled oats',\n  ' all-purpose flour',\n  ' salt',\n  ' canola oil',\n  ' vanilla'],\n ['apples',\n  ' lemon',\n  ' juice of',\n  ' arrowroot',\n  ' cinnamon',\n  ' nutmeg',\n  ' allspice',\n  ' clove',\n  ' pure maple syrup',\n  ' rolled oats',\n  ' all-purpose flour',\n  ' salt',\n  ' canola oil',\n  ' vanilla'],\n ['apples',\n  ' lemon',\n  ' juice of',\n  ' arrowroot',\n  ' cinnamon',\n  ' nutmeg',\n  ' allspice',\n  ' clove',\n  ' pure maple syrup',\n  ' rolled oats',\n  ' all-purpose flour',\n  ' salt',\n  ' canola oil',\n  ' vanilla'],\n ['apples',\n  ' lemon',\n  ' juice of',\n  ' arrowroot',\n  ' cinnamon',\n  ' nutmeg',\n  ' allspice',\n  ' clove',\n  ' pure maple syrup',\n  ' rolled oats',\n  ' all-purpose flour',\n  ' salt',\n  ' canola oil',\n  ' vanilla'],\n ['whole chickens',\n  ' kosher salt',\n  ' olive oil',\n  ' lemon zest',\n  ' lemon juice',\n  ' garlic',\n  ' rosemary',\n  ' fresh ground black pepper',\n  ' lemon'],\n ['whole chickens',\n  ' kosher salt',\n  ' olive oil',\n  ' lemon zest',\n  ' lemon juice',\n  ' garlic',\n  ' rosemary',\n  ' fresh ground black pepper',\n  ' lemon'],\n ['whole chickens',\n  ' kosher salt',\n  ' olive oil',\n  ' lemon zest',\n  ' lemon juice',\n  ' garlic',\n  ' rosemary',\n  ' fresh ground black pepper',\n  ' lemon'],\n ['whole chickens',\n  ' kosher salt',\n  ' olive oil',\n  ' lemon zest',\n  ' lemon juice',\n  ' garlic',\n  ' rosemary',\n  ' fresh ground black pepper',\n  ' lemon'],\n ['whole chickens',\n  ' kosher salt',\n  ' olive oil',\n  ' lemon zest',\n  ' lemon juice',\n  ' garlic',\n  ' rosemary',\n  ' fresh ground black pepper',\n  ' lemon'],\n ['whole chickens',\n  ' kosher salt',\n  ' olive oil',\n  ' lemon zest',\n  ' lemon juice',\n  ' garlic',\n  ' rosemary',\n  ' fresh ground black pepper',\n  ' lemon'],\n ['whole chickens',\n  ' kosher salt',\n  ' olive oil',\n  ' lemon zest',\n  ' lemon juice',\n  ' garlic',\n  ' rosemary',\n  ' fresh ground black pepper',\n  ' lemon'],\n ['whole chickens',\n  ' kosher salt',\n  ' olive oil',\n  ' lemon zest',\n  ' lemon juice',\n  ' garlic',\n  ' rosemary',\n  ' fresh ground black pepper',\n  ' lemon'],\n ['whole chickens',\n  ' kosher salt',\n  ' olive oil',\n  ' lemon zest',\n  ' lemon juice',\n  ' garlic',\n  ' rosemary',\n  ' fresh ground black pepper',\n  ' lemon'],\n ['iceberg lettuce',\n  ' tomatoes',\n  ' red onion',\n  ' nacho cheese flavor doritos',\n  ' sharp cheddar cheese',\n  ' hamburger',\n  ' red kidney beans',\n  ' avocado',\n  ' salt & pepper',\n  ' thousand island dressing',\n  ' salsa'],\n ['iceberg lettuce',\n  ' tomatoes',\n  ' red onion',\n  ' nacho cheese flavor doritos',\n  ' sharp cheddar cheese',\n  ' hamburger',\n  ' red kidney beans',\n  ' avocado',\n  ' salt & pepper',\n  ' thousand island dressing',\n  ' salsa'],\n ['iceberg lettuce',\n  ' tomatoes',\n  ' red onion',\n  ' nacho cheese flavor doritos',\n  ' sharp cheddar cheese',\n  ' hamburger',\n  ' red kidney beans',\n  ' avocado',\n  ' salt & pepper',\n  ' thousand island dressing',\n  ' salsa'],\n ['iceberg lettuce',\n  ' tomatoes',\n  ' red onion',\n  ' nacho cheese flavor doritos',\n  ' sharp cheddar cheese',\n  ' hamburger',\n  ' red kidney beans',\n  ' avocado',\n  ' salt & pepper',\n  ' thousand island dressing',\n  ' salsa'],\n ['iceberg lettuce',\n  ' tomatoes',\n  ' red onion',\n  ' nacho cheese flavor doritos',\n  ' sharp cheddar cheese',\n  ' hamburger',\n  ' red kidney beans',\n  ' avocado',\n  ' salt & pepper',\n  ' thousand island dressing',\n  ' salsa'],\n ['iceberg lettuce',\n  ' tomatoes',\n  ' red onion',\n  ' nacho cheese flavor doritos',\n  ' sharp cheddar cheese',\n  ' hamburger',\n  ' red kidney beans',\n  ' avocado',\n  ' salt & pepper',\n  ' thousand island dressing',\n  ' salsa'],\n ['iceberg lettuce',\n  ' tomatoes',\n  ' red onion',\n  ' nacho cheese flavor doritos',\n  ' sharp cheddar cheese',\n  ' hamburger',\n  ' red kidney beans',\n  ' avocado',\n  ' salt & pepper',\n  ' thousand island dressing',\n  ' salsa'],\n ['iceberg lettuce',\n  ' tomatoes',\n  ' red onion',\n  ' nacho cheese flavor doritos',\n  ' sharp cheddar cheese',\n  ' hamburger',\n  ' red kidney beans',\n  ' avocado',\n  ' salt & pepper',\n  ' thousand island dressing',\n  ' salsa'],\n ['iceberg lettuce',\n  ' tomatoes',\n  ' red onion',\n  ' nacho cheese flavor doritos',\n  ' sharp cheddar cheese',\n  ' hamburger',\n  ' red kidney beans',\n  ' avocado',\n  ' salt & pepper',\n  ' thousand island dressing',\n  ' salsa'],\n ['iceberg lettuce',\n  ' tomatoes',\n  ' red onion',\n  ' nacho cheese flavor doritos',\n  ' sharp cheddar cheese',\n  ' hamburger',\n  ' red kidney beans',\n  ' avocado',\n  ' salt & pepper',\n  ' thousand island dressing',\n  ' salsa'],\n ['iceberg lettuce',\n  ' tomatoes',\n  ' red onion',\n  ' nacho cheese flavor doritos',\n  ' sharp cheddar cheese',\n  ' hamburger',\n  ' red kidney beans',\n  ' avocado',\n  ' salt & pepper',\n  ' thousand island dressing',\n  ' salsa'],\n ['ground beef',\n  ' kidney beans',\n  ' condensed tomato soup',\n  ' celery',\n  ' green pepper',\n  ' onion',\n  ' ketchup',\n  ' brown sugar',\n  ' chili powder',\n  ' ground mustard',\n  ' salt',\n  ' pepper',\n  ' cayenne pepper',\n  ' garlic powder',\n  ' hamburger buns'],\n ['ground beef',\n  ' kidney beans',\n  ' condensed tomato soup',\n  ' celery',\n  ' green pepper',\n  ' onion',\n  ' ketchup',\n  ' brown sugar',\n  ' chili powder',\n  ' ground mustard',\n  ' salt',\n  ' pepper',\n  ' cayenne pepper',\n  ' garlic powder',\n  ' hamburger buns'],\n ['ground beef',\n  ' kidney beans',\n  ' condensed tomato soup',\n  ' celery',\n  ' green pepper',\n  ' onion',\n  ' ketchup',\n  ' brown sugar',\n  ' chili powder',\n  ' ground mustard',\n  ' salt',\n  ' pepper',\n  ' cayenne pepper',\n  ' garlic powder',\n  ' hamburger buns'],\n ['ground beef',\n  ' kidney beans',\n  ' condensed tomato soup',\n  ' celery',\n  ' green pepper',\n  ' onion',\n  ' ketchup',\n  ' brown sugar',\n  ' chili powder',\n  ' ground mustard',\n  ' salt',\n  ' pepper',\n  ' cayenne pepper',\n  ' garlic powder',\n  ' hamburger buns'],\n ['ground beef',\n  ' kidney beans',\n  ' condensed tomato soup',\n  ' celery',\n  ' green pepper',\n  ' onion',\n  ' ketchup',\n  ' brown sugar',\n  ' chili powder',\n  ' ground mustard',\n  ' salt',\n  ' pepper',\n  ' cayenne pepper',\n  ' garlic powder',\n  ' hamburger buns'],\n ['ground beef',\n  ' kidney beans',\n  ' condensed tomato soup',\n  ' celery',\n  ' green pepper',\n  ' onion',\n  ' ketchup',\n  ' brown sugar',\n  ' chili powder',\n  ' ground mustard',\n  ' salt',\n  ' pepper',\n  ' cayenne pepper',\n  ' garlic powder',\n  ' hamburger buns'],\n ['ground beef',\n  ' kidney beans',\n  ' condensed tomato soup',\n  ' celery',\n  ' green pepper',\n  ' onion',\n  ' ketchup',\n  ' brown sugar',\n  ' chili powder',\n  ' ground mustard',\n  ' salt',\n  ' pepper',\n  ' cayenne pepper',\n  ' garlic powder',\n  ' hamburger buns'],\n ['ground beef',\n  ' kidney beans',\n  ' condensed tomato soup',\n  ' celery',\n  ' green pepper',\n  ' onion',\n  ' ketchup',\n  ' brown sugar',\n  ' chili powder',\n  ' ground mustard',\n  ' salt',\n  ' pepper',\n  ' cayenne pepper',\n  ' garlic powder',\n  ' hamburger buns'],\n ['ground beef',\n  ' kidney beans',\n  ' condensed tomato soup',\n  ' celery',\n  ' green pepper',\n  ' onion',\n  ' ketchup',\n  ' brown sugar',\n  ' chili powder',\n  ' ground mustard',\n  ' salt',\n  ' pepper',\n  ' cayenne pepper',\n  ' garlic powder',\n  ' hamburger buns'],\n ['ground beef',\n  ' kidney beans',\n  ' condensed tomato soup',\n  ' celery',\n  ' green pepper',\n  ' onion',\n  ' ketchup',\n  ' brown sugar',\n  ' chili powder',\n  ' ground mustard',\n  ' salt',\n  ' pepper',\n  ' cayenne pepper',\n  ' garlic powder',\n  ' hamburger buns'],\n ['ground beef',\n  ' kidney beans',\n  ' condensed tomato soup',\n  ' celery',\n  ' green pepper',\n  ' onion',\n  ' ketchup',\n  ' brown sugar',\n  ' chili powder',\n  ' ground mustard',\n  ' salt',\n  ' pepper',\n  ' cayenne pepper',\n  ' garlic powder',\n  ' hamburger buns'],\n ['ground beef',\n  ' kidney beans',\n  ' condensed tomato soup',\n  ' celery',\n  ' green pepper',\n  ' onion',\n  ' ketchup',\n  ' brown sugar',\n  ' chili powder',\n  ' ground mustard',\n  ' salt',\n  ' pepper',\n  ' cayenne pepper',\n  ' garlic powder',\n  ' hamburger buns'],\n ['ground beef',\n  ' kidney beans',\n  ' condensed tomato soup',\n  ' celery',\n  ' green pepper',\n  ' onion',\n  ' ketchup',\n  ' brown sugar',\n  ' chili powder',\n  ' ground mustard',\n  ' salt',\n  ' pepper',\n  ' cayenne pepper',\n  ' garlic powder',\n  ' hamburger buns'],\n ['ground beef',\n  ' kidney beans',\n  ' condensed tomato soup',\n  ' celery',\n  ' green pepper',\n  ' onion',\n  ' ketchup',\n  ' brown sugar',\n  ' chili powder',\n  ' ground mustard',\n  ' salt',\n  ' pepper',\n  ' cayenne pepper',\n  ' garlic powder',\n  ' hamburger buns'],\n ['ground beef',\n  ' kidney beans',\n  ' condensed tomato soup',\n  ' celery',\n  ' green pepper',\n  ' onion',\n  ' ketchup',\n  ' brown sugar',\n  ' chili powder',\n  ' ground mustard',\n  ' salt',\n  ' pepper',\n  ' cayenne pepper',\n  ' garlic powder',\n  ' hamburger buns'],\n ['onions',\n  ' garlic',\n  ' cider vinegar',\n  ' dry mustard',\n  ' white pepper',\n  ' garlic powder',\n  ' sugar',\n  ' salt',\n  ' vegetable oil',\n  ' basil',\n  ' oregano',\n  ' rosemary',\n  ' tarragon',\n  ' thyme',\n  ' granulated onion',\n  ' black pepper',\n  ' seasoning salt',\n  ' cold water'],\n ['onions',\n  ' garlic',\n  ' cider vinegar',\n  ' dry mustard',\n  ' white pepper',\n  ' garlic powder',\n  ' sugar',\n  ' salt',\n  ' vegetable oil',\n  ' basil',\n  ' oregano',\n  ' rosemary',\n  ' tarragon',\n  ' thyme',\n  ' granulated onion',\n  ' black pepper',\n  ' seasoning salt',\n  ' cold water'],\n ['onions',\n  ' garlic',\n  ' cider vinegar',\n  ' dry mustard',\n  ' white pepper',\n  ' garlic powder',\n  ' sugar',\n  ' salt',\n  ' vegetable oil',\n  ' basil',\n  ' oregano',\n  ' rosemary',\n  ' tarragon',\n  ' thyme',\n  ' granulated onion',\n  ' black pepper',\n  ' seasoning salt',\n  ' cold water'],\n ['onions',\n  ' garlic',\n  ' cider vinegar',\n  ' dry mustard',\n  ' white pepper',\n  ' garlic powder',\n  ' sugar',\n  ' salt',\n  ' vegetable oil',\n  ' basil',\n  ' oregano',\n  ' rosemary',\n  ' tarragon',\n  ' thyme',\n  ' granulated onion',\n  ' black pepper',\n  ' seasoning salt',\n  ' cold water'],\n ['onions',\n  ' garlic',\n  ' cider vinegar',\n  ' dry mustard',\n  ' white pepper',\n  ' garlic powder',\n  ' sugar',\n  ' salt',\n  ' vegetable oil',\n  ' basil',\n  ' oregano',\n  ' rosemary',\n  ' tarragon',\n  ' thyme',\n  ' granulated onion',\n  ' black pepper',\n  ' seasoning salt',\n  ' cold water'],\n ['onions',\n  ' garlic',\n  ' cider vinegar',\n  ' dry mustard',\n  ' white pepper',\n  ' garlic powder',\n  ' sugar',\n  ' salt',\n  ' vegetable oil',\n  ' basil',\n  ' oregano',\n  ' rosemary',\n  ' tarragon',\n  ' thyme',\n  ' granulated onion',\n  ' black pepper',\n  ' seasoning salt',\n  ' cold water'],\n ['onions',\n  ' garlic',\n  ' cider vinegar',\n  ' dry mustard',\n  ' white pepper',\n  ' garlic powder',\n  ' sugar',\n  ' salt',\n  ' vegetable oil',\n  ' basil',\n  ' oregano',\n  ' rosemary',\n  ' tarragon',\n  ' thyme',\n  ' granulated onion',\n  ' black pepper',\n  ' seasoning salt',\n  ' cold water'],\n ['onions',\n  ' garlic',\n  ' cider vinegar',\n  ' dry mustard',\n  ' white pepper',\n  ' garlic powder',\n  ' sugar',\n  ' salt',\n  ' vegetable oil',\n  ' basil',\n  ' oregano',\n  ' rosemary',\n  ' tarragon',\n  ' thyme',\n  ' granulated onion',\n  ' black pepper',\n  ' seasoning salt',\n  ' cold water'],\n ['onions',\n  ' garlic',\n  ' cider vinegar',\n  ' dry mustard',\n  ' white pepper',\n  ' garlic powder',\n  ' sugar',\n  ' salt',\n  ' vegetable oil',\n  ' basil',\n  ' oregano',\n  ' rosemary',\n  ' tarragon',\n  ' thyme',\n  ' granulated onion',\n  ' black pepper',\n  ' seasoning salt',\n  ' cold water'],\n ...]"
     },
     "execution_count": 187,
     "metadata": {},
     "output_type": "execute_result"
    }
   ],
   "source": [
    "TestTempArr"
   ],
   "metadata": {
    "collapsed": false,
    "pycharm": {
     "name": "#%%\n"
    }
   }
  },
  {
   "cell_type": "code",
   "execution_count": 188,
   "outputs": [],
   "source": [
    "# processsing to encoding\n",
    "from sklearn import preprocessing,metrics,neighbors,model_selection\n",
    "from sklearn.compose import ColumnTransformer\n",
    "from sklearn.feature_extraction import FeatureHasher\n",
    "from sklearn.feature_extraction.text import CountVectorizer\n",
    "from sklearn.preprocessing import MinMaxScaler, OneHotEncoder,LabelEncoder,StandardScaler\n",
    "from sklearn.feature_extraction.text import TfidfVectorizer\n",
    "from sklearn.metrics.pairwise import cosine_similarity\n",
    "from sklearn.neighbors import NearestNeighbors,KNeighborsClassifier\n",
    "from scipy.sparse import csr_matrix\n",
    "from sklearn.preprocessing import Normalizer"
   ],
   "metadata": {
    "collapsed": false,
    "pycharm": {
     "name": "#%%\n"
    }
   }
  },
  {
   "cell_type": "markdown",
   "source": [
    "# Hot Encoding"
   ],
   "metadata": {
    "collapsed": false,
    "pycharm": {
     "name": "#%% md\n"
    }
   }
  },
  {
   "cell_type": "markdown",
   "source": [
    "Copy recipe info"
   ],
   "metadata": {
    "collapsed": false,
    "pycharm": {
     "name": "#%% md\n"
    }
   }
  },
  {
   "cell_type": "code",
   "execution_count": 189,
   "outputs": [
    {
     "data": {
      "text/plain": "            id                                   name  \\\n0       424415     aromatic basmati rice  rice cooker   \n1       146223                  pumpkin pie a la easy   \n2       312329       cheesy tomato soup with potatoes   \n3        74301                             mini tacos   \n4        76272               rosemary s hanky panky s   \n...        ...                                    ...   \n178260  323143              sugar free snickerdoodles   \n178261  149114               sausage   pancake strata   \n178262   34200                     baked beef patties   \n178263   30618  good and garlicky sweet and sour pork   \n178264  263840                      molasses crinkles   \n\n                                              ingredients  \n0       basmati rice, water, salt, cinnamon stick, gre...  \n1       flour, oats, brown sugar, pecans, butter, eggs...  \n2       chicken broth, water, salt, black pepper, onio...  \n3       wonton wrappers, hamburger, taco seasoning, sa...  \n4       ground beef, ground sausage, velveeta cheese, ...  \n...                                                   ...  \n178260  butter, splenda granular, eggs, flour, cream o...  \n178261  eggs, milk, cheddar cheese, salt, frozen panca...  \n178262  dried thyme, water, garlic salt, dried oregano...  \n178263  pork tenderloin, fresh garlic, pineapple chunk...  \n178264  shortening, brown sugar, molasses, flour, baki...  \n\n[178265 rows x 3 columns]",
      "text/html": "<div>\n<style scoped>\n    .dataframe tbody tr th:only-of-type {\n        vertical-align: middle;\n    }\n\n    .dataframe tbody tr th {\n        vertical-align: top;\n    }\n\n    .dataframe thead th {\n        text-align: right;\n    }\n</style>\n<table border=\"1\" class=\"dataframe\">\n  <thead>\n    <tr style=\"text-align: right;\">\n      <th></th>\n      <th>id</th>\n      <th>name</th>\n      <th>ingredients</th>\n    </tr>\n  </thead>\n  <tbody>\n    <tr>\n      <th>0</th>\n      <td>424415</td>\n      <td>aromatic basmati rice  rice cooker</td>\n      <td>basmati rice, water, salt, cinnamon stick, gre...</td>\n    </tr>\n    <tr>\n      <th>1</th>\n      <td>146223</td>\n      <td>pumpkin pie a la easy</td>\n      <td>flour, oats, brown sugar, pecans, butter, eggs...</td>\n    </tr>\n    <tr>\n      <th>2</th>\n      <td>312329</td>\n      <td>cheesy tomato soup with potatoes</td>\n      <td>chicken broth, water, salt, black pepper, onio...</td>\n    </tr>\n    <tr>\n      <th>3</th>\n      <td>74301</td>\n      <td>mini tacos</td>\n      <td>wonton wrappers, hamburger, taco seasoning, sa...</td>\n    </tr>\n    <tr>\n      <th>4</th>\n      <td>76272</td>\n      <td>rosemary s hanky panky s</td>\n      <td>ground beef, ground sausage, velveeta cheese, ...</td>\n    </tr>\n    <tr>\n      <th>...</th>\n      <td>...</td>\n      <td>...</td>\n      <td>...</td>\n    </tr>\n    <tr>\n      <th>178260</th>\n      <td>323143</td>\n      <td>sugar free snickerdoodles</td>\n      <td>butter, splenda granular, eggs, flour, cream o...</td>\n    </tr>\n    <tr>\n      <th>178261</th>\n      <td>149114</td>\n      <td>sausage   pancake strata</td>\n      <td>eggs, milk, cheddar cheese, salt, frozen panca...</td>\n    </tr>\n    <tr>\n      <th>178262</th>\n      <td>34200</td>\n      <td>baked beef patties</td>\n      <td>dried thyme, water, garlic salt, dried oregano...</td>\n    </tr>\n    <tr>\n      <th>178263</th>\n      <td>30618</td>\n      <td>good and garlicky sweet and sour pork</td>\n      <td>pork tenderloin, fresh garlic, pineapple chunk...</td>\n    </tr>\n    <tr>\n      <th>178264</th>\n      <td>263840</td>\n      <td>molasses crinkles</td>\n      <td>shortening, brown sugar, molasses, flour, baki...</td>\n    </tr>\n  </tbody>\n</table>\n<p>178265 rows × 3 columns</p>\n</div>"
     },
     "execution_count": 189,
     "metadata": {},
     "output_type": "execute_result"
    }
   ],
   "source": [
    "IngredientEncoding = recipesLikesDislikes[['id','name','ingredients']].__deepcopy__()\n",
    "IngredientEncoding"
   ],
   "metadata": {
    "collapsed": false,
    "pycharm": {
     "name": "#%%\n"
    }
   }
  },
  {
   "cell_type": "markdown",
   "source": [
    "Iterate through recipes, then to append the ingredients as columns of 1s and 0s."
   ],
   "metadata": {
    "collapsed": false,
    "pycharm": {
     "name": "#%% md\n"
    }
   }
  },
  {
   "cell_type": "code",
   "execution_count": 190,
   "outputs": [],
   "source": [
    "recipesLikesDislikes['ingredients'] = recipesLikesDislikes.ingredients.str.split(',')"
   ],
   "metadata": {
    "collapsed": false,
    "pycharm": {
     "name": "#%%\n"
    }
   }
  },
  {
   "cell_type": "markdown",
   "source": [],
   "metadata": {
    "collapsed": false,
    "pycharm": {
     "name": "#%% md\n"
    }
   }
  },
  {
   "cell_type": "code",
   "execution_count": 191,
   "outputs": [
    {
     "data": {
      "text/plain": "                                         name      id  minutes  \\\n0          aromatic basmati rice  rice cooker  424415       61   \n1                       pumpkin pie a la easy  146223       55   \n2            cheesy tomato soup with potatoes  312329       25   \n3                                  mini tacos   74301       15   \n4                    rosemary s hanky panky s   76272       20   \n...                                       ...     ...      ...   \n178260              sugar free snickerdoodles  323143       23   \n178261               sausage   pancake strata  149114       70   \n178262                     baked beef patties   34200       55   \n178263  good and garlicky sweet and sour pork   30618       40   \n178264                      molasses crinkles  263840       37   \n\n        contributor_id   submitted  \\\n0               496803  2010-05-10   \n1               229619  2005-11-25   \n2               621626  2008-07-07   \n3                60989  2003-10-29   \n4                93444  2003-11-12   \n...                ...         ...   \n178260           57042  2008-09-04   \n178261          191220  2005-12-22   \n178262           37779  2002-07-15   \n178263           31499  2002-06-10   \n178264           68526  2007-11-07   \n\n                                                     tags  \\\n0       ['weeknight', 'time-to-make', 'course', 'main-...   \n1       ['60-minutes-or-less', 'time-to-make', 'course...   \n2       ['30-minutes-or-less', 'time-to-make', 'course...   \n3       ['15-minutes-or-less', 'time-to-make', 'course...   \n4       ['30-minutes-or-less', 'time-to-make', 'course...   \n...                                                   ...   \n178260  ['30-minutes-or-less', 'time-to-make', 'course...   \n178261  ['time-to-make', 'course', 'main-ingredient', ...   \n178262  ['60-minutes-or-less', 'time-to-make', 'course...   \n178263  ['60-minutes-or-less', 'time-to-make', 'main-i...   \n178264  ['60-minutes-or-less', 'time-to-make', 'course...   \n\n                                         nutrition  n_steps  \\\n0           [228.2, 2.0, 2.0, 8.0, 9.0, 1.0, 15.0]        6   \n1       [249.4, 16.0, 92.0, 8.0, 11.0, 27.0, 11.0]       10   \n2       [351.3, 34.0, 15.0, 50.0, 25.0, 70.0, 8.0]        6   \n3           [79.7, 5.0, 2.0, 11.0, 11.0, 7.0, 2.0]        8   \n4        [240.7, 29.0, 9.0, 28.0, 27.0, 42.0, 0.0]        5   \n...                                            ...      ...   \n178260   [304.1, 30.0, 0.0, 11.0, 10.0, 60.0, 8.0]        6   \n178261   [235.9, 26.0, 3.0, 19.0, 35.0, 37.0, 0.0]       14   \n178262  [577.5, 51.0, 26.0, 38.0, 84.0, 83.0, 8.0]       15   \n178263   [240.1, 5.0, 96.0, 12.0, 41.0, 5.0, 10.0]       13   \n178264       [98.1, 6.0, 28.0, 3.0, 1.0, 5.0, 4.0]       12   \n\n                                                    steps  \\\n0       rinse the rice in a fine strainer , then drain...   \n1       preheat oven to 350, combine flour , oats , br...   \n2       pour the broth & water into a large pot, add t...   \n3       cook hamburger until browned, drain the fat an...   \n4       fry ground beef and sausage until browned, dra...   \n...                                                   ...   \n178260  preheat over to 400, mix together butter and s...   \n178261  preheat oven to 350, coat a 11 x 7 baking pan ...   \n178262  in a large bowl , combine 1 / 2 t, dried thyme...   \n178263  for the sauce , combine all the sauce ingredie...   \n178264  preheat oven to 375, cream shortening, add sug...   \n\n                                              description  \\\n0       from the ultimate rice cooker cookbook.  the a...   \n1       this is a pampered chef recipe for their stone...   \n2       after modifying another recipe i came up with ...   \n3       these can be a easy appetizer or a light dinne...   \n4       my girlfriend rosemary gave me this wonderfull...   \n...                                                   ...   \n178260  i have not tried this recipe. i got this recip...   \n178261  my sister gave me this recipe just yesterday. ...   \n178262                    taste of home; family favorite.   \n178263  the flavors of this dish mix really well toget...   \n178264  great anytime, but especially fun to include i...   \n\n                                              ingredients  n_ingredients  \\\n0       [basmati rice,  water,  salt,  cinnamon stick,...              5   \n1       [flour,  oats,  brown sugar,  pecans,  butter,...             12   \n2       [chicken broth,  water,  salt,  black pepper, ...             15   \n3       [wonton wrappers,  hamburger,  taco seasoning,...              8   \n4       [ground beef,  ground sausage,  velveeta chees...              4   \n...                                                   ...            ...   \n178260  [butter,  splenda granular,  eggs,  flour,  cr...              7   \n178261  [eggs,  milk,  cheddar cheese,  salt,  frozen ...              7   \n178262  [dried thyme,  water,  garlic salt,  dried ore...             14   \n178263  [pork tenderloin,  fresh garlic,  pineapple ch...             12   \n178264  [shortening,  brown sugar,  molasses,  flour, ...              9   \n\n        recipe_id  average_rating  votes  \\\n0          424415        4.833333      6   \n1          146223        5.000000      4   \n2          312329        4.000000      1   \n3           74301        4.766129    124   \n4           76272        5.000000      3   \n...           ...             ...    ...   \n178260     323143        2.000000      4   \n178261     149114        4.333333      3   \n178262      34200        4.500000      2   \n178263      30618        4.612903     31   \n178264     263840        5.000000      1   \n\n                                           ingredient_ids  like  \n0                           [389, 7655, 6270, 1527, 3406]     0  \n1       [2683, 4969, 800, 5298, 840, 2499, 6632, 7022,...     0  \n2       [1257, 7655, 6270, 590, 5024, 1119, 4883, 6696...     1  \n3        [7940, 3609, 7060, 6265, 1170, 6654, 5003, 3561]     1  \n4                                 [3484, 6324, 7594, 243]     1  \n...                                                   ...   ...  \n178260            [840, 208, 2499, 2683, 1925, 335, 1511]     0  \n178261               [2499, 4717, 1168, 6270, 6324, 7040]     1  \n178262  [2378, 7655, 3219, 2320, 5168, 5319, 4189, 268...     1  \n178263  [5627, 2807, 5412, 3399, 7979, 1093, 1257, 780...     1  \n178264  [6473, 800, 4807, 2683, 335, 1563, 1511, 3248,...     0  \n\n[178265 rows x 17 columns]",
      "text/html": "<div>\n<style scoped>\n    .dataframe tbody tr th:only-of-type {\n        vertical-align: middle;\n    }\n\n    .dataframe tbody tr th {\n        vertical-align: top;\n    }\n\n    .dataframe thead th {\n        text-align: right;\n    }\n</style>\n<table border=\"1\" class=\"dataframe\">\n  <thead>\n    <tr style=\"text-align: right;\">\n      <th></th>\n      <th>name</th>\n      <th>id</th>\n      <th>minutes</th>\n      <th>contributor_id</th>\n      <th>submitted</th>\n      <th>tags</th>\n      <th>nutrition</th>\n      <th>n_steps</th>\n      <th>steps</th>\n      <th>description</th>\n      <th>ingredients</th>\n      <th>n_ingredients</th>\n      <th>recipe_id</th>\n      <th>average_rating</th>\n      <th>votes</th>\n      <th>ingredient_ids</th>\n      <th>like</th>\n    </tr>\n  </thead>\n  <tbody>\n    <tr>\n      <th>0</th>\n      <td>aromatic basmati rice  rice cooker</td>\n      <td>424415</td>\n      <td>61</td>\n      <td>496803</td>\n      <td>2010-05-10</td>\n      <td>['weeknight', 'time-to-make', 'course', 'main-...</td>\n      <td>[228.2, 2.0, 2.0, 8.0, 9.0, 1.0, 15.0]</td>\n      <td>6</td>\n      <td>rinse the rice in a fine strainer , then drain...</td>\n      <td>from the ultimate rice cooker cookbook.  the a...</td>\n      <td>[basmati rice,  water,  salt,  cinnamon stick,...</td>\n      <td>5</td>\n      <td>424415</td>\n      <td>4.833333</td>\n      <td>6</td>\n      <td>[389, 7655, 6270, 1527, 3406]</td>\n      <td>0</td>\n    </tr>\n    <tr>\n      <th>1</th>\n      <td>pumpkin pie a la easy</td>\n      <td>146223</td>\n      <td>55</td>\n      <td>229619</td>\n      <td>2005-11-25</td>\n      <td>['60-minutes-or-less', 'time-to-make', 'course...</td>\n      <td>[249.4, 16.0, 92.0, 8.0, 11.0, 27.0, 11.0]</td>\n      <td>10</td>\n      <td>preheat oven to 350, combine flour , oats , br...</td>\n      <td>this is a pampered chef recipe for their stone...</td>\n      <td>[flour,  oats,  brown sugar,  pecans,  butter,...</td>\n      <td>12</td>\n      <td>146223</td>\n      <td>5.000000</td>\n      <td>4</td>\n      <td>[2683, 4969, 800, 5298, 840, 2499, 6632, 7022,...</td>\n      <td>0</td>\n    </tr>\n    <tr>\n      <th>2</th>\n      <td>cheesy tomato soup with potatoes</td>\n      <td>312329</td>\n      <td>25</td>\n      <td>621626</td>\n      <td>2008-07-07</td>\n      <td>['30-minutes-or-less', 'time-to-make', 'course...</td>\n      <td>[351.3, 34.0, 15.0, 50.0, 25.0, 70.0, 8.0]</td>\n      <td>6</td>\n      <td>pour the broth &amp; water into a large pot, add t...</td>\n      <td>after modifying another recipe i came up with ...</td>\n      <td>[chicken broth,  water,  salt,  black pepper, ...</td>\n      <td>15</td>\n      <td>312329</td>\n      <td>4.000000</td>\n      <td>1</td>\n      <td>[1257, 7655, 6270, 590, 5024, 1119, 4883, 6696...</td>\n      <td>1</td>\n    </tr>\n    <tr>\n      <th>3</th>\n      <td>mini tacos</td>\n      <td>74301</td>\n      <td>15</td>\n      <td>60989</td>\n      <td>2003-10-29</td>\n      <td>['15-minutes-or-less', 'time-to-make', 'course...</td>\n      <td>[79.7, 5.0, 2.0, 11.0, 11.0, 7.0, 2.0]</td>\n      <td>8</td>\n      <td>cook hamburger until browned, drain the fat an...</td>\n      <td>these can be a easy appetizer or a light dinne...</td>\n      <td>[wonton wrappers,  hamburger,  taco seasoning,...</td>\n      <td>8</td>\n      <td>74301</td>\n      <td>4.766129</td>\n      <td>124</td>\n      <td>[7940, 3609, 7060, 6265, 1170, 6654, 5003, 3561]</td>\n      <td>1</td>\n    </tr>\n    <tr>\n      <th>4</th>\n      <td>rosemary s hanky panky s</td>\n      <td>76272</td>\n      <td>20</td>\n      <td>93444</td>\n      <td>2003-11-12</td>\n      <td>['30-minutes-or-less', 'time-to-make', 'course...</td>\n      <td>[240.7, 29.0, 9.0, 28.0, 27.0, 42.0, 0.0]</td>\n      <td>5</td>\n      <td>fry ground beef and sausage until browned, dra...</td>\n      <td>my girlfriend rosemary gave me this wonderfull...</td>\n      <td>[ground beef,  ground sausage,  velveeta chees...</td>\n      <td>4</td>\n      <td>76272</td>\n      <td>5.000000</td>\n      <td>3</td>\n      <td>[3484, 6324, 7594, 243]</td>\n      <td>1</td>\n    </tr>\n    <tr>\n      <th>...</th>\n      <td>...</td>\n      <td>...</td>\n      <td>...</td>\n      <td>...</td>\n      <td>...</td>\n      <td>...</td>\n      <td>...</td>\n      <td>...</td>\n      <td>...</td>\n      <td>...</td>\n      <td>...</td>\n      <td>...</td>\n      <td>...</td>\n      <td>...</td>\n      <td>...</td>\n      <td>...</td>\n      <td>...</td>\n    </tr>\n    <tr>\n      <th>178260</th>\n      <td>sugar free snickerdoodles</td>\n      <td>323143</td>\n      <td>23</td>\n      <td>57042</td>\n      <td>2008-09-04</td>\n      <td>['30-minutes-or-less', 'time-to-make', 'course...</td>\n      <td>[304.1, 30.0, 0.0, 11.0, 10.0, 60.0, 8.0]</td>\n      <td>6</td>\n      <td>preheat over to 400, mix together butter and s...</td>\n      <td>i have not tried this recipe. i got this recip...</td>\n      <td>[butter,  splenda granular,  eggs,  flour,  cr...</td>\n      <td>7</td>\n      <td>323143</td>\n      <td>2.000000</td>\n      <td>4</td>\n      <td>[840, 208, 2499, 2683, 1925, 335, 1511]</td>\n      <td>0</td>\n    </tr>\n    <tr>\n      <th>178261</th>\n      <td>sausage   pancake strata</td>\n      <td>149114</td>\n      <td>70</td>\n      <td>191220</td>\n      <td>2005-12-22</td>\n      <td>['time-to-make', 'course', 'main-ingredient', ...</td>\n      <td>[235.9, 26.0, 3.0, 19.0, 35.0, 37.0, 0.0]</td>\n      <td>14</td>\n      <td>preheat oven to 350, coat a 11 x 7 baking pan ...</td>\n      <td>my sister gave me this recipe just yesterday. ...</td>\n      <td>[eggs,  milk,  cheddar cheese,  salt,  frozen ...</td>\n      <td>7</td>\n      <td>149114</td>\n      <td>4.333333</td>\n      <td>3</td>\n      <td>[2499, 4717, 1168, 6270, 6324, 7040]</td>\n      <td>1</td>\n    </tr>\n    <tr>\n      <th>178262</th>\n      <td>baked beef patties</td>\n      <td>34200</td>\n      <td>55</td>\n      <td>37779</td>\n      <td>2002-07-15</td>\n      <td>['60-minutes-or-less', 'time-to-make', 'course...</td>\n      <td>[577.5, 51.0, 26.0, 38.0, 84.0, 83.0, 8.0]</td>\n      <td>15</td>\n      <td>in a large bowl , combine 1 / 2 t, dried thyme...</td>\n      <td>taste of home; family favorite.</td>\n      <td>[dried thyme,  water,  garlic salt,  dried ore...</td>\n      <td>14</td>\n      <td>34200</td>\n      <td>4.500000</td>\n      <td>2</td>\n      <td>[2378, 7655, 3219, 2320, 5168, 5319, 4189, 268...</td>\n      <td>1</td>\n    </tr>\n    <tr>\n      <th>178263</th>\n      <td>good and garlicky sweet and sour pork</td>\n      <td>30618</td>\n      <td>40</td>\n      <td>31499</td>\n      <td>2002-06-10</td>\n      <td>['60-minutes-or-less', 'time-to-make', 'main-i...</td>\n      <td>[240.1, 5.0, 96.0, 12.0, 41.0, 5.0, 10.0]</td>\n      <td>13</td>\n      <td>for the sauce , combine all the sauce ingredie...</td>\n      <td>the flavors of this dish mix really well toget...</td>\n      <td>[pork tenderloin,  fresh garlic,  pineapple ch...</td>\n      <td>12</td>\n      <td>30618</td>\n      <td>4.612903</td>\n      <td>31</td>\n      <td>[5627, 2807, 5412, 3399, 7979, 1093, 1257, 780...</td>\n      <td>1</td>\n    </tr>\n    <tr>\n      <th>178264</th>\n      <td>molasses crinkles</td>\n      <td>263840</td>\n      <td>37</td>\n      <td>68526</td>\n      <td>2007-11-07</td>\n      <td>['60-minutes-or-less', 'time-to-make', 'course...</td>\n      <td>[98.1, 6.0, 28.0, 3.0, 1.0, 5.0, 4.0]</td>\n      <td>12</td>\n      <td>preheat oven to 375, cream shortening, add sug...</td>\n      <td>great anytime, but especially fun to include i...</td>\n      <td>[shortening,  brown sugar,  molasses,  flour, ...</td>\n      <td>9</td>\n      <td>263840</td>\n      <td>5.000000</td>\n      <td>1</td>\n      <td>[6473, 800, 4807, 2683, 335, 1563, 1511, 3248,...</td>\n      <td>0</td>\n    </tr>\n  </tbody>\n</table>\n<p>178265 rows × 17 columns</p>\n</div>"
     },
     "execution_count": 191,
     "metadata": {},
     "output_type": "execute_result"
    }
   ],
   "source": [
    "recipesLikesDislikes"
   ],
   "metadata": {
    "collapsed": false,
    "pycharm": {
     "name": "#%%\n"
    }
   }
  },
  {
   "cell_type": "code",
   "execution_count": 192,
   "outputs": [
    {
     "name": "stdout",
     "output_type": "stream",
     "text": [
      "<class 'pandas.core.frame.DataFrame'>\n",
      "Int64Index: 178265 entries, 0 to 178264\n",
      "Data columns (total 17 columns):\n",
      " #   Column          Non-Null Count   Dtype  \n",
      "---  ------          --------------   -----  \n",
      " 0   name            178265 non-null  object \n",
      " 1   id              178265 non-null  int64  \n",
      " 2   minutes         178265 non-null  int64  \n",
      " 3   contributor_id  178265 non-null  int64  \n",
      " 4   submitted       178265 non-null  object \n",
      " 5   tags            178265 non-null  object \n",
      " 6   nutrition       178265 non-null  object \n",
      " 7   n_steps         178265 non-null  int64  \n",
      " 8   steps           178265 non-null  object \n",
      " 9   description     178265 non-null  object \n",
      " 10  ingredients     178265 non-null  object \n",
      " 11  n_ingredients   178265 non-null  int64  \n",
      " 12  recipe_id       178265 non-null  int64  \n",
      " 13  average_rating  178265 non-null  float64\n",
      " 14  votes           178265 non-null  int64  \n",
      " 15  ingredient_ids  178265 non-null  object \n",
      " 16  like            178265 non-null  int64  \n",
      "dtypes: float64(1), int64(8), object(8)\n",
      "memory usage: 28.5+ MB\n"
     ]
    }
   ],
   "source": [
    "recipesLikesDislikes.info()"
   ],
   "metadata": {
    "collapsed": false,
    "pycharm": {
     "name": "#%%\n"
    }
   }
  },
  {
   "cell_type": "markdown",
   "source": [
    "Save memmory on ints. By changing from 64 to 32"
   ],
   "metadata": {
    "collapsed": false,
    "pycharm": {
     "name": "#%% md\n"
    }
   }
  },
  {
   "cell_type": "code",
   "execution_count": 193,
   "outputs": [],
   "source": [
    "# recipesLikesDislikes.id = recipesLikesDislikes.id.astype('int32')\n",
    "# recipesLikesDislikes.contributor_id = recipesLikesDislikes.contributor_id.astype('int32')\n",
    "# recipesLikesDislikes.minutes = recipesLikesDislikes.minutes.astype('int32')\n",
    "# recipesLikesDislikes.n_steps = recipesLikesDislikes.n_steps.astype('int32')\n",
    "# recipesLikesDislikes.n_ingredients = recipesLikesDislikes.n_ingredients.astype('int32')\n",
    "# recipesLikesDislikes.recipe_id = recipesLikesDislikes.recipe_id.astype('int32')\n",
    "# recipesLikesDislikes.votes = recipesLikesDislikes.votes.astype('int32')\n",
    "# recipesLikesDislikes.like = recipesLikesDislikes.like.astype('int32')"
   ],
   "metadata": {
    "collapsed": false,
    "pycharm": {
     "name": "#%%\n"
    }
   }
  },
  {
   "cell_type": "code",
   "execution_count": 194,
   "outputs": [],
   "source": [
    "IngredientEncoding[['dressing', 'sausage', 'chile', 'cake mix', 'cheddar', 'tortilla',\n",
    "       'pickle', 'lettuce', 'cream cheese', 'rum']] = 0"
   ],
   "metadata": {
    "collapsed": false,
    "pycharm": {
     "name": "#%%\n"
    }
   }
  },
  {
   "cell_type": "code",
   "execution_count": 195,
   "outputs": [],
   "source": [
    "# unique_ingredient_rows = []\n",
    "# for index, row in recipesLikesDislikes.iterrows():\n",
    "#     unique_ingredient_rows.append(index)\n",
    "#     for ingredient in row['ingredients']:\n",
    "#         IngredientEncoding.at[index,ingredient] = 1\n",
    "#\n",
    "# print(len(unique_ingredient_rows) == len(recipesLikesDislikes))\n",
    "# IngredientEncoding.head(3)"
   ],
   "metadata": {
    "collapsed": false,
    "pycharm": {
     "name": "#%%\n"
    }
   }
  },
  {
   "cell_type": "markdown",
   "source": [
    "# Separate ingredients into separate collumns"
   ],
   "metadata": {
    "collapsed": false,
    "pycharm": {
     "name": "#%% md\n"
    }
   }
  },
  {
   "cell_type": "code",
   "execution_count": 196,
   "outputs": [
    {
     "data": {
      "text/plain": "            id                                   name  \\\n0       424415     aromatic basmati rice  rice cooker   \n1       146223                  pumpkin pie a la easy   \n2       312329       cheesy tomato soup with potatoes   \n3        74301                             mini tacos   \n4        76272               rosemary s hanky panky s   \n...        ...                                    ...   \n178260  323143              sugar free snickerdoodles   \n178261  149114               sausage   pancake strata   \n178262   34200                     baked beef patties   \n178263   30618  good and garlicky sweet and sour pork   \n178264  263840                      molasses crinkles   \n\n                                              ingredients  dressing  sausage  \\\n0       basmati rice, water, salt, cinnamon stick, gre...         0        0   \n1       flour, oats, brown sugar, pecans, butter, eggs...         0        0   \n2       chicken broth, water, salt, black pepper, onio...         0        0   \n3       wonton wrappers, hamburger, taco seasoning, sa...         0        0   \n4       ground beef, ground sausage, velveeta cheese, ...         0        0   \n...                                                   ...       ...      ...   \n178260  butter, splenda granular, eggs, flour, cream o...         0        0   \n178261  eggs, milk, cheddar cheese, salt, frozen panca...         0        0   \n178262  dried thyme, water, garlic salt, dried oregano...         0        0   \n178263  pork tenderloin, fresh garlic, pineapple chunk...         0        0   \n178264  shortening, brown sugar, molasses, flour, baki...         0        0   \n\n        chile  cake mix  cheddar  tortilla  pickle  lettuce  cream cheese  rum  \n0           0         0        0         0       0        0             0    0  \n1           0         0        0         0       0        0             0    0  \n2           0         0        0         0       0        0             0    0  \n3           0         0        0         0       0        0             0    0  \n4           0         0        0         0       0        0             0    0  \n...       ...       ...      ...       ...     ...      ...           ...  ...  \n178260      0         0        0         0       0        0             0    0  \n178261      0         0        0         0       0        0             0    0  \n178262      0         0        0         0       0        0             0    0  \n178263      0         0        0         0       0        0             0    0  \n178264      0         0        0         0       0        0             0    0  \n\n[178265 rows x 13 columns]",
      "text/html": "<div>\n<style scoped>\n    .dataframe tbody tr th:only-of-type {\n        vertical-align: middle;\n    }\n\n    .dataframe tbody tr th {\n        vertical-align: top;\n    }\n\n    .dataframe thead th {\n        text-align: right;\n    }\n</style>\n<table border=\"1\" class=\"dataframe\">\n  <thead>\n    <tr style=\"text-align: right;\">\n      <th></th>\n      <th>id</th>\n      <th>name</th>\n      <th>ingredients</th>\n      <th>dressing</th>\n      <th>sausage</th>\n      <th>chile</th>\n      <th>cake mix</th>\n      <th>cheddar</th>\n      <th>tortilla</th>\n      <th>pickle</th>\n      <th>lettuce</th>\n      <th>cream cheese</th>\n      <th>rum</th>\n    </tr>\n  </thead>\n  <tbody>\n    <tr>\n      <th>0</th>\n      <td>424415</td>\n      <td>aromatic basmati rice  rice cooker</td>\n      <td>basmati rice, water, salt, cinnamon stick, gre...</td>\n      <td>0</td>\n      <td>0</td>\n      <td>0</td>\n      <td>0</td>\n      <td>0</td>\n      <td>0</td>\n      <td>0</td>\n      <td>0</td>\n      <td>0</td>\n      <td>0</td>\n    </tr>\n    <tr>\n      <th>1</th>\n      <td>146223</td>\n      <td>pumpkin pie a la easy</td>\n      <td>flour, oats, brown sugar, pecans, butter, eggs...</td>\n      <td>0</td>\n      <td>0</td>\n      <td>0</td>\n      <td>0</td>\n      <td>0</td>\n      <td>0</td>\n      <td>0</td>\n      <td>0</td>\n      <td>0</td>\n      <td>0</td>\n    </tr>\n    <tr>\n      <th>2</th>\n      <td>312329</td>\n      <td>cheesy tomato soup with potatoes</td>\n      <td>chicken broth, water, salt, black pepper, onio...</td>\n      <td>0</td>\n      <td>0</td>\n      <td>0</td>\n      <td>0</td>\n      <td>0</td>\n      <td>0</td>\n      <td>0</td>\n      <td>0</td>\n      <td>0</td>\n      <td>0</td>\n    </tr>\n    <tr>\n      <th>3</th>\n      <td>74301</td>\n      <td>mini tacos</td>\n      <td>wonton wrappers, hamburger, taco seasoning, sa...</td>\n      <td>0</td>\n      <td>0</td>\n      <td>0</td>\n      <td>0</td>\n      <td>0</td>\n      <td>0</td>\n      <td>0</td>\n      <td>0</td>\n      <td>0</td>\n      <td>0</td>\n    </tr>\n    <tr>\n      <th>4</th>\n      <td>76272</td>\n      <td>rosemary s hanky panky s</td>\n      <td>ground beef, ground sausage, velveeta cheese, ...</td>\n      <td>0</td>\n      <td>0</td>\n      <td>0</td>\n      <td>0</td>\n      <td>0</td>\n      <td>0</td>\n      <td>0</td>\n      <td>0</td>\n      <td>0</td>\n      <td>0</td>\n    </tr>\n    <tr>\n      <th>...</th>\n      <td>...</td>\n      <td>...</td>\n      <td>...</td>\n      <td>...</td>\n      <td>...</td>\n      <td>...</td>\n      <td>...</td>\n      <td>...</td>\n      <td>...</td>\n      <td>...</td>\n      <td>...</td>\n      <td>...</td>\n      <td>...</td>\n    </tr>\n    <tr>\n      <th>178260</th>\n      <td>323143</td>\n      <td>sugar free snickerdoodles</td>\n      <td>butter, splenda granular, eggs, flour, cream o...</td>\n      <td>0</td>\n      <td>0</td>\n      <td>0</td>\n      <td>0</td>\n      <td>0</td>\n      <td>0</td>\n      <td>0</td>\n      <td>0</td>\n      <td>0</td>\n      <td>0</td>\n    </tr>\n    <tr>\n      <th>178261</th>\n      <td>149114</td>\n      <td>sausage   pancake strata</td>\n      <td>eggs, milk, cheddar cheese, salt, frozen panca...</td>\n      <td>0</td>\n      <td>0</td>\n      <td>0</td>\n      <td>0</td>\n      <td>0</td>\n      <td>0</td>\n      <td>0</td>\n      <td>0</td>\n      <td>0</td>\n      <td>0</td>\n    </tr>\n    <tr>\n      <th>178262</th>\n      <td>34200</td>\n      <td>baked beef patties</td>\n      <td>dried thyme, water, garlic salt, dried oregano...</td>\n      <td>0</td>\n      <td>0</td>\n      <td>0</td>\n      <td>0</td>\n      <td>0</td>\n      <td>0</td>\n      <td>0</td>\n      <td>0</td>\n      <td>0</td>\n      <td>0</td>\n    </tr>\n    <tr>\n      <th>178263</th>\n      <td>30618</td>\n      <td>good and garlicky sweet and sour pork</td>\n      <td>pork tenderloin, fresh garlic, pineapple chunk...</td>\n      <td>0</td>\n      <td>0</td>\n      <td>0</td>\n      <td>0</td>\n      <td>0</td>\n      <td>0</td>\n      <td>0</td>\n      <td>0</td>\n      <td>0</td>\n      <td>0</td>\n    </tr>\n    <tr>\n      <th>178264</th>\n      <td>263840</td>\n      <td>molasses crinkles</td>\n      <td>shortening, brown sugar, molasses, flour, baki...</td>\n      <td>0</td>\n      <td>0</td>\n      <td>0</td>\n      <td>0</td>\n      <td>0</td>\n      <td>0</td>\n      <td>0</td>\n      <td>0</td>\n      <td>0</td>\n      <td>0</td>\n    </tr>\n  </tbody>\n</table>\n<p>178265 rows × 13 columns</p>\n</div>"
     },
     "execution_count": 196,
     "metadata": {},
     "output_type": "execute_result"
    }
   ],
   "source": [
    "IngredientEncoding"
   ],
   "metadata": {
    "collapsed": false,
    "pycharm": {
     "name": "#%%\n"
    }
   }
  },
  {
   "cell_type": "code",
   "execution_count": 197,
   "outputs": [],
   "source": [
    "# recipesLikesDislikes['ingredients'] = recipesLikesDislikes.ingredients.str.split(',')\n",
    "# wantedIngredients = ['dressing', 'sausage', 'chile', 'cake mix', 'cheddar', 'tortilla',\n",
    "#        'pickle', 'lettuce', 'cream cheese', 'rum']\n",
    "# sampleSize = IngredientEncoding.sample(1000)\n",
    "\n",
    "# unique_ingredient_rows = []\n",
    "# for index, row in IngredientEncoding.iterrows():\n",
    "#     unique_ingredient_rows.append(index)\n",
    "#     for wantedIngredients in row['ingredients']:\n",
    "#         IngredientEncoding.at[index,wantedIngredients] = 1\n",
    "#\n",
    "# print(len(unique_ingredient_rows) == len(recipesLikesDislikes))\n",
    "    # IngredientEncoding.head(3)"
   ],
   "metadata": {
    "collapsed": false,
    "pycharm": {
     "name": "#%%\n"
    }
   }
  },
  {
   "cell_type": "markdown",
   "source": [
    "basmati rice, water, salt, cinnamon stick, green cardamom pods"
   ],
   "metadata": {
    "collapsed": false,
    "pycharm": {
     "name": "#%% md\n"
    }
   }
  },
  {
   "cell_type": "code",
   "execution_count": 198,
   "outputs": [],
   "source": [
    "# sampleSize.head(3)"
   ],
   "metadata": {
    "collapsed": false,
    "pycharm": {
     "name": "#%%\n"
    }
   }
  },
  {
   "cell_type": "markdown",
   "source": [
    "Encoded ingredient array with id and name"
   ],
   "metadata": {
    "collapsed": false,
    "pycharm": {
     "name": "#%% md\n"
    }
   }
  },
  {
   "cell_type": "code",
   "execution_count": 199,
   "outputs": [
    {
     "data": {
      "text/plain": "        id                                             name  \\\n0   424415               aromatic basmati rice  rice cooker   \n1   146223                            pumpkin pie a la easy   \n2   312329                 cheesy tomato soup with potatoes   \n3    74301                                       mini tacos   \n4    76272                         rosemary s hanky panky s   \n5   465171     pink bavarian crown strawberry dream supreme   \n6   163861              tom and kelly s chicken fried steak   \n7   186383                        chocolate oat cookie bars   \n8   116395                        tropical lemon cream bars   \n9   303460                jeera on cubes  barbecue marinade   \n10  408927                          spicy cranberry chutney   \n11  331329                            herbed garlic lentils   \n12  330169  super easy sweet potato cake  doctored cake mix   \n13  289290                       sommer s chicken spaghetti   \n14  288683                    rich and creamy hot chocolate   \n15  154406                    open faced vegetable sandwich   \n16  102015                   baked chicken breasts and rice   \n17   60244                chewy fudge drop cookies  healthy   \n18  120122              spicy herbed halibut with pineapple   \n19  238940                          strawberry yum yum cake   \n\n                                          ingredients  dressing  sausage  \\\n0   basmati rice, water, salt, cinnamon stick, gre...         0        0   \n1   flour, oats, brown sugar, pecans, butter, eggs...         0        0   \n2   chicken broth, water, salt, black pepper, onio...         0        0   \n3   wonton wrappers, hamburger, taco seasoning, sa...         0        0   \n4   ground beef, ground sausage, velveeta cheese, ...         0        0   \n5   strawberry jell-o gelatin dessert, water, stra...         0        0   \n6   boneless pork chops, flour, salt, pepper, egg,...         0        0   \n7   flour, oats, baking powder, baking soda, salt,...         0        0   \n8   flour, \"confectioners sugar\", powdered milk, c...         0        0   \n9   sesame oil, yoghurt, fruit vinegar, hoisin sau...         0        0   \n10  cranberries, shallots, jalapeno peppers, mince...         0        0   \n11  dried lentils, reduced-sodium fat-free chicken...         0        0   \n12  yellow cake mix with pudding, eggs, milk, oran...         0        0   \n13  chicken breast, spaghetti sauce, garlic, olive...         0        0   \n14  semisweet chocolate, cocoa powder, sugar, doub...         0        0   \n15  bread, butter, onion, tomatoes, potato, green ...         0        0   \n16  white rice, cream of chicken soup, cream of ce...         0        0   \n17  semi-sweet chocolate chips, canola oil, brown ...         0        0   \n18  dried basil, dried rosemary, dried oregano, cr...         0        0   \n19  white cake mix, vanilla instant pudding mix, e...         0        0   \n\n    chile  cake mix  cheddar  tortilla  pickle  lettuce  cream cheese  rum  \n0       0         0        0         0       0        0             0    0  \n1       0         0        0         0       0        0             0    0  \n2       0         0        0         0       0        0             0    0  \n3       0         0        0         0       0        0             0    0  \n4       0         0        0         0       0        0             0    0  \n5       0         0        0         0       0        0             0    0  \n6       0         0        0         0       0        0             0    0  \n7       0         0        0         0       0        0             0    0  \n8       0         0        0         0       0        0             0    0  \n9       0         0        0         0       0        0             0    0  \n10      0         0        0         0       0        0             0    0  \n11      0         0        0         0       0        0             0    0  \n12      0         0        0         0       0        0             0    0  \n13      0         0        0         0       0        0             0    0  \n14      0         0        0         0       0        0             0    0  \n15      0         0        0         0       0        0             0    0  \n16      0         0        0         0       0        0             0    0  \n17      0         0        0         0       0        0             0    0  \n18      0         0        0         0       0        0             0    0  \n19      0         0        0         0       0        0             0    0  ",
      "text/html": "<div>\n<style scoped>\n    .dataframe tbody tr th:only-of-type {\n        vertical-align: middle;\n    }\n\n    .dataframe tbody tr th {\n        vertical-align: top;\n    }\n\n    .dataframe thead th {\n        text-align: right;\n    }\n</style>\n<table border=\"1\" class=\"dataframe\">\n  <thead>\n    <tr style=\"text-align: right;\">\n      <th></th>\n      <th>id</th>\n      <th>name</th>\n      <th>ingredients</th>\n      <th>dressing</th>\n      <th>sausage</th>\n      <th>chile</th>\n      <th>cake mix</th>\n      <th>cheddar</th>\n      <th>tortilla</th>\n      <th>pickle</th>\n      <th>lettuce</th>\n      <th>cream cheese</th>\n      <th>rum</th>\n    </tr>\n  </thead>\n  <tbody>\n    <tr>\n      <th>0</th>\n      <td>424415</td>\n      <td>aromatic basmati rice  rice cooker</td>\n      <td>basmati rice, water, salt, cinnamon stick, gre...</td>\n      <td>0</td>\n      <td>0</td>\n      <td>0</td>\n      <td>0</td>\n      <td>0</td>\n      <td>0</td>\n      <td>0</td>\n      <td>0</td>\n      <td>0</td>\n      <td>0</td>\n    </tr>\n    <tr>\n      <th>1</th>\n      <td>146223</td>\n      <td>pumpkin pie a la easy</td>\n      <td>flour, oats, brown sugar, pecans, butter, eggs...</td>\n      <td>0</td>\n      <td>0</td>\n      <td>0</td>\n      <td>0</td>\n      <td>0</td>\n      <td>0</td>\n      <td>0</td>\n      <td>0</td>\n      <td>0</td>\n      <td>0</td>\n    </tr>\n    <tr>\n      <th>2</th>\n      <td>312329</td>\n      <td>cheesy tomato soup with potatoes</td>\n      <td>chicken broth, water, salt, black pepper, onio...</td>\n      <td>0</td>\n      <td>0</td>\n      <td>0</td>\n      <td>0</td>\n      <td>0</td>\n      <td>0</td>\n      <td>0</td>\n      <td>0</td>\n      <td>0</td>\n      <td>0</td>\n    </tr>\n    <tr>\n      <th>3</th>\n      <td>74301</td>\n      <td>mini tacos</td>\n      <td>wonton wrappers, hamburger, taco seasoning, sa...</td>\n      <td>0</td>\n      <td>0</td>\n      <td>0</td>\n      <td>0</td>\n      <td>0</td>\n      <td>0</td>\n      <td>0</td>\n      <td>0</td>\n      <td>0</td>\n      <td>0</td>\n    </tr>\n    <tr>\n      <th>4</th>\n      <td>76272</td>\n      <td>rosemary s hanky panky s</td>\n      <td>ground beef, ground sausage, velveeta cheese, ...</td>\n      <td>0</td>\n      <td>0</td>\n      <td>0</td>\n      <td>0</td>\n      <td>0</td>\n      <td>0</td>\n      <td>0</td>\n      <td>0</td>\n      <td>0</td>\n      <td>0</td>\n    </tr>\n    <tr>\n      <th>5</th>\n      <td>465171</td>\n      <td>pink bavarian crown strawberry dream supreme</td>\n      <td>strawberry jell-o gelatin dessert, water, stra...</td>\n      <td>0</td>\n      <td>0</td>\n      <td>0</td>\n      <td>0</td>\n      <td>0</td>\n      <td>0</td>\n      <td>0</td>\n      <td>0</td>\n      <td>0</td>\n      <td>0</td>\n    </tr>\n    <tr>\n      <th>6</th>\n      <td>163861</td>\n      <td>tom and kelly s chicken fried steak</td>\n      <td>boneless pork chops, flour, salt, pepper, egg,...</td>\n      <td>0</td>\n      <td>0</td>\n      <td>0</td>\n      <td>0</td>\n      <td>0</td>\n      <td>0</td>\n      <td>0</td>\n      <td>0</td>\n      <td>0</td>\n      <td>0</td>\n    </tr>\n    <tr>\n      <th>7</th>\n      <td>186383</td>\n      <td>chocolate oat cookie bars</td>\n      <td>flour, oats, baking powder, baking soda, salt,...</td>\n      <td>0</td>\n      <td>0</td>\n      <td>0</td>\n      <td>0</td>\n      <td>0</td>\n      <td>0</td>\n      <td>0</td>\n      <td>0</td>\n      <td>0</td>\n      <td>0</td>\n    </tr>\n    <tr>\n      <th>8</th>\n      <td>116395</td>\n      <td>tropical lemon cream bars</td>\n      <td>flour, \"confectioners sugar\", powdered milk, c...</td>\n      <td>0</td>\n      <td>0</td>\n      <td>0</td>\n      <td>0</td>\n      <td>0</td>\n      <td>0</td>\n      <td>0</td>\n      <td>0</td>\n      <td>0</td>\n      <td>0</td>\n    </tr>\n    <tr>\n      <th>9</th>\n      <td>303460</td>\n      <td>jeera on cubes  barbecue marinade</td>\n      <td>sesame oil, yoghurt, fruit vinegar, hoisin sau...</td>\n      <td>0</td>\n      <td>0</td>\n      <td>0</td>\n      <td>0</td>\n      <td>0</td>\n      <td>0</td>\n      <td>0</td>\n      <td>0</td>\n      <td>0</td>\n      <td>0</td>\n    </tr>\n    <tr>\n      <th>10</th>\n      <td>408927</td>\n      <td>spicy cranberry chutney</td>\n      <td>cranberries, shallots, jalapeno peppers, mince...</td>\n      <td>0</td>\n      <td>0</td>\n      <td>0</td>\n      <td>0</td>\n      <td>0</td>\n      <td>0</td>\n      <td>0</td>\n      <td>0</td>\n      <td>0</td>\n      <td>0</td>\n    </tr>\n    <tr>\n      <th>11</th>\n      <td>331329</td>\n      <td>herbed garlic lentils</td>\n      <td>dried lentils, reduced-sodium fat-free chicken...</td>\n      <td>0</td>\n      <td>0</td>\n      <td>0</td>\n      <td>0</td>\n      <td>0</td>\n      <td>0</td>\n      <td>0</td>\n      <td>0</td>\n      <td>0</td>\n      <td>0</td>\n    </tr>\n    <tr>\n      <th>12</th>\n      <td>330169</td>\n      <td>super easy sweet potato cake  doctored cake mix</td>\n      <td>yellow cake mix with pudding, eggs, milk, oran...</td>\n      <td>0</td>\n      <td>0</td>\n      <td>0</td>\n      <td>0</td>\n      <td>0</td>\n      <td>0</td>\n      <td>0</td>\n      <td>0</td>\n      <td>0</td>\n      <td>0</td>\n    </tr>\n    <tr>\n      <th>13</th>\n      <td>289290</td>\n      <td>sommer s chicken spaghetti</td>\n      <td>chicken breast, spaghetti sauce, garlic, olive...</td>\n      <td>0</td>\n      <td>0</td>\n      <td>0</td>\n      <td>0</td>\n      <td>0</td>\n      <td>0</td>\n      <td>0</td>\n      <td>0</td>\n      <td>0</td>\n      <td>0</td>\n    </tr>\n    <tr>\n      <th>14</th>\n      <td>288683</td>\n      <td>rich and creamy hot chocolate</td>\n      <td>semisweet chocolate, cocoa powder, sugar, doub...</td>\n      <td>0</td>\n      <td>0</td>\n      <td>0</td>\n      <td>0</td>\n      <td>0</td>\n      <td>0</td>\n      <td>0</td>\n      <td>0</td>\n      <td>0</td>\n      <td>0</td>\n    </tr>\n    <tr>\n      <th>15</th>\n      <td>154406</td>\n      <td>open faced vegetable sandwich</td>\n      <td>bread, butter, onion, tomatoes, potato, green ...</td>\n      <td>0</td>\n      <td>0</td>\n      <td>0</td>\n      <td>0</td>\n      <td>0</td>\n      <td>0</td>\n      <td>0</td>\n      <td>0</td>\n      <td>0</td>\n      <td>0</td>\n    </tr>\n    <tr>\n      <th>16</th>\n      <td>102015</td>\n      <td>baked chicken breasts and rice</td>\n      <td>white rice, cream of chicken soup, cream of ce...</td>\n      <td>0</td>\n      <td>0</td>\n      <td>0</td>\n      <td>0</td>\n      <td>0</td>\n      <td>0</td>\n      <td>0</td>\n      <td>0</td>\n      <td>0</td>\n      <td>0</td>\n    </tr>\n    <tr>\n      <th>17</th>\n      <td>60244</td>\n      <td>chewy fudge drop cookies  healthy</td>\n      <td>semi-sweet chocolate chips, canola oil, brown ...</td>\n      <td>0</td>\n      <td>0</td>\n      <td>0</td>\n      <td>0</td>\n      <td>0</td>\n      <td>0</td>\n      <td>0</td>\n      <td>0</td>\n      <td>0</td>\n      <td>0</td>\n    </tr>\n    <tr>\n      <th>18</th>\n      <td>120122</td>\n      <td>spicy herbed halibut with pineapple</td>\n      <td>dried basil, dried rosemary, dried oregano, cr...</td>\n      <td>0</td>\n      <td>0</td>\n      <td>0</td>\n      <td>0</td>\n      <td>0</td>\n      <td>0</td>\n      <td>0</td>\n      <td>0</td>\n      <td>0</td>\n      <td>0</td>\n    </tr>\n    <tr>\n      <th>19</th>\n      <td>238940</td>\n      <td>strawberry yum yum cake</td>\n      <td>white cake mix, vanilla instant pudding mix, e...</td>\n      <td>0</td>\n      <td>0</td>\n      <td>0</td>\n      <td>0</td>\n      <td>0</td>\n      <td>0</td>\n      <td>0</td>\n      <td>0</td>\n      <td>0</td>\n      <td>0</td>\n    </tr>\n  </tbody>\n</table>\n</div>"
     },
     "execution_count": 199,
     "metadata": {},
     "output_type": "execute_result"
    }
   ],
   "source": [
    "IngredientEncoding.head(20)"
   ],
   "metadata": {
    "collapsed": false,
    "pycharm": {
     "name": "#%%\n"
    }
   }
  },
  {
   "cell_type": "code",
   "execution_count": 200,
   "outputs": [],
   "source": [
    "# uniqueIngredientsDF.index\n",
    "#"
   ],
   "metadata": {
    "collapsed": false,
    "pycharm": {
     "name": "#%%\n"
    }
   }
  },
  {
   "cell_type": "code",
   "execution_count": 201,
   "outputs": [],
   "source": [
    "# HotEncodingTest = recipesLikesDislikes\n",
    "# HotEncodingTest"
   ],
   "metadata": {
    "collapsed": false,
    "pycharm": {
     "name": "#%%\n"
    }
   }
  },
  {
   "cell_type": "code",
   "execution_count": 202,
   "outputs": [],
   "source": [
    "# HotEncodingTest['dressing'] = HotEncodingTest['ingredients'].map( {'dressing': 1, 'sausage': 0, 'cheddar': 0 ,'tortilla': 0, 'pickle': 0, 'lettuce': 0} ).astype(int)\n",
    "# HotEncodingTest['sausage'] = HotEncodingTest['ingredients'].map( {'dressing': 0, 'sausage': 1, 'cheddar': 0,'tortilla': 0, 'pickle': 0, 'lettuce': 0} ).astype(int)\n",
    "# HotEncodingTest['cheddar'] = HotEncodingTest['ingredients'].map( {'dressing': 0, 'sausage': 0, 'cheddar': 1,'tortilla': 0, 'pickle': 0, 'lettuce': 0} ).astype(int)\n",
    "# HotEncodingTest['tortilla'] = HotEncodingTest['ingredients'].map( {'dressing': 0, 'sausage': 0, 'cheddar': 0,'tortilla': 1, 'pickle': 0, 'lettuce': 0} ).astype(int)\n",
    "# HotEncodingTest['pickle'] = HotEncodingTest['ingredients'].map( {'dressing': 0, 'sausage': 0, 'cheddar': 0,'tortilla': 0, 'pickle': 1, 'lettuce': 0} ).astype(int)\n",
    "# HotEncodingTest['lettuce'] = HotEncodingTest['ingredients'].map( {'dressing': 0, 'sausage': 0, 'cheddar': 0,'tortilla': 1, 'pickle': 0, 'lettuce': 1} ).astype(int)\n",
    "#\n",
    "# HotEncodingTest.head(5)"
   ],
   "metadata": {
    "collapsed": false,
    "pycharm": {
     "name": "#%%\n"
    }
   }
  },
  {
   "cell_type": "code",
   "execution_count": 203,
   "outputs": [
    {
     "data": {
      "text/plain": "array([4305, 2745, 6840, ...,   47,  750, 4059])"
     },
     "execution_count": 203,
     "metadata": {},
     "output_type": "execute_result"
    }
   ],
   "source": [
    "# Label encoder for ingredient name // Works\n",
    "label_encoder = LabelEncoder()\n",
    "ingredient_list = ingredient_df['ingredient_name']\n",
    "label_encoder.fit_transform(ingredient_list)"
   ],
   "metadata": {
    "collapsed": false,
    "pycharm": {
     "name": "#%%\n"
    }
   }
  },
  {
   "cell_type": "code",
   "execution_count": 204,
   "outputs": [
    {
     "data": {
      "text/plain": "array([ 67937,  41677,  11164, ...,  30597, 108160, 129240])"
     },
     "execution_count": 204,
     "metadata": {},
     "output_type": "execute_result"
    }
   ],
   "source": [
    "# newArr = np.array(recipesLikesDislikes['ingredients'])\n",
    "# newArrs = np.split(newArr,[1,3])\n",
    "# newArrs = pd.Series(newArr)\n",
    "# recipesLikesDislikes['ingredients'].str.replace('(\\')', '')\n",
    "recipe_label_encoder = LabelEncoder()\n",
    "recipe_list = recipesLikesDislikes['ingredient_ids']\n",
    "recipe_label_encoder.fit_transform(recipe_list)"
   ],
   "metadata": {
    "collapsed": false,
    "pycharm": {
     "name": "#%%\n"
    }
   }
  },
  {
   "cell_type": "code",
   "execution_count": 205,
   "outputs": [],
   "source": [
    "# recipe_list.str.replace('(\\')', '')\n",
    "# recipesLikesDislikes['ingredients'].str.replace('(\\')', '')"
   ],
   "metadata": {
    "collapsed": false,
    "pycharm": {
     "name": "#%%\n"
    }
   }
  },
  {
   "cell_type": "code",
   "execution_count": 206,
   "outputs": [
    {
     "data": {
      "text/plain": "                                         name      id  minutes  \\\n0          aromatic basmati rice  rice cooker  424415       61   \n1                       pumpkin pie a la easy  146223       55   \n2            cheesy tomato soup with potatoes  312329       25   \n3                                  mini tacos   74301       15   \n4                    rosemary s hanky panky s   76272       20   \n...                                       ...     ...      ...   \n178260              sugar free snickerdoodles  323143       23   \n178261               sausage   pancake strata  149114       70   \n178262                     baked beef patties   34200       55   \n178263  good and garlicky sweet and sour pork   30618       40   \n178264                      molasses crinkles  263840       37   \n\n        contributor_id   submitted  \\\n0               496803  2010-05-10   \n1               229619  2005-11-25   \n2               621626  2008-07-07   \n3                60989  2003-10-29   \n4                93444  2003-11-12   \n...                ...         ...   \n178260           57042  2008-09-04   \n178261          191220  2005-12-22   \n178262           37779  2002-07-15   \n178263           31499  2002-06-10   \n178264           68526  2007-11-07   \n\n                                                     tags  \\\n0       ['weeknight', 'time-to-make', 'course', 'main-...   \n1       ['60-minutes-or-less', 'time-to-make', 'course...   \n2       ['30-minutes-or-less', 'time-to-make', 'course...   \n3       ['15-minutes-or-less', 'time-to-make', 'course...   \n4       ['30-minutes-or-less', 'time-to-make', 'course...   \n...                                                   ...   \n178260  ['30-minutes-or-less', 'time-to-make', 'course...   \n178261  ['time-to-make', 'course', 'main-ingredient', ...   \n178262  ['60-minutes-or-less', 'time-to-make', 'course...   \n178263  ['60-minutes-or-less', 'time-to-make', 'main-i...   \n178264  ['60-minutes-or-less', 'time-to-make', 'course...   \n\n                                         nutrition  n_steps  \\\n0           [228.2, 2.0, 2.0, 8.0, 9.0, 1.0, 15.0]        6   \n1       [249.4, 16.0, 92.0, 8.0, 11.0, 27.0, 11.0]       10   \n2       [351.3, 34.0, 15.0, 50.0, 25.0, 70.0, 8.0]        6   \n3           [79.7, 5.0, 2.0, 11.0, 11.0, 7.0, 2.0]        8   \n4        [240.7, 29.0, 9.0, 28.0, 27.0, 42.0, 0.0]        5   \n...                                            ...      ...   \n178260   [304.1, 30.0, 0.0, 11.0, 10.0, 60.0, 8.0]        6   \n178261   [235.9, 26.0, 3.0, 19.0, 35.0, 37.0, 0.0]       14   \n178262  [577.5, 51.0, 26.0, 38.0, 84.0, 83.0, 8.0]       15   \n178263   [240.1, 5.0, 96.0, 12.0, 41.0, 5.0, 10.0]       13   \n178264       [98.1, 6.0, 28.0, 3.0, 1.0, 5.0, 4.0]       12   \n\n                                                    steps  \\\n0       rinse the rice in a fine strainer , then drain...   \n1       preheat oven to 350, combine flour , oats , br...   \n2       pour the broth & water into a large pot, add t...   \n3       cook hamburger until browned, drain the fat an...   \n4       fry ground beef and sausage until browned, dra...   \n...                                                   ...   \n178260  preheat over to 400, mix together butter and s...   \n178261  preheat oven to 350, coat a 11 x 7 baking pan ...   \n178262  in a large bowl , combine 1 / 2 t, dried thyme...   \n178263  for the sauce , combine all the sauce ingredie...   \n178264  preheat oven to 375, cream shortening, add sug...   \n\n                                              description  \\\n0       from the ultimate rice cooker cookbook.  the a...   \n1       this is a pampered chef recipe for their stone...   \n2       after modifying another recipe i came up with ...   \n3       these can be a easy appetizer or a light dinne...   \n4       my girlfriend rosemary gave me this wonderfull...   \n...                                                   ...   \n178260  i have not tried this recipe. i got this recip...   \n178261  my sister gave me this recipe just yesterday. ...   \n178262                    taste of home; family favorite.   \n178263  the flavors of this dish mix really well toget...   \n178264  great anytime, but especially fun to include i...   \n\n                                              ingredients  n_ingredients  \\\n0       [basmati rice,  water,  salt,  cinnamon stick,...              5   \n1       [flour,  oats,  brown sugar,  pecans,  butter,...             12   \n2       [chicken broth,  water,  salt,  black pepper, ...             15   \n3       [wonton wrappers,  hamburger,  taco seasoning,...              8   \n4       [ground beef,  ground sausage,  velveeta chees...              4   \n...                                                   ...            ...   \n178260  [butter,  splenda granular,  eggs,  flour,  cr...              7   \n178261  [eggs,  milk,  cheddar cheese,  salt,  frozen ...              7   \n178262  [dried thyme,  water,  garlic salt,  dried ore...             14   \n178263  [pork tenderloin,  fresh garlic,  pineapple ch...             12   \n178264  [shortening,  brown sugar,  molasses,  flour, ...              9   \n\n        recipe_id  average_rating  votes  \\\n0          424415        4.833333      6   \n1          146223        5.000000      4   \n2          312329        4.000000      1   \n3           74301        4.766129    124   \n4           76272        5.000000      3   \n...           ...             ...    ...   \n178260     323143        2.000000      4   \n178261     149114        4.333333      3   \n178262      34200        4.500000      2   \n178263      30618        4.612903     31   \n178264     263840        5.000000      1   \n\n                                           ingredient_ids  like  \n0                           [389, 7655, 6270, 1527, 3406]     0  \n1       [2683, 4969, 800, 5298, 840, 2499, 6632, 7022,...     0  \n2       [1257, 7655, 6270, 590, 5024, 1119, 4883, 6696...     1  \n3        [7940, 3609, 7060, 6265, 1170, 6654, 5003, 3561]     1  \n4                                 [3484, 6324, 7594, 243]     1  \n...                                                   ...   ...  \n178260            [840, 208, 2499, 2683, 1925, 335, 1511]     0  \n178261               [2499, 4717, 1168, 6270, 6324, 7040]     1  \n178262  [2378, 7655, 3219, 2320, 5168, 5319, 4189, 268...     1  \n178263  [5627, 2807, 5412, 3399, 7979, 1093, 1257, 780...     1  \n178264  [6473, 800, 4807, 2683, 335, 1563, 1511, 3248,...     0  \n\n[178265 rows x 17 columns]",
      "text/html": "<div>\n<style scoped>\n    .dataframe tbody tr th:only-of-type {\n        vertical-align: middle;\n    }\n\n    .dataframe tbody tr th {\n        vertical-align: top;\n    }\n\n    .dataframe thead th {\n        text-align: right;\n    }\n</style>\n<table border=\"1\" class=\"dataframe\">\n  <thead>\n    <tr style=\"text-align: right;\">\n      <th></th>\n      <th>name</th>\n      <th>id</th>\n      <th>minutes</th>\n      <th>contributor_id</th>\n      <th>submitted</th>\n      <th>tags</th>\n      <th>nutrition</th>\n      <th>n_steps</th>\n      <th>steps</th>\n      <th>description</th>\n      <th>ingredients</th>\n      <th>n_ingredients</th>\n      <th>recipe_id</th>\n      <th>average_rating</th>\n      <th>votes</th>\n      <th>ingredient_ids</th>\n      <th>like</th>\n    </tr>\n  </thead>\n  <tbody>\n    <tr>\n      <th>0</th>\n      <td>aromatic basmati rice  rice cooker</td>\n      <td>424415</td>\n      <td>61</td>\n      <td>496803</td>\n      <td>2010-05-10</td>\n      <td>['weeknight', 'time-to-make', 'course', 'main-...</td>\n      <td>[228.2, 2.0, 2.0, 8.0, 9.0, 1.0, 15.0]</td>\n      <td>6</td>\n      <td>rinse the rice in a fine strainer , then drain...</td>\n      <td>from the ultimate rice cooker cookbook.  the a...</td>\n      <td>[basmati rice,  water,  salt,  cinnamon stick,...</td>\n      <td>5</td>\n      <td>424415</td>\n      <td>4.833333</td>\n      <td>6</td>\n      <td>[389, 7655, 6270, 1527, 3406]</td>\n      <td>0</td>\n    </tr>\n    <tr>\n      <th>1</th>\n      <td>pumpkin pie a la easy</td>\n      <td>146223</td>\n      <td>55</td>\n      <td>229619</td>\n      <td>2005-11-25</td>\n      <td>['60-minutes-or-less', 'time-to-make', 'course...</td>\n      <td>[249.4, 16.0, 92.0, 8.0, 11.0, 27.0, 11.0]</td>\n      <td>10</td>\n      <td>preheat oven to 350, combine flour , oats , br...</td>\n      <td>this is a pampered chef recipe for their stone...</td>\n      <td>[flour,  oats,  brown sugar,  pecans,  butter,...</td>\n      <td>12</td>\n      <td>146223</td>\n      <td>5.000000</td>\n      <td>4</td>\n      <td>[2683, 4969, 800, 5298, 840, 2499, 6632, 7022,...</td>\n      <td>0</td>\n    </tr>\n    <tr>\n      <th>2</th>\n      <td>cheesy tomato soup with potatoes</td>\n      <td>312329</td>\n      <td>25</td>\n      <td>621626</td>\n      <td>2008-07-07</td>\n      <td>['30-minutes-or-less', 'time-to-make', 'course...</td>\n      <td>[351.3, 34.0, 15.0, 50.0, 25.0, 70.0, 8.0]</td>\n      <td>6</td>\n      <td>pour the broth &amp; water into a large pot, add t...</td>\n      <td>after modifying another recipe i came up with ...</td>\n      <td>[chicken broth,  water,  salt,  black pepper, ...</td>\n      <td>15</td>\n      <td>312329</td>\n      <td>4.000000</td>\n      <td>1</td>\n      <td>[1257, 7655, 6270, 590, 5024, 1119, 4883, 6696...</td>\n      <td>1</td>\n    </tr>\n    <tr>\n      <th>3</th>\n      <td>mini tacos</td>\n      <td>74301</td>\n      <td>15</td>\n      <td>60989</td>\n      <td>2003-10-29</td>\n      <td>['15-minutes-or-less', 'time-to-make', 'course...</td>\n      <td>[79.7, 5.0, 2.0, 11.0, 11.0, 7.0, 2.0]</td>\n      <td>8</td>\n      <td>cook hamburger until browned, drain the fat an...</td>\n      <td>these can be a easy appetizer or a light dinne...</td>\n      <td>[wonton wrappers,  hamburger,  taco seasoning,...</td>\n      <td>8</td>\n      <td>74301</td>\n      <td>4.766129</td>\n      <td>124</td>\n      <td>[7940, 3609, 7060, 6265, 1170, 6654, 5003, 3561]</td>\n      <td>1</td>\n    </tr>\n    <tr>\n      <th>4</th>\n      <td>rosemary s hanky panky s</td>\n      <td>76272</td>\n      <td>20</td>\n      <td>93444</td>\n      <td>2003-11-12</td>\n      <td>['30-minutes-or-less', 'time-to-make', 'course...</td>\n      <td>[240.7, 29.0, 9.0, 28.0, 27.0, 42.0, 0.0]</td>\n      <td>5</td>\n      <td>fry ground beef and sausage until browned, dra...</td>\n      <td>my girlfriend rosemary gave me this wonderfull...</td>\n      <td>[ground beef,  ground sausage,  velveeta chees...</td>\n      <td>4</td>\n      <td>76272</td>\n      <td>5.000000</td>\n      <td>3</td>\n      <td>[3484, 6324, 7594, 243]</td>\n      <td>1</td>\n    </tr>\n    <tr>\n      <th>...</th>\n      <td>...</td>\n      <td>...</td>\n      <td>...</td>\n      <td>...</td>\n      <td>...</td>\n      <td>...</td>\n      <td>...</td>\n      <td>...</td>\n      <td>...</td>\n      <td>...</td>\n      <td>...</td>\n      <td>...</td>\n      <td>...</td>\n      <td>...</td>\n      <td>...</td>\n      <td>...</td>\n      <td>...</td>\n    </tr>\n    <tr>\n      <th>178260</th>\n      <td>sugar free snickerdoodles</td>\n      <td>323143</td>\n      <td>23</td>\n      <td>57042</td>\n      <td>2008-09-04</td>\n      <td>['30-minutes-or-less', 'time-to-make', 'course...</td>\n      <td>[304.1, 30.0, 0.0, 11.0, 10.0, 60.0, 8.0]</td>\n      <td>6</td>\n      <td>preheat over to 400, mix together butter and s...</td>\n      <td>i have not tried this recipe. i got this recip...</td>\n      <td>[butter,  splenda granular,  eggs,  flour,  cr...</td>\n      <td>7</td>\n      <td>323143</td>\n      <td>2.000000</td>\n      <td>4</td>\n      <td>[840, 208, 2499, 2683, 1925, 335, 1511]</td>\n      <td>0</td>\n    </tr>\n    <tr>\n      <th>178261</th>\n      <td>sausage   pancake strata</td>\n      <td>149114</td>\n      <td>70</td>\n      <td>191220</td>\n      <td>2005-12-22</td>\n      <td>['time-to-make', 'course', 'main-ingredient', ...</td>\n      <td>[235.9, 26.0, 3.0, 19.0, 35.0, 37.0, 0.0]</td>\n      <td>14</td>\n      <td>preheat oven to 350, coat a 11 x 7 baking pan ...</td>\n      <td>my sister gave me this recipe just yesterday. ...</td>\n      <td>[eggs,  milk,  cheddar cheese,  salt,  frozen ...</td>\n      <td>7</td>\n      <td>149114</td>\n      <td>4.333333</td>\n      <td>3</td>\n      <td>[2499, 4717, 1168, 6270, 6324, 7040]</td>\n      <td>1</td>\n    </tr>\n    <tr>\n      <th>178262</th>\n      <td>baked beef patties</td>\n      <td>34200</td>\n      <td>55</td>\n      <td>37779</td>\n      <td>2002-07-15</td>\n      <td>['60-minutes-or-less', 'time-to-make', 'course...</td>\n      <td>[577.5, 51.0, 26.0, 38.0, 84.0, 83.0, 8.0]</td>\n      <td>15</td>\n      <td>in a large bowl , combine 1 / 2 t, dried thyme...</td>\n      <td>taste of home; family favorite.</td>\n      <td>[dried thyme,  water,  garlic salt,  dried ore...</td>\n      <td>14</td>\n      <td>34200</td>\n      <td>4.500000</td>\n      <td>2</td>\n      <td>[2378, 7655, 3219, 2320, 5168, 5319, 4189, 268...</td>\n      <td>1</td>\n    </tr>\n    <tr>\n      <th>178263</th>\n      <td>good and garlicky sweet and sour pork</td>\n      <td>30618</td>\n      <td>40</td>\n      <td>31499</td>\n      <td>2002-06-10</td>\n      <td>['60-minutes-or-less', 'time-to-make', 'main-i...</td>\n      <td>[240.1, 5.0, 96.0, 12.0, 41.0, 5.0, 10.0]</td>\n      <td>13</td>\n      <td>for the sauce , combine all the sauce ingredie...</td>\n      <td>the flavors of this dish mix really well toget...</td>\n      <td>[pork tenderloin,  fresh garlic,  pineapple ch...</td>\n      <td>12</td>\n      <td>30618</td>\n      <td>4.612903</td>\n      <td>31</td>\n      <td>[5627, 2807, 5412, 3399, 7979, 1093, 1257, 780...</td>\n      <td>1</td>\n    </tr>\n    <tr>\n      <th>178264</th>\n      <td>molasses crinkles</td>\n      <td>263840</td>\n      <td>37</td>\n      <td>68526</td>\n      <td>2007-11-07</td>\n      <td>['60-minutes-or-less', 'time-to-make', 'course...</td>\n      <td>[98.1, 6.0, 28.0, 3.0, 1.0, 5.0, 4.0]</td>\n      <td>12</td>\n      <td>preheat oven to 375, cream shortening, add sug...</td>\n      <td>great anytime, but especially fun to include i...</td>\n      <td>[shortening,  brown sugar,  molasses,  flour, ...</td>\n      <td>9</td>\n      <td>263840</td>\n      <td>5.000000</td>\n      <td>1</td>\n      <td>[6473, 800, 4807, 2683, 335, 1563, 1511, 3248,...</td>\n      <td>0</td>\n    </tr>\n  </tbody>\n</table>\n<p>178265 rows × 17 columns</p>\n</div>"
     },
     "execution_count": 206,
     "metadata": {},
     "output_type": "execute_result"
    }
   ],
   "source": [
    "recipesLikesDislikes"
   ],
   "metadata": {
    "collapsed": false,
    "pycharm": {
     "name": "#%%\n"
    }
   }
  },
  {
   "cell_type": "code",
   "execution_count": 207,
   "outputs": [
    {
     "data": {
      "text/plain": "array([6267])"
     },
     "execution_count": 207,
     "metadata": {},
     "output_type": "execute_result"
    }
   ],
   "source": [
    "label_encoder.transform(['salt'])"
   ],
   "metadata": {
    "collapsed": false,
    "pycharm": {
     "name": "#%%\n"
    }
   }
  },
  {
   "cell_type": "code",
   "execution_count": 208,
   "outputs": [
    {
     "data": {
      "text/plain": "['salt']"
     },
     "execution_count": 208,
     "metadata": {},
     "output_type": "execute_result"
    }
   ],
   "source": [
    "list(label_encoder.inverse_transform([6267]))"
   ],
   "metadata": {
    "collapsed": false,
    "pycharm": {
     "name": "#%%\n"
    }
   }
  },
  {
   "cell_type": "markdown",
   "source": [
    "Encoding in array"
   ],
   "metadata": {
    "collapsed": false,
    "pycharm": {
     "name": "#%% md\n"
    }
   }
  },
  {
   "cell_type": "code",
   "execution_count": 209,
   "outputs": [],
   "source": [
    "# recipe_array = recipesLikesDislikes['ingredients_encoded'].array\n",
    "# label_encoder.fit(recipe_array)"
   ],
   "metadata": {
    "collapsed": false,
    "pycharm": {
     "name": "#%%\n"
    }
   }
  },
  {
   "cell_type": "code",
   "execution_count": 210,
   "outputs": [
    {
     "data": {
      "text/plain": "array([' baking chocolate', ' chocolate chip', ' hugs chocolate', ...,\n       'ziti rigatus', 'zucchini', 'zwieback toast'], dtype=object)"
     },
     "execution_count": 210,
     "metadata": {},
     "output_type": "execute_result"
    }
   ],
   "source": [
    "label_encoder.classes_"
   ],
   "metadata": {
    "collapsed": false,
    "pycharm": {
     "name": "#%%\n"
    }
   }
  },
  {
   "cell_type": "code",
   "execution_count": 211,
   "outputs": [],
   "source": [
    "# label_encoder.classes_"
   ],
   "metadata": {
    "collapsed": false,
    "pycharm": {
     "name": "#%%\n"
    }
   }
  },
  {
   "cell_type": "code",
   "execution_count": 212,
   "outputs": [
    {
     "data": {
      "text/plain": "                                         name      id  minutes  \\\n0          aromatic basmati rice  rice cooker  424415       61   \n1                       pumpkin pie a la easy  146223       55   \n2            cheesy tomato soup with potatoes  312329       25   \n3                                  mini tacos   74301       15   \n4                    rosemary s hanky panky s   76272       20   \n...                                       ...     ...      ...   \n178260              sugar free snickerdoodles  323143       23   \n178261               sausage   pancake strata  149114       70   \n178262                     baked beef patties   34200       55   \n178263  good and garlicky sweet and sour pork   30618       40   \n178264                      molasses crinkles  263840       37   \n\n        contributor_id   submitted  \\\n0               496803  2010-05-10   \n1               229619  2005-11-25   \n2               621626  2008-07-07   \n3                60989  2003-10-29   \n4                93444  2003-11-12   \n...                ...         ...   \n178260           57042  2008-09-04   \n178261          191220  2005-12-22   \n178262           37779  2002-07-15   \n178263           31499  2002-06-10   \n178264           68526  2007-11-07   \n\n                                                     tags  \\\n0       ['weeknight', 'time-to-make', 'course', 'main-...   \n1       ['60-minutes-or-less', 'time-to-make', 'course...   \n2       ['30-minutes-or-less', 'time-to-make', 'course...   \n3       ['15-minutes-or-less', 'time-to-make', 'course...   \n4       ['30-minutes-or-less', 'time-to-make', 'course...   \n...                                                   ...   \n178260  ['30-minutes-or-less', 'time-to-make', 'course...   \n178261  ['time-to-make', 'course', 'main-ingredient', ...   \n178262  ['60-minutes-or-less', 'time-to-make', 'course...   \n178263  ['60-minutes-or-less', 'time-to-make', 'main-i...   \n178264  ['60-minutes-or-less', 'time-to-make', 'course...   \n\n                                         nutrition  n_steps  \\\n0           [228.2, 2.0, 2.0, 8.0, 9.0, 1.0, 15.0]        6   \n1       [249.4, 16.0, 92.0, 8.0, 11.0, 27.0, 11.0]       10   \n2       [351.3, 34.0, 15.0, 50.0, 25.0, 70.0, 8.0]        6   \n3           [79.7, 5.0, 2.0, 11.0, 11.0, 7.0, 2.0]        8   \n4        [240.7, 29.0, 9.0, 28.0, 27.0, 42.0, 0.0]        5   \n...                                            ...      ...   \n178260   [304.1, 30.0, 0.0, 11.0, 10.0, 60.0, 8.0]        6   \n178261   [235.9, 26.0, 3.0, 19.0, 35.0, 37.0, 0.0]       14   \n178262  [577.5, 51.0, 26.0, 38.0, 84.0, 83.0, 8.0]       15   \n178263   [240.1, 5.0, 96.0, 12.0, 41.0, 5.0, 10.0]       13   \n178264       [98.1, 6.0, 28.0, 3.0, 1.0, 5.0, 4.0]       12   \n\n                                                    steps  \\\n0       rinse the rice in a fine strainer , then drain...   \n1       preheat oven to 350, combine flour , oats , br...   \n2       pour the broth & water into a large pot, add t...   \n3       cook hamburger until browned, drain the fat an...   \n4       fry ground beef and sausage until browned, dra...   \n...                                                   ...   \n178260  preheat over to 400, mix together butter and s...   \n178261  preheat oven to 350, coat a 11 x 7 baking pan ...   \n178262  in a large bowl , combine 1 / 2 t, dried thyme...   \n178263  for the sauce , combine all the sauce ingredie...   \n178264  preheat oven to 375, cream shortening, add sug...   \n\n                                              description  \\\n0       from the ultimate rice cooker cookbook.  the a...   \n1       this is a pampered chef recipe for their stone...   \n2       after modifying another recipe i came up with ...   \n3       these can be a easy appetizer or a light dinne...   \n4       my girlfriend rosemary gave me this wonderfull...   \n...                                                   ...   \n178260  i have not tried this recipe. i got this recip...   \n178261  my sister gave me this recipe just yesterday. ...   \n178262                    taste of home; family favorite.   \n178263  the flavors of this dish mix really well toget...   \n178264  great anytime, but especially fun to include i...   \n\n                                              ingredients  n_ingredients  \\\n0       [basmati rice,  water,  salt,  cinnamon stick,...              5   \n1       [flour,  oats,  brown sugar,  pecans,  butter,...             12   \n2       [chicken broth,  water,  salt,  black pepper, ...             15   \n3       [wonton wrappers,  hamburger,  taco seasoning,...              8   \n4       [ground beef,  ground sausage,  velveeta chees...              4   \n...                                                   ...            ...   \n178260  [butter,  splenda granular,  eggs,  flour,  cr...              7   \n178261  [eggs,  milk,  cheddar cheese,  salt,  frozen ...              7   \n178262  [dried thyme,  water,  garlic salt,  dried ore...             14   \n178263  [pork tenderloin,  fresh garlic,  pineapple ch...             12   \n178264  [shortening,  brown sugar,  molasses,  flour, ...              9   \n\n        recipe_id  average_rating  votes  \\\n0          424415        4.833333      6   \n1          146223        5.000000      4   \n2          312329        4.000000      1   \n3           74301        4.766129    124   \n4           76272        5.000000      3   \n...           ...             ...    ...   \n178260     323143        2.000000      4   \n178261     149114        4.333333      3   \n178262      34200        4.500000      2   \n178263      30618        4.612903     31   \n178264     263840        5.000000      1   \n\n                                           ingredient_ids  like  \n0                           [389, 7655, 6270, 1527, 3406]     0  \n1       [2683, 4969, 800, 5298, 840, 2499, 6632, 7022,...     0  \n2       [1257, 7655, 6270, 590, 5024, 1119, 4883, 6696...     1  \n3        [7940, 3609, 7060, 6265, 1170, 6654, 5003, 3561]     1  \n4                                 [3484, 6324, 7594, 243]     1  \n...                                                   ...   ...  \n178260            [840, 208, 2499, 2683, 1925, 335, 1511]     0  \n178261               [2499, 4717, 1168, 6270, 6324, 7040]     1  \n178262  [2378, 7655, 3219, 2320, 5168, 5319, 4189, 268...     1  \n178263  [5627, 2807, 5412, 3399, 7979, 1093, 1257, 780...     1  \n178264  [6473, 800, 4807, 2683, 335, 1563, 1511, 3248,...     0  \n\n[178265 rows x 17 columns]",
      "text/html": "<div>\n<style scoped>\n    .dataframe tbody tr th:only-of-type {\n        vertical-align: middle;\n    }\n\n    .dataframe tbody tr th {\n        vertical-align: top;\n    }\n\n    .dataframe thead th {\n        text-align: right;\n    }\n</style>\n<table border=\"1\" class=\"dataframe\">\n  <thead>\n    <tr style=\"text-align: right;\">\n      <th></th>\n      <th>name</th>\n      <th>id</th>\n      <th>minutes</th>\n      <th>contributor_id</th>\n      <th>submitted</th>\n      <th>tags</th>\n      <th>nutrition</th>\n      <th>n_steps</th>\n      <th>steps</th>\n      <th>description</th>\n      <th>ingredients</th>\n      <th>n_ingredients</th>\n      <th>recipe_id</th>\n      <th>average_rating</th>\n      <th>votes</th>\n      <th>ingredient_ids</th>\n      <th>like</th>\n    </tr>\n  </thead>\n  <tbody>\n    <tr>\n      <th>0</th>\n      <td>aromatic basmati rice  rice cooker</td>\n      <td>424415</td>\n      <td>61</td>\n      <td>496803</td>\n      <td>2010-05-10</td>\n      <td>['weeknight', 'time-to-make', 'course', 'main-...</td>\n      <td>[228.2, 2.0, 2.0, 8.0, 9.0, 1.0, 15.0]</td>\n      <td>6</td>\n      <td>rinse the rice in a fine strainer , then drain...</td>\n      <td>from the ultimate rice cooker cookbook.  the a...</td>\n      <td>[basmati rice,  water,  salt,  cinnamon stick,...</td>\n      <td>5</td>\n      <td>424415</td>\n      <td>4.833333</td>\n      <td>6</td>\n      <td>[389, 7655, 6270, 1527, 3406]</td>\n      <td>0</td>\n    </tr>\n    <tr>\n      <th>1</th>\n      <td>pumpkin pie a la easy</td>\n      <td>146223</td>\n      <td>55</td>\n      <td>229619</td>\n      <td>2005-11-25</td>\n      <td>['60-minutes-or-less', 'time-to-make', 'course...</td>\n      <td>[249.4, 16.0, 92.0, 8.0, 11.0, 27.0, 11.0]</td>\n      <td>10</td>\n      <td>preheat oven to 350, combine flour , oats , br...</td>\n      <td>this is a pampered chef recipe for their stone...</td>\n      <td>[flour,  oats,  brown sugar,  pecans,  butter,...</td>\n      <td>12</td>\n      <td>146223</td>\n      <td>5.000000</td>\n      <td>4</td>\n      <td>[2683, 4969, 800, 5298, 840, 2499, 6632, 7022,...</td>\n      <td>0</td>\n    </tr>\n    <tr>\n      <th>2</th>\n      <td>cheesy tomato soup with potatoes</td>\n      <td>312329</td>\n      <td>25</td>\n      <td>621626</td>\n      <td>2008-07-07</td>\n      <td>['30-minutes-or-less', 'time-to-make', 'course...</td>\n      <td>[351.3, 34.0, 15.0, 50.0, 25.0, 70.0, 8.0]</td>\n      <td>6</td>\n      <td>pour the broth &amp; water into a large pot, add t...</td>\n      <td>after modifying another recipe i came up with ...</td>\n      <td>[chicken broth,  water,  salt,  black pepper, ...</td>\n      <td>15</td>\n      <td>312329</td>\n      <td>4.000000</td>\n      <td>1</td>\n      <td>[1257, 7655, 6270, 590, 5024, 1119, 4883, 6696...</td>\n      <td>1</td>\n    </tr>\n    <tr>\n      <th>3</th>\n      <td>mini tacos</td>\n      <td>74301</td>\n      <td>15</td>\n      <td>60989</td>\n      <td>2003-10-29</td>\n      <td>['15-minutes-or-less', 'time-to-make', 'course...</td>\n      <td>[79.7, 5.0, 2.0, 11.0, 11.0, 7.0, 2.0]</td>\n      <td>8</td>\n      <td>cook hamburger until browned, drain the fat an...</td>\n      <td>these can be a easy appetizer or a light dinne...</td>\n      <td>[wonton wrappers,  hamburger,  taco seasoning,...</td>\n      <td>8</td>\n      <td>74301</td>\n      <td>4.766129</td>\n      <td>124</td>\n      <td>[7940, 3609, 7060, 6265, 1170, 6654, 5003, 3561]</td>\n      <td>1</td>\n    </tr>\n    <tr>\n      <th>4</th>\n      <td>rosemary s hanky panky s</td>\n      <td>76272</td>\n      <td>20</td>\n      <td>93444</td>\n      <td>2003-11-12</td>\n      <td>['30-minutes-or-less', 'time-to-make', 'course...</td>\n      <td>[240.7, 29.0, 9.0, 28.0, 27.0, 42.0, 0.0]</td>\n      <td>5</td>\n      <td>fry ground beef and sausage until browned, dra...</td>\n      <td>my girlfriend rosemary gave me this wonderfull...</td>\n      <td>[ground beef,  ground sausage,  velveeta chees...</td>\n      <td>4</td>\n      <td>76272</td>\n      <td>5.000000</td>\n      <td>3</td>\n      <td>[3484, 6324, 7594, 243]</td>\n      <td>1</td>\n    </tr>\n    <tr>\n      <th>...</th>\n      <td>...</td>\n      <td>...</td>\n      <td>...</td>\n      <td>...</td>\n      <td>...</td>\n      <td>...</td>\n      <td>...</td>\n      <td>...</td>\n      <td>...</td>\n      <td>...</td>\n      <td>...</td>\n      <td>...</td>\n      <td>...</td>\n      <td>...</td>\n      <td>...</td>\n      <td>...</td>\n      <td>...</td>\n    </tr>\n    <tr>\n      <th>178260</th>\n      <td>sugar free snickerdoodles</td>\n      <td>323143</td>\n      <td>23</td>\n      <td>57042</td>\n      <td>2008-09-04</td>\n      <td>['30-minutes-or-less', 'time-to-make', 'course...</td>\n      <td>[304.1, 30.0, 0.0, 11.0, 10.0, 60.0, 8.0]</td>\n      <td>6</td>\n      <td>preheat over to 400, mix together butter and s...</td>\n      <td>i have not tried this recipe. i got this recip...</td>\n      <td>[butter,  splenda granular,  eggs,  flour,  cr...</td>\n      <td>7</td>\n      <td>323143</td>\n      <td>2.000000</td>\n      <td>4</td>\n      <td>[840, 208, 2499, 2683, 1925, 335, 1511]</td>\n      <td>0</td>\n    </tr>\n    <tr>\n      <th>178261</th>\n      <td>sausage   pancake strata</td>\n      <td>149114</td>\n      <td>70</td>\n      <td>191220</td>\n      <td>2005-12-22</td>\n      <td>['time-to-make', 'course', 'main-ingredient', ...</td>\n      <td>[235.9, 26.0, 3.0, 19.0, 35.0, 37.0, 0.0]</td>\n      <td>14</td>\n      <td>preheat oven to 350, coat a 11 x 7 baking pan ...</td>\n      <td>my sister gave me this recipe just yesterday. ...</td>\n      <td>[eggs,  milk,  cheddar cheese,  salt,  frozen ...</td>\n      <td>7</td>\n      <td>149114</td>\n      <td>4.333333</td>\n      <td>3</td>\n      <td>[2499, 4717, 1168, 6270, 6324, 7040]</td>\n      <td>1</td>\n    </tr>\n    <tr>\n      <th>178262</th>\n      <td>baked beef patties</td>\n      <td>34200</td>\n      <td>55</td>\n      <td>37779</td>\n      <td>2002-07-15</td>\n      <td>['60-minutes-or-less', 'time-to-make', 'course...</td>\n      <td>[577.5, 51.0, 26.0, 38.0, 84.0, 83.0, 8.0]</td>\n      <td>15</td>\n      <td>in a large bowl , combine 1 / 2 t, dried thyme...</td>\n      <td>taste of home; family favorite.</td>\n      <td>[dried thyme,  water,  garlic salt,  dried ore...</td>\n      <td>14</td>\n      <td>34200</td>\n      <td>4.500000</td>\n      <td>2</td>\n      <td>[2378, 7655, 3219, 2320, 5168, 5319, 4189, 268...</td>\n      <td>1</td>\n    </tr>\n    <tr>\n      <th>178263</th>\n      <td>good and garlicky sweet and sour pork</td>\n      <td>30618</td>\n      <td>40</td>\n      <td>31499</td>\n      <td>2002-06-10</td>\n      <td>['60-minutes-or-less', 'time-to-make', 'main-i...</td>\n      <td>[240.1, 5.0, 96.0, 12.0, 41.0, 5.0, 10.0]</td>\n      <td>13</td>\n      <td>for the sauce , combine all the sauce ingredie...</td>\n      <td>the flavors of this dish mix really well toget...</td>\n      <td>[pork tenderloin,  fresh garlic,  pineapple ch...</td>\n      <td>12</td>\n      <td>30618</td>\n      <td>4.612903</td>\n      <td>31</td>\n      <td>[5627, 2807, 5412, 3399, 7979, 1093, 1257, 780...</td>\n      <td>1</td>\n    </tr>\n    <tr>\n      <th>178264</th>\n      <td>molasses crinkles</td>\n      <td>263840</td>\n      <td>37</td>\n      <td>68526</td>\n      <td>2007-11-07</td>\n      <td>['60-minutes-or-less', 'time-to-make', 'course...</td>\n      <td>[98.1, 6.0, 28.0, 3.0, 1.0, 5.0, 4.0]</td>\n      <td>12</td>\n      <td>preheat oven to 375, cream shortening, add sug...</td>\n      <td>great anytime, but especially fun to include i...</td>\n      <td>[shortening,  brown sugar,  molasses,  flour, ...</td>\n      <td>9</td>\n      <td>263840</td>\n      <td>5.000000</td>\n      <td>1</td>\n      <td>[6473, 800, 4807, 2683, 335, 1563, 1511, 3248,...</td>\n      <td>0</td>\n    </tr>\n  </tbody>\n</table>\n<p>178265 rows × 17 columns</p>\n</div>"
     },
     "execution_count": 212,
     "metadata": {},
     "output_type": "execute_result"
    }
   ],
   "source": [
    "recipesLikesDislikes"
   ],
   "metadata": {
    "collapsed": false,
    "pycharm": {
     "name": "#%%\n"
    }
   }
  },
  {
   "cell_type": "markdown",
   "source": [
    "## Crosstabulation"
   ],
   "metadata": {
    "collapsed": false,
    "pycharm": {
     "name": "#%% md\n"
    }
   }
  },
  {
   "cell_type": "code",
   "execution_count": 212,
   "outputs": [],
   "source": [],
   "metadata": {
    "collapsed": false,
    "pycharm": {
     "name": "#%%\n"
    }
   }
  },
  {
   "cell_type": "code",
   "execution_count": 213,
   "outputs": [
    {
     "name": "stdout",
     "output_type": "stream",
     "text": [
      "\n",
      "178265\n"
     ]
    }
   ],
   "source": [
    "print()\n",
    "print(recipesLikesDislikes[\"name\"].size)"
   ],
   "metadata": {
    "collapsed": false,
    "pycharm": {
     "name": "#%%\n"
    }
   }
  },
  {
   "cell_type": "code",
   "execution_count": 214,
   "outputs": [],
   "source": [
    "\n",
    "# crossTab = pd.crosstab(uniqueIngredientsDF[\"replaced\"],uniqueIngredientsDF[\"ingredients\"]).sample(1000)"
   ],
   "metadata": {
    "collapsed": false,
    "pycharm": {
     "name": "#%%\n"
    }
   }
  },
  {
   "cell_type": "code",
   "execution_count": 214,
   "outputs": [],
   "source": [],
   "metadata": {
    "collapsed": false,
    "pycharm": {
     "name": "#%%\n"
    }
   }
  },
  {
   "cell_type": "markdown",
   "source": [
    "### Num collumns only"
   ],
   "metadata": {
    "collapsed": false,
    "pycharm": {
     "name": "#%% md\n"
    }
   }
  },
  {
   "cell_type": "code",
   "execution_count": 215,
   "outputs": [],
   "source": [
    "Recipe_prep = recipesLikesDislikes[[\"minutes\",\"n_steps\",\"n_ingredients\",\"average_rating\",\"votes\",\"like\"]]"
   ],
   "metadata": {
    "collapsed": false,
    "pycharm": {
     "name": "#%%\n"
    }
   }
  },
  {
   "cell_type": "code",
   "execution_count": 216,
   "outputs": [
    {
     "data": {
      "text/plain": "        minutes  n_steps  n_ingredients  average_rating  votes  like\n0            61        6              5        4.833333      6     0\n1            55       10             12        5.000000      4     0\n2            25        6             15        4.000000      1     1\n3            15        8              8        4.766129    124     1\n4            20        5              4        5.000000      3     1\n...         ...      ...            ...             ...    ...   ...\n178260       23        6              7        2.000000      4     0\n178261       70       14              7        4.333333      3     1\n178262       55       15             14        4.500000      2     1\n178263       40       13             12        4.612903     31     1\n178264       37       12              9        5.000000      1     0\n\n[178265 rows x 6 columns]",
      "text/html": "<div>\n<style scoped>\n    .dataframe tbody tr th:only-of-type {\n        vertical-align: middle;\n    }\n\n    .dataframe tbody tr th {\n        vertical-align: top;\n    }\n\n    .dataframe thead th {\n        text-align: right;\n    }\n</style>\n<table border=\"1\" class=\"dataframe\">\n  <thead>\n    <tr style=\"text-align: right;\">\n      <th></th>\n      <th>minutes</th>\n      <th>n_steps</th>\n      <th>n_ingredients</th>\n      <th>average_rating</th>\n      <th>votes</th>\n      <th>like</th>\n    </tr>\n  </thead>\n  <tbody>\n    <tr>\n      <th>0</th>\n      <td>61</td>\n      <td>6</td>\n      <td>5</td>\n      <td>4.833333</td>\n      <td>6</td>\n      <td>0</td>\n    </tr>\n    <tr>\n      <th>1</th>\n      <td>55</td>\n      <td>10</td>\n      <td>12</td>\n      <td>5.000000</td>\n      <td>4</td>\n      <td>0</td>\n    </tr>\n    <tr>\n      <th>2</th>\n      <td>25</td>\n      <td>6</td>\n      <td>15</td>\n      <td>4.000000</td>\n      <td>1</td>\n      <td>1</td>\n    </tr>\n    <tr>\n      <th>3</th>\n      <td>15</td>\n      <td>8</td>\n      <td>8</td>\n      <td>4.766129</td>\n      <td>124</td>\n      <td>1</td>\n    </tr>\n    <tr>\n      <th>4</th>\n      <td>20</td>\n      <td>5</td>\n      <td>4</td>\n      <td>5.000000</td>\n      <td>3</td>\n      <td>1</td>\n    </tr>\n    <tr>\n      <th>...</th>\n      <td>...</td>\n      <td>...</td>\n      <td>...</td>\n      <td>...</td>\n      <td>...</td>\n      <td>...</td>\n    </tr>\n    <tr>\n      <th>178260</th>\n      <td>23</td>\n      <td>6</td>\n      <td>7</td>\n      <td>2.000000</td>\n      <td>4</td>\n      <td>0</td>\n    </tr>\n    <tr>\n      <th>178261</th>\n      <td>70</td>\n      <td>14</td>\n      <td>7</td>\n      <td>4.333333</td>\n      <td>3</td>\n      <td>1</td>\n    </tr>\n    <tr>\n      <th>178262</th>\n      <td>55</td>\n      <td>15</td>\n      <td>14</td>\n      <td>4.500000</td>\n      <td>2</td>\n      <td>1</td>\n    </tr>\n    <tr>\n      <th>178263</th>\n      <td>40</td>\n      <td>13</td>\n      <td>12</td>\n      <td>4.612903</td>\n      <td>31</td>\n      <td>1</td>\n    </tr>\n    <tr>\n      <th>178264</th>\n      <td>37</td>\n      <td>12</td>\n      <td>9</td>\n      <td>5.000000</td>\n      <td>1</td>\n      <td>0</td>\n    </tr>\n  </tbody>\n</table>\n<p>178265 rows × 6 columns</p>\n</div>"
     },
     "execution_count": 216,
     "metadata": {},
     "output_type": "execute_result"
    }
   ],
   "source": [
    "# Recipe_prep['ingredient_ids']= Recipe_prep['ingredient_ids'].str.replace(']', '')\n",
    "# Recipe_prep['ingredient_ids']= Recipe_prep['ingredient_ids'].str.replace('[', '')\n",
    "Recipe_prep"
   ],
   "metadata": {
    "collapsed": false,
    "pycharm": {
     "name": "#%%\n"
    }
   }
  },
  {
   "cell_type": "markdown",
   "source": [
    "Building models more the array -----------"
   ],
   "metadata": {
    "collapsed": false,
    "pycharm": {
     "name": "#%% md\n"
    }
   }
  },
  {
   "cell_type": "markdown",
   "source": [
    "## Vectorization"
   ],
   "metadata": {
    "collapsed": false,
    "pycharm": {
     "name": "#%% md\n"
    }
   }
  },
  {
   "cell_type": "code",
   "execution_count": 217,
   "outputs": [],
   "source": [
    "counts = CountVectorizer"
   ],
   "metadata": {
    "collapsed": false,
    "pycharm": {
     "name": "#%%\n"
    }
   }
  },
  {
   "cell_type": "code",
   "execution_count": 217,
   "outputs": [],
   "source": [],
   "metadata": {
    "collapsed": false,
    "pycharm": {
     "name": "#%%\n"
    }
   }
  },
  {
   "cell_type": "markdown",
   "source": [
    "## Recommending recipes with cos similarity"
   ],
   "metadata": {
    "collapsed": false,
    "pycharm": {
     "name": "#%% md\n"
    }
   }
  },
  {
   "cell_type": "code",
   "execution_count": 218,
   "outputs": [],
   "source": [
    "from sklearn.model_selection import train_test_split\n",
    "# print(recipesLikesDislikes[\"like\"].unique())\n",
    "#\n",
    "# labelencoder=LabelEncoder()\n",
    "# recipesLikesDislikes[\"like_encode\"] = labelencoder.fit_transform(recipesLikesDislikes[\"like\"])\n",
    "#\n",
    "# print(recipesLikesDislikes[\"like\"].unique())"
   ],
   "metadata": {
    "collapsed": false,
    "pycharm": {
     "name": "#%%\n"
    }
   }
  },
  {
   "cell_type": "code",
   "execution_count": 219,
   "outputs": [
    {
     "data": {
      "text/plain": "(178265, 6)"
     },
     "execution_count": 219,
     "metadata": {},
     "output_type": "execute_result"
    }
   ],
   "source": [
    "Recipe_prep.shape"
   ],
   "metadata": {
    "collapsed": false,
    "pycharm": {
     "name": "#%%\n"
    }
   }
  },
  {
   "cell_type": "code",
   "execution_count": 220,
   "outputs": [
    {
     "name": "stdout",
     "output_type": "stream",
     "text": [
      "<class 'pandas.core.frame.DataFrame'>\n",
      "Int64Index: 178265 entries, 0 to 178264\n",
      "Data columns (total 6 columns):\n",
      " #   Column          Non-Null Count   Dtype  \n",
      "---  ------          --------------   -----  \n",
      " 0   minutes         178265 non-null  int64  \n",
      " 1   n_steps         178265 non-null  int64  \n",
      " 2   n_ingredients   178265 non-null  int64  \n",
      " 3   average_rating  178265 non-null  float64\n",
      " 4   votes           178265 non-null  int64  \n",
      " 5   like            178265 non-null  int64  \n",
      "dtypes: float64(1), int64(5)\n",
      "memory usage: 13.6 MB\n"
     ]
    }
   ],
   "source": [
    "Recipe_prep.info()"
   ],
   "metadata": {
    "collapsed": false,
    "pycharm": {
     "name": "#%%\n"
    }
   }
  },
  {
   "cell_type": "code",
   "execution_count": 228,
   "outputs": [
    {
     "data": {
      "text/plain": "                                         name      id  minutes  \\\n0          aromatic basmati rice  rice cooker  424415       61   \n1                       pumpkin pie a la easy  146223       55   \n2            cheesy tomato soup with potatoes  312329       25   \n3                                  mini tacos   74301       15   \n4                    rosemary s hanky panky s   76272       20   \n...                                       ...     ...      ...   \n178260              sugar free snickerdoodles  323143       23   \n178261               sausage   pancake strata  149114       70   \n178262                     baked beef patties   34200       55   \n178263  good and garlicky sweet and sour pork   30618       40   \n178264                      molasses crinkles  263840       37   \n\n        contributor_id   submitted  \\\n0               496803  2010-05-10   \n1               229619  2005-11-25   \n2               621626  2008-07-07   \n3                60989  2003-10-29   \n4                93444  2003-11-12   \n...                ...         ...   \n178260           57042  2008-09-04   \n178261          191220  2005-12-22   \n178262           37779  2002-07-15   \n178263           31499  2002-06-10   \n178264           68526  2007-11-07   \n\n                                                     tags  \\\n0       ['weeknight', 'time-to-make', 'course', 'main-...   \n1       ['60-minutes-or-less', 'time-to-make', 'course...   \n2       ['30-minutes-or-less', 'time-to-make', 'course...   \n3       ['15-minutes-or-less', 'time-to-make', 'course...   \n4       ['30-minutes-or-less', 'time-to-make', 'course...   \n...                                                   ...   \n178260  ['30-minutes-or-less', 'time-to-make', 'course...   \n178261  ['time-to-make', 'course', 'main-ingredient', ...   \n178262  ['60-minutes-or-less', 'time-to-make', 'course...   \n178263  ['60-minutes-or-less', 'time-to-make', 'main-i...   \n178264  ['60-minutes-or-less', 'time-to-make', 'course...   \n\n                                         nutrition  n_steps  \\\n0           [228.2, 2.0, 2.0, 8.0, 9.0, 1.0, 15.0]        6   \n1       [249.4, 16.0, 92.0, 8.0, 11.0, 27.0, 11.0]       10   \n2       [351.3, 34.0, 15.0, 50.0, 25.0, 70.0, 8.0]        6   \n3           [79.7, 5.0, 2.0, 11.0, 11.0, 7.0, 2.0]        8   \n4        [240.7, 29.0, 9.0, 28.0, 27.0, 42.0, 0.0]        5   \n...                                            ...      ...   \n178260   [304.1, 30.0, 0.0, 11.0, 10.0, 60.0, 8.0]        6   \n178261   [235.9, 26.0, 3.0, 19.0, 35.0, 37.0, 0.0]       14   \n178262  [577.5, 51.0, 26.0, 38.0, 84.0, 83.0, 8.0]       15   \n178263   [240.1, 5.0, 96.0, 12.0, 41.0, 5.0, 10.0]       13   \n178264       [98.1, 6.0, 28.0, 3.0, 1.0, 5.0, 4.0]       12   \n\n                                                    steps  \\\n0       rinse the rice in a fine strainer , then drain...   \n1       preheat oven to 350, combine flour , oats , br...   \n2       pour the broth & water into a large pot, add t...   \n3       cook hamburger until browned, drain the fat an...   \n4       fry ground beef and sausage until browned, dra...   \n...                                                   ...   \n178260  preheat over to 400, mix together butter and s...   \n178261  preheat oven to 350, coat a 11 x 7 baking pan ...   \n178262  in a large bowl , combine 1 / 2 t, dried thyme...   \n178263  for the sauce , combine all the sauce ingredie...   \n178264  preheat oven to 375, cream shortening, add sug...   \n\n                                              description  \\\n0       from the ultimate rice cooker cookbook.  the a...   \n1       this is a pampered chef recipe for their stone...   \n2       after modifying another recipe i came up with ...   \n3       these can be a easy appetizer or a light dinne...   \n4       my girlfriend rosemary gave me this wonderfull...   \n...                                                   ...   \n178260  i have not tried this recipe. i got this recip...   \n178261  my sister gave me this recipe just yesterday. ...   \n178262                    taste of home; family favorite.   \n178263  the flavors of this dish mix really well toget...   \n178264  great anytime, but especially fun to include i...   \n\n                                              ingredients  n_ingredients  \\\n0       [basmati rice,  water,  salt,  cinnamon stick,...              5   \n1       [flour,  oats,  brown sugar,  pecans,  butter,...             12   \n2       [chicken broth,  water,  salt,  black pepper, ...             15   \n3       [wonton wrappers,  hamburger,  taco seasoning,...              8   \n4       [ground beef,  ground sausage,  velveeta chees...              4   \n...                                                   ...            ...   \n178260  [butter,  splenda granular,  eggs,  flour,  cr...              7   \n178261  [eggs,  milk,  cheddar cheese,  salt,  frozen ...              7   \n178262  [dried thyme,  water,  garlic salt,  dried ore...             14   \n178263  [pork tenderloin,  fresh garlic,  pineapple ch...             12   \n178264  [shortening,  brown sugar,  molasses,  flour, ...              9   \n\n        recipe_id  average_rating  votes  \\\n0          424415        4.833333      6   \n1          146223        5.000000      4   \n2          312329        4.000000      1   \n3           74301        4.766129    124   \n4           76272        5.000000      3   \n...           ...             ...    ...   \n178260     323143        2.000000      4   \n178261     149114        4.333333      3   \n178262      34200        4.500000      2   \n178263      30618        4.612903     31   \n178264     263840        5.000000      1   \n\n                                           ingredient_ids  like  \n0                           [389, 7655, 6270, 1527, 3406]     0  \n1       [2683, 4969, 800, 5298, 840, 2499, 6632, 7022,...     0  \n2       [1257, 7655, 6270, 590, 5024, 1119, 4883, 6696...     1  \n3        [7940, 3609, 7060, 6265, 1170, 6654, 5003, 3561]     1  \n4                                 [3484, 6324, 7594, 243]     1  \n...                                                   ...   ...  \n178260            [840, 208, 2499, 2683, 1925, 335, 1511]     0  \n178261               [2499, 4717, 1168, 6270, 6324, 7040]     1  \n178262  [2378, 7655, 3219, 2320, 5168, 5319, 4189, 268...     1  \n178263  [5627, 2807, 5412, 3399, 7979, 1093, 1257, 780...     1  \n178264  [6473, 800, 4807, 2683, 335, 1563, 1511, 3248,...     0  \n\n[178265 rows x 17 columns]",
      "text/html": "<div>\n<style scoped>\n    .dataframe tbody tr th:only-of-type {\n        vertical-align: middle;\n    }\n\n    .dataframe tbody tr th {\n        vertical-align: top;\n    }\n\n    .dataframe thead th {\n        text-align: right;\n    }\n</style>\n<table border=\"1\" class=\"dataframe\">\n  <thead>\n    <tr style=\"text-align: right;\">\n      <th></th>\n      <th>name</th>\n      <th>id</th>\n      <th>minutes</th>\n      <th>contributor_id</th>\n      <th>submitted</th>\n      <th>tags</th>\n      <th>nutrition</th>\n      <th>n_steps</th>\n      <th>steps</th>\n      <th>description</th>\n      <th>ingredients</th>\n      <th>n_ingredients</th>\n      <th>recipe_id</th>\n      <th>average_rating</th>\n      <th>votes</th>\n      <th>ingredient_ids</th>\n      <th>like</th>\n    </tr>\n  </thead>\n  <tbody>\n    <tr>\n      <th>0</th>\n      <td>aromatic basmati rice  rice cooker</td>\n      <td>424415</td>\n      <td>61</td>\n      <td>496803</td>\n      <td>2010-05-10</td>\n      <td>['weeknight', 'time-to-make', 'course', 'main-...</td>\n      <td>[228.2, 2.0, 2.0, 8.0, 9.0, 1.0, 15.0]</td>\n      <td>6</td>\n      <td>rinse the rice in a fine strainer , then drain...</td>\n      <td>from the ultimate rice cooker cookbook.  the a...</td>\n      <td>[basmati rice,  water,  salt,  cinnamon stick,...</td>\n      <td>5</td>\n      <td>424415</td>\n      <td>4.833333</td>\n      <td>6</td>\n      <td>[389, 7655, 6270, 1527, 3406]</td>\n      <td>0</td>\n    </tr>\n    <tr>\n      <th>1</th>\n      <td>pumpkin pie a la easy</td>\n      <td>146223</td>\n      <td>55</td>\n      <td>229619</td>\n      <td>2005-11-25</td>\n      <td>['60-minutes-or-less', 'time-to-make', 'course...</td>\n      <td>[249.4, 16.0, 92.0, 8.0, 11.0, 27.0, 11.0]</td>\n      <td>10</td>\n      <td>preheat oven to 350, combine flour , oats , br...</td>\n      <td>this is a pampered chef recipe for their stone...</td>\n      <td>[flour,  oats,  brown sugar,  pecans,  butter,...</td>\n      <td>12</td>\n      <td>146223</td>\n      <td>5.000000</td>\n      <td>4</td>\n      <td>[2683, 4969, 800, 5298, 840, 2499, 6632, 7022,...</td>\n      <td>0</td>\n    </tr>\n    <tr>\n      <th>2</th>\n      <td>cheesy tomato soup with potatoes</td>\n      <td>312329</td>\n      <td>25</td>\n      <td>621626</td>\n      <td>2008-07-07</td>\n      <td>['30-minutes-or-less', 'time-to-make', 'course...</td>\n      <td>[351.3, 34.0, 15.0, 50.0, 25.0, 70.0, 8.0]</td>\n      <td>6</td>\n      <td>pour the broth &amp; water into a large pot, add t...</td>\n      <td>after modifying another recipe i came up with ...</td>\n      <td>[chicken broth,  water,  salt,  black pepper, ...</td>\n      <td>15</td>\n      <td>312329</td>\n      <td>4.000000</td>\n      <td>1</td>\n      <td>[1257, 7655, 6270, 590, 5024, 1119, 4883, 6696...</td>\n      <td>1</td>\n    </tr>\n    <tr>\n      <th>3</th>\n      <td>mini tacos</td>\n      <td>74301</td>\n      <td>15</td>\n      <td>60989</td>\n      <td>2003-10-29</td>\n      <td>['15-minutes-or-less', 'time-to-make', 'course...</td>\n      <td>[79.7, 5.0, 2.0, 11.0, 11.0, 7.0, 2.0]</td>\n      <td>8</td>\n      <td>cook hamburger until browned, drain the fat an...</td>\n      <td>these can be a easy appetizer or a light dinne...</td>\n      <td>[wonton wrappers,  hamburger,  taco seasoning,...</td>\n      <td>8</td>\n      <td>74301</td>\n      <td>4.766129</td>\n      <td>124</td>\n      <td>[7940, 3609, 7060, 6265, 1170, 6654, 5003, 3561]</td>\n      <td>1</td>\n    </tr>\n    <tr>\n      <th>4</th>\n      <td>rosemary s hanky panky s</td>\n      <td>76272</td>\n      <td>20</td>\n      <td>93444</td>\n      <td>2003-11-12</td>\n      <td>['30-minutes-or-less', 'time-to-make', 'course...</td>\n      <td>[240.7, 29.0, 9.0, 28.0, 27.0, 42.0, 0.0]</td>\n      <td>5</td>\n      <td>fry ground beef and sausage until browned, dra...</td>\n      <td>my girlfriend rosemary gave me this wonderfull...</td>\n      <td>[ground beef,  ground sausage,  velveeta chees...</td>\n      <td>4</td>\n      <td>76272</td>\n      <td>5.000000</td>\n      <td>3</td>\n      <td>[3484, 6324, 7594, 243]</td>\n      <td>1</td>\n    </tr>\n    <tr>\n      <th>...</th>\n      <td>...</td>\n      <td>...</td>\n      <td>...</td>\n      <td>...</td>\n      <td>...</td>\n      <td>...</td>\n      <td>...</td>\n      <td>...</td>\n      <td>...</td>\n      <td>...</td>\n      <td>...</td>\n      <td>...</td>\n      <td>...</td>\n      <td>...</td>\n      <td>...</td>\n      <td>...</td>\n      <td>...</td>\n    </tr>\n    <tr>\n      <th>178260</th>\n      <td>sugar free snickerdoodles</td>\n      <td>323143</td>\n      <td>23</td>\n      <td>57042</td>\n      <td>2008-09-04</td>\n      <td>['30-minutes-or-less', 'time-to-make', 'course...</td>\n      <td>[304.1, 30.0, 0.0, 11.0, 10.0, 60.0, 8.0]</td>\n      <td>6</td>\n      <td>preheat over to 400, mix together butter and s...</td>\n      <td>i have not tried this recipe. i got this recip...</td>\n      <td>[butter,  splenda granular,  eggs,  flour,  cr...</td>\n      <td>7</td>\n      <td>323143</td>\n      <td>2.000000</td>\n      <td>4</td>\n      <td>[840, 208, 2499, 2683, 1925, 335, 1511]</td>\n      <td>0</td>\n    </tr>\n    <tr>\n      <th>178261</th>\n      <td>sausage   pancake strata</td>\n      <td>149114</td>\n      <td>70</td>\n      <td>191220</td>\n      <td>2005-12-22</td>\n      <td>['time-to-make', 'course', 'main-ingredient', ...</td>\n      <td>[235.9, 26.0, 3.0, 19.0, 35.0, 37.0, 0.0]</td>\n      <td>14</td>\n      <td>preheat oven to 350, coat a 11 x 7 baking pan ...</td>\n      <td>my sister gave me this recipe just yesterday. ...</td>\n      <td>[eggs,  milk,  cheddar cheese,  salt,  frozen ...</td>\n      <td>7</td>\n      <td>149114</td>\n      <td>4.333333</td>\n      <td>3</td>\n      <td>[2499, 4717, 1168, 6270, 6324, 7040]</td>\n      <td>1</td>\n    </tr>\n    <tr>\n      <th>178262</th>\n      <td>baked beef patties</td>\n      <td>34200</td>\n      <td>55</td>\n      <td>37779</td>\n      <td>2002-07-15</td>\n      <td>['60-minutes-or-less', 'time-to-make', 'course...</td>\n      <td>[577.5, 51.0, 26.0, 38.0, 84.0, 83.0, 8.0]</td>\n      <td>15</td>\n      <td>in a large bowl , combine 1 / 2 t, dried thyme...</td>\n      <td>taste of home; family favorite.</td>\n      <td>[dried thyme,  water,  garlic salt,  dried ore...</td>\n      <td>14</td>\n      <td>34200</td>\n      <td>4.500000</td>\n      <td>2</td>\n      <td>[2378, 7655, 3219, 2320, 5168, 5319, 4189, 268...</td>\n      <td>1</td>\n    </tr>\n    <tr>\n      <th>178263</th>\n      <td>good and garlicky sweet and sour pork</td>\n      <td>30618</td>\n      <td>40</td>\n      <td>31499</td>\n      <td>2002-06-10</td>\n      <td>['60-minutes-or-less', 'time-to-make', 'main-i...</td>\n      <td>[240.1, 5.0, 96.0, 12.0, 41.0, 5.0, 10.0]</td>\n      <td>13</td>\n      <td>for the sauce , combine all the sauce ingredie...</td>\n      <td>the flavors of this dish mix really well toget...</td>\n      <td>[pork tenderloin,  fresh garlic,  pineapple ch...</td>\n      <td>12</td>\n      <td>30618</td>\n      <td>4.612903</td>\n      <td>31</td>\n      <td>[5627, 2807, 5412, 3399, 7979, 1093, 1257, 780...</td>\n      <td>1</td>\n    </tr>\n    <tr>\n      <th>178264</th>\n      <td>molasses crinkles</td>\n      <td>263840</td>\n      <td>37</td>\n      <td>68526</td>\n      <td>2007-11-07</td>\n      <td>['60-minutes-or-less', 'time-to-make', 'course...</td>\n      <td>[98.1, 6.0, 28.0, 3.0, 1.0, 5.0, 4.0]</td>\n      <td>12</td>\n      <td>preheat oven to 375, cream shortening, add sug...</td>\n      <td>great anytime, but especially fun to include i...</td>\n      <td>[shortening,  brown sugar,  molasses,  flour, ...</td>\n      <td>9</td>\n      <td>263840</td>\n      <td>5.000000</td>\n      <td>1</td>\n      <td>[6473, 800, 4807, 2683, 335, 1563, 1511, 3248,...</td>\n      <td>0</td>\n    </tr>\n  </tbody>\n</table>\n<p>178265 rows × 17 columns</p>\n</div>"
     },
     "execution_count": 228,
     "metadata": {},
     "output_type": "execute_result"
    }
   ],
   "source": [
    "recipesLikesDislikes"
   ],
   "metadata": {
    "collapsed": false,
    "pycharm": {
     "name": "#%%\n"
    }
   }
  },
  {
   "cell_type": "code",
   "execution_count": 229,
   "outputs": [],
   "source": [
    "def import_feature_tags():\n",
    "    data = recipesLikesDislikes.copy()\n",
    "    # data['ingredients']= data['ingredients'].str.replace(']', '')\n",
    "    # data['ingredients']= data['ingredients'].str.replace('[', '')\n",
    "    for i in range(0,data.shape[0]):\n",
    "        data[\"ift\"] = data[\"name\"]+' '+data[\"steps\"]+' '+ data[\"ingredients\"]\n",
    "    return data"
   ],
   "metadata": {
    "collapsed": false,
    "pycharm": {
     "name": "#%%\n"
    }
   }
  },
  {
   "cell_type": "code",
   "execution_count": 230,
   "outputs": [
    {
     "ename": "TypeError",
     "evalue": "can only concatenate str (not \"list\") to str",
     "output_type": "error",
     "traceback": [
      "\u001B[1;31m---------------------------------------------------------------------------\u001B[0m",
      "\u001B[1;31mTypeError\u001B[0m                                 Traceback (most recent call last)",
      "File \u001B[1;32m~\\PycharmProjects\\IndividualProject\\venv\\lib\\site-packages\\pandas\\core\\ops\\array_ops.py:165\u001B[0m, in \u001B[0;36m_na_arithmetic_op\u001B[1;34m(left, right, op, is_cmp)\u001B[0m\n\u001B[0;32m    164\u001B[0m \u001B[38;5;28;01mtry\u001B[39;00m:\n\u001B[1;32m--> 165\u001B[0m     result \u001B[38;5;241m=\u001B[39m \u001B[43mfunc\u001B[49m\u001B[43m(\u001B[49m\u001B[43mleft\u001B[49m\u001B[43m,\u001B[49m\u001B[43m \u001B[49m\u001B[43mright\u001B[49m\u001B[43m)\u001B[49m\n\u001B[0;32m    166\u001B[0m \u001B[38;5;28;01mexcept\u001B[39;00m \u001B[38;5;167;01mTypeError\u001B[39;00m:\n",
      "File \u001B[1;32m~\\PycharmProjects\\IndividualProject\\venv\\lib\\site-packages\\pandas\\core\\computation\\expressions.py:242\u001B[0m, in \u001B[0;36mevaluate\u001B[1;34m(op, a, b, use_numexpr)\u001B[0m\n\u001B[0;32m    240\u001B[0m     \u001B[38;5;28;01mif\u001B[39;00m use_numexpr:\n\u001B[0;32m    241\u001B[0m         \u001B[38;5;66;03m# error: \"None\" not callable\u001B[39;00m\n\u001B[1;32m--> 242\u001B[0m         \u001B[38;5;28;01mreturn\u001B[39;00m \u001B[43m_evaluate\u001B[49m\u001B[43m(\u001B[49m\u001B[43mop\u001B[49m\u001B[43m,\u001B[49m\u001B[43m \u001B[49m\u001B[43mop_str\u001B[49m\u001B[43m,\u001B[49m\u001B[43m \u001B[49m\u001B[43ma\u001B[49m\u001B[43m,\u001B[49m\u001B[43m \u001B[49m\u001B[43mb\u001B[49m\u001B[43m)\u001B[49m  \u001B[38;5;66;03m# type: ignore[misc]\u001B[39;00m\n\u001B[0;32m    243\u001B[0m \u001B[38;5;28;01mreturn\u001B[39;00m _evaluate_standard(op, op_str, a, b)\n",
      "File \u001B[1;32m~\\PycharmProjects\\IndividualProject\\venv\\lib\\site-packages\\pandas\\core\\computation\\expressions.py:71\u001B[0m, in \u001B[0;36m_evaluate_standard\u001B[1;34m(op, op_str, a, b)\u001B[0m\n\u001B[0;32m     70\u001B[0m     _store_test_result(\u001B[38;5;28;01mFalse\u001B[39;00m)\n\u001B[1;32m---> 71\u001B[0m \u001B[38;5;28;01mreturn\u001B[39;00m \u001B[43mop\u001B[49m\u001B[43m(\u001B[49m\u001B[43ma\u001B[49m\u001B[43m,\u001B[49m\u001B[43m \u001B[49m\u001B[43mb\u001B[49m\u001B[43m)\u001B[49m\n",
      "\u001B[1;31mTypeError\u001B[0m: can only concatenate str (not \"list\") to str",
      "\nDuring handling of the above exception, another exception occurred:\n",
      "\u001B[1;31mTypeError\u001B[0m                                 Traceback (most recent call last)",
      "Cell \u001B[1;32mIn [230], line 1\u001B[0m\n\u001B[1;32m----> 1\u001B[0m data \u001B[38;5;241m=\u001B[39m import_feature_tags()\n",
      "Cell \u001B[1;32mIn [229], line 6\u001B[0m, in \u001B[0;36mimport_feature_tags\u001B[1;34m()\u001B[0m\n\u001B[0;32m      3\u001B[0m \u001B[38;5;66;03m# data['ingredients']= data['ingredients'].str.replace(']', '')\u001B[39;00m\n\u001B[0;32m      4\u001B[0m \u001B[38;5;66;03m# data['ingredients']= data['ingredients'].str.replace('[', '')\u001B[39;00m\n\u001B[0;32m      5\u001B[0m \u001B[38;5;28;01mfor\u001B[39;00m i \u001B[38;5;129;01min\u001B[39;00m \u001B[38;5;28mrange\u001B[39m(\u001B[38;5;241m0\u001B[39m,data\u001B[38;5;241m.\u001B[39mshape[\u001B[38;5;241m0\u001B[39m]):\n\u001B[1;32m----> 6\u001B[0m     data[\u001B[38;5;124m\"\u001B[39m\u001B[38;5;124mift\u001B[39m\u001B[38;5;124m\"\u001B[39m] \u001B[38;5;241m=\u001B[39m \u001B[43mdata\u001B[49m\u001B[43m[\u001B[49m\u001B[38;5;124;43m\"\u001B[39;49m\u001B[38;5;124;43mname\u001B[39;49m\u001B[38;5;124;43m\"\u001B[39;49m\u001B[43m]\u001B[49m\u001B[38;5;241;43m+\u001B[39;49m\u001B[38;5;124;43m'\u001B[39;49m\u001B[38;5;124;43m \u001B[39;49m\u001B[38;5;124;43m'\u001B[39;49m\u001B[38;5;241;43m+\u001B[39;49m\u001B[43mdata\u001B[49m\u001B[43m[\u001B[49m\u001B[38;5;124;43m\"\u001B[39;49m\u001B[38;5;124;43msteps\u001B[39;49m\u001B[38;5;124;43m\"\u001B[39;49m\u001B[43m]\u001B[49m\u001B[38;5;241;43m+\u001B[39;49m\u001B[38;5;124;43m'\u001B[39;49m\u001B[38;5;124;43m \u001B[39;49m\u001B[38;5;124;43m'\u001B[39;49m\u001B[38;5;241;43m+\u001B[39;49m\u001B[43m \u001B[49m\u001B[43mdata\u001B[49m\u001B[43m[\u001B[49m\u001B[38;5;124;43m\"\u001B[39;49m\u001B[38;5;124;43mingredients\u001B[39;49m\u001B[38;5;124;43m\"\u001B[39;49m\u001B[43m]\u001B[49m\n\u001B[0;32m      7\u001B[0m \u001B[38;5;28;01mreturn\u001B[39;00m data\n",
      "File \u001B[1;32m~\\PycharmProjects\\IndividualProject\\venv\\lib\\site-packages\\pandas\\core\\ops\\common.py:72\u001B[0m, in \u001B[0;36m_unpack_zerodim_and_defer.<locals>.new_method\u001B[1;34m(self, other)\u001B[0m\n\u001B[0;32m     68\u001B[0m             \u001B[38;5;28;01mreturn\u001B[39;00m \u001B[38;5;28mNotImplemented\u001B[39m\n\u001B[0;32m     70\u001B[0m other \u001B[38;5;241m=\u001B[39m item_from_zerodim(other)\n\u001B[1;32m---> 72\u001B[0m \u001B[38;5;28;01mreturn\u001B[39;00m \u001B[43mmethod\u001B[49m\u001B[43m(\u001B[49m\u001B[38;5;28;43mself\u001B[39;49m\u001B[43m,\u001B[49m\u001B[43m \u001B[49m\u001B[43mother\u001B[49m\u001B[43m)\u001B[49m\n",
      "File \u001B[1;32m~\\PycharmProjects\\IndividualProject\\venv\\lib\\site-packages\\pandas\\core\\arraylike.py:103\u001B[0m, in \u001B[0;36mOpsMixin.__add__\u001B[1;34m(self, other)\u001B[0m\n\u001B[0;32m    101\u001B[0m \u001B[38;5;129m@unpack_zerodim_and_defer\u001B[39m(\u001B[38;5;124m\"\u001B[39m\u001B[38;5;124m__add__\u001B[39m\u001B[38;5;124m\"\u001B[39m)\n\u001B[0;32m    102\u001B[0m \u001B[38;5;28;01mdef\u001B[39;00m \u001B[38;5;21m__add__\u001B[39m(\u001B[38;5;28mself\u001B[39m, other):\n\u001B[1;32m--> 103\u001B[0m     \u001B[38;5;28;01mreturn\u001B[39;00m \u001B[38;5;28;43mself\u001B[39;49m\u001B[38;5;241;43m.\u001B[39;49m\u001B[43m_arith_method\u001B[49m\u001B[43m(\u001B[49m\u001B[43mother\u001B[49m\u001B[43m,\u001B[49m\u001B[43m \u001B[49m\u001B[43moperator\u001B[49m\u001B[38;5;241;43m.\u001B[39;49m\u001B[43madd\u001B[49m\u001B[43m)\u001B[49m\n",
      "File \u001B[1;32m~\\PycharmProjects\\IndividualProject\\venv\\lib\\site-packages\\pandas\\core\\series.py:6262\u001B[0m, in \u001B[0;36mSeries._arith_method\u001B[1;34m(self, other, op)\u001B[0m\n\u001B[0;32m   6260\u001B[0m \u001B[38;5;28;01mdef\u001B[39;00m \u001B[38;5;21m_arith_method\u001B[39m(\u001B[38;5;28mself\u001B[39m, other, op):\n\u001B[0;32m   6261\u001B[0m     \u001B[38;5;28mself\u001B[39m, other \u001B[38;5;241m=\u001B[39m ops\u001B[38;5;241m.\u001B[39malign_method_SERIES(\u001B[38;5;28mself\u001B[39m, other)\n\u001B[1;32m-> 6262\u001B[0m     \u001B[38;5;28;01mreturn\u001B[39;00m \u001B[43mbase\u001B[49m\u001B[38;5;241;43m.\u001B[39;49m\u001B[43mIndexOpsMixin\u001B[49m\u001B[38;5;241;43m.\u001B[39;49m\u001B[43m_arith_method\u001B[49m\u001B[43m(\u001B[49m\u001B[38;5;28;43mself\u001B[39;49m\u001B[43m,\u001B[49m\u001B[43m \u001B[49m\u001B[43mother\u001B[49m\u001B[43m,\u001B[49m\u001B[43m \u001B[49m\u001B[43mop\u001B[49m\u001B[43m)\u001B[49m\n",
      "File \u001B[1;32m~\\PycharmProjects\\IndividualProject\\venv\\lib\\site-packages\\pandas\\core\\base.py:1325\u001B[0m, in \u001B[0;36mIndexOpsMixin._arith_method\u001B[1;34m(self, other, op)\u001B[0m\n\u001B[0;32m   1322\u001B[0m rvalues \u001B[38;5;241m=\u001B[39m ensure_wrapped_if_datetimelike(rvalues)\n\u001B[0;32m   1324\u001B[0m \u001B[38;5;28;01mwith\u001B[39;00m np\u001B[38;5;241m.\u001B[39merrstate(\u001B[38;5;28mall\u001B[39m\u001B[38;5;241m=\u001B[39m\u001B[38;5;124m\"\u001B[39m\u001B[38;5;124mignore\u001B[39m\u001B[38;5;124m\"\u001B[39m):\n\u001B[1;32m-> 1325\u001B[0m     result \u001B[38;5;241m=\u001B[39m \u001B[43mops\u001B[49m\u001B[38;5;241;43m.\u001B[39;49m\u001B[43marithmetic_op\u001B[49m\u001B[43m(\u001B[49m\u001B[43mlvalues\u001B[49m\u001B[43m,\u001B[49m\u001B[43m \u001B[49m\u001B[43mrvalues\u001B[49m\u001B[43m,\u001B[49m\u001B[43m \u001B[49m\u001B[43mop\u001B[49m\u001B[43m)\u001B[49m\n\u001B[0;32m   1327\u001B[0m \u001B[38;5;28;01mreturn\u001B[39;00m \u001B[38;5;28mself\u001B[39m\u001B[38;5;241m.\u001B[39m_construct_result(result, name\u001B[38;5;241m=\u001B[39mres_name)\n",
      "File \u001B[1;32m~\\PycharmProjects\\IndividualProject\\venv\\lib\\site-packages\\pandas\\core\\ops\\array_ops.py:226\u001B[0m, in \u001B[0;36marithmetic_op\u001B[1;34m(left, right, op)\u001B[0m\n\u001B[0;32m    222\u001B[0m     _bool_arith_check(op, left, right)\n\u001B[0;32m    224\u001B[0m     \u001B[38;5;66;03m# error: Argument 1 to \"_na_arithmetic_op\" has incompatible type\u001B[39;00m\n\u001B[0;32m    225\u001B[0m     \u001B[38;5;66;03m# \"Union[ExtensionArray, ndarray[Any, Any]]\"; expected \"ndarray[Any, Any]\"\u001B[39;00m\n\u001B[1;32m--> 226\u001B[0m     res_values \u001B[38;5;241m=\u001B[39m \u001B[43m_na_arithmetic_op\u001B[49m\u001B[43m(\u001B[49m\u001B[43mleft\u001B[49m\u001B[43m,\u001B[49m\u001B[43m \u001B[49m\u001B[43mright\u001B[49m\u001B[43m,\u001B[49m\u001B[43m \u001B[49m\u001B[43mop\u001B[49m\u001B[43m)\u001B[49m  \u001B[38;5;66;03m# type: ignore[arg-type]\u001B[39;00m\n\u001B[0;32m    228\u001B[0m \u001B[38;5;28;01mreturn\u001B[39;00m res_values\n",
      "File \u001B[1;32m~\\PycharmProjects\\IndividualProject\\venv\\lib\\site-packages\\pandas\\core\\ops\\array_ops.py:172\u001B[0m, in \u001B[0;36m_na_arithmetic_op\u001B[1;34m(left, right, op, is_cmp)\u001B[0m\n\u001B[0;32m    166\u001B[0m \u001B[38;5;28;01mexcept\u001B[39;00m \u001B[38;5;167;01mTypeError\u001B[39;00m:\n\u001B[0;32m    167\u001B[0m     \u001B[38;5;28;01mif\u001B[39;00m \u001B[38;5;129;01mnot\u001B[39;00m is_cmp \u001B[38;5;129;01mand\u001B[39;00m (is_object_dtype(left\u001B[38;5;241m.\u001B[39mdtype) \u001B[38;5;129;01mor\u001B[39;00m is_object_dtype(right)):\n\u001B[0;32m    168\u001B[0m         \u001B[38;5;66;03m# For object dtype, fallback to a masked operation (only operating\u001B[39;00m\n\u001B[0;32m    169\u001B[0m         \u001B[38;5;66;03m#  on the non-missing values)\u001B[39;00m\n\u001B[0;32m    170\u001B[0m         \u001B[38;5;66;03m# Don't do this for comparisons, as that will handle complex numbers\u001B[39;00m\n\u001B[0;32m    171\u001B[0m         \u001B[38;5;66;03m#  incorrectly, see GH#32047\u001B[39;00m\n\u001B[1;32m--> 172\u001B[0m         result \u001B[38;5;241m=\u001B[39m \u001B[43m_masked_arith_op\u001B[49m\u001B[43m(\u001B[49m\u001B[43mleft\u001B[49m\u001B[43m,\u001B[49m\u001B[43m \u001B[49m\u001B[43mright\u001B[49m\u001B[43m,\u001B[49m\u001B[43m \u001B[49m\u001B[43mop\u001B[49m\u001B[43m)\u001B[49m\n\u001B[0;32m    173\u001B[0m     \u001B[38;5;28;01melse\u001B[39;00m:\n\u001B[0;32m    174\u001B[0m         \u001B[38;5;28;01mraise\u001B[39;00m\n",
      "File \u001B[1;32m~\\PycharmProjects\\IndividualProject\\venv\\lib\\site-packages\\pandas\\core\\ops\\array_ops.py:110\u001B[0m, in \u001B[0;36m_masked_arith_op\u001B[1;34m(x, y, op)\u001B[0m\n\u001B[0;32m    108\u001B[0m     \u001B[38;5;66;03m# See GH#5284, GH#5035, GH#19448 for historical reference\u001B[39;00m\n\u001B[0;32m    109\u001B[0m     \u001B[38;5;28;01mif\u001B[39;00m mask\u001B[38;5;241m.\u001B[39many():\n\u001B[1;32m--> 110\u001B[0m         result[mask] \u001B[38;5;241m=\u001B[39m \u001B[43mop\u001B[49m\u001B[43m(\u001B[49m\u001B[43mxrav\u001B[49m\u001B[43m[\u001B[49m\u001B[43mmask\u001B[49m\u001B[43m]\u001B[49m\u001B[43m,\u001B[49m\u001B[43m \u001B[49m\u001B[43myrav\u001B[49m\u001B[43m[\u001B[49m\u001B[43mmask\u001B[49m\u001B[43m]\u001B[49m\u001B[43m)\u001B[49m\n\u001B[0;32m    112\u001B[0m \u001B[38;5;28;01melse\u001B[39;00m:\n\u001B[0;32m    113\u001B[0m     \u001B[38;5;28;01mif\u001B[39;00m \u001B[38;5;129;01mnot\u001B[39;00m is_scalar(y):\n",
      "\u001B[1;31mTypeError\u001B[0m: can only concatenate str (not \"list\") to str"
     ]
    }
   ],
   "source": [
    "data = import_feature_tags()"
   ],
   "metadata": {
    "collapsed": false,
    "pycharm": {
     "name": "#%%\n"
    }
   }
  },
  {
   "cell_type": "code",
   "execution_count": 227,
   "outputs": [
    {
     "ename": "NameError",
     "evalue": "name 'data' is not defined",
     "output_type": "error",
     "traceback": [
      "\u001B[1;31m---------------------------------------------------------------------------\u001B[0m",
      "\u001B[1;31mNameError\u001B[0m                                 Traceback (most recent call last)",
      "Cell \u001B[1;32mIn [227], line 1\u001B[0m\n\u001B[1;32m----> 1\u001B[0m data\u001B[38;5;241m.\u001B[39mhead()\n",
      "\u001B[1;31mNameError\u001B[0m: name 'data' is not defined"
     ]
    }
   ],
   "source": [
    "data.head()"
   ],
   "metadata": {
    "collapsed": false,
    "pycharm": {
     "name": "#%%\n"
    }
   }
  },
  {
   "cell_type": "code",
   "execution_count": null,
   "outputs": [],
   "source": [
    "data[\"ids\"]=[i for i in range(0,data.shape[0])]"
   ],
   "metadata": {
    "collapsed": false,
    "pycharm": {
     "name": "#%%\n"
    }
   }
  },
  {
   "cell_type": "code",
   "execution_count": null,
   "outputs": [],
   "source": [
    "data.head()"
   ],
   "metadata": {
    "collapsed": false,
    "pycharm": {
     "name": "#%%\n"
    }
   }
  },
  {
   "cell_type": "markdown",
   "source": [],
   "metadata": {
    "collapsed": false,
    "pycharm": {
     "name": "#%% md\n"
    }
   }
  },
  {
   "cell_type": "code",
   "execution_count": null,
   "outputs": [],
   "source": [],
   "metadata": {
    "collapsed": false,
    "pycharm": {
     "name": "#%%\n"
    }
   }
  },
  {
   "cell_type": "markdown",
   "source": [
    "## Importing vectorization"
   ],
   "metadata": {
    "collapsed": false,
    "pycharm": {
     "name": "#%% md\n"
    }
   }
  },
  {
   "cell_type": "markdown",
   "source": [
    "Test"
   ],
   "metadata": {
    "collapsed": false,
    "pycharm": {
     "name": "#%% md\n"
    }
   }
  },
  {
   "cell_type": "code",
   "execution_count": null,
   "outputs": [],
   "source": [
    "# vectorTest = TfidfVectorizer()\n",
    "# vectorsTest = vectorTest.fit_transform(Recipe_prep)"
   ],
   "metadata": {
    "collapsed": false,
    "pycharm": {
     "name": "#%%\n"
    }
   }
  },
  {
   "cell_type": "code",
   "execution_count": null,
   "outputs": [],
   "source": [
    "# vectorsTest.shape"
   ],
   "metadata": {
    "collapsed": false,
    "pycharm": {
     "name": "#%%\n"
    }
   }
  },
  {
   "cell_type": "code",
   "execution_count": null,
   "outputs": [],
   "source": [
    "# similaritys = cosine_similarity(vectorsTest)"
   ],
   "metadata": {
    "collapsed": false,
    "pycharm": {
     "name": "#%%\n"
    }
   }
  },
  {
   "cell_type": "code",
   "execution_count": null,
   "outputs": [],
   "source": [
    "# similaritys"
   ],
   "metadata": {
    "collapsed": false,
    "pycharm": {
     "name": "#%%\n"
    }
   }
  },
  {
   "cell_type": "markdown",
   "source": [
    "Tru"
   ],
   "metadata": {
    "collapsed": false,
    "pycharm": {
     "name": "#%% md\n"
    }
   }
  },
  {
   "cell_type": "code",
   "execution_count": null,
   "outputs": [],
   "source": [
    "vector = TfidfVectorizer()\n",
    "vectors = vector.fit_transform(data[\"ift\"].apply(lambda x: np.str_(x)))"
   ],
   "metadata": {
    "collapsed": false,
    "pycharm": {
     "name": "#%%\n"
    }
   }
  },
  {
   "cell_type": "code",
   "execution_count": null,
   "outputs": [],
   "source": [
    "vectors.shape"
   ],
   "metadata": {
    "collapsed": false,
    "pycharm": {
     "name": "#%%\n"
    }
   }
  },
  {
   "cell_type": "code",
   "execution_count": null,
   "outputs": [],
   "source": [
    "similarity = cosine_similarity(vectors)"
   ],
   "metadata": {
    "collapsed": false,
    "pycharm": {
     "name": "#%%\n"
    }
   }
  },
  {
   "cell_type": "code",
   "execution_count": null,
   "outputs": [],
   "source": [
    "similarity"
   ],
   "metadata": {
    "collapsed": false,
    "pycharm": {
     "name": "#%%\n"
    }
   }
  },
  {
   "cell_type": "code",
   "execution_count": null,
   "outputs": [],
   "source": [
    "similarity.shape\n",
    "# Collums represent ids"
   ],
   "metadata": {
    "collapsed": false,
    "pycharm": {
     "name": "#%%\n"
    }
   }
  },
  {
   "cell_type": "code",
   "execution_count": null,
   "outputs": [],
   "source": [
    "similarity[7][7]"
   ],
   "metadata": {
    "collapsed": false,
    "pycharm": {
     "name": "#%%\n"
    }
   }
  },
  {
   "cell_type": "code",
   "execution_count": null,
   "outputs": [],
   "source": [
    "# data[data['ingredients'].str.contains('milk')][\"ids\"].values[0]"
   ],
   "metadata": {
    "collapsed": false,
    "pycharm": {
     "name": "#%%\n"
    }
   }
  },
  {
   "cell_type": "code",
   "execution_count": null,
   "outputs": [],
   "source": [
    "# scoresTemp = []\n",
    "# def recommend(name):\n",
    "#     recipie_id=data[data['ingredients'].str.contains(name)][\"ids\"].values[0]\n",
    "#     scores = list(enumerate(similarity[recipie_id]))\n",
    "#     sorted_scores = sorted(scores,key=lambda x:x[1],reverse=True)\n",
    "#     sorted_scores=sorted_scores[1:]\n",
    "#     scoresTemp.append(sorted_scores)\n",
    "#     # print(sorted_scores +\" \" + \" scores\")\n",
    "#     # print(recipie_id)\n",
    "#\n",
    "#     recipes = [data[recipes[0]==data['ids'] , \" \" , recipes[1]]['name'].values[0] for recipes in sorted_scores]\n",
    "#     # print(recipes)\n",
    "#     return recipes"
   ],
   "metadata": {
    "collapsed": false,
    "pycharm": {
     "name": "#%%\n"
    }
   }
  },
  {
   "cell_type": "code",
   "execution_count": null,
   "outputs": [],
   "source": [
    "scoresTemp = []\n",
    "def recommend(name):\n",
    "    recipie_id=data[data['ingredients'].str.contains(name)][\"ids\"].values[0]\n",
    "    scores = list(enumerate(similarity[recipie_id]))\n",
    "    sorted_scores = sorted(scores,key=lambda x:x[1],reverse=True)\n",
    "    sorted_scores=sorted_scores[1:]\n",
    "    scoresTemp.append(sorted_scores)\n",
    "    # print(sorted_scores +\" \" + \" scores\")\n",
    "    # print(recipie_id)\n",
    "    recipes = [data[recipes[0]==data['ids']]['name'].values[0] for recipes in sorted_scores]\n",
    "    # recipes = [data[recipes[0]==data['ids'] , \" \" , recipes[1]]['name'].values[0] for recipes in sorted_scores]\n",
    "    # print(recipes)\n",
    "    return recipes"
   ],
   "metadata": {
    "collapsed": false,
    "pycharm": {
     "name": "#%%\n"
    }
   }
  },
  {
   "cell_type": "code",
   "execution_count": null,
   "outputs": [],
   "source": [
    "def recomend_ten(recipe_list):\n",
    "    ten=[]\n",
    "    count=0\n",
    "    print(\"----\" * 8)\n",
    "    print(\"Top 10 recipes\")\n",
    "    print(\"----\" * 8)\n",
    "    for recipe in recipe_list:\n",
    "        if count > 9:\n",
    "            break\n",
    "        count +=1\n",
    "        print(recipe, \":\" )\n",
    "        ten.append(recipe)\n",
    "    return ten"
   ],
   "metadata": {
    "collapsed": false,
    "pycharm": {
     "name": "#%%\n"
    }
   }
  },
  {
   "cell_type": "code",
   "execution_count": null,
   "outputs": [],
   "source": [
    "r_list = recommend('chicken')"
   ],
   "metadata": {
    "collapsed": false,
    "pycharm": {
     "name": "#%%\n"
    }
   }
  },
  {
   "cell_type": "code",
   "execution_count": null,
   "outputs": [],
   "source": [
    "re = recomend_ten(r_list)"
   ],
   "metadata": {
    "collapsed": false,
    "pycharm": {
     "name": "#%%\n"
    }
   }
  },
  {
   "cell_type": "code",
   "execution_count": null,
   "outputs": [],
   "source": [
    "scoresTemp"
   ],
   "metadata": {
    "collapsed": false,
    "pycharm": {
     "name": "#%%\n"
    }
   }
  },
  {
   "cell_type": "code",
   "execution_count": null,
   "outputs": [],
   "source": [
    "re"
   ],
   "metadata": {
    "collapsed": false,
    "pycharm": {
     "name": "#%%\n"
    }
   }
  },
  {
   "cell_type": "code",
   "execution_count": null,
   "outputs": [],
   "source": [
    "# data.where(data['name'] == \"kittencal s chicken cacciatore\" ).dropna()"
   ],
   "metadata": {
    "collapsed": false,
    "pycharm": {
     "name": "#%%\n"
    }
   }
  },
  {
   "cell_type": "markdown",
   "source": [
    "# End of cos similarity"
   ],
   "metadata": {
    "collapsed": false,
    "pycharm": {
     "name": "#%% md\n"
    }
   }
  },
  {
   "cell_type": "markdown",
   "source": [
    "## Knn algorithm application"
   ],
   "metadata": {
    "collapsed": false,
    "pycharm": {
     "name": "#%% md\n"
    }
   }
  },
  {
   "cell_type": "code",
   "execution_count": null,
   "outputs": [],
   "source": [],
   "metadata": {
    "collapsed": false,
    "pycharm": {
     "name": "#%%\n"
    }
   }
  },
  {
   "cell_type": "markdown",
   "source": [
    "Creating pivot matrix"
   ],
   "metadata": {
    "collapsed": false,
    "pycharm": {
     "name": "#%% md\n"
    }
   }
  },
  {
   "cell_type": "code",
   "execution_count": null,
   "outputs": [],
   "source": [
    "popularity_threshold = 30\n",
    "rating_popular_recipe=recipesLikesDislikes.where(recipesLikesDislikes.votes >= popularity_threshold).dropna()\n",
    "rating_popular_recipe.head(10)"
   ],
   "metadata": {
    "collapsed": false,
    "pycharm": {
     "name": "#%%\n"
    }
   }
  },
  {
   "cell_type": "markdown",
   "source": [],
   "metadata": {
    "collapsed": false,
    "pycharm": {
     "name": "#%% md\n"
    }
   }
  },
  {
   "cell_type": "code",
   "execution_count": 103,
   "outputs": [
    {
     "ename": "NameError",
     "evalue": "name 'rating_popular_recipe' is not defined",
     "output_type": "error",
     "traceback": [
      "\u001B[1;31m---------------------------------------------------------------------------\u001B[0m",
      "\u001B[1;31mNameError\u001B[0m                                 Traceback (most recent call last)",
      "Cell \u001B[1;32mIn [103], line 1\u001B[0m\n\u001B[1;32m----> 1\u001B[0m rating_popular_recipe\u001B[38;5;241m.\u001B[39mshape\n",
      "\u001B[1;31mNameError\u001B[0m: name 'rating_popular_recipe' is not defined"
     ]
    }
   ],
   "source": [
    "rating_popular_recipe.shape"
   ],
   "metadata": {
    "collapsed": false,
    "pycharm": {
     "name": "#%%\n"
    }
   }
  },
  {
   "cell_type": "markdown",
   "source": [],
   "metadata": {
    "collapsed": false,
    "pycharm": {
     "name": "#%% md\n"
    }
   }
  },
  {
   "cell_type": "markdown",
   "source": [
    "\"id\",\"minutes\",\"contributor_id\",\"n_steps\",\"recipe_id\",\"average_rating\",\"votes\",\"ingredient_ids\",\"like\"]]"
   ],
   "metadata": {
    "collapsed": false,
    "pycharm": {
     "name": "#%% md\n"
    }
   }
  },
  {
   "cell_type": "markdown",
   "source": [
    "Pivot matrix (Meybe need to redifine names)"
   ],
   "metadata": {
    "collapsed": false,
    "pycharm": {
     "name": "#%% md\n"
    }
   }
  },
  {
   "cell_type": "code",
   "execution_count": 104,
   "outputs": [
    {
     "data": {
      "text/plain": "        minutes  n_steps  n_ingredients  average_rating  votes  like\n0            61        6              5        4.833333      6     0\n1            55       10             12        5.000000      4     0\n2            25        6             15        4.000000      1     1\n3            15        8              8        4.766129    124     1\n4            20        5              4        5.000000      3     1\n...         ...      ...            ...             ...    ...   ...\n178260       23        6              7        2.000000      4     0\n178261       70       14              7        4.333333      3     1\n178262       55       15             14        4.500000      2     1\n178263       40       13             12        4.612903     31     1\n178264       37       12              9        5.000000      1     0\n\n[178265 rows x 6 columns]",
      "text/html": "<div>\n<style scoped>\n    .dataframe tbody tr th:only-of-type {\n        vertical-align: middle;\n    }\n\n    .dataframe tbody tr th {\n        vertical-align: top;\n    }\n\n    .dataframe thead th {\n        text-align: right;\n    }\n</style>\n<table border=\"1\" class=\"dataframe\">\n  <thead>\n    <tr style=\"text-align: right;\">\n      <th></th>\n      <th>minutes</th>\n      <th>n_steps</th>\n      <th>n_ingredients</th>\n      <th>average_rating</th>\n      <th>votes</th>\n      <th>like</th>\n    </tr>\n  </thead>\n  <tbody>\n    <tr>\n      <th>0</th>\n      <td>61</td>\n      <td>6</td>\n      <td>5</td>\n      <td>4.833333</td>\n      <td>6</td>\n      <td>0</td>\n    </tr>\n    <tr>\n      <th>1</th>\n      <td>55</td>\n      <td>10</td>\n      <td>12</td>\n      <td>5.000000</td>\n      <td>4</td>\n      <td>0</td>\n    </tr>\n    <tr>\n      <th>2</th>\n      <td>25</td>\n      <td>6</td>\n      <td>15</td>\n      <td>4.000000</td>\n      <td>1</td>\n      <td>1</td>\n    </tr>\n    <tr>\n      <th>3</th>\n      <td>15</td>\n      <td>8</td>\n      <td>8</td>\n      <td>4.766129</td>\n      <td>124</td>\n      <td>1</td>\n    </tr>\n    <tr>\n      <th>4</th>\n      <td>20</td>\n      <td>5</td>\n      <td>4</td>\n      <td>5.000000</td>\n      <td>3</td>\n      <td>1</td>\n    </tr>\n    <tr>\n      <th>...</th>\n      <td>...</td>\n      <td>...</td>\n      <td>...</td>\n      <td>...</td>\n      <td>...</td>\n      <td>...</td>\n    </tr>\n    <tr>\n      <th>178260</th>\n      <td>23</td>\n      <td>6</td>\n      <td>7</td>\n      <td>2.000000</td>\n      <td>4</td>\n      <td>0</td>\n    </tr>\n    <tr>\n      <th>178261</th>\n      <td>70</td>\n      <td>14</td>\n      <td>7</td>\n      <td>4.333333</td>\n      <td>3</td>\n      <td>1</td>\n    </tr>\n    <tr>\n      <th>178262</th>\n      <td>55</td>\n      <td>15</td>\n      <td>14</td>\n      <td>4.500000</td>\n      <td>2</td>\n      <td>1</td>\n    </tr>\n    <tr>\n      <th>178263</th>\n      <td>40</td>\n      <td>13</td>\n      <td>12</td>\n      <td>4.612903</td>\n      <td>31</td>\n      <td>1</td>\n    </tr>\n    <tr>\n      <th>178264</th>\n      <td>37</td>\n      <td>12</td>\n      <td>9</td>\n      <td>5.000000</td>\n      <td>1</td>\n      <td>0</td>\n    </tr>\n  </tbody>\n</table>\n<p>178265 rows × 6 columns</p>\n</div>"
     },
     "execution_count": 104,
     "metadata": {},
     "output_type": "execute_result"
    }
   ],
   "source": [
    "Recipe_prep"
   ],
   "metadata": {
    "collapsed": false,
    "pycharm": {
     "name": "#%%\n"
    }
   }
  },
  {
   "cell_type": "code",
   "execution_count": 105,
   "outputs": [
    {
     "ename": "KeyError",
     "evalue": "'recipe_id'",
     "output_type": "error",
     "traceback": [
      "\u001B[1;31m---------------------------------------------------------------------------\u001B[0m",
      "\u001B[1;31mKeyError\u001B[0m                                  Traceback (most recent call last)",
      "Cell \u001B[1;32mIn [105], line 1\u001B[0m\n\u001B[1;32m----> 1\u001B[0m ingredient_features_df \u001B[38;5;241m=\u001B[39m Recipe_prep\u001B[38;5;241m.\u001B[39mpivot_table(index\u001B[38;5;241m=\u001B[39m\u001B[38;5;124m'\u001B[39m\u001B[38;5;124mrecipe_id\u001B[39m\u001B[38;5;124m'\u001B[39m,columns\u001B[38;5;241m=\u001B[39m\u001B[38;5;124m'\u001B[39m\u001B[38;5;124mid\u001B[39m\u001B[38;5;124m'\u001B[39m,values\u001B[38;5;241m=\u001B[39m\u001B[38;5;124m'\u001B[39m\u001B[38;5;124mlike\u001B[39m\u001B[38;5;124m'\u001B[39m)\u001B[38;5;241m.\u001B[39mfillna(\u001B[38;5;241m0\u001B[39m)\n\u001B[0;32m      2\u001B[0m ingredient_features_df\u001B[38;5;241m.\u001B[39mhead()\n",
      "File \u001B[1;32m~\\PycharmProjects\\IndividualProject\\venv\\lib\\site-packages\\pandas\\core\\frame.py:8721\u001B[0m, in \u001B[0;36mDataFrame.pivot_table\u001B[1;34m(self, values, index, columns, aggfunc, fill_value, margins, dropna, margins_name, observed, sort)\u001B[0m\n\u001B[0;32m   8704\u001B[0m \u001B[38;5;129m@Substitution\u001B[39m(\u001B[38;5;124m\"\u001B[39m\u001B[38;5;124m\"\u001B[39m)\n\u001B[0;32m   8705\u001B[0m \u001B[38;5;129m@Appender\u001B[39m(_shared_docs[\u001B[38;5;124m\"\u001B[39m\u001B[38;5;124mpivot_table\u001B[39m\u001B[38;5;124m\"\u001B[39m])\n\u001B[0;32m   8706\u001B[0m \u001B[38;5;28;01mdef\u001B[39;00m \u001B[38;5;21mpivot_table\u001B[39m(\n\u001B[1;32m   (...)\u001B[0m\n\u001B[0;32m   8717\u001B[0m     sort\u001B[38;5;241m=\u001B[39m\u001B[38;5;28;01mTrue\u001B[39;00m,\n\u001B[0;32m   8718\u001B[0m ) \u001B[38;5;241m-\u001B[39m\u001B[38;5;241m>\u001B[39m DataFrame:\n\u001B[0;32m   8719\u001B[0m     \u001B[38;5;28;01mfrom\u001B[39;00m \u001B[38;5;21;01mpandas\u001B[39;00m\u001B[38;5;21;01m.\u001B[39;00m\u001B[38;5;21;01mcore\u001B[39;00m\u001B[38;5;21;01m.\u001B[39;00m\u001B[38;5;21;01mreshape\u001B[39;00m\u001B[38;5;21;01m.\u001B[39;00m\u001B[38;5;21;01mpivot\u001B[39;00m \u001B[38;5;28;01mimport\u001B[39;00m pivot_table\n\u001B[1;32m-> 8721\u001B[0m     \u001B[38;5;28;01mreturn\u001B[39;00m \u001B[43mpivot_table\u001B[49m\u001B[43m(\u001B[49m\n\u001B[0;32m   8722\u001B[0m \u001B[43m        \u001B[49m\u001B[38;5;28;43mself\u001B[39;49m\u001B[43m,\u001B[49m\n\u001B[0;32m   8723\u001B[0m \u001B[43m        \u001B[49m\u001B[43mvalues\u001B[49m\u001B[38;5;241;43m=\u001B[39;49m\u001B[43mvalues\u001B[49m\u001B[43m,\u001B[49m\n\u001B[0;32m   8724\u001B[0m \u001B[43m        \u001B[49m\u001B[43mindex\u001B[49m\u001B[38;5;241;43m=\u001B[39;49m\u001B[43mindex\u001B[49m\u001B[43m,\u001B[49m\n\u001B[0;32m   8725\u001B[0m \u001B[43m        \u001B[49m\u001B[43mcolumns\u001B[49m\u001B[38;5;241;43m=\u001B[39;49m\u001B[43mcolumns\u001B[49m\u001B[43m,\u001B[49m\n\u001B[0;32m   8726\u001B[0m \u001B[43m        \u001B[49m\u001B[43maggfunc\u001B[49m\u001B[38;5;241;43m=\u001B[39;49m\u001B[43maggfunc\u001B[49m\u001B[43m,\u001B[49m\n\u001B[0;32m   8727\u001B[0m \u001B[43m        \u001B[49m\u001B[43mfill_value\u001B[49m\u001B[38;5;241;43m=\u001B[39;49m\u001B[43mfill_value\u001B[49m\u001B[43m,\u001B[49m\n\u001B[0;32m   8728\u001B[0m \u001B[43m        \u001B[49m\u001B[43mmargins\u001B[49m\u001B[38;5;241;43m=\u001B[39;49m\u001B[43mmargins\u001B[49m\u001B[43m,\u001B[49m\n\u001B[0;32m   8729\u001B[0m \u001B[43m        \u001B[49m\u001B[43mdropna\u001B[49m\u001B[38;5;241;43m=\u001B[39;49m\u001B[43mdropna\u001B[49m\u001B[43m,\u001B[49m\n\u001B[0;32m   8730\u001B[0m \u001B[43m        \u001B[49m\u001B[43mmargins_name\u001B[49m\u001B[38;5;241;43m=\u001B[39;49m\u001B[43mmargins_name\u001B[49m\u001B[43m,\u001B[49m\n\u001B[0;32m   8731\u001B[0m \u001B[43m        \u001B[49m\u001B[43mobserved\u001B[49m\u001B[38;5;241;43m=\u001B[39;49m\u001B[43mobserved\u001B[49m\u001B[43m,\u001B[49m\n\u001B[0;32m   8732\u001B[0m \u001B[43m        \u001B[49m\u001B[43msort\u001B[49m\u001B[38;5;241;43m=\u001B[39;49m\u001B[43msort\u001B[49m\u001B[43m,\u001B[49m\n\u001B[0;32m   8733\u001B[0m \u001B[43m    \u001B[49m\u001B[43m)\u001B[49m\n",
      "File \u001B[1;32m~\\PycharmProjects\\IndividualProject\\venv\\lib\\site-packages\\pandas\\core\\reshape\\pivot.py:96\u001B[0m, in \u001B[0;36mpivot_table\u001B[1;34m(data, values, index, columns, aggfunc, fill_value, margins, dropna, margins_name, observed, sort)\u001B[0m\n\u001B[0;32m     93\u001B[0m     table \u001B[38;5;241m=\u001B[39m concat(pieces, keys\u001B[38;5;241m=\u001B[39mkeys, axis\u001B[38;5;241m=\u001B[39m\u001B[38;5;241m1\u001B[39m)\n\u001B[0;32m     94\u001B[0m     \u001B[38;5;28;01mreturn\u001B[39;00m table\u001B[38;5;241m.\u001B[39m__finalize__(data, method\u001B[38;5;241m=\u001B[39m\u001B[38;5;124m\"\u001B[39m\u001B[38;5;124mpivot_table\u001B[39m\u001B[38;5;124m\"\u001B[39m)\n\u001B[1;32m---> 96\u001B[0m table \u001B[38;5;241m=\u001B[39m \u001B[43m__internal_pivot_table\u001B[49m\u001B[43m(\u001B[49m\n\u001B[0;32m     97\u001B[0m \u001B[43m    \u001B[49m\u001B[43mdata\u001B[49m\u001B[43m,\u001B[49m\n\u001B[0;32m     98\u001B[0m \u001B[43m    \u001B[49m\u001B[43mvalues\u001B[49m\u001B[43m,\u001B[49m\n\u001B[0;32m     99\u001B[0m \u001B[43m    \u001B[49m\u001B[43mindex\u001B[49m\u001B[43m,\u001B[49m\n\u001B[0;32m    100\u001B[0m \u001B[43m    \u001B[49m\u001B[43mcolumns\u001B[49m\u001B[43m,\u001B[49m\n\u001B[0;32m    101\u001B[0m \u001B[43m    \u001B[49m\u001B[43maggfunc\u001B[49m\u001B[43m,\u001B[49m\n\u001B[0;32m    102\u001B[0m \u001B[43m    \u001B[49m\u001B[43mfill_value\u001B[49m\u001B[43m,\u001B[49m\n\u001B[0;32m    103\u001B[0m \u001B[43m    \u001B[49m\u001B[43mmargins\u001B[49m\u001B[43m,\u001B[49m\n\u001B[0;32m    104\u001B[0m \u001B[43m    \u001B[49m\u001B[43mdropna\u001B[49m\u001B[43m,\u001B[49m\n\u001B[0;32m    105\u001B[0m \u001B[43m    \u001B[49m\u001B[43mmargins_name\u001B[49m\u001B[43m,\u001B[49m\n\u001B[0;32m    106\u001B[0m \u001B[43m    \u001B[49m\u001B[43mobserved\u001B[49m\u001B[43m,\u001B[49m\n\u001B[0;32m    107\u001B[0m \u001B[43m    \u001B[49m\u001B[43msort\u001B[49m\u001B[43m,\u001B[49m\n\u001B[0;32m    108\u001B[0m \u001B[43m\u001B[49m\u001B[43m)\u001B[49m\n\u001B[0;32m    109\u001B[0m \u001B[38;5;28;01mreturn\u001B[39;00m table\u001B[38;5;241m.\u001B[39m__finalize__(data, method\u001B[38;5;241m=\u001B[39m\u001B[38;5;124m\"\u001B[39m\u001B[38;5;124mpivot_table\u001B[39m\u001B[38;5;124m\"\u001B[39m)\n",
      "File \u001B[1;32m~\\PycharmProjects\\IndividualProject\\venv\\lib\\site-packages\\pandas\\core\\reshape\\pivot.py:165\u001B[0m, in \u001B[0;36m__internal_pivot_table\u001B[1;34m(data, values, index, columns, aggfunc, fill_value, margins, dropna, margins_name, observed, sort)\u001B[0m\n\u001B[0;32m    162\u001B[0m             \u001B[38;5;28;01mpass\u001B[39;00m\n\u001B[0;32m    163\u001B[0m     values \u001B[38;5;241m=\u001B[39m \u001B[38;5;28mlist\u001B[39m(values)\n\u001B[1;32m--> 165\u001B[0m grouped \u001B[38;5;241m=\u001B[39m \u001B[43mdata\u001B[49m\u001B[38;5;241;43m.\u001B[39;49m\u001B[43mgroupby\u001B[49m\u001B[43m(\u001B[49m\u001B[43mkeys\u001B[49m\u001B[43m,\u001B[49m\u001B[43m \u001B[49m\u001B[43mobserved\u001B[49m\u001B[38;5;241;43m=\u001B[39;49m\u001B[43mobserved\u001B[49m\u001B[43m,\u001B[49m\u001B[43m \u001B[49m\u001B[43msort\u001B[49m\u001B[38;5;241;43m=\u001B[39;49m\u001B[43msort\u001B[49m\u001B[43m)\u001B[49m\n\u001B[0;32m    166\u001B[0m agged \u001B[38;5;241m=\u001B[39m grouped\u001B[38;5;241m.\u001B[39magg(aggfunc)\n\u001B[0;32m    167\u001B[0m \u001B[38;5;28;01mif\u001B[39;00m dropna \u001B[38;5;129;01mand\u001B[39;00m \u001B[38;5;28misinstance\u001B[39m(agged, ABCDataFrame) \u001B[38;5;129;01mand\u001B[39;00m \u001B[38;5;28mlen\u001B[39m(agged\u001B[38;5;241m.\u001B[39mcolumns):\n",
      "File \u001B[1;32m~\\PycharmProjects\\IndividualProject\\venv\\lib\\site-packages\\pandas\\core\\frame.py:8392\u001B[0m, in \u001B[0;36mDataFrame.groupby\u001B[1;34m(self, by, axis, level, as_index, sort, group_keys, squeeze, observed, dropna)\u001B[0m\n\u001B[0;32m   8389\u001B[0m     \u001B[38;5;28;01mraise\u001B[39;00m \u001B[38;5;167;01mTypeError\u001B[39;00m(\u001B[38;5;124m\"\u001B[39m\u001B[38;5;124mYou have to supply one of \u001B[39m\u001B[38;5;124m'\u001B[39m\u001B[38;5;124mby\u001B[39m\u001B[38;5;124m'\u001B[39m\u001B[38;5;124m and \u001B[39m\u001B[38;5;124m'\u001B[39m\u001B[38;5;124mlevel\u001B[39m\u001B[38;5;124m'\u001B[39m\u001B[38;5;124m\"\u001B[39m)\n\u001B[0;32m   8390\u001B[0m axis \u001B[38;5;241m=\u001B[39m \u001B[38;5;28mself\u001B[39m\u001B[38;5;241m.\u001B[39m_get_axis_number(axis)\n\u001B[1;32m-> 8392\u001B[0m \u001B[38;5;28;01mreturn\u001B[39;00m \u001B[43mDataFrameGroupBy\u001B[49m\u001B[43m(\u001B[49m\n\u001B[0;32m   8393\u001B[0m \u001B[43m    \u001B[49m\u001B[43mobj\u001B[49m\u001B[38;5;241;43m=\u001B[39;49m\u001B[38;5;28;43mself\u001B[39;49m\u001B[43m,\u001B[49m\n\u001B[0;32m   8394\u001B[0m \u001B[43m    \u001B[49m\u001B[43mkeys\u001B[49m\u001B[38;5;241;43m=\u001B[39;49m\u001B[43mby\u001B[49m\u001B[43m,\u001B[49m\n\u001B[0;32m   8395\u001B[0m \u001B[43m    \u001B[49m\u001B[43maxis\u001B[49m\u001B[38;5;241;43m=\u001B[39;49m\u001B[43maxis\u001B[49m\u001B[43m,\u001B[49m\n\u001B[0;32m   8396\u001B[0m \u001B[43m    \u001B[49m\u001B[43mlevel\u001B[49m\u001B[38;5;241;43m=\u001B[39;49m\u001B[43mlevel\u001B[49m\u001B[43m,\u001B[49m\n\u001B[0;32m   8397\u001B[0m \u001B[43m    \u001B[49m\u001B[43mas_index\u001B[49m\u001B[38;5;241;43m=\u001B[39;49m\u001B[43mas_index\u001B[49m\u001B[43m,\u001B[49m\n\u001B[0;32m   8398\u001B[0m \u001B[43m    \u001B[49m\u001B[43msort\u001B[49m\u001B[38;5;241;43m=\u001B[39;49m\u001B[43msort\u001B[49m\u001B[43m,\u001B[49m\n\u001B[0;32m   8399\u001B[0m \u001B[43m    \u001B[49m\u001B[43mgroup_keys\u001B[49m\u001B[38;5;241;43m=\u001B[39;49m\u001B[43mgroup_keys\u001B[49m\u001B[43m,\u001B[49m\n\u001B[0;32m   8400\u001B[0m \u001B[43m    \u001B[49m\u001B[43msqueeze\u001B[49m\u001B[38;5;241;43m=\u001B[39;49m\u001B[43msqueeze\u001B[49m\u001B[43m,\u001B[49m\n\u001B[0;32m   8401\u001B[0m \u001B[43m    \u001B[49m\u001B[43mobserved\u001B[49m\u001B[38;5;241;43m=\u001B[39;49m\u001B[43mobserved\u001B[49m\u001B[43m,\u001B[49m\n\u001B[0;32m   8402\u001B[0m \u001B[43m    \u001B[49m\u001B[43mdropna\u001B[49m\u001B[38;5;241;43m=\u001B[39;49m\u001B[43mdropna\u001B[49m\u001B[43m,\u001B[49m\n\u001B[0;32m   8403\u001B[0m \u001B[43m\u001B[49m\u001B[43m)\u001B[49m\n",
      "File \u001B[1;32m~\\PycharmProjects\\IndividualProject\\venv\\lib\\site-packages\\pandas\\core\\groupby\\groupby.py:959\u001B[0m, in \u001B[0;36mGroupBy.__init__\u001B[1;34m(self, obj, keys, axis, level, grouper, exclusions, selection, as_index, sort, group_keys, squeeze, observed, mutated, dropna)\u001B[0m\n\u001B[0;32m    956\u001B[0m \u001B[38;5;28;01mif\u001B[39;00m grouper \u001B[38;5;129;01mis\u001B[39;00m \u001B[38;5;28;01mNone\u001B[39;00m:\n\u001B[0;32m    957\u001B[0m     \u001B[38;5;28;01mfrom\u001B[39;00m \u001B[38;5;21;01mpandas\u001B[39;00m\u001B[38;5;21;01m.\u001B[39;00m\u001B[38;5;21;01mcore\u001B[39;00m\u001B[38;5;21;01m.\u001B[39;00m\u001B[38;5;21;01mgroupby\u001B[39;00m\u001B[38;5;21;01m.\u001B[39;00m\u001B[38;5;21;01mgrouper\u001B[39;00m \u001B[38;5;28;01mimport\u001B[39;00m get_grouper\n\u001B[1;32m--> 959\u001B[0m     grouper, exclusions, obj \u001B[38;5;241m=\u001B[39m \u001B[43mget_grouper\u001B[49m\u001B[43m(\u001B[49m\n\u001B[0;32m    960\u001B[0m \u001B[43m        \u001B[49m\u001B[43mobj\u001B[49m\u001B[43m,\u001B[49m\n\u001B[0;32m    961\u001B[0m \u001B[43m        \u001B[49m\u001B[43mkeys\u001B[49m\u001B[43m,\u001B[49m\n\u001B[0;32m    962\u001B[0m \u001B[43m        \u001B[49m\u001B[43maxis\u001B[49m\u001B[38;5;241;43m=\u001B[39;49m\u001B[43maxis\u001B[49m\u001B[43m,\u001B[49m\n\u001B[0;32m    963\u001B[0m \u001B[43m        \u001B[49m\u001B[43mlevel\u001B[49m\u001B[38;5;241;43m=\u001B[39;49m\u001B[43mlevel\u001B[49m\u001B[43m,\u001B[49m\n\u001B[0;32m    964\u001B[0m \u001B[43m        \u001B[49m\u001B[43msort\u001B[49m\u001B[38;5;241;43m=\u001B[39;49m\u001B[43msort\u001B[49m\u001B[43m,\u001B[49m\n\u001B[0;32m    965\u001B[0m \u001B[43m        \u001B[49m\u001B[43mobserved\u001B[49m\u001B[38;5;241;43m=\u001B[39;49m\u001B[43mobserved\u001B[49m\u001B[43m,\u001B[49m\n\u001B[0;32m    966\u001B[0m \u001B[43m        \u001B[49m\u001B[43mmutated\u001B[49m\u001B[38;5;241;43m=\u001B[39;49m\u001B[38;5;28;43mself\u001B[39;49m\u001B[38;5;241;43m.\u001B[39;49m\u001B[43mmutated\u001B[49m\u001B[43m,\u001B[49m\n\u001B[0;32m    967\u001B[0m \u001B[43m        \u001B[49m\u001B[43mdropna\u001B[49m\u001B[38;5;241;43m=\u001B[39;49m\u001B[38;5;28;43mself\u001B[39;49m\u001B[38;5;241;43m.\u001B[39;49m\u001B[43mdropna\u001B[49m\u001B[43m,\u001B[49m\n\u001B[0;32m    968\u001B[0m \u001B[43m    \u001B[49m\u001B[43m)\u001B[49m\n\u001B[0;32m    970\u001B[0m \u001B[38;5;28mself\u001B[39m\u001B[38;5;241m.\u001B[39mobj \u001B[38;5;241m=\u001B[39m obj\n\u001B[0;32m    971\u001B[0m \u001B[38;5;28mself\u001B[39m\u001B[38;5;241m.\u001B[39maxis \u001B[38;5;241m=\u001B[39m obj\u001B[38;5;241m.\u001B[39m_get_axis_number(axis)\n",
      "File \u001B[1;32m~\\PycharmProjects\\IndividualProject\\venv\\lib\\site-packages\\pandas\\core\\groupby\\grouper.py:889\u001B[0m, in \u001B[0;36mget_grouper\u001B[1;34m(obj, key, axis, level, sort, observed, mutated, validate, dropna)\u001B[0m\n\u001B[0;32m    887\u001B[0m         in_axis, level, gpr \u001B[38;5;241m=\u001B[39m \u001B[38;5;28;01mFalse\u001B[39;00m, gpr, \u001B[38;5;28;01mNone\u001B[39;00m\n\u001B[0;32m    888\u001B[0m     \u001B[38;5;28;01melse\u001B[39;00m:\n\u001B[1;32m--> 889\u001B[0m         \u001B[38;5;28;01mraise\u001B[39;00m \u001B[38;5;167;01mKeyError\u001B[39;00m(gpr)\n\u001B[0;32m    890\u001B[0m \u001B[38;5;28;01melif\u001B[39;00m \u001B[38;5;28misinstance\u001B[39m(gpr, Grouper) \u001B[38;5;129;01mand\u001B[39;00m gpr\u001B[38;5;241m.\u001B[39mkey \u001B[38;5;129;01mis\u001B[39;00m \u001B[38;5;129;01mnot\u001B[39;00m \u001B[38;5;28;01mNone\u001B[39;00m:\n\u001B[0;32m    891\u001B[0m     \u001B[38;5;66;03m# Add key to exclusions\u001B[39;00m\n\u001B[0;32m    892\u001B[0m     exclusions\u001B[38;5;241m.\u001B[39madd(gpr\u001B[38;5;241m.\u001B[39mkey)\n",
      "\u001B[1;31mKeyError\u001B[0m: 'recipe_id'"
     ]
    }
   ],
   "source": [
    "ingredient_features_df = Recipe_prep.pivot_table(index='recipe_id',columns='id',values='like').fillna(0)\n",
    "ingredient_features_df.head()"
   ],
   "metadata": {
    "collapsed": false,
    "pycharm": {
     "name": "#%%\n"
    }
   }
  },
  {
   "cell_type": "markdown",
   "source": [],
   "metadata": {
    "collapsed": false,
    "pycharm": {
     "name": "#%% md\n"
    }
   }
  },
  {
   "cell_type": "code",
   "execution_count": null,
   "outputs": [],
   "source": [
    "recipe_features_df = rating_popular_recipe.pivot_table(index='name',columns='id',values='average_rating').fillna(0)\n",
    "recipe_features_df.head()"
   ],
   "metadata": {
    "collapsed": false,
    "pycharm": {
     "name": "#%%\n"
    }
   }
  },
  {
   "cell_type": "code",
   "execution_count": null,
   "outputs": [],
   "source": [
    "recipe_features_df_matrix = csr_matrix(recipe_features_df.values)\n",
    "\n",
    "model_knn = NearestNeighbors(metric='cosine', algorithm='brute')\n",
    "model_knn.fit(recipe_features_df_matrix)"
   ],
   "metadata": {
    "collapsed": false,
    "pycharm": {
     "name": "#%%\n"
    }
   }
  },
  {
   "cell_type": "markdown",
   "source": [],
   "metadata": {
    "collapsed": false,
    "pycharm": {
     "name": "#%% md\n"
    }
   }
  },
  {
   "cell_type": "code",
   "execution_count": null,
   "outputs": [],
   "source": [
    "recipe_features_df.shape"
   ],
   "metadata": {
    "collapsed": false,
    "pycharm": {
     "name": "#%%\n"
    }
   }
  },
  {
   "cell_type": "code",
   "execution_count": null,
   "outputs": [],
   "source": [
    "query_index = np.random.choice(recipe_features_df.shape[0])\n",
    "# query_index = recipe_features_df.shape[4]\n",
    "print(query_index)\n",
    "distances, indices = model_knn.kneighbors(recipe_features_df.iloc[query_index,:].values.reshape(1,-1), n_neighbors= 5)"
   ],
   "metadata": {
    "collapsed": false,
    "pycharm": {
     "name": "#%%\n"
    }
   }
  },
  {
   "cell_type": "code",
   "execution_count": null,
   "outputs": [],
   "source": [
    "recipe_features_df.head(10)"
   ],
   "metadata": {
    "collapsed": false,
    "pycharm": {
     "name": "#%%\n"
    }
   }
  },
  {
   "cell_type": "code",
   "execution_count": null,
   "outputs": [],
   "source": [
    "indices.flatten()"
   ],
   "metadata": {
    "collapsed": false,
    "pycharm": {
     "name": "#%%\n"
    }
   }
  },
  {
   "cell_type": "code",
   "execution_count": null,
   "outputs": [],
   "source": [
    "distances.flatten()"
   ],
   "metadata": {
    "collapsed": false,
    "pycharm": {
     "name": "#%%\n"
    }
   }
  },
  {
   "cell_type": "code",
   "execution_count": 106,
   "outputs": [
    {
     "ename": "NameError",
     "evalue": "name 'distances' is not defined",
     "output_type": "error",
     "traceback": [
      "\u001B[1;31m---------------------------------------------------------------------------\u001B[0m",
      "\u001B[1;31mNameError\u001B[0m                                 Traceback (most recent call last)",
      "Cell \u001B[1;32mIn [106], line 1\u001B[0m\n\u001B[1;32m----> 1\u001B[0m \u001B[38;5;28;01mfor\u001B[39;00m i \u001B[38;5;129;01min\u001B[39;00m \u001B[38;5;28mrange\u001B[39m(\u001B[38;5;241m0\u001B[39m, \u001B[38;5;28mlen\u001B[39m(distances\u001B[38;5;241m.\u001B[39mflatten())):\n\u001B[0;32m      2\u001B[0m     \u001B[38;5;28;01mif\u001B[39;00m i \u001B[38;5;241m==\u001B[39m \u001B[38;5;241m0\u001B[39m:\n\u001B[0;32m      3\u001B[0m         \u001B[38;5;28mprint\u001B[39m(\u001B[38;5;124m'\u001B[39m\u001B[38;5;124mRecommendations for \u001B[39m\u001B[38;5;132;01m{0}\u001B[39;00m\u001B[38;5;124m:\u001B[39m\u001B[38;5;130;01m\\n\u001B[39;00m\u001B[38;5;124m'\u001B[39m\u001B[38;5;241m.\u001B[39mformat(recipe_features_df\u001B[38;5;241m.\u001B[39mindex[query_index]))\n",
      "\u001B[1;31mNameError\u001B[0m: name 'distances' is not defined"
     ]
    }
   ],
   "source": [
    "for i in range(0, len(distances.flatten())):\n",
    "    if i == 0:\n",
    "        print('Recommendations for {0}:\\n'.format(recipe_features_df.index[query_index]))\n",
    "    else:\n",
    "        print('{0}: {1}:, with distance of {2}:\\n'.format(i, recipe_features_df.index[indices.flatten()[i]], distances.flatten()[i]))"
   ],
   "metadata": {
    "collapsed": false,
    "pycharm": {
     "name": "#%%\n"
    }
   }
  },
  {
   "cell_type": "markdown",
   "source": [
    "## End of KNN"
   ],
   "metadata": {
    "collapsed": false,
    "pycharm": {
     "name": "#%% md\n"
    }
   }
  },
  {
   "cell_type": "code",
   "execution_count": null,
   "outputs": [],
   "source": [],
   "metadata": {
    "collapsed": false,
    "pycharm": {
     "name": "#%%\n"
    }
   }
  },
  {
   "cell_type": "code",
   "execution_count": 107,
   "outputs": [
    {
     "ename": "TypeError",
     "evalue": "first argument must be string or compiled pattern",
     "output_type": "error",
     "traceback": [
      "\u001B[1;31m---------------------------------------------------------------------------\u001B[0m",
      "\u001B[1;31mTypeError\u001B[0m                                 Traceback (most recent call last)",
      "Cell \u001B[1;32mIn [107], line 1\u001B[0m\n\u001B[1;32m----> 1\u001B[0m col_nutrition \u001B[38;5;241m=\u001B[39m recipesLikesDislikes\u001B[38;5;241m.\u001B[39mfilter(regex\u001B[38;5;241m=\u001B[39m(\u001B[38;5;241m1\u001B[39m))\u001B[38;5;241m.\u001B[39mcolumns\n\u001B[0;32m      3\u001B[0m \u001B[38;5;66;03m# features\u001B[39;00m\n\u001B[0;32m      4\u001B[0m X \u001B[38;5;241m=\u001B[39m recipesLikesDislikes[col_nutrition]\n",
      "File \u001B[1;32m~\\PycharmProjects\\IndividualProject\\venv\\lib\\site-packages\\pandas\\core\\generic.py:5473\u001B[0m, in \u001B[0;36mNDFrame.filter\u001B[1;34m(self, items, like, regex, axis)\u001B[0m\n\u001B[0;32m   5470\u001B[0m \u001B[38;5;28;01mdef\u001B[39;00m \u001B[38;5;21mf\u001B[39m(x) \u001B[38;5;241m-\u001B[39m\u001B[38;5;241m>\u001B[39m bool_t:\n\u001B[0;32m   5471\u001B[0m     \u001B[38;5;28;01mreturn\u001B[39;00m matcher\u001B[38;5;241m.\u001B[39msearch(ensure_str(x)) \u001B[38;5;129;01mis\u001B[39;00m \u001B[38;5;129;01mnot\u001B[39;00m \u001B[38;5;28;01mNone\u001B[39;00m\n\u001B[1;32m-> 5473\u001B[0m matcher \u001B[38;5;241m=\u001B[39m \u001B[43mre\u001B[49m\u001B[38;5;241;43m.\u001B[39;49m\u001B[43mcompile\u001B[49m\u001B[43m(\u001B[49m\u001B[43mregex\u001B[49m\u001B[43m)\u001B[49m\n\u001B[0;32m   5474\u001B[0m values \u001B[38;5;241m=\u001B[39m labels\u001B[38;5;241m.\u001B[39mmap(f)\n\u001B[0;32m   5475\u001B[0m \u001B[38;5;28;01mreturn\u001B[39;00m \u001B[38;5;28mself\u001B[39m\u001B[38;5;241m.\u001B[39mloc(axis\u001B[38;5;241m=\u001B[39maxis)[values]\n",
      "File \u001B[1;32m~\\AppData\\Local\\Programs\\Python\\Python310\\lib\\re.py:251\u001B[0m, in \u001B[0;36mcompile\u001B[1;34m(pattern, flags)\u001B[0m\n\u001B[0;32m    249\u001B[0m \u001B[38;5;28;01mdef\u001B[39;00m \u001B[38;5;21mcompile\u001B[39m(pattern, flags\u001B[38;5;241m=\u001B[39m\u001B[38;5;241m0\u001B[39m):\n\u001B[0;32m    250\u001B[0m     \u001B[38;5;124m\"\u001B[39m\u001B[38;5;124mCompile a regular expression pattern, returning a Pattern object.\u001B[39m\u001B[38;5;124m\"\u001B[39m\n\u001B[1;32m--> 251\u001B[0m     \u001B[38;5;28;01mreturn\u001B[39;00m \u001B[43m_compile\u001B[49m\u001B[43m(\u001B[49m\u001B[43mpattern\u001B[49m\u001B[43m,\u001B[49m\u001B[43m \u001B[49m\u001B[43mflags\u001B[49m\u001B[43m)\u001B[49m\n",
      "File \u001B[1;32m~\\AppData\\Local\\Programs\\Python\\Python310\\lib\\re.py:302\u001B[0m, in \u001B[0;36m_compile\u001B[1;34m(pattern, flags)\u001B[0m\n\u001B[0;32m    300\u001B[0m     \u001B[38;5;28;01mreturn\u001B[39;00m pattern\n\u001B[0;32m    301\u001B[0m \u001B[38;5;28;01mif\u001B[39;00m \u001B[38;5;129;01mnot\u001B[39;00m sre_compile\u001B[38;5;241m.\u001B[39misstring(pattern):\n\u001B[1;32m--> 302\u001B[0m     \u001B[38;5;28;01mraise\u001B[39;00m \u001B[38;5;167;01mTypeError\u001B[39;00m(\u001B[38;5;124m\"\u001B[39m\u001B[38;5;124mfirst argument must be string or compiled pattern\u001B[39m\u001B[38;5;124m\"\u001B[39m)\n\u001B[0;32m    303\u001B[0m p \u001B[38;5;241m=\u001B[39m sre_compile\u001B[38;5;241m.\u001B[39mcompile(pattern, flags)\n\u001B[0;32m    304\u001B[0m \u001B[38;5;28;01mif\u001B[39;00m \u001B[38;5;129;01mnot\u001B[39;00m (flags \u001B[38;5;241m&\u001B[39m DEBUG):\n",
      "\u001B[1;31mTypeError\u001B[0m: first argument must be string or compiled pattern"
     ]
    }
   ],
   "source": [
    "col_nutrition = recipesLikesDislikes.filter(regex=(1)).columns\n",
    "\n",
    "# features\n",
    "X = recipesLikesDislikes[col_nutrition]\n",
    "\n",
    "# labels\n",
    "y = recipesLikesDislikes[\"like\"]\n",
    "\n",
    "X_train, X_test, y_train, y_test = train_test_split(X, y, test_size=0.33)"
   ],
   "metadata": {
    "collapsed": false,
    "pycharm": {
     "name": "#%%\n"
    }
   }
  },
  {
   "cell_type": "code",
   "execution_count": null,
   "outputs": [],
   "source": [
    "\n",
    "# errors = []\n",
    "# nb_k = np.arange(1,21,1)\n",
    "#\n",
    "# for k in nb_k:\n",
    "#     knn = neighbors.KNeighborsClassifier(k)\n",
    "#     errors.append(100*(1 - knn.fit(X_train, y_train).score(X_test, y_test)))\n",
    "# plt.plot(nb_k, errors, 'o-')\n",
    "# plt.title(\"Error score\")\n",
    "# plt.show()\n",
    "\n"
   ],
   "metadata": {
    "collapsed": false,
    "pycharm": {
     "name": "#%%\n"
    }
   }
  },
  {
   "cell_type": "code",
   "execution_count": null,
   "outputs": [],
   "source": [
    "# np_m = np.arange(1,10,1)\n",
    "#\n",
    "# param_grid = {'n_neighbors': np_m}\n",
    "#\n",
    "# # Choose a score to optimize\n",
    "# score = 'accuracy'\n",
    "#\n",
    "# # Create a kNN classifier with cross-validation hyperparameter search\n",
    "# clf = model_selection.GridSearchCV(\n",
    "#     neighbors.KNeighborsClassifier(), # kNN classifier\n",
    "#     param_grid,     # hyperparameters to test\n",
    "#     cv=5,           # number of cross-validation folds\n",
    "#     scoring=score   # score to optimize\n",
    "# )\n",
    "#\n",
    "# # Optimize this classifier on training set\n",
    "# clf.fit(X_train, y_train)\n",
    "#\n",
    "# # Show optimal hyperparameter(s)\n",
    "# print(\"Best hyperparameter(s) on training set:\")\n",
    "# print(clf.best_params_)\n",
    "#\n",
    "# # Show matching performance\n",
    "# print(\"Cross validation results :\")\n",
    "# for mean, std, params in zip(\n",
    "#         clf.cv_results_['mean_test_score'], # avarage score\n",
    "#         clf.cv_results_['std_test_score'],  # standard deviation of the score\n",
    "#         clf.cv_results_['params']           # hyperparameter value\n",
    "#     ):\n",
    "#\n",
    "#     print(\"{} = {:.3f} (+/-{:.03f}) for {}\".format(\n",
    "#         score,\n",
    "#         mean,\n",
    "#         std*2,\n",
    "#         params\n",
    "#     ) )"
   ],
   "metadata": {
    "collapsed": false,
    "pycharm": {
     "name": "#%%\n"
    }
   }
  },
  {
   "cell_type": "code",
   "execution_count": null,
   "outputs": [],
   "source": [
    "# recipesLikesDislikes['ingredients_encoded'].apply(lambda x: label_encoder.transform(x))"
   ],
   "metadata": {
    "collapsed": false,
    "pycharm": {
     "name": "#%%\n"
    }
   }
  },
  {
   "cell_type": "code",
   "execution_count": null,
   "outputs": [],
   "source": [
    "# ingredient_df.ingredient_name.unique()\n",
    "# recipesLikesDislikes.ingredients_encoded.unique()"
   ],
   "metadata": {
    "collapsed": false,
    "pycharm": {
     "name": "#%%\n"
    }
   }
  },
  {
   "cell_type": "code",
   "execution_count": null,
   "outputs": [],
   "source": [
    "def mappingEncoding(n):\n",
    "    return str.replace(n,)\n",
    "\n",
    "\n",
    "def one_hot(array):\n",
    "    tempArr = []\n",
    "    for u in enumerate(array):\n",
    "        u = label_encoder.transform(u)\n",
    "        tempArr.append(u)\n",
    "    # Endode_recipes.transform(['salt']\n",
    "    # lblEncoder = LabelEncoder()\n",
    "    #  lblEncoder.transform(['salt']\n",
    "    # lblEncoder.fit_transform(array)\n",
    "    return tempArr\n"
   ],
   "metadata": {
    "collapsed": false,
    "pycharm": {
     "name": "#%%\n"
    }
   }
  },
  {
   "cell_type": "code",
   "execution_count": null,
   "outputs": [],
   "source": [
    "tempLabelEncoder = label_encoder.classes_\n",
    "tempLabelEncoder = pd.DataFrame(tempLabelEncoder)\n",
    "tempLabelEncoder['encodeKey'] = ingredient_df.applymap(lambda x: ingredient_df['ingredient_id'])\n",
    "tempLabelEncoder.rename(columns={0:'encodeValue',1:'encodeKey'},inplace=True)\n",
    "tempLabelEncoder"
   ],
   "metadata": {
    "collapsed": false,
    "pycharm": {
     "name": "#%%\n"
    }
   }
  },
  {
   "cell_type": "code",
   "execution_count": null,
   "outputs": [],
   "source": [
    "tempRecipeCopy = recipesLikesDislikes\n",
    "tempRecipeCopy['ingredients_encoded'] = 6\n",
    "# tempRecipeCopy['ingredients_encoded'] = tempRecipeCopy['ingredients'].map({label_encoder.classes_}).astype(int)\n",
    "tempRecipeCopy.head(3)"
   ],
   "metadata": {
    "collapsed": false,
    "pycharm": {
     "name": "#%%\n"
    }
   }
  },
  {
   "cell_type": "code",
   "execution_count": null,
   "outputs": [],
   "source": [],
   "metadata": {
    "collapsed": false,
    "pycharm": {
     "name": "#%%\n"
    }
   }
  },
  {
   "cell_type": "code",
   "execution_count": null,
   "outputs": [],
   "source": [
    "# recipesLikesDislikes = recipesLikesDislikes['ingredients_encoded'].str.replace('(\\')', '')\n",
    "tempArray = []\n",
    "tempArrayEdit = []\n",
    "for x in recipesLikesDislikes['ingredients_encoded']:\n",
    "    tempArrayEdit = np.array(x)\n",
    "    tempArray.append(x)\n",
    "\n",
    "\n",
    "# pd.DataFrame(tempArray)\n",
    "# recipesLikesDislikes['ingredients_encoded']\n",
    "# tempArrayEdit\n"
   ],
   "metadata": {
    "collapsed": false,
    "pycharm": {
     "name": "#%%\n"
    }
   }
  },
  {
   "cell_type": "code",
   "execution_count": null,
   "outputs": [],
   "source": [
    "# ex = ingredientsToOneHot(tempArrayEdit)\n",
    "# ex.columns"
   ],
   "metadata": {
    "collapsed": false,
    "pycharm": {
     "name": "#%%\n"
    }
   }
  },
  {
   "cell_type": "code",
   "execution_count": null,
   "outputs": [],
   "source": [
    "# pd.DataFrame(tempArray).drop(0,axis=1)\n"
   ],
   "metadata": {
    "collapsed": false,
    "pycharm": {
     "name": "#%%\n"
    }
   }
  },
  {
   "cell_type": "code",
   "execution_count": null,
   "outputs": [],
   "source": [
    "tempArray"
   ],
   "metadata": {
    "collapsed": false,
    "pycharm": {
     "name": "#%%\n"
    }
   }
  },
  {
   "cell_type": "code",
   "execution_count": null,
   "outputs": [],
   "source": [
    "# recipesLikesDislikes['ingredients_encoded'].str.replace('(\\[|\\])', '')\n",
    "# newArrs = newArrs.str.replace('(())', '')\n",
    "# recipesLikesDislikes['ingredients_encoded'].str.replace('(\\')', '')\n",
    "# recipesLikesDislikes['ingredients_encoded'].str.replace('(())', '')\n",
    "\n",
    "vocab = set(j for i in ingredient_df['ingredient_name'] for j in i )\n",
    "\n",
    "\n",
    "\n",
    "cv = CountVectorizer(vocabulary=vocab, analyzer=lambda x:x)\n",
    "\n",
    "X = cv.fit_transform(recipesLikesDislikes['ingredients_encoded'])\n",
    "\n"
   ],
   "metadata": {
    "collapsed": false,
    "pycharm": {
     "name": "#%%\n"
    }
   }
  },
  {
   "cell_type": "code",
   "execution_count": null,
   "outputs": [],
   "source": [
    "vocab"
   ],
   "metadata": {
    "collapsed": false,
    "pycharm": {
     "name": "#%%\n"
    }
   }
  },
  {
   "cell_type": "code",
   "execution_count": null,
   "outputs": [],
   "source": [
    "X.todense()\n"
   ],
   "metadata": {
    "collapsed": false,
    "pycharm": {
     "name": "#%%\n"
    }
   }
  },
  {
   "cell_type": "code",
   "execution_count": null,
   "outputs": [],
   "source": [
    "cv.get_feature_names()"
   ],
   "metadata": {
    "collapsed": false,
    "pycharm": {
     "name": "#%%\n"
    }
   }
  },
  {
   "cell_type": "code",
   "execution_count": null,
   "outputs": [],
   "source": [
    "recipesLikesDislikes['ingredients_encoded']"
   ],
   "metadata": {
    "collapsed": false,
    "pycharm": {
     "name": "#%%\n"
    }
   }
  },
  {
   "cell_type": "code",
   "execution_count": null,
   "outputs": [],
   "source": [
    "recipe_encoded = recipesLikesDislikes['ingredients_encoded'].apply(lambda x: x.split(','))"
   ],
   "metadata": {
    "collapsed": false,
    "pycharm": {
     "name": "#%%\n"
    }
   }
  },
  {
   "cell_type": "code",
   "execution_count": null,
   "outputs": [],
   "source": [
    "recipe_encoded.apply(lambda x: label_encoder.transform(x))"
   ],
   "metadata": {
    "collapsed": false,
    "pycharm": {
     "name": "#%%\n"
    }
   }
  },
  {
   "cell_type": "code",
   "execution_count": null,
   "outputs": [],
   "source": [
    "# recipe_encoded = recipesLikesDislikes['ingredients_encoded'].apply(lambda x:label_encoder.transform(x))\n",
    "\n",
    "recipesLikesDislikes['ingredients_encoded'] = label_encoder.fit(recipesLikesDislikes['ingredients_encoded'])\n",
    "label_encoder.fit_transform(ingredient_df['ingredient_id'])\n",
    "# list(Endode_recipes.classes_)\n",
    "# Endode_recipes.transform(['salt'])\n",
    "list(label_encoder.inverse_transform([6270]))\n",
    "# Endode_recipes"
   ],
   "metadata": {
    "collapsed": false,
    "pycharm": {
     "name": "#%%\n"
    }
   }
  },
  {
   "cell_type": "code",
   "execution_count": null,
   "outputs": [],
   "source": [
    "TestDf_recipes = ingredient_df\n",
    "ohe = OneHotEncoder(sparse=False)\n",
    "ohe.fit_transform(TestDf_recipes[['ingredient_name']])\n",
    "ohe.categories_"
   ],
   "metadata": {
    "collapsed": false,
    "pycharm": {
     "name": "#%%\n"
    }
   }
  },
  {
   "cell_type": "code",
   "execution_count": null,
   "outputs": [],
   "source": [
    "# ohe.categories_"
   ],
   "metadata": {
    "collapsed": false,
    "pycharm": {
     "name": "#%%\n"
    }
   }
  },
  {
   "cell_type": "code",
   "execution_count": null,
   "outputs": [],
   "source": [
    "#Put the labels in recipe array My version\n",
    "TestDf_recipes = recipesLikesDislikes\n",
    "TestDf_ingridients = ingredient_df\n",
    "\n",
    "TestDf_recipes['recipe_encoded'] = 0\n",
    "TempAr = []\n",
    "\n",
    "for recipe_array in TestDf_recipes['ingredients']:\n",
    "    for recipe in recipe_array:\n",
    "        TempAr.append(recipe)\n",
    "\n",
    "\n",
    "\n",
    "\n",
    "\n"
   ],
   "metadata": {
    "collapsed": false,
    "pycharm": {
     "name": "#%%\n"
    }
   }
  },
  {
   "cell_type": "code",
   "execution_count": null,
   "outputs": [],
   "source": [
    "# Encode the labels in the recipe array\n",
    "Test_recipe_encoding = recipesLikesDislikes\n",
    "\n",
    "ct = ColumnTransformer({(\"text_preprocessing\", FeatureHasher(input_type=\"string\"), \"documents\"),\n",
    "                        (\"num_preprocessing\", MinMaxScaler(),[\"width\"])})\n",
    "\n",
    "X_trans = ct.fit_transform(ingredient_df['ingredient_name'])\n",
    "\n"
   ],
   "metadata": {
    "collapsed": false,
    "pycharm": {
     "name": "#%%\n"
    }
   }
  },
  {
   "cell_type": "code",
   "execution_count": null,
   "outputs": [],
   "source": [],
   "metadata": {
    "collapsed": false,
    "pycharm": {
     "name": "#%%\n"
    }
   }
  },
  {
   "cell_type": "code",
   "execution_count": null,
   "outputs": [],
   "source": [
    "# individualIngredients = individualIngredients.ingredients.str.lower()"
   ],
   "metadata": {
    "collapsed": false,
    "pycharm": {
     "name": "#%%\n"
    }
   }
  },
  {
   "cell_type": "code",
   "execution_count": null,
   "outputs": [],
   "source": [
    "#remake to lower case\n",
    "# individualIngredients = individualIngredients.rename(columns={0:'ingredients'})\n",
    "# individualIngredients['ingredients'].str.lower()\n",
    "# individualIngredients\n",
    "# individualIngredients.count().where(individualIngredients == 'honey')\n",
    "# individualIngredients[]\n",
    "# individualIngredients.str.extract(\"(milk)\")"
   ],
   "metadata": {
    "collapsed": false,
    "pycharm": {
     "name": "#%%\n"
    }
   }
  },
  {
   "cell_type": "code",
   "execution_count": null,
   "outputs": [],
   "source": [],
   "metadata": {
    "collapsed": false,
    "pycharm": {
     "name": "#%%\n"
    }
   }
  },
  {
   "cell_type": "code",
   "execution_count": null,
   "outputs": [],
   "source": [
    "# (individualIngredients == 'milk').sum()"
   ],
   "metadata": {
    "collapsed": false,
    "pycharm": {
     "name": "#%%\n"
    }
   }
  },
  {
   "cell_type": "code",
   "execution_count": null,
   "outputs": [],
   "source": [
    "# individualIngredients.value_counts()\n"
   ],
   "metadata": {
    "collapsed": false,
    "pycharm": {
     "name": "#%%\n"
    }
   }
  },
  {
   "cell_type": "code",
   "execution_count": null,
   "outputs": [],
   "source": [
    "# CollumnNameRec = ['ingredientName','ingredientCount']\n",
    "# individualIngredients = individualIngredients.rename(['ingredient'])\n",
    "# recipeUniqSet = individualIngredients.groupby(by=['ingredients'])['data'].count().sort_values(ascending=False)\n",
    "#\n",
    "# recipeUniqSet = recipeUniqSet.rename(columns={0:'ingredients',1:'count'})"
   ],
   "metadata": {
    "collapsed": false,
    "pycharm": {
     "name": "#%%\n"
    }
   }
  },
  {
   "cell_type": "code",
   "execution_count": null,
   "outputs": [],
   "source": [
    "# food_df.like.value_counts(normalize=False)\n"
   ],
   "metadata": {
    "collapsed": false,
    "pycharm": {
     "name": "#%%\n"
    }
   }
  },
  {
   "cell_type": "code",
   "execution_count": null,
   "outputs": [],
   "source": [],
   "metadata": {
    "collapsed": false,
    "pycharm": {
     "name": "#%%\n"
    }
   }
  },
  {
   "cell_type": "code",
   "execution_count": null,
   "outputs": [],
   "source": [
    "# tempString = recipesLikesDislikes\n",
    "# tempString = tempString['ingredients'].str.replace('(\\')', '')\n",
    "# tempString = tempString.ingredients.str.replace('(\\[|\\])', '')\n",
    "# tempString = tempString.apply(lambda x: x.split(','))\n",
    "# def do(arr):\n",
    "#     \"\"\"\n",
    "#     docstring\n",
    "#     \"\"\"\n",
    "#     temp = []\n",
    "#     for i in arr:\n",
    "#         temp.append(i.strip())\n",
    "#     return temp\n",
    "#\n",
    "#\n",
    "# # s_ing = s_ingr['ingredients'].apply(do)\n",
    "# tempString"
   ],
   "metadata": {
    "collapsed": false,
    "pycharm": {
     "name": "#%%\n"
    }
   }
  },
  {
   "cell_type": "code",
   "execution_count": null,
   "outputs": [],
   "source": [
    "# from itertools import chain\n",
    "# rld = tempString\n",
    "# rld = pd.Series(rld)\n",
    "# rld = rld.str.replace('(\\[|\\])', '')\n",
    "# rld = rld.str.replace('(())', '')\n",
    "# rld = rld.str.replace('(\")', '')\n",
    "#\n",
    "#\n",
    "# # rld = rld.str.replace('(,)', '')\n",
    "# # rld.str.split(expand=True)\n",
    "# # result = {c in d in rld for c in d}\n",
    "# count = set(chain(rld))\n",
    "#\n",
    "# def shizzle():\n",
    "#     result = []\n",
    "#     for i in count:\n",
    "#         result.append(i)\n",
    "#     return result\n",
    "#\n",
    "# newV = shizzle()\n",
    "#\n",
    "# # newVDf = pd.value_counts(newV)\n",
    "# sepparation = pd.DataFrame.assign(newV[0:].split(\",\"))\n",
    "# sepparation"
   ],
   "metadata": {
    "collapsed": false,
    "pycharm": {
     "name": "#%%\n"
    }
   }
  },
  {
   "cell_type": "code",
   "execution_count": null,
   "outputs": [],
   "source": [],
   "metadata": {
    "collapsed": false,
    "pycharm": {
     "name": "#%%\n"
    }
   }
  },
  {
   "cell_type": "code",
   "execution_count": null,
   "outputs": [],
   "source": [],
   "metadata": {
    "collapsed": false,
    "pycharm": {
     "name": "#%%\n"
    }
   }
  },
  {
   "cell_type": "code",
   "execution_count": null,
   "outputs": [],
   "source": [],
   "metadata": {
    "collapsed": false,
    "pycharm": {
     "name": "#%%\n"
    }
   }
  },
  {
   "cell_type": "code",
   "execution_count": null,
   "outputs": [],
   "source": [
    "# def getUniqueIngredients(arr):\n",
    "#     temp = []\n",
    "#     for i in arr:\n",
    "#         if i not in temp:\n",
    "#             temp.append(i)\n",
    "#     return temp\n",
    "#\n",
    "# oneValueString = getUniqueIngredients(recipesLikesDislikes)\n",
    "# oneValueString"
   ],
   "metadata": {
    "collapsed": false,
    "pycharm": {
     "name": "#%%\n"
    }
   }
  },
  {
   "cell_type": "code",
   "execution_count": null,
   "outputs": [],
   "source": [
    "# UniqueSet = recipesLikesDislikes.groupby(axis=1).agg(['count'])\n",
    "# UniqueSet.reset_index(inplace=True)"
   ],
   "metadata": {
    "collapsed": false,
    "pycharm": {
     "name": "#%%\n"
    }
   }
  },
  {
   "cell_type": "code",
   "execution_count": null,
   "outputs": [],
   "source": [
    "# uniqueIngr = tempString.count"
   ],
   "metadata": {
    "collapsed": false,
    "pycharm": {
     "name": "#%%\n"
    }
   }
  },
  {
   "cell_type": "code",
   "execution_count": null,
   "outputs": [],
   "source": [
    "tempDb = recipesLikesDislikes\n",
    "tempDb['ingredients'] = tempDb['ingredients'].astype('category').cat.codes\n",
    "tempDb['name'] = tempDb['name'].astype('category').cat.codes\n",
    "\n",
    "corrolationTemp = tempDb.corr()\n",
    "corrolationTemp['average_rating']\n"
   ],
   "metadata": {
    "collapsed": false,
    "pycharm": {
     "name": "#%%\n"
    }
   }
  },
  {
   "cell_type": "code",
   "execution_count": null,
   "outputs": [],
   "source": [
    "correlationMatrix = recipesLikesDislikes.corr()\n",
    "correlationMatrix['average_rating']"
   ],
   "metadata": {
    "collapsed": false,
    "pycharm": {
     "name": "#%%\n"
    }
   }
  },
  {
   "cell_type": "code",
   "execution_count": null,
   "outputs": [],
   "source": [
    "recipesLikesDislikes['like'].hist(bins=5)\n",
    "plt.ylabel = \"Count of likes\"\n",
    "plt.xlabel = \"Values from disliked to liked\"\n",
    "plt.show()\n"
   ],
   "metadata": {
    "collapsed": false,
    "pycharm": {
     "name": "#%%\n"
    }
   }
  },
  {
   "cell_type": "code",
   "execution_count": null,
   "outputs": [],
   "source": [
    "#heat map\n",
    "\n",
    "df = recipesLikesDislikes\n",
    "f, ax = plt.subplots(figsize=(20, 10))\n",
    "corr = df.corr()\n",
    "sns.heatmap(corr, annot=True,\n",
    "    cmap=sns.diverging_palette(220, 10, as_cmap=False),\n",
    "    vmin=-1.0, vmax=1.0,\n",
    "    square=True, ax=ax)\n",
    "plt.show()"
   ],
   "metadata": {
    "collapsed": false,
    "pycharm": {
     "name": "#%%\n"
    }
   }
  },
  {
   "cell_type": "markdown",
   "source": [
    "Possibly could split the tests in checking word corrolations in the recipes but idk"
   ],
   "metadata": {
    "collapsed": false,
    "pycharm": {
     "name": "#%% md\n"
    }
   }
  },
  {
   "cell_type": "code",
   "execution_count": null,
   "outputs": [],
   "source": [
    "# from flair.embeddings import WordEmbeddings\n",
    "# from flair.data import Sentence\n",
    "#\n",
    "# # create embedder Glove in this case\n",
    "# glove_embedding = WordEmbeddings('glove')\n",
    "#\n",
    "# # create a sentemce\n",
    "# sentence = Sentence('pineapple pizza')\n",
    "#\n",
    "# # embed a sentence\n",
    "# glove_embedding.embed(sentence)\n",
    "#\n",
    "# # you can get the embedding for the whole sentence\n",
    "# sentence_embedding = sentence.embedding\n",
    "#\n",
    "# # or check the embedding for each word (e.g., token)\n",
    "# for token in sentence:\n",
    "#     print(token)\n",
    "#     print(token.embedding)\n",
    "#\n",
    "# # prints...\n",
    "# # Token[0]: \"pineapple\"\n",
    "# # tensor([-1.3641,  0.2901, ...])\n",
    "# # Token[0]: \"pineapple\"\n",
    "# # tensor([-1.3641,  0.2901, ...])"
   ],
   "metadata": {
    "collapsed": false,
    "pycharm": {
     "name": "#%%\n"
    }
   }
  },
  {
   "cell_type": "code",
   "execution_count": 108,
   "outputs": [],
   "source": [
    "# sentence\n",
    "#\n",
    "# # start by taking the labeled and unlabelled embeddings\n",
    "# labeled_embeddings = embedding_matrix[labeled_indices, :]\n",
    "# unlabeled_embeddings = embedding_matrix[unlabeled_indices, :]\n",
    "#\n",
    "# # create our index\n",
    "# d = labeled_embeddings.shape[1]\n",
    "# index = faiss.IndexFlatIP(d)\n",
    "#\n",
    "# # normalize and add our labeled recipes\n",
    "# faiss.normalize_L2(labeled_embeddings)\n",
    "# index.add(labeled_embeddings)\n",
    "#\n",
    "# # normalize and query for our unlabelled recipes\n",
    "# faiss.normalize_L2(unlabeled_embeddings)\n",
    "# r_distances, r_indexes = index.search(unlabeled_embeddings, k=6)"
   ],
   "metadata": {
    "collapsed": false,
    "pycharm": {
     "name": "#%%\n"
    }
   }
  },
  {
   "cell_type": "markdown",
   "source": [
    "### Train decision tree"
   ],
   "metadata": {
    "collapsed": false,
    "pycharm": {
     "name": "#%% md\n"
    }
   }
  },
  {
   "cell_type": "code",
   "execution_count": 109,
   "outputs": [],
   "source": [
    "from sklearn.model_selection import train_test_split\n",
    "X = Recipe_prep[['average_rating']]\n",
    "y = Recipe_prep[['like']]\n",
    "\n",
    "X_train, X_test, y_train, y_test = train_test_split(X, y, test_size=0.2, random_state=12345)"
   ],
   "metadata": {
    "collapsed": false,
    "pycharm": {
     "name": "#%%\n"
    }
   }
  },
  {
   "cell_type": "code",
   "execution_count": 109,
   "outputs": [],
   "source": [],
   "metadata": {
    "collapsed": false,
    "pycharm": {
     "name": "#%%\n"
    }
   }
  },
  {
   "cell_type": "code",
   "execution_count": 110,
   "outputs": [],
   "source": [
    "from sklearn.model_selection import cross_validate,cross_val_score\n",
    "from sklearn.linear_model import LinearRegression\n",
    "\n",
    "multiReg = LinearRegression()\n"
   ],
   "metadata": {
    "collapsed": false,
    "pycharm": {
     "name": "#%%\n"
    }
   }
  },
  {
   "cell_type": "code",
   "execution_count": 111,
   "outputs": [],
   "source": [
    "lin_score = cross_val_score(multiReg,X_train,y_train,cv=5,scoring='neg_mean_absolute_error')"
   ],
   "metadata": {
    "collapsed": false,
    "pycharm": {
     "name": "#%%\n"
    }
   }
  },
  {
   "cell_type": "code",
   "execution_count": 111,
   "outputs": [],
   "source": [],
   "metadata": {
    "collapsed": false,
    "pycharm": {
     "name": "#%%\n"
    }
   }
  },
  {
   "cell_type": "code",
   "execution_count": 112,
   "outputs": [
    {
     "data": {
      "text/plain": "array([0.59565747, 0.60210199, 0.59742136, 0.59313823, 0.59736996])"
     },
     "execution_count": 112,
     "metadata": {},
     "output_type": "execute_result"
    }
   ],
   "source": [
    "lin_score_n = -lin_score\n",
    "lin_score_n"
   ],
   "metadata": {
    "collapsed": false,
    "pycharm": {
     "name": "#%%\n"
    }
   }
  },
  {
   "cell_type": "code",
   "execution_count": 113,
   "outputs": [
    {
     "data": {
      "text/plain": "0.5971378002668916"
     },
     "execution_count": 113,
     "metadata": {},
     "output_type": "execute_result"
    }
   ],
   "source": [
    "np.mean(lin_score_n)"
   ],
   "metadata": {
    "collapsed": false,
    "pycharm": {
     "name": "#%%\n"
    }
   }
  },
  {
   "cell_type": "code",
   "execution_count": 114,
   "outputs": [],
   "source": [
    "from sklearn import tree\n",
    "from sklearn.tree import DecisionTreeClassifier"
   ],
   "metadata": {
    "collapsed": false,
    "pycharm": {
     "name": "#%%\n"
    }
   }
  },
  {
   "cell_type": "code",
   "execution_count": 115,
   "outputs": [
    {
     "data": {
      "text/plain": "DecisionTreeClassifier(criterion='entropy', max_depth=2, random_state=42)",
      "text/html": "<style>#sk-container-id-1 {color: black;background-color: white;}#sk-container-id-1 pre{padding: 0;}#sk-container-id-1 div.sk-toggleable {background-color: white;}#sk-container-id-1 label.sk-toggleable__label {cursor: pointer;display: block;width: 100%;margin-bottom: 0;padding: 0.3em;box-sizing: border-box;text-align: center;}#sk-container-id-1 label.sk-toggleable__label-arrow:before {content: \"▸\";float: left;margin-right: 0.25em;color: #696969;}#sk-container-id-1 label.sk-toggleable__label-arrow:hover:before {color: black;}#sk-container-id-1 div.sk-estimator:hover label.sk-toggleable__label-arrow:before {color: black;}#sk-container-id-1 div.sk-toggleable__content {max-height: 0;max-width: 0;overflow: hidden;text-align: left;background-color: #f0f8ff;}#sk-container-id-1 div.sk-toggleable__content pre {margin: 0.2em;color: black;border-radius: 0.25em;background-color: #f0f8ff;}#sk-container-id-1 input.sk-toggleable__control:checked~div.sk-toggleable__content {max-height: 200px;max-width: 100%;overflow: auto;}#sk-container-id-1 input.sk-toggleable__control:checked~label.sk-toggleable__label-arrow:before {content: \"▾\";}#sk-container-id-1 div.sk-estimator input.sk-toggleable__control:checked~label.sk-toggleable__label {background-color: #d4ebff;}#sk-container-id-1 div.sk-label input.sk-toggleable__control:checked~label.sk-toggleable__label {background-color: #d4ebff;}#sk-container-id-1 input.sk-hidden--visually {border: 0;clip: rect(1px 1px 1px 1px);clip: rect(1px, 1px, 1px, 1px);height: 1px;margin: -1px;overflow: hidden;padding: 0;position: absolute;width: 1px;}#sk-container-id-1 div.sk-estimator {font-family: monospace;background-color: #f0f8ff;border: 1px dotted black;border-radius: 0.25em;box-sizing: border-box;margin-bottom: 0.5em;}#sk-container-id-1 div.sk-estimator:hover {background-color: #d4ebff;}#sk-container-id-1 div.sk-parallel-item::after {content: \"\";width: 100%;border-bottom: 1px solid gray;flex-grow: 1;}#sk-container-id-1 div.sk-label:hover label.sk-toggleable__label {background-color: #d4ebff;}#sk-container-id-1 div.sk-serial::before {content: \"\";position: absolute;border-left: 1px solid gray;box-sizing: border-box;top: 0;bottom: 0;left: 50%;z-index: 0;}#sk-container-id-1 div.sk-serial {display: flex;flex-direction: column;align-items: center;background-color: white;padding-right: 0.2em;padding-left: 0.2em;position: relative;}#sk-container-id-1 div.sk-item {position: relative;z-index: 1;}#sk-container-id-1 div.sk-parallel {display: flex;align-items: stretch;justify-content: center;background-color: white;position: relative;}#sk-container-id-1 div.sk-item::before, #sk-container-id-1 div.sk-parallel-item::before {content: \"\";position: absolute;border-left: 1px solid gray;box-sizing: border-box;top: 0;bottom: 0;left: 50%;z-index: -1;}#sk-container-id-1 div.sk-parallel-item {display: flex;flex-direction: column;z-index: 1;position: relative;background-color: white;}#sk-container-id-1 div.sk-parallel-item:first-child::after {align-self: flex-end;width: 50%;}#sk-container-id-1 div.sk-parallel-item:last-child::after {align-self: flex-start;width: 50%;}#sk-container-id-1 div.sk-parallel-item:only-child::after {width: 0;}#sk-container-id-1 div.sk-dashed-wrapped {border: 1px dashed gray;margin: 0 0.4em 0.5em 0.4em;box-sizing: border-box;padding-bottom: 0.4em;background-color: white;}#sk-container-id-1 div.sk-label label {font-family: monospace;font-weight: bold;display: inline-block;line-height: 1.2em;}#sk-container-id-1 div.sk-label-container {text-align: center;}#sk-container-id-1 div.sk-container {/* jupyter's `normalize.less` sets `[hidden] { display: none; }` but bootstrap.min.css set `[hidden] { display: none !important; }` so we also need the `!important` here to be able to override the default hidden behavior on the sphinx rendered scikit-learn.org. See: https://github.com/scikit-learn/scikit-learn/issues/21755 */display: inline-block !important;position: relative;}#sk-container-id-1 div.sk-text-repr-fallback {display: none;}</style><div id=\"sk-container-id-1\" class=\"sk-top-container\"><div class=\"sk-text-repr-fallback\"><pre>DecisionTreeClassifier(criterion=&#x27;entropy&#x27;, max_depth=2, random_state=42)</pre><b>In a Jupyter environment, please rerun this cell to show the HTML representation or trust the notebook. <br />On GitHub, the HTML representation is unable to render, please try loading this page with nbviewer.org.</b></div><div class=\"sk-container\" hidden><div class=\"sk-item\"><div class=\"sk-estimator sk-toggleable\"><input class=\"sk-toggleable__control sk-hidden--visually\" id=\"sk-estimator-id-1\" type=\"checkbox\" checked><label for=\"sk-estimator-id-1\" class=\"sk-toggleable__label sk-toggleable__label-arrow\">DecisionTreeClassifier</label><div class=\"sk-toggleable__content\"><pre>DecisionTreeClassifier(criterion=&#x27;entropy&#x27;, max_depth=2, random_state=42)</pre></div></div></div></div></div>"
     },
     "execution_count": 115,
     "metadata": {},
     "output_type": "execute_result"
    }
   ],
   "source": [
    "tree_clf = DecisionTreeClassifier(criterion='entropy', max_depth=2, min_samples_split=2, random_state = 42)\n",
    "tree_clf.fit(X_train,y_train)"
   ],
   "metadata": {
    "collapsed": false,
    "pycharm": {
     "name": "#%%\n"
    }
   }
  },
  {
   "cell_type": "code",
   "execution_count": 116,
   "outputs": [],
   "source": [
    "y_predict = tree_clf.predict(X_test)"
   ],
   "metadata": {
    "collapsed": false,
    "pycharm": {
     "name": "#%%\n"
    }
   }
  },
  {
   "cell_type": "code",
   "execution_count": 128,
   "outputs": [
    {
     "name": "stdout",
     "output_type": "stream",
     "text": [
      "[[    0  5249     0]\n",
      " [    0 16202     0]\n",
      " [    0 14202     0]]\n",
      "              precision    recall  f1-score   support\n",
      "\n",
      "          -1       0.00      0.00      0.00      5249\n",
      "           0       0.45      1.00      0.62     16202\n",
      "           1       0.00      0.00      0.00     14202\n",
      "\n",
      "    accuracy                           0.45     35653\n",
      "   macro avg       0.15      0.33      0.21     35653\n",
      "weighted avg       0.21      0.45      0.28     35653\n",
      "\n"
     ]
    },
    {
     "name": "stderr",
     "output_type": "stream",
     "text": [
      "C:\\Users\\evald\\PycharmProjects\\IndividualProject\\venv\\lib\\site-packages\\sklearn\\metrics\\_classification.py:1334: UndefinedMetricWarning: Precision and F-score are ill-defined and being set to 0.0 in labels with no predicted samples. Use `zero_division` parameter to control this behavior.\n",
      "  _warn_prf(average, modifier, msg_start, len(result))\n",
      "C:\\Users\\evald\\PycharmProjects\\IndividualProject\\venv\\lib\\site-packages\\sklearn\\metrics\\_classification.py:1334: UndefinedMetricWarning: Precision and F-score are ill-defined and being set to 0.0 in labels with no predicted samples. Use `zero_division` parameter to control this behavior.\n",
      "  _warn_prf(average, modifier, msg_start, len(result))\n",
      "C:\\Users\\evald\\PycharmProjects\\IndividualProject\\venv\\lib\\site-packages\\sklearn\\metrics\\_classification.py:1334: UndefinedMetricWarning: Precision and F-score are ill-defined and being set to 0.0 in labels with no predicted samples. Use `zero_division` parameter to control this behavior.\n",
      "  _warn_prf(average, modifier, msg_start, len(result))\n"
     ]
    }
   ],
   "source": [
    "from sklearn.metrics import classification_report, confusion_matrix\n",
    "print(confusion_matrix(y_test,y_predict))\n",
    "print(classification_report(y_test,y_predict))"
   ],
   "metadata": {
    "collapsed": false,
    "pycharm": {
     "name": "#%%\n"
    }
   }
  },
  {
   "cell_type": "code",
   "execution_count": 118,
   "outputs": [],
   "source": [
    "# print(confusion_matrix(y_test,y_predict))\n",
    "# print(classification_report(y_test,y_predict))"
   ],
   "metadata": {
    "collapsed": false,
    "pycharm": {
     "name": "#%%\n"
    }
   }
  },
  {
   "cell_type": "code",
   "execution_count": 147,
   "outputs": [
    {
     "ename": "AttributeError",
     "evalue": "'DecisionTreeClassifier' object has no attribute 'tree_'",
     "output_type": "error",
     "traceback": [
      "\u001B[1;31m---------------------------------------------------------------------------\u001B[0m",
      "\u001B[1;31mAttributeError\u001B[0m                            Traceback (most recent call last)",
      "Cell \u001B[1;32mIn [147], line 1\u001B[0m\n\u001B[1;32m----> 1\u001B[0m tree\u001B[38;5;241m.\u001B[39mplot_tree(tree_clf)\n",
      "File \u001B[1;32m~\\PycharmProjects\\IndividualProject\\venv\\lib\\site-packages\\sklearn\\tree\\_export.py:195\u001B[0m, in \u001B[0;36mplot_tree\u001B[1;34m(decision_tree, max_depth, feature_names, class_names, label, filled, impurity, node_ids, proportion, rounded, precision, ax, fontsize)\u001B[0m\n\u001B[0;32m    180\u001B[0m check_is_fitted(decision_tree)\n\u001B[0;32m    182\u001B[0m exporter \u001B[38;5;241m=\u001B[39m _MPLTreeExporter(\n\u001B[0;32m    183\u001B[0m     max_depth\u001B[38;5;241m=\u001B[39mmax_depth,\n\u001B[0;32m    184\u001B[0m     feature_names\u001B[38;5;241m=\u001B[39mfeature_names,\n\u001B[1;32m   (...)\u001B[0m\n\u001B[0;32m    193\u001B[0m     fontsize\u001B[38;5;241m=\u001B[39mfontsize,\n\u001B[0;32m    194\u001B[0m )\n\u001B[1;32m--> 195\u001B[0m \u001B[38;5;28;01mreturn\u001B[39;00m \u001B[43mexporter\u001B[49m\u001B[38;5;241;43m.\u001B[39;49m\u001B[43mexport\u001B[49m\u001B[43m(\u001B[49m\u001B[43mdecision_tree\u001B[49m\u001B[43m,\u001B[49m\u001B[43m \u001B[49m\u001B[43max\u001B[49m\u001B[38;5;241;43m=\u001B[39;49m\u001B[43max\u001B[49m\u001B[43m)\u001B[49m\n",
      "File \u001B[1;32m~\\PycharmProjects\\IndividualProject\\venv\\lib\\site-packages\\sklearn\\tree\\_export.py:656\u001B[0m, in \u001B[0;36m_MPLTreeExporter.export\u001B[1;34m(self, decision_tree, ax)\u001B[0m\n\u001B[0;32m    654\u001B[0m ax\u001B[38;5;241m.\u001B[39mclear()\n\u001B[0;32m    655\u001B[0m ax\u001B[38;5;241m.\u001B[39mset_axis_off()\n\u001B[1;32m--> 656\u001B[0m my_tree \u001B[38;5;241m=\u001B[39m \u001B[38;5;28mself\u001B[39m\u001B[38;5;241m.\u001B[39m_make_tree(\u001B[38;5;241m0\u001B[39m, \u001B[43mdecision_tree\u001B[49m\u001B[38;5;241;43m.\u001B[39;49m\u001B[43mtree_\u001B[49m, decision_tree\u001B[38;5;241m.\u001B[39mcriterion)\n\u001B[0;32m    657\u001B[0m draw_tree \u001B[38;5;241m=\u001B[39m buchheim(my_tree)\n\u001B[0;32m    659\u001B[0m \u001B[38;5;66;03m# important to make sure we're still\u001B[39;00m\n\u001B[0;32m    660\u001B[0m \u001B[38;5;66;03m# inside the axis after drawing the box\u001B[39;00m\n\u001B[0;32m    661\u001B[0m \u001B[38;5;66;03m# this makes sense because the width of a box\u001B[39;00m\n\u001B[0;32m    662\u001B[0m \u001B[38;5;66;03m# is about the same as the distance between boxes\u001B[39;00m\n",
      "\u001B[1;31mAttributeError\u001B[0m: 'DecisionTreeClassifier' object has no attribute 'tree_'"
     ]
    },
    {
     "data": {
      "text/plain": "<Figure size 640x480 with 1 Axes>",
      "image/png": "[encoded data removed]"
     },
     "metadata": {},
     "output_type": "display_data"
    }
   ],
   "source": [
    "tree.plot_tree(tree_clf)"
   ],
   "metadata": {
    "collapsed": false,
    "pycharm": {
     "name": "#%%\n"
    }
   }
  },
  {
   "cell_type": "code",
   "execution_count": 145,
   "outputs": [
    {
     "name": "stdout",
     "output_type": "stream",
     "text": [
      "Mean Absolute Error: 0.54556418814686\n",
      "Mean Squared Error: 0.54556418814686\n",
      "Root Mean Squared Error: 0.7386231705997721\n"
     ]
    }
   ],
   "source": [
    "from sklearn import metrics\n",
    "print('Mean Absolute Error:', metrics.mean_absolute_error(y_test, y_predict))\n",
    "print('Mean Squared Error:', metrics.mean_squared_error(y_test, y_predict))\n",
    "print('Root Mean Squared Error:', np.sqrt(metrics.mean_squared_error(y_test, y_predict)))"
   ],
   "metadata": {
    "collapsed": false,
    "pycharm": {
     "name": "#%%\n"
    }
   }
  },
  {
   "cell_type": "markdown",
   "source": [
    "### Train KNN"
   ],
   "metadata": {
    "collapsed": false,
    "pycharm": {
     "name": "#%% md\n"
    }
   }
  },
  {
   "cell_type": "code",
   "execution_count": 144,
   "outputs": [],
   "source": [
    "knn_classifier = KNeighborsClassifier(n_neighbors=5)"
   ],
   "metadata": {
    "collapsed": false,
    "pycharm": {
     "name": "#%%\n"
    }
   }
  },
  {
   "cell_type": "markdown",
   "source": [],
   "metadata": {
    "collapsed": false,
    "pycharm": {
     "name": "#%% md\n"
    }
   }
  },
  {
   "cell_type": "code",
   "execution_count": 143,
   "outputs": [
    {
     "name": "stderr",
     "output_type": "stream",
     "text": [
      "C:\\Users\\evald\\PycharmProjects\\IndividualProject\\venv\\lib\\site-packages\\sklearn\\neighbors\\_classification.py:207: DataConversionWarning: A column-vector y was passed when a 1d array was expected. Please change the shape of y to (n_samples,), for example using ravel().\n",
      "  return self._fit(X, y)\n"
     ]
    },
    {
     "data": {
      "text/plain": "KNeighborsClassifier()",
      "text/html": "<style>#sk-container-id-3 {color: black;background-color: white;}#sk-container-id-3 pre{padding: 0;}#sk-container-id-3 div.sk-toggleable {background-color: white;}#sk-container-id-3 label.sk-toggleable__label {cursor: pointer;display: block;width: 100%;margin-bottom: 0;padding: 0.3em;box-sizing: border-box;text-align: center;}#sk-container-id-3 label.sk-toggleable__label-arrow:before {content: \"▸\";float: left;margin-right: 0.25em;color: #696969;}#sk-container-id-3 label.sk-toggleable__label-arrow:hover:before {color: black;}#sk-container-id-3 div.sk-estimator:hover label.sk-toggleable__label-arrow:before {color: black;}#sk-container-id-3 div.sk-toggleable__content {max-height: 0;max-width: 0;overflow: hidden;text-align: left;background-color: #f0f8ff;}#sk-container-id-3 div.sk-toggleable__content pre {margin: 0.2em;color: black;border-radius: 0.25em;background-color: #f0f8ff;}#sk-container-id-3 input.sk-toggleable__control:checked~div.sk-toggleable__content {max-height: 200px;max-width: 100%;overflow: auto;}#sk-container-id-3 input.sk-toggleable__control:checked~label.sk-toggleable__label-arrow:before {content: \"▾\";}#sk-container-id-3 div.sk-estimator input.sk-toggleable__control:checked~label.sk-toggleable__label {background-color: #d4ebff;}#sk-container-id-3 div.sk-label input.sk-toggleable__control:checked~label.sk-toggleable__label {background-color: #d4ebff;}#sk-container-id-3 input.sk-hidden--visually {border: 0;clip: rect(1px 1px 1px 1px);clip: rect(1px, 1px, 1px, 1px);height: 1px;margin: -1px;overflow: hidden;padding: 0;position: absolute;width: 1px;}#sk-container-id-3 div.sk-estimator {font-family: monospace;background-color: #f0f8ff;border: 1px dotted black;border-radius: 0.25em;box-sizing: border-box;margin-bottom: 0.5em;}#sk-container-id-3 div.sk-estimator:hover {background-color: #d4ebff;}#sk-container-id-3 div.sk-parallel-item::after {content: \"\";width: 100%;border-bottom: 1px solid gray;flex-grow: 1;}#sk-container-id-3 div.sk-label:hover label.sk-toggleable__label {background-color: #d4ebff;}#sk-container-id-3 div.sk-serial::before {content: \"\";position: absolute;border-left: 1px solid gray;box-sizing: border-box;top: 0;bottom: 0;left: 50%;z-index: 0;}#sk-container-id-3 div.sk-serial {display: flex;flex-direction: column;align-items: center;background-color: white;padding-right: 0.2em;padding-left: 0.2em;position: relative;}#sk-container-id-3 div.sk-item {position: relative;z-index: 1;}#sk-container-id-3 div.sk-parallel {display: flex;align-items: stretch;justify-content: center;background-color: white;position: relative;}#sk-container-id-3 div.sk-item::before, #sk-container-id-3 div.sk-parallel-item::before {content: \"\";position: absolute;border-left: 1px solid gray;box-sizing: border-box;top: 0;bottom: 0;left: 50%;z-index: -1;}#sk-container-id-3 div.sk-parallel-item {display: flex;flex-direction: column;z-index: 1;position: relative;background-color: white;}#sk-container-id-3 div.sk-parallel-item:first-child::after {align-self: flex-end;width: 50%;}#sk-container-id-3 div.sk-parallel-item:last-child::after {align-self: flex-start;width: 50%;}#sk-container-id-3 div.sk-parallel-item:only-child::after {width: 0;}#sk-container-id-3 div.sk-dashed-wrapped {border: 1px dashed gray;margin: 0 0.4em 0.5em 0.4em;box-sizing: border-box;padding-bottom: 0.4em;background-color: white;}#sk-container-id-3 div.sk-label label {font-family: monospace;font-weight: bold;display: inline-block;line-height: 1.2em;}#sk-container-id-3 div.sk-label-container {text-align: center;}#sk-container-id-3 div.sk-container {/* jupyter's `normalize.less` sets `[hidden] { display: none; }` but bootstrap.min.css set `[hidden] { display: none !important; }` so we also need the `!important` here to be able to override the default hidden behavior on the sphinx rendered scikit-learn.org. See: https://github.com/scikit-learn/scikit-learn/issues/21755 */display: inline-block !important;position: relative;}#sk-container-id-3 div.sk-text-repr-fallback {display: none;}</style><div id=\"sk-container-id-3\" class=\"sk-top-container\"><div class=\"sk-text-repr-fallback\"><pre>KNeighborsClassifier()</pre><b>In a Jupyter environment, please rerun this cell to show the HTML representation or trust the notebook. <br />On GitHub, the HTML representation is unable to render, please try loading this page with nbviewer.org.</b></div><div class=\"sk-container\" hidden><div class=\"sk-item\"><div class=\"sk-estimator sk-toggleable\"><input class=\"sk-toggleable__control sk-hidden--visually\" id=\"sk-estimator-id-3\" type=\"checkbox\" checked><label for=\"sk-estimator-id-3\" class=\"sk-toggleable__label sk-toggleable__label-arrow\">KNeighborsClassifier</label><div class=\"sk-toggleable__content\"><pre>KNeighborsClassifier()</pre></div></div></div></div></div>"
     },
     "execution_count": 143,
     "metadata": {},
     "output_type": "execute_result"
    }
   ],
   "source": [
    "knn_classifier.fit(X_train,y_train)"
   ],
   "metadata": {
    "collapsed": false,
    "pycharm": {
     "name": "#%%\n"
    }
   }
  },
  {
   "cell_type": "code",
   "execution_count": 140,
   "outputs": [],
   "source": [
    "y_pred = knn_classifier.predict(X_test)"
   ],
   "metadata": {
    "collapsed": false,
    "pycharm": {
     "name": "#%%\n"
    }
   }
  },
  {
   "cell_type": "code",
   "execution_count": 142,
   "outputs": [
    {
     "name": "stdout",
     "output_type": "stream",
     "text": [
      "Accuracy: 0.4146635626735478\n"
     ]
    }
   ],
   "source": [
    "from sklearn import metrics\n",
    "# Model Accuracy, how often is the classifier correct?\n",
    "print(\"Accuracy:\",metrics.accuracy_score(y_test, y_pred))"
   ],
   "metadata": {
    "collapsed": false,
    "pycharm": {
     "name": "#%%\n"
    }
   }
  },
  {
   "cell_type": "markdown",
   "source": [
    "### Train KNN Plot"
   ],
   "metadata": {
    "collapsed": false,
    "pycharm": {
     "name": "#%% md\n"
    }
   }
  },
  {
   "cell_type": "code",
   "execution_count": 125,
   "outputs": [
    {
     "data": {
      "text/plain": "(178265, 17)"
     },
     "execution_count": 125,
     "metadata": {},
     "output_type": "execute_result"
    }
   ],
   "source": [
    "xChoice = recipesLikesDislikes.where(recipesLikesDislikes['average_rating'] > 3)\n",
    "# xChoice = recipesLikesDislikes[['average_rating']]\n",
    "yChoice = recipesLikesDislikes[(recipesLikesDislikes['like'] == 1)]\n",
    "\n",
    "xChoice.shape\n",
    "\n",
    "\n"
   ],
   "metadata": {
    "collapsed": false,
    "pycharm": {
     "name": "#%%\n"
    }
   }
  },
  {
   "cell_type": "code",
   "execution_count": 126,
   "outputs": [
    {
     "data": {
      "text/plain": "(70518, 17)"
     },
     "execution_count": 126,
     "metadata": {},
     "output_type": "execute_result"
    }
   ],
   "source": [
    "yChoice.shape"
   ],
   "metadata": {
    "collapsed": false,
    "pycharm": {
     "name": "#%%\n"
    }
   }
  },
  {
   "cell_type": "code",
   "execution_count": 130,
   "outputs": [
    {
     "ename": "ValueError",
     "evalue": "could not convert string to float: 'aromatic basmati rice  rice cooker'",
     "output_type": "error",
     "traceback": [
      "\u001B[1;31m---------------------------------------------------------------------------\u001B[0m",
      "\u001B[1;31mValueError\u001B[0m                                Traceback (most recent call last)",
      "Cell \u001B[1;32mIn [130], line 2\u001B[0m\n\u001B[0;32m      1\u001B[0m tree_clf \u001B[38;5;241m=\u001B[39m DecisionTreeClassifier(criterion\u001B[38;5;241m=\u001B[39m\u001B[38;5;124m'\u001B[39m\u001B[38;5;124mentropy\u001B[39m\u001B[38;5;124m'\u001B[39m, max_depth\u001B[38;5;241m=\u001B[39m\u001B[38;5;241m2\u001B[39m, min_samples_split\u001B[38;5;241m=\u001B[39m\u001B[38;5;241m2\u001B[39m, random_state \u001B[38;5;241m=\u001B[39m \u001B[38;5;241m42\u001B[39m)\n\u001B[1;32m----> 2\u001B[0m tree_clf\u001B[38;5;241m.\u001B[39mfit(xChoice,yChoice)\n\u001B[0;32m      4\u001B[0m tree\u001B[38;5;241m.\u001B[39mplot_tree(tree_clf)\n",
      "File \u001B[1;32m~\\PycharmProjects\\IndividualProject\\venv\\lib\\site-packages\\sklearn\\tree\\_classes.py:969\u001B[0m, in \u001B[0;36mDecisionTreeClassifier.fit\u001B[1;34m(self, X, y, sample_weight, check_input)\u001B[0m\n\u001B[0;32m    939\u001B[0m \u001B[38;5;28;01mdef\u001B[39;00m \u001B[38;5;21mfit\u001B[39m(\u001B[38;5;28mself\u001B[39m, X, y, sample_weight\u001B[38;5;241m=\u001B[39m\u001B[38;5;28;01mNone\u001B[39;00m, check_input\u001B[38;5;241m=\u001B[39m\u001B[38;5;28;01mTrue\u001B[39;00m):\n\u001B[0;32m    940\u001B[0m     \u001B[38;5;124;03m\"\"\"Build a decision tree classifier from the training set (X, y).\u001B[39;00m\n\u001B[0;32m    941\u001B[0m \n\u001B[0;32m    942\u001B[0m \u001B[38;5;124;03m    Parameters\u001B[39;00m\n\u001B[1;32m   (...)\u001B[0m\n\u001B[0;32m    966\u001B[0m \u001B[38;5;124;03m        Fitted estimator.\u001B[39;00m\n\u001B[0;32m    967\u001B[0m \u001B[38;5;124;03m    \"\"\"\u001B[39;00m\n\u001B[1;32m--> 969\u001B[0m     \u001B[38;5;28;43msuper\u001B[39;49m\u001B[43m(\u001B[49m\u001B[43m)\u001B[49m\u001B[38;5;241;43m.\u001B[39;49m\u001B[43mfit\u001B[49m\u001B[43m(\u001B[49m\n\u001B[0;32m    970\u001B[0m \u001B[43m        \u001B[49m\u001B[43mX\u001B[49m\u001B[43m,\u001B[49m\n\u001B[0;32m    971\u001B[0m \u001B[43m        \u001B[49m\u001B[43my\u001B[49m\u001B[43m,\u001B[49m\n\u001B[0;32m    972\u001B[0m \u001B[43m        \u001B[49m\u001B[43msample_weight\u001B[49m\u001B[38;5;241;43m=\u001B[39;49m\u001B[43msample_weight\u001B[49m\u001B[43m,\u001B[49m\n\u001B[0;32m    973\u001B[0m \u001B[43m        \u001B[49m\u001B[43mcheck_input\u001B[49m\u001B[38;5;241;43m=\u001B[39;49m\u001B[43mcheck_input\u001B[49m\u001B[43m,\u001B[49m\n\u001B[0;32m    974\u001B[0m \u001B[43m    \u001B[49m\u001B[43m)\u001B[49m\n\u001B[0;32m    975\u001B[0m     \u001B[38;5;28;01mreturn\u001B[39;00m \u001B[38;5;28mself\u001B[39m\n",
      "File \u001B[1;32m~\\PycharmProjects\\IndividualProject\\venv\\lib\\site-packages\\sklearn\\tree\\_classes.py:172\u001B[0m, in \u001B[0;36mBaseDecisionTree.fit\u001B[1;34m(self, X, y, sample_weight, check_input)\u001B[0m\n\u001B[0;32m    170\u001B[0m check_X_params \u001B[38;5;241m=\u001B[39m \u001B[38;5;28mdict\u001B[39m(dtype\u001B[38;5;241m=\u001B[39mDTYPE, accept_sparse\u001B[38;5;241m=\u001B[39m\u001B[38;5;124m\"\u001B[39m\u001B[38;5;124mcsc\u001B[39m\u001B[38;5;124m\"\u001B[39m)\n\u001B[0;32m    171\u001B[0m check_y_params \u001B[38;5;241m=\u001B[39m \u001B[38;5;28mdict\u001B[39m(ensure_2d\u001B[38;5;241m=\u001B[39m\u001B[38;5;28;01mFalse\u001B[39;00m, dtype\u001B[38;5;241m=\u001B[39m\u001B[38;5;28;01mNone\u001B[39;00m)\n\u001B[1;32m--> 172\u001B[0m X, y \u001B[38;5;241m=\u001B[39m \u001B[38;5;28;43mself\u001B[39;49m\u001B[38;5;241;43m.\u001B[39;49m\u001B[43m_validate_data\u001B[49m\u001B[43m(\u001B[49m\n\u001B[0;32m    173\u001B[0m \u001B[43m    \u001B[49m\u001B[43mX\u001B[49m\u001B[43m,\u001B[49m\u001B[43m \u001B[49m\u001B[43my\u001B[49m\u001B[43m,\u001B[49m\u001B[43m \u001B[49m\u001B[43mvalidate_separately\u001B[49m\u001B[38;5;241;43m=\u001B[39;49m\u001B[43m(\u001B[49m\u001B[43mcheck_X_params\u001B[49m\u001B[43m,\u001B[49m\u001B[43m \u001B[49m\u001B[43mcheck_y_params\u001B[49m\u001B[43m)\u001B[49m\n\u001B[0;32m    174\u001B[0m \u001B[43m\u001B[49m\u001B[43m)\u001B[49m\n\u001B[0;32m    175\u001B[0m \u001B[38;5;28;01mif\u001B[39;00m issparse(X):\n\u001B[0;32m    176\u001B[0m     X\u001B[38;5;241m.\u001B[39msort_indices()\n",
      "File \u001B[1;32m~\\PycharmProjects\\IndividualProject\\venv\\lib\\site-packages\\sklearn\\base.py:591\u001B[0m, in \u001B[0;36mBaseEstimator._validate_data\u001B[1;34m(self, X, y, reset, validate_separately, **check_params)\u001B[0m\n\u001B[0;32m    589\u001B[0m \u001B[38;5;28;01mif\u001B[39;00m \u001B[38;5;124m\"\u001B[39m\u001B[38;5;124mestimator\u001B[39m\u001B[38;5;124m\"\u001B[39m \u001B[38;5;129;01mnot\u001B[39;00m \u001B[38;5;129;01min\u001B[39;00m check_X_params:\n\u001B[0;32m    590\u001B[0m     check_X_params \u001B[38;5;241m=\u001B[39m {\u001B[38;5;241m*\u001B[39m\u001B[38;5;241m*\u001B[39mdefault_check_params, \u001B[38;5;241m*\u001B[39m\u001B[38;5;241m*\u001B[39mcheck_X_params}\n\u001B[1;32m--> 591\u001B[0m X \u001B[38;5;241m=\u001B[39m check_array(X, input_name\u001B[38;5;241m=\u001B[39m\u001B[38;5;124m\"\u001B[39m\u001B[38;5;124mX\u001B[39m\u001B[38;5;124m\"\u001B[39m, \u001B[38;5;241m*\u001B[39m\u001B[38;5;241m*\u001B[39mcheck_X_params)\n\u001B[0;32m    592\u001B[0m \u001B[38;5;28;01mif\u001B[39;00m \u001B[38;5;124m\"\u001B[39m\u001B[38;5;124mestimator\u001B[39m\u001B[38;5;124m\"\u001B[39m \u001B[38;5;129;01mnot\u001B[39;00m \u001B[38;5;129;01min\u001B[39;00m check_y_params:\n\u001B[0;32m    593\u001B[0m     check_y_params \u001B[38;5;241m=\u001B[39m {\u001B[38;5;241m*\u001B[39m\u001B[38;5;241m*\u001B[39mdefault_check_params, \u001B[38;5;241m*\u001B[39m\u001B[38;5;241m*\u001B[39mcheck_y_params}\n",
      "File \u001B[1;32m~\\PycharmProjects\\IndividualProject\\venv\\lib\\site-packages\\sklearn\\utils\\validation.py:856\u001B[0m, in \u001B[0;36mcheck_array\u001B[1;34m(array, accept_sparse, accept_large_sparse, dtype, order, copy, force_all_finite, ensure_2d, allow_nd, ensure_min_samples, ensure_min_features, estimator, input_name)\u001B[0m\n\u001B[0;32m    854\u001B[0m         array \u001B[38;5;241m=\u001B[39m array\u001B[38;5;241m.\u001B[39mastype(dtype, casting\u001B[38;5;241m=\u001B[39m\u001B[38;5;124m\"\u001B[39m\u001B[38;5;124munsafe\u001B[39m\u001B[38;5;124m\"\u001B[39m, copy\u001B[38;5;241m=\u001B[39m\u001B[38;5;28;01mFalse\u001B[39;00m)\n\u001B[0;32m    855\u001B[0m     \u001B[38;5;28;01melse\u001B[39;00m:\n\u001B[1;32m--> 856\u001B[0m         array \u001B[38;5;241m=\u001B[39m \u001B[43mnp\u001B[49m\u001B[38;5;241;43m.\u001B[39;49m\u001B[43masarray\u001B[49m\u001B[43m(\u001B[49m\u001B[43marray\u001B[49m\u001B[43m,\u001B[49m\u001B[43m \u001B[49m\u001B[43morder\u001B[49m\u001B[38;5;241;43m=\u001B[39;49m\u001B[43morder\u001B[49m\u001B[43m,\u001B[49m\u001B[43m \u001B[49m\u001B[43mdtype\u001B[49m\u001B[38;5;241;43m=\u001B[39;49m\u001B[43mdtype\u001B[49m\u001B[43m)\u001B[49m\n\u001B[0;32m    857\u001B[0m \u001B[38;5;28;01mexcept\u001B[39;00m ComplexWarning \u001B[38;5;28;01mas\u001B[39;00m complex_warning:\n\u001B[0;32m    858\u001B[0m     \u001B[38;5;28;01mraise\u001B[39;00m \u001B[38;5;167;01mValueError\u001B[39;00m(\n\u001B[0;32m    859\u001B[0m         \u001B[38;5;124m\"\u001B[39m\u001B[38;5;124mComplex data not supported\u001B[39m\u001B[38;5;130;01m\\n\u001B[39;00m\u001B[38;5;132;01m{}\u001B[39;00m\u001B[38;5;130;01m\\n\u001B[39;00m\u001B[38;5;124m\"\u001B[39m\u001B[38;5;241m.\u001B[39mformat(array)\n\u001B[0;32m    860\u001B[0m     ) \u001B[38;5;28;01mfrom\u001B[39;00m \u001B[38;5;21;01mcomplex_warning\u001B[39;00m\n",
      "File \u001B[1;32m~\\PycharmProjects\\IndividualProject\\venv\\lib\\site-packages\\pandas\\core\\generic.py:2069\u001B[0m, in \u001B[0;36mNDFrame.__array__\u001B[1;34m(self, dtype)\u001B[0m\n\u001B[0;32m   2068\u001B[0m \u001B[38;5;28;01mdef\u001B[39;00m \u001B[38;5;21m__array__\u001B[39m(\u001B[38;5;28mself\u001B[39m, dtype: npt\u001B[38;5;241m.\u001B[39mDTypeLike \u001B[38;5;241m|\u001B[39m \u001B[38;5;28;01mNone\u001B[39;00m \u001B[38;5;241m=\u001B[39m \u001B[38;5;28;01mNone\u001B[39;00m) \u001B[38;5;241m-\u001B[39m\u001B[38;5;241m>\u001B[39m np\u001B[38;5;241m.\u001B[39mndarray:\n\u001B[1;32m-> 2069\u001B[0m     \u001B[38;5;28;01mreturn\u001B[39;00m \u001B[43mnp\u001B[49m\u001B[38;5;241;43m.\u001B[39;49m\u001B[43masarray\u001B[49m\u001B[43m(\u001B[49m\u001B[38;5;28;43mself\u001B[39;49m\u001B[38;5;241;43m.\u001B[39;49m\u001B[43m_values\u001B[49m\u001B[43m,\u001B[49m\u001B[43m \u001B[49m\u001B[43mdtype\u001B[49m\u001B[38;5;241;43m=\u001B[39;49m\u001B[43mdtype\u001B[49m\u001B[43m)\u001B[49m\n",
      "\u001B[1;31mValueError\u001B[0m: could not convert string to float: 'aromatic basmati rice  rice cooker'"
     ]
    }
   ],
   "source": [
    "tree_clf = DecisionTreeClassifier(criterion='entropy', max_depth=2, min_samples_split=2, random_state = 42)\n",
    "tree_clf.fit(xChoice,yChoice)\n",
    "\n",
    "tree.plot_tree(tree_clf);"
   ],
   "metadata": {
    "collapsed": false,
    "pycharm": {
     "name": "#%%\n"
    }
   }
  },
  {
   "cell_type": "markdown",
   "source": [
    "Make the recipe recommender based on methods strings"
   ],
   "metadata": {
    "collapsed": false,
    "pycharm": {
     "name": "#%% md\n"
    }
   }
  },
  {
   "cell_type": "code",
   "execution_count": null,
   "outputs": [],
   "source": [
    "wantedIngredients = ['lettuce','tomato']\n",
    "wantedIngredients = 'lettuce'\n",
    "# RAW_recipesdb=food_df.drop(['id','ingredients',''],axis=1)\n",
    "# testRegex = food_df[food_df.ingredients.str.contains('lettuce|tomato')]\n",
    "regexTestString = \"r'(?=.*\"+ wantedIngredients +\")'\"\n",
    "testRegex = food_df[food_df.ingredients.str.contains(r'(?=.*lettuce)(?=.*tomato)',regex=True)]\n",
    "\n",
    "def reccomendRecipes():\n",
    "    tempMatchRecipes = []\n",
    "    # for recipe in food_df.ingredients:\n",
    "    regexString = '((?i)lettuce(?-i))*'\n",
    "    # pokemon_og_games = food_df.loc[food_df['ingredients'].str.contains(\"((?i)[lettuce](?-i))\", case=False)]\n",
    "    LocateInTextWantedString = food_df.loc[food_df['ingredients'].str.contains('lettuce', regex=True)]\n",
    "    # tempMatchRecipes.append(food_df.ingredients.isin(arrayOfIngredients).count)\n",
    "    tempMatchRecipes.append(LocateInTextWantedString)\n",
    "    return tempMatchRecipes\n",
    "\n",
    "testRegex.head(10)\n",
    "\n",
    "# Get recipes with their average rating that is below what I wante\n",
    "testEmpty = food_df.where(food_df['average_rating'] == 0).dropna()\n",
    "testEmpty"
   ],
   "metadata": {
    "collapsed": false,
    "pycharm": {
     "name": "#%%\n"
    }
   }
  },
  {
   "cell_type": "code",
   "execution_count": 131,
   "outputs": [
    {
     "name": "stdout",
     "output_type": "stream",
     "text": [
      "count    178265.000000\n",
      "mean          5.245674\n",
      "std          18.716588\n",
      "min           1.000000\n",
      "25%           1.000000\n",
      "50%           2.000000\n",
      "75%           5.000000\n",
      "max        1613.000000\n",
      "Name: votes, dtype: float64\n"
     ]
    },
    {
     "data": {
      "text/plain": "count    178265.000000\nmean          4.405126\nstd           0.850515\nmin           0.000000\n25%           4.000000\n50%           4.666667\n75%           5.000000\nmax           5.000000\nName: average_rating, dtype: float64"
     },
     "execution_count": 131,
     "metadata": {},
     "output_type": "execute_result"
    }
   ],
   "source": [
    "\n",
    "# Describing the totalRatingCount column statistically\n",
    "# pd.set_option('display.float_format', lambda x: '%.3f' %x)\n",
    "print(food_df['votes'].describe())\n",
    "food_df['average_rating'].describe()"
   ],
   "metadata": {
    "collapsed": false,
    "pycharm": {
     "name": "#%%\n"
    }
   }
  },
  {
   "cell_type": "code",
   "execution_count": null,
   "outputs": [],
   "source": [
    "# Regex AND\n",
    "testRegex = food_df[food_df.ingredients.str.contains(r'(?=.*lettuce)(?=.*tomato)',regex=True)]"
   ],
   "metadata": {
    "collapsed": false,
    "pycharm": {
     "name": "#%%\n"
    }
   }
  },
  {
   "cell_type": "code",
   "execution_count": 139,
   "outputs": [
    {
     "data": {
      "text/plain": "(22218, 2)"
     },
     "execution_count": 139,
     "metadata": {},
     "output_type": "execute_result"
    }
   ],
   "source": [
    "#How frequently recipes show up\n",
    "# newRatingSet=RAW_interactions.groupby(['recipe_id'])['rating'].agg(['mean','count'])\n",
    "# UniqueSet = food_df.groupby(by=['contributor_id'])['id'].count().sort_values(ascending=False)\n",
    "UniqueSet = food_df.groupby(['contributor_id'])['id'].agg(['count'])\n",
    "# UniqueSet.\n",
    "#(index={0:\"IdCount\"})\n",
    "# UniqueSet.head(20)\n",
    "\n",
    "UniqueSet.reset_index(inplace=True)\n",
    "\n",
    "\n",
    "#Rename columns\n",
    "# UniqueSet.rename(columns={'mean':'average_rating','count':'votes'},inplace=True)\n",
    "# UniqueSet.head(10)\n",
    "UniqueSet.shape\n",
    "# UniqueSet['contributor_id']"
   ],
   "metadata": {
    "collapsed": false,
    "pycharm": {
     "name": "#%%\n"
    }
   }
  },
  {
   "cell_type": "code",
   "execution_count": 138,
   "outputs": [
    {
     "ename": "NameError",
     "evalue": "name 'UniqueSet' is not defined",
     "output_type": "error",
     "traceback": [
      "\u001B[1;31m---------------------------------------------------------------------------\u001B[0m",
      "\u001B[1;31mNameError\u001B[0m                                 Traceback (most recent call last)",
      "Cell \u001B[1;32mIn [138], line 4\u001B[0m\n\u001B[0;32m      1\u001B[0m \u001B[38;5;66;03m# Scatter on user activity\u001B[39;00m\n\u001B[0;32m      2\u001B[0m N \u001B[38;5;241m=\u001B[39m \u001B[38;5;241m27926\u001B[39m\n\u001B[1;32m----> 4\u001B[0m x \u001B[38;5;241m=\u001B[39m UniqueSet[\u001B[38;5;124m'\u001B[39m\u001B[38;5;124mcontributor_id\u001B[39m\u001B[38;5;124m'\u001B[39m]\n\u001B[0;32m      5\u001B[0m y \u001B[38;5;241m=\u001B[39m UniqueSet[\u001B[38;5;124m'\u001B[39m\u001B[38;5;124mcount\u001B[39m\u001B[38;5;124m'\u001B[39m]\n\u001B[0;32m      6\u001B[0m colors \u001B[38;5;241m=\u001B[39m np\u001B[38;5;241m.\u001B[39mrandom\u001B[38;5;241m.\u001B[39mrand(N)\n",
      "\u001B[1;31mNameError\u001B[0m: name 'UniqueSet' is not defined"
     ]
    }
   ],
   "source": [
    "# Scatter on user activity\n",
    "N = 27926\n",
    "\n",
    "x = UniqueSet['contributor_id']\n",
    "y = UniqueSet['count']\n",
    "colors = np.random.rand(N)\n",
    "area = (30 * np.random.rand(N))**2  # 0 to 15 point radii\n",
    "\n",
    "plt.scatter(x, y,s=area, alpha=0.5)\n",
    "plt.show()"
   ],
   "metadata": {
    "collapsed": false,
    "pycharm": {
     "name": "#%%\n"
    }
   }
  },
  {
   "cell_type": "code",
   "execution_count": null,
   "outputs": [],
   "source": [
    "#ingredient_ratingCount.hist(column = 'totalRatingCount', bins =50, figsize=(20,5))\n",
    "# fig, ax = plt.subplots(figsize=(17,8))\n",
    "# plt.axvline(x=50,ymax=0.95, c='red', label = 'Threshold (50)')\n",
    "#\n",
    "# # sns.histplot(ax=ax, data = movie_ratingCount['totalRatingCount'], log_scale=True);\n",
    "# plt.legend(fontsize=25);"
   ],
   "metadata": {
    "collapsed": false,
    "pycharm": {
     "name": "#%%\n"
    }
   }
  },
  {
   "cell_type": "code",
   "execution_count": null,
   "outputs": [],
   "source": [],
   "metadata": {
    "collapsed": false,
    "pycharm": {
     "name": "#%%\n"
    }
   }
  },
  {
   "cell_type": "code",
   "execution_count": 132,
   "outputs": [
    {
     "name": "stdout",
     "output_type": "stream",
     "text": [
      "The length of X_ratings: 178265\n",
      "The length of Y_votes: 178265\n"
     ]
    },
    {
     "ename": "ValueError",
     "evalue": "s must be a scalar, or float array-like with the same size as x and y",
     "output_type": "error",
     "traceback": [
      "\u001B[1;31m---------------------------------------------------------------------------\u001B[0m",
      "\u001B[1;31mValueError\u001B[0m                                Traceback (most recent call last)",
      "Cell \u001B[1;32mIn [132], line 15\u001B[0m\n\u001B[0;32m     13\u001B[0m area \u001B[38;5;241m=\u001B[39m (\u001B[38;5;241m30\u001B[39m \u001B[38;5;241m*\u001B[39m np\u001B[38;5;241m.\u001B[39mrandom\u001B[38;5;241m.\u001B[39mrand(\u001B[38;5;241m231637\u001B[39m))\u001B[38;5;241m*\u001B[39m\u001B[38;5;241m*\u001B[39m\u001B[38;5;241m2\u001B[39m  \u001B[38;5;66;03m# 0 to 15 point radii\u001B[39;00m\n\u001B[0;32m     14\u001B[0m colors \u001B[38;5;241m=\u001B[39m np\u001B[38;5;241m.\u001B[39mrandom\u001B[38;5;241m.\u001B[39mrand(\u001B[38;5;241m231637\u001B[39m)\n\u001B[1;32m---> 15\u001B[0m plt\u001B[38;5;241m.\u001B[39mscatter(x\u001B[38;5;241m=\u001B[39mxVal,y\u001B[38;5;241m=\u001B[39myVal,s\u001B[38;5;241m=\u001B[39marea, c\u001B[38;5;241m=\u001B[39mcolors,alpha\u001B[38;5;241m=\u001B[39m\u001B[38;5;241m0.5\u001B[39m,norm\u001B[38;5;241m=\u001B[39m\u001B[38;5;124m'\u001B[39m\u001B[38;5;124mlinear\u001B[39m\u001B[38;5;124m'\u001B[39m )\n\u001B[0;32m     16\u001B[0m plt\u001B[38;5;241m.\u001B[39mxlabel(\u001B[38;5;124m'\u001B[39m\u001B[38;5;124maverage_rating\u001B[39m\u001B[38;5;124m'\u001B[39m)\n\u001B[0;32m     17\u001B[0m plt\u001B[38;5;241m.\u001B[39mylabel(\u001B[38;5;124m'\u001B[39m\u001B[38;5;124mvotes\u001B[39m\u001B[38;5;124m'\u001B[39m)\n",
      "File \u001B[1;32m~\\PycharmProjects\\IndividualProject\\venv\\lib\\site-packages\\matplotlib\\pyplot.py:2778\u001B[0m, in \u001B[0;36mscatter\u001B[1;34m(x, y, s, c, marker, cmap, norm, vmin, vmax, alpha, linewidths, edgecolors, plotnonfinite, data, **kwargs)\u001B[0m\n\u001B[0;32m   2773\u001B[0m \u001B[38;5;129m@_copy_docstring_and_deprecators\u001B[39m(Axes\u001B[38;5;241m.\u001B[39mscatter)\n\u001B[0;32m   2774\u001B[0m \u001B[38;5;28;01mdef\u001B[39;00m \u001B[38;5;21mscatter\u001B[39m(\n\u001B[0;32m   2775\u001B[0m         x, y, s\u001B[38;5;241m=\u001B[39m\u001B[38;5;28;01mNone\u001B[39;00m, c\u001B[38;5;241m=\u001B[39m\u001B[38;5;28;01mNone\u001B[39;00m, marker\u001B[38;5;241m=\u001B[39m\u001B[38;5;28;01mNone\u001B[39;00m, cmap\u001B[38;5;241m=\u001B[39m\u001B[38;5;28;01mNone\u001B[39;00m, norm\u001B[38;5;241m=\u001B[39m\u001B[38;5;28;01mNone\u001B[39;00m,\n\u001B[0;32m   2776\u001B[0m         vmin\u001B[38;5;241m=\u001B[39m\u001B[38;5;28;01mNone\u001B[39;00m, vmax\u001B[38;5;241m=\u001B[39m\u001B[38;5;28;01mNone\u001B[39;00m, alpha\u001B[38;5;241m=\u001B[39m\u001B[38;5;28;01mNone\u001B[39;00m, linewidths\u001B[38;5;241m=\u001B[39m\u001B[38;5;28;01mNone\u001B[39;00m, \u001B[38;5;241m*\u001B[39m,\n\u001B[0;32m   2777\u001B[0m         edgecolors\u001B[38;5;241m=\u001B[39m\u001B[38;5;28;01mNone\u001B[39;00m, plotnonfinite\u001B[38;5;241m=\u001B[39m\u001B[38;5;28;01mFalse\u001B[39;00m, data\u001B[38;5;241m=\u001B[39m\u001B[38;5;28;01mNone\u001B[39;00m, \u001B[38;5;241m*\u001B[39m\u001B[38;5;241m*\u001B[39mkwargs):\n\u001B[1;32m-> 2778\u001B[0m     __ret \u001B[38;5;241m=\u001B[39m gca()\u001B[38;5;241m.\u001B[39mscatter(\n\u001B[0;32m   2779\u001B[0m         x, y, s\u001B[38;5;241m=\u001B[39ms, c\u001B[38;5;241m=\u001B[39mc, marker\u001B[38;5;241m=\u001B[39mmarker, cmap\u001B[38;5;241m=\u001B[39mcmap, norm\u001B[38;5;241m=\u001B[39mnorm,\n\u001B[0;32m   2780\u001B[0m         vmin\u001B[38;5;241m=\u001B[39mvmin, vmax\u001B[38;5;241m=\u001B[39mvmax, alpha\u001B[38;5;241m=\u001B[39malpha, linewidths\u001B[38;5;241m=\u001B[39mlinewidths,\n\u001B[0;32m   2781\u001B[0m         edgecolors\u001B[38;5;241m=\u001B[39medgecolors, plotnonfinite\u001B[38;5;241m=\u001B[39mplotnonfinite,\n\u001B[0;32m   2782\u001B[0m         \u001B[38;5;241m*\u001B[39m\u001B[38;5;241m*\u001B[39m({\u001B[38;5;124m\"\u001B[39m\u001B[38;5;124mdata\u001B[39m\u001B[38;5;124m\"\u001B[39m: data} \u001B[38;5;28;01mif\u001B[39;00m data \u001B[38;5;129;01mis\u001B[39;00m \u001B[38;5;129;01mnot\u001B[39;00m \u001B[38;5;28;01mNone\u001B[39;00m \u001B[38;5;28;01melse\u001B[39;00m {}), \u001B[38;5;241m*\u001B[39m\u001B[38;5;241m*\u001B[39mkwargs)\n\u001B[0;32m   2783\u001B[0m     sci(__ret)\n\u001B[0;32m   2784\u001B[0m     \u001B[38;5;28;01mreturn\u001B[39;00m __ret\n",
      "File \u001B[1;32m~\\PycharmProjects\\IndividualProject\\venv\\lib\\site-packages\\matplotlib\\__init__.py:1423\u001B[0m, in \u001B[0;36m_preprocess_data.<locals>.inner\u001B[1;34m(ax, data, *args, **kwargs)\u001B[0m\n\u001B[0;32m   1420\u001B[0m \u001B[38;5;129m@functools\u001B[39m\u001B[38;5;241m.\u001B[39mwraps(func)\n\u001B[0;32m   1421\u001B[0m \u001B[38;5;28;01mdef\u001B[39;00m \u001B[38;5;21minner\u001B[39m(ax, \u001B[38;5;241m*\u001B[39margs, data\u001B[38;5;241m=\u001B[39m\u001B[38;5;28;01mNone\u001B[39;00m, \u001B[38;5;241m*\u001B[39m\u001B[38;5;241m*\u001B[39mkwargs):\n\u001B[0;32m   1422\u001B[0m     \u001B[38;5;28;01mif\u001B[39;00m data \u001B[38;5;129;01mis\u001B[39;00m \u001B[38;5;28;01mNone\u001B[39;00m:\n\u001B[1;32m-> 1423\u001B[0m         \u001B[38;5;28;01mreturn\u001B[39;00m func(ax, \u001B[38;5;241m*\u001B[39m\u001B[38;5;28mmap\u001B[39m(sanitize_sequence, args), \u001B[38;5;241m*\u001B[39m\u001B[38;5;241m*\u001B[39mkwargs)\n\u001B[0;32m   1425\u001B[0m     bound \u001B[38;5;241m=\u001B[39m new_sig\u001B[38;5;241m.\u001B[39mbind(ax, \u001B[38;5;241m*\u001B[39margs, \u001B[38;5;241m*\u001B[39m\u001B[38;5;241m*\u001B[39mkwargs)\n\u001B[0;32m   1426\u001B[0m     auto_label \u001B[38;5;241m=\u001B[39m (bound\u001B[38;5;241m.\u001B[39marguments\u001B[38;5;241m.\u001B[39mget(label_namer)\n\u001B[0;32m   1427\u001B[0m                   \u001B[38;5;129;01mor\u001B[39;00m bound\u001B[38;5;241m.\u001B[39mkwargs\u001B[38;5;241m.\u001B[39mget(label_namer))\n",
      "File \u001B[1;32m~\\PycharmProjects\\IndividualProject\\venv\\lib\\site-packages\\matplotlib\\axes\\_axes.py:4521\u001B[0m, in \u001B[0;36mAxes.scatter\u001B[1;34m(self, x, y, s, c, marker, cmap, norm, vmin, vmax, alpha, linewidths, edgecolors, plotnonfinite, **kwargs)\u001B[0m\n\u001B[0;32m   4517\u001B[0m s \u001B[38;5;241m=\u001B[39m np\u001B[38;5;241m.\u001B[39mma\u001B[38;5;241m.\u001B[39mravel(s)\n\u001B[0;32m   4518\u001B[0m \u001B[38;5;28;01mif\u001B[39;00m (\u001B[38;5;28mlen\u001B[39m(s) \u001B[38;5;129;01mnot\u001B[39;00m \u001B[38;5;129;01min\u001B[39;00m (\u001B[38;5;241m1\u001B[39m, x\u001B[38;5;241m.\u001B[39msize) \u001B[38;5;129;01mor\u001B[39;00m\n\u001B[0;32m   4519\u001B[0m         (\u001B[38;5;129;01mnot\u001B[39;00m np\u001B[38;5;241m.\u001B[39missubdtype(s\u001B[38;5;241m.\u001B[39mdtype, np\u001B[38;5;241m.\u001B[39mfloating) \u001B[38;5;129;01mand\u001B[39;00m\n\u001B[0;32m   4520\u001B[0m          \u001B[38;5;129;01mnot\u001B[39;00m np\u001B[38;5;241m.\u001B[39missubdtype(s\u001B[38;5;241m.\u001B[39mdtype, np\u001B[38;5;241m.\u001B[39minteger))):\n\u001B[1;32m-> 4521\u001B[0m     \u001B[38;5;28;01mraise\u001B[39;00m \u001B[38;5;167;01mValueError\u001B[39;00m(\n\u001B[0;32m   4522\u001B[0m         \u001B[38;5;124m\"\u001B[39m\u001B[38;5;124ms must be a scalar, \u001B[39m\u001B[38;5;124m\"\u001B[39m\n\u001B[0;32m   4523\u001B[0m         \u001B[38;5;124m\"\u001B[39m\u001B[38;5;124mor float array-like with the same size as x and y\u001B[39m\u001B[38;5;124m\"\u001B[39m)\n\u001B[0;32m   4525\u001B[0m \u001B[38;5;66;03m# get the original edgecolor the user passed before we normalize\u001B[39;00m\n\u001B[0;32m   4526\u001B[0m orig_edgecolor \u001B[38;5;241m=\u001B[39m edgecolors\n",
      "\u001B[1;31mValueError\u001B[0m: s must be a scalar, or float array-like with the same size as x and y"
     ]
    },
    {
     "data": {
      "text/plain": "<Figure size 640x480 with 1 Axes>",
      "image/png": "[encoded data removed]"
     },
     "metadata": {},
     "output_type": "display_data"
    }
   ],
   "source": [
    "# # Plot section\n",
    "# xVal = pd.DataFrame(food_df['average_rating'])\n",
    "# yVal = pd.DataFrame(food_df[['votes']])\n",
    "#\n",
    "# # #Normalize\n",
    "# # scaler_votes = StandardScaler().fit(yVal)\n",
    "# # yVal = scaler_votes.transform(yVal)\n",
    "# # scaler_ids = StandardScaler().fit(xVal)\n",
    "# # xVal = scaler_ids.transform(xVal)\n",
    "# print('The length of X_ratings: {}'.format(len(xVal)))\n",
    "# print('The length of Y_votes: {}'.format(len(yVal)))\n",
    "#\n",
    "# area = (30 * np.random.rand(231637))**2  # 0 to 15 point radii\n",
    "# colors = np.random.rand(231637)\n",
    "# plt.scatter(x=xVal,y=yVal,s=area, c=colors,alpha=0.5,norm='linear' )\n",
    "# plt.xlabel('average_rating')\n",
    "# plt.ylabel('votes')\n",
    "# plt.show()"
   ],
   "metadata": {
    "collapsed": false,
    "pycharm": {
     "name": "#%%\n"
    }
   }
  },
  {
   "cell_type": "code",
   "execution_count": 134,
   "outputs": [],
   "source": [
    "# xValI = food_df['average_rating'].hist(bins=5)\n",
    "# yValI = food_df['votes']\n",
    "# plt.bar(xValI,yValI,width=0.4)\n",
    "#\n",
    "# plt.xlabel(\"average_rating\")\n",
    "# plt.ylabel(\"No. of votes\")\n",
    "# plt.title(\"How active is the user responses\")\n",
    "# plt.show()"
   ],
   "metadata": {
    "collapsed": false,
    "pycharm": {
     "name": "#%%\n"
    }
   }
  },
  {
   "cell_type": "code",
   "execution_count": 135,
   "outputs": [
    {
     "ename": "KeyError",
     "evalue": "'average'",
     "output_type": "error",
     "traceback": [
      "\u001B[1;31m---------------------------------------------------------------------------\u001B[0m",
      "\u001B[1;31mKeyError\u001B[0m                                  Traceback (most recent call last)",
      "File \u001B[1;32m~\\PycharmProjects\\IndividualProject\\venv\\lib\\site-packages\\pandas\\core\\indexes\\base.py:3800\u001B[0m, in \u001B[0;36mIndex.get_loc\u001B[1;34m(self, key, method, tolerance)\u001B[0m\n\u001B[0;32m   3799\u001B[0m \u001B[38;5;28;01mtry\u001B[39;00m:\n\u001B[1;32m-> 3800\u001B[0m     \u001B[38;5;28;01mreturn\u001B[39;00m \u001B[38;5;28;43mself\u001B[39;49m\u001B[38;5;241;43m.\u001B[39;49m\u001B[43m_engine\u001B[49m\u001B[38;5;241;43m.\u001B[39;49m\u001B[43mget_loc\u001B[49m\u001B[43m(\u001B[49m\u001B[43mcasted_key\u001B[49m\u001B[43m)\u001B[49m\n\u001B[0;32m   3801\u001B[0m \u001B[38;5;28;01mexcept\u001B[39;00m \u001B[38;5;167;01mKeyError\u001B[39;00m \u001B[38;5;28;01mas\u001B[39;00m err:\n",
      "File \u001B[1;32m~\\PycharmProjects\\IndividualProject\\venv\\lib\\site-packages\\pandas\\_libs\\index.pyx:138\u001B[0m, in \u001B[0;36mpandas._libs.index.IndexEngine.get_loc\u001B[1;34m()\u001B[0m\n",
      "File \u001B[1;32m~\\PycharmProjects\\IndividualProject\\venv\\lib\\site-packages\\pandas\\_libs\\index.pyx:165\u001B[0m, in \u001B[0;36mpandas._libs.index.IndexEngine.get_loc\u001B[1;34m()\u001B[0m\n",
      "File \u001B[1;32mpandas\\_libs\\hashtable_class_helper.pxi:5745\u001B[0m, in \u001B[0;36mpandas._libs.hashtable.PyObjectHashTable.get_item\u001B[1;34m()\u001B[0m\n",
      "File \u001B[1;32mpandas\\_libs\\hashtable_class_helper.pxi:5753\u001B[0m, in \u001B[0;36mpandas._libs.hashtable.PyObjectHashTable.get_item\u001B[1;34m()\u001B[0m\n",
      "\u001B[1;31mKeyError\u001B[0m: 'average'",
      "\nThe above exception was the direct cause of the following exception:\n",
      "\u001B[1;31mKeyError\u001B[0m                                  Traceback (most recent call last)",
      "Cell \u001B[1;32mIn [135], line 2\u001B[0m\n\u001B[0;32m      1\u001B[0m likeNames \u001B[38;5;241m=\u001B[39m \u001B[38;5;28mlist\u001B[39m(food_df[\u001B[38;5;124m'\u001B[39m\u001B[38;5;124mlike\u001B[39m\u001B[38;5;124m'\u001B[39m]\u001B[38;5;241m.\u001B[39mkeys())\n\u001B[1;32m----> 2\u001B[0m likeValues \u001B[38;5;241m=\u001B[39m \u001B[38;5;28mlist\u001B[39m(food_df[\u001B[38;5;124m'\u001B[39m\u001B[38;5;124maverage\u001B[39m\u001B[38;5;124m'\u001B[39m]\u001B[38;5;241m.\u001B[39mvalues())\n\u001B[0;32m      4\u001B[0m fig ,axs \u001B[38;5;241m=\u001B[39m plt\u001B[38;5;241m.\u001B[39msubplot(\u001B[38;5;241m1\u001B[39m,figsize\u001B[38;5;241m=\u001B[39m(\u001B[38;5;241m9\u001B[39m,\u001B[38;5;241m3\u001B[39m),sharey\u001B[38;5;241m=\u001B[39m\u001B[38;5;28;01mTrue\u001B[39;00m)\n\u001B[0;32m      5\u001B[0m axs[\u001B[38;5;241m1\u001B[39m]\u001B[38;5;241m.\u001B[39mscatter(likeNames,likeValues)\n",
      "File \u001B[1;32m~\\PycharmProjects\\IndividualProject\\venv\\lib\\site-packages\\pandas\\core\\frame.py:3805\u001B[0m, in \u001B[0;36mDataFrame.__getitem__\u001B[1;34m(self, key)\u001B[0m\n\u001B[0;32m   3803\u001B[0m \u001B[38;5;28;01mif\u001B[39;00m \u001B[38;5;28mself\u001B[39m\u001B[38;5;241m.\u001B[39mcolumns\u001B[38;5;241m.\u001B[39mnlevels \u001B[38;5;241m>\u001B[39m \u001B[38;5;241m1\u001B[39m:\n\u001B[0;32m   3804\u001B[0m     \u001B[38;5;28;01mreturn\u001B[39;00m \u001B[38;5;28mself\u001B[39m\u001B[38;5;241m.\u001B[39m_getitem_multilevel(key)\n\u001B[1;32m-> 3805\u001B[0m indexer \u001B[38;5;241m=\u001B[39m \u001B[38;5;28;43mself\u001B[39;49m\u001B[38;5;241;43m.\u001B[39;49m\u001B[43mcolumns\u001B[49m\u001B[38;5;241;43m.\u001B[39;49m\u001B[43mget_loc\u001B[49m\u001B[43m(\u001B[49m\u001B[43mkey\u001B[49m\u001B[43m)\u001B[49m\n\u001B[0;32m   3806\u001B[0m \u001B[38;5;28;01mif\u001B[39;00m is_integer(indexer):\n\u001B[0;32m   3807\u001B[0m     indexer \u001B[38;5;241m=\u001B[39m [indexer]\n",
      "File \u001B[1;32m~\\PycharmProjects\\IndividualProject\\venv\\lib\\site-packages\\pandas\\core\\indexes\\base.py:3802\u001B[0m, in \u001B[0;36mIndex.get_loc\u001B[1;34m(self, key, method, tolerance)\u001B[0m\n\u001B[0;32m   3800\u001B[0m     \u001B[38;5;28;01mreturn\u001B[39;00m \u001B[38;5;28mself\u001B[39m\u001B[38;5;241m.\u001B[39m_engine\u001B[38;5;241m.\u001B[39mget_loc(casted_key)\n\u001B[0;32m   3801\u001B[0m \u001B[38;5;28;01mexcept\u001B[39;00m \u001B[38;5;167;01mKeyError\u001B[39;00m \u001B[38;5;28;01mas\u001B[39;00m err:\n\u001B[1;32m-> 3802\u001B[0m     \u001B[38;5;28;01mraise\u001B[39;00m \u001B[38;5;167;01mKeyError\u001B[39;00m(key) \u001B[38;5;28;01mfrom\u001B[39;00m \u001B[38;5;21;01merr\u001B[39;00m\n\u001B[0;32m   3803\u001B[0m \u001B[38;5;28;01mexcept\u001B[39;00m \u001B[38;5;167;01mTypeError\u001B[39;00m:\n\u001B[0;32m   3804\u001B[0m     \u001B[38;5;66;03m# If we have a listlike key, _check_indexing_error will raise\u001B[39;00m\n\u001B[0;32m   3805\u001B[0m     \u001B[38;5;66;03m#  InvalidIndexError. Otherwise we fall through and re-raise\u001B[39;00m\n\u001B[0;32m   3806\u001B[0m     \u001B[38;5;66;03m#  the TypeError.\u001B[39;00m\n\u001B[0;32m   3807\u001B[0m     \u001B[38;5;28mself\u001B[39m\u001B[38;5;241m.\u001B[39m_check_indexing_error(key)\n",
      "\u001B[1;31mKeyError\u001B[0m: 'average'"
     ]
    }
   ],
   "source": [
    "likeNames = list(food_df['like'].keys())\n",
    "likeValues = list(food_df['average'].values())\n",
    "\n",
    "fig ,axs = plt.subplot(1,figsize=(9,3),sharey=True)\n",
    "axs[1].scatter(likeNames,likeValues)\n",
    "fig.subtitle(\"category\")\n",
    "# umap_fit = plt.colormaps()"
   ],
   "metadata": {
    "collapsed": false,
    "pycharm": {
     "name": "#%%\n"
    }
   }
  },
  {
   "cell_type": "code",
   "execution_count": 136,
   "outputs": [
    {
     "ename": "KeyError",
     "evalue": "\"None of [Index(['like', 'average_rating'], dtype='object')] are in the [index]\"",
     "output_type": "error",
     "traceback": [
      "\u001B[1;31m---------------------------------------------------------------------------\u001B[0m",
      "\u001B[1;31mKeyError\u001B[0m                                  Traceback (most recent call last)",
      "Cell \u001B[1;32mIn [136], line 5\u001B[0m\n\u001B[0;32m      3\u001B[0m ratingValue \u001B[38;5;241m=\u001B[39m food_df[\u001B[38;5;124m'\u001B[39m\u001B[38;5;124maverage_rating\u001B[39m\u001B[38;5;124m'\u001B[39m]\u001B[38;5;241m.\u001B[39mvalues\n\u001B[0;32m      4\u001B[0m voteValue \u001B[38;5;241m=\u001B[39m food_df[\u001B[38;5;124m'\u001B[39m\u001B[38;5;124mlike\u001B[39m\u001B[38;5;124m'\u001B[39m]\u001B[38;5;241m.\u001B[39mvalues\n\u001B[1;32m----> 5\u001B[0m voteValueCorr \u001B[38;5;241m=\u001B[39m newfoodPd[[\u001B[38;5;124m\"\u001B[39m\u001B[38;5;124mlike\u001B[39m\u001B[38;5;124m\"\u001B[39m,\u001B[38;5;124m\"\u001B[39m\u001B[38;5;124maverage_rating\u001B[39m\u001B[38;5;124m\"\u001B[39m]]\u001B[38;5;241m.\u001B[39mcorr()\n\u001B[0;32m      6\u001B[0m voteValueCorr\n",
      "File \u001B[1;32m~\\PycharmProjects\\IndividualProject\\venv\\lib\\site-packages\\pandas\\core\\series.py:1008\u001B[0m, in \u001B[0;36mSeries.__getitem__\u001B[1;34m(self, key)\u001B[0m\n\u001B[0;32m   1005\u001B[0m     key \u001B[38;5;241m=\u001B[39m np\u001B[38;5;241m.\u001B[39masarray(key, dtype\u001B[38;5;241m=\u001B[39m\u001B[38;5;28mbool\u001B[39m)\n\u001B[0;32m   1006\u001B[0m     \u001B[38;5;28;01mreturn\u001B[39;00m \u001B[38;5;28mself\u001B[39m\u001B[38;5;241m.\u001B[39m_get_values(key)\n\u001B[1;32m-> 1008\u001B[0m \u001B[38;5;28;01mreturn\u001B[39;00m \u001B[38;5;28;43mself\u001B[39;49m\u001B[38;5;241;43m.\u001B[39;49m\u001B[43m_get_with\u001B[49m\u001B[43m(\u001B[49m\u001B[43mkey\u001B[49m\u001B[43m)\u001B[49m\n",
      "File \u001B[1;32m~\\PycharmProjects\\IndividualProject\\venv\\lib\\site-packages\\pandas\\core\\series.py:1048\u001B[0m, in \u001B[0;36mSeries._get_with\u001B[1;34m(self, key)\u001B[0m\n\u001B[0;32m   1045\u001B[0m         \u001B[38;5;28;01mreturn\u001B[39;00m \u001B[38;5;28mself\u001B[39m\u001B[38;5;241m.\u001B[39miloc[key]\n\u001B[0;32m   1047\u001B[0m \u001B[38;5;66;03m# handle the dup indexing case GH#4246\u001B[39;00m\n\u001B[1;32m-> 1048\u001B[0m \u001B[38;5;28;01mreturn\u001B[39;00m \u001B[38;5;28;43mself\u001B[39;49m\u001B[38;5;241;43m.\u001B[39;49m\u001B[43mloc\u001B[49m\u001B[43m[\u001B[49m\u001B[43mkey\u001B[49m\u001B[43m]\u001B[49m\n",
      "File \u001B[1;32m~\\PycharmProjects\\IndividualProject\\venv\\lib\\site-packages\\pandas\\core\\indexing.py:1074\u001B[0m, in \u001B[0;36m_LocationIndexer.__getitem__\u001B[1;34m(self, key)\u001B[0m\n\u001B[0;32m   1071\u001B[0m axis \u001B[38;5;241m=\u001B[39m \u001B[38;5;28mself\u001B[39m\u001B[38;5;241m.\u001B[39maxis \u001B[38;5;129;01mor\u001B[39;00m \u001B[38;5;241m0\u001B[39m\n\u001B[0;32m   1073\u001B[0m maybe_callable \u001B[38;5;241m=\u001B[39m com\u001B[38;5;241m.\u001B[39mapply_if_callable(key, \u001B[38;5;28mself\u001B[39m\u001B[38;5;241m.\u001B[39mobj)\n\u001B[1;32m-> 1074\u001B[0m \u001B[38;5;28;01mreturn\u001B[39;00m \u001B[38;5;28;43mself\u001B[39;49m\u001B[38;5;241;43m.\u001B[39;49m\u001B[43m_getitem_axis\u001B[49m\u001B[43m(\u001B[49m\u001B[43mmaybe_callable\u001B[49m\u001B[43m,\u001B[49m\u001B[43m \u001B[49m\u001B[43maxis\u001B[49m\u001B[38;5;241;43m=\u001B[39;49m\u001B[43maxis\u001B[49m\u001B[43m)\u001B[49m\n",
      "File \u001B[1;32m~\\PycharmProjects\\IndividualProject\\venv\\lib\\site-packages\\pandas\\core\\indexing.py:1302\u001B[0m, in \u001B[0;36m_LocIndexer._getitem_axis\u001B[1;34m(self, key, axis)\u001B[0m\n\u001B[0;32m   1299\u001B[0m     \u001B[38;5;28;01mif\u001B[39;00m \u001B[38;5;28mhasattr\u001B[39m(key, \u001B[38;5;124m\"\u001B[39m\u001B[38;5;124mndim\u001B[39m\u001B[38;5;124m\"\u001B[39m) \u001B[38;5;129;01mand\u001B[39;00m key\u001B[38;5;241m.\u001B[39mndim \u001B[38;5;241m>\u001B[39m \u001B[38;5;241m1\u001B[39m:\n\u001B[0;32m   1300\u001B[0m         \u001B[38;5;28;01mraise\u001B[39;00m \u001B[38;5;167;01mValueError\u001B[39;00m(\u001B[38;5;124m\"\u001B[39m\u001B[38;5;124mCannot index with multidimensional key\u001B[39m\u001B[38;5;124m\"\u001B[39m)\n\u001B[1;32m-> 1302\u001B[0m     \u001B[38;5;28;01mreturn\u001B[39;00m \u001B[38;5;28;43mself\u001B[39;49m\u001B[38;5;241;43m.\u001B[39;49m\u001B[43m_getitem_iterable\u001B[49m\u001B[43m(\u001B[49m\u001B[43mkey\u001B[49m\u001B[43m,\u001B[49m\u001B[43m \u001B[49m\u001B[43maxis\u001B[49m\u001B[38;5;241;43m=\u001B[39;49m\u001B[43maxis\u001B[49m\u001B[43m)\u001B[49m\n\u001B[0;32m   1304\u001B[0m \u001B[38;5;66;03m# nested tuple slicing\u001B[39;00m\n\u001B[0;32m   1305\u001B[0m \u001B[38;5;28;01mif\u001B[39;00m is_nested_tuple(key, labels):\n",
      "File \u001B[1;32m~\\PycharmProjects\\IndividualProject\\venv\\lib\\site-packages\\pandas\\core\\indexing.py:1240\u001B[0m, in \u001B[0;36m_LocIndexer._getitem_iterable\u001B[1;34m(self, key, axis)\u001B[0m\n\u001B[0;32m   1237\u001B[0m \u001B[38;5;28mself\u001B[39m\u001B[38;5;241m.\u001B[39m_validate_key(key, axis)\n\u001B[0;32m   1239\u001B[0m \u001B[38;5;66;03m# A collection of keys\u001B[39;00m\n\u001B[1;32m-> 1240\u001B[0m keyarr, indexer \u001B[38;5;241m=\u001B[39m \u001B[38;5;28;43mself\u001B[39;49m\u001B[38;5;241;43m.\u001B[39;49m\u001B[43m_get_listlike_indexer\u001B[49m\u001B[43m(\u001B[49m\u001B[43mkey\u001B[49m\u001B[43m,\u001B[49m\u001B[43m \u001B[49m\u001B[43maxis\u001B[49m\u001B[43m)\u001B[49m\n\u001B[0;32m   1241\u001B[0m \u001B[38;5;28;01mreturn\u001B[39;00m \u001B[38;5;28mself\u001B[39m\u001B[38;5;241m.\u001B[39mobj\u001B[38;5;241m.\u001B[39m_reindex_with_indexers(\n\u001B[0;32m   1242\u001B[0m     {axis: [keyarr, indexer]}, copy\u001B[38;5;241m=\u001B[39m\u001B[38;5;28;01mTrue\u001B[39;00m, allow_dups\u001B[38;5;241m=\u001B[39m\u001B[38;5;28;01mTrue\u001B[39;00m\n\u001B[0;32m   1243\u001B[0m )\n",
      "File \u001B[1;32m~\\PycharmProjects\\IndividualProject\\venv\\lib\\site-packages\\pandas\\core\\indexing.py:1433\u001B[0m, in \u001B[0;36m_LocIndexer._get_listlike_indexer\u001B[1;34m(self, key, axis)\u001B[0m\n\u001B[0;32m   1430\u001B[0m ax \u001B[38;5;241m=\u001B[39m \u001B[38;5;28mself\u001B[39m\u001B[38;5;241m.\u001B[39mobj\u001B[38;5;241m.\u001B[39m_get_axis(axis)\n\u001B[0;32m   1431\u001B[0m axis_name \u001B[38;5;241m=\u001B[39m \u001B[38;5;28mself\u001B[39m\u001B[38;5;241m.\u001B[39mobj\u001B[38;5;241m.\u001B[39m_get_axis_name(axis)\n\u001B[1;32m-> 1433\u001B[0m keyarr, indexer \u001B[38;5;241m=\u001B[39m \u001B[43max\u001B[49m\u001B[38;5;241;43m.\u001B[39;49m\u001B[43m_get_indexer_strict\u001B[49m\u001B[43m(\u001B[49m\u001B[43mkey\u001B[49m\u001B[43m,\u001B[49m\u001B[43m \u001B[49m\u001B[43maxis_name\u001B[49m\u001B[43m)\u001B[49m\n\u001B[0;32m   1435\u001B[0m \u001B[38;5;28;01mreturn\u001B[39;00m keyarr, indexer\n",
      "File \u001B[1;32m~\\PycharmProjects\\IndividualProject\\venv\\lib\\site-packages\\pandas\\core\\indexes\\base.py:6108\u001B[0m, in \u001B[0;36mIndex._get_indexer_strict\u001B[1;34m(self, key, axis_name)\u001B[0m\n\u001B[0;32m   6105\u001B[0m \u001B[38;5;28;01melse\u001B[39;00m:\n\u001B[0;32m   6106\u001B[0m     keyarr, indexer, new_indexer \u001B[38;5;241m=\u001B[39m \u001B[38;5;28mself\u001B[39m\u001B[38;5;241m.\u001B[39m_reindex_non_unique(keyarr)\n\u001B[1;32m-> 6108\u001B[0m \u001B[38;5;28;43mself\u001B[39;49m\u001B[38;5;241;43m.\u001B[39;49m\u001B[43m_raise_if_missing\u001B[49m\u001B[43m(\u001B[49m\u001B[43mkeyarr\u001B[49m\u001B[43m,\u001B[49m\u001B[43m \u001B[49m\u001B[43mindexer\u001B[49m\u001B[43m,\u001B[49m\u001B[43m \u001B[49m\u001B[43maxis_name\u001B[49m\u001B[43m)\u001B[49m\n\u001B[0;32m   6110\u001B[0m keyarr \u001B[38;5;241m=\u001B[39m \u001B[38;5;28mself\u001B[39m\u001B[38;5;241m.\u001B[39mtake(indexer)\n\u001B[0;32m   6111\u001B[0m \u001B[38;5;28;01mif\u001B[39;00m \u001B[38;5;28misinstance\u001B[39m(key, Index):\n\u001B[0;32m   6112\u001B[0m     \u001B[38;5;66;03m# GH 42790 - Preserve name from an Index\u001B[39;00m\n",
      "File \u001B[1;32m~\\PycharmProjects\\IndividualProject\\venv\\lib\\site-packages\\pandas\\core\\indexes\\base.py:6168\u001B[0m, in \u001B[0;36mIndex._raise_if_missing\u001B[1;34m(self, key, indexer, axis_name)\u001B[0m\n\u001B[0;32m   6166\u001B[0m     \u001B[38;5;28;01mif\u001B[39;00m use_interval_msg:\n\u001B[0;32m   6167\u001B[0m         key \u001B[38;5;241m=\u001B[39m \u001B[38;5;28mlist\u001B[39m(key)\n\u001B[1;32m-> 6168\u001B[0m     \u001B[38;5;28;01mraise\u001B[39;00m \u001B[38;5;167;01mKeyError\u001B[39;00m(\u001B[38;5;124mf\u001B[39m\u001B[38;5;124m\"\u001B[39m\u001B[38;5;124mNone of [\u001B[39m\u001B[38;5;132;01m{\u001B[39;00mkey\u001B[38;5;132;01m}\u001B[39;00m\u001B[38;5;124m] are in the [\u001B[39m\u001B[38;5;132;01m{\u001B[39;00maxis_name\u001B[38;5;132;01m}\u001B[39;00m\u001B[38;5;124m]\u001B[39m\u001B[38;5;124m\"\u001B[39m)\n\u001B[0;32m   6170\u001B[0m not_found \u001B[38;5;241m=\u001B[39m \u001B[38;5;28mlist\u001B[39m(ensure_index(key)[missing_mask\u001B[38;5;241m.\u001B[39mnonzero()[\u001B[38;5;241m0\u001B[39m]]\u001B[38;5;241m.\u001B[39munique())\n\u001B[0;32m   6171\u001B[0m \u001B[38;5;28;01mraise\u001B[39;00m \u001B[38;5;167;01mKeyError\u001B[39;00m(\u001B[38;5;124mf\u001B[39m\u001B[38;5;124m\"\u001B[39m\u001B[38;5;132;01m{\u001B[39;00mnot_found\u001B[38;5;132;01m}\u001B[39;00m\u001B[38;5;124m not in index\u001B[39m\u001B[38;5;124m\"\u001B[39m)\n",
      "\u001B[1;31mKeyError\u001B[0m: \"None of [Index(['like', 'average_rating'], dtype='object')] are in the [index]\""
     ]
    }
   ],
   "source": [
    "newfoodPd = food_df['average_rating']\n",
    "\n",
    "ratingValue = food_df['average_rating'].values\n",
    "voteValue = food_df['like'].values\n",
    "voteValueCorr = newfoodPd[[\"like\",\"average_rating\"]].corr()\n",
    "voteValueCorr"
   ],
   "metadata": {
    "collapsed": false,
    "pycharm": {
     "name": "#%%\n"
    }
   }
  },
  {
   "cell_type": "code",
   "execution_count": 137,
   "outputs": [],
   "source": [
    "#some kind of training(\n",
    "from sklearn.model_selection import train_test_split\n",
    "train, test = train_test_split(food_df, test_size = 0.2)\n",
    "train_features = train[['name','ingredients','average_rating','ingredient_ids','votes','like']]\n",
    "\n"
   ],
   "metadata": {
    "collapsed": false,
    "pycharm": {
     "name": "#%%\n"
    }
   }
  },
  {
   "cell_type": "code",
   "execution_count": null,
   "outputs": [],
   "source": [
    "train_features"
   ],
   "metadata": {
    "collapsed": false,
    "pycharm": {
     "name": "#%%\n"
    }
   }
  },
  {
   "cell_type": "code",
   "execution_count": null,
   "outputs": [],
   "source": [
    "#content based filtering\n",
    "from sklearn.metrics.pairwise import linear_kernel\n",
    "# TestTrain = food_df\n",
    "# TestTrain['soup'] = 0\n",
    "# TestTrain['soup'] = \"0\"\n",
    "\n",
    "# train_features = train[['name','ingredients','average_rating','votes','like']]\n",
    "\n",
    "# def create_soup():\n",
    "#     return ''.join(TestTrain['ingredients']),''+''.join(TestTrain['steps'])\n",
    "\n",
    "# TestTrain['soup'] = TestTrain.apply(create_soup,axis=1)\n",
    "# TF-IDF Vectorizer\n",
    "# tfidf = TfidfVectorizer(stop_words='english')\n",
    "# tfidf_matrix = tfidf.fit_transform(TestTrain['soup'])\n",
    "# tfidf_matrix.shape\n"
   ],
   "metadata": {
    "collapsed": false,
    "pycharm": {
     "name": "#%%\n"
    }
   }
  },
  {
   "cell_type": "code",
   "execution_count": null,
   "outputs": [],
   "source": [],
   "metadata": {
    "collapsed": false,
    "pycharm": {
     "name": "#%%\n"
    }
   }
  },
  {
   "cell_type": "code",
   "execution_count": null,
   "outputs": [],
   "source": [
    "newfoodPd = recipesLikesDislikes['average_rating']\n",
    "f, ax = plt.subplots(figsize=(20, 10))\n",
    "corr = recipesLikesDislikes[['like','average_rating']].corr()\n",
    "sns.heatmap(corr, annot=True,\n",
    "    cmap=sns.diverging_palette(220, 10, as_cmap=True),\n",
    "    vmin=-1.0, vmax=1.0,\n",
    "    square=True, ax=ax)\n",
    "plt.show()"
   ],
   "metadata": {
    "collapsed": false,
    "pycharm": {
     "name": "#%%\n"
    }
   }
  },
  {
   "cell_type": "code",
   "execution_count": null,
   "outputs": [],
   "source": [
    "#Box plot\n",
    "\n",
    "# box_features = tuple(food_df.columns[['votes','contributor_id']].values)\n",
    "smt = food_df.groupby(by='contributor_id')['recipe_id'].count()\n",
    "smt.rename(columns={'recipe_id':'interactivity'},inplace=True)\n",
    "smt.head(20)\n",
    "\n",
    "\n",
    "\n",
    "# UniqueSet = df_mapping.groupby(by=['replaced'])['id'].count().sort_values(ascending=False)\n",
    "#recipeMapDataSetFormated.boxplot(column=iris_features, by='replaced', figsize=(15,8), layout=(1,4));"
   ],
   "metadata": {
    "collapsed": false,
    "pycharm": {
     "name": "#%%\n"
    }
   }
  },
  {
   "cell_type": "code",
   "execution_count": null,
   "outputs": [],
   "source": [
    "recipesLikesDislikes['rec_tags'] = recipesLikesDislikes['ingredients']+recipesLikesDislikes['description']+recipesLikesDislikes['steps']"
   ],
   "metadata": {
    "collapsed": false,
    "pycharm": {
     "name": "#%%\n"
    }
   }
  },
  {
   "cell_type": "code",
   "execution_count": null,
   "outputs": [],
   "source": [
    "# recipesLikesDislikes['rec_tags'] = recipesLikesDislikes['rec_tags'].apply(lambda x:[i.replace(\" \",\"\") for i in x])"
   ],
   "metadata": {
    "collapsed": false,
    "pycharm": {
     "name": "#%%\n"
    }
   }
  },
  {
   "cell_type": "code",
   "execution_count": null,
   "outputs": [],
   "source": [],
   "metadata": {
    "collapsed": false,
    "pycharm": {
     "name": "#%%\n"
    }
   }
  },
  {
   "cell_type": "code",
   "execution_count": null,
   "outputs": [],
   "source": [
    "# import pandas as pd\n",
    "# import numpy as np\n",
    "# from sklearn.feature_extraction.text import CountVectorizer\n",
    "\n",
    "###### helper functions. Use them when needed #######\n",
    "def get_title_from_index(index):\n",
    "\treturn df[df.index == index][\"title\"].values[0]\n",
    "\n",
    "def get_index_from_title(title):\n",
    "\treturn df[df.title == title][\"index\"].values[0]\n",
    "##################################################\n",
    "\n",
    "##Step 1: Read CSV File\n",
    "# df = pd.read_csv(r\"./set/output.csv\").sample(1000)\n",
    "df = recipesLikesDislikes.sample(1000)\n",
    "#print df.columns\n",
    "##Step 2: Select Features\n",
    "\n",
    "features = ['name','ingredients','description']\n",
    "# features = ['name','ingredients','average_rating','votes','like']\n",
    "##Step 3: Create a column in DF which combines all selected features\n",
    "for feature in features:\n",
    "\tdf[feature] = df[feature].fillna('')\n",
    "\t# df[feature] = df[feature].apply(lambda x: str(x.str.lower())\n",
    "\n",
    "def combine_features(row):\n",
    "\ttry:\n",
    "\t\treturn row['name'] +\" \"+row['ingredients']+\" \"+row[\"average_rating\"]+\" \"+row[\"votes\"]+\" \"+row[\"like\"]\n",
    "\texcept:\n",
    "\t\tprint(\"Error:\", row)\n",
    "\n",
    "df[\"combined_features\"] = df.apply(combine_features,axis=1)\n",
    "\n",
    "# df[\"combined_features\"] = df.apply(lambda x: x.astype(str).str.upper())\n",
    "\n",
    "#print \"Combined Features:\", df[\"combined_features\"].head()\n",
    "\n",
    "##Step 4: Create count matrix from this new combined column\n",
    "cv = CountVectorizer()\n",
    "\n",
    "count_matrix = cv.fit_transform(df[\"combined_features\"])\n",
    "\n",
    "##Step 5: Compute the Cosine Similarity based on the count_matrix\n",
    "cosine_sim = cosine_similarity(count_matrix)\n",
    "ingredient_user_likes = \"cayenne\"\n",
    "\n",
    "## Step 6: Get index of this recipe from its likability\n",
    "ingredient_index = get_index_from_title(ingredient_user_likes)\n",
    "\n",
    "similar_recipes =  list(enumerate(cosine_sim[ingredient_index]))\n",
    "\n",
    "## Step 7: Get a list of similar recipes in descending order of similarity score\n",
    "sorted_similar_recipes = sorted(similar_recipes,key=lambda x:x[1],reverse=True)\n",
    "\n",
    "## Step 8: Print titles of first 50 movies\n",
    "def printRecommendation():\n",
    "    i=0\n",
    "    tempArr = []\n",
    "    for element in sorted_similar_recipes:\n",
    "            tempArr.append(get_title_from_index(element[0]))\n",
    "            i=i+1\n",
    "            if i>5:\n",
    "                break\n",
    "    return tempArr\n"
   ],
   "metadata": {
    "collapsed": false,
    "pycharm": {
     "name": "#%%\n"
    }
   }
  },
  {
   "cell_type": "code",
   "execution_count": null,
   "outputs": [],
   "source": [
    "df"
   ],
   "metadata": {
    "collapsed": false,
    "pycharm": {
     "name": "#%%\n"
    }
   }
  },
  {
   "cell_type": "code",
   "execution_count": null,
   "outputs": [],
   "source": [
    "tempArr = printRecommendation()\n",
    "tempArr"
   ],
   "metadata": {
    "collapsed": false,
    "pycharm": {
     "name": "#%%\n"
    }
   }
  },
  {
   "cell_type": "code",
   "execution_count": null,
   "outputs": [],
   "source": [
    "# pd.DataFrame(getTitles())"
   ],
   "metadata": {
    "collapsed": false,
    "pycharm": {
     "name": "#%%\n"
    }
   }
  },
  {
   "cell_type": "markdown",
   "source": [
    "# Output the dataset"
   ],
   "metadata": {
    "collapsed": false,
    "pycharm": {
     "name": "#%% md\n"
    }
   }
  },
  {
   "cell_type": "code",
   "execution_count": null,
   "outputs": [],
   "source": [
    "# Made an output for the data set that I could use it outside the workbook as a csv file [Meybe add path where it would save cuz for now its saving on top of project]\n",
    "def compressionToOutputCsv():\n",
    "    compresionThingie = dict(method='zip',\n",
    "                             archive_name='output.csv')\n",
    "    savedFile = Recipe_prep\n",
    "    savedFile.to_csv('recipePrep.zip',index=False,compression=compresionThingie)"
   ],
   "metadata": {
    "collapsed": false,
    "pycharm": {
     "name": "#%%\n"
    }
   }
  },
  {
   "cell_type": "code",
   "execution_count": null,
   "outputs": [],
   "source": [
    "# compressionToOutputCsv()"
   ],
   "metadata": {
    "collapsed": false,
    "pycharm": {
     "name": "#%%\n"
    }
   }
  }
 ],
 "metadata": {
  "kernelspec": {
   "display_name": "Python 3",
   "language": "python",
   "name": "python3"
  },
  "language_info": {
   "codemirror_mode": {
    "name": "ipython",
    "version": 2
   },
   "file_extension": ".py",
   "mimetype": "text/x-python",
   "name": "python",
   "nbconvert_exporter": "python",
   "pygments_lexer": "ipython2",
   "version": "2.7.6"
  }
 },
 "nbformat": 4,
 "nbformat_minor": 0
}