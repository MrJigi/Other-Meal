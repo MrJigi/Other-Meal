{
 "cells": [
  {
   "cell_type": "code",
   "execution_count": 1,
   "outputs": [
    {
     "name": "stdout",
     "output_type": "stream",
     "text": [
      "numpy version: 1.23.3\n",
      "pandas version: 1.5.0\n",
      "scikit-learn version: 1.1.2\n",
      "json version: 2.0.9\n",
      "matplotlib version: 3.6.0\n"
     ]
    }
   ],
   "source": [
    "import json.decoder\n",
    "\n",
    "import numpy as np\n",
    "import pandas as pd\n",
    "import sklearn as sk\n",
    "import json as json\n",
    "import matplotlib\n",
    "import pickle as pk\n",
    "import matplotlib.pyplot as plt\n",
    "from IPython.display import display\n",
    "\n",
    "print('numpy version:', np.__version__)\n",
    "print('pandas version:', pd.__version__)\n",
    "print('scikit-learn version:', sk.__version__)\n",
    "print('json version:', json.__version__)\n",
    "print('matplotlib version:', matplotlib.__version__)"
   ],
   "metadata": {
    "collapsed": false,
    "pycharm": {
     "name": "#%%\n"
    }
   }
  },
  {
   "cell_type": "code",
   "execution_count": null,
   "metadata": {
    "collapsed": true,
    "pycharm": {
     "name": "#%%\n"
    }
   },
   "outputs": [],
   "source": [
    "from sklearn.base import BaseEstimator, TransformerMixin\n",
    "from sklearn.feature_extraction.text import CountVectorizer\n",
    "\n",
    "def strToList(list_l, splitSymbol):\n",
    "    list_l = list_l.split(splitSymbol)\n",
    "    temp = list()\n",
    "    for l in list_l:\n",
    "        l = l.replace(\"[\",'').replace(\"]\",'').replace(\"'\", '').replace(\" \", '')\n",
    "        temp.append(l)\n",
    "    return temp\n",
    "\n",
    "class ingredientsToList(BaseEstimator, TransformerMixin):\n",
    "    def __init__(self, columns = []):\n",
    "        self.columns = columns\n",
    "    def fit(self, X):\n",
    "        return self\n",
    "    def transform(self, X):\n",
    "      for column in self.columns:\n",
    "        X[column] = X[column].apply(lambda x : strToList(x, ','))\n",
    "      return X\n",
    "\n",
    "class ingredientsToOneHot(BaseEstimator, TransformerMixin):\n",
    "    def __init__(self, columns = []):\n",
    "        self.columns = columns\n",
    "    def fit(self, X):\n",
    "        return self\n",
    "    def transform(self, X):\n",
    "        cv = CountVectorizer(analyzer=lambda x: x)\n",
    "        for column in self.columns:\n",
    "            test = cv.fit_transform(X[column].to_list())\n",
    "            test_columns = [x for x in cv.get_feature_names()]\n",
    "            X = X.join(pd.DataFrame(test.toarray(), columns = test_columns, index = X.index))\n",
    "            #X = X.join(pd.DataFrame(test.toarray(), index = X.index))\n",
    "        return X\n",
    "\n",
    "class nutritionDataIntoCol(BaseEstimator, TransformerMixin):\n",
    "    def fit(self, X):\n",
    "        return self\n",
    "\n",
    "    def transform(self, X):\n",
    "      nutrition_X = pd.DataFrame(X['nutrition'].to_list(), columns = ['calories', 'total fat', 'sugar_nutrition', 'sodium', 'protein', 'saturated fat', 'carbohydrates'], index = X.index)\n",
    "\n",
    "      nutrition_X_col = nutrition_X.columns\n",
    "      for col in nutrition_X_col:\n",
    "        nutrition_X[col] = nutrition_X[col].apply(lambda x: float(x))\n",
    "\n",
    "      X = X.join(nutrition_X)\n",
    "      return X\n",
    "\n",
    "class getFeatureColumns(BaseEstimator, TransformerMixin):\n",
    "    def fit(self, X):\n",
    "        return self\n",
    "    def transform(self, X):\n",
    "        col = list(X.columns)\n",
    "        for c in ['ingredients', 'nutrition', 'n_steps', 'n_ingredients']:\n",
    "            col.remove(c)\n",
    "        return X[col]"
   ]
  },
  {
   "cell_type": "markdown",
   "source": [],
   "metadata": {
    "collapsed": false,
    "pycharm": {
     "name": "#%% md\n"
    }
   }
  },
  {
   "cell_type": "code",
   "execution_count": null,
   "outputs": [],
   "source": [
    "from sklearn.pipeline import Pipeline\n",
    "\n",
    "pip = Pipeline([\n",
    "    ('ingredientsToList', ingredientsToList(columns = ['ingredients', 'nutrition'])),\n",
    "    ('ingredientToOneHotColumns', ingredientsToOneHot(columns = ['ingredients'])),\n",
    "    ('nutritionData', nutritionDataIntoCol()),\n",
    "    ('getFeatureColumns', getFeatureColumns())\n",
    "])\n",
    "all_withFeatures = pip.transform(train_test)\n",
    "all_withFeatures.head()\n"
   ],
   "metadata": {
    "collapsed": false,
    "pycharm": {
     "name": "#%%\n"
    }
   }
  },
  {
   "cell_type": "markdown",
   "source": [
    "Taking of rare ingredients"
   ],
   "metadata": {
    "collapsed": false,
    "pycharm": {
     "name": "#%% md\n"
    }
   }
  },
  {
   "cell_type": "code",
   "execution_count": null,
   "outputs": [],
   "source": [
    "col = list(all_withFeatures.columns)\n",
    "for column in ['rating', 'calories', 'total fat', 'sugar_nutrition', 'sodium', 'protein',\n",
    "       'saturated fat', 'carbohydrates']:\n",
    "    col.remove(column)\n",
    "sum_ingredients = pd.DataFrame(all_withFeatures[col].sum(axis = 0)/all_withFeatures.shape[0])\n",
    "\n",
    "sns.set(style = \"whitegrid\")\n",
    "ax = sns.boxenplot(x = sum_ingredients.values*100)\n",
    "ax.set_xticks(np.arange(0,10, 2))\n",
    "ax.set_xlabel('Number of time an ingredient was used')\n",
    "plt.show()\n",
    "\n",
    "sum_freq_ingred_index = list(sum_ingredients[sum_ingredients[0]>0.01].index)"
   ],
   "metadata": {
    "collapsed": false,
    "pycharm": {
     "name": "#%%\n"
    }
   }
  }
 ],
 "metadata": {
  "kernelspec": {
   "display_name": "Python 3",
   "language": "python",
   "name": "python3"
  },
  "language_info": {
   "codemirror_mode": {
    "name": "ipython",
    "version": 2
   },
   "file_extension": ".py",
   "mimetype": "text/x-python",
   "name": "python",
   "nbconvert_exporter": "python",
   "pygments_lexer": "ipython2",
   "version": "2.7.6"
  }
 },
 "nbformat": 4,
 "nbformat_minor": 0
}