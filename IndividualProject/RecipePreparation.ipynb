{
 "cells": [
  {
   "cell_type": "markdown",
   "source": [
    "## Loading libraries"
   ],
   "metadata": {
    "collapsed": false,
    "pycharm": {
     "name": "#%% md\n"
    }
   }
  },
  {
   "cell_type": "code",
   "execution_count": 76,
   "metadata": {
    "collapsed": true,
    "pycharm": {
     "name": "#%%\n"
    }
   },
   "outputs": [
    {
     "name": "stdout",
     "output_type": "stream",
     "text": [
      "numpy version: 1.23.3\n",
      "pandas version: 1.5.0\n",
      "scikit-learn version: 1.1.2\n",
      "json version: 2.0.9\n",
      "matplotlib version: 3.6.0\n"
     ]
    }
   ],
   "source": [
    "import json.decoder\n",
    "\n",
    "import numpy as np\n",
    "import pandas as pd\n",
    "import sklearn as sk\n",
    "import json as json\n",
    "# import seaborn as sns\n",
    "import matplotlib\n",
    "import pickle as pk\n",
    "import matplotlib.pyplot as plt\n",
    "from IPython.display import display\n",
    "import seaborn as sns\n",
    "\n",
    "from sklearn.base import BaseEstimator, TransformerMixin\n",
    "from sklearn.feature_extraction.text import CountVectorizer\n",
    "\n",
    "print('numpy version:', np.__version__)\n",
    "print('pandas version:', pd.__version__)\n",
    "print('scikit-learn version:', sk.__version__)\n",
    "print('json version:', json.__version__)\n",
    "print('matplotlib version:', matplotlib.__version__)"
   ]
  },
  {
   "cell_type": "markdown",
   "source": [
    "# Loading data"
   ],
   "metadata": {
    "collapsed": false,
    "pycharm": {
     "name": "#%% md\n"
    }
   }
  },
  {
   "cell_type": "code",
   "execution_count": 77,
   "outputs": [],
   "source": [
    "#DataSets\n",
    "# df = pd.read_csv('/kaggle/input/food-com-recipes-and-user-interactions/RAW_recipes.csv')\n",
    "RAW_recipes = pd.read_csv(r\"C:\\Users\\evald\\Desktop\\Ai minor\\dataset\\Recipes\\archive\\RAW_recipes.csv\")\n",
    "RAW_interactions = pd.read_csv(r\"C:\\Users\\evald\\Desktop\\Ai minor\\dataset\\Recipes\\archive\\RAW_interactions.csv\")\n",
    "pkl_recipes = pd.read_pickle(r\"C:\\Users\\evald\\Desktop\\Ai minor\\dataset\\Recipes\\archive\\ingr_map.pkl\")\n",
    "\n",
    "pp_recipes = pd.read_csv(r\"C:\\Users\\evald\\Desktop\\Ai minor\\dataset\\Recipes\\archive\\PP_recipes.csv\")\n",
    "pp_users = pd.read_csv(r\"C:\\Users\\evald\\Desktop\\Ai minor\\dataset\\Recipes\\archive\\PP_users.csv\")\n",
    "\n"
   ],
   "metadata": {
    "collapsed": false,
    "pycharm": {
     "name": "#%%\n"
    }
   }
  },
  {
   "cell_type": "code",
   "execution_count": 78,
   "outputs": [
    {
     "data": {
      "text/plain": "                                                name      id  minutes  \\\n0         arriba   baked winter squash mexican style  137739       55   \n1                   a bit different  breakfast pizza   31490       30   \n2                          all in the kitchen  chili  112140      130   \n3                                 alouette  potatoes   59389       45   \n4                 amish  tomato ketchup  for canning   44061      190   \n...                                              ...     ...      ...   \n231632                                   zydeco soup  486161       60   \n231633                              zydeco spice mix  493372        5   \n231634                     zydeco ya ya deviled eggs  308080       40   \n231635        cookies by design   cookies on a stick  298512       29   \n231636  cookies by design   sugar shortbread cookies  298509       20   \n\n        contributor_id   submitted  \\\n0                47892  2005-09-16   \n1                26278  2002-06-17   \n2               196586  2005-02-25   \n3                68585  2003-04-14   \n4                41706  2002-10-25   \n...                ...         ...   \n231632          227978  2012-08-29   \n231633         1500678  2013-01-09   \n231634           37779  2008-06-07   \n231635          506822  2008-04-15   \n231636          506822  2008-04-15   \n\n                                                     tags  \\\n0       ['60-minutes-or-less', 'time-to-make', 'course...   \n1       ['30-minutes-or-less', 'time-to-make', 'course...   \n2       ['time-to-make', 'course', 'preparation', 'mai...   \n3       ['60-minutes-or-less', 'time-to-make', 'course...   \n4       ['weeknight', 'time-to-make', 'course', 'main-...   \n...                                                   ...   \n231632  ['ham', '60-minutes-or-less', 'time-to-make', ...   \n231633  ['15-minutes-or-less', 'time-to-make', 'course...   \n231634  ['60-minutes-or-less', 'time-to-make', 'course...   \n231635  ['30-minutes-or-less', 'time-to-make', 'course...   \n231636  ['30-minutes-or-less', 'time-to-make', 'course...   \n\n                                          nutrition  n_steps  \\\n0             [51.5, 0.0, 13.0, 0.0, 2.0, 0.0, 4.0]       11   \n1         [173.4, 18.0, 0.0, 17.0, 22.0, 35.0, 1.0]        9   \n2        [269.8, 22.0, 32.0, 48.0, 39.0, 27.0, 5.0]        6   \n3         [368.1, 17.0, 10.0, 2.0, 14.0, 8.0, 20.0]       11   \n4         [352.9, 1.0, 337.0, 23.0, 3.0, 0.0, 28.0]        5   \n...                                             ...      ...   \n231632  [415.2, 26.0, 34.0, 26.0, 44.0, 21.0, 15.0]        7   \n231633        [14.8, 0.0, 2.0, 58.0, 1.0, 0.0, 1.0]        1   \n231634         [59.2, 6.0, 2.0, 3.0, 6.0, 5.0, 0.0]        7   \n231635    [188.0, 11.0, 57.0, 11.0, 7.0, 21.0, 9.0]        9   \n231636     [174.9, 14.0, 33.0, 4.0, 4.0, 11.0, 6.0]        5   \n\n                                                    steps  \\\n0       ['make a choice and proceed with recipe', 'dep...   \n1       ['preheat oven to 425 degrees f', 'press dough...   \n2       ['brown ground beef in large pot', 'add choppe...   \n3       ['place potatoes in a large pot of lightly sal...   \n4       ['mix all ingredients& boil for 2 1 / 2 hours ...   \n...                                                   ...   \n231632  ['heat oil in a 4-quart dutch oven', 'add cele...   \n231633        ['mix all ingredients together thoroughly']   \n231634  ['in a bowl , combine the mashed yolks and may...   \n231635  ['place melted butter in a large mixing bowl a...   \n231636  ['whip sugar and shortening in a large bowl , ...   \n\n                                              description  \\\n0       autumn is my favorite time of year to cook! th...   \n1       this recipe calls for the crust to be prebaked...   \n2       this modified version of 'mom's' chili was a h...   \n3       this is a super easy, great tasting, make ahea...   \n4       my dh's amish mother raised him on this recipe...   \n...                                                   ...   \n231632  this is a delicious soup that i originally fou...   \n231633    this spice mix will make your taste buds dance!   \n231634                          deviled eggs, cajun-style   \n231635  i've heard of the 'cookies by design' company,...   \n231636  i've heard of the 'cookies by design' company,...   \n\n                                              ingredients  n_ingredients  \n0       ['winter squash', 'mexican seasoning', 'mixed ...              7  \n1       ['prepared pizza crust', 'sausage patty', 'egg...              6  \n2       ['ground beef', 'yellow onions', 'diced tomato...             13  \n3       ['spreadable cheese with garlic and herbs', 'n...             11  \n4       ['tomato juice', 'apple cider vinegar', 'sugar...              8  \n...                                                   ...            ...  \n231632  ['celery', 'onion', 'green sweet pepper', 'gar...             22  \n231633  ['paprika', 'salt', 'garlic powder', 'onion po...             13  \n231634  ['hard-cooked eggs', 'mayonnaise', 'dijon must...              8  \n231635  ['butter', 'eagle brand condensed milk', 'ligh...             10  \n231636  ['granulated sugar', 'shortening', 'eggs', 'fl...              7  \n\n[231637 rows x 12 columns]",
      "text/html": "<div>\n<style scoped>\n    .dataframe tbody tr th:only-of-type {\n        vertical-align: middle;\n    }\n\n    .dataframe tbody tr th {\n        vertical-align: top;\n    }\n\n    .dataframe thead th {\n        text-align: right;\n    }\n</style>\n<table border=\"1\" class=\"dataframe\">\n  <thead>\n    <tr style=\"text-align: right;\">\n      <th></th>\n      <th>name</th>\n      <th>id</th>\n      <th>minutes</th>\n      <th>contributor_id</th>\n      <th>submitted</th>\n      <th>tags</th>\n      <th>nutrition</th>\n      <th>n_steps</th>\n      <th>steps</th>\n      <th>description</th>\n      <th>ingredients</th>\n      <th>n_ingredients</th>\n    </tr>\n  </thead>\n  <tbody>\n    <tr>\n      <th>0</th>\n      <td>arriba   baked winter squash mexican style</td>\n      <td>137739</td>\n      <td>55</td>\n      <td>47892</td>\n      <td>2005-09-16</td>\n      <td>['60-minutes-or-less', 'time-to-make', 'course...</td>\n      <td>[51.5, 0.0, 13.0, 0.0, 2.0, 0.0, 4.0]</td>\n      <td>11</td>\n      <td>['make a choice and proceed with recipe', 'dep...</td>\n      <td>autumn is my favorite time of year to cook! th...</td>\n      <td>['winter squash', 'mexican seasoning', 'mixed ...</td>\n      <td>7</td>\n    </tr>\n    <tr>\n      <th>1</th>\n      <td>a bit different  breakfast pizza</td>\n      <td>31490</td>\n      <td>30</td>\n      <td>26278</td>\n      <td>2002-06-17</td>\n      <td>['30-minutes-or-less', 'time-to-make', 'course...</td>\n      <td>[173.4, 18.0, 0.0, 17.0, 22.0, 35.0, 1.0]</td>\n      <td>9</td>\n      <td>['preheat oven to 425 degrees f', 'press dough...</td>\n      <td>this recipe calls for the crust to be prebaked...</td>\n      <td>['prepared pizza crust', 'sausage patty', 'egg...</td>\n      <td>6</td>\n    </tr>\n    <tr>\n      <th>2</th>\n      <td>all in the kitchen  chili</td>\n      <td>112140</td>\n      <td>130</td>\n      <td>196586</td>\n      <td>2005-02-25</td>\n      <td>['time-to-make', 'course', 'preparation', 'mai...</td>\n      <td>[269.8, 22.0, 32.0, 48.0, 39.0, 27.0, 5.0]</td>\n      <td>6</td>\n      <td>['brown ground beef in large pot', 'add choppe...</td>\n      <td>this modified version of 'mom's' chili was a h...</td>\n      <td>['ground beef', 'yellow onions', 'diced tomato...</td>\n      <td>13</td>\n    </tr>\n    <tr>\n      <th>3</th>\n      <td>alouette  potatoes</td>\n      <td>59389</td>\n      <td>45</td>\n      <td>68585</td>\n      <td>2003-04-14</td>\n      <td>['60-minutes-or-less', 'time-to-make', 'course...</td>\n      <td>[368.1, 17.0, 10.0, 2.0, 14.0, 8.0, 20.0]</td>\n      <td>11</td>\n      <td>['place potatoes in a large pot of lightly sal...</td>\n      <td>this is a super easy, great tasting, make ahea...</td>\n      <td>['spreadable cheese with garlic and herbs', 'n...</td>\n      <td>11</td>\n    </tr>\n    <tr>\n      <th>4</th>\n      <td>amish  tomato ketchup  for canning</td>\n      <td>44061</td>\n      <td>190</td>\n      <td>41706</td>\n      <td>2002-10-25</td>\n      <td>['weeknight', 'time-to-make', 'course', 'main-...</td>\n      <td>[352.9, 1.0, 337.0, 23.0, 3.0, 0.0, 28.0]</td>\n      <td>5</td>\n      <td>['mix all ingredients&amp; boil for 2 1 / 2 hours ...</td>\n      <td>my dh's amish mother raised him on this recipe...</td>\n      <td>['tomato juice', 'apple cider vinegar', 'sugar...</td>\n      <td>8</td>\n    </tr>\n    <tr>\n      <th>...</th>\n      <td>...</td>\n      <td>...</td>\n      <td>...</td>\n      <td>...</td>\n      <td>...</td>\n      <td>...</td>\n      <td>...</td>\n      <td>...</td>\n      <td>...</td>\n      <td>...</td>\n      <td>...</td>\n      <td>...</td>\n    </tr>\n    <tr>\n      <th>231632</th>\n      <td>zydeco soup</td>\n      <td>486161</td>\n      <td>60</td>\n      <td>227978</td>\n      <td>2012-08-29</td>\n      <td>['ham', '60-minutes-or-less', 'time-to-make', ...</td>\n      <td>[415.2, 26.0, 34.0, 26.0, 44.0, 21.0, 15.0]</td>\n      <td>7</td>\n      <td>['heat oil in a 4-quart dutch oven', 'add cele...</td>\n      <td>this is a delicious soup that i originally fou...</td>\n      <td>['celery', 'onion', 'green sweet pepper', 'gar...</td>\n      <td>22</td>\n    </tr>\n    <tr>\n      <th>231633</th>\n      <td>zydeco spice mix</td>\n      <td>493372</td>\n      <td>5</td>\n      <td>1500678</td>\n      <td>2013-01-09</td>\n      <td>['15-minutes-or-less', 'time-to-make', 'course...</td>\n      <td>[14.8, 0.0, 2.0, 58.0, 1.0, 0.0, 1.0]</td>\n      <td>1</td>\n      <td>['mix all ingredients together thoroughly']</td>\n      <td>this spice mix will make your taste buds dance!</td>\n      <td>['paprika', 'salt', 'garlic powder', 'onion po...</td>\n      <td>13</td>\n    </tr>\n    <tr>\n      <th>231634</th>\n      <td>zydeco ya ya deviled eggs</td>\n      <td>308080</td>\n      <td>40</td>\n      <td>37779</td>\n      <td>2008-06-07</td>\n      <td>['60-minutes-or-less', 'time-to-make', 'course...</td>\n      <td>[59.2, 6.0, 2.0, 3.0, 6.0, 5.0, 0.0]</td>\n      <td>7</td>\n      <td>['in a bowl , combine the mashed yolks and may...</td>\n      <td>deviled eggs, cajun-style</td>\n      <td>['hard-cooked eggs', 'mayonnaise', 'dijon must...</td>\n      <td>8</td>\n    </tr>\n    <tr>\n      <th>231635</th>\n      <td>cookies by design   cookies on a stick</td>\n      <td>298512</td>\n      <td>29</td>\n      <td>506822</td>\n      <td>2008-04-15</td>\n      <td>['30-minutes-or-less', 'time-to-make', 'course...</td>\n      <td>[188.0, 11.0, 57.0, 11.0, 7.0, 21.0, 9.0]</td>\n      <td>9</td>\n      <td>['place melted butter in a large mixing bowl a...</td>\n      <td>i've heard of the 'cookies by design' company,...</td>\n      <td>['butter', 'eagle brand condensed milk', 'ligh...</td>\n      <td>10</td>\n    </tr>\n    <tr>\n      <th>231636</th>\n      <td>cookies by design   sugar shortbread cookies</td>\n      <td>298509</td>\n      <td>20</td>\n      <td>506822</td>\n      <td>2008-04-15</td>\n      <td>['30-minutes-or-less', 'time-to-make', 'course...</td>\n      <td>[174.9, 14.0, 33.0, 4.0, 4.0, 11.0, 6.0]</td>\n      <td>5</td>\n      <td>['whip sugar and shortening in a large bowl , ...</td>\n      <td>i've heard of the 'cookies by design' company,...</td>\n      <td>['granulated sugar', 'shortening', 'eggs', 'fl...</td>\n      <td>7</td>\n    </tr>\n  </tbody>\n</table>\n<p>231637 rows × 12 columns</p>\n</div>"
     },
     "execution_count": 78,
     "metadata": {},
     "output_type": "execute_result"
    }
   ],
   "source": [
    "RAW_recipes"
   ],
   "metadata": {
    "collapsed": false,
    "pycharm": {
     "name": "#%%\n"
    }
   }
  },
  {
   "cell_type": "markdown",
   "source": [
    "#### Nutritional values are aranges as\n",
    "[calories (#), total fat (PDV), sugar (PDV) , sodium (PDV) , protein (PDV) , saturated fat (PDV) , and carbohydrates (PDV)]"
   ],
   "metadata": {
    "collapsed": false,
    "pycharm": {
     "name": "#%% md\n"
    }
   }
  },
  {
   "cell_type": "code",
   "execution_count": 79,
   "outputs": [],
   "source": [
    "\n",
    "RAW_recipes_CollumnSetUp= ['name', 'id', 'minutes','nutrition','contributor_id', 'submitted','n_steps', 'steps', 'description', 'ingredients', 'n_ingredients']\n",
    "RAW_recipes = RAW_recipes[RAW_recipes_CollumnSetUp]"
   ],
   "metadata": {
    "collapsed": false,
    "pycharm": {
     "name": "#%%\n"
    }
   }
  },
  {
   "cell_type": "code",
   "execution_count": 80,
   "outputs": [
    {
     "data": {
      "text/plain": "                                                name      id  minutes  \\\n0         arriba   baked winter squash mexican style  137739       55   \n1                   a bit different  breakfast pizza   31490       30   \n2                          all in the kitchen  chili  112140      130   \n3                                 alouette  potatoes   59389       45   \n4                 amish  tomato ketchup  for canning   44061      190   \n...                                              ...     ...      ...   \n231632                                   zydeco soup  486161       60   \n231633                              zydeco spice mix  493372        5   \n231634                     zydeco ya ya deviled eggs  308080       40   \n231635        cookies by design   cookies on a stick  298512       29   \n231636  cookies by design   sugar shortbread cookies  298509       20   \n\n                                          nutrition  contributor_id  \\\n0             [51.5, 0.0, 13.0, 0.0, 2.0, 0.0, 4.0]           47892   \n1         [173.4, 18.0, 0.0, 17.0, 22.0, 35.0, 1.0]           26278   \n2        [269.8, 22.0, 32.0, 48.0, 39.0, 27.0, 5.0]          196586   \n3         [368.1, 17.0, 10.0, 2.0, 14.0, 8.0, 20.0]           68585   \n4         [352.9, 1.0, 337.0, 23.0, 3.0, 0.0, 28.0]           41706   \n...                                             ...             ...   \n231632  [415.2, 26.0, 34.0, 26.0, 44.0, 21.0, 15.0]          227978   \n231633        [14.8, 0.0, 2.0, 58.0, 1.0, 0.0, 1.0]         1500678   \n231634         [59.2, 6.0, 2.0, 3.0, 6.0, 5.0, 0.0]           37779   \n231635    [188.0, 11.0, 57.0, 11.0, 7.0, 21.0, 9.0]          506822   \n231636     [174.9, 14.0, 33.0, 4.0, 4.0, 11.0, 6.0]          506822   \n\n         submitted  n_steps  \\\n0       2005-09-16       11   \n1       2002-06-17        9   \n2       2005-02-25        6   \n3       2003-04-14       11   \n4       2002-10-25        5   \n...            ...      ...   \n231632  2012-08-29        7   \n231633  2013-01-09        1   \n231634  2008-06-07        7   \n231635  2008-04-15        9   \n231636  2008-04-15        5   \n\n                                                    steps  \\\n0       ['make a choice and proceed with recipe', 'dep...   \n1       ['preheat oven to 425 degrees f', 'press dough...   \n2       ['brown ground beef in large pot', 'add choppe...   \n3       ['place potatoes in a large pot of lightly sal...   \n4       ['mix all ingredients& boil for 2 1 / 2 hours ...   \n...                                                   ...   \n231632  ['heat oil in a 4-quart dutch oven', 'add cele...   \n231633        ['mix all ingredients together thoroughly']   \n231634  ['in a bowl , combine the mashed yolks and may...   \n231635  ['place melted butter in a large mixing bowl a...   \n231636  ['whip sugar and shortening in a large bowl , ...   \n\n                                              description  \\\n0       autumn is my favorite time of year to cook! th...   \n1       this recipe calls for the crust to be prebaked...   \n2       this modified version of 'mom's' chili was a h...   \n3       this is a super easy, great tasting, make ahea...   \n4       my dh's amish mother raised him on this recipe...   \n...                                                   ...   \n231632  this is a delicious soup that i originally fou...   \n231633    this spice mix will make your taste buds dance!   \n231634                          deviled eggs, cajun-style   \n231635  i've heard of the 'cookies by design' company,...   \n231636  i've heard of the 'cookies by design' company,...   \n\n                                              ingredients  n_ingredients  \n0       ['winter squash', 'mexican seasoning', 'mixed ...              7  \n1       ['prepared pizza crust', 'sausage patty', 'egg...              6  \n2       ['ground beef', 'yellow onions', 'diced tomato...             13  \n3       ['spreadable cheese with garlic and herbs', 'n...             11  \n4       ['tomato juice', 'apple cider vinegar', 'sugar...              8  \n...                                                   ...            ...  \n231632  ['celery', 'onion', 'green sweet pepper', 'gar...             22  \n231633  ['paprika', 'salt', 'garlic powder', 'onion po...             13  \n231634  ['hard-cooked eggs', 'mayonnaise', 'dijon must...              8  \n231635  ['butter', 'eagle brand condensed milk', 'ligh...             10  \n231636  ['granulated sugar', 'shortening', 'eggs', 'fl...              7  \n\n[231637 rows x 11 columns]",
      "text/html": "<div>\n<style scoped>\n    .dataframe tbody tr th:only-of-type {\n        vertical-align: middle;\n    }\n\n    .dataframe tbody tr th {\n        vertical-align: top;\n    }\n\n    .dataframe thead th {\n        text-align: right;\n    }\n</style>\n<table border=\"1\" class=\"dataframe\">\n  <thead>\n    <tr style=\"text-align: right;\">\n      <th></th>\n      <th>name</th>\n      <th>id</th>\n      <th>minutes</th>\n      <th>nutrition</th>\n      <th>contributor_id</th>\n      <th>submitted</th>\n      <th>n_steps</th>\n      <th>steps</th>\n      <th>description</th>\n      <th>ingredients</th>\n      <th>n_ingredients</th>\n    </tr>\n  </thead>\n  <tbody>\n    <tr>\n      <th>0</th>\n      <td>arriba   baked winter squash mexican style</td>\n      <td>137739</td>\n      <td>55</td>\n      <td>[51.5, 0.0, 13.0, 0.0, 2.0, 0.0, 4.0]</td>\n      <td>47892</td>\n      <td>2005-09-16</td>\n      <td>11</td>\n      <td>['make a choice and proceed with recipe', 'dep...</td>\n      <td>autumn is my favorite time of year to cook! th...</td>\n      <td>['winter squash', 'mexican seasoning', 'mixed ...</td>\n      <td>7</td>\n    </tr>\n    <tr>\n      <th>1</th>\n      <td>a bit different  breakfast pizza</td>\n      <td>31490</td>\n      <td>30</td>\n      <td>[173.4, 18.0, 0.0, 17.0, 22.0, 35.0, 1.0]</td>\n      <td>26278</td>\n      <td>2002-06-17</td>\n      <td>9</td>\n      <td>['preheat oven to 425 degrees f', 'press dough...</td>\n      <td>this recipe calls for the crust to be prebaked...</td>\n      <td>['prepared pizza crust', 'sausage patty', 'egg...</td>\n      <td>6</td>\n    </tr>\n    <tr>\n      <th>2</th>\n      <td>all in the kitchen  chili</td>\n      <td>112140</td>\n      <td>130</td>\n      <td>[269.8, 22.0, 32.0, 48.0, 39.0, 27.0, 5.0]</td>\n      <td>196586</td>\n      <td>2005-02-25</td>\n      <td>6</td>\n      <td>['brown ground beef in large pot', 'add choppe...</td>\n      <td>this modified version of 'mom's' chili was a h...</td>\n      <td>['ground beef', 'yellow onions', 'diced tomato...</td>\n      <td>13</td>\n    </tr>\n    <tr>\n      <th>3</th>\n      <td>alouette  potatoes</td>\n      <td>59389</td>\n      <td>45</td>\n      <td>[368.1, 17.0, 10.0, 2.0, 14.0, 8.0, 20.0]</td>\n      <td>68585</td>\n      <td>2003-04-14</td>\n      <td>11</td>\n      <td>['place potatoes in a large pot of lightly sal...</td>\n      <td>this is a super easy, great tasting, make ahea...</td>\n      <td>['spreadable cheese with garlic and herbs', 'n...</td>\n      <td>11</td>\n    </tr>\n    <tr>\n      <th>4</th>\n      <td>amish  tomato ketchup  for canning</td>\n      <td>44061</td>\n      <td>190</td>\n      <td>[352.9, 1.0, 337.0, 23.0, 3.0, 0.0, 28.0]</td>\n      <td>41706</td>\n      <td>2002-10-25</td>\n      <td>5</td>\n      <td>['mix all ingredients&amp; boil for 2 1 / 2 hours ...</td>\n      <td>my dh's amish mother raised him on this recipe...</td>\n      <td>['tomato juice', 'apple cider vinegar', 'sugar...</td>\n      <td>8</td>\n    </tr>\n    <tr>\n      <th>...</th>\n      <td>...</td>\n      <td>...</td>\n      <td>...</td>\n      <td>...</td>\n      <td>...</td>\n      <td>...</td>\n      <td>...</td>\n      <td>...</td>\n      <td>...</td>\n      <td>...</td>\n      <td>...</td>\n    </tr>\n    <tr>\n      <th>231632</th>\n      <td>zydeco soup</td>\n      <td>486161</td>\n      <td>60</td>\n      <td>[415.2, 26.0, 34.0, 26.0, 44.0, 21.0, 15.0]</td>\n      <td>227978</td>\n      <td>2012-08-29</td>\n      <td>7</td>\n      <td>['heat oil in a 4-quart dutch oven', 'add cele...</td>\n      <td>this is a delicious soup that i originally fou...</td>\n      <td>['celery', 'onion', 'green sweet pepper', 'gar...</td>\n      <td>22</td>\n    </tr>\n    <tr>\n      <th>231633</th>\n      <td>zydeco spice mix</td>\n      <td>493372</td>\n      <td>5</td>\n      <td>[14.8, 0.0, 2.0, 58.0, 1.0, 0.0, 1.0]</td>\n      <td>1500678</td>\n      <td>2013-01-09</td>\n      <td>1</td>\n      <td>['mix all ingredients together thoroughly']</td>\n      <td>this spice mix will make your taste buds dance!</td>\n      <td>['paprika', 'salt', 'garlic powder', 'onion po...</td>\n      <td>13</td>\n    </tr>\n    <tr>\n      <th>231634</th>\n      <td>zydeco ya ya deviled eggs</td>\n      <td>308080</td>\n      <td>40</td>\n      <td>[59.2, 6.0, 2.0, 3.0, 6.0, 5.0, 0.0]</td>\n      <td>37779</td>\n      <td>2008-06-07</td>\n      <td>7</td>\n      <td>['in a bowl , combine the mashed yolks and may...</td>\n      <td>deviled eggs, cajun-style</td>\n      <td>['hard-cooked eggs', 'mayonnaise', 'dijon must...</td>\n      <td>8</td>\n    </tr>\n    <tr>\n      <th>231635</th>\n      <td>cookies by design   cookies on a stick</td>\n      <td>298512</td>\n      <td>29</td>\n      <td>[188.0, 11.0, 57.0, 11.0, 7.0, 21.0, 9.0]</td>\n      <td>506822</td>\n      <td>2008-04-15</td>\n      <td>9</td>\n      <td>['place melted butter in a large mixing bowl a...</td>\n      <td>i've heard of the 'cookies by design' company,...</td>\n      <td>['butter', 'eagle brand condensed milk', 'ligh...</td>\n      <td>10</td>\n    </tr>\n    <tr>\n      <th>231636</th>\n      <td>cookies by design   sugar shortbread cookies</td>\n      <td>298509</td>\n      <td>20</td>\n      <td>[174.9, 14.0, 33.0, 4.0, 4.0, 11.0, 6.0]</td>\n      <td>506822</td>\n      <td>2008-04-15</td>\n      <td>5</td>\n      <td>['whip sugar and shortening in a large bowl , ...</td>\n      <td>i've heard of the 'cookies by design' company,...</td>\n      <td>['granulated sugar', 'shortening', 'eggs', 'fl...</td>\n      <td>7</td>\n    </tr>\n  </tbody>\n</table>\n<p>231637 rows × 11 columns</p>\n</div>"
     },
     "execution_count": 80,
     "metadata": {},
     "output_type": "execute_result"
    }
   ],
   "source": [
    "RAW_recipes"
   ],
   "metadata": {
    "collapsed": false,
    "pycharm": {
     "name": "#%%\n"
    }
   }
  },
  {
   "cell_type": "markdown",
   "source": [
    "# Cleaning data"
   ],
   "metadata": {
    "collapsed": false,
    "pycharm": {
     "name": "#%% md\n"
    }
   }
  },
  {
   "cell_type": "markdown",
   "source": [
    "### Here we get important components from different datasets"
   ],
   "metadata": {
    "collapsed": false,
    "pycharm": {
     "name": "#%% md\n"
    }
   }
  },
  {
   "cell_type": "markdown",
   "source": [],
   "metadata": {
    "collapsed": false,
    "pycharm": {
     "name": "#%% md\n"
    }
   }
  },
  {
   "cell_type": "code",
   "execution_count": 81,
   "outputs": [
    {
     "name": "stdout",
     "output_type": "stream",
     "text": [
      "<class 'pandas.core.frame.DataFrame'>\n",
      "Int64Index: 178265 entries, 0 to 178264\n",
      "Data columns (total 2 columns):\n",
      " #   Column          Non-Null Count   Dtype \n",
      "---  ------          --------------   ----- \n",
      " 0   recipe_id       178265 non-null  int64 \n",
      " 1   ingredient_ids  178265 non-null  object\n",
      "dtypes: int64(1), object(1)\n",
      "memory usage: 4.1+ MB\n"
     ]
    }
   ],
   "source": [
    "\n",
    "recipesKG = pp_recipes.merge(right=RAW_recipes, left_on=\"id\", right_on=\"id\")\n",
    "\n",
    "# recipesKG = recipesKG[[\"id\", \"name\", \"submitted\", \"ingredient_ids\", \"ingredients\", \"n_ingredients\"]]\n",
    "recipesKG = recipesKG[[\"id\", \"ingredient_ids\"]]\n",
    "recipesKG = recipesKG.rename({\"id\":\"recipe_id\"}, axis=\"columns\")\n",
    "recipesKG.info()"
   ],
   "metadata": {
    "collapsed": false,
    "pycharm": {
     "name": "#%%\n"
    }
   }
  },
  {
   "cell_type": "code",
   "execution_count": 82,
   "outputs": [
    {
     "data": {
      "text/plain": "   ingredient_id                             ingredient_name\n0           4308                                     lettuce\n1           2744  french vanilla pudding and pie filling mix\n2           6843                      stove top stuffing mix\n3           1910                                cream cheese\n4           1168                                     cheddar\n5           5811                                   radicchio\n6           5205                                 pasta sauce\n7           7233                                tomato sauce\n8           6482                       shredded three cheese\n9           4836                                  mozzarella",
      "text/html": "<div>\n<style scoped>\n    .dataframe tbody tr th:only-of-type {\n        vertical-align: middle;\n    }\n\n    .dataframe tbody tr th {\n        vertical-align: top;\n    }\n\n    .dataframe thead th {\n        text-align: right;\n    }\n</style>\n<table border=\"1\" class=\"dataframe\">\n  <thead>\n    <tr style=\"text-align: right;\">\n      <th></th>\n      <th>ingredient_id</th>\n      <th>ingredient_name</th>\n    </tr>\n  </thead>\n  <tbody>\n    <tr>\n      <th>0</th>\n      <td>4308</td>\n      <td>lettuce</td>\n    </tr>\n    <tr>\n      <th>1</th>\n      <td>2744</td>\n      <td>french vanilla pudding and pie filling mix</td>\n    </tr>\n    <tr>\n      <th>2</th>\n      <td>6843</td>\n      <td>stove top stuffing mix</td>\n    </tr>\n    <tr>\n      <th>3</th>\n      <td>1910</td>\n      <td>cream cheese</td>\n    </tr>\n    <tr>\n      <th>4</th>\n      <td>1168</td>\n      <td>cheddar</td>\n    </tr>\n    <tr>\n      <th>5</th>\n      <td>5811</td>\n      <td>radicchio</td>\n    </tr>\n    <tr>\n      <th>6</th>\n      <td>5205</td>\n      <td>pasta sauce</td>\n    </tr>\n    <tr>\n      <th>7</th>\n      <td>7233</td>\n      <td>tomato sauce</td>\n    </tr>\n    <tr>\n      <th>8</th>\n      <td>6482</td>\n      <td>shredded three cheese</td>\n    </tr>\n    <tr>\n      <th>9</th>\n      <td>4836</td>\n      <td>mozzarella</td>\n    </tr>\n  </tbody>\n</table>\n</div>"
     },
     "execution_count": 82,
     "metadata": {},
     "output_type": "execute_result"
    }
   ],
   "source": [
    "# Get ingredients id with uniques ingredient name, no duplicates\n",
    "ingredient_df = pkl_recipes.copy(deep=True)\n",
    "ingredient_df = ingredient_df.rename({\"id\":\"ingredient_id\",\"replaced\":\"ingredient_name\"}, axis=\"columns\")\n",
    "ingredient_df = ingredient_df[[\"ingredient_id\", \"ingredient_name\"]]\n",
    "ingredient_df = ingredient_df.drop_duplicates(ignore_index=True)\n",
    "ingredient_df.head(10)"
   ],
   "metadata": {
    "collapsed": false,
    "pycharm": {
     "name": "#%%\n"
    }
   }
  },
  {
   "cell_type": "markdown",
   "source": [
    "Getting user review ratings on recipes set"
   ],
   "metadata": {
    "collapsed": false,
    "pycharm": {
     "name": "#%% md\n"
    }
   }
  },
  {
   "cell_type": "code",
   "execution_count": 83,
   "outputs": [
    {
     "data": {
      "text/plain": "   recipe_id  rating\n0      40893       4\n1      40893       5\n2      44394       4\n3      85009       5\n4      85009       5",
      "text/html": "<div>\n<style scoped>\n    .dataframe tbody tr th:only-of-type {\n        vertical-align: middle;\n    }\n\n    .dataframe tbody tr th {\n        vertical-align: top;\n    }\n\n    .dataframe thead th {\n        text-align: right;\n    }\n</style>\n<table border=\"1\" class=\"dataframe\">\n  <thead>\n    <tr style=\"text-align: right;\">\n      <th></th>\n      <th>recipe_id</th>\n      <th>rating</th>\n    </tr>\n  </thead>\n  <tbody>\n    <tr>\n      <th>0</th>\n      <td>40893</td>\n      <td>4</td>\n    </tr>\n    <tr>\n      <th>1</th>\n      <td>40893</td>\n      <td>5</td>\n    </tr>\n    <tr>\n      <th>2</th>\n      <td>44394</td>\n      <td>4</td>\n    </tr>\n    <tr>\n      <th>3</th>\n      <td>85009</td>\n      <td>5</td>\n    </tr>\n    <tr>\n      <th>4</th>\n      <td>85009</td>\n      <td>5</td>\n    </tr>\n  </tbody>\n</table>\n</div>"
     },
     "execution_count": 83,
     "metadata": {},
     "output_type": "execute_result"
    }
   ],
   "source": [
    "RAW_interactions=RAW_interactions.drop(['user_id','date','review'],axis=1)\n",
    "RAW_interactions.head()"
   ],
   "metadata": {
    "collapsed": false,
    "pycharm": {
     "name": "#%%\n"
    }
   }
  },
  {
   "cell_type": "markdown",
   "source": [
    "## Unique ingredients within the recipe set"
   ],
   "metadata": {
    "collapsed": false,
    "pycharm": {
     "name": "#%% md\n"
    }
   }
  },
  {
   "cell_type": "code",
   "execution_count": 84,
   "outputs": [],
   "source": [
    "uniqueIngredients = pkl_recipes.groupby(by=['replaced'],as_index=False )['id'].count()\n",
    "uniqueIngredientsDF = pd.DataFrame(uniqueIngredients)\n",
    "uniqueIngredientsDF.rename(columns={'replaced':'ingredient_name','id':'frequency_count'},inplace=True)"
   ],
   "metadata": {
    "collapsed": false,
    "pycharm": {
     "name": "#%%\n"
    }
   }
  },
  {
   "cell_type": "code",
   "execution_count": 85,
   "outputs": [
    {
     "data": {
      "text/plain": "          ingredient_name  frequency_count\n0     's baking chocolate                1\n1       's chocolate chip                1\n2       's hugs chocolate                1\n3                's sauce                1\n4           's sour cream                1\n5      's spicy seasoning                1\n6                's syrup                1\n7       's teriyaki sauce                1\n8        10 bean soup mix                1\n9  10-minute success rice                1",
      "text/html": "<div>\n<style scoped>\n    .dataframe tbody tr th:only-of-type {\n        vertical-align: middle;\n    }\n\n    .dataframe tbody tr th {\n        vertical-align: top;\n    }\n\n    .dataframe thead th {\n        text-align: right;\n    }\n</style>\n<table border=\"1\" class=\"dataframe\">\n  <thead>\n    <tr style=\"text-align: right;\">\n      <th></th>\n      <th>ingredient_name</th>\n      <th>frequency_count</th>\n    </tr>\n  </thead>\n  <tbody>\n    <tr>\n      <th>0</th>\n      <td>'s baking chocolate</td>\n      <td>1</td>\n    </tr>\n    <tr>\n      <th>1</th>\n      <td>'s chocolate chip</td>\n      <td>1</td>\n    </tr>\n    <tr>\n      <th>2</th>\n      <td>'s hugs chocolate</td>\n      <td>1</td>\n    </tr>\n    <tr>\n      <th>3</th>\n      <td>'s sauce</td>\n      <td>1</td>\n    </tr>\n    <tr>\n      <th>4</th>\n      <td>'s sour cream</td>\n      <td>1</td>\n    </tr>\n    <tr>\n      <th>5</th>\n      <td>'s spicy seasoning</td>\n      <td>1</td>\n    </tr>\n    <tr>\n      <th>6</th>\n      <td>'s syrup</td>\n      <td>1</td>\n    </tr>\n    <tr>\n      <th>7</th>\n      <td>'s teriyaki sauce</td>\n      <td>1</td>\n    </tr>\n    <tr>\n      <th>8</th>\n      <td>10 bean soup mix</td>\n      <td>1</td>\n    </tr>\n    <tr>\n      <th>9</th>\n      <td>10-minute success rice</td>\n      <td>1</td>\n    </tr>\n  </tbody>\n</table>\n</div>"
     },
     "execution_count": 85,
     "metadata": {},
     "output_type": "execute_result"
    }
   ],
   "source": [
    "uniqueIngredientsDF.head(10)"
   ],
   "metadata": {
    "collapsed": false,
    "pycharm": {
     "name": "#%%\n"
    }
   }
  },
  {
   "cell_type": "code",
   "execution_count": 86,
   "outputs": [
    {
     "data": {
      "text/plain": "         ingredient_name  frequency_count\n2200            dressing              163\n6324             sausage              154\n1316               chile               99\n912             cake mix               85\n1168             cheddar               84\n...                  ...              ...\n3011  frozen english pea                1\n3010      frozen edamame                1\n3009   frozen dough roll                1\n3008  frozen dinner roll                1\n8022      zwieback toast                1\n\n[8023 rows x 2 columns]",
      "text/html": "<div>\n<style scoped>\n    .dataframe tbody tr th:only-of-type {\n        vertical-align: middle;\n    }\n\n    .dataframe tbody tr th {\n        vertical-align: top;\n    }\n\n    .dataframe thead th {\n        text-align: right;\n    }\n</style>\n<table border=\"1\" class=\"dataframe\">\n  <thead>\n    <tr style=\"text-align: right;\">\n      <th></th>\n      <th>ingredient_name</th>\n      <th>frequency_count</th>\n    </tr>\n  </thead>\n  <tbody>\n    <tr>\n      <th>2200</th>\n      <td>dressing</td>\n      <td>163</td>\n    </tr>\n    <tr>\n      <th>6324</th>\n      <td>sausage</td>\n      <td>154</td>\n    </tr>\n    <tr>\n      <th>1316</th>\n      <td>chile</td>\n      <td>99</td>\n    </tr>\n    <tr>\n      <th>912</th>\n      <td>cake mix</td>\n      <td>85</td>\n    </tr>\n    <tr>\n      <th>1168</th>\n      <td>cheddar</td>\n      <td>84</td>\n    </tr>\n    <tr>\n      <th>...</th>\n      <td>...</td>\n      <td>...</td>\n    </tr>\n    <tr>\n      <th>3011</th>\n      <td>frozen english pea</td>\n      <td>1</td>\n    </tr>\n    <tr>\n      <th>3010</th>\n      <td>frozen edamame</td>\n      <td>1</td>\n    </tr>\n    <tr>\n      <th>3009</th>\n      <td>frozen dough roll</td>\n      <td>1</td>\n    </tr>\n    <tr>\n      <th>3008</th>\n      <td>frozen dinner roll</td>\n      <td>1</td>\n    </tr>\n    <tr>\n      <th>8022</th>\n      <td>zwieback toast</td>\n      <td>1</td>\n    </tr>\n  </tbody>\n</table>\n<p>8023 rows × 2 columns</p>\n</div>"
     },
     "execution_count": 86,
     "metadata": {},
     "output_type": "execute_result"
    }
   ],
   "source": [
    "uniqueIngredientsDF.sort_values(by=['frequency_count'], ascending=False)"
   ],
   "metadata": {
    "collapsed": false,
    "pycharm": {
     "name": "#%%\n"
    }
   }
  },
  {
   "cell_type": "code",
   "execution_count": 86,
   "outputs": [],
   "source": [],
   "metadata": {
    "collapsed": false,
    "pycharm": {
     "name": "#%%\n"
    }
   }
  },
  {
   "cell_type": "markdown",
   "source": [
    "# Merging the tables to combine the important features"
   ],
   "metadata": {
    "collapsed": false,
    "pycharm": {
     "name": "#%% md\n"
    }
   }
  },
  {
   "cell_type": "code",
   "execution_count": 87,
   "outputs": [
    {
     "name": "stdout",
     "output_type": "stream",
     "text": [
      "               mean  count\n",
      "recipe_id                 \n",
      "38         4.250000      4\n",
      "39         3.000000      1\n",
      "40         4.333333      9\n",
      "41         4.500000      2\n",
      "43         1.000000      1\n",
      "45         2.666667      3\n",
      "46         5.000000      2\n",
      "48         1.000000      2\n",
      "49         4.350000     20\n",
      "50         4.500000      2\n"
     ]
    },
    {
     "data": {
      "text/plain": "   recipe_id  average_rating  votes\n0         38        4.250000      4\n1         39        3.000000      1\n2         40        4.333333      9\n3         41        4.500000      2\n4         43        1.000000      1\n5         45        2.666667      3\n6         46        5.000000      2\n7         48        1.000000      2\n8         49        4.350000     20\n9         50        4.500000      2",
      "text/html": "<div>\n<style scoped>\n    .dataframe tbody tr th:only-of-type {\n        vertical-align: middle;\n    }\n\n    .dataframe tbody tr th {\n        vertical-align: top;\n    }\n\n    .dataframe thead th {\n        text-align: right;\n    }\n</style>\n<table border=\"1\" class=\"dataframe\">\n  <thead>\n    <tr style=\"text-align: right;\">\n      <th></th>\n      <th>recipe_id</th>\n      <th>average_rating</th>\n      <th>votes</th>\n    </tr>\n  </thead>\n  <tbody>\n    <tr>\n      <th>0</th>\n      <td>38</td>\n      <td>4.250000</td>\n      <td>4</td>\n    </tr>\n    <tr>\n      <th>1</th>\n      <td>39</td>\n      <td>3.000000</td>\n      <td>1</td>\n    </tr>\n    <tr>\n      <th>2</th>\n      <td>40</td>\n      <td>4.333333</td>\n      <td>9</td>\n    </tr>\n    <tr>\n      <th>3</th>\n      <td>41</td>\n      <td>4.500000</td>\n      <td>2</td>\n    </tr>\n    <tr>\n      <th>4</th>\n      <td>43</td>\n      <td>1.000000</td>\n      <td>1</td>\n    </tr>\n    <tr>\n      <th>5</th>\n      <td>45</td>\n      <td>2.666667</td>\n      <td>3</td>\n    </tr>\n    <tr>\n      <th>6</th>\n      <td>46</td>\n      <td>5.000000</td>\n      <td>2</td>\n    </tr>\n    <tr>\n      <th>7</th>\n      <td>48</td>\n      <td>1.000000</td>\n      <td>2</td>\n    </tr>\n    <tr>\n      <th>8</th>\n      <td>49</td>\n      <td>4.350000</td>\n      <td>20</td>\n    </tr>\n    <tr>\n      <th>9</th>\n      <td>50</td>\n      <td>4.500000</td>\n      <td>2</td>\n    </tr>\n  </tbody>\n</table>\n</div>"
     },
     "execution_count": 87,
     "metadata": {},
     "output_type": "execute_result"
    }
   ],
   "source": [
    "#Store average rating of meals\n",
    "AvgInteractions = RAW_interactions['rating'].mean()\n",
    "\n",
    "#Group seperate meal ratings together and get average meal score equally prevent recipe_id from being an index\n",
    "newRatingSet=RAW_interactions.groupby(['recipe_id'])['rating'].agg(['mean','count'])\n",
    "print(newRatingSet.head(10))\n",
    "newRatingSet.reset_index(inplace=True)\n",
    "\n",
    "\n",
    "#Rename columns\n",
    "newRatingSet.rename(columns={'mean':'average_rating','count':'votes'},inplace=True)\n",
    "newRatingSet.head(10)"
   ],
   "metadata": {
    "collapsed": false,
    "pycharm": {
     "name": "#%%\n"
    }
   }
  },
  {
   "cell_type": "code",
   "execution_count": 88,
   "outputs": [],
   "source": [
    "#Merge ratings dataframe with recipe Dataframe\n",
    "food_df = pd.merge(RAW_recipes, newRatingSet, left_on='id',right_on='recipe_id')"
   ],
   "metadata": {
    "collapsed": false,
    "pycharm": {
     "name": "#%%\n"
    }
   }
  },
  {
   "cell_type": "code",
   "execution_count": 89,
   "outputs": [
    {
     "data": {
      "text/plain": "(231637, 14)"
     },
     "execution_count": 89,
     "metadata": {},
     "output_type": "execute_result"
    }
   ],
   "source": [
    "food_df.shape"
   ],
   "metadata": {
    "collapsed": false,
    "pycharm": {
     "name": "#%%\n"
    }
   }
  },
  {
   "cell_type": "code",
   "execution_count": 90,
   "outputs": [
    {
     "data": {
      "text/plain": "                                                name      id  minutes  \\\n0         arriba   baked winter squash mexican style  137739       55   \n1                   a bit different  breakfast pizza   31490       30   \n2                          all in the kitchen  chili  112140      130   \n3                                 alouette  potatoes   59389       45   \n4                 amish  tomato ketchup  for canning   44061      190   \n...                                              ...     ...      ...   \n231632                                   zydeco soup  486161       60   \n231633                              zydeco spice mix  493372        5   \n231634                     zydeco ya ya deviled eggs  308080       40   \n231635        cookies by design   cookies on a stick  298512       29   \n231636  cookies by design   sugar shortbread cookies  298509       20   \n\n                                          nutrition  contributor_id  \\\n0             [51.5, 0.0, 13.0, 0.0, 2.0, 0.0, 4.0]           47892   \n1         [173.4, 18.0, 0.0, 17.0, 22.0, 35.0, 1.0]           26278   \n2        [269.8, 22.0, 32.0, 48.0, 39.0, 27.0, 5.0]          196586   \n3         [368.1, 17.0, 10.0, 2.0, 14.0, 8.0, 20.0]           68585   \n4         [352.9, 1.0, 337.0, 23.0, 3.0, 0.0, 28.0]           41706   \n...                                             ...             ...   \n231632  [415.2, 26.0, 34.0, 26.0, 44.0, 21.0, 15.0]          227978   \n231633        [14.8, 0.0, 2.0, 58.0, 1.0, 0.0, 1.0]         1500678   \n231634         [59.2, 6.0, 2.0, 3.0, 6.0, 5.0, 0.0]           37779   \n231635    [188.0, 11.0, 57.0, 11.0, 7.0, 21.0, 9.0]          506822   \n231636     [174.9, 14.0, 33.0, 4.0, 4.0, 11.0, 6.0]          506822   \n\n         submitted  n_steps  \\\n0       2005-09-16       11   \n1       2002-06-17        9   \n2       2005-02-25        6   \n3       2003-04-14       11   \n4       2002-10-25        5   \n...            ...      ...   \n231632  2012-08-29        7   \n231633  2013-01-09        1   \n231634  2008-06-07        7   \n231635  2008-04-15        9   \n231636  2008-04-15        5   \n\n                                                    steps  \\\n0       ['make a choice and proceed with recipe', 'dep...   \n1       ['preheat oven to 425 degrees f', 'press dough...   \n2       ['brown ground beef in large pot', 'add choppe...   \n3       ['place potatoes in a large pot of lightly sal...   \n4       ['mix all ingredients& boil for 2 1 / 2 hours ...   \n...                                                   ...   \n231632  ['heat oil in a 4-quart dutch oven', 'add cele...   \n231633        ['mix all ingredients together thoroughly']   \n231634  ['in a bowl , combine the mashed yolks and may...   \n231635  ['place melted butter in a large mixing bowl a...   \n231636  ['whip sugar and shortening in a large bowl , ...   \n\n                                              description  \\\n0       autumn is my favorite time of year to cook! th...   \n1       this recipe calls for the crust to be prebaked...   \n2       this modified version of 'mom's' chili was a h...   \n3       this is a super easy, great tasting, make ahea...   \n4       my dh's amish mother raised him on this recipe...   \n...                                                   ...   \n231632  this is a delicious soup that i originally fou...   \n231633    this spice mix will make your taste buds dance!   \n231634                          deviled eggs, cajun-style   \n231635  i've heard of the 'cookies by design' company,...   \n231636  i've heard of the 'cookies by design' company,...   \n\n                                              ingredients  n_ingredients  \\\n0       ['winter squash', 'mexican seasoning', 'mixed ...              7   \n1       ['prepared pizza crust', 'sausage patty', 'egg...              6   \n2       ['ground beef', 'yellow onions', 'diced tomato...             13   \n3       ['spreadable cheese with garlic and herbs', 'n...             11   \n4       ['tomato juice', 'apple cider vinegar', 'sugar...              8   \n...                                                   ...            ...   \n231632  ['celery', 'onion', 'green sweet pepper', 'gar...             22   \n231633  ['paprika', 'salt', 'garlic powder', 'onion po...             13   \n231634  ['hard-cooked eggs', 'mayonnaise', 'dijon must...              8   \n231635  ['butter', 'eagle brand condensed milk', 'ligh...             10   \n231636  ['granulated sugar', 'shortening', 'eggs', 'fl...              7   \n\n        recipe_id  average_rating  votes  \n0          137739             5.0      3  \n1           31490             3.5      4  \n2          112140             4.0      1  \n3           59389             4.5      2  \n4           44061             5.0      1  \n...           ...             ...    ...  \n231632     486161             5.0      6  \n231633     493372             5.0      1  \n231634     308080             5.0      5  \n231635     298512             1.0      1  \n231636     298509             2.0      3  \n\n[231637 rows x 14 columns]",
      "text/html": "<div>\n<style scoped>\n    .dataframe tbody tr th:only-of-type {\n        vertical-align: middle;\n    }\n\n    .dataframe tbody tr th {\n        vertical-align: top;\n    }\n\n    .dataframe thead th {\n        text-align: right;\n    }\n</style>\n<table border=\"1\" class=\"dataframe\">\n  <thead>\n    <tr style=\"text-align: right;\">\n      <th></th>\n      <th>name</th>\n      <th>id</th>\n      <th>minutes</th>\n      <th>nutrition</th>\n      <th>contributor_id</th>\n      <th>submitted</th>\n      <th>n_steps</th>\n      <th>steps</th>\n      <th>description</th>\n      <th>ingredients</th>\n      <th>n_ingredients</th>\n      <th>recipe_id</th>\n      <th>average_rating</th>\n      <th>votes</th>\n    </tr>\n  </thead>\n  <tbody>\n    <tr>\n      <th>0</th>\n      <td>arriba   baked winter squash mexican style</td>\n      <td>137739</td>\n      <td>55</td>\n      <td>[51.5, 0.0, 13.0, 0.0, 2.0, 0.0, 4.0]</td>\n      <td>47892</td>\n      <td>2005-09-16</td>\n      <td>11</td>\n      <td>['make a choice and proceed with recipe', 'dep...</td>\n      <td>autumn is my favorite time of year to cook! th...</td>\n      <td>['winter squash', 'mexican seasoning', 'mixed ...</td>\n      <td>7</td>\n      <td>137739</td>\n      <td>5.0</td>\n      <td>3</td>\n    </tr>\n    <tr>\n      <th>1</th>\n      <td>a bit different  breakfast pizza</td>\n      <td>31490</td>\n      <td>30</td>\n      <td>[173.4, 18.0, 0.0, 17.0, 22.0, 35.0, 1.0]</td>\n      <td>26278</td>\n      <td>2002-06-17</td>\n      <td>9</td>\n      <td>['preheat oven to 425 degrees f', 'press dough...</td>\n      <td>this recipe calls for the crust to be prebaked...</td>\n      <td>['prepared pizza crust', 'sausage patty', 'egg...</td>\n      <td>6</td>\n      <td>31490</td>\n      <td>3.5</td>\n      <td>4</td>\n    </tr>\n    <tr>\n      <th>2</th>\n      <td>all in the kitchen  chili</td>\n      <td>112140</td>\n      <td>130</td>\n      <td>[269.8, 22.0, 32.0, 48.0, 39.0, 27.0, 5.0]</td>\n      <td>196586</td>\n      <td>2005-02-25</td>\n      <td>6</td>\n      <td>['brown ground beef in large pot', 'add choppe...</td>\n      <td>this modified version of 'mom's' chili was a h...</td>\n      <td>['ground beef', 'yellow onions', 'diced tomato...</td>\n      <td>13</td>\n      <td>112140</td>\n      <td>4.0</td>\n      <td>1</td>\n    </tr>\n    <tr>\n      <th>3</th>\n      <td>alouette  potatoes</td>\n      <td>59389</td>\n      <td>45</td>\n      <td>[368.1, 17.0, 10.0, 2.0, 14.0, 8.0, 20.0]</td>\n      <td>68585</td>\n      <td>2003-04-14</td>\n      <td>11</td>\n      <td>['place potatoes in a large pot of lightly sal...</td>\n      <td>this is a super easy, great tasting, make ahea...</td>\n      <td>['spreadable cheese with garlic and herbs', 'n...</td>\n      <td>11</td>\n      <td>59389</td>\n      <td>4.5</td>\n      <td>2</td>\n    </tr>\n    <tr>\n      <th>4</th>\n      <td>amish  tomato ketchup  for canning</td>\n      <td>44061</td>\n      <td>190</td>\n      <td>[352.9, 1.0, 337.0, 23.0, 3.0, 0.0, 28.0]</td>\n      <td>41706</td>\n      <td>2002-10-25</td>\n      <td>5</td>\n      <td>['mix all ingredients&amp; boil for 2 1 / 2 hours ...</td>\n      <td>my dh's amish mother raised him on this recipe...</td>\n      <td>['tomato juice', 'apple cider vinegar', 'sugar...</td>\n      <td>8</td>\n      <td>44061</td>\n      <td>5.0</td>\n      <td>1</td>\n    </tr>\n    <tr>\n      <th>...</th>\n      <td>...</td>\n      <td>...</td>\n      <td>...</td>\n      <td>...</td>\n      <td>...</td>\n      <td>...</td>\n      <td>...</td>\n      <td>...</td>\n      <td>...</td>\n      <td>...</td>\n      <td>...</td>\n      <td>...</td>\n      <td>...</td>\n      <td>...</td>\n    </tr>\n    <tr>\n      <th>231632</th>\n      <td>zydeco soup</td>\n      <td>486161</td>\n      <td>60</td>\n      <td>[415.2, 26.0, 34.0, 26.0, 44.0, 21.0, 15.0]</td>\n      <td>227978</td>\n      <td>2012-08-29</td>\n      <td>7</td>\n      <td>['heat oil in a 4-quart dutch oven', 'add cele...</td>\n      <td>this is a delicious soup that i originally fou...</td>\n      <td>['celery', 'onion', 'green sweet pepper', 'gar...</td>\n      <td>22</td>\n      <td>486161</td>\n      <td>5.0</td>\n      <td>6</td>\n    </tr>\n    <tr>\n      <th>231633</th>\n      <td>zydeco spice mix</td>\n      <td>493372</td>\n      <td>5</td>\n      <td>[14.8, 0.0, 2.0, 58.0, 1.0, 0.0, 1.0]</td>\n      <td>1500678</td>\n      <td>2013-01-09</td>\n      <td>1</td>\n      <td>['mix all ingredients together thoroughly']</td>\n      <td>this spice mix will make your taste buds dance!</td>\n      <td>['paprika', 'salt', 'garlic powder', 'onion po...</td>\n      <td>13</td>\n      <td>493372</td>\n      <td>5.0</td>\n      <td>1</td>\n    </tr>\n    <tr>\n      <th>231634</th>\n      <td>zydeco ya ya deviled eggs</td>\n      <td>308080</td>\n      <td>40</td>\n      <td>[59.2, 6.0, 2.0, 3.0, 6.0, 5.0, 0.0]</td>\n      <td>37779</td>\n      <td>2008-06-07</td>\n      <td>7</td>\n      <td>['in a bowl , combine the mashed yolks and may...</td>\n      <td>deviled eggs, cajun-style</td>\n      <td>['hard-cooked eggs', 'mayonnaise', 'dijon must...</td>\n      <td>8</td>\n      <td>308080</td>\n      <td>5.0</td>\n      <td>5</td>\n    </tr>\n    <tr>\n      <th>231635</th>\n      <td>cookies by design   cookies on a stick</td>\n      <td>298512</td>\n      <td>29</td>\n      <td>[188.0, 11.0, 57.0, 11.0, 7.0, 21.0, 9.0]</td>\n      <td>506822</td>\n      <td>2008-04-15</td>\n      <td>9</td>\n      <td>['place melted butter in a large mixing bowl a...</td>\n      <td>i've heard of the 'cookies by design' company,...</td>\n      <td>['butter', 'eagle brand condensed milk', 'ligh...</td>\n      <td>10</td>\n      <td>298512</td>\n      <td>1.0</td>\n      <td>1</td>\n    </tr>\n    <tr>\n      <th>231636</th>\n      <td>cookies by design   sugar shortbread cookies</td>\n      <td>298509</td>\n      <td>20</td>\n      <td>[174.9, 14.0, 33.0, 4.0, 4.0, 11.0, 6.0]</td>\n      <td>506822</td>\n      <td>2008-04-15</td>\n      <td>5</td>\n      <td>['whip sugar and shortening in a large bowl , ...</td>\n      <td>i've heard of the 'cookies by design' company,...</td>\n      <td>['granulated sugar', 'shortening', 'eggs', 'fl...</td>\n      <td>7</td>\n      <td>298509</td>\n      <td>2.0</td>\n      <td>3</td>\n    </tr>\n  </tbody>\n</table>\n<p>231637 rows × 14 columns</p>\n</div>"
     },
     "execution_count": 90,
     "metadata": {},
     "output_type": "execute_result"
    }
   ],
   "source": [
    "food_df"
   ],
   "metadata": {
    "collapsed": false,
    "pycharm": {
     "name": "#%%\n"
    }
   }
  },
  {
   "cell_type": "code",
   "execution_count": 91,
   "outputs": [],
   "source": [
    "#merge the recipe ingredient id array\n",
    "#\n",
    "food_df = pd.merge(food_df, recipesKG[['recipe_id', 'ingredient_ids']], on='recipe_id', how='left')"
   ],
   "metadata": {
    "collapsed": false,
    "pycharm": {
     "name": "#%%\n"
    }
   }
  },
  {
   "cell_type": "code",
   "execution_count": 92,
   "outputs": [
    {
     "data": {
      "text/plain": "                                                name      id  minutes  \\\n0         arriba   baked winter squash mexican style  137739       55   \n1                   a bit different  breakfast pizza   31490       30   \n2                          all in the kitchen  chili  112140      130   \n3                                 alouette  potatoes   59389       45   \n4                 amish  tomato ketchup  for canning   44061      190   \n...                                              ...     ...      ...   \n231632                                   zydeco soup  486161       60   \n231633                              zydeco spice mix  493372        5   \n231634                     zydeco ya ya deviled eggs  308080       40   \n231635        cookies by design   cookies on a stick  298512       29   \n231636  cookies by design   sugar shortbread cookies  298509       20   \n\n                                          nutrition  contributor_id  \\\n0             [51.5, 0.0, 13.0, 0.0, 2.0, 0.0, 4.0]           47892   \n1         [173.4, 18.0, 0.0, 17.0, 22.0, 35.0, 1.0]           26278   \n2        [269.8, 22.0, 32.0, 48.0, 39.0, 27.0, 5.0]          196586   \n3         [368.1, 17.0, 10.0, 2.0, 14.0, 8.0, 20.0]           68585   \n4         [352.9, 1.0, 337.0, 23.0, 3.0, 0.0, 28.0]           41706   \n...                                             ...             ...   \n231632  [415.2, 26.0, 34.0, 26.0, 44.0, 21.0, 15.0]          227978   \n231633        [14.8, 0.0, 2.0, 58.0, 1.0, 0.0, 1.0]         1500678   \n231634         [59.2, 6.0, 2.0, 3.0, 6.0, 5.0, 0.0]           37779   \n231635    [188.0, 11.0, 57.0, 11.0, 7.0, 21.0, 9.0]          506822   \n231636     [174.9, 14.0, 33.0, 4.0, 4.0, 11.0, 6.0]          506822   \n\n         submitted  n_steps  \\\n0       2005-09-16       11   \n1       2002-06-17        9   \n2       2005-02-25        6   \n3       2003-04-14       11   \n4       2002-10-25        5   \n...            ...      ...   \n231632  2012-08-29        7   \n231633  2013-01-09        1   \n231634  2008-06-07        7   \n231635  2008-04-15        9   \n231636  2008-04-15        5   \n\n                                                    steps  \\\n0       ['make a choice and proceed with recipe', 'dep...   \n1       ['preheat oven to 425 degrees f', 'press dough...   \n2       ['brown ground beef in large pot', 'add choppe...   \n3       ['place potatoes in a large pot of lightly sal...   \n4       ['mix all ingredients& boil for 2 1 / 2 hours ...   \n...                                                   ...   \n231632  ['heat oil in a 4-quart dutch oven', 'add cele...   \n231633        ['mix all ingredients together thoroughly']   \n231634  ['in a bowl , combine the mashed yolks and may...   \n231635  ['place melted butter in a large mixing bowl a...   \n231636  ['whip sugar and shortening in a large bowl , ...   \n\n                                              description  \\\n0       autumn is my favorite time of year to cook! th...   \n1       this recipe calls for the crust to be prebaked...   \n2       this modified version of 'mom's' chili was a h...   \n3       this is a super easy, great tasting, make ahea...   \n4       my dh's amish mother raised him on this recipe...   \n...                                                   ...   \n231632  this is a delicious soup that i originally fou...   \n231633    this spice mix will make your taste buds dance!   \n231634                          deviled eggs, cajun-style   \n231635  i've heard of the 'cookies by design' company,...   \n231636  i've heard of the 'cookies by design' company,...   \n\n                                              ingredients  n_ingredients  \\\n0       ['winter squash', 'mexican seasoning', 'mixed ...              7   \n1       ['prepared pizza crust', 'sausage patty', 'egg...              6   \n2       ['ground beef', 'yellow onions', 'diced tomato...             13   \n3       ['spreadable cheese with garlic and herbs', 'n...             11   \n4       ['tomato juice', 'apple cider vinegar', 'sugar...              8   \n...                                                   ...            ...   \n231632  ['celery', 'onion', 'green sweet pepper', 'gar...             22   \n231633  ['paprika', 'salt', 'garlic powder', 'onion po...             13   \n231634  ['hard-cooked eggs', 'mayonnaise', 'dijon must...              8   \n231635  ['butter', 'eagle brand condensed milk', 'ligh...             10   \n231636  ['granulated sugar', 'shortening', 'eggs', 'fl...              7   \n\n        recipe_id  average_rating  votes  \\\n0          137739             5.0      3   \n1           31490             3.5      4   \n2          112140             4.0      1   \n3           59389             4.5      2   \n4           44061             5.0      1   \n...           ...             ...    ...   \n231632     486161             5.0      6   \n231633     493372             5.0      1   \n231634     308080             5.0      5   \n231635     298512             1.0      1   \n231636     298509             2.0      3   \n\n                                           ingredient_ids  \n0               [7933, 4694, 4795, 3723, 840, 5006, 6270]  \n1                    [5481, 6324, 2499, 4717, 6276, 1170]  \n2                                                     NaN  \n3       [1170, 4918, 6426, 5185, 7099, 5006, 6009, 627...  \n4                                                     NaN  \n...                                                   ...  \n231632                                                NaN  \n231633                                                NaN  \n231634     [3627, 4623, 2148, 905, 7049, 6270, 590, 2822]  \n231635                                                NaN  \n231636                                                NaN  \n\n[231637 rows x 15 columns]",
      "text/html": "<div>\n<style scoped>\n    .dataframe tbody tr th:only-of-type {\n        vertical-align: middle;\n    }\n\n    .dataframe tbody tr th {\n        vertical-align: top;\n    }\n\n    .dataframe thead th {\n        text-align: right;\n    }\n</style>\n<table border=\"1\" class=\"dataframe\">\n  <thead>\n    <tr style=\"text-align: right;\">\n      <th></th>\n      <th>name</th>\n      <th>id</th>\n      <th>minutes</th>\n      <th>nutrition</th>\n      <th>contributor_id</th>\n      <th>submitted</th>\n      <th>n_steps</th>\n      <th>steps</th>\n      <th>description</th>\n      <th>ingredients</th>\n      <th>n_ingredients</th>\n      <th>recipe_id</th>\n      <th>average_rating</th>\n      <th>votes</th>\n      <th>ingredient_ids</th>\n    </tr>\n  </thead>\n  <tbody>\n    <tr>\n      <th>0</th>\n      <td>arriba   baked winter squash mexican style</td>\n      <td>137739</td>\n      <td>55</td>\n      <td>[51.5, 0.0, 13.0, 0.0, 2.0, 0.0, 4.0]</td>\n      <td>47892</td>\n      <td>2005-09-16</td>\n      <td>11</td>\n      <td>['make a choice and proceed with recipe', 'dep...</td>\n      <td>autumn is my favorite time of year to cook! th...</td>\n      <td>['winter squash', 'mexican seasoning', 'mixed ...</td>\n      <td>7</td>\n      <td>137739</td>\n      <td>5.0</td>\n      <td>3</td>\n      <td>[7933, 4694, 4795, 3723, 840, 5006, 6270]</td>\n    </tr>\n    <tr>\n      <th>1</th>\n      <td>a bit different  breakfast pizza</td>\n      <td>31490</td>\n      <td>30</td>\n      <td>[173.4, 18.0, 0.0, 17.0, 22.0, 35.0, 1.0]</td>\n      <td>26278</td>\n      <td>2002-06-17</td>\n      <td>9</td>\n      <td>['preheat oven to 425 degrees f', 'press dough...</td>\n      <td>this recipe calls for the crust to be prebaked...</td>\n      <td>['prepared pizza crust', 'sausage patty', 'egg...</td>\n      <td>6</td>\n      <td>31490</td>\n      <td>3.5</td>\n      <td>4</td>\n      <td>[5481, 6324, 2499, 4717, 6276, 1170]</td>\n    </tr>\n    <tr>\n      <th>2</th>\n      <td>all in the kitchen  chili</td>\n      <td>112140</td>\n      <td>130</td>\n      <td>[269.8, 22.0, 32.0, 48.0, 39.0, 27.0, 5.0]</td>\n      <td>196586</td>\n      <td>2005-02-25</td>\n      <td>6</td>\n      <td>['brown ground beef in large pot', 'add choppe...</td>\n      <td>this modified version of 'mom's' chili was a h...</td>\n      <td>['ground beef', 'yellow onions', 'diced tomato...</td>\n      <td>13</td>\n      <td>112140</td>\n      <td>4.0</td>\n      <td>1</td>\n      <td>NaN</td>\n    </tr>\n    <tr>\n      <th>3</th>\n      <td>alouette  potatoes</td>\n      <td>59389</td>\n      <td>45</td>\n      <td>[368.1, 17.0, 10.0, 2.0, 14.0, 8.0, 20.0]</td>\n      <td>68585</td>\n      <td>2003-04-14</td>\n      <td>11</td>\n      <td>['place potatoes in a large pot of lightly sal...</td>\n      <td>this is a super easy, great tasting, make ahea...</td>\n      <td>['spreadable cheese with garlic and herbs', 'n...</td>\n      <td>11</td>\n      <td>59389</td>\n      <td>4.5</td>\n      <td>2</td>\n      <td>[1170, 4918, 6426, 5185, 7099, 5006, 6009, 627...</td>\n    </tr>\n    <tr>\n      <th>4</th>\n      <td>amish  tomato ketchup  for canning</td>\n      <td>44061</td>\n      <td>190</td>\n      <td>[352.9, 1.0, 337.0, 23.0, 3.0, 0.0, 28.0]</td>\n      <td>41706</td>\n      <td>2002-10-25</td>\n      <td>5</td>\n      <td>['mix all ingredients&amp; boil for 2 1 / 2 hours ...</td>\n      <td>my dh's amish mother raised him on this recipe...</td>\n      <td>['tomato juice', 'apple cider vinegar', 'sugar...</td>\n      <td>8</td>\n      <td>44061</td>\n      <td>5.0</td>\n      <td>1</td>\n      <td>NaN</td>\n    </tr>\n    <tr>\n      <th>...</th>\n      <td>...</td>\n      <td>...</td>\n      <td>...</td>\n      <td>...</td>\n      <td>...</td>\n      <td>...</td>\n      <td>...</td>\n      <td>...</td>\n      <td>...</td>\n      <td>...</td>\n      <td>...</td>\n      <td>...</td>\n      <td>...</td>\n      <td>...</td>\n      <td>...</td>\n    </tr>\n    <tr>\n      <th>231632</th>\n      <td>zydeco soup</td>\n      <td>486161</td>\n      <td>60</td>\n      <td>[415.2, 26.0, 34.0, 26.0, 44.0, 21.0, 15.0]</td>\n      <td>227978</td>\n      <td>2012-08-29</td>\n      <td>7</td>\n      <td>['heat oil in a 4-quart dutch oven', 'add cele...</td>\n      <td>this is a delicious soup that i originally fou...</td>\n      <td>['celery', 'onion', 'green sweet pepper', 'gar...</td>\n      <td>22</td>\n      <td>486161</td>\n      <td>5.0</td>\n      <td>6</td>\n      <td>NaN</td>\n    </tr>\n    <tr>\n      <th>231633</th>\n      <td>zydeco spice mix</td>\n      <td>493372</td>\n      <td>5</td>\n      <td>[14.8, 0.0, 2.0, 58.0, 1.0, 0.0, 1.0]</td>\n      <td>1500678</td>\n      <td>2013-01-09</td>\n      <td>1</td>\n      <td>['mix all ingredients together thoroughly']</td>\n      <td>this spice mix will make your taste buds dance!</td>\n      <td>['paprika', 'salt', 'garlic powder', 'onion po...</td>\n      <td>13</td>\n      <td>493372</td>\n      <td>5.0</td>\n      <td>1</td>\n      <td>NaN</td>\n    </tr>\n    <tr>\n      <th>231634</th>\n      <td>zydeco ya ya deviled eggs</td>\n      <td>308080</td>\n      <td>40</td>\n      <td>[59.2, 6.0, 2.0, 3.0, 6.0, 5.0, 0.0]</td>\n      <td>37779</td>\n      <td>2008-06-07</td>\n      <td>7</td>\n      <td>['in a bowl , combine the mashed yolks and may...</td>\n      <td>deviled eggs, cajun-style</td>\n      <td>['hard-cooked eggs', 'mayonnaise', 'dijon must...</td>\n      <td>8</td>\n      <td>308080</td>\n      <td>5.0</td>\n      <td>5</td>\n      <td>[3627, 4623, 2148, 905, 7049, 6270, 590, 2822]</td>\n    </tr>\n    <tr>\n      <th>231635</th>\n      <td>cookies by design   cookies on a stick</td>\n      <td>298512</td>\n      <td>29</td>\n      <td>[188.0, 11.0, 57.0, 11.0, 7.0, 21.0, 9.0]</td>\n      <td>506822</td>\n      <td>2008-04-15</td>\n      <td>9</td>\n      <td>['place melted butter in a large mixing bowl a...</td>\n      <td>i've heard of the 'cookies by design' company,...</td>\n      <td>['butter', 'eagle brand condensed milk', 'ligh...</td>\n      <td>10</td>\n      <td>298512</td>\n      <td>1.0</td>\n      <td>1</td>\n      <td>NaN</td>\n    </tr>\n    <tr>\n      <th>231636</th>\n      <td>cookies by design   sugar shortbread cookies</td>\n      <td>298509</td>\n      <td>20</td>\n      <td>[174.9, 14.0, 33.0, 4.0, 4.0, 11.0, 6.0]</td>\n      <td>506822</td>\n      <td>2008-04-15</td>\n      <td>5</td>\n      <td>['whip sugar and shortening in a large bowl , ...</td>\n      <td>i've heard of the 'cookies by design' company,...</td>\n      <td>['granulated sugar', 'shortening', 'eggs', 'fl...</td>\n      <td>7</td>\n      <td>298509</td>\n      <td>2.0</td>\n      <td>3</td>\n      <td>NaN</td>\n    </tr>\n  </tbody>\n</table>\n<p>231637 rows × 15 columns</p>\n</div>"
     },
     "execution_count": 92,
     "metadata": {},
     "output_type": "execute_result"
    }
   ],
   "source": [
    "food_df"
   ],
   "metadata": {
    "collapsed": false,
    "pycharm": {
     "name": "#%%\n"
    }
   }
  },
  {
   "cell_type": "code",
   "execution_count": 93,
   "outputs": [
    {
     "name": "stdout",
     "output_type": "stream",
     "text": [
      "9.0\n"
     ]
    }
   ],
   "source": [
    "#Show the number of votes possesed by the top 10% meals, based on number of votes\n",
    "q=newRatingSet['votes'].quantile(0.9)\n",
    "print(q)"
   ],
   "metadata": {
    "collapsed": false,
    "pycharm": {
     "name": "#%%\n"
    }
   }
  },
  {
   "cell_type": "code",
   "execution_count": 94,
   "outputs": [
    {
     "data": {
      "text/plain": "                                                name      id  minutes  \\\n0         arriba   baked winter squash mexican style  137739       55   \n1                   a bit different  breakfast pizza   31490       30   \n2                          all in the kitchen  chili  112140      130   \n3                                 alouette  potatoes   59389       45   \n4                 amish  tomato ketchup  for canning   44061      190   \n...                                              ...     ...      ...   \n231632                                   zydeco soup  486161       60   \n231633                              zydeco spice mix  493372        5   \n231634                     zydeco ya ya deviled eggs  308080       40   \n231635        cookies by design   cookies on a stick  298512       29   \n231636  cookies by design   sugar shortbread cookies  298509       20   \n\n                                          nutrition  contributor_id  \\\n0             [51.5, 0.0, 13.0, 0.0, 2.0, 0.0, 4.0]           47892   \n1         [173.4, 18.0, 0.0, 17.0, 22.0, 35.0, 1.0]           26278   \n2        [269.8, 22.0, 32.0, 48.0, 39.0, 27.0, 5.0]          196586   \n3         [368.1, 17.0, 10.0, 2.0, 14.0, 8.0, 20.0]           68585   \n4         [352.9, 1.0, 337.0, 23.0, 3.0, 0.0, 28.0]           41706   \n...                                             ...             ...   \n231632  [415.2, 26.0, 34.0, 26.0, 44.0, 21.0, 15.0]          227978   \n231633        [14.8, 0.0, 2.0, 58.0, 1.0, 0.0, 1.0]         1500678   \n231634         [59.2, 6.0, 2.0, 3.0, 6.0, 5.0, 0.0]           37779   \n231635    [188.0, 11.0, 57.0, 11.0, 7.0, 21.0, 9.0]          506822   \n231636     [174.9, 14.0, 33.0, 4.0, 4.0, 11.0, 6.0]          506822   \n\n         submitted  n_steps  \\\n0       2005-09-16       11   \n1       2002-06-17        9   \n2       2005-02-25        6   \n3       2003-04-14       11   \n4       2002-10-25        5   \n...            ...      ...   \n231632  2012-08-29        7   \n231633  2013-01-09        1   \n231634  2008-06-07        7   \n231635  2008-04-15        9   \n231636  2008-04-15        5   \n\n                                                    steps  \\\n0       ['make a choice and proceed with recipe', 'dep...   \n1       ['preheat oven to 425 degrees f', 'press dough...   \n2       ['brown ground beef in large pot', 'add choppe...   \n3       ['place potatoes in a large pot of lightly sal...   \n4       ['mix all ingredients& boil for 2 1 / 2 hours ...   \n...                                                   ...   \n231632  ['heat oil in a 4-quart dutch oven', 'add cele...   \n231633        ['mix all ingredients together thoroughly']   \n231634  ['in a bowl , combine the mashed yolks and may...   \n231635  ['place melted butter in a large mixing bowl a...   \n231636  ['whip sugar and shortening in a large bowl , ...   \n\n                                              description  \\\n0       autumn is my favorite time of year to cook! th...   \n1       this recipe calls for the crust to be prebaked...   \n2       this modified version of 'mom's' chili was a h...   \n3       this is a super easy, great tasting, make ahea...   \n4       my dh's amish mother raised him on this recipe...   \n...                                                   ...   \n231632  this is a delicious soup that i originally fou...   \n231633    this spice mix will make your taste buds dance!   \n231634                          deviled eggs, cajun-style   \n231635  i've heard of the 'cookies by design' company,...   \n231636  i've heard of the 'cookies by design' company,...   \n\n                                              ingredients  n_ingredients  \\\n0       ['winter squash', 'mexican seasoning', 'mixed ...              7   \n1       ['prepared pizza crust', 'sausage patty', 'egg...              6   \n2       ['ground beef', 'yellow onions', 'diced tomato...             13   \n3       ['spreadable cheese with garlic and herbs', 'n...             11   \n4       ['tomato juice', 'apple cider vinegar', 'sugar...              8   \n...                                                   ...            ...   \n231632  ['celery', 'onion', 'green sweet pepper', 'gar...             22   \n231633  ['paprika', 'salt', 'garlic powder', 'onion po...             13   \n231634  ['hard-cooked eggs', 'mayonnaise', 'dijon must...              8   \n231635  ['butter', 'eagle brand condensed milk', 'ligh...             10   \n231636  ['granulated sugar', 'shortening', 'eggs', 'fl...              7   \n\n        recipe_id  average_rating  votes  \\\n0          137739             5.0      3   \n1           31490             3.5      4   \n2          112140             4.0      1   \n3           59389             4.5      2   \n4           44061             5.0      1   \n...           ...             ...    ...   \n231632     486161             5.0      6   \n231633     493372             5.0      1   \n231634     308080             5.0      5   \n231635     298512             1.0      1   \n231636     298509             2.0      3   \n\n                                           ingredient_ids  \n0               [7933, 4694, 4795, 3723, 840, 5006, 6270]  \n1                    [5481, 6324, 2499, 4717, 6276, 1170]  \n2                                                     NaN  \n3       [1170, 4918, 6426, 5185, 7099, 5006, 6009, 627...  \n4                                                     NaN  \n...                                                   ...  \n231632                                                NaN  \n231633                                                NaN  \n231634     [3627, 4623, 2148, 905, 7049, 6270, 590, 2822]  \n231635                                                NaN  \n231636                                                NaN  \n\n[231637 rows x 15 columns]",
      "text/html": "<div>\n<style scoped>\n    .dataframe tbody tr th:only-of-type {\n        vertical-align: middle;\n    }\n\n    .dataframe tbody tr th {\n        vertical-align: top;\n    }\n\n    .dataframe thead th {\n        text-align: right;\n    }\n</style>\n<table border=\"1\" class=\"dataframe\">\n  <thead>\n    <tr style=\"text-align: right;\">\n      <th></th>\n      <th>name</th>\n      <th>id</th>\n      <th>minutes</th>\n      <th>nutrition</th>\n      <th>contributor_id</th>\n      <th>submitted</th>\n      <th>n_steps</th>\n      <th>steps</th>\n      <th>description</th>\n      <th>ingredients</th>\n      <th>n_ingredients</th>\n      <th>recipe_id</th>\n      <th>average_rating</th>\n      <th>votes</th>\n      <th>ingredient_ids</th>\n    </tr>\n  </thead>\n  <tbody>\n    <tr>\n      <th>0</th>\n      <td>arriba   baked winter squash mexican style</td>\n      <td>137739</td>\n      <td>55</td>\n      <td>[51.5, 0.0, 13.0, 0.0, 2.0, 0.0, 4.0]</td>\n      <td>47892</td>\n      <td>2005-09-16</td>\n      <td>11</td>\n      <td>['make a choice and proceed with recipe', 'dep...</td>\n      <td>autumn is my favorite time of year to cook! th...</td>\n      <td>['winter squash', 'mexican seasoning', 'mixed ...</td>\n      <td>7</td>\n      <td>137739</td>\n      <td>5.0</td>\n      <td>3</td>\n      <td>[7933, 4694, 4795, 3723, 840, 5006, 6270]</td>\n    </tr>\n    <tr>\n      <th>1</th>\n      <td>a bit different  breakfast pizza</td>\n      <td>31490</td>\n      <td>30</td>\n      <td>[173.4, 18.0, 0.0, 17.0, 22.0, 35.0, 1.0]</td>\n      <td>26278</td>\n      <td>2002-06-17</td>\n      <td>9</td>\n      <td>['preheat oven to 425 degrees f', 'press dough...</td>\n      <td>this recipe calls for the crust to be prebaked...</td>\n      <td>['prepared pizza crust', 'sausage patty', 'egg...</td>\n      <td>6</td>\n      <td>31490</td>\n      <td>3.5</td>\n      <td>4</td>\n      <td>[5481, 6324, 2499, 4717, 6276, 1170]</td>\n    </tr>\n    <tr>\n      <th>2</th>\n      <td>all in the kitchen  chili</td>\n      <td>112140</td>\n      <td>130</td>\n      <td>[269.8, 22.0, 32.0, 48.0, 39.0, 27.0, 5.0]</td>\n      <td>196586</td>\n      <td>2005-02-25</td>\n      <td>6</td>\n      <td>['brown ground beef in large pot', 'add choppe...</td>\n      <td>this modified version of 'mom's' chili was a h...</td>\n      <td>['ground beef', 'yellow onions', 'diced tomato...</td>\n      <td>13</td>\n      <td>112140</td>\n      <td>4.0</td>\n      <td>1</td>\n      <td>NaN</td>\n    </tr>\n    <tr>\n      <th>3</th>\n      <td>alouette  potatoes</td>\n      <td>59389</td>\n      <td>45</td>\n      <td>[368.1, 17.0, 10.0, 2.0, 14.0, 8.0, 20.0]</td>\n      <td>68585</td>\n      <td>2003-04-14</td>\n      <td>11</td>\n      <td>['place potatoes in a large pot of lightly sal...</td>\n      <td>this is a super easy, great tasting, make ahea...</td>\n      <td>['spreadable cheese with garlic and herbs', 'n...</td>\n      <td>11</td>\n      <td>59389</td>\n      <td>4.5</td>\n      <td>2</td>\n      <td>[1170, 4918, 6426, 5185, 7099, 5006, 6009, 627...</td>\n    </tr>\n    <tr>\n      <th>4</th>\n      <td>amish  tomato ketchup  for canning</td>\n      <td>44061</td>\n      <td>190</td>\n      <td>[352.9, 1.0, 337.0, 23.0, 3.0, 0.0, 28.0]</td>\n      <td>41706</td>\n      <td>2002-10-25</td>\n      <td>5</td>\n      <td>['mix all ingredients&amp; boil for 2 1 / 2 hours ...</td>\n      <td>my dh's amish mother raised him on this recipe...</td>\n      <td>['tomato juice', 'apple cider vinegar', 'sugar...</td>\n      <td>8</td>\n      <td>44061</td>\n      <td>5.0</td>\n      <td>1</td>\n      <td>NaN</td>\n    </tr>\n    <tr>\n      <th>...</th>\n      <td>...</td>\n      <td>...</td>\n      <td>...</td>\n      <td>...</td>\n      <td>...</td>\n      <td>...</td>\n      <td>...</td>\n      <td>...</td>\n      <td>...</td>\n      <td>...</td>\n      <td>...</td>\n      <td>...</td>\n      <td>...</td>\n      <td>...</td>\n      <td>...</td>\n    </tr>\n    <tr>\n      <th>231632</th>\n      <td>zydeco soup</td>\n      <td>486161</td>\n      <td>60</td>\n      <td>[415.2, 26.0, 34.0, 26.0, 44.0, 21.0, 15.0]</td>\n      <td>227978</td>\n      <td>2012-08-29</td>\n      <td>7</td>\n      <td>['heat oil in a 4-quart dutch oven', 'add cele...</td>\n      <td>this is a delicious soup that i originally fou...</td>\n      <td>['celery', 'onion', 'green sweet pepper', 'gar...</td>\n      <td>22</td>\n      <td>486161</td>\n      <td>5.0</td>\n      <td>6</td>\n      <td>NaN</td>\n    </tr>\n    <tr>\n      <th>231633</th>\n      <td>zydeco spice mix</td>\n      <td>493372</td>\n      <td>5</td>\n      <td>[14.8, 0.0, 2.0, 58.0, 1.0, 0.0, 1.0]</td>\n      <td>1500678</td>\n      <td>2013-01-09</td>\n      <td>1</td>\n      <td>['mix all ingredients together thoroughly']</td>\n      <td>this spice mix will make your taste buds dance!</td>\n      <td>['paprika', 'salt', 'garlic powder', 'onion po...</td>\n      <td>13</td>\n      <td>493372</td>\n      <td>5.0</td>\n      <td>1</td>\n      <td>NaN</td>\n    </tr>\n    <tr>\n      <th>231634</th>\n      <td>zydeco ya ya deviled eggs</td>\n      <td>308080</td>\n      <td>40</td>\n      <td>[59.2, 6.0, 2.0, 3.0, 6.0, 5.0, 0.0]</td>\n      <td>37779</td>\n      <td>2008-06-07</td>\n      <td>7</td>\n      <td>['in a bowl , combine the mashed yolks and may...</td>\n      <td>deviled eggs, cajun-style</td>\n      <td>['hard-cooked eggs', 'mayonnaise', 'dijon must...</td>\n      <td>8</td>\n      <td>308080</td>\n      <td>5.0</td>\n      <td>5</td>\n      <td>[3627, 4623, 2148, 905, 7049, 6270, 590, 2822]</td>\n    </tr>\n    <tr>\n      <th>231635</th>\n      <td>cookies by design   cookies on a stick</td>\n      <td>298512</td>\n      <td>29</td>\n      <td>[188.0, 11.0, 57.0, 11.0, 7.0, 21.0, 9.0]</td>\n      <td>506822</td>\n      <td>2008-04-15</td>\n      <td>9</td>\n      <td>['place melted butter in a large mixing bowl a...</td>\n      <td>i've heard of the 'cookies by design' company,...</td>\n      <td>['butter', 'eagle brand condensed milk', 'ligh...</td>\n      <td>10</td>\n      <td>298512</td>\n      <td>1.0</td>\n      <td>1</td>\n      <td>NaN</td>\n    </tr>\n    <tr>\n      <th>231636</th>\n      <td>cookies by design   sugar shortbread cookies</td>\n      <td>298509</td>\n      <td>20</td>\n      <td>[174.9, 14.0, 33.0, 4.0, 4.0, 11.0, 6.0]</td>\n      <td>506822</td>\n      <td>2008-04-15</td>\n      <td>5</td>\n      <td>['whip sugar and shortening in a large bowl , ...</td>\n      <td>i've heard of the 'cookies by design' company,...</td>\n      <td>['granulated sugar', 'shortening', 'eggs', 'fl...</td>\n      <td>7</td>\n      <td>298509</td>\n      <td>2.0</td>\n      <td>3</td>\n      <td>NaN</td>\n    </tr>\n  </tbody>\n</table>\n<p>231637 rows × 15 columns</p>\n</div>"
     },
     "execution_count": 94,
     "metadata": {},
     "output_type": "execute_result"
    }
   ],
   "source": [
    "food_df"
   ],
   "metadata": {
    "collapsed": false,
    "pycharm": {
     "name": "#%%\n"
    }
   }
  },
  {
   "cell_type": "markdown",
   "source": [
    "# Quality of the Data Sets"
   ],
   "metadata": {
    "collapsed": false,
    "pycharm": {
     "name": "#%% md\n"
    }
   }
  },
  {
   "cell_type": "code",
   "execution_count": 95,
   "outputs": [
    {
     "data": {
      "text/plain": "name                  1\nid                    0\nminutes               0\nnutrition             0\ncontributor_id        0\nsubmitted             0\nn_steps               0\nsteps                 0\ndescription        4979\ningredients           0\nn_ingredients         0\nrecipe_id             0\naverage_rating        0\nvotes                 0\ningredient_ids    53372\ndtype: int64"
     },
     "execution_count": 95,
     "metadata": {},
     "output_type": "execute_result"
    }
   ],
   "source": [
    "MissingValues = food_df.isnull().sum()\n",
    "MissingValues"
   ],
   "metadata": {
    "collapsed": false,
    "pycharm": {
     "name": "#%%\n"
    }
   }
  },
  {
   "cell_type": "markdown",
   "source": [
    "These methods will clean up missing values withing describtions and names by replacing them with a string."
   ],
   "metadata": {
    "collapsed": false,
    "pycharm": {
     "name": "#%% md\n"
    }
   }
  },
  {
   "cell_type": "code",
   "execution_count": 96,
   "outputs": [],
   "source": [
    "def cleanNullValName():\n",
    "    food_df['name'].fillna(\"unknown\",inplace=True)\n",
    "    response = food_df.isnull().sum()\n",
    "    return response\n",
    "\n",
    "def cleanNullValDescribtion():\n",
    "    if(food_df['description'].isnull().sum() > 1):\n",
    "        food_df['description'].fillna(\"unknown\",inplace=True)\n",
    "        response = food_df.isnull().sum()\n",
    "        response\n",
    "        print(\"null values removed\")\n",
    "    else:\n",
    "        print(\"no null values\")\n",
    "\n",
    "def cleanNullValIngredients():\n",
    "    if(food_df['ingredient_ids'].isnull().sum() > 1):\n",
    "        food_df['ingredient_ids'].fillna(\"unknown\",inplace=True)\n",
    "        response = food_df.isnull().sum()\n",
    "        response\n",
    "        print(\"null values removed\")\n",
    "    else:\n",
    "        print(\"no null values\")"
   ],
   "metadata": {
    "collapsed": false,
    "pycharm": {
     "name": "#%%\n"
    }
   }
  },
  {
   "cell_type": "markdown",
   "source": [],
   "metadata": {
    "collapsed": false,
    "pycharm": {
     "name": "#%% md\n"
    }
   }
  },
  {
   "cell_type": "markdown",
   "source": [
    "Clean describtions"
   ],
   "metadata": {
    "collapsed": false,
    "pycharm": {
     "name": "#%% md\n"
    }
   }
  },
  {
   "cell_type": "code",
   "execution_count": 97,
   "outputs": [
    {
     "name": "stdout",
     "output_type": "stream",
     "text": [
      "null values removed\n",
      "null values removed\n"
     ]
    }
   ],
   "source": [
    "cleanNullValName()\n",
    "cleanNullValDescribtion()\n",
    "cleanNullValIngredients()"
   ],
   "metadata": {
    "collapsed": false,
    "pycharm": {
     "name": "#%%\n"
    }
   }
  },
  {
   "cell_type": "markdown",
   "source": [
    "## Now that the missing values are cleaned we can proceed with editing preferences"
   ],
   "metadata": {
    "collapsed": false,
    "pycharm": {
     "name": "#%% md\n"
    }
   }
  },
  {
   "cell_type": "code",
   "execution_count": 98,
   "outputs": [
    {
     "name": "stdout",
     "output_type": "stream",
     "text": [
      "<class 'pandas.core.frame.DataFrame'>\n",
      "Int64Index: 231637 entries, 0 to 231636\n",
      "Data columns (total 15 columns):\n",
      " #   Column          Non-Null Count   Dtype  \n",
      "---  ------          --------------   -----  \n",
      " 0   name            231637 non-null  object \n",
      " 1   id              231637 non-null  int64  \n",
      " 2   minutes         231637 non-null  int64  \n",
      " 3   nutrition       231637 non-null  object \n",
      " 4   contributor_id  231637 non-null  int64  \n",
      " 5   submitted       231637 non-null  object \n",
      " 6   n_steps         231637 non-null  int64  \n",
      " 7   steps           231637 non-null  object \n",
      " 8   description     231637 non-null  object \n",
      " 9   ingredients     231637 non-null  object \n",
      " 10  n_ingredients   231637 non-null  int64  \n",
      " 11  recipe_id       231637 non-null  int64  \n",
      " 12  average_rating  231637 non-null  float64\n",
      " 13  votes           231637 non-null  int64  \n",
      " 14  ingredient_ids  231637 non-null  object \n",
      "dtypes: float64(1), int64(7), object(7)\n",
      "memory usage: 28.3+ MB\n"
     ]
    }
   ],
   "source": [
    "food_df.info()"
   ],
   "metadata": {
    "collapsed": false,
    "pycharm": {
     "name": "#%%\n"
    }
   }
  },
  {
   "cell_type": "markdown",
   "source": [
    "### To save additional memory I can convert the int data types from 64 to 32"
   ],
   "metadata": {
    "collapsed": false,
    "pycharm": {
     "name": "#%% md\n"
    }
   }
  },
  {
   "cell_type": "code",
   "execution_count": 99,
   "outputs": [
    {
     "name": "stdout",
     "output_type": "stream",
     "text": [
      "<class 'pandas.core.frame.DataFrame'>\n",
      "Int64Index: 231637 entries, 0 to 231636\n",
      "Data columns (total 15 columns):\n",
      " #   Column          Non-Null Count   Dtype  \n",
      "---  ------          --------------   -----  \n",
      " 0   name            231637 non-null  object \n",
      " 1   id              231637 non-null  int32  \n",
      " 2   minutes         231637 non-null  int32  \n",
      " 3   nutrition       231637 non-null  object \n",
      " 4   contributor_id  231637 non-null  int32  \n",
      " 5   submitted       231637 non-null  object \n",
      " 6   n_steps         231637 non-null  int32  \n",
      " 7   steps           231637 non-null  object \n",
      " 8   description     231637 non-null  object \n",
      " 9   ingredients     231637 non-null  object \n",
      " 10  n_ingredients   231637 non-null  int32  \n",
      " 11  recipe_id       231637 non-null  int32  \n",
      " 12  average_rating  231637 non-null  float64\n",
      " 13  votes           231637 non-null  int32  \n",
      " 14  ingredient_ids  231637 non-null  object \n",
      "dtypes: float64(1), int32(7), object(7)\n",
      "memory usage: 22.1+ MB\n"
     ]
    }
   ],
   "source": [
    "def convertDataSetsToInt32():\n",
    "    food_df.id = food_df.id.astype('int32')\n",
    "    food_df.contributor_id = food_df.contributor_id.astype('int32')\n",
    "    food_df.minutes = food_df.minutes.astype('int32')\n",
    "    food_df.n_steps = food_df.n_steps.astype('int32')\n",
    "    food_df.n_ingredients = food_df.n_ingredients.astype('int32')\n",
    "    food_df.recipe_id = food_df.recipe_id.astype('int32')\n",
    "    food_df.votes = food_df.votes.astype('int32')\n",
    "    food_df.info()\n",
    "\n",
    "convertDataSetsToInt32()"
   ],
   "metadata": {
    "collapsed": false,
    "pycharm": {
     "name": "#%%\n"
    }
   }
  },
  {
   "cell_type": "markdown",
   "source": [],
   "metadata": {
    "collapsed": false,
    "pycharm": {
     "name": "#%% md\n"
    }
   }
  },
  {
   "cell_type": "code",
   "execution_count": 100,
   "outputs": [
    {
     "data": {
      "text/plain": "                                                name      id  minutes  \\\n0         arriba   baked winter squash mexican style  137739       55   \n1                   a bit different  breakfast pizza   31490       30   \n2                          all in the kitchen  chili  112140      130   \n3                                 alouette  potatoes   59389       45   \n4                 amish  tomato ketchup  for canning   44061      190   \n...                                              ...     ...      ...   \n231632                                   zydeco soup  486161       60   \n231633                              zydeco spice mix  493372        5   \n231634                     zydeco ya ya deviled eggs  308080       40   \n231635        cookies by design   cookies on a stick  298512       29   \n231636  cookies by design   sugar shortbread cookies  298509       20   \n\n                                          nutrition  contributor_id  \\\n0             [51.5, 0.0, 13.0, 0.0, 2.0, 0.0, 4.0]           47892   \n1         [173.4, 18.0, 0.0, 17.0, 22.0, 35.0, 1.0]           26278   \n2        [269.8, 22.0, 32.0, 48.0, 39.0, 27.0, 5.0]          196586   \n3         [368.1, 17.0, 10.0, 2.0, 14.0, 8.0, 20.0]           68585   \n4         [352.9, 1.0, 337.0, 23.0, 3.0, 0.0, 28.0]           41706   \n...                                             ...             ...   \n231632  [415.2, 26.0, 34.0, 26.0, 44.0, 21.0, 15.0]          227978   \n231633        [14.8, 0.0, 2.0, 58.0, 1.0, 0.0, 1.0]         1500678   \n231634         [59.2, 6.0, 2.0, 3.0, 6.0, 5.0, 0.0]           37779   \n231635    [188.0, 11.0, 57.0, 11.0, 7.0, 21.0, 9.0]          506822   \n231636     [174.9, 14.0, 33.0, 4.0, 4.0, 11.0, 6.0]          506822   \n\n         submitted  n_steps  \\\n0       2005-09-16       11   \n1       2002-06-17        9   \n2       2005-02-25        6   \n3       2003-04-14       11   \n4       2002-10-25        5   \n...            ...      ...   \n231632  2012-08-29        7   \n231633  2013-01-09        1   \n231634  2008-06-07        7   \n231635  2008-04-15        9   \n231636  2008-04-15        5   \n\n                                                    steps  \\\n0       ['make a choice and proceed with recipe', 'dep...   \n1       ['preheat oven to 425 degrees f', 'press dough...   \n2       ['brown ground beef in large pot', 'add choppe...   \n3       ['place potatoes in a large pot of lightly sal...   \n4       ['mix all ingredients& boil for 2 1 / 2 hours ...   \n...                                                   ...   \n231632  ['heat oil in a 4-quart dutch oven', 'add cele...   \n231633        ['mix all ingredients together thoroughly']   \n231634  ['in a bowl , combine the mashed yolks and may...   \n231635  ['place melted butter in a large mixing bowl a...   \n231636  ['whip sugar and shortening in a large bowl , ...   \n\n                                              description  \\\n0       autumn is my favorite time of year to cook! th...   \n1       this recipe calls for the crust to be prebaked...   \n2       this modified version of 'mom's' chili was a h...   \n3       this is a super easy, great tasting, make ahea...   \n4       my dh's amish mother raised him on this recipe...   \n...                                                   ...   \n231632  this is a delicious soup that i originally fou...   \n231633    this spice mix will make your taste buds dance!   \n231634                          deviled eggs, cajun-style   \n231635  i've heard of the 'cookies by design' company,...   \n231636  i've heard of the 'cookies by design' company,...   \n\n                                              ingredients  n_ingredients  \\\n0       ['winter squash', 'mexican seasoning', 'mixed ...              7   \n1       ['prepared pizza crust', 'sausage patty', 'egg...              6   \n2       ['ground beef', 'yellow onions', 'diced tomato...             13   \n3       ['spreadable cheese with garlic and herbs', 'n...             11   \n4       ['tomato juice', 'apple cider vinegar', 'sugar...              8   \n...                                                   ...            ...   \n231632  ['celery', 'onion', 'green sweet pepper', 'gar...             22   \n231633  ['paprika', 'salt', 'garlic powder', 'onion po...             13   \n231634  ['hard-cooked eggs', 'mayonnaise', 'dijon must...              8   \n231635  ['butter', 'eagle brand condensed milk', 'ligh...             10   \n231636  ['granulated sugar', 'shortening', 'eggs', 'fl...              7   \n\n        recipe_id  average_rating  votes  \\\n0          137739             5.0      3   \n1           31490             3.5      4   \n2          112140             4.0      1   \n3           59389             4.5      2   \n4           44061             5.0      1   \n...           ...             ...    ...   \n231632     486161             5.0      6   \n231633     493372             5.0      1   \n231634     308080             5.0      5   \n231635     298512             1.0      1   \n231636     298509             2.0      3   \n\n                                           ingredient_ids  \n0               [7933, 4694, 4795, 3723, 840, 5006, 6270]  \n1                    [5481, 6324, 2499, 4717, 6276, 1170]  \n2                                                 unknown  \n3       [1170, 4918, 6426, 5185, 7099, 5006, 6009, 627...  \n4                                                 unknown  \n...                                                   ...  \n231632                                            unknown  \n231633                                            unknown  \n231634     [3627, 4623, 2148, 905, 7049, 6270, 590, 2822]  \n231635                                            unknown  \n231636                                            unknown  \n\n[231637 rows x 15 columns]",
      "text/html": "<div>\n<style scoped>\n    .dataframe tbody tr th:only-of-type {\n        vertical-align: middle;\n    }\n\n    .dataframe tbody tr th {\n        vertical-align: top;\n    }\n\n    .dataframe thead th {\n        text-align: right;\n    }\n</style>\n<table border=\"1\" class=\"dataframe\">\n  <thead>\n    <tr style=\"text-align: right;\">\n      <th></th>\n      <th>name</th>\n      <th>id</th>\n      <th>minutes</th>\n      <th>nutrition</th>\n      <th>contributor_id</th>\n      <th>submitted</th>\n      <th>n_steps</th>\n      <th>steps</th>\n      <th>description</th>\n      <th>ingredients</th>\n      <th>n_ingredients</th>\n      <th>recipe_id</th>\n      <th>average_rating</th>\n      <th>votes</th>\n      <th>ingredient_ids</th>\n    </tr>\n  </thead>\n  <tbody>\n    <tr>\n      <th>0</th>\n      <td>arriba   baked winter squash mexican style</td>\n      <td>137739</td>\n      <td>55</td>\n      <td>[51.5, 0.0, 13.0, 0.0, 2.0, 0.0, 4.0]</td>\n      <td>47892</td>\n      <td>2005-09-16</td>\n      <td>11</td>\n      <td>['make a choice and proceed with recipe', 'dep...</td>\n      <td>autumn is my favorite time of year to cook! th...</td>\n      <td>['winter squash', 'mexican seasoning', 'mixed ...</td>\n      <td>7</td>\n      <td>137739</td>\n      <td>5.0</td>\n      <td>3</td>\n      <td>[7933, 4694, 4795, 3723, 840, 5006, 6270]</td>\n    </tr>\n    <tr>\n      <th>1</th>\n      <td>a bit different  breakfast pizza</td>\n      <td>31490</td>\n      <td>30</td>\n      <td>[173.4, 18.0, 0.0, 17.0, 22.0, 35.0, 1.0]</td>\n      <td>26278</td>\n      <td>2002-06-17</td>\n      <td>9</td>\n      <td>['preheat oven to 425 degrees f', 'press dough...</td>\n      <td>this recipe calls for the crust to be prebaked...</td>\n      <td>['prepared pizza crust', 'sausage patty', 'egg...</td>\n      <td>6</td>\n      <td>31490</td>\n      <td>3.5</td>\n      <td>4</td>\n      <td>[5481, 6324, 2499, 4717, 6276, 1170]</td>\n    </tr>\n    <tr>\n      <th>2</th>\n      <td>all in the kitchen  chili</td>\n      <td>112140</td>\n      <td>130</td>\n      <td>[269.8, 22.0, 32.0, 48.0, 39.0, 27.0, 5.0]</td>\n      <td>196586</td>\n      <td>2005-02-25</td>\n      <td>6</td>\n      <td>['brown ground beef in large pot', 'add choppe...</td>\n      <td>this modified version of 'mom's' chili was a h...</td>\n      <td>['ground beef', 'yellow onions', 'diced tomato...</td>\n      <td>13</td>\n      <td>112140</td>\n      <td>4.0</td>\n      <td>1</td>\n      <td>unknown</td>\n    </tr>\n    <tr>\n      <th>3</th>\n      <td>alouette  potatoes</td>\n      <td>59389</td>\n      <td>45</td>\n      <td>[368.1, 17.0, 10.0, 2.0, 14.0, 8.0, 20.0]</td>\n      <td>68585</td>\n      <td>2003-04-14</td>\n      <td>11</td>\n      <td>['place potatoes in a large pot of lightly sal...</td>\n      <td>this is a super easy, great tasting, make ahea...</td>\n      <td>['spreadable cheese with garlic and herbs', 'n...</td>\n      <td>11</td>\n      <td>59389</td>\n      <td>4.5</td>\n      <td>2</td>\n      <td>[1170, 4918, 6426, 5185, 7099, 5006, 6009, 627...</td>\n    </tr>\n    <tr>\n      <th>4</th>\n      <td>amish  tomato ketchup  for canning</td>\n      <td>44061</td>\n      <td>190</td>\n      <td>[352.9, 1.0, 337.0, 23.0, 3.0, 0.0, 28.0]</td>\n      <td>41706</td>\n      <td>2002-10-25</td>\n      <td>5</td>\n      <td>['mix all ingredients&amp; boil for 2 1 / 2 hours ...</td>\n      <td>my dh's amish mother raised him on this recipe...</td>\n      <td>['tomato juice', 'apple cider vinegar', 'sugar...</td>\n      <td>8</td>\n      <td>44061</td>\n      <td>5.0</td>\n      <td>1</td>\n      <td>unknown</td>\n    </tr>\n    <tr>\n      <th>...</th>\n      <td>...</td>\n      <td>...</td>\n      <td>...</td>\n      <td>...</td>\n      <td>...</td>\n      <td>...</td>\n      <td>...</td>\n      <td>...</td>\n      <td>...</td>\n      <td>...</td>\n      <td>...</td>\n      <td>...</td>\n      <td>...</td>\n      <td>...</td>\n      <td>...</td>\n    </tr>\n    <tr>\n      <th>231632</th>\n      <td>zydeco soup</td>\n      <td>486161</td>\n      <td>60</td>\n      <td>[415.2, 26.0, 34.0, 26.0, 44.0, 21.0, 15.0]</td>\n      <td>227978</td>\n      <td>2012-08-29</td>\n      <td>7</td>\n      <td>['heat oil in a 4-quart dutch oven', 'add cele...</td>\n      <td>this is a delicious soup that i originally fou...</td>\n      <td>['celery', 'onion', 'green sweet pepper', 'gar...</td>\n      <td>22</td>\n      <td>486161</td>\n      <td>5.0</td>\n      <td>6</td>\n      <td>unknown</td>\n    </tr>\n    <tr>\n      <th>231633</th>\n      <td>zydeco spice mix</td>\n      <td>493372</td>\n      <td>5</td>\n      <td>[14.8, 0.0, 2.0, 58.0, 1.0, 0.0, 1.0]</td>\n      <td>1500678</td>\n      <td>2013-01-09</td>\n      <td>1</td>\n      <td>['mix all ingredients together thoroughly']</td>\n      <td>this spice mix will make your taste buds dance!</td>\n      <td>['paprika', 'salt', 'garlic powder', 'onion po...</td>\n      <td>13</td>\n      <td>493372</td>\n      <td>5.0</td>\n      <td>1</td>\n      <td>unknown</td>\n    </tr>\n    <tr>\n      <th>231634</th>\n      <td>zydeco ya ya deviled eggs</td>\n      <td>308080</td>\n      <td>40</td>\n      <td>[59.2, 6.0, 2.0, 3.0, 6.0, 5.0, 0.0]</td>\n      <td>37779</td>\n      <td>2008-06-07</td>\n      <td>7</td>\n      <td>['in a bowl , combine the mashed yolks and may...</td>\n      <td>deviled eggs, cajun-style</td>\n      <td>['hard-cooked eggs', 'mayonnaise', 'dijon must...</td>\n      <td>8</td>\n      <td>308080</td>\n      <td>5.0</td>\n      <td>5</td>\n      <td>[3627, 4623, 2148, 905, 7049, 6270, 590, 2822]</td>\n    </tr>\n    <tr>\n      <th>231635</th>\n      <td>cookies by design   cookies on a stick</td>\n      <td>298512</td>\n      <td>29</td>\n      <td>[188.0, 11.0, 57.0, 11.0, 7.0, 21.0, 9.0]</td>\n      <td>506822</td>\n      <td>2008-04-15</td>\n      <td>9</td>\n      <td>['place melted butter in a large mixing bowl a...</td>\n      <td>i've heard of the 'cookies by design' company,...</td>\n      <td>['butter', 'eagle brand condensed milk', 'ligh...</td>\n      <td>10</td>\n      <td>298512</td>\n      <td>1.0</td>\n      <td>1</td>\n      <td>unknown</td>\n    </tr>\n    <tr>\n      <th>231636</th>\n      <td>cookies by design   sugar shortbread cookies</td>\n      <td>298509</td>\n      <td>20</td>\n      <td>[174.9, 14.0, 33.0, 4.0, 4.0, 11.0, 6.0]</td>\n      <td>506822</td>\n      <td>2008-04-15</td>\n      <td>5</td>\n      <td>['whip sugar and shortening in a large bowl , ...</td>\n      <td>i've heard of the 'cookies by design' company,...</td>\n      <td>['granulated sugar', 'shortening', 'eggs', 'fl...</td>\n      <td>7</td>\n      <td>298509</td>\n      <td>2.0</td>\n      <td>3</td>\n      <td>unknown</td>\n    </tr>\n  </tbody>\n</table>\n<p>231637 rows × 15 columns</p>\n</div>"
     },
     "execution_count": 100,
     "metadata": {},
     "output_type": "execute_result"
    }
   ],
   "source": [
    "food_df"
   ],
   "metadata": {
    "collapsed": false,
    "pycharm": {
     "name": "#%%\n"
    }
   }
  },
  {
   "cell_type": "markdown",
   "source": [
    "No more missing values"
   ],
   "metadata": {
    "collapsed": false,
    "pycharm": {
     "name": "#%% md\n"
    }
   }
  },
  {
   "cell_type": "code",
   "execution_count": 101,
   "outputs": [
    {
     "data": {
      "text/plain": "name              0\nid                0\nminutes           0\nnutrition         0\ncontributor_id    0\nsubmitted         0\nn_steps           0\nsteps             0\ndescription       0\ningredients       0\nn_ingredients     0\nrecipe_id         0\naverage_rating    0\nvotes             0\ningredient_ids    0\ndtype: int64"
     },
     "execution_count": 101,
     "metadata": {},
     "output_type": "execute_result"
    }
   ],
   "source": [
    "MissingValues = food_df.isnull().sum()\n",
    "MissingValues"
   ],
   "metadata": {
    "collapsed": false,
    "pycharm": {
     "name": "#%%\n"
    }
   }
  },
  {
   "cell_type": "markdown",
   "source": [
    "## Removing unnecesary symbols in datasets"
   ],
   "metadata": {
    "collapsed": false,
    "pycharm": {
     "name": "#%% md\n"
    }
   }
  },
  {
   "cell_type": "code",
   "execution_count": 102,
   "outputs": [],
   "source": [
    "def dataSetCleanUp():\n",
    "    food_df['name'] = food_df['name'].str.replace('\\'s', '')\n",
    "    food_df['ingredients'] = food_df['ingredients'].str.replace('(\\[|\\])', '')\n",
    "    food_df['ingredients'] = food_df['ingredients'].str.replace('(\\')', '')\n",
    "    food_df['steps'] = food_df['steps'].str.replace('(\\[|\\])', '')\n",
    "    food_df['ingredient_ids'] = food_df['ingredient_ids'].str.replace('(\\[|\\])', '')\n",
    "    food_df['steps'] = food_df['steps'].str.replace('(\\')', '')"
   ],
   "metadata": {
    "collapsed": false,
    "pycharm": {
     "name": "#%%\n"
    }
   }
  },
  {
   "cell_type": "code",
   "execution_count": 103,
   "outputs": [
    {
     "name": "stderr",
     "output_type": "stream",
     "text": [
      "C:\\Users\\evald\\AppData\\Local\\Temp\\ipykernel_15956\\3577813700.py:3: FutureWarning: The default value of regex will change from True to False in a future version.\n",
      "  food_df['ingredients'] = food_df['ingredients'].str.replace('(\\[|\\])', '')\n",
      "C:\\Users\\evald\\AppData\\Local\\Temp\\ipykernel_15956\\3577813700.py:4: FutureWarning: The default value of regex will change from True to False in a future version.\n",
      "  food_df['ingredients'] = food_df['ingredients'].str.replace('(\\')', '')\n",
      "C:\\Users\\evald\\AppData\\Local\\Temp\\ipykernel_15956\\3577813700.py:5: FutureWarning: The default value of regex will change from True to False in a future version.\n",
      "  food_df['steps'] = food_df['steps'].str.replace('(\\[|\\])', '')\n",
      "C:\\Users\\evald\\AppData\\Local\\Temp\\ipykernel_15956\\3577813700.py:6: FutureWarning: The default value of regex will change from True to False in a future version.\n",
      "  food_df['ingredient_ids'] = food_df['ingredient_ids'].str.replace('(\\[|\\])', '')\n",
      "C:\\Users\\evald\\AppData\\Local\\Temp\\ipykernel_15956\\3577813700.py:7: FutureWarning: The default value of regex will change from True to False in a future version.\n",
      "  food_df['steps'] = food_df['steps'].str.replace('(\\')', '')\n"
     ]
    }
   ],
   "source": [
    "dataSetCleanUp()"
   ],
   "metadata": {
    "collapsed": false,
    "pycharm": {
     "name": "#%%\n"
    }
   }
  },
  {
   "cell_type": "code",
   "execution_count": 104,
   "outputs": [
    {
     "data": {
      "text/plain": "                  id       minutes  contributor_id        n_steps  \\\ncount  231637.000000  2.316370e+05    2.316370e+05  231637.000000   \nmean   222014.708984  9.398546e+03    5.534885e+06       9.765499   \nstd    141206.635626  4.461963e+06    9.979141e+07       5.995128   \nmin        38.000000  0.000000e+00    2.700000e+01       0.000000   \n25%     99944.000000  2.000000e+01    5.690500e+04       6.000000   \n50%    207249.000000  4.000000e+01    1.736140e+05       9.000000   \n75%    333816.000000  6.500000e+01    3.982750e+05      12.000000   \nmax    537716.000000  2.147484e+09    2.002290e+09     145.000000   \n\n       n_ingredients      recipe_id  average_rating          votes  \ncount  231637.000000  231637.000000   231637.000000  231637.000000  \nmean        9.051153  222014.708984        4.346246       4.888541  \nstd         3.734796  141206.635626        0.990806      17.532481  \nmin         1.000000      38.000000        0.000000       1.000000  \n25%         6.000000   99944.000000        4.000000       1.000000  \n50%         9.000000  207249.000000        4.714286       2.000000  \n75%        11.000000  333816.000000        5.000000       4.000000  \nmax        43.000000  537716.000000        5.000000    1613.000000  ",
      "text/html": "<div>\n<style scoped>\n    .dataframe tbody tr th:only-of-type {\n        vertical-align: middle;\n    }\n\n    .dataframe tbody tr th {\n        vertical-align: top;\n    }\n\n    .dataframe thead th {\n        text-align: right;\n    }\n</style>\n<table border=\"1\" class=\"dataframe\">\n  <thead>\n    <tr style=\"text-align: right;\">\n      <th></th>\n      <th>id</th>\n      <th>minutes</th>\n      <th>contributor_id</th>\n      <th>n_steps</th>\n      <th>n_ingredients</th>\n      <th>recipe_id</th>\n      <th>average_rating</th>\n      <th>votes</th>\n    </tr>\n  </thead>\n  <tbody>\n    <tr>\n      <th>count</th>\n      <td>231637.000000</td>\n      <td>2.316370e+05</td>\n      <td>2.316370e+05</td>\n      <td>231637.000000</td>\n      <td>231637.000000</td>\n      <td>231637.000000</td>\n      <td>231637.000000</td>\n      <td>231637.000000</td>\n    </tr>\n    <tr>\n      <th>mean</th>\n      <td>222014.708984</td>\n      <td>9.398546e+03</td>\n      <td>5.534885e+06</td>\n      <td>9.765499</td>\n      <td>9.051153</td>\n      <td>222014.708984</td>\n      <td>4.346246</td>\n      <td>4.888541</td>\n    </tr>\n    <tr>\n      <th>std</th>\n      <td>141206.635626</td>\n      <td>4.461963e+06</td>\n      <td>9.979141e+07</td>\n      <td>5.995128</td>\n      <td>3.734796</td>\n      <td>141206.635626</td>\n      <td>0.990806</td>\n      <td>17.532481</td>\n    </tr>\n    <tr>\n      <th>min</th>\n      <td>38.000000</td>\n      <td>0.000000e+00</td>\n      <td>2.700000e+01</td>\n      <td>0.000000</td>\n      <td>1.000000</td>\n      <td>38.000000</td>\n      <td>0.000000</td>\n      <td>1.000000</td>\n    </tr>\n    <tr>\n      <th>25%</th>\n      <td>99944.000000</td>\n      <td>2.000000e+01</td>\n      <td>5.690500e+04</td>\n      <td>6.000000</td>\n      <td>6.000000</td>\n      <td>99944.000000</td>\n      <td>4.000000</td>\n      <td>1.000000</td>\n    </tr>\n    <tr>\n      <th>50%</th>\n      <td>207249.000000</td>\n      <td>4.000000e+01</td>\n      <td>1.736140e+05</td>\n      <td>9.000000</td>\n      <td>9.000000</td>\n      <td>207249.000000</td>\n      <td>4.714286</td>\n      <td>2.000000</td>\n    </tr>\n    <tr>\n      <th>75%</th>\n      <td>333816.000000</td>\n      <td>6.500000e+01</td>\n      <td>3.982750e+05</td>\n      <td>12.000000</td>\n      <td>11.000000</td>\n      <td>333816.000000</td>\n      <td>5.000000</td>\n      <td>4.000000</td>\n    </tr>\n    <tr>\n      <th>max</th>\n      <td>537716.000000</td>\n      <td>2.147484e+09</td>\n      <td>2.002290e+09</td>\n      <td>145.000000</td>\n      <td>43.000000</td>\n      <td>537716.000000</td>\n      <td>5.000000</td>\n      <td>1613.000000</td>\n    </tr>\n  </tbody>\n</table>\n</div>"
     },
     "execution_count": 104,
     "metadata": {},
     "output_type": "execute_result"
    }
   ],
   "source": [
    "food_df.describe()"
   ],
   "metadata": {
    "collapsed": false,
    "pycharm": {
     "name": "#%%\n"
    }
   }
  },
  {
   "cell_type": "markdown",
   "source": [
    "# Defining liked and disliked ingredients"
   ],
   "metadata": {
    "collapsed": false,
    "pycharm": {
     "name": "#%% md\n"
    }
   }
  },
  {
   "cell_type": "code",
   "execution_count": 105,
   "outputs": [],
   "source": [
    "IngredientPreference = food_df.__deepcopy__()\n",
    "\n",
    "# let's define some polarising ingredients\n",
    "liked_ingredients = [\"cheese\", \"pizza\", \"avocado\", \"chicken\"]\n",
    "hated_ingredients = [\"spinach\", \"mushroom\", \"olive\", \"beef\", \"truffle\", \"blue cheese\"]\n",
    "\n",
    "\n",
    "# let's add a \"like\" property\n",
    "IngredientPreference[\"like\"] = 0\n",
    "\n",
    "# and populate our data\n",
    "IngredientPreference.loc[IngredientPreference.ingredients.str.lower().str.contains(\"|\".join(hated_ingredients)), \"like\"] = -1\n",
    "IngredientPreference.loc[IngredientPreference.ingredients.str.lower().str.contains(\"|\".join(liked_ingredients)), \"like\"] = +1"
   ],
   "metadata": {
    "collapsed": false,
    "pycharm": {
     "name": "#%%\n"
    }
   }
  },
  {
   "cell_type": "code",
   "execution_count": 106,
   "outputs": [
    {
     "data": {
      "text/plain": "                                                name      id  minutes  \\\n0         arriba   baked winter squash mexican style  137739       55   \n1                   a bit different  breakfast pizza   31490       30   \n2                          all in the kitchen  chili  112140      130   \n3                                 alouette  potatoes   59389       45   \n4                 amish  tomato ketchup  for canning   44061      190   \n...                                              ...     ...      ...   \n231632                                   zydeco soup  486161       60   \n231633                              zydeco spice mix  493372        5   \n231634                     zydeco ya ya deviled eggs  308080       40   \n231635        cookies by design   cookies on a stick  298512       29   \n231636  cookies by design   sugar shortbread cookies  298509       20   \n\n                                          nutrition  contributor_id  \\\n0             [51.5, 0.0, 13.0, 0.0, 2.0, 0.0, 4.0]           47892   \n1         [173.4, 18.0, 0.0, 17.0, 22.0, 35.0, 1.0]           26278   \n2        [269.8, 22.0, 32.0, 48.0, 39.0, 27.0, 5.0]          196586   \n3         [368.1, 17.0, 10.0, 2.0, 14.0, 8.0, 20.0]           68585   \n4         [352.9, 1.0, 337.0, 23.0, 3.0, 0.0, 28.0]           41706   \n...                                             ...             ...   \n231632  [415.2, 26.0, 34.0, 26.0, 44.0, 21.0, 15.0]          227978   \n231633        [14.8, 0.0, 2.0, 58.0, 1.0, 0.0, 1.0]         1500678   \n231634         [59.2, 6.0, 2.0, 3.0, 6.0, 5.0, 0.0]           37779   \n231635    [188.0, 11.0, 57.0, 11.0, 7.0, 21.0, 9.0]          506822   \n231636     [174.9, 14.0, 33.0, 4.0, 4.0, 11.0, 6.0]          506822   \n\n         submitted  n_steps  \\\n0       2005-09-16       11   \n1       2002-06-17        9   \n2       2005-02-25        6   \n3       2003-04-14       11   \n4       2002-10-25        5   \n...            ...      ...   \n231632  2012-08-29        7   \n231633  2013-01-09        1   \n231634  2008-06-07        7   \n231635  2008-04-15        9   \n231636  2008-04-15        5   \n\n                                                    steps  \\\n0       make a choice and proceed with recipe, dependi...   \n1       preheat oven to 425 degrees f, press dough int...   \n2       brown ground beef in large pot, add chopped on...   \n3       place potatoes in a large pot of lightly salte...   \n4       mix all ingredients& boil for 2 1 / 2 hours , ...   \n...                                                   ...   \n231632  heat oil in a 4-quart dutch oven, add celery ,...   \n231633            mix all ingredients together thoroughly   \n231634  in a bowl , combine the mashed yolks and mayon...   \n231635  place melted butter in a large mixing bowl and...   \n231636  whip sugar and shortening in a large bowl , ad...   \n\n                                              description  \\\n0       autumn is my favorite time of year to cook! th...   \n1       this recipe calls for the crust to be prebaked...   \n2       this modified version of 'mom's' chili was a h...   \n3       this is a super easy, great tasting, make ahea...   \n4       my dh's amish mother raised him on this recipe...   \n...                                                   ...   \n231632  this is a delicious soup that i originally fou...   \n231633    this spice mix will make your taste buds dance!   \n231634                          deviled eggs, cajun-style   \n231635  i've heard of the 'cookies by design' company,...   \n231636  i've heard of the 'cookies by design' company,...   \n\n                                              ingredients  n_ingredients  \\\n0       winter squash, mexican seasoning, mixed spice,...              7   \n1       prepared pizza crust, sausage patty, eggs, mil...              6   \n2       ground beef, yellow onions, diced tomatoes, to...             13   \n3       spreadable cheese with garlic and herbs, new p...             11   \n4       tomato juice, apple cider vinegar, sugar, salt...              8   \n...                                                   ...            ...   \n231632  celery, onion, green sweet pepper, garlic clov...             22   \n231633  paprika, salt, garlic powder, onion powder, dr...             13   \n231634  hard-cooked eggs, mayonnaise, dijon mustard, s...              8   \n231635  butter, eagle brand condensed milk, light brow...             10   \n231636  granulated sugar, shortening, eggs, flour, cre...              7   \n\n        recipe_id  average_rating  votes  \\\n0          137739             5.0      3   \n1           31490             3.5      4   \n2          112140             4.0      1   \n3           59389             4.5      2   \n4           44061             5.0      1   \n...           ...             ...    ...   \n231632     486161             5.0      6   \n231633     493372             5.0      1   \n231634     308080             5.0      5   \n231635     298512             1.0      1   \n231636     298509             2.0      3   \n\n                                           ingredient_ids  like  \n0                 7933, 4694, 4795, 3723, 840, 5006, 6270    -1  \n1                      5481, 6324, 2499, 4717, 6276, 1170     1  \n2                                                 unknown     1  \n3       1170, 4918, 6426, 5185, 7099, 5006, 6009, 6270...     1  \n4                                                 unknown     0  \n...                                                   ...   ...  \n231632                                            unknown     1  \n231633                                            unknown     0  \n231634       3627, 4623, 2148, 905, 7049, 6270, 590, 2822     0  \n231635                                            unknown     0  \n231636                                            unknown     0  \n\n[231637 rows x 16 columns]",
      "text/html": "<div>\n<style scoped>\n    .dataframe tbody tr th:only-of-type {\n        vertical-align: middle;\n    }\n\n    .dataframe tbody tr th {\n        vertical-align: top;\n    }\n\n    .dataframe thead th {\n        text-align: right;\n    }\n</style>\n<table border=\"1\" class=\"dataframe\">\n  <thead>\n    <tr style=\"text-align: right;\">\n      <th></th>\n      <th>name</th>\n      <th>id</th>\n      <th>minutes</th>\n      <th>nutrition</th>\n      <th>contributor_id</th>\n      <th>submitted</th>\n      <th>n_steps</th>\n      <th>steps</th>\n      <th>description</th>\n      <th>ingredients</th>\n      <th>n_ingredients</th>\n      <th>recipe_id</th>\n      <th>average_rating</th>\n      <th>votes</th>\n      <th>ingredient_ids</th>\n      <th>like</th>\n    </tr>\n  </thead>\n  <tbody>\n    <tr>\n      <th>0</th>\n      <td>arriba   baked winter squash mexican style</td>\n      <td>137739</td>\n      <td>55</td>\n      <td>[51.5, 0.0, 13.0, 0.0, 2.0, 0.0, 4.0]</td>\n      <td>47892</td>\n      <td>2005-09-16</td>\n      <td>11</td>\n      <td>make a choice and proceed with recipe, dependi...</td>\n      <td>autumn is my favorite time of year to cook! th...</td>\n      <td>winter squash, mexican seasoning, mixed spice,...</td>\n      <td>7</td>\n      <td>137739</td>\n      <td>5.0</td>\n      <td>3</td>\n      <td>7933, 4694, 4795, 3723, 840, 5006, 6270</td>\n      <td>-1</td>\n    </tr>\n    <tr>\n      <th>1</th>\n      <td>a bit different  breakfast pizza</td>\n      <td>31490</td>\n      <td>30</td>\n      <td>[173.4, 18.0, 0.0, 17.0, 22.0, 35.0, 1.0]</td>\n      <td>26278</td>\n      <td>2002-06-17</td>\n      <td>9</td>\n      <td>preheat oven to 425 degrees f, press dough int...</td>\n      <td>this recipe calls for the crust to be prebaked...</td>\n      <td>prepared pizza crust, sausage patty, eggs, mil...</td>\n      <td>6</td>\n      <td>31490</td>\n      <td>3.5</td>\n      <td>4</td>\n      <td>5481, 6324, 2499, 4717, 6276, 1170</td>\n      <td>1</td>\n    </tr>\n    <tr>\n      <th>2</th>\n      <td>all in the kitchen  chili</td>\n      <td>112140</td>\n      <td>130</td>\n      <td>[269.8, 22.0, 32.0, 48.0, 39.0, 27.0, 5.0]</td>\n      <td>196586</td>\n      <td>2005-02-25</td>\n      <td>6</td>\n      <td>brown ground beef in large pot, add chopped on...</td>\n      <td>this modified version of 'mom's' chili was a h...</td>\n      <td>ground beef, yellow onions, diced tomatoes, to...</td>\n      <td>13</td>\n      <td>112140</td>\n      <td>4.0</td>\n      <td>1</td>\n      <td>unknown</td>\n      <td>1</td>\n    </tr>\n    <tr>\n      <th>3</th>\n      <td>alouette  potatoes</td>\n      <td>59389</td>\n      <td>45</td>\n      <td>[368.1, 17.0, 10.0, 2.0, 14.0, 8.0, 20.0]</td>\n      <td>68585</td>\n      <td>2003-04-14</td>\n      <td>11</td>\n      <td>place potatoes in a large pot of lightly salte...</td>\n      <td>this is a super easy, great tasting, make ahea...</td>\n      <td>spreadable cheese with garlic and herbs, new p...</td>\n      <td>11</td>\n      <td>59389</td>\n      <td>4.5</td>\n      <td>2</td>\n      <td>1170, 4918, 6426, 5185, 7099, 5006, 6009, 6270...</td>\n      <td>1</td>\n    </tr>\n    <tr>\n      <th>4</th>\n      <td>amish  tomato ketchup  for canning</td>\n      <td>44061</td>\n      <td>190</td>\n      <td>[352.9, 1.0, 337.0, 23.0, 3.0, 0.0, 28.0]</td>\n      <td>41706</td>\n      <td>2002-10-25</td>\n      <td>5</td>\n      <td>mix all ingredients&amp; boil for 2 1 / 2 hours , ...</td>\n      <td>my dh's amish mother raised him on this recipe...</td>\n      <td>tomato juice, apple cider vinegar, sugar, salt...</td>\n      <td>8</td>\n      <td>44061</td>\n      <td>5.0</td>\n      <td>1</td>\n      <td>unknown</td>\n      <td>0</td>\n    </tr>\n    <tr>\n      <th>...</th>\n      <td>...</td>\n      <td>...</td>\n      <td>...</td>\n      <td>...</td>\n      <td>...</td>\n      <td>...</td>\n      <td>...</td>\n      <td>...</td>\n      <td>...</td>\n      <td>...</td>\n      <td>...</td>\n      <td>...</td>\n      <td>...</td>\n      <td>...</td>\n      <td>...</td>\n      <td>...</td>\n    </tr>\n    <tr>\n      <th>231632</th>\n      <td>zydeco soup</td>\n      <td>486161</td>\n      <td>60</td>\n      <td>[415.2, 26.0, 34.0, 26.0, 44.0, 21.0, 15.0]</td>\n      <td>227978</td>\n      <td>2012-08-29</td>\n      <td>7</td>\n      <td>heat oil in a 4-quart dutch oven, add celery ,...</td>\n      <td>this is a delicious soup that i originally fou...</td>\n      <td>celery, onion, green sweet pepper, garlic clov...</td>\n      <td>22</td>\n      <td>486161</td>\n      <td>5.0</td>\n      <td>6</td>\n      <td>unknown</td>\n      <td>1</td>\n    </tr>\n    <tr>\n      <th>231633</th>\n      <td>zydeco spice mix</td>\n      <td>493372</td>\n      <td>5</td>\n      <td>[14.8, 0.0, 2.0, 58.0, 1.0, 0.0, 1.0]</td>\n      <td>1500678</td>\n      <td>2013-01-09</td>\n      <td>1</td>\n      <td>mix all ingredients together thoroughly</td>\n      <td>this spice mix will make your taste buds dance!</td>\n      <td>paprika, salt, garlic powder, onion powder, dr...</td>\n      <td>13</td>\n      <td>493372</td>\n      <td>5.0</td>\n      <td>1</td>\n      <td>unknown</td>\n      <td>0</td>\n    </tr>\n    <tr>\n      <th>231634</th>\n      <td>zydeco ya ya deviled eggs</td>\n      <td>308080</td>\n      <td>40</td>\n      <td>[59.2, 6.0, 2.0, 3.0, 6.0, 5.0, 0.0]</td>\n      <td>37779</td>\n      <td>2008-06-07</td>\n      <td>7</td>\n      <td>in a bowl , combine the mashed yolks and mayon...</td>\n      <td>deviled eggs, cajun-style</td>\n      <td>hard-cooked eggs, mayonnaise, dijon mustard, s...</td>\n      <td>8</td>\n      <td>308080</td>\n      <td>5.0</td>\n      <td>5</td>\n      <td>3627, 4623, 2148, 905, 7049, 6270, 590, 2822</td>\n      <td>0</td>\n    </tr>\n    <tr>\n      <th>231635</th>\n      <td>cookies by design   cookies on a stick</td>\n      <td>298512</td>\n      <td>29</td>\n      <td>[188.0, 11.0, 57.0, 11.0, 7.0, 21.0, 9.0]</td>\n      <td>506822</td>\n      <td>2008-04-15</td>\n      <td>9</td>\n      <td>place melted butter in a large mixing bowl and...</td>\n      <td>i've heard of the 'cookies by design' company,...</td>\n      <td>butter, eagle brand condensed milk, light brow...</td>\n      <td>10</td>\n      <td>298512</td>\n      <td>1.0</td>\n      <td>1</td>\n      <td>unknown</td>\n      <td>0</td>\n    </tr>\n    <tr>\n      <th>231636</th>\n      <td>cookies by design   sugar shortbread cookies</td>\n      <td>298509</td>\n      <td>20</td>\n      <td>[174.9, 14.0, 33.0, 4.0, 4.0, 11.0, 6.0]</td>\n      <td>506822</td>\n      <td>2008-04-15</td>\n      <td>5</td>\n      <td>whip sugar and shortening in a large bowl , ad...</td>\n      <td>i've heard of the 'cookies by design' company,...</td>\n      <td>granulated sugar, shortening, eggs, flour, cre...</td>\n      <td>7</td>\n      <td>298509</td>\n      <td>2.0</td>\n      <td>3</td>\n      <td>unknown</td>\n      <td>0</td>\n    </tr>\n  </tbody>\n</table>\n<p>231637 rows × 16 columns</p>\n</div>"
     },
     "execution_count": 106,
     "metadata": {},
     "output_type": "execute_result"
    }
   ],
   "source": [
    "IngredientPreference"
   ],
   "metadata": {
    "collapsed": false,
    "pycharm": {
     "name": "#%%\n"
    }
   }
  },
  {
   "cell_type": "code",
   "execution_count": null,
   "outputs": [],
   "source": [],
   "metadata": {
    "collapsed": false,
    "pycharm": {
     "name": "#%%\n"
    }
   }
  },
  {
   "cell_type": "markdown",
   "source": [
    "# Preparing the data for plotting"
   ],
   "metadata": {
    "collapsed": false,
    "pycharm": {
     "name": "#%% md\n"
    }
   }
  },
  {
   "cell_type": "code",
   "execution_count": null,
   "outputs": [],
   "source": [],
   "metadata": {
    "collapsed": false,
    "pycharm": {
     "name": "#%%\n"
    }
   }
  },
  {
   "cell_type": "markdown",
   "source": [
    "# Preparing data for machine learning"
   ],
   "metadata": {
    "collapsed": false,
    "pycharm": {
     "name": "#%% md\n"
    }
   }
  },
  {
   "cell_type": "code",
   "execution_count": null,
   "outputs": [],
   "source": [],
   "metadata": {
    "collapsed": false,
    "pycharm": {
     "name": "#%%\n"
    }
   }
  },
  {
   "cell_type": "markdown",
   "source": [
    "# Output results\n",
    "Here I will export the wanted datasets for later use"
   ],
   "metadata": {
    "collapsed": false,
    "pycharm": {
     "name": "#%% md\n"
    }
   }
  },
  {
   "cell_type": "code",
   "execution_count": 126,
   "outputs": [],
   "source": [
    "def compressionToOutputCsv(dataset):\n",
    "    compresionThingie = dict(method='zip',\n",
    "                             archive_name='results.csv')\n",
    "    savedFile = dataset\n",
    "    savedFile.to_csv('datasetPrep.zip',index=False,compression=compresionThingie)"
   ],
   "metadata": {
    "collapsed": false,
    "pycharm": {
     "name": "#%%\n"
    }
   }
  },
  {
   "cell_type": "code",
   "execution_count": 127,
   "outputs": [],
   "source": [
    "# compressionToOutputCsv(IngredientPreference)"
   ],
   "metadata": {
    "collapsed": false,
    "pycharm": {
     "name": "#%%\n"
    }
   }
  },
  {
   "cell_type": "markdown",
   "source": [],
   "metadata": {
    "collapsed": false,
    "pycharm": {
     "name": "#%% md\n"
    }
   }
  }
 ],
 "metadata": {
  "kernelspec": {
   "display_name": "Python 3",
   "language": "python",
   "name": "python3"
  },
  "language_info": {
   "codemirror_mode": {
    "name": "ipython",
    "version": 2
   },
   "file_extension": ".py",
   "mimetype": "text/x-python",
   "name": "python",
   "nbconvert_exporter": "python",
   "pygments_lexer": "ipython2",
   "version": "2.7.6"
  }
 },
 "nbformat": 4,
 "nbformat_minor": 0
}